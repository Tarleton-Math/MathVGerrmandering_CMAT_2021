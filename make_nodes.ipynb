{
 "cells": [
  {
   "cell_type": "code",
   "execution_count": 2,
   "id": "90aac843",
   "metadata": {},
   "outputs": [
    {
     "name": "stdout",
     "output_type": "stream",
     "text": [
      "The autoreload extension is already loaded. To reload it, use:\n",
      "  %reload_ext autoreload\n",
      "/home/jupyter/MathVGerrmandering_CMAT_2021\n",
      "Get crosswalks_TX_2010_tabblock   ... tabblock table exists ... success\n",
      "Get assignments_TX_2020_tabblock  ... tabblock table exists ... success\n",
      "Get shapes_TX_2020_tabblock       ... tabblock table exists ... success\n",
      "Get census_TX_2020_tabblock       ... tabblock table exists ... success\n",
      "Get elections_TX_2020_tabblock    ... tabblock table exists ... success\n",
      "Get nodes_TX_2020_tabblock_sldu_contract0_plans2101 ... raw table exists ... creating table ... success\n",
      "saving table ... reading ... to parquet ... to gcs ... random_seed 0: step 0 0hrs 1min 55.69sec, pop_deviation=5.5, intersect_defect=27, whole_defect=7\n",
      "Get crosswalks_TX_2010_tabblock   ... tabblock table exists ... success\n",
      "Get assignments_TX_2020_tabblock  ... tabblock table exists ... success\n",
      "Get shapes_TX_2020_tabblock       ... tabblock table exists ... success\n",
      "Get census_TX_2020_tabblock       ... tabblock table exists ... success\n",
      "Get elections_TX_2020_tabblock    ... tabblock table exists ... success\n",
      "Get nodes_TX_2020_tabblock_sldu_contract2010_plans2101 ... raw table exists ... creating table ... success\n",
      "saving table ... reading ... to parquet ... to gcs ... random_seed 0: step 0 0hrs 0min 52.59sec, pop_deviation=5.5, intersect_defect=27, whole_defect=7\n",
      "Get crosswalks_TX_2010_tabblock   ... tabblock table exists ... success\n",
      "Get assignments_TX_2020_tabblock  ... tabblock table exists ... success\n",
      "Get shapes_TX_2020_tabblock       ... tabblock table exists ... success\n",
      "Get census_TX_2020_tabblock       ... tabblock table exists ... success\n",
      "Get elections_TX_2020_tabblock    ... tabblock table exists ... success\n",
      "Get nodes_TX_2020_cntyvtd_sldu_contract0_plans2101 ... raw table exists ... creating table ... success\n",
      "saving table ... reading ... to parquet ... to gcs ... random_seed 0: step 0 0hrs 0min 9.41sec, pop_deviation=5.5, intersect_defect=27, whole_defect=7\n",
      "Get crosswalks_TX_2010_tabblock   ... tabblock table exists ... success\n",
      "Get assignments_TX_2020_tabblock  ... tabblock table exists ... success\n",
      "Get shapes_TX_2020_tabblock       ... tabblock table exists ... success\n",
      "Get census_TX_2020_tabblock       ... tabblock table exists ... success\n",
      "Get elections_TX_2020_tabblock    ... tabblock table exists ... success\n",
      "Get nodes_TX_2020_cntyvtd_sldu_contract2010_plans2101 ... raw table exists ... creating table ... success\n",
      "saving table ... reading ... to parquet ... to gcs ... random_seed 0: step 0 0hrs 0min 10.99sec, pop_deviation=5.5, intersect_defect=27, whole_defect=7\n"
     ]
    }
   ],
   "source": [
    "%load_ext autoreload\n",
    "%autoreload\n",
    "%cd /home/jupyter/MathVGerrmandering_CMAT_2021/\n",
    "from src import *\n",
    "from src.nodes import *\n",
    "from src.mcmc import *\n",
    "for level in ['tabblock', 'cntyvtd']:\n",
    "    for contract_thresh in [0, 2010]:#, 0, 10]:\n",
    "        for district_type in ['sldu']:#, 'sldu', 'cd']:\n",
    "            for proposal in ['PLANS2101']:\n",
    "                nodes_opts = {\n",
    "                    'proposal'         : proposal,\n",
    "                    'level'            : level,\n",
    "                    'district_type'    : district_type,\n",
    "                    'contract_thresh'  : contract_thresh,\n",
    "                    'abbr'             : 'TX',\n",
    "                    'refresh_tbl'      : ('nodes'),\n",
    "                }\n",
    "                N = Nodes(**nodes_opts)\n",
    "                N.save_tbl()\n",
    "                M = MCMC(nodes_tbl=N.tbl)\n",
    "                M.init_chain()"
   ]
  },
  {
   "cell_type": "code",
   "execution_count": 3,
   "id": "2229231c",
   "metadata": {},
   "outputs": [
    {
     "ename": "AttributeError",
     "evalue": "'Nodes' object has no attribute 'nodes_df'",
     "output_type": "error",
     "traceback": [
      "\u001b[0;31m---------------------------------------------------------------------------\u001b[0m",
      "\u001b[0;31mAttributeError\u001b[0m                            Traceback (most recent call last)",
      "\u001b[0;32m/tmp/ipykernel_33165/151192197.py\u001b[0m in \u001b[0;36m<module>\u001b[0;34m\u001b[0m\n\u001b[0;32m----> 1\u001b[0;31m \u001b[0mdf\u001b[0m \u001b[0;34m=\u001b[0m \u001b[0mN\u001b[0m\u001b[0;34m.\u001b[0m\u001b[0mnodes_df\u001b[0m\u001b[0;34m\u001b[0m\u001b[0;34m\u001b[0m\u001b[0m\n\u001b[0m",
      "\u001b[0;31mAttributeError\u001b[0m: 'Nodes' object has no attribute 'nodes_df'"
     ]
    }
   ],
   "source": [
    "df = N.nodes_df"
   ]
  }
 ],
 "metadata": {
  "kernelspec": {
   "display_name": "Python 3 (ipykernel)",
   "language": "python",
   "name": "python3"
  },
  "language_info": {
   "codemirror_mode": {
    "name": "ipython",
    "version": 3
   },
   "file_extension": ".py",
   "mimetype": "text/x-python",
   "name": "python",
   "nbconvert_exporter": "python",
   "pygments_lexer": "ipython3",
   "version": "3.7.10"
  }
 },
 "nbformat": 4,
 "nbformat_minor": 5
}
