{
 "cells": [
  {
   "cell_type": "code",
   "execution_count": 1,
   "id": "b3275912",
   "metadata": {},
   "outputs": [
    {
     "ename": "SyntaxError",
     "evalue": "invalid syntax (3528473194.py, line 11)",
     "output_type": "error",
     "traceback": [
      "\u001b[0;36m  File \u001b[0;32m\"/tmp/ipykernel_6663/3528473194.py\"\u001b[0;36m, line \u001b[0;32m11\u001b[0m\n\u001b[0;31m    if contract_thresh > 0 and level not int ['cntyvtd', 'tabblock']:\u001b[0m\n\u001b[0m                                           ^\u001b[0m\n\u001b[0;31mSyntaxError\u001b[0m\u001b[0;31m:\u001b[0m invalid syntax\n"
     ]
    }
   ],
   "source": [
    "%load_ext autoreload\n",
    "%autoreload\n",
    "%cd /home/jupyter/MathVGerrmandering_CMAT_2021/\n",
    "from src import *\n",
    "notebook = True\n",
    "skip_inputs = 'y'\n",
    "run_mcmc = False\n",
    "for contract_thresh in [0, 5, 10, 1, 2, 3, 4, 6, 7, 8, 9]:\n",
    "    for level in Levels:\n",
    "        for district_type in District_types:\n",
    "            if contract_thresh > 0 and level not in ['cntyvtd', 'tabblock']:\n",
    "                continue\n",
    "            nodes_opts = {\n",
    "                'abbr'             : 'TX',\n",
    "                'level'            : level,\n",
    "                'district_type'    : district_type,\n",
    "                'contract_thresh'  : contract_thresh,\n",
    "            }\n",
    "            %run -i redistricter\n",
    "            N.save_tbl()"
   ]
  },
  {
   "cell_type": "code",
   "execution_count": null,
   "id": "cc45ce83",
   "metadata": {},
   "outputs": [],
   "source": []
  }
 ],
 "metadata": {
  "kernelspec": {
   "display_name": "Python 3 (ipykernel)",
   "language": "python",
   "name": "python3"
  },
  "language_info": {
   "codemirror_mode": {
    "name": "ipython",
    "version": 3
   },
   "file_extension": ".py",
   "mimetype": "text/x-python",
   "name": "python",
   "nbconvert_exporter": "python",
   "pygments_lexer": "ipython3",
   "version": "3.7.10"
  }
 },
 "nbformat": 4,
 "nbformat_minor": 5
}
