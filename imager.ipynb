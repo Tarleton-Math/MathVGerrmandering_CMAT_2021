{
 "cells": [
  {
   "cell_type": "code",
   "execution_count": 1,
   "id": "1f2e0e78",
   "metadata": {},
   "outputs": [
    {
     "ename": "NotFound",
     "evalue": "404 Not found: Table cmat-315920:redistricting_data.cook_plans_TX_2020_cntyvtd_cd_stacked was not found in location US\n\n(job ID: 269df8e8-ff2d-41f5-9869-4ec0e9424ef1)\n\n                            -----Query Job SQL Follows-----                            \n\n    |    .    |    .    |    .    |    .    |    .    |    .    |    .    |    .    |\n   1:select * from cmat-315920.redistricting_data.cook_plans_TX_2020_cntyvtd_cd_stacked\n    |    .    |    .    |    .    |    .    |    .    |    .    |    .    |    .    |",
     "output_type": "error",
     "traceback": [
      "\u001b[0;31m---------------------------------------------------------------------------\u001b[0m",
      "\u001b[0;31mNotFound\u001b[0m                                  Traceback (most recent call last)",
      "\u001b[0;32m/tmp/ipykernel_12149/2556201481.py\u001b[0m in \u001b[0;36m<module>\u001b[0;34m\u001b[0m\n\u001b[1;32m     16\u001b[0m \u001b[0mroot_path\u001b[0m \u001b[0;34m=\u001b[0m \u001b[0mpathlib\u001b[0m\u001b[0;34m.\u001b[0m\u001b[0mPath\u001b[0m\u001b[0;34m(\u001b[0m\u001b[0;34m'/home/jupyter'\u001b[0m\u001b[0;34m)\u001b[0m\u001b[0;34m\u001b[0m\u001b[0;34m\u001b[0m\u001b[0m\n\u001b[1;32m     17\u001b[0m \u001b[0mtbl\u001b[0m \u001b[0;34m=\u001b[0m \u001b[0;34mf'{proj_id}.redistricting_data.cook_plans_TX_2020_{level}_{district_type}_stacked'\u001b[0m\u001b[0;34m\u001b[0m\u001b[0;34m\u001b[0m\u001b[0m\n\u001b[0;32m---> 18\u001b[0;31m \u001b[0mdf\u001b[0m \u001b[0;34m=\u001b[0m \u001b[0mbqclient\u001b[0m\u001b[0;34m.\u001b[0m\u001b[0mquery\u001b[0m\u001b[0;34m(\u001b[0m\u001b[0;34mf'select * from {tbl}'\u001b[0m\u001b[0;34m)\u001b[0m\u001b[0;34m.\u001b[0m\u001b[0mresult\u001b[0m\u001b[0;34m(\u001b[0m\u001b[0;34m)\u001b[0m\u001b[0;34m.\u001b[0m\u001b[0mto_dataframe\u001b[0m\u001b[0;34m(\u001b[0m\u001b[0;34m)\u001b[0m\u001b[0;34m.\u001b[0m\u001b[0mrename\u001b[0m\u001b[0;34m(\u001b[0m\u001b[0mcolumns\u001b[0m\u001b[0;34m=\u001b[0m\u001b[0;34m{\u001b[0m\u001b[0;34m'geoid'\u001b[0m\u001b[0;34m:\u001b[0m\u001b[0mdistrict_type\u001b[0m\u001b[0;34m}\u001b[0m\u001b[0;34m)\u001b[0m\u001b[0;34m\u001b[0m\u001b[0;34m\u001b[0m\u001b[0m\n\u001b[0m\u001b[1;32m     19\u001b[0m \u001b[0mgeo\u001b[0m \u001b[0;34m=\u001b[0m \u001b[0mgpd\u001b[0m\u001b[0;34m.\u001b[0m\u001b[0mGeoSeries\u001b[0m\u001b[0;34m.\u001b[0m\u001b[0mfrom_wkt\u001b[0m\u001b[0;34m(\u001b[0m\u001b[0mdf\u001b[0m\u001b[0;34m[\u001b[0m\u001b[0;34m'polygon'\u001b[0m\u001b[0;34m]\u001b[0m\u001b[0;34m,\u001b[0m \u001b[0mcrs\u001b[0m\u001b[0;34m=\u001b[0m\u001b[0;34m'EPSG:4326'\u001b[0m\u001b[0;34m)\u001b[0m\u001b[0;34m.\u001b[0m\u001b[0msimplify\u001b[0m\u001b[0;34m(\u001b[0m\u001b[0;36m0.05\u001b[0m\u001b[0;34m)\u001b[0m\u001b[0;34m.\u001b[0m\u001b[0mbuffer\u001b[0m\u001b[0;34m(\u001b[0m\u001b[0;36m0\u001b[0m\u001b[0;34m)\u001b[0m\u001b[0;34m\u001b[0m\u001b[0;34m\u001b[0m\u001b[0m\n\u001b[1;32m     20\u001b[0m \u001b[0mgdf\u001b[0m \u001b[0;34m=\u001b[0m \u001b[0mgpd\u001b[0m\u001b[0;34m.\u001b[0m\u001b[0mGeoDataFrame\u001b[0m\u001b[0;34m(\u001b[0m\u001b[0mdf\u001b[0m\u001b[0;34m,\u001b[0m \u001b[0mgeometry\u001b[0m\u001b[0;34m=\u001b[0m\u001b[0mgeo\u001b[0m\u001b[0;34m)\u001b[0m\u001b[0;34m\u001b[0m\u001b[0;34m\u001b[0m\u001b[0m\n",
      "\u001b[0;32m/opt/conda/lib/python3.7/site-packages/google/cloud/bigquery/job.py\u001b[0m in \u001b[0;36mresult\u001b[0;34m(self, page_size, max_results, retry, timeout, start_index)\u001b[0m\n\u001b[1;32m   3232\u001b[0m         \"\"\"\n\u001b[1;32m   3233\u001b[0m         \u001b[0;32mtry\u001b[0m\u001b[0;34m:\u001b[0m\u001b[0;34m\u001b[0m\u001b[0;34m\u001b[0m\u001b[0m\n\u001b[0;32m-> 3234\u001b[0;31m             \u001b[0msuper\u001b[0m\u001b[0;34m(\u001b[0m\u001b[0mQueryJob\u001b[0m\u001b[0;34m,\u001b[0m \u001b[0mself\u001b[0m\u001b[0;34m)\u001b[0m\u001b[0;34m.\u001b[0m\u001b[0mresult\u001b[0m\u001b[0;34m(\u001b[0m\u001b[0mretry\u001b[0m\u001b[0;34m=\u001b[0m\u001b[0mretry\u001b[0m\u001b[0;34m,\u001b[0m \u001b[0mtimeout\u001b[0m\u001b[0;34m=\u001b[0m\u001b[0mtimeout\u001b[0m\u001b[0;34m)\u001b[0m\u001b[0;34m\u001b[0m\u001b[0;34m\u001b[0m\u001b[0m\n\u001b[0m\u001b[1;32m   3235\u001b[0m \u001b[0;34m\u001b[0m\u001b[0m\n\u001b[1;32m   3236\u001b[0m             \u001b[0;31m# Return an iterator instead of returning the job.\u001b[0m\u001b[0;34m\u001b[0m\u001b[0;34m\u001b[0m\u001b[0;34m\u001b[0m\u001b[0m\n",
      "\u001b[0;32m/opt/conda/lib/python3.7/site-packages/google/cloud/bigquery/job.py\u001b[0m in \u001b[0;36mresult\u001b[0;34m(self, retry, timeout)\u001b[0m\n\u001b[1;32m    819\u001b[0m             \u001b[0mself\u001b[0m\u001b[0;34m.\u001b[0m\u001b[0m_begin\u001b[0m\u001b[0;34m(\u001b[0m\u001b[0mretry\u001b[0m\u001b[0;34m=\u001b[0m\u001b[0mretry\u001b[0m\u001b[0;34m,\u001b[0m \u001b[0mtimeout\u001b[0m\u001b[0;34m=\u001b[0m\u001b[0mtimeout\u001b[0m\u001b[0;34m)\u001b[0m\u001b[0;34m\u001b[0m\u001b[0;34m\u001b[0m\u001b[0m\n\u001b[1;32m    820\u001b[0m         \u001b[0;31m# TODO: modify PollingFuture so it can pass a retry argument to done().\u001b[0m\u001b[0;34m\u001b[0m\u001b[0;34m\u001b[0m\u001b[0;34m\u001b[0m\u001b[0m\n\u001b[0;32m--> 821\u001b[0;31m         \u001b[0;32mreturn\u001b[0m \u001b[0msuper\u001b[0m\u001b[0;34m(\u001b[0m\u001b[0m_AsyncJob\u001b[0m\u001b[0;34m,\u001b[0m \u001b[0mself\u001b[0m\u001b[0;34m)\u001b[0m\u001b[0;34m.\u001b[0m\u001b[0mresult\u001b[0m\u001b[0;34m(\u001b[0m\u001b[0mtimeout\u001b[0m\u001b[0;34m=\u001b[0m\u001b[0mtimeout\u001b[0m\u001b[0;34m)\u001b[0m\u001b[0;34m\u001b[0m\u001b[0;34m\u001b[0m\u001b[0m\n\u001b[0m\u001b[1;32m    822\u001b[0m \u001b[0;34m\u001b[0m\u001b[0m\n\u001b[1;32m    823\u001b[0m     \u001b[0;32mdef\u001b[0m \u001b[0mcancelled\u001b[0m\u001b[0;34m(\u001b[0m\u001b[0mself\u001b[0m\u001b[0;34m)\u001b[0m\u001b[0;34m:\u001b[0m\u001b[0;34m\u001b[0m\u001b[0;34m\u001b[0m\u001b[0m\n",
      "\u001b[0;32m/opt/conda/lib/python3.7/site-packages/google/api_core/future/polling.py\u001b[0m in \u001b[0;36mresult\u001b[0;34m(self, timeout, retry)\u001b[0m\n\u001b[1;32m    132\u001b[0m             \u001b[0;31m# pylint: disable=raising-bad-type\u001b[0m\u001b[0;34m\u001b[0m\u001b[0;34m\u001b[0m\u001b[0;34m\u001b[0m\u001b[0m\n\u001b[1;32m    133\u001b[0m             \u001b[0;31m# Pylint doesn't recognize that this is valid in this case.\u001b[0m\u001b[0;34m\u001b[0m\u001b[0;34m\u001b[0m\u001b[0;34m\u001b[0m\u001b[0m\n\u001b[0;32m--> 134\u001b[0;31m             \u001b[0;32mraise\u001b[0m \u001b[0mself\u001b[0m\u001b[0;34m.\u001b[0m\u001b[0m_exception\u001b[0m\u001b[0;34m\u001b[0m\u001b[0;34m\u001b[0m\u001b[0m\n\u001b[0m\u001b[1;32m    135\u001b[0m \u001b[0;34m\u001b[0m\u001b[0m\n\u001b[1;32m    136\u001b[0m         \u001b[0;32mreturn\u001b[0m \u001b[0mself\u001b[0m\u001b[0;34m.\u001b[0m\u001b[0m_result\u001b[0m\u001b[0;34m\u001b[0m\u001b[0;34m\u001b[0m\u001b[0m\n",
      "\u001b[0;31mNotFound\u001b[0m: 404 Not found: Table cmat-315920:redistricting_data.cook_plans_TX_2020_cntyvtd_cd_stacked was not found in location US\n\n(job ID: 269df8e8-ff2d-41f5-9869-4ec0e9424ef1)\n\n                            -----Query Job SQL Follows-----                            \n\n    |    .    |    .    |    .    |    .    |    .    |    .    |    .    |    .    |\n   1:select * from cmat-315920.redistricting_data.cook_plans_TX_2020_cntyvtd_cd_stacked\n    |    .    |    .    |    .    |    .    |    .    |    .    |    .    |    .    |"
     ]
    }
   ],
   "source": [
    "level = 'cntyvtd'\n",
    "district_type = 'cd'\n",
    "proj_id = 'cmat-315920'\n",
    "root_path = '/home/jupyter'\n",
    "\n",
    "import os, pathlib, google, numpy as np, pandas as pd, geopandas as gpd, matplotlib.pyplot as plt, plotly.express as px\n",
    "from google.cloud import aiplatform, bigquery\n",
    "try:\n",
    "    from google.cloud.bigquery_storage import BigQueryReadClient\n",
    "except:\n",
    "    os.system('pip install --upgrade google-cloud-bigquery-storage')\n",
    "    from google.cloud.bigquery_storage import BigQueryReadClient\n",
    "\n",
    "cred, proj = google.auth.default(scopes=[\"https://www.googleapis.com/auth/cloud-platform\"])\n",
    "bqclient   = bigquery.Client(credentials=cred, project=proj)\n",
    "root_path = pathlib.Path('/home/jupyter')\n",
    "tbl = f'{proj_id}.redistricting_data.cook_plans_TX_2020_{level}_{district_type}_stacked'\n",
    "df = bqclient.query(f'select * from {tbl}').result().to_dataframe().rename(columns={'geoid':district_type})\n",
    "geo = gpd.GeoSeries.from_wkt(df['polygon'], crs='EPSG:4326').simplify(0.05).buffer(0)\n",
    "gdf = gpd.GeoDataFrame(df, geometry=geo)\n",
    "gdf['color'] = gdf['color'].astype(str)\n",
    "gdf['locations'] = gdf.index"
   ]
  },
  {
   "cell_type": "code",
   "execution_count": null,
   "id": "98d5320e",
   "metadata": {},
   "outputs": [],
   "source": [
    "opts = {\n",
    "    'locations' : 'locations',\n",
    "    'color' : \"color\",\n",
    "    'color_discrete_sequence' : px.colors.qualitative.T10,\n",
    "    'mapbox_style' : 'carto-positron',\n",
    "    'opacity' : .4,\n",
    "    'center' : {'lon': -100.05, 'lat': 31.0},\n",
    "    'hover_data' : {'color':False, 'plan': False, 'locations':False,\n",
    "                    'cd': True, 'total_pop': True, 'polsby_popper': True}\n",
    "}"
   ]
  },
  {
   "cell_type": "code",
   "execution_count": 2,
   "id": "5ebcc227",
   "metadata": {},
   "outputs": [
    {
     "ename": "NameError",
     "evalue": "name 'opts' is not defined",
     "output_type": "error",
     "traceback": [
      "\u001b[0;31m---------------------------------------------------------------------------\u001b[0m",
      "\u001b[0;31mNameError\u001b[0m                                 Traceback (most recent call last)",
      "\u001b[0;32m/tmp/ipykernel_12149/2743938764.py\u001b[0m in \u001b[0;36m<module>\u001b[0;34m\u001b[0m\n\u001b[1;32m     24\u001b[0m \u001b[0;34m\u001b[0m\u001b[0m\n\u001b[1;32m     25\u001b[0m \u001b[0;31m# opts['zoom'] = 3.0; opts['width'] = 310\u001b[0m\u001b[0;34m\u001b[0m\u001b[0;34m\u001b[0m\u001b[0;34m\u001b[0m\u001b[0m\n\u001b[0;32m---> 26\u001b[0;31m \u001b[0mopts\u001b[0m\u001b[0;34m[\u001b[0m\u001b[0;34m'zoom'\u001b[0m\u001b[0;34m]\u001b[0m \u001b[0;34m=\u001b[0m \u001b[0;36m4.0\u001b[0m\u001b[0;34m;\u001b[0m \u001b[0mopts\u001b[0m\u001b[0;34m[\u001b[0m\u001b[0;34m'width'\u001b[0m\u001b[0;34m]\u001b[0m \u001b[0;34m=\u001b[0m \u001b[0;36m460\u001b[0m\u001b[0;34m\u001b[0m\u001b[0;34m\u001b[0m\u001b[0m\n\u001b[0m\u001b[1;32m     27\u001b[0m \u001b[0;31m# opts['zoom'] = 5.0; opts['width'] = 760\u001b[0m\u001b[0;34m\u001b[0m\u001b[0;34m\u001b[0m\u001b[0;34m\u001b[0m\u001b[0m\n\u001b[1;32m     28\u001b[0m \u001b[0;34m\u001b[0m\u001b[0m\n",
      "\u001b[0;31mNameError\u001b[0m: name 'opts' is not defined"
     ]
    }
   ],
   "source": [
    "def make_images(animate=False, num_steps=1000000):\n",
    "    num_steps = min(num_steps, df['plan'].max())\n",
    "    if animate:\n",
    "        opts['height'] = 1.13 * opts['width']\n",
    "        X = gdf.query(f'plan <= {num_steps}')\n",
    "        fig = px.choropleth_mapbox(X, geojson=X.geometry, **opts, animation_frame='plan', animation_group=X[district_type])\n",
    "        fig.update_geos(fitbounds=\"locations\", visible=False)\n",
    "        fig.update(layout_showlegend=False)\n",
    "        fig.write_html(root_path / 'images/recomb.html', auto_play=False)#, include_plotlyjs=True)\n",
    "    else:\n",
    "        opts['height'] = 0.97 * opts['width']\n",
    "        for k in range(num_steps+1):\n",
    "            print(k)\n",
    "            X = gdf.query(f'plan == {k}')\n",
    "            fig = px.choropleth_mapbox(X, geojson=X.geometry, **opts)\n",
    "            fig.update_geos(fitbounds=\"locations\", visible=False)\n",
    "            fig.update(layout_showlegend=False)\n",
    "            dig = len(str(num_steps))\n",
    "            fig.write_html(root_path / f'images/html/recomb_{str(k).rjust(dig,\"0\")}.html')\n",
    "            fig.write_image(root_path / f'images/png/recomb_{str(k).rjust(dig,\"0\")}.png')\n",
    "            fig.write_image(root_path / f'images/svg/recomb_{str(k).rjust(dig,\"0\")}.svg')\n",
    "            fig.write_image(root_path / f'images/eps/recomb_{str(k).rjust(dig,\"0\")}.eps')\n",
    "    return fig\n",
    "\n",
    "# opts['zoom'] = 3.0; opts['width'] = 310\n",
    "opts['zoom'] = 4.0; opts['width'] = 460\n",
    "# opts['zoom'] = 5.0; opts['width'] = 760\n",
    "\n",
    "fig = make_images(animate=False, num_steps=20)\n",
    "fig.show()\n",
    "# fig = make_images(animate=True, num_steps=20)\n",
    "# fig.show()"
   ]
  },
  {
   "cell_type": "code",
   "execution_count": 5,
   "id": "bbebf1d5",
   "metadata": {},
   "outputs": [
    {
     "data": {
      "text/plain": [
       "\u001b[0;31mSignature:\u001b[0m \u001b[0mfig\u001b[0m\u001b[0;34m.\u001b[0m\u001b[0mwrite_image\u001b[0m\u001b[0;34m(\u001b[0m\u001b[0;34m*\u001b[0m\u001b[0margs\u001b[0m\u001b[0;34m,\u001b[0m \u001b[0;34m**\u001b[0m\u001b[0mkwargs\u001b[0m\u001b[0;34m)\u001b[0m\u001b[0;34m\u001b[0m\u001b[0;34m\u001b[0m\u001b[0m\n",
       "\u001b[0;31mDocstring:\u001b[0m\n",
       "Convert a figure to a static image and write it to a file or writeable\n",
       "object\n",
       "\n",
       "Parameters\n",
       "----------\n",
       "file: str or writeable\n",
       "    A string representing a local file path or a writeable object\n",
       "    (e.g. a pathlib.Path object or an open file descriptor)\n",
       "\n",
       "format: str or None\n",
       "    The desired image format. One of\n",
       "      - 'png'\n",
       "      - 'jpg' or 'jpeg'\n",
       "      - 'webp'\n",
       "      - 'svg'\n",
       "      - 'pdf'\n",
       "      - 'eps' (Requires the poppler library to be installed)\n",
       "\n",
       "    If not specified and `file` is a string then this will default to the\n",
       "    file extension. If not specified and `file` is not a string then this\n",
       "    will default to `plotly.io.config.default_format`\n",
       "\n",
       "width: int or None\n",
       "    The width of the exported image in layout pixels. If the `scale`\n",
       "    property is 1.0, this will also be the width of the exported image\n",
       "    in physical pixels.\n",
       "\n",
       "    If not specified, will default to `plotly.io.config.default_width`\n",
       "\n",
       "height: int or None\n",
       "    The height of the exported image in layout pixels. If the `scale`\n",
       "    property is 1.0, this will also be the height of the exported image\n",
       "    in physical pixels.\n",
       "\n",
       "    If not specified, will default to `plotly.io.config.default_height`\n",
       "\n",
       "scale: int or float or None\n",
       "    The scale factor to use when exporting the figure. A scale factor\n",
       "    larger than 1.0 will increase the image resolution with respect\n",
       "    to the figure's layout pixel dimensions. Whereas as scale factor of\n",
       "    less than 1.0 will decrease the image resolution.\n",
       "\n",
       "    If not specified, will default to `plotly.io.config.default_scale`\n",
       "\n",
       "validate: bool\n",
       "    True if the figure should be validated before being converted to\n",
       "    an image, False otherwise.\n",
       "\n",
       "engine: str\n",
       "    Image export engine to use:\n",
       "     - \"kaleido\": Use Kaleido for image export\n",
       "     - \"orca\": Use Orca for image export\n",
       "     - \"auto\" (default): Use Kaleido if installed, otherwise use orca\n",
       "Returns\n",
       "-------\n",
       "None\n",
       "\u001b[0;31mFile:\u001b[0m      /opt/conda/lib/python3.7/site-packages/plotly/basedatatypes.py\n",
       "\u001b[0;31mType:\u001b[0m      method\n"
      ]
     },
     "metadata": {},
     "output_type": "display_data"
    }
   ],
   "source": [
    "fig.write_image?"
   ]
  }
 ],
 "metadata": {
  "kernelspec": {
   "display_name": "Python 3 (ipykernel)",
   "language": "python",
   "name": "python3"
  },
  "language_info": {
   "codemirror_mode": {
    "name": "ipython",
    "version": 3
   },
   "file_extension": ".py",
   "mimetype": "text/x-python",
   "name": "python",
   "nbconvert_exporter": "python",
   "pygments_lexer": "ipython3",
   "version": "3.7.10"
  }
 },
 "nbformat": 4,
 "nbformat_minor": 5
}
