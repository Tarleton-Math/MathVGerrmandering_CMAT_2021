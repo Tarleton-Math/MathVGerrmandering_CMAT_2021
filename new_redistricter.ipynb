{
 "cells": [
  {
   "cell_type": "code",
   "execution_count": 1,
   "id": "0c843754",
   "metadata": {},
   "outputs": [
    {
     "name": "stdout",
     "output_type": "stream",
     "text": [
      "/home/jupyter/MathVGerrmandering_CMAT_2021\n",
      "getting states\n",
      "Get crosswalks  ... downloading zip from https://www2.census.gov/geo/docs/maps-data/data/rel2020/t10t20/TAB2010_TAB2020_ST48.zip ... processing ... creating table ... success!\n",
      "Get assignments ... downloading zip from https://www2.census.gov/geo/docs/maps-data/data/baf2020/BlockAssign_ST48_TX.zip ... processing ... creating table ... success!\n",
      "Get shapes      ... downloading zip from https://www2.census.gov/geo/tiger/TIGER2020/TABBLOCK20/tl_2020_48_tabblock20.zip ... creating raw table ... starting row 0 ... starting row 50000 ... starting row 100000 ... starting row 150000 ... starting row 200000 ... starting row 250000 ... starting row 300000 ... starting row 350000 ... starting row 400000 ... starting row 450000 ... starting row 500000 ... starting row 550000 ... starting row 600000 ... starting row 650000 ... creating table ... success!\n",
      "Get census      ... downloading zip from https://www2.census.gov/programs-surveys/decennial/2020/data/01-Redistricting_File--PL_94-171/Texas/tx2020.pl.zip ... creating raw table ... processing tx000012020.pl ... processing tx000022020.pl ... processing tx000032020.pl ... processing txgeo2020.pl ... joining ... creating table ... success!\n",
      "Get elections   ... downloading zip from https://data.capitol.texas.gov/dataset/aab5e1e5-d585-4542-9ae8-1108f45fce5b/resource/253f5191-73f3-493a-9be3-9e8ba65053a2/download/2020-general-vtd-election-data.zip ... creating raw table ... apportioning votes to blocks proportional to population ... pivoting columns 0 thru 100 ... pivoting columns 100 thru 200 ... pivoting columns 200 thru 300 ... pivoting columns 300 thru 400 ... pivoting columns 400 thru 500 ... pivoting columns 500 thru 600 ... success!\n",
      "Joining         ... creating table ... success!\n"
     ]
    }
   ],
   "source": [
    "%load_ext autoreload\n",
    "%autoreload\n",
    "%cd /home/jupyter/MathVGerrmandering_CMAT_2021/\n",
    "from src import *\n",
    "from src.get_data import *\n",
    "\n",
    "self = Data(shapes_yr=2020,\n",
    "            refresh_all=('crosswalks', 'assignments', 'shapes', 'census', 'elections', 'all'),\n",
    "#             refresh_all=('crosswalks'),\n",
    "#             refresh_tbl=('elections'),\n",
    "           )"
   ]
  },
  {
   "cell_type": "code",
   "execution_count": null,
   "id": "29961347",
   "metadata": {},
   "outputs": [],
   "source": []
  }
 ],
 "metadata": {
  "kernelspec": {
   "display_name": "Python 3 (ipykernel)",
   "language": "python",
   "name": "python3"
  },
  "language_info": {
   "codemirror_mode": {
    "name": "ipython",
    "version": 3
   },
   "file_extension": ".py",
   "mimetype": "text/x-python",
   "name": "python",
   "nbconvert_exporter": "python",
   "pygments_lexer": "ipython3",
   "version": "3.7.10"
  }
 },
 "nbformat": 4,
 "nbformat_minor": 5
}
