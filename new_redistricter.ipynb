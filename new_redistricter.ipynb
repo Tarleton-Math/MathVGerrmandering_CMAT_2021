{
 "cells": [
  {
   "cell_type": "code",
   "execution_count": null,
   "id": "bc9552e9",
   "metadata": {},
   "outputs": [
    {
     "name": "stdout",
     "output_type": "stream",
     "text": [
      "/home/jupyter/MathVGerrmandering_CMAT_2021\n",
      "getting states\n",
      "Get crosswalks  ... using existing table ... success!\n",
      "Get assignments ... using existing table ... success!\n",
      "Get shapes      ... using existing table ... success!\n",
      "Get census      ... using existing table ... success!\n",
      "Get elections   ... using existing table ... success!\n",
      "Get all         ... using existing table ... success!\n"
     ]
    }
   ],
   "source": [
    "%load_ext autoreload\n",
    "%autoreload\n",
    "%cd /home/jupyter/MathVGerrmandering_CMAT_2021/\n",
    "from src import *\n",
    "from src.data import *\n",
    "from src.mcmc import *\n",
    "\n",
    "data = Data(\n",
    "#             refresh_all=('crosswalks', 'assignments', 'shapes', 'census', 'elections', 'all'),\n",
    "#             refresh_all=('assignments', 'census', 'elections', 'all'),\n",
    "#             refresh_all=('all'),\n",
    "#             refresh_tbl=('crosswalks'),\n",
    "           )\n",
    "data.get_proposals()\n",
    "\n",
    "for district_type, proposals in data.proposals.items():\n",
    "    for proposal in proposals:\n",
    "        print(f'{district_type} {proposal}')\n",
    "        self = MCMC(level='cntyvtd',\n",
    "                    district_type=district_type,\n",
    "                    proposal=proposal,\n",
    "                   )"
   ]
  },
  {
   "cell_type": "code",
   "execution_count": 7,
   "id": "048da456",
   "metadata": {},
   "outputs": [
    {
     "data": {
      "text/plain": [
       "{'cd': ['enacted2010',\n",
       "  'planc2100',\n",
       "  'planc2101',\n",
       "  'planc2102',\n",
       "  'planc2103',\n",
       "  'planc2104',\n",
       "  'planc2105',\n",
       "  'planc2106',\n",
       "  'planc2107',\n",
       "  'planc2108',\n",
       "  'planc2109',\n",
       "  'planc2110',\n",
       "  'planc2112'],\n",
       " 'sldu': ['enacted2010',\n",
       "  'plans2100',\n",
       "  'plans2101',\n",
       "  'plans2103',\n",
       "  'plans2108',\n",
       "  'plans2109',\n",
       "  'plans2112',\n",
       "  'plans2113',\n",
       "  'plans2117',\n",
       "  'plans2118',\n",
       "  'plans2119',\n",
       "  'plans2120',\n",
       "  'plans2121',\n",
       "  'plans2122',\n",
       "  'plans2123',\n",
       "  'plans2124',\n",
       "  'plans2125',\n",
       "  'plans2126',\n",
       "  'plans2129',\n",
       "  'plans2130',\n",
       "  'plans2132',\n",
       "  'plans2134',\n",
       "  'plans2135',\n",
       "  'plans2137',\n",
       "  'plans2139',\n",
       "  'plans2141',\n",
       "  'plans2142',\n",
       "  'plans2146',\n",
       "  'plans2148',\n",
       "  'plans2149',\n",
       "  'plans2150',\n",
       "  'plans2153',\n",
       "  'plans2154'],\n",
       " 'sldl': ['enacted2010', 'planh2100', 'planh2101']}"
      ]
     },
     "execution_count": 7,
     "metadata": {},
     "output_type": "execute_result"
    }
   ],
   "source": [
    "data.proposals"
   ]
  }
 ],
 "metadata": {
  "kernelspec": {
   "display_name": "Python 3 (ipykernel)",
   "language": "python",
   "name": "python3"
  },
  "language_info": {
   "codemirror_mode": {
    "name": "ipython",
    "version": 3
   },
   "file_extension": ".py",
   "mimetype": "text/x-python",
   "name": "python",
   "nbconvert_exporter": "python",
   "pygments_lexer": "ipython3",
   "version": "3.7.10"
  }
 },
 "nbformat": 4,
 "nbformat_minor": 5
}
