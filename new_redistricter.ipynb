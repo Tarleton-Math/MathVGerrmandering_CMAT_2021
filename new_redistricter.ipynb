{
 "cells": [
  {
   "cell_type": "code",
   "execution_count": null,
   "id": "ba4b4066",
   "metadata": {},
   "outputs": [],
   "source": [
    "%load_ext autoreload\n",
    "%autoreload\n",
    "%cd /home/jupyter/MathVGerrmandering_CMAT_2021/\n",
    "from src import *\n",
    "from src.data import *\n",
    "from src.mcmc import *\n",
    "\n",
    "D = Data()\n",
    "#             refresh_all=('crosswalks', 'assignments', 'shapes', 'census', 'elections', 'all'),\n",
    "#             refresh_all=('assignments', 'all'),\n",
    "#             refresh_tbl=('all'),\n",
    "#             refresh_tbl=('crosswalks'),\n",
    "#            )\n",
    "\n",
    "for district_type, proposals in D.proposals_dict.items():\n",
    "    for proposal in proposals:\n",
    "        print(f'\\n\\n{district_type} {proposal}')\n",
    "        self = MCMC(level='cntyvtd',\n",
    "                    district_type=district_type,\n",
    "                    proposal=proposal,\n",
    "                    refresh_tbl = ('nodes', 'graphs')\n",
    "                   )\n",
    "#         assert 1==2"
   ]
  },
  {
   "cell_type": "code",
   "execution_count": 4,
   "id": "61398de9",
   "metadata": {},
   "outputs": [
    {
     "name": "stdout",
     "output_type": "stream",
     "text": [
      "The autoreload extension is already loaded. To reload it, use:\n",
      "  %reload_ext autoreload\n",
      "/home/jupyter/MathVGerrmandering_CMAT_2021\n",
      "deleting cmat-315920.redistricting_data.TX_2020_cd_enacted2010_cntyvtd_0_nodes ... deleting cmat-315920.redistricting_data.TX_2020_sldl_enacted2010_cntyvtd_0_nodes ... deleting cmat-315920.redistricting_data.TX_2020_sldu_enacted2010_cntyvtd_0_nodes ... "
     ]
    }
   ],
   "source": [
    "%load_ext autoreload\n",
    "%autoreload\n",
    "%cd /home/jupyter/MathVGerrmandering_CMAT_2021/\n",
    "from src import *\n",
    "for t in bqclient.list_tables(data_bq):\n",
    "    nm = t.full_table_id.replace(':', '.')\n",
    "    if 'plan' in nm or 'enacted' in nm:\n",
    "        rpt(f'deleting {nm}')\n",
    "        delete_table(nm)\n"
   ]
  },
  {
   "cell_type": "code",
   "execution_count": null,
   "id": "15d66612",
   "metadata": {},
   "outputs": [],
   "source": []
  }
 ],
 "metadata": {
  "kernelspec": {
   "display_name": "Python 3 (ipykernel)",
   "language": "python",
   "name": "python3"
  },
  "language_info": {
   "codemirror_mode": {
    "name": "ipython",
    "version": 3
   },
   "file_extension": ".py",
   "mimetype": "text/x-python",
   "name": "python",
   "nbconvert_exporter": "python",
   "pygments_lexer": "ipython3",
   "version": "3.7.10"
  }
 },
 "nbformat": 4,
 "nbformat_minor": 5
}
