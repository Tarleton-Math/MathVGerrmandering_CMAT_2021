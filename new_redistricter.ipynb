{
 "cells": [
  {
   "cell_type": "code",
   "execution_count": null,
   "id": "8b09ed1d",
   "metadata": {},
   "outputs": [
    {
     "name": "stdout",
     "output_type": "stream",
     "text": [
      "The autoreload extension is already loaded. To reload it, use:\n",
      "  %reload_ext autoreload\n",
      "/home/jupyter/MathVGerrmandering_CMAT_2021\n",
      "Get crosswalks       ... using existing table ... success!\n",
      "Get assignments      ... using existing table ... success!\n",
      "Get shapes           ... using existing table ... success!\n",
      "Get census           ... using existing table ... success!\n",
      "Get elections        ... using existing table ... success!\n",
      "Get all              ... using existing table ... success!\n",
      "Get proposals        ... using existing table ... success!\n",
      "Get nodes            ... creating table ... "
     ]
    }
   ],
   "source": [
    "%load_ext autoreload\n",
    "%autoreload\n",
    "%cd /home/jupyter/MathVGerrmandering_CMAT_2021/\n",
    "from src import *\n",
    "from src.get_source_data import *\n",
    "from src.mcmc import *\n",
    "\n",
    "data = Data(\n",
    "#             refresh_all=('crosswalks', 'assignments', 'shapes', 'census', 'elections', 'all'),\n",
    "#             refresh_all=('assignments', 'census', 'elections', 'all'),\n",
    "#             refresh_all=('all'),\n",
    "#             refresh_tbl=('crosswalks'),\n",
    "           )\n",
    "# data.get_proposals()\n",
    "\n",
    "self = MCMC(level='cntyvtd',\n",
    "            district_type='sldu',\n",
    "            proposal='plans2101',\n",
    "# #             refresh_all=('nodes',)\n",
    "           )"
   ]
  },
  {
   "cell_type": "code",
   "execution_count": null,
   "id": "8865374a",
   "metadata": {},
   "outputs": [],
   "source": []
  }
 ],
 "metadata": {
  "kernelspec": {
   "display_name": "Python 3 (ipykernel)",
   "language": "python",
   "name": "python3"
  },
  "language_info": {
   "codemirror_mode": {
    "name": "ipython",
    "version": 3
   },
   "file_extension": ".py",
   "mimetype": "text/x-python",
   "name": "python",
   "nbconvert_exporter": "python",
   "pygments_lexer": "ipython3",
   "version": "3.7.10"
  }
 },
 "nbformat": 4,
 "nbformat_minor": 5
}
