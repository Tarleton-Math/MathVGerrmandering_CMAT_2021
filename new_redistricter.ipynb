{
 "cells": [
  {
   "cell_type": "code",
   "execution_count": 19,
   "id": "87661347",
   "metadata": {},
   "outputs": [
    {
     "name": "stdout",
     "output_type": "stream",
     "text": [
      "The autoreload extension is already loaded. To reload it, use:\n",
      "  %reload_ext autoreload\n",
      "/home/jupyter/MathVGerrmandering_CMAT_2021\n",
      "Get crosswalks       ... using existing table ... success!\n",
      "Get assignments      ... using existing table ... success!\n",
      "Get shapes           ... using existing table ... success!\n",
      "Get census           ... using existing table ... success!\n",
      "Get elections        ... using existing table ... success!\n",
      "Get joined           ... using existing table ... success!\n",
      "Get proposal         ... deleting cmat-315920.redistricting_data.TX_2020_sldu_PLANS2101_cntyvtd_0_proposal ... creating proposal table from /home/jupyter/redistricting_data/proposals/sldu/PLANS2101.csv ... success!\n"
     ]
    }
   ],
   "source": [
    "%load_ext autoreload\n",
    "%autoreload\n",
    "%cd /home/jupyter/MathVGerrmandering_CMAT_2021/\n",
    "from src import *\n",
    "from src.get_source_data import *\n",
    "from src.mcmc import *\n",
    "\n",
    "self = Data(\n",
    "#             refresh_all=('assignments', 'census', 'elections', 'joined'),\n",
    "#             refresh_all=('elections'),\n",
    "#             refresh_tbl=('crosswalks'),\n",
    "           )\n",
    "\n",
    "self = MCMC(level='cntyvtd',\n",
    "            district_type='sldu',\n",
    "            proposal='PLANS2101',\n",
    "            refresh_all=('proposal',))"
   ]
  },
  {
   "cell_type": "code",
   "execution_count": 14,
   "id": "496bdf45",
   "metadata": {},
   "outputs": [
    {
     "data": {
      "text/plain": [
       "geoid    object\n",
       "cd        int64\n",
       "dtype: object"
      ]
     },
     "execution_count": 14,
     "metadata": {},
     "output_type": "execute_result"
    }
   ],
   "source": [
    "self.df.dtypes"
   ]
  },
  {
   "cell_type": "code",
   "execution_count": null,
   "id": "84aea250",
   "metadata": {},
   "outputs": [],
   "source": []
  }
 ],
 "metadata": {
  "kernelspec": {
   "display_name": "Python 3 (ipykernel)",
   "language": "python",
   "name": "python3"
  },
  "language_info": {
   "codemirror_mode": {
    "name": "ipython",
    "version": 3
   },
   "file_extension": ".py",
   "mimetype": "text/x-python",
   "name": "python",
   "nbconvert_exporter": "python",
   "pygments_lexer": "ipython3",
   "version": "3.7.10"
  }
 },
 "nbformat": 4,
 "nbformat_minor": 5
}
