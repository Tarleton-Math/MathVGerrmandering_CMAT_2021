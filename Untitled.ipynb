{
 "cells": [
  {
   "cell_type": "code",
   "execution_count": 7,
   "id": "3c56bb97",
   "metadata": {},
   "outputs": [
    {
     "name": "stdout",
     "output_type": "stream",
     "text": [
      "{'a': {'nodes': {0}}, 'b': {'nodes': {0}}}\n"
     ]
    }
   ],
   "source": [
    "d = {'a': {'nodes':set()}, 'b':{'nodes':set()}}\n",
    "for k, v in d.items():\n",
    "    v['nodes'].add(0)\n",
    "print(d)"
   ]
  },
  {
   "cell_type": "code",
   "execution_count": 12,
   "id": "8f9655af",
   "metadata": {},
   "outputs": [
    {
     "data": {
      "text/plain": [
       "1"
      ]
     },
     "execution_count": 12,
     "metadata": {},
     "output_type": "execute_result"
    }
   ],
   "source": [
    "# w = set()\n",
    "len(d['a']['nodes'])"
   ]
  },
  {
   "cell_type": "code",
   "execution_count": 18,
   "id": "284c51be",
   "metadata": {},
   "outputs": [
    {
     "data": {
      "text/plain": [
       "\u001b[0;31mSignature:\u001b[0m \u001b[0mdf\u001b[0m\u001b[0;34m.\u001b[0m\u001b[0mto_dict\u001b[0m\u001b[0;34m(\u001b[0m\u001b[0morient\u001b[0m\u001b[0;34m:\u001b[0m \u001b[0;34m'str'\u001b[0m \u001b[0;34m=\u001b[0m \u001b[0;34m'dict'\u001b[0m\u001b[0;34m,\u001b[0m \u001b[0minto\u001b[0m\u001b[0;34m=\u001b[0m\u001b[0;34m<\u001b[0m\u001b[0;32mclass\u001b[0m \u001b[0;34m'dict'\u001b[0m\u001b[0;34m>\u001b[0m\u001b[0;34m)\u001b[0m\u001b[0;34m\u001b[0m\u001b[0;34m\u001b[0m\u001b[0m\n",
       "\u001b[0;31mDocstring:\u001b[0m\n",
       "Convert the DataFrame to a dictionary.\n",
       "\n",
       "The type of the key-value pairs can be customized with the parameters\n",
       "(see below).\n",
       "\n",
       "Parameters\n",
       "----------\n",
       "orient : str {'dict', 'list', 'series', 'split', 'records', 'index'}\n",
       "    Determines the type of the values of the dictionary.\n",
       "\n",
       "    - 'dict' (default) : dict like {column -> {index -> value}}\n",
       "    - 'list' : dict like {column -> [values]}\n",
       "    - 'series' : dict like {column -> Series(values)}\n",
       "    - 'split' : dict like\n",
       "      {'index' -> [index], 'columns' -> [columns], 'data' -> [values]}\n",
       "    - 'records' : list like\n",
       "      [{column -> value}, ... , {column -> value}]\n",
       "    - 'index' : dict like {index -> {column -> value}}\n",
       "\n",
       "    Abbreviations are allowed. `s` indicates `series` and `sp`\n",
       "    indicates `split`.\n",
       "\n",
       "into : class, default dict\n",
       "    The collections.abc.Mapping subclass used for all Mappings\n",
       "    in the return value.  Can be the actual class or an empty\n",
       "    instance of the mapping type you want.  If you want a\n",
       "    collections.defaultdict, you must pass it initialized.\n",
       "\n",
       "Returns\n",
       "-------\n",
       "dict, list or collections.abc.Mapping\n",
       "    Return a collections.abc.Mapping object representing the DataFrame.\n",
       "    The resulting transformation depends on the `orient` parameter.\n",
       "\n",
       "See Also\n",
       "--------\n",
       "DataFrame.from_dict: Create a DataFrame from a dictionary.\n",
       "DataFrame.to_json: Convert a DataFrame to JSON format.\n",
       "\n",
       "Examples\n",
       "--------\n",
       ">>> df = pd.DataFrame({'col1': [1, 2],\n",
       "...                    'col2': [0.5, 0.75]},\n",
       "...                   index=['row1', 'row2'])\n",
       ">>> df\n",
       "      col1  col2\n",
       "row1     1  0.50\n",
       "row2     2  0.75\n",
       ">>> df.to_dict()\n",
       "{'col1': {'row1': 1, 'row2': 2}, 'col2': {'row1': 0.5, 'row2': 0.75}}\n",
       "\n",
       "You can specify the return orientation.\n",
       "\n",
       ">>> df.to_dict('series')\n",
       "{'col1': row1    1\n",
       "         row2    2\n",
       "Name: col1, dtype: int64,\n",
       "'col2': row1    0.50\n",
       "        row2    0.75\n",
       "Name: col2, dtype: float64}\n",
       "\n",
       ">>> df.to_dict('split')\n",
       "{'index': ['row1', 'row2'], 'columns': ['col1', 'col2'],\n",
       " 'data': [[1, 0.5], [2, 0.75]]}\n",
       "\n",
       ">>> df.to_dict('records')\n",
       "[{'col1': 1, 'col2': 0.5}, {'col1': 2, 'col2': 0.75}]\n",
       "\n",
       ">>> df.to_dict('index')\n",
       "{'row1': {'col1': 1, 'col2': 0.5}, 'row2': {'col1': 2, 'col2': 0.75}}\n",
       "\n",
       "You can also specify the mapping type.\n",
       "\n",
       ">>> from collections import OrderedDict, defaultdict\n",
       ">>> df.to_dict(into=OrderedDict)\n",
       "OrderedDict([('col1', OrderedDict([('row1', 1), ('row2', 2)])),\n",
       "             ('col2', OrderedDict([('row1', 0.5), ('row2', 0.75)]))])\n",
       "\n",
       "If you want a `defaultdict`, you need to initialize it:\n",
       "\n",
       ">>> dd = defaultdict(list)\n",
       ">>> df.to_dict('records', into=dd)\n",
       "[defaultdict(<class 'list'>, {'col1': 1, 'col2': 0.5}),\n",
       " defaultdict(<class 'list'>, {'col1': 2, 'col2': 0.75})]\n",
       "\u001b[0;31mFile:\u001b[0m      /opt/conda/lib/python3.7/site-packages/pandas/core/frame.py\n",
       "\u001b[0;31mType:\u001b[0m      method\n"
      ]
     },
     "metadata": {},
     "output_type": "display_data"
    }
   ],
   "source": [
    "df.to_dict?"
   ]
  },
  {
   "cell_type": "code",
   "execution_count": 22,
   "id": "ca58d585",
   "metadata": {},
   "outputs": [
    {
     "data": {
      "text/html": [
       "<div>\n",
       "<style scoped>\n",
       "    .dataframe tbody tr th:only-of-type {\n",
       "        vertical-align: middle;\n",
       "    }\n",
       "\n",
       "    .dataframe tbody tr th {\n",
       "        vertical-align: top;\n",
       "    }\n",
       "\n",
       "    .dataframe thead th {\n",
       "        text-align: right;\n",
       "    }\n",
       "</style>\n",
       "<table border=\"1\" class=\"dataframe\">\n",
       "  <thead>\n",
       "    <tr style=\"text-align: right;\">\n",
       "      <th></th>\n",
       "      <th>a</th>\n",
       "    </tr>\n",
       "  </thead>\n",
       "  <tbody>\n",
       "    <tr>\n",
       "      <th>0</th>\n",
       "      <td>2</td>\n",
       "    </tr>\n",
       "    <tr>\n",
       "      <th>1</th>\n",
       "      <td>3</td>\n",
       "    </tr>\n",
       "  </tbody>\n",
       "</table>\n",
       "</div>"
      ],
      "text/plain": [
       "   a\n",
       "0  2\n",
       "1  3"
      ]
     },
     "execution_count": 22,
     "metadata": {},
     "output_type": "execute_result"
    }
   ],
   "source": [
    "import pandas as pd\n",
    "df = pd.DataFrame()\n",
    "df['a'] = [2,3]\n",
    "\n",
    "d = df.to_dict(orient='index')\n",
    "X = pd.DataFrame.from_dict(d, orient='index')\n",
    "X"
   ]
  }
 ],
 "metadata": {
  "kernelspec": {
   "display_name": "Python 3 (ipykernel)",
   "language": "python",
   "name": "python3"
  },
  "language_info": {
   "codemirror_mode": {
    "name": "ipython",
    "version": 3
   },
   "file_extension": ".py",
   "mimetype": "text/x-python",
   "name": "python",
   "nbconvert_exporter": "python",
   "pygments_lexer": "ipython3",
   "version": "3.7.10"
  }
 },
 "nbformat": 4,
 "nbformat_minor": 5
}
