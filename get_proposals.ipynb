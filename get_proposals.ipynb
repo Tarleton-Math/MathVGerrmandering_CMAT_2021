{
 "cells": [
  {
   "cell_type": "code",
   "execution_count": null,
   "id": "aa2cd2a2",
   "metadata": {},
   "outputs": [],
   "source": [
    "from src import *\n",
    "import urllib\n",
    "\n",
    "missing_plans = []\n",
    "for district_type, abbr in {'cd':'c', 'sldu':'s', 'sldl':'h'}.items():\n",
    "    proposal_path = data_path / f'proposals/{district_type}'\n",
    "    proposal_path.mkdir(parents=True, exist_ok=True)\n",
    "    os.chdir(proposal_path)\n",
    "    os.system(\"unzip -u '*.zip' >/dev/null 2>&1\");\n",
    "    not_found = 0\n",
    "    for n in range(1000):\n",
    "        plan = f'plan{abbr}{2100+n}'.lower()\n",
    "        f = proposal_path / f'{plan.upper()}.csv'\n",
    "        url = f'https://data.capitol.texas.gov/dataset/{plan}'\n",
    "        try:\n",
    "            urllib.request.urlopen(url)\n",
    "            not_found = 0\n",
    "            if not f.is_file():\n",
    "                missing_plans.append(plan)\n",
    "        except urllib.error.HTTPError:\n",
    "            not_found += 1\n",
    "        if not_found > 5:\n",
    "            break\n",
    "os.chdir(code_path)\n",
    "print(f'missing plans: {missing_plans}')"
   ]
  },
  {
   "cell_type": "code",
   "execution_count": null,
   "id": "9923e883",
   "metadata": {},
   "outputs": [],
   "source": [
    "urls = {'cd'  : lambda n: f'https://data.capitol.texas.gov/dataset/e4699f0c-327f-4a27-b43a-5560b8ff8551/resource/cd650b32-99d6-4959-acca-d7c98c9d62af/download/planc{2100+n}_blk.zip',\n",
    "        'sldu': lambda n: f'https://data.capitol.texas.gov/dataset/f8542d9e-1bf2-423e-9c79-244cc659012a/resource/448b35fc-f63e-40e6-add8-0291526a7757/download/plans{2100+n}_blk.zip',\n",
    "        'sldl': lambda n: f'https://data.capitol.texas.gov/dataset/b8bb5e85-bb82-46f8-9ccc-2740ebe49809/resource/defc3444-2d39-46f2-b16e-8a26a87879df/download/planh{2100+n}_blk.zip',\n",
    "       }"
   ]
  }
 ],
 "metadata": {
  "kernelspec": {
   "display_name": "Python 3 (ipykernel)",
   "language": "python",
   "name": "python3"
  },
  "language_info": {
   "codemirror_mode": {
    "name": "ipython",
    "version": 3
   },
   "file_extension": ".py",
   "mimetype": "text/x-python",
   "name": "python",
   "nbconvert_exporter": "python",
   "pygments_lexer": "ipython3",
   "version": "3.7.10"
  }
 },
 "nbformat": 4,
 "nbformat_minor": 5
}
