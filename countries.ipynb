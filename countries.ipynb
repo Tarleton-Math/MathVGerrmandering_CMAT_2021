{
 "cells": [
  {
   "cell_type": "code",
   "execution_count": null,
   "id": "ce3b015b",
   "metadata": {},
   "outputs": [],
   "source": [
    "%load_ext autoreload\n",
    "%autoreload\n",
    "%cd /home/jupyter/MathVGerrmandering_CMAT_2021/\n",
    "from src import *\n",
    "import json\n",
    "try:\n",
    "    import datapackage\n",
    "except:\n",
    "    os.system('pip install --upgrade datapackage')\n",
    "    import datapackage\n",
    "\n",
    "package = datapackage.Package('https://datahub.io/core/geo-countries/datapackage.json')\n",
    "for resource in package.resources:\n",
    "    if resource.name == 'countries':\n",
    "        js = json.loads(resource.raw_read())\n",
    "        break\n",
    "L = [{'country' :g['properties']['ADMIN'],\n",
    "      'abbr'    :g['properties']['ISO_A3'],\n",
    "      'geometry':str(g['geometry'])\n",
    "     } for g in js['features']]\n",
    "df = pd.DataFrame(L)\n",
    "tbl = f'{data_bq}.countries'\n",
    "tbl_raw = tbl + '_raw'\n",
    "load_table(tbl_raw, df=df)\n",
    "# load_table(tbl_raw, df=df.to_wkb())\n",
    "query = f\"\"\"\n",
    "select\n",
    "    country,\n",
    "    abbr,\n",
    "    st_geogfromgeojson(geometry, make_valid => TRUE) as polygon\n",
    "from\n",
    "    {tbl_raw}\n",
    "order by\n",
    "    country\n",
    "\"\"\"\n",
    "load_table(tbl, query=query)\n",
    "delete_table(tbl_raw)"
   ]
  },
  {
   "cell_type": "code",
   "execution_count": null,
   "id": "83ef31a9",
   "metadata": {},
   "outputs": [],
   "source": [
    "js['features'][:14]"
   ]
  },
  {
   "cell_type": "code",
   "execution_count": null,
   "id": "052f2b34",
   "metadata": {},
   "outputs": [],
   "source": [
    "df.tail(14)"
   ]
  },
  {
   "cell_type": "code",
   "execution_count": null,
   "id": "0a6a46ec",
   "metadata": {},
   "outputs": [],
   "source": [
    "pd.DataFrame.from_dict?"
   ]
  },
  {
   "cell_type": "code",
   "execution_count": null,
   "id": "8f05f63c",
   "metadata": {},
   "outputs": [],
   "source": [
    "query = f\"\"\"\n",
    "select\n",
    "    ST_GEOGFROMGEOJSON(\"{js['geometry']}\")\n",
    "\"\"\"\n",
    "load_table(tbl, query=query)"
   ]
  },
  {
   "cell_type": "code",
   "execution_count": null,
   "id": "8ab0dd21",
   "metadata": {},
   "outputs": [],
   "source": [
    "%load_ext autoreload\n",
    "%autoreload\n",
    "%cd /home/jupyter/MathVGerrmandering_CMAT_2021/\n",
    "from src import *\n",
    "import shapely.ops\n",
    "try:\n",
    "    import datapackage\n",
    "except:\n",
    "    os.system('pip install --upgrade datapackage')\n",
    "    import datapackage\n",
    "package = datapackage.Package('https://datahub.io/core/geo-countries/datapackage.json')\n",
    "for resource in package.resources:\n",
    "    if resource.name == 'countries':\n",
    "        df = gpd.read_file(resource.descriptor['path']).to_crs(crs_census)#.to_crs(crs_area)\n",
    "df.columns = ['country', 'abbr', 'geometry']\n",
    "mask = ~df['country'].isin(['Antarctica'])\n",
    "df.loc[mask,'geometry'] = df.loc[mask,'geometry'].buffer(0.0001)\n",
    "df['geometry'] = df['geometry'].to_crs(crs_census)#.apply(lambda p: shapely.ops.orient(p, -1))"
   ]
  },
  {
   "cell_type": "code",
   "execution_count": null,
   "id": "7d79be62",
   "metadata": {},
   "outputs": [],
   "source": [
    "js = { \"type\": \"Feature\", \"properties\": { \"ADMIN\": \"Aruba\", \"ISO_A3\": \"ABW\" }, \"geometry\": { \"type\": \"Polygon\", \"coordinates\": [ [ [ -69.996937628999916, 12.577582098000036 ], [ -69.936390753999945, 12.531724351000051 ], [ -69.924672003999945, 12.519232489000046 ], [ -69.915760870999918, 12.497015692000076 ], [ -69.880197719999842, 12.453558661000045 ], [ -69.876820441999939, 12.427394924000097 ], [ -69.888091600999928, 12.417669989000046 ], [ -69.908802863999938, 12.417792059000107 ], [ -69.930531378999888, 12.425970770000035 ], [ -69.945139126999919, 12.44037506700009 ], [ -69.924672003999945, 12.44037506700009 ], [ -69.924672003999945, 12.447211005000014 ], [ -69.958566860999923, 12.463202216000099 ], [ -70.027658657999922, 12.522935289000088 ], [ -70.048085089999887, 12.531154690000079 ], [ -70.058094855999883, 12.537176825000088 ], [ -70.062408006999874, 12.546820380000057 ], [ -70.060373501999948, 12.556952216000113 ], [ -70.051096157999893, 12.574042059000064 ], [ -70.048736131999931, 12.583726304000024 ], [ -70.052642381999931, 12.600002346000053 ], [ -70.059641079999921, 12.614243882000054 ], [ -70.061105923999975, 12.625392971000068 ], [ -70.048736131999931, 12.632147528000104 ], [ -70.00715084499987, 12.5855166690001 ], [ -69.996937628999916, 12.577582098000036 ] ] ] } }\n",
    "js"
   ]
  },
  {
   "cell_type": "code",
   "execution_count": null,
   "id": "cc406818",
   "metadata": {},
   "outputs": [],
   "source": [
    "query = f\"\"\"\n",
    "select\n",
    "    ST_GEOGFROMGEOJSON(\"{js['geometry']}\")\n",
    "\"\"\"\n",
    "load_table(tbl, query=query)"
   ]
  },
  {
   "cell_type": "code",
   "execution_count": null,
   "id": "3206c5e6",
   "metadata": {},
   "outputs": [],
   "source": [
    "%load_ext autoreload\n",
    "%autoreload\n",
    "%cd /home/jupyter/MathVGerrmandering_CMAT_2021/\n",
    "from src import *\n",
    "import shapely.ops\n",
    "try:\n",
    "    import datapackage\n",
    "except:\n",
    "    os.system('pip install --upgrade datapackage')\n",
    "    import datapackage\n",
    "package = datapackage.Package('https://datahub.io/core/geo-countries/datapackage.json')\n",
    "for resource in package.resources:\n",
    "    if resource.name == 'countries':\n",
    "        \n",
    "        df = gpd.read_file(resource.descriptor['path']).to_crs(crs_census)#.to_crs(crs_area)\n",
    "df.columns = ['country', 'abbr', 'geometry']\n",
    "mask = ~df['country'].isin(['Antarctica'])\n",
    "df.loc[mask,'geometry'] = df.loc[mask,'geometry'].buffer(0.0001)\n",
    "df['geometry'] = df['geometry'].to_crs(crs_census)#.apply(lambda p: shapely.ops.orient(p, -1))"
   ]
  },
  {
   "cell_type": "code",
   "execution_count": null,
   "id": "c929acf7",
   "metadata": {},
   "outputs": [],
   "source": [
    "tbl = f'{data_bq}.countries'\n",
    "tbl_raw = tbl + '_raw'\n",
    "# df = df.query('country not in [\"Antarctica\"]')\n",
    "# load_table(tbl_raw, df=df.query('country not in [\"Antarctica\"]').to_wkb())\n",
    "load_table(tbl_raw, df=df.to_wkb())\n",
    "query = f\"\"\"\n",
    "select\n",
    "    country,\n",
    "    abbr,\n",
    "    st_geogfrom(geometry) as polygon\n",
    "from\n",
    "    {tbl_raw}\n",
    "order by\n",
    "    country\n",
    "\"\"\"\n",
    "load_table(tbl, query=query)"
   ]
  },
  {
   "cell_type": "code",
   "execution_count": null,
   "id": "c96e8fca",
   "metadata": {},
   "outputs": [],
   "source": [
    "import pandas as pd, geopandas as gpd\n",
    "w = resources[2]\n",
    "gdf = gpd.read_file(resources[2].descriptor['path'])#.set_index('ADMIN')"
   ]
  },
  {
   "cell_type": "code",
   "execution_count": null,
   "id": "f297006e",
   "metadata": {},
   "outputs": [],
   "source": [
    "gdf['ADMIN'] == 'Mexico'\n",
    "gdf.query(\"ADMIN == 'Mexico'\").plot()"
   ]
  },
  {
   "cell_type": "code",
   "execution_count": null,
   "id": "e58856c6",
   "metadata": {},
   "outputs": [],
   "source": [
    "gdf.iloc[0]\n",
    "gdf[gdf.index[0]]\n",
    "\n"
   ]
  },
  {
   "cell_type": "code",
   "execution_count": null,
   "id": "d43bbead",
   "metadata": {},
   "outputs": [],
   "source": [
    "for resource in resources:\n",
    "    print(resource)\n"
   ]
  },
  {
   "cell_type": "code",
   "execution_count": null,
   "id": "cc1d898f",
   "metadata": {},
   "outputs": [],
   "source": [
    "package."
   ]
  },
  {
   "cell_type": "code",
   "execution_count": null,
   "id": "95ff1ada",
   "metadata": {},
   "outputs": [],
   "source": [
    "pip install --upgrade datapackage"
   ]
  }
 ],
 "metadata": {
  "kernelspec": {
   "display_name": "Python 3 (ipykernel)",
   "language": "python",
   "name": "python3"
  },
  "language_info": {
   "codemirror_mode": {
    "name": "ipython",
    "version": 3
   },
   "file_extension": ".py",
   "mimetype": "text/x-python",
   "name": "python",
   "nbconvert_exporter": "python",
   "pygments_lexer": "ipython3",
   "version": "3.7.10"
  }
 },
 "nbformat": 4,
 "nbformat_minor": 5
}
