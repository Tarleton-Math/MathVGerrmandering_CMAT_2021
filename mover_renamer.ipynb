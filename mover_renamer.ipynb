{
 "cells": [
  {
   "cell_type": "code",
   "execution_count": null,
   "id": "75bae522",
   "metadata": {},
   "outputs": [],
   "source": [
    "# move from results to result_stem dataset\n",
    "from src import *\n",
    "for src_tbl in bqclient.list_tables(f'{proj_id}.results'):\n",
    "    w = src_tbl.table_id.split('_')\n",
    "    results_stem = f'{proj_id}.{\"_\".join(w[:4])}'\n",
    "    dest = f'{results_stem}.{src_tbl.table_id}'\n",
    "    try:\n",
    "        bqclient.get_table(dest)\n",
    "    except:\n",
    "        print(f'copying {src_tbl.full_table_id} to {dest}')\n",
    "        bqclient.create_dataset(results_stem, exists_ok=True)\n",
    "        bqclient.copy_table(src_tbl, dest).result()"
   ]
  },
  {
   "cell_type": "code",
   "execution_count": null,
   "id": "b9852bc4",
   "metadata": {},
   "outputs": [],
   "source": [
    "# prepend results stem\n",
    "from src import *\n",
    "results_stem = 'TX_2020_cntyvtd_cd'\n",
    "ds = f'{proj_id}.{results_stem}'\n",
    "for src_tbl in bqclient.list_tables(ds):\n",
    "    nm = src_tbl.table_id\n",
    "    if nm[0].isnumeric:\n",
    "        query = f\"alter table {ds}.{nm} rename to {results_stem}_{nm}\"\n",
    "        run_query(query)"
   ]
  },
  {
   "cell_type": "code",
   "execution_count": null,
   "id": "b2d9e757",
   "metadata": {},
   "outputs": [],
   "source": [
    "# change summary to summaries\n",
    "from src import *\n",
    "results_stem = 'results'\n",
    "ds = f'{proj_id}.{results_stem}'\n",
    "for src_tbl in bqclient.list_tables(ds):\n",
    "    nm = src_tbl.table_id\n",
    "    if nm[-7:] == 'summary':\n",
    "        new_nm = nm[:-7] + 'summaries'\n",
    "        query = f\"alter table {ds}.{nm} rename to {new_nm}\"\n",
    "        print(query)\n",
    "        run_query(query)"
   ]
  },
  {
   "cell_type": "code",
   "execution_count": null,
   "id": "ec6713fe",
   "metadata": {},
   "outputs": [],
   "source": []
  }
 ],
 "metadata": {
  "kernelspec": {
   "display_name": "Python 3 (ipykernel)",
   "language": "python",
   "name": "python3"
  },
  "language_info": {
   "codemirror_mode": {
    "name": "ipython",
    "version": 3
   },
   "file_extension": ".py",
   "mimetype": "text/x-python",
   "name": "python",
   "nbconvert_exporter": "python",
   "pygments_lexer": "ipython3",
   "version": "3.7.10"
  }
 },
 "nbformat": 4,
 "nbformat_minor": 5
}
