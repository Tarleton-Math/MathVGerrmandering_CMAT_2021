{
 "cells": [
  {
   "cell_type": "code",
   "execution_count": 3,
   "id": "3c32483a",
   "metadata": {},
   "outputs": [
    {
     "name": "stdout",
     "output_type": "stream",
     "text": [
      "copying cmat-315920:results.TX_2020_cntyvtd_cd_1314_plans to cmat-315920.TX_2020_cntyvtd_cd.TX_2020_cntyvtd_cd_1314_plans\n",
      "copying cmat-315920:results.TX_2020_cntyvtd_cd_1314_stats to cmat-315920.TX_2020_cntyvtd_cd.TX_2020_cntyvtd_cd_1314_stats\n",
      "copying cmat-315920:results.TX_2020_cntyvtd_cd_1314_summaries to cmat-315920.TX_2020_cntyvtd_cd.TX_2020_cntyvtd_cd_1314_summaries\n",
      "copying cmat-315920:results.TX_2020_cntyvtd_cd_1515_plans to cmat-315920.TX_2020_cntyvtd_cd.TX_2020_cntyvtd_cd_1515_plans\n",
      "copying cmat-315920:results.TX_2020_cntyvtd_cd_1515_stats to cmat-315920.TX_2020_cntyvtd_cd.TX_2020_cntyvtd_cd_1515_stats\n",
      "copying cmat-315920:results.TX_2020_cntyvtd_cd_1515_summaries to cmat-315920.TX_2020_cntyvtd_cd.TX_2020_cntyvtd_cd_1515_summaries\n",
      "copying cmat-315920:results.TX_2020_cntyvtd_cd_1765_plans to cmat-315920.TX_2020_cntyvtd_cd.TX_2020_cntyvtd_cd_1765_plans\n",
      "copying cmat-315920:results.TX_2020_cntyvtd_cd_1765_stats to cmat-315920.TX_2020_cntyvtd_cd.TX_2020_cntyvtd_cd_1765_stats\n",
      "copying cmat-315920:results.TX_2020_cntyvtd_cd_1765_summaries to cmat-315920.TX_2020_cntyvtd_cd.TX_2020_cntyvtd_cd_1765_summaries\n",
      "copying cmat-315920:results.TX_2020_cntyvtd_cd_1893_plans to cmat-315920.TX_2020_cntyvtd_cd.TX_2020_cntyvtd_cd_1893_plans\n",
      "copying cmat-315920:results.TX_2020_cntyvtd_cd_1893_stats to cmat-315920.TX_2020_cntyvtd_cd.TX_2020_cntyvtd_cd_1893_stats\n",
      "copying cmat-315920:results.TX_2020_cntyvtd_cd_1893_summaries to cmat-315920.TX_2020_cntyvtd_cd.TX_2020_cntyvtd_cd_1893_summaries\n",
      "copying cmat-315920:results.TX_2020_cntyvtd_cd_1917_plans to cmat-315920.TX_2020_cntyvtd_cd.TX_2020_cntyvtd_cd_1917_plans\n",
      "copying cmat-315920:results.TX_2020_cntyvtd_cd_1917_stats to cmat-315920.TX_2020_cntyvtd_cd.TX_2020_cntyvtd_cd_1917_stats\n",
      "copying cmat-315920:results.TX_2020_cntyvtd_cd_1917_summaries to cmat-315920.TX_2020_cntyvtd_cd.TX_2020_cntyvtd_cd_1917_summaries\n",
      "copying cmat-315920:results.TX_2020_cntyvtd_cd_1939_plans to cmat-315920.TX_2020_cntyvtd_cd.TX_2020_cntyvtd_cd_1939_plans\n",
      "copying cmat-315920:results.TX_2020_cntyvtd_cd_1939_stats to cmat-315920.TX_2020_cntyvtd_cd.TX_2020_cntyvtd_cd_1939_stats\n",
      "copying cmat-315920:results.TX_2020_cntyvtd_cd_1939_summaries to cmat-315920.TX_2020_cntyvtd_cd.TX_2020_cntyvtd_cd_1939_summaries\n",
      "copying cmat-315920:results.TX_2020_cntyvtd_cd_1966_plans to cmat-315920.TX_2020_cntyvtd_cd.TX_2020_cntyvtd_cd_1966_plans\n",
      "copying cmat-315920:results.TX_2020_cntyvtd_cd_1966_stats to cmat-315920.TX_2020_cntyvtd_cd.TX_2020_cntyvtd_cd_1966_stats\n",
      "copying cmat-315920:results.TX_2020_cntyvtd_cd_1966_summaries to cmat-315920.TX_2020_cntyvtd_cd.TX_2020_cntyvtd_cd_1966_summaries\n",
      "copying cmat-315920:results.TX_2020_cntyvtd_cd_2017_plans to cmat-315920.TX_2020_cntyvtd_cd.TX_2020_cntyvtd_cd_2017_plans\n",
      "copying cmat-315920:results.TX_2020_cntyvtd_cd_2017_stats to cmat-315920.TX_2020_cntyvtd_cd.TX_2020_cntyvtd_cd_2017_stats\n",
      "copying cmat-315920:results.TX_2020_cntyvtd_cd_2017_summaries to cmat-315920.TX_2020_cntyvtd_cd.TX_2020_cntyvtd_cd_2017_summaries\n",
      "copying cmat-315920:results.TX_2020_cntyvtd_cd_2040_plans to cmat-315920.TX_2020_cntyvtd_cd.TX_2020_cntyvtd_cd_2040_plans\n",
      "copying cmat-315920:results.TX_2020_cntyvtd_cd_2040_stats to cmat-315920.TX_2020_cntyvtd_cd.TX_2020_cntyvtd_cd_2040_stats\n",
      "copying cmat-315920:results.TX_2020_cntyvtd_cd_2040_summaries to cmat-315920.TX_2020_cntyvtd_cd.TX_2020_cntyvtd_cd_2040_summaries\n",
      "copying cmat-315920:results.TX_2020_cntyvtd_cd_2065_plans to cmat-315920.TX_2020_cntyvtd_cd.TX_2020_cntyvtd_cd_2065_plans\n",
      "copying cmat-315920:results.TX_2020_cntyvtd_cd_2065_stats to cmat-315920.TX_2020_cntyvtd_cd.TX_2020_cntyvtd_cd_2065_stats\n",
      "copying cmat-315920:results.TX_2020_cntyvtd_cd_2065_summaries to cmat-315920.TX_2020_cntyvtd_cd.TX_2020_cntyvtd_cd_2065_summaries\n",
      "copying cmat-315920:results.TX_2020_cntyvtd_cd_2089_plans to cmat-315920.TX_2020_cntyvtd_cd.TX_2020_cntyvtd_cd_2089_plans\n",
      "copying cmat-315920:results.TX_2020_cntyvtd_cd_2089_stats to cmat-315920.TX_2020_cntyvtd_cd.TX_2020_cntyvtd_cd_2089_stats\n",
      "copying cmat-315920:results.TX_2020_cntyvtd_cd_2089_summaries to cmat-315920.TX_2020_cntyvtd_cd.TX_2020_cntyvtd_cd_2089_summaries\n",
      "copying cmat-315920:results.TX_2020_cntyvtd_cd_2141_plans to cmat-315920.TX_2020_cntyvtd_cd.TX_2020_cntyvtd_cd_2141_plans\n",
      "copying cmat-315920:results.TX_2020_cntyvtd_cd_2141_stats to cmat-315920.TX_2020_cntyvtd_cd.TX_2020_cntyvtd_cd_2141_stats\n",
      "copying cmat-315920:results.TX_2020_cntyvtd_cd_2141_summaries to cmat-315920.TX_2020_cntyvtd_cd.TX_2020_cntyvtd_cd_2141_summaries\n",
      "copying cmat-315920:results.TX_2020_cntyvtd_cd_2168_plans to cmat-315920.TX_2020_cntyvtd_cd.TX_2020_cntyvtd_cd_2168_plans\n",
      "copying cmat-315920:results.TX_2020_cntyvtd_cd_2168_stats to cmat-315920.TX_2020_cntyvtd_cd.TX_2020_cntyvtd_cd_2168_stats\n",
      "copying cmat-315920:results.TX_2020_cntyvtd_cd_2168_summaries to cmat-315920.TX_2020_cntyvtd_cd.TX_2020_cntyvtd_cd_2168_summaries\n",
      "copying cmat-315920:results.TX_2020_cntyvtd_cd_2190_plans to cmat-315920.TX_2020_cntyvtd_cd.TX_2020_cntyvtd_cd_2190_plans\n",
      "copying cmat-315920:results.TX_2020_cntyvtd_cd_2190_stats to cmat-315920.TX_2020_cntyvtd_cd.TX_2020_cntyvtd_cd_2190_stats\n",
      "copying cmat-315920:results.TX_2020_cntyvtd_cd_2190_summaries to cmat-315920.TX_2020_cntyvtd_cd.TX_2020_cntyvtd_cd_2190_summaries\n",
      "copying cmat-315920:results.TX_2020_cntyvtd_cd_2215_summaries to cmat-315920.TX_2020_cntyvtd_cd.TX_2020_cntyvtd_cd_2215_summaries\n"
     ]
    },
    {
     "ename": "Conflict",
     "evalue": "409 Already Exists: Table cmat-315920:TX_2020_cntyvtd_cd.TX_2020_cntyvtd_cd_2215_summaries",
     "output_type": "error",
     "traceback": [
      "\u001b[0;31m---------------------------------------------------------------------------\u001b[0m",
      "\u001b[0;31mNotFound\u001b[0m                                  Traceback (most recent call last)",
      "\u001b[0;32m/tmp/ipykernel_38404/2856693766.py\u001b[0m in \u001b[0;36m<module>\u001b[0;34m\u001b[0m\n\u001b[1;32m      7\u001b[0m     \u001b[0;32mtry\u001b[0m\u001b[0;34m:\u001b[0m\u001b[0;34m\u001b[0m\u001b[0;34m\u001b[0m\u001b[0m\n\u001b[0;32m----> 8\u001b[0;31m         \u001b[0mbqclient\u001b[0m\u001b[0;34m.\u001b[0m\u001b[0mget_table\u001b[0m\u001b[0;34m(\u001b[0m\u001b[0mdest\u001b[0m\u001b[0;34m)\u001b[0m\u001b[0;34m\u001b[0m\u001b[0;34m\u001b[0m\u001b[0m\n\u001b[0m\u001b[1;32m      9\u001b[0m     \u001b[0;32mexcept\u001b[0m\u001b[0;34m:\u001b[0m\u001b[0;34m\u001b[0m\u001b[0;34m\u001b[0m\u001b[0m\n",
      "\u001b[0;32m/opt/conda/lib/python3.7/site-packages/google/cloud/bigquery/client.py\u001b[0m in \u001b[0;36mget_table\u001b[0;34m(self, table, retry, timeout)\u001b[0m\n\u001b[1;32m   1024\u001b[0m             \u001b[0mpath\u001b[0m\u001b[0;34m=\u001b[0m\u001b[0mpath\u001b[0m\u001b[0;34m,\u001b[0m\u001b[0;34m\u001b[0m\u001b[0;34m\u001b[0m\u001b[0m\n\u001b[0;32m-> 1025\u001b[0;31m             \u001b[0mtimeout\u001b[0m\u001b[0;34m=\u001b[0m\u001b[0mtimeout\u001b[0m\u001b[0;34m,\u001b[0m\u001b[0;34m\u001b[0m\u001b[0;34m\u001b[0m\u001b[0m\n\u001b[0m\u001b[1;32m   1026\u001b[0m         )\n",
      "\u001b[0;32m/opt/conda/lib/python3.7/site-packages/google/cloud/bigquery/client.py\u001b[0m in \u001b[0;36m_call_api\u001b[0;34m(self, retry, span_name, span_attributes, job_ref, headers, **kwargs)\u001b[0m\n\u001b[1;32m    764\u001b[0m             ):\n\u001b[0;32m--> 765\u001b[0;31m                 \u001b[0;32mreturn\u001b[0m \u001b[0mcall\u001b[0m\u001b[0;34m(\u001b[0m\u001b[0;34m)\u001b[0m\u001b[0;34m\u001b[0m\u001b[0;34m\u001b[0m\u001b[0m\n\u001b[0m\u001b[1;32m    766\u001b[0m \u001b[0;34m\u001b[0m\u001b[0m\n",
      "\u001b[0;32m/opt/conda/lib/python3.7/site-packages/google/api_core/retry.py\u001b[0m in \u001b[0;36mretry_wrapped_func\u001b[0;34m(*args, **kwargs)\u001b[0m\n\u001b[1;32m    289\u001b[0m                 \u001b[0mself\u001b[0m\u001b[0;34m.\u001b[0m\u001b[0m_deadline\u001b[0m\u001b[0;34m,\u001b[0m\u001b[0;34m\u001b[0m\u001b[0;34m\u001b[0m\u001b[0m\n\u001b[0;32m--> 290\u001b[0;31m                 \u001b[0mon_error\u001b[0m\u001b[0;34m=\u001b[0m\u001b[0mon_error\u001b[0m\u001b[0;34m,\u001b[0m\u001b[0;34m\u001b[0m\u001b[0;34m\u001b[0m\u001b[0m\n\u001b[0m\u001b[1;32m    291\u001b[0m             )\n",
      "\u001b[0;32m/opt/conda/lib/python3.7/site-packages/google/api_core/retry.py\u001b[0m in \u001b[0;36mretry_target\u001b[0;34m(target, predicate, sleep_generator, deadline, on_error)\u001b[0m\n\u001b[1;32m    187\u001b[0m         \u001b[0;32mtry\u001b[0m\u001b[0;34m:\u001b[0m\u001b[0;34m\u001b[0m\u001b[0;34m\u001b[0m\u001b[0m\n\u001b[0;32m--> 188\u001b[0;31m             \u001b[0;32mreturn\u001b[0m \u001b[0mtarget\u001b[0m\u001b[0;34m(\u001b[0m\u001b[0;34m)\u001b[0m\u001b[0;34m\u001b[0m\u001b[0;34m\u001b[0m\u001b[0m\n\u001b[0m\u001b[1;32m    189\u001b[0m \u001b[0;34m\u001b[0m\u001b[0m\n",
      "\u001b[0;32m/opt/conda/lib/python3.7/site-packages/google/cloud/_http.py\u001b[0m in \u001b[0;36mapi_request\u001b[0;34m(self, method, path, query_params, data, content_type, headers, api_base_url, api_version, expect_json, _target_object, timeout)\u001b[0m\n\u001b[1;32m    483\u001b[0m         \u001b[0;32mif\u001b[0m \u001b[0;32mnot\u001b[0m \u001b[0;36m200\u001b[0m \u001b[0;34m<=\u001b[0m \u001b[0mresponse\u001b[0m\u001b[0;34m.\u001b[0m\u001b[0mstatus_code\u001b[0m \u001b[0;34m<\u001b[0m \u001b[0;36m300\u001b[0m\u001b[0;34m:\u001b[0m\u001b[0;34m\u001b[0m\u001b[0;34m\u001b[0m\u001b[0m\n\u001b[0;32m--> 484\u001b[0;31m             \u001b[0;32mraise\u001b[0m \u001b[0mexceptions\u001b[0m\u001b[0;34m.\u001b[0m\u001b[0mfrom_http_response\u001b[0m\u001b[0;34m(\u001b[0m\u001b[0mresponse\u001b[0m\u001b[0;34m)\u001b[0m\u001b[0;34m\u001b[0m\u001b[0;34m\u001b[0m\u001b[0m\n\u001b[0m\u001b[1;32m    485\u001b[0m \u001b[0;34m\u001b[0m\u001b[0m\n",
      "\u001b[0;31mNotFound\u001b[0m: 404 GET https://bigquery.googleapis.com/bigquery/v2/projects/cmat-315920/datasets/TX_2020_cntyvtd_cd/tables/TX_2020_cntyvtd_cd_2215_summaries?prettyPrint=false: Not found: Table cmat-315920:TX_2020_cntyvtd_cd.TX_2020_cntyvtd_cd_2215_summaries",
      "\nDuring handling of the above exception, another exception occurred:\n",
      "\u001b[0;31mConflict\u001b[0m                                  Traceback (most recent call last)",
      "\u001b[0;32m/tmp/ipykernel_38404/2856693766.py\u001b[0m in \u001b[0;36m<module>\u001b[0;34m\u001b[0m\n\u001b[1;32m     10\u001b[0m         \u001b[0mprint\u001b[0m\u001b[0;34m(\u001b[0m\u001b[0;34mf'copying {src_tbl.full_table_id} to {dest}'\u001b[0m\u001b[0;34m)\u001b[0m\u001b[0;34m\u001b[0m\u001b[0;34m\u001b[0m\u001b[0m\n\u001b[1;32m     11\u001b[0m         \u001b[0mbqclient\u001b[0m\u001b[0;34m.\u001b[0m\u001b[0mcreate_dataset\u001b[0m\u001b[0;34m(\u001b[0m\u001b[0mresults_stem\u001b[0m\u001b[0;34m,\u001b[0m \u001b[0mexists_ok\u001b[0m\u001b[0;34m=\u001b[0m\u001b[0;32mTrue\u001b[0m\u001b[0;34m)\u001b[0m\u001b[0;34m\u001b[0m\u001b[0;34m\u001b[0m\u001b[0m\n\u001b[0;32m---> 12\u001b[0;31m         \u001b[0mbqclient\u001b[0m\u001b[0;34m.\u001b[0m\u001b[0mcopy_table\u001b[0m\u001b[0;34m(\u001b[0m\u001b[0msrc_tbl\u001b[0m\u001b[0;34m,\u001b[0m \u001b[0mdest\u001b[0m\u001b[0;34m)\u001b[0m\u001b[0;34m.\u001b[0m\u001b[0mresult\u001b[0m\u001b[0;34m(\u001b[0m\u001b[0;34m)\u001b[0m\u001b[0;34m\u001b[0m\u001b[0;34m\u001b[0m\u001b[0m\n\u001b[0m",
      "\u001b[0;32m/opt/conda/lib/python3.7/site-packages/google/cloud/bigquery/job/base.py\u001b[0m in \u001b[0;36mresult\u001b[0;34m(self, retry, timeout)\u001b[0m\n\u001b[1;32m    706\u001b[0m \u001b[0;34m\u001b[0m\u001b[0m\n\u001b[1;32m    707\u001b[0m         \u001b[0mkwargs\u001b[0m \u001b[0;34m=\u001b[0m \u001b[0;34m{\u001b[0m\u001b[0;34m}\u001b[0m \u001b[0;32mif\u001b[0m \u001b[0mretry\u001b[0m \u001b[0;32mis\u001b[0m \u001b[0mDEFAULT_RETRY\u001b[0m \u001b[0;32melse\u001b[0m \u001b[0;34m{\u001b[0m\u001b[0;34m\"retry\"\u001b[0m\u001b[0;34m:\u001b[0m \u001b[0mretry\u001b[0m\u001b[0;34m}\u001b[0m\u001b[0;34m\u001b[0m\u001b[0;34m\u001b[0m\u001b[0m\n\u001b[0;32m--> 708\u001b[0;31m         \u001b[0;32mreturn\u001b[0m \u001b[0msuper\u001b[0m\u001b[0;34m(\u001b[0m\u001b[0m_AsyncJob\u001b[0m\u001b[0;34m,\u001b[0m \u001b[0mself\u001b[0m\u001b[0;34m)\u001b[0m\u001b[0;34m.\u001b[0m\u001b[0mresult\u001b[0m\u001b[0;34m(\u001b[0m\u001b[0mtimeout\u001b[0m\u001b[0;34m=\u001b[0m\u001b[0mtimeout\u001b[0m\u001b[0;34m,\u001b[0m \u001b[0;34m**\u001b[0m\u001b[0mkwargs\u001b[0m\u001b[0;34m)\u001b[0m\u001b[0;34m\u001b[0m\u001b[0;34m\u001b[0m\u001b[0m\n\u001b[0m\u001b[1;32m    709\u001b[0m \u001b[0;34m\u001b[0m\u001b[0m\n\u001b[1;32m    710\u001b[0m     \u001b[0;32mdef\u001b[0m \u001b[0mcancelled\u001b[0m\u001b[0;34m(\u001b[0m\u001b[0mself\u001b[0m\u001b[0;34m)\u001b[0m\u001b[0;34m:\u001b[0m\u001b[0;34m\u001b[0m\u001b[0;34m\u001b[0m\u001b[0m\n",
      "\u001b[0;32m/opt/conda/lib/python3.7/site-packages/google/api_core/future/polling.py\u001b[0m in \u001b[0;36mresult\u001b[0;34m(self, timeout, retry)\u001b[0m\n\u001b[1;32m    132\u001b[0m             \u001b[0;31m# pylint: disable=raising-bad-type\u001b[0m\u001b[0;34m\u001b[0m\u001b[0;34m\u001b[0m\u001b[0;34m\u001b[0m\u001b[0m\n\u001b[1;32m    133\u001b[0m             \u001b[0;31m# Pylint doesn't recognize that this is valid in this case.\u001b[0m\u001b[0;34m\u001b[0m\u001b[0;34m\u001b[0m\u001b[0;34m\u001b[0m\u001b[0m\n\u001b[0;32m--> 134\u001b[0;31m             \u001b[0;32mraise\u001b[0m \u001b[0mself\u001b[0m\u001b[0;34m.\u001b[0m\u001b[0m_exception\u001b[0m\u001b[0;34m\u001b[0m\u001b[0;34m\u001b[0m\u001b[0m\n\u001b[0m\u001b[1;32m    135\u001b[0m \u001b[0;34m\u001b[0m\u001b[0m\n\u001b[1;32m    136\u001b[0m         \u001b[0;32mreturn\u001b[0m \u001b[0mself\u001b[0m\u001b[0;34m.\u001b[0m\u001b[0m_result\u001b[0m\u001b[0;34m\u001b[0m\u001b[0;34m\u001b[0m\u001b[0m\n",
      "\u001b[0;31mConflict\u001b[0m: 409 Already Exists: Table cmat-315920:TX_2020_cntyvtd_cd.TX_2020_cntyvtd_cd_2215_summaries"
     ]
    }
   ],
   "source": [
    "# move from results to result_stem dataset\n",
    "from src import *\n",
    "for src_tbl in bqclient.list_tables(f'{proj_id}.results'):\n",
    "    w = src_tbl.table_id.split('_')\n",
    "    results_stem = f'{proj_id}.{\"_\".join(w[:4])}'\n",
    "    dest = f'{results_stem}.{src_tbl.table_id}'\n",
    "    try:\n",
    "        bqclient.get_table(dest)\n",
    "    except:\n",
    "        print(f'copying {src_tbl.full_table_id} to {dest}')\n",
    "        bqclient.create_dataset(results_stem, exists_ok=True)\n",
    "        bqclient.copy_table(src_tbl, dest).result()"
   ]
  },
  {
   "cell_type": "code",
   "execution_count": null,
   "id": "d7bcfb64",
   "metadata": {},
   "outputs": [],
   "source": [
    "# prepend results stem\n",
    "from src import *\n",
    "results_stem = 'TX_2020_cntyvtd_cd'\n",
    "ds = f'{proj_id}.{results_stem}'\n",
    "for src_tbl in bqclient.list_tables(ds):\n",
    "    nm = src_tbl.table_id\n",
    "    if nm[0].isnumeric:\n",
    "        query = f\"alter table {ds}.{nm} rename to {results_stem}_{nm}\"\n",
    "        run_query(query)"
   ]
  },
  {
   "cell_type": "code",
   "execution_count": null,
   "id": "3a87869d",
   "metadata": {},
   "outputs": [],
   "source": [
    "# change summary to summaries\n",
    "from src import *\n",
    "results_stem = 'results'\n",
    "ds = f'{proj_id}.{results_stem}'\n",
    "for src_tbl in bqclient.list_tables(ds):\n",
    "    nm = src_tbl.table_id\n",
    "    if nm[-7:] == 'summary':\n",
    "        new_nm = nm[:-7] + 'summaries'\n",
    "        query = f\"alter table {ds}.{nm} rename to {new_nm}\"\n",
    "        print(query)\n",
    "        run_query(query)"
   ]
  },
  {
   "cell_type": "code",
   "execution_count": null,
   "id": "ad2060da",
   "metadata": {},
   "outputs": [],
   "source": []
  }
 ],
 "metadata": {
  "kernelspec": {
   "display_name": "Python 3 (ipykernel)",
   "language": "python",
   "name": "python3"
  },
  "language_info": {
   "codemirror_mode": {
    "name": "ipython",
    "version": 3
   },
   "file_extension": ".py",
   "mimetype": "text/x-python",
   "name": "python",
   "nbconvert_exporter": "python",
   "pygments_lexer": "ipython3",
   "version": "3.7.10"
  }
 },
 "nbformat": 4,
 "nbformat_minor": 5
}
