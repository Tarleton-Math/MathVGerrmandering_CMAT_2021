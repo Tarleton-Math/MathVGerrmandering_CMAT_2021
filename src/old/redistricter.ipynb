{
 "cells": [
  {
   "cell_type": "code",
   "execution_count": null,
   "id": "6f47df94",
   "metadata": {},
   "outputs": [
    {
     "name": "stdout",
     "output_type": "stream",
     "text": [
      "The autoreload extension is already loaded. To reload it, use:\n",
      "  %reload_ext autoreload\n",
      "/home/jupyter/MathVGerrmandering_CMAT_2021\n",
      "Get crosswalks_TX_2010_tabblock   ... tabblock table exists ... success\n",
      "Get assignments_TX_2020_tabblock  ... tabblock table exists ... success\n",
      "Get shapes_TX_2020_tabblock       ... tabblock table exists ... success\n",
      "Get census_TX_2020_tabblock       ... tabblock table exists ... success\n",
      "Get elections_TX_2020_tabblock    ... tabblock table exists ... success\n",
      "Get nodes_TX_2020_cntyvtd_sldu_contract10_plans2101 ... raw table exists ... creating table ... "
     ]
    }
   ],
   "source": [
    "%load_ext autoreload\n",
    "%autoreload\n",
    "%cd /home/jupyter/MathVGerrmandering_CMAT_2021/\n",
    "from src import *\n",
    "from src.nodes import *\n",
    "from src.mcmc import *\n",
    "\n",
    "nodes_opts = {\n",
    "    'district_type'    : 'sldu',\n",
    "    'proposal'         : 'PLANS2101',\n",
    "    'abbr'             : 'TX',\n",
    "    'level'            : 'cntyvtd',\n",
    "    'contract_thresh'  : 10,\n",
    "    'refresh_tbl'      : ('nodes'),\n",
    "}\n",
    "mcmc_opts = {\n",
    "    'max_steps'             : 100000,\n",
    "    'defect_multiplier'     : 1.0,\n",
    "    'report_period'         : 1,\n",
    "    'save_period'           : 500,\n",
    "    'postprocess_thresh'    : 1.0,\n",
    "}\n",
    "\n",
    "N = Nodes(**nodes_opts)\n",
    "mcmc_opts['nodes_tbl'] = N.tbl\n",
    "M = MCMC(random_seed=9000000, **mcmc_opts)\n",
    "\n",
    "# M.init_chain()\n",
    "M.run_chain()\n",
    "# M.post_process1()\n",
    "# M.post_process2()\n",
    "\n",
    "# M.get_stats(return_df=True)\n",
    "# M.get_counties()"
   ]
  },
  {
   "cell_type": "code",
   "execution_count": 31,
   "id": "4f1ee9f3",
   "metadata": {},
   "outputs": [
    {
     "data": {
      "text/plain": [
       "sldu\n",
       "1    -0.100397\n",
       "2     0.004678\n",
       "3    -0.067017\n",
       "4     0.083997\n",
       "5     0.128297\n",
       "6    -0.112945\n",
       "7     0.073593\n",
       "8     0.061643\n",
       "9    -0.313284\n",
       "10    0.130611\n",
       "11   -0.007362\n",
       "12   -0.012382\n",
       "13   -0.051416\n",
       "14    0.110755\n",
       "15    0.003606\n",
       "16    0.090855\n",
       "17    0.018455\n",
       "18    0.102125\n",
       "19    0.012870\n",
       "20   -0.034572\n",
       "21   -0.048907\n",
       "22    0.077719\n",
       "23    0.104565\n",
       "24   -0.019381\n",
       "25    0.181199\n",
       "26   -0.105951\n",
       "27   -0.115408\n",
       "28   -0.148202\n",
       "29   -0.064885\n",
       "30    0.092629\n",
       "31   -0.075488\n",
       "Name: total_pop, dtype: float64"
      ]
     },
     "execution_count": 31,
     "metadata": {},
     "output_type": "execute_result"
    }
   ],
   "source": [
    "self=M\n",
    "df = self.graph_to_df(self.graph)\n",
    "p = df.groupby('sldu')['total_pop'].sum()\n",
    "(p-p.mean())/p.mean()\n"
   ]
  },
  {
   "cell_type": "code",
   "execution_count": 21,
   "id": "862a55d6",
   "metadata": {},
   "outputs": [
    {
     "data": {
      "text/plain": [
       "'cmat-315920.redistricting_data.nodes_TX_2020_raw'"
      ]
     },
     "execution_count": 21,
     "metadata": {},
     "output_type": "execute_result"
    }
   ],
   "source": [
    "N.raw"
   ]
  },
  {
   "cell_type": "code",
   "execution_count": 27,
   "id": "ad399b94",
   "metadata": {},
   "outputs": [
    {
     "name": "stdout",
     "output_type": "stream",
     "text": [
      "\n",
      "select\n",
      "    random_seed,\n",
      "    plan,\n",
      "    A.hash as hash_plan,\n",
      "    pop_deviation as pop_deviation_plan,\n",
      "    intersect_defect as intersect_defect_plan,\n",
      "    whole_defect as whole_defect_plan,\n",
      "    defect as defect_plan,\n",
      "from\n",
      "    cmat-315920.TX_2020_cntyvtd_cd_contract10.TX_2020_cntyvtd_cd_contract10_1000000_summaries as A\n",
      "\n"
     ]
    }
   ],
   "source": [
    "self=M\n",
    "        \n",
    "print(self.hash_query_list[0])\n",
    "\n",
    "# M.tbls.keys()"
   ]
  },
  {
   "cell_type": "code",
   "execution_count": 23,
   "id": "cd3658cd",
   "metadata": {},
   "outputs": [
    {
     "data": {
      "text/plain": [
       "[]"
      ]
     },
     "execution_count": 23,
     "metadata": {},
     "output_type": "execute_result"
    }
   ],
   "source": [
    "self = M\n",
    "self.hash_query_list\n",
    "# self.tbls.items()\n",
    "# self.hash_temp_tbls"
   ]
  },
  {
   "cell_type": "code",
   "execution_count": null,
   "id": "d918f0f8",
   "metadata": {},
   "outputs": [],
   "source": [
    "%load_ext autoreload\n",
    "%autoreload\n",
    "from src import *\n",
    "nodes_tbl = f'{proj_id}.redistricting_data.nodes_TX_2020_cntyvtd_cd_contract10'\n",
    "shape_tbl = f'{proj_id}.redistricting_data.shapes_TX_2020_tabblock'\n",
    "assignments_tbl = f'{proj_id}.redistricting_data.assignments_TX_2020_tabblock'\n",
    "\n",
    "query = f\"select polygon, geoid, aland from {nodes_tbl} where cd = 1\"\n",
    "df1 = run_query(query)"
   ]
  },
  {
   "cell_type": "code",
   "execution_count": null,
   "id": "3e1d67da",
   "metadata": {},
   "outputs": [],
   "source": [
    "query = f\"\"\"\n",
    "select\n",
    "    st_union_agg(B.polygon) as polygon\n",
    "from\n",
    "    {assignments_tbl} as A\n",
    "inner join\n",
    "    {shape_tbl} as B\n",
    "on\n",
    "    A.geoid = B.geoid\n",
    "where\n",
    "    cast(cd as int) = 1\n",
    "\"\"\"\n",
    "df2 = run_query(query)"
   ]
  },
  {
   "cell_type": "code",
   "execution_count": null,
   "id": "a493dd21",
   "metadata": {},
   "outputs": [],
   "source": [
    "geo1 = gpd.GeoSeries.from_wkt(df1['polygon'], crs=crs_census).to_crs(crs_area)\n",
    "gdf1 = gpd.GeoDataFrame(df1.drop(columns='polygon'), geometry=geo1)\n",
    "print(gdf1.dissolve().area[0] / (meters_per_mile**2), gdf1['aland'].sum())"
   ]
  },
  {
   "cell_type": "code",
   "execution_count": null,
   "id": "4897ac94",
   "metadata": {},
   "outputs": [],
   "source": [
    "geo2 = gpd.GeoSeries.from_wkt(df2['polygon'], crs=crs_census).to_crs(crs_area)\n",
    "gdf2 = gpd.GeoDataFrame(df2.drop(columns='polygon'), geometry=geo2)\n",
    "print(gdf2.dissolve().area[0] / (meters_per_mile**2))#, gdf2['aland'].sum())"
   ]
  },
  {
   "cell_type": "code",
   "execution_count": null,
   "id": "0620b2db",
   "metadata": {},
   "outputs": [],
   "source": [
    "%load_ext autoreload\n",
    "%autoreload\n",
    "from src import *\n",
    "\n",
    "query = f\"\"\"\n",
    "select\n",
    "    st_union_agg(B.polygon) as polygon\n",
    "from\n",
    "    {assignments_tbl} as A\n",
    "inner join\n",
    "    {shape_tbl} as B\n",
    "on\n",
    "    A.geoid = B.geoid\n",
    "where\n",
    "    cast(cd as int) = 1\n",
    "\"\"\"\n",
    "df = run_query(query)"
   ]
  },
  {
   "cell_type": "code",
   "execution_count": null,
   "id": "18ffe7b5",
   "metadata": {},
   "outputs": [],
   "source": [
    "df.rename(columns={'geometry':'polygon'}, inplace=True)"
   ]
  },
  {
   "cell_type": "code",
   "execution_count": null,
   "id": "08e6f932",
   "metadata": {},
   "outputs": [],
   "source": []
  },
  {
   "cell_type": "code",
   "execution_count": null,
   "id": "c492614a",
   "metadata": {},
   "outputs": [],
   "source": [
    "gdf.plot()"
   ]
  },
  {
   "cell_type": "code",
   "execution_count": null,
   "id": "c1db46cb",
   "metadata": {},
   "outputs": [],
   "source": [
    "c = gdf.dissolve()\n",
    "c.area / (meters_per_mile**2)"
   ]
  },
  {
   "cell_type": "code",
   "execution_count": null,
   "id": "b601d756",
   "metadata": {},
   "outputs": [],
   "source": []
  },
  {
   "cell_type": "code",
   "execution_count": null,
   "id": "9693cbd5",
   "metadata": {},
   "outputs": [],
   "source": [
    "gdf['aland'].sum()"
   ]
  },
  {
   "cell_type": "code",
   "execution_count": null,
   "id": "84f4541a",
   "metadata": {},
   "outputs": [],
   "source": [
    "# sorted(tuple(v)) for v in self.districts.values()\n",
    "tuple(sorted(tuple(sorted(v)) for v in self.districts.values()))"
   ]
  },
  {
   "cell_type": "code",
   "execution_count": null,
   "id": "7200fef0",
   "metadata": {},
   "outputs": [],
   "source": []
  },
  {
   "cell_type": "code",
   "execution_count": null,
   "id": "78634a06",
   "metadata": {},
   "outputs": [],
   "source": [
    "self=M\n",
    "grp = self.nodes_df.groupby(self.district_type)\n",
    "self.districts = {k:tuple(sorted(v)) for k,v in grp.groups.items()}\n",
    "grp = self.nodes_df.groupby('county')\n",
    "self.counties = {k:tuple(sorted(v)) for k,v in grp.groups.items()}\n",
    "\n",
    "\n",
    "self.districts\n",
    "self.counties"
   ]
  },
  {
   "cell_type": "code",
   "execution_count": null,
   "id": "c296c854",
   "metadata": {},
   "outputs": [],
   "source": [
    "M.get_counties()"
   ]
  },
  {
   "cell_type": "code",
   "execution_count": null,
   "id": "a516fac8",
   "metadata": {},
   "outputs": [],
   "source": [
    "self.adj[5]"
   ]
  },
  {
   "cell_type": "code",
   "execution_count": null,
   "id": "f37be01d",
   "metadata": {},
   "outputs": [],
   "source": [
    "for u, v, data in self.graph.edges(data=True):\n",
    "    d = self.graph.nodes[u][self.district_type]\n",
    "    if d in D:\n",
    "        if self.graph.nodes[v][self.district_type] == d\n",
    "            \n",
    "    print(d)\n",
    "    break\n"
   ]
  },
  {
   "cell_type": "code",
   "execution_count": null,
   "id": "97a8aa62",
   "metadata": {},
   "outputs": [],
   "source": [
    "# self=M\n",
    "# L = self.get_districts()[['total_pop']]\n",
    "# pop_diff = L.merge(L, how='cross')\n",
    "# pop_diff\n",
    "self.get_stats()"
   ]
  },
  {
   "cell_type": "code",
   "execution_count": null,
   "id": "b63d26c3",
   "metadata": {},
   "outputs": [],
   "source": [
    "L = self.get_districts()['total_pop']\n",
    "pop_diff = pd.DataFrame([(x, y, abs(p-q)) for x, p in L.iteritems() for y, q in L.iteritems() if x < y])#.set_index([0,1])#.squeeze()\n",
    "pop_diff"
   ]
  },
  {
   "cell_type": "code",
   "execution_count": null,
   "id": "697ea17a",
   "metadata": {},
   "outputs": [],
   "source": [
    "df = self.get_districts()['total_pop']\n",
    "df\n",
    "\n",
    "# .reset_index()\n",
    "# df.merge(df, how='cross')\n",
    "\n",
    "# df"
   ]
  },
  {
   "cell_type": "code",
   "execution_count": null,
   "id": "192372d7",
   "metadata": {},
   "outputs": [],
   "source": [
    "self=M\n",
    "self.districts"
   ]
  },
  {
   "cell_type": "code",
   "execution_count": null,
   "id": "1a426b4b",
   "metadata": {},
   "outputs": [],
   "source": [
    "M.graph_to_df().sort_values('seats_cd', ascending=False)"
   ]
  },
  {
   "cell_type": "code",
   "execution_count": null,
   "id": "297c931b",
   "metadata": {},
   "outputs": [],
   "source": [
    "self.nodes_df\n",
    "E = self.nodes_df[['county', self.district_type]].drop_duplicates()\n",
    "G = nx.from_pandas_edgelist(E, source='county', target=self.district_type)\n",
    "\n",
    "counties  = self.nodes_df.groupby('county')[['total_pop', self.seats_col]].sum()\n",
    "counties['whole_target']     = np.ceil (counties[self.seats_col]).astype(int)\n",
    "counties['intersect_target'] = np.floor(counties[self.seats_col]).astype(int)\n",
    "nx.set_node_attributes(G, counties.to_dict('index'))\n",
    "\n",
    "districts = self.nodes_df.groupby(self.district_type)[['total_pop', 'aland', 'perim']].sum()\n",
    "nx.set_node_attributes(G, districts.to_dict('index'))\n",
    "list(G.nodes(data=True))[:10]"
   ]
  },
  {
   "cell_type": "code",
   "execution_count": null,
   "id": "08c048c9",
   "metadata": {},
   "outputs": [],
   "source": [
    "q = self.adj.copy()\n",
    "q.remove_edges_from([(13, v) for v in q[13]])\n",
    "q[13]"
   ]
  },
  {
   "cell_type": "code",
   "execution_count": null,
   "id": "69c06c96",
   "metadata": {},
   "outputs": [],
   "source": [
    "\n",
    "\n",
    "# districts = list(sorted(set(self.nodes_df[self.district_type])))\n",
    "# # counties\n",
    "# # districts\n",
    "# d = districts[0]\n",
    "# d\n",
    "# # # e = G[d]\n",
    "# # # G.remove_edges_from(e)\n",
    "# # G[d]\n",
    "\n",
    "# def compute(G):\n",
    "#     for c in counties:\n",
    "#         G.nodes[c]['intersect'] = G.degree[c]\n",
    "#         G.nodes[c]['whole'] = sum(G.degree[d] == 1 for d in G[c])\n",
    "#     return pd.DataFrame.from_dict(dict(G.nodes(data=True)), orient='index')\n",
    "# #         print(c, G.nodes[c]['whole'], G.nodes[c]['intersect'])\n",
    "    \n",
    "# H = nx.subgraph_view(G, filter_edge = lambda u, v: u!=d and v!=d).copy()\n",
    "# for n in comp[0]:\n",
    "#     H.add_edge(n, d0)\n",
    "# for n in comp[1]:\n",
    "#     H.add_edge(n, d1)\n",
    "\n",
    "    \n",
    "# df_G = compute(G)\n",
    "# df_H = compute(H)\n",
    "# df_G.merge(df_H, left_index=True, right_index=True)\n",
    "\n",
    "# # (df_H, oi)\n",
    "\n",
    "# # mask = (df_G != df_H).any(axis=1)\n",
    "# # df_G\n",
    "\n",
    "# # sum(u==d or v==d for u, v in G.edges)\n",
    "\n",
    "# # for u,v in H.edges:\n",
    "# #     print(u==d or v==d)\n",
    "\n",
    "# H.edges\n",
    "# for u,v in G.edges:\n",
    "#     print(u, v, f(u,v))\n",
    "\n",
    "\n",
    "# H = nx.subgraph_view(G, filter_edge = lambda u, v: ~(u==d | v==d))\n",
    "# H[d]\n",
    "# counties  = list(set(self.nodes_df['county']))\n",
    "# districts = list(set(self.nodes_df[self.district_type]))\n",
    "# G = nx.from_pandas_edgelist(E, source='county', target=self.district_type)\n",
    "# for c in counties:\n",
    "#     G.nodes[c]['intersect'] = G.degree[c]\n",
    "#     G.nodes[c]['whole'] = sum(G.degree[d] == 1 for d in G[c])\n",
    "\n",
    "\n",
    "# G.edges()"
   ]
  },
  {
   "cell_type": "code",
   "execution_count": null,
   "id": "62b5f54f",
   "metadata": {},
   "outputs": [],
   "source": []
  },
  {
   "cell_type": "code",
   "execution_count": null,
   "id": "39a3b091",
   "metadata": {},
   "outputs": [],
   "source": []
  },
  {
   "cell_type": "code",
   "execution_count": null,
   "id": "3c50ca3e",
   "metadata": {},
   "outputs": [],
   "source": [
    "G = nx.Graph()\n",
    "d = {'a':17}\n",
    "G.add_node(1, **d)\n",
    "\n",
    "for n in G.nodes:\n",
    "    for k, v in d.items():\n",
    "        try:\n",
    "            G.nodes[n][k] +x\n",
    "\n",
    "# G.add_node(1, a=7)\n",
    "G.nodes(data=True)"
   ]
  },
  {
   "cell_type": "code",
   "execution_count": null,
   "id": "a46fcc00",
   "metadata": {},
   "outputs": [],
   "source": [
    "def f():\n",
    "    for d, data in self.districts.items():\n",
    "        data['nodes'] = set()\n",
    "    print\n",
    "    for n, d in self.graph.nodes(data=self.district_type):\n",
    "        self.districts[d]['nodes'].add(n)\n",
    "    return self.districts\n",
    "\n",
    "def g():\n",
    "    for d, data in self.districts.items():\n",
    "        data['nodes'] = list()\n",
    "    for n, d in self.graph.nodes(data=self.district_type):\n",
    "        self.districts[d]['nodes'].append(n)\n",
    "    self.districts[d]['nodes'] = list(set(self.districts[d]['nodes']))\n",
    "    return self.districts\n",
    "\n",
    "def h():\n",
    "    for d, data in self.districts.items():\n",
    "        data['nodes'] = list()\n",
    "    for n, d in self.graph.nodes(data=self.district_type):\n",
    "        self.districts[d]['nodes'].append(n)\n",
    "    self.districts[d]['nodes'] = list(np.unique(self.districts[d]['nodes']))\n",
    "    return self.districts\n",
    "\n",
    "\n",
    "n1 = f()\n",
    "n2 = g()\n",
    "n3 = h()\n",
    "print(n1 == n2, n2==n3)\n",
    "%timeit f()\n",
    "%timeit g()\n",
    "%timeit h()"
   ]
  },
  {
   "cell_type": "code",
   "execution_count": null,
   "id": "96c9d85e",
   "metadata": {},
   "outputs": [],
   "source": [
    "self=M\n",
    "self.plans_rec#return_df=True)"
   ]
  },
  {
   "cell_type": "code",
   "execution_count": null,
   "id": "0f4e5850",
   "metadata": {},
   "outputs": [],
   "source": [
    "M.counties"
   ]
  },
  {
   "cell_type": "code",
   "execution_count": null,
   "id": "f7700e24",
   "metadata": {},
   "outputs": [],
   "source": [
    "self = M\n",
    "P = {n:{'random_seed':self.random_seed, 'plan':self.plan, self.district_type:d} for n, d in self.graph.nodes(data=self.district_type)}\n",
    "pd.DataFrame.from_dict(P, orient='index')"
   ]
  },
  {
   "cell_type": "code",
   "execution_count": null,
   "id": "24c5a0da",
   "metadata": {},
   "outputs": [],
   "source": [
    "\n",
    "M.districts\n",
    "M.counties"
   ]
  },
  {
   "cell_type": "code",
   "execution_count": null,
   "id": "5aa194a4",
   "metadata": {},
   "outputs": [],
   "source": [
    "M.counties\n",
    "# M.nodes_df\n",
    "M.graph.nodes['001']['cd']\n",
    "for n, data_node in M.graph.nodes[n]:\n",
    "    pass"
   ]
  },
  {
   "cell_type": "code",
   "execution_count": null,
   "id": "623c86fb",
   "metadata": {},
   "outputs": [],
   "source": [
    "df = M.get_defect(return_df=True)\n",
    "df.sort_values('intersect')"
   ]
  },
  {
   "cell_type": "code",
   "execution_count": null,
   "id": "6c49e15d",
   "metadata": {},
   "outputs": [],
   "source": [
    "print(N.get_defect(return_df=True))"
   ]
  },
  {
   "cell_type": "code",
   "execution_count": null,
   "id": "f448020b",
   "metadata": {},
   "outputs": [],
   "source": [
    "%load_ext autoreload\n",
    "%autoreload\n",
    "%cd /home/jupyter/MathVGerrmandering_CMAT_2021/\n",
    "from src import *\n",
    "from src.nodes import *\n",
    "from src.mcmc import *\n",
    "notebook = True\n",
    "skip_inputs = 'y'\n",
    "run_mcmc = False\n",
    "%run -i redistricter"
   ]
  },
  {
   "cell_type": "code",
   "execution_count": null,
   "id": "beedd582",
   "metadata": {},
   "outputs": [],
   "source": [
    "M.get_graph()\n",
    "# M.get_stats()\n",
    "M.pop_deviation"
   ]
  },
  {
   "cell_type": "code",
   "execution_count": null,
   "id": "1a1801ed",
   "metadata": {},
   "outputs": [],
   "source": [
    "M.stats['pop_deviation'].max()\n",
    "D = (M.stats['total_pop'] - M.target_pop) / M.target_pop\n",
    "abs(D.max()) + abs(D.min())"
   ]
  },
  {
   "cell_type": "code",
   "execution_count": null,
   "id": "a8b2a4db",
   "metadata": {},
   "outputs": [],
   "source": [
    "df = M.nodes_df"
   ]
  },
  {
   "cell_type": "code",
   "execution_count": null,
   "id": "f7c85b69",
   "metadata": {},
   "outputs": [],
   "source": [
    "df = M.nodes_df.groupby('cd')['total_pop'].sum()\n",
    "# df = read_table(N.tbl)\n",
    "target_pop = df.sum() / 38\n",
    "D = (df - target_pop) / target_pop * 100\n",
    "(D.max()) + abs(D.min())\n",
    "# target_pop\n",
    "# M.pop\n",
    "# df['total_pop'].max()"
   ]
  },
  {
   "cell_type": "code",
   "execution_count": null,
   "id": "c0053657",
   "metadata": {},
   "outputs": [],
   "source": [
    "import pandas as pd\n",
    "df = pd.DataFrame()\n",
    "# # df[['A', 'B']]=[3,7]\n",
    "# df['B']=[7]\n",
    "# df\n",
    "\n",
    "pd.DataFrame.from_dict([{'a':3.0, 'b':7}])"
   ]
  },
  {
   "cell_type": "code",
   "execution_count": null,
   "id": "431c5e3c",
   "metadata": {},
   "outputs": [],
   "source": [
    "self = M\n",
    "df = self.nodes_df[['county', self.district_type, self.seats_col]].drop_duplicates()\n",
    "\n",
    "df = df.groupby(['county', self.district_type])[self.seats_col].sum().reset_index()\n",
    "df['whole'] = df.groupby(self.district_type)['county'].transform('count') <= 1\n",
    "df = df.groupby('county').agg(whole=('whole', 'sum'), intersect=('whole', 'count'), target=('seats_sldl', 'sum'))\n",
    "df['whole_defect'] = (np.floor(df['target']) - df['whole']).abs().astype(int)\n",
    "df['intersect_defect'] = (np.ceil(df['target']) - df['intersect']).abs().astype(int)\n",
    "df['defect'] = df['whole_defect'] + df['intersect_defect']\n",
    "\n",
    "# [['seats_sldl','whole']].sum()\n",
    "\n",
    "\n",
    "# df['whole_districts'] = df.groupby('county')['whole'].transform('sum')\n",
    "df\n",
    "df.sort_values('defect')\n",
    "# df"
   ]
  },
  {
   "cell_type": "code",
   "execution_count": null,
   "id": "3977a113",
   "metadata": {},
   "outputs": [],
   "source": [
    "M.results_bq"
   ]
  },
  {
   "cell_type": "code",
   "execution_count": null,
   "id": "4a834f7b",
   "metadata": {},
   "outputs": [],
   "source": [
    "%load_ext autoreload\n",
    "%autoreload\n",
    "from src import *\n",
    "tbl = f'{proj_id}.reredistricting_data.nodes_TX_2020_cntyvtd_sldl_contract10'\n",
    "\n",
    "tbl = f'{proj_id}.redistricting_data.nodes_TX_2020_cntyvtd_sldl_contract10'\n",
    "\n",
    "q = f\"select polygon, geoid, sldl, county, total_pop, density, aland, polsby_popper from {tbl}\"\n",
    "df = run_query(q)\n",
    "geo = gpd.GeoSeries.from_wkt(df['polygon'], crs=crs_census)#.to_crs(crs_area)\n",
    "gdf = gpd.GeoDataFrame(df.drop(columns='polygon'), geometry=geo)"
   ]
  },
  {
   "cell_type": "code",
   "execution_count": null,
   "id": "71ec9506",
   "metadata": {},
   "outputs": [],
   "source": [
    "# geo0  = gpd.GeoSeries.from_wkt(df['polygon'], crs=crs_census)\n",
    "# geo = gpd.GeoSeries.from_wkt(df['polygon'], crs=crs_census)#.to_crs(crs_area)\n",
    "# geo2 = geo1.buffer(0)\n",
    "# gdf0 = gpd.GeoDataFrame(df.drop(columns='polygon'), geometry=geo0)\n",
    "# gdf1 = gpd.GeoDataFrame(df.drop(columns='polygon'), geometry=geo1)\n",
    "# gdf2 = gpd.GeoDataFrame(df.drop(columns='polygon'), geometry=geo2)\n",
    "\n",
    "# q = pd.DataFrame()\n",
    "# q['orig'] = geo1.area\n",
    "# q['buffer'] = geo2.area\n",
    "# q['pct'] = (q['buffer'] - q['orig']) / q['buffer'] * 100\n",
    "# print(q['pct'].max())"
   ]
  },
  {
   "cell_type": "code",
   "execution_count": null,
   "id": "42c28ba1",
   "metadata": {},
   "outputs": [],
   "source": [
    "geo = gpd.GeoSeries.from_wkt(df['polygon'], crs=crs_census)#.to_crs(crs_area)\n",
    "gdf = gpd.GeoDataFrame(df.drop(columns='polygon'), geometry=geo)"
   ]
  },
  {
   "cell_type": "code",
   "execution_count": null,
   "id": "e06b54e6",
   "metadata": {},
   "outputs": [],
   "source": [
    "# gdf['color'] = gdf['sldl'].sample(1)\n",
    "W = pd.DataFrame()\n",
    "W['sldl'] = gdf['sldl'].unique()\n",
    "W['color'] = np.random.permutation(W['sldl'])\n",
    "gdf = gdf.merge(W, on='sldl')"
   ]
  },
  {
   "cell_type": "code",
   "execution_count": null,
   "id": "21505d52",
   "metadata": {},
   "outputs": [],
   "source": [
    "try:\n",
    "    import pandas_bokeh\n",
    "except:\n",
    "    os.system('pip install --upgrade pandas-bokeh')\n",
    "    import pandas_bokeh\n",
    "pandas_bokeh.output_notebook() #<------------- uncommment to view in notebook\n",
    "\n",
    "fig = gdf.plot_bokeh(\n",
    "            figsize = (900, 600),\n",
    "#             slider = plans,\n",
    "#             slider_name = \"PLAN #\",\n",
    "            category = 'color',\n",
    "            show_colorbar = False,\n",
    "            colorbar_tick_format=\"0\",\n",
    "            colormap = \"Category20\",\n",
    "            hovertool_string = '@geoid, @sldl<br>@county<br>pop=@total_pop<br>density=@density{0.0}<br>land=@aland{0.0}<br>pp=@polsby_popper{0.0}',\n",
    "            tile_provider = \"CARTODBPOSITRON\",\n",
    "            return_html = False,\n",
    "            show_figure = True,\n",
    "            **{'fill_alpha' :.5,\n",
    "              'line_alpha':.05,}\n",
    "        )\n",
    "fig"
   ]
  },
  {
   "cell_type": "code",
   "execution_count": null,
   "id": "2d4fb877",
   "metadata": {},
   "outputs": [],
   "source": [
    "fig"
   ]
  },
  {
   "cell_type": "code",
   "execution_count": null,
   "id": "4571342a",
   "metadata": {},
   "outputs": [],
   "source": [
    "def plot(df):\n",
    "    try:\n",
    "        import pandas_bokeh\n",
    "    except:\n",
    "        os.system('pip install --upgrade pandas-bokeh')\n",
    "        import pandas_bokeh\n",
    "\n",
    "    geo = gpd.GeoSeries.from_wkt(df['polygon'], crs='EPSG:4326').simplify(0.001).buffer(0) #<-- little white space @ .001 ~5.7 mb, minimal at .0001 ~10mb, with no white space ~37mb\n",
    "    gdf = gpd.GeoDataFrame(df.drop(columns='polygon'), geometry=geo)"
   ]
  },
  {
   "cell_type": "code",
   "execution_count": null,
   "id": "b609fbe5",
   "metadata": {},
   "outputs": [],
   "source": [
    "def plot(df):\n",
    "    try:\n",
    "        import pandas_bokeh\n",
    "    except:\n",
    "        os.system('pip install --upgrade pandas-bokeh')\n",
    "        import pandas_bokeh\n",
    "\n",
    "    try:\n",
    "#         df = read_table(tbl=self.tbl+'_plans')\n",
    "        df = df.pivot(index='geoid', columns='plan').astype(int)\n",
    "        df.columns = df.columns.droplevel().rename(None)\n",
    "        d = len(str(df.columns.max()))\n",
    "        plans = ['plan_'+str(c).rjust(d, '0') for c in df.columns]\n",
    "        df.columns = plans\n",
    "\n",
    "        shapes = run_query(f'select geoid, county, total_pop, density, aland, perim, polsby_popper, polygon from {self.nodes}')\n",
    "        df = df.merge(shapes, on='geoid')\n",
    "        geo = gpd.GeoSeries.from_wkt(df['polygon'], crs='EPSG:4326').simplify(0.001).buffer(0) #<-- little white space @ .001 ~5.7 mb, minimal at .0001 ~10mb, with no white space ~37mb\n",
    "#             geo = gpd.GeoSeries.from_wkt(df['polygon'], crs='EPSG:4326').buffer(0) # <-------------------- to not simplify at all\n",
    "        self.gdf = gpd.GeoDataFrame(df.drop(columns='polygon'), geometry=geo)\n",
    "\n",
    "        if show:\n",
    "            pandas_bokeh.output_notebook() #<------------- uncommment to view in notebook\n",
    "        fig = self.gdf.plot_bokeh(\n",
    "            figsize = (900, 600),\n",
    "            slider = plans,\n",
    "            slider_name = \"PLAN #\",\n",
    "            show_colorbar = False,\n",
    "            colorbar_tick_format=\"0\",\n",
    "            colormap = \"Category20\",\n",
    "            hovertool_string = '@geoid, @county<br>pop=@total_pop<br>density=@density{0.0}<br>land=@aland{0.0}<br>pp=@polsby_popper{0.0}',\n",
    "            tile_provider = \"CARTODBPOSITRON\",\n",
    "            return_html = True,\n",
    "            show_figure = show,\n",
    "            **{'fill_alpha' :.5,\n",
    "              'line_alpha':.05,}\n",
    "        )\n",
    "        fn = self.results_path / f'{self.run}_map.html'\n",
    "        with open(fn, 'w') as file:\n",
    "            file.write(fig)\n",
    "#             rpt(f'map creation for {self.seed} - success')\n",
    "    except Exception as e:\n",
    "        rpt(f'map creation for {self.seed} - FAIL {e}')\n",
    "        fig = None\n",
    "    return fig"
   ]
  },
  {
   "cell_type": "code",
   "execution_count": null,
   "id": "44554834",
   "metadata": {},
   "outputs": [],
   "source": [
    "%load_ext autoreload\n",
    "%autoreload\n",
    "%cd /home/jupyter/MathVGerrmandering_CMAT_2021/\n",
    "from src import *\n",
    "notebook = True\n",
    "skip_inputs = 'y'\n",
    "for contract_thresh in [0, 5, 10]:\n",
    "    for level in Levels:\n",
    "        for district_type in District_types:\n",
    "            nodes_opts = {\n",
    "                'abbr'             : 'TX',\n",
    "                'level'            : level,\n",
    "                'district_type'    : district_type,\n",
    "                'contract_thresh'  : contract_thresh,\n",
    "            }\n",
    "            %run -i redistricter"
   ]
  },
  {
   "cell_type": "code",
   "execution_count": null,
   "id": "62d8540f",
   "metadata": {},
   "outputs": [],
   "source": [
    "nx.subgraph?"
   ]
  },
  {
   "cell_type": "code",
   "execution_count": null,
   "id": "9b00e45d",
   "metadata": {},
   "outputs": [],
   "source": [
    "N.tbl.split('.')[-1].split('_')"
   ]
  },
  {
   "cell_type": "code",
   "execution_count": null,
   "id": "0cd94324",
   "metadata": {},
   "outputs": [],
   "source": [
    "%load_ext autoreload\n",
    "%autoreload\n",
    "%cd /home/jupyter/MathVGerrmandering_CMAT_2021/\n",
    "from src import *\n",
    "\n",
    "tbl = f'{root_bq}.TX_2020_cntyvtd_cd.TX_2020_cntyvtd_cd_0000000_allresults'\n",
    "results_stem = tbl.split('.')[1]\n",
    "\n",
    "d = dict()\n",
    "for c in [x for x in [x.split('_') for x in get_cols(tbl)] if x[0] in ['President', 'USSen'] and x[3] in ['R', 'D']]:\n",
    "    a = '_'.join(c[:2])\n",
    "    b = c[3]\n",
    "    c = '_'.join(c)\n",
    "    try:\n",
    "        d[a][b] = c\n",
    "    except:\n",
    "        d[a] = {b:c}\n",
    "\n",
    "for key, val in d.items():\n",
    "    query = f\"\"\"\n",
    "select\n",
    "    seed,\n",
    "    plan,\n",
    "    cd,\n",
    "    V as {key}_DR_votes,\n",
    "    D / V as {key}_D_prop\n",
    "from (\n",
    "    select\n",
    "        *,\n",
    "        D + R as V\n",
    "    from (\n",
    "        select\n",
    "            seed,\n",
    "            plan,\n",
    "            cd,\n",
    "            {val['D']} as D,\n",
    "            {val['R']} as R\n",
    "        from\n",
    "            {tbl}\n",
    "        )\n",
    "    )\n",
    "order by\n",
    "    seed, plan, cd\n",
    "\"\"\"\n",
    "    tbl_out = tbl.replace('allresults', key)\n",
    "    s = tbl_out.split('.')\n",
    "    pq = f'output/{s[1]}/{s[2]}.parquet'\n",
    "    file = root_path / pq\n",
    "    file.parent.mkdir(parents=True, exist_ok=True)\n",
    "    \n",
    "    load_table(tbl=tbl_out, query=query)\n",
    "    df = read_table(tbl_out)\n",
    "#     display(df.head(3))\n",
    "#     df.sort_values(['seed', 'plan', 'cd'], inplace=True)\n",
    "#     display(df.head(3))\n",
    "\n",
    "    df.to_parquet(file)\n",
    "    gcs_bucket.blob(str(pq)).upload_from_filename(file)\n",
    "#     del df"
   ]
  },
  {
   "cell_type": "code",
   "execution_count": null,
   "id": "dc16e3ad",
   "metadata": {},
   "outputs": [],
   "source": []
  },
  {
   "cell_type": "code",
   "execution_count": null,
   "id": "553cba33",
   "metadata": {},
   "outputs": [],
   "source": [
    "df.groupby(['seed', 'plan']).size()"
   ]
  },
  {
   "cell_type": "code",
   "execution_count": null,
   "id": "fdbd9e2c",
   "metadata": {},
   "outputs": [],
   "source": [
    "df"
   ]
  },
  {
   "cell_type": "code",
   "execution_count": null,
   "id": "7e46293a",
   "metadata": {},
   "outputs": [],
   "source": [
    "l = [1,2,3,4]\n",
    "l[[0,2]]"
   ]
  },
  {
   "cell_type": "code",
   "execution_count": null,
   "id": "26f131cf",
   "metadata": {},
   "outputs": [],
   "source": [
    "nx.subgraph_view(G.graph)"
   ]
  },
  {
   "cell_type": "code",
   "execution_count": null,
   "id": "57a5bb04",
   "metadata": {},
   "outputs": [],
   "source": [
    "self=G\n",
    "D =2\n",
    "# H = nx.subgraph_view(G.graph, filter_node=lambda n: n.data[self.district_type] == D)\n",
    "H = nx.subgraph_view(self.graph, filter_node=lambda n: self.graph.nodes[n][self.district_type] == D)\n",
    "H.nodes"
   ]
  },
  {
   "cell_type": "code",
   "execution_count": null,
   "id": "fb7d563f",
   "metadata": {},
   "outputs": [],
   "source": [
    "nx.subgraph_view(G, filter_node=lambda n: n.data[self.district_type] == D)"
   ]
  },
  {
   "cell_type": "code",
   "execution_count": null,
   "id": "aba60f80",
   "metadata": {},
   "outputs": [],
   "source": [
    "nx.subgraph_view(G, filter_node=lambda n: n.data[self.district_type] == D)"
   ]
  },
  {
   "cell_type": "code",
   "execution_count": null,
   "id": "bb93ef6f",
   "metadata": {},
   "outputs": [],
   "source": [
    "nx.subgraph_view(G.graph, filter_node=lambda n: n.data[self.district_type] == D)"
   ]
  },
  {
   "cell_type": "code",
   "execution_count": null,
   "id": "12e50fa5",
   "metadata": {},
   "outputs": [],
   "source": [
    "g = G.graph.nodes(data='cd')\n",
    "g['001']\n",
    "# list(g.nodes)[:10]\n",
    "# x = '161'\n",
    "# rng = np.random.default_rng(11)\n",
    "# # y = rng.choice(g[x])\n",
    "# g.nodes[rng.choice(g[x])]['cd']\n",
    "# # w = g[x]\n",
    "\n",
    "\n",
    "# # w.items()\n",
    "# # d = dict(w)\n",
    "# y = rng.choice(w)\n",
    "# y\n",
    "# g.nodes[y]\n",
    "# w[y]\n",
    "# w\n",
    "# list(g.neighbors(x, data=True))\n",
    "# g.neighbors?\n",
    "# n = rng.choice(dict(g[x]))\n",
    "# g[n]\n",
    "# n\n",
    "\n",
    "# rng.randomg[x]"
   ]
  },
  {
   "cell_type": "code",
   "execution_count": null,
   "id": "62018754",
   "metadata": {},
   "outputs": [],
   "source": [
    "1+1"
   ]
  },
  {
   "cell_type": "code",
   "execution_count": null,
   "id": "65b03d61",
   "metadata": {},
   "outputs": [],
   "source": [
    "%load_ext autoreload\n",
    "%autoreload\n",
    "%cd /home/jupyter/MathVGerrmandering_CMAT_2021/\n",
    "from src import *\n",
    "notebook = True\n",
    "skip_inputs = 'y'\n",
    "\n",
    "for level in Levels:\n",
    "    for district_type in District_types:\n",
    "        D = list()\n",
    "        for countyline_rule in [0, 2010, 5, 10]:\n",
    "            print(level, district_type, countyline_rule)\n",
    "            graph_opts = {\n",
    "                'abbr'             : 'TX',\n",
    "                'level'            : level,\n",
    "                'district_type'    : district_type,\n",
    "                'census_yr'        : 2020,\n",
    "                'countyline_rule'  : countyline_rule,\n",
    "            }\n",
    "            %run -i redistricter\n",
    "            D.append(f'select * from {G.nodes.tbl}')\n",
    "        t = G.nodes.tbl\n",
    "        combined_tbl = t[:t.rfind('_')] + '_combined'\n",
    "        D = '\\nunion all\\n'.join(D)\n",
    "        query = f\"\"\"\n",
    "select\n",
    "    *\n",
    "from (\n",
    "    select\n",
    "        *,\n",
    "        row_number() over (partition by geoid) as r\n",
    "    from (\n",
    "        {subquery(D, indents=2)}\n",
    "        )\n",
    "    )\n",
    "where\n",
    "    r = 1\n",
    "\"\"\"\n",
    "#         print(combined_tbl)\n",
    "#         print(query)\n",
    "#         assert 1==2\n",
    "        load_table(tbl=combined_tbl, query=query)\n",
    "        "
   ]
  },
  {
   "cell_type": "code",
   "execution_count": null,
   "id": "ec73cc4d",
   "metadata": {},
   "outputs": [],
   "source": [
    "t = D[0]\n",
    "t[:t.rfind('_')]"
   ]
  },
  {
   "cell_type": "code",
   "execution_count": null,
   "id": "4cece6d0",
   "metadata": {},
   "outputs": [],
   "source": [
    "            query = f\"\"\"\n",
    "select\n",
    "    *\n",
    "from (\n",
    "    select\n",
    "        *,\n",
    "        row_number() over (partition by geoid) as r\n",
    "    from (\n",
    "        select * from {A}\n",
    "        union all\n",
    "        select * from {B}\n",
    "        union all\n",
    "        select * from {C}\n",
    "        )\n",
    "    )\n",
    "where\n",
    "    r = 1\n",
    "\"\"\"\n"
   ]
  },
  {
   "cell_type": "code",
   "execution_count": null,
   "id": "3db83bbc",
   "metadata": {},
   "outputs": [],
   "source": [
    "n = read_table(G.nodes.tbl)"
   ]
  },
  {
   "cell_type": "code",
   "execution_count": null,
   "id": "d412fcf3",
   "metadata": {},
   "outputs": [],
   "source": [
    "df = n.iloc[:,:4]\n",
    "df = df.groupby('county').agg({'total_pop':'sum', 'cd':'nunique'})\n",
    "ideal_pop = df['total_pop'].sum() / 38\n",
    "df['district_target'] = df['total_pop'] / ideal_pop\n",
    "df.sort_values('district_target')\n",
    "mask = (df['cd'] == 1) ^ (df['district_target'] <= 1)\n",
    "df[mask]"
   ]
  },
  {
   "cell_type": "code",
   "execution_count": null,
   "id": "985e9b52",
   "metadata": {},
   "outputs": [],
   "source": [
    "A.hash_tbl"
   ]
  },
  {
   "cell_type": "code",
   "execution_count": null,
   "id": "42471f09",
   "metadata": {},
   "outputs": [],
   "source": [
    "query = f\"\"\"\n",
    "select\n",
    "    *\n",
    "from\n",
    "    {A.tbl} as A\n",
    "inner join (\n",
    "    select\n",
    "        *\n",
    "    from\n",
    "        {A.hash_tbl}\n",
    "    where\n",
    "        rand() < 0.01\n",
    "    ) as B\n",
    "on\n",
    "    A.hash_plan = B.hash_plan\n",
    "\"\"\"\n",
    "df = run_query(query)\n",
    "df.to_parquet(A.pq)\n",
    "to_gcs(A.pq)"
   ]
  },
  {
   "cell_type": "code",
   "execution_count": null,
   "id": "8211a103",
   "metadata": {},
   "outputs": [],
   "source": [
    "df.to_parquet(A.pq)"
   ]
  },
  {
   "cell_type": "code",
   "execution_count": null,
   "id": "bee943d2",
   "metadata": {},
   "outputs": [],
   "source": [
    "to_gcs(A.pq)"
   ]
  },
  {
   "cell_type": "code",
   "execution_count": null,
   "id": "22c7ed0b",
   "metadata": {},
   "outputs": [],
   "source": [
    "df['hash_plan'].nunique()"
   ]
  },
  {
   "cell_type": "code",
   "execution_count": null,
   "id": "d63b1b30",
   "metadata": {},
   "outputs": [],
   "source": [
    "df\n",
    "df.memory_usage().sum() / 1000000"
   ]
  },
  {
   "cell_type": "code",
   "execution_count": null,
   "id": "9c0293ed",
   "metadata": {},
   "outputs": [],
   "source": [
    "df.to_parquet(A.pq)"
   ]
  },
  {
   "cell_type": "code",
   "execution_count": null,
   "id": "5e6b6f52",
   "metadata": {},
   "outputs": [],
   "source": [
    "A.pq"
   ]
  },
  {
   "cell_type": "code",
   "execution_count": null,
   "id": "3bf40831",
   "metadata": {},
   "outputs": [],
   "source": [
    "list(M.graph.nodes(data='plan'))[:10]"
   ]
  },
  {
   "cell_type": "code",
   "execution_count": null,
   "id": "7655539f",
   "metadata": {},
   "outputs": [],
   "source": [
    "self=M\n",
    "df = self.splits\n",
    "(df['whole_districts_target'] - df['whole_districts']).abs().sum()\n",
    "(df['county_parts_target'] - df['county_parts']).abs().sum()"
   ]
  },
  {
   "cell_type": "code",
   "execution_count": null,
   "id": "11ca5a74",
   "metadata": {},
   "outputs": [],
   "source": []
  },
  {
   "cell_type": "code",
   "execution_count": null,
   "id": "c14b4f9e",
   "metadata": {},
   "outputs": [],
   "source": [
    "self=G\n",
    "# w = dict(self.graph.nodes(data='total_pop'))\n",
    "# sorted(w.items(), key=lambda x:x[1], reverse=True)\n",
    "# w = dict(self.graph.nodes(data='total_pop'))\n",
    "sorted(self.graph.nodes(data='total_pop'), key=lambda x:x[1], reverse=True)[:2]"
   ]
  },
  {
   "cell_type": "code",
   "execution_count": null,
   "id": "08d851dc",
   "metadata": {},
   "outputs": [],
   "source": [
    "sum(d['total_pop'] for n, d in G.graph.nodes(data=True)) / 38"
   ]
  },
  {
   "cell_type": "code",
   "execution_count": null,
   "id": "88068096",
   "metadata": {},
   "outputs": [],
   "source": [
    "self.get_districts()"
   ]
  },
  {
   "cell_type": "code",
   "execution_count": null,
   "id": "bccdcc02",
   "metadata": {},
   "outputs": [],
   "source": [
    "\n",
    "G."
   ]
  },
  {
   "cell_type": "code",
   "execution_count": null,
   "id": "48703838",
   "metadata": {},
   "outputs": [],
   "source": [
    "self = G\n",
    "df = read_table(G.nodes.tbl)\n",
    "idx = df.nlargest(2, 'total_pop')"
   ]
  },
  {
   "cell_type": "code",
   "execution_count": null,
   "id": "56961dc6",
   "metadata": {},
   "outputs": [],
   "source": [
    "n = df.copy()\n",
    "m = n[self.district_type].max()\n",
    "n.loc[idx.index[0], self.district_type] = m+1\n",
    "n.loc[idx.index[1], self.district_type] = m+2\n",
    "m = n[self.district_type].max()\n",
    "pop_ideal = round(n['total_pop'].sum() / m)\n",
    "d = n.groupby(self.district_type)['total_pop'].sum()\n",
    "(d.max() - d.min()) / pop_ideal * 100"
   ]
  },
  {
   "cell_type": "code",
   "execution_count": null,
   "id": "2f2ac90d",
   "metadata": {},
   "outputs": [],
   "source": [
    "n.insert?"
   ]
  },
  {
   "cell_type": "code",
   "execution_count": null,
   "id": "4a12959b",
   "metadata": {},
   "outputs": [],
   "source": [
    "n = df.copy()\n",
    "m = n[self.district_type].max()\n",
    "n.loc[idx.index[0], self.district_type] = m+1\n",
    "n.loc[idx.index[1], self.district_type] = m+2\n",
    "m = n[self.district_type].max()\n",
    "pop_ideal = round(n['total_pop'].sum() / m)\n",
    "d = n.groupby(self.district_type)['total_pop'].sum()\n",
    "(d.max() - d.min()) / pop_ideal * 100"
   ]
  },
  {
   "cell_type": "code",
   "execution_count": null,
   "id": "0c79ce75",
   "metadata": {},
   "outputs": [],
   "source": [
    "pop_ideal = round(n['total_pop'].sum() / m)\n",
    "d = n.groupby(self.district_type)['total_pop'].sum()\n",
    "d\n",
    "# (d.max() - d.min()) / pop_ideal\n",
    "(d.max() - d.min()) / pop_ideal"
   ]
  },
  {
   "cell_type": "code",
   "execution_count": null,
   "id": "127a8db6",
   "metadata": {},
   "outputs": [],
   "source": [
    "len(G.graph.nodes(data=True))"
   ]
  },
  {
   "cell_type": "code",
   "execution_count": null,
   "id": "8f747ddf",
   "metadata": {},
   "outputs": [],
   "source": [
    "n = pd.DataFrame.from_dict(dict(self.graph.nodes(data=True)), orient='index')\n",
    "\n",
    "ideal_pop = round(n['total_pop'].sum() / 38)\n",
    "n['target'] = n.groupby('county')['total_pop'].transform('sum') / ideal_pop\n",
    "n['whole_districts_target'] = np.floor(n['target']).astype(int)\n",
    "n['parts_target'] = np.ceil(n['target']).astype(int)\n",
    "\n",
    "\n",
    "w = n[['county', self.district_type, 'parts_target', 'whole_districts_target']].drop_duplicates()\n",
    "w['whole_district'] = w.groupby(self.district_type)['county'].transform('count') <= 1\n",
    "w['whole_districts'] = w.groupby('county')['whole_district'].transform('sum')\n",
    "w['county_parts'] = w.groupby('county')[self.district_type].transform('count')\n",
    "w.drop(columns=[self.district_type, 'whole_district']).drop_duplicates()\n",
    "# w['parts_error'] = (w['parts_target'] - w['parts']).abs()\n",
    "# w['districts_contained_error'] = (w['districts_contained_target'] - w['districts_contained']).abs()\n",
    "# w.sort_values('parts_target')"
   ]
  },
  {
   "cell_type": "code",
   "execution_count": null,
   "id": "ba35ed67",
   "metadata": {},
   "outputs": [],
   "source": [
    "pd.DataFrame.from_dict(dict(self.graph.nodes(data=True)), orient='index').dtypes"
   ]
  },
  {
   "cell_type": "code",
   "execution_count": null,
   "id": "260f6e14",
   "metadata": {},
   "outputs": [],
   "source": [
    "list(self.graph.nodes(data=True))[:3]"
   ]
  },
  {
   "cell_type": "code",
   "execution_count": null,
   "id": "e985e7e6",
   "metadata": {},
   "outputs": [],
   "source": [
    "\n"
   ]
  },
  {
   "cell_type": "code",
   "execution_count": null,
   "id": "be57cd7c",
   "metadata": {},
   "outputs": [],
   "source": []
  },
  {
   "cell_type": "code",
   "execution_count": null,
   "id": "eb616aa8",
   "metadata": {},
   "outputs": [],
   "source": [
    "file = f'{root_path}/results/TX_2020_cntyvtd_cd/TX_2020_cntyvtd_cd_0000000_allresults'\n",
    "pq  = file + '.parquet'\n",
    "csv = file + '.csv'\n",
    "df = pd.read_parquet(pq)\n",
    "df.to_csv(csv)"
   ]
  },
  {
   "cell_type": "code",
   "execution_count": null,
   "id": "d3d0890c",
   "metadata": {},
   "outputs": [],
   "source": [
    "from src import *\n",
    "w = 'TX_2020_cntyvtd_cd'\n",
    "bq = f'{proj_id}.w'\n",
    "\n",
    "for tbl in bqclient.list_tables(w):\n",
    "    a = tbl.full_table_id.replace(':','.')\n",
    "    if a.find('allresults') >= 0:\n",
    "        print(f'deleting {a}')\n",
    "        delete_table(a)"
   ]
  },
  {
   "cell_type": "code",
   "execution_count": null,
   "id": "a6a83e52",
   "metadata": {},
   "outputs": [],
   "source": [
    "get_cols(f'{proj_id}.redistricting_data.nodes_TX_2020_cntyvtd_cd')[301:]"
   ]
  },
  {
   "cell_type": "code",
   "execution_count": null,
   "id": "44e3ab56",
   "metadata": {},
   "outputs": [],
   "source": [
    "from src import *\n",
    "ds = f'{proj_id}.TX_2020_cntyvtd_cd'\n",
    "for src_tbl in bqclient.list_tables(ds, max_):\n"
   ]
  },
  {
   "cell_type": "code",
   "execution_count": null,
   "id": "bf1218cc",
   "metadata": {},
   "outputs": [],
   "source": [
    "bqclient.list_tables?"
   ]
  },
  {
   "cell_type": "code",
   "execution_count": null,
   "id": "0e8ef53b",
   "metadata": {},
   "outputs": [],
   "source": [
    "1+1"
   ]
  },
  {
   "cell_type": "code",
   "execution_count": null,
   "id": "574f076d",
   "metadata": {},
   "outputs": [],
   "source": [
    "from src import *\n",
    "for src_tbl in bqclient.list_tables(f'{proj_id}.results'):\n",
    "    w = src_tbl.table_id.split('_')\n",
    "    ds = f'{proj_id}.{\"_\".join(w[:4])}'\n",
    "    dest = f'{ds}.{\"_\".join(w[4:])}'\n",
    "    try:\n",
    "        bqclient.get_table(dest)\n",
    "    except:\n",
    "        print(f'copying {src_tbl.full_table_id} to {dest}')\n",
    "        bqclient.create_dataset(ds, exists_ok=True)\n",
    "        bqclient.copy_table(src_tbl, dest).result()\n",
    "    \n",
    "#     print(src_tbl.table_id, dest_tbl)\n",
    "#     bqclient.copy_table(src_tbl, dest_tbl).result()\n",
    "#     client.delete_table(table_id, not_found_ok=True)\n",
    "#     print(ds)\n",
    "# bqclient.list_tables?\n",
    "# (root)\n",
    "# ds"
   ]
  },
  {
   "cell_type": "code",
   "execution_count": null,
   "id": "958488eb",
   "metadata": {},
   "outputs": [],
   "source": [
    "try:\n",
    "    bqclient.get_table('cmat-315920.TX_2020_cntyvtd_cd.10001_plans')\n",
    "except:\n",
    "    print('no')"
   ]
  },
  {
   "cell_type": "code",
   "execution_count": null,
   "id": "2b79edd3",
   "metadata": {},
   "outputs": [],
   "source": [
    "from src import *"
   ]
  },
  {
   "cell_type": "code",
   "execution_count": null,
   "id": "7efb24ee",
   "metadata": {},
   "outputs": [],
   "source": [
    "t = 'cmat-315920.results.TX_2020_cntyvtd_cd_0000_plans'\n",
    "check_table(t)"
   ]
  },
  {
   "cell_type": "code",
   "execution_count": null,
   "id": "5a874b2c",
   "metadata": {},
   "outputs": [],
   "source": [
    "df = pd.DataFrame()"
   ]
  },
  {
   "cell_type": "code",
   "execution_count": null,
   "id": "70ddbe3f",
   "metadata": {},
   "outputs": [],
   "source": [
    "df.to_parquet?"
   ]
  },
  {
   "cell_type": "code",
   "execution_count": null,
   "id": "02931489",
   "metadata": {},
   "outputs": [],
   "source": [
    "from src import *\n",
    "google.cloud.bigquery.job.ExtractJobConfig(destinationFormat='parquet', compression='SNAPPY')\n"
   ]
  },
  {
   "cell_type": "code",
   "execution_count": null,
   "id": "26629573",
   "metadata": {},
   "outputs": [],
   "source": [
    "import pandas as pd\n",
    "df = pd.DataFrame()\n",
    "df['a'] = ['wab', 'wa1', 'wb2', 'w12']\n",
    "df['b'] = df['a'].str[:-1]\n",
    "df['c'] = df['a'].str[-1]\n",
    "mask = ~df['b'].str[-1].str.isnumeric() & df['c'].str.isnumeric()\n",
    "df.loc[mask, 'c'] = df.loc[mask, 'c'].str.rjust(2, '0')\n",
    "df['d'] = df['b'] + df['c']\n",
    "df"
   ]
  },
  {
   "cell_type": "code",
   "execution_count": null,
   "id": "03d7a8b9",
   "metadata": {},
   "outputs": [],
   "source": [
    "1+1"
   ]
  },
  {
   "cell_type": "code",
   "execution_count": null,
   "id": "ab98cbcc",
   "metadata": {},
   "outputs": [],
   "source": [
    "results_loc"
   ]
  },
  {
   "cell_type": "code",
   "execution_count": null,
   "id": "5e348218",
   "metadata": {},
   "outputs": [],
   "source": [
    "f = pathlib.Path('/home/jupyter/redistricting_data/crosswalks/TX')\n",
    "# f.mkdir()\n",
    "str(f)\n",
    "\n",
    "gcsclient."
   ]
  },
  {
   "cell_type": "code",
   "execution_count": null,
   "id": "8bc940b1",
   "metadata": {},
   "outputs": [],
   "source": [
    "str(G.crosswalks.pq).replace(str(root_loc), 'gs://bucket')"
   ]
  },
  {
   "cell_type": "code",
   "execution_count": null,
   "id": "ef6c18c5",
   "metadata": {},
   "outputs": [],
   "source": []
  },
  {
   "cell_type": "code",
   "execution_count": null,
   "id": "26f7b0a9",
   "metadata": {},
   "outputs": [],
   "source": [
    "G.crosswalks.zip\n",
    "\n",
    "\n",
    "# pq.with_suffix('.temp')"
   ]
  },
  {
   "cell_type": "code",
   "execution_count": null,
   "id": "6a8b047f",
   "metadata": {},
   "outputs": [],
   "source": [
    "dir(data_gcs)\n",
    "data_gcs.path"
   ]
  },
  {
   "cell_type": "code",
   "execution_count": null,
   "id": "640f7427",
   "metadata": {},
   "outputs": [],
   "source": [
    "df = read_table(G.crosswalks.tbl)"
   ]
  },
  {
   "cell_type": "code",
   "execution_count": null,
   "id": "d1c666f8",
   "metadata": {},
   "outputs": [],
   "source": [
    "df.to_parquet(root_loc / 'temp.parquet')"
   ]
  },
  {
   "cell_type": "code",
   "execution_count": null,
   "id": "7d641ee3",
   "metadata": {},
   "outputs": [],
   "source": [
    "df.size"
   ]
  },
  {
   "cell_type": "code",
   "execution_count": null,
   "id": "34117c67",
   "metadata": {},
   "outputs": [],
   "source": []
  },
  {
   "cell_type": "code",
   "execution_count": null,
   "id": "f0b7730d",
   "metadata": {},
   "outputs": [],
   "source": [
    "df2 = pd.read_parquet(root_loc / 'temp.pq')"
   ]
  },
  {
   "cell_type": "code",
   "execution_count": null,
   "id": "37490e3c",
   "metadata": {},
   "outputs": [],
   "source": [
    "df2.size"
   ]
  },
  {
   "cell_type": "markdown",
   "id": "02488a87",
   "metadata": {},
   "source": [
    "## "
   ]
  },
  {
   "cell_type": "code",
   "execution_count": null,
   "id": "01228d37",
   "metadata": {},
   "outputs": [],
   "source": [
    "f = data_gcs + G.crosswalks.pq.name\n",
    "df2.to_parquet(f)"
   ]
  },
  {
   "cell_type": "code",
   "execution_count": null,
   "id": "d40567f3",
   "metadata": {},
   "outputs": [],
   "source": [
    "df.shape, df2.shape"
   ]
  },
  {
   "cell_type": "code",
   "execution_count": null,
   "id": "8b9103c1",
   "metadata": {},
   "outputs": [],
   "source": [
    "df2"
   ]
  },
  {
   "cell_type": "code",
   "execution_count": null,
   "id": "b2e094b0",
   "metadata": {},
   "outputs": [],
   "source": [
    "data_gcs = f'gs://redistricting_data/'\n",
    "f = data_gcs + G.crosswalks.pq.name\n",
    "f\n",
    "bqclient.extract_table(G.crosswalks.tbl, data_gcs + G.crosswalks.pq.name).result()"
   ]
  },
  {
   "cell_type": "code",
   "execution_count": null,
   "id": "57188359",
   "metadata": {},
   "outputs": [],
   "source": [
    "bqclient.extract_table?"
   ]
  },
  {
   "cell_type": "code",
   "execution_count": null,
   "id": "4a1c6dde",
   "metadata": {},
   "outputs": [],
   "source": [
    "f = root_loc / 'crosswalks_TX_2010.parquet'\n",
    "f\n",
    "df = pd.read_parquet(f)"
   ]
  },
  {
   "cell_type": "code",
   "execution_count": null,
   "id": "683406d7",
   "metadata": {},
   "outputs": [],
   "source": [
    "df"
   ]
  },
  {
   "cell_type": "code",
   "execution_count": null,
   "id": "922d6871",
   "metadata": {},
   "outputs": [],
   "source": [
    "'gs://'+b.name"
   ]
  },
  {
   "cell_type": "code",
   "execution_count": null,
   "id": "5bde1060",
   "metadata": {},
   "outputs": [],
   "source": [
    "b = gcsclient.get_bucket(f'math_for_unbiased_maps_tx')\n",
    "df = pd.DataFrame()\n",
    "# df.to_parquet(b.blob('test'))\n",
    "\n",
    "t = b.blob('test/test2')\n",
    "# df.to_parquet(t)\n",
    "# t.path\n",
    "# g://t.name\n",
    "dir(t)\n",
    "# t._get_download_url(gcsclient)\n",
    "\n",
    "# t.__name__\n",
    "# t.path_helper?"
   ]
  },
  {
   "cell_type": "code",
   "execution_count": null,
   "id": "1f90cb1d",
   "metadata": {},
   "outputs": [],
   "source": [
    "b = gcsclient.get_bucket(f'math_for_unbiased_maps_tx')\n",
    "c = b.blob('test')\n",
    "c.upload_from_filenameid(root_loc / 'git.ipynb')"
   ]
  },
  {
   "cell_type": "code",
   "execution_count": null,
   "id": "11f0718f",
   "metadata": {},
   "outputs": [],
   "source": [
    "proj_id = 'cmat-315920'\n",
    "root_gcs = gcsclient.get_bucket(f'{proj_id}-bucket')\n",
    "# root_gcs.get_blob\n",
    "\n",
    "b = root_gcs.blob('redistricting_data/hi2.txt')#.upload_from_string('hello world')\n",
    "\n",
    "\n",
    "b.blob('sub')\n",
    "# gcsclient.create_bucket?\n",
    "\n",
    "\n",
    "# get_bucket(f'{proj_id}-bucket')\n",
    "# data_gcs = root_gcs.get_blob('redistricting_data/hi.txt')\n",
    "# data_gcs.upload_from_string('hello world')"
   ]
  },
  {
   "cell_type": "code",
   "execution_count": null,
   "id": "8a174059",
   "metadata": {},
   "outputs": [],
   "source": [
    "import google.cloud, pandas as pd\n",
    "cred, proj = google.auth.default(scopes=[\"https://www.googleapis.com/auth/cloud-platform\"])\n",
    "\n",
    "proj_id = 'cmat-315920'\n",
    "user_name = 'cook'\n",
    "timestamp = str(pd.Timestamp.now().round(\"s\")).replace(' ','_').replace('-','_').replace(':','_')\n",
    "\n",
    "bqclient   = google.cloud.bigquery.Client(credentials=cred, project=proj)\n",
    "bqdata     = bqclient.get_dataset(f'redistricting_data')\n",
    "bqresults  = bqclient.get_dataset(f'redistricting_results_{user_name}')\n",
    "\n",
    "L = [x for x in bqclient.list_tables(bqdata)]\n",
    "dir(L[0])\n",
    "t = L[0]\n",
    "t.table_id\n",
    "bqdata.\n",
    "\n",
    "\n",
    "# gcsclient  = google.cloud.storage.Client(credentials=cred, project=proj)\n",
    "# gcsresults = gcsclient.get_bucket(f'redistricting_results')\n",
    "\n",
    "# gcsclient.create_bucket('redistricting_results')"
   ]
  },
  {
   "cell_type": "code",
   "execution_count": null,
   "id": "392d5a99",
   "metadata": {},
   "outputs": [],
   "source": [
    "# bqproj = \n",
    "list(bqclient.list_datasets())\n",
    "bqclient.project"
   ]
  },
  {
   "cell_type": "code",
   "execution_count": null,
   "id": "c8eff50e",
   "metadata": {},
   "outputs": [],
   "source": [
    "bqclient   = bigquery.Client(credentials=cred, project=proj)"
   ]
  },
  {
   "cell_type": "code",
   "execution_count": null,
   "id": "df713659",
   "metadata": {},
   "outputs": [],
   "source": [
    "gcsclient = google.cloud.storage.Client(project=proj_id)\n",
    "list(gcsclient.list_buckets())\n",
    "gcsbucket = gcsclient.get_bucket(f'{proj_id}-bucket')\n",
    "folder = gcsbucket.blob('test')\n",
    "gcsbucket.exists()\n",
    "folder.exists()\n",
    "gcsbucket.blob?"
   ]
  },
  {
   "cell_type": "code",
   "execution_count": null,
   "id": "3f7f8b38",
   "metadata": {},
   "outputs": [],
   "source": [
    "gcsbucket = gcsclient.get_bucket(f'{proj_id}-bucket')\n",
    "list(gcsbucket.list_blobs())"
   ]
  },
  {
   "cell_type": "code",
   "execution_count": null,
   "id": "a6c1d792",
   "metadata": {},
   "outputs": [],
   "source": [
    "root_gcs = gcsclient.get_bucket(f'{proj_id}-bucket')\n",
    "data_gcs = root_gcs.get_blob('redistricting_data')\n"
   ]
  },
  {
   "cell_type": "code",
   "execution_count": null,
   "id": "1622c816",
   "metadata": {},
   "outputs": [],
   "source": [
    "class Results(Base):\n",
    "    \n",
    "    \n",
    "\n",
    "\n",
    "\n",
    "timestamp = str(pd.Timestamp.now().round(\"s\")).replace(' ','_').replace('-','_').replace(':','_')\n",
    "\n",
    "bq_results\n",
    "gcs_results\n",
    "\n",
    "\n",
    "results_stem = f'{G.gpickle.stem[6:]}/{timestamp}'\n",
    "\n",
    "results_loc = root_path / f'results/{results_stem}'\n",
    "results_gcs = f'gc://{proj_id}-bucket/results/{results_stem}'\n",
    "results_bq  = f'{proj_id}.{results_stem}'\n",
    "\n",
    "results_loc.mkdir(parents=True, exist_ok=True)\n",
    "\n",
    "gcsclient = storage.Client(project=proj_id)\n",
    "\n",
    "gcsbucket = gcsclient.get_bucket('buckets')\n",
    "blob = bucket.blob('some/folder/name/')\n",
    "bqclient.create_dataset(results_bq, exists_ok=True)\n",
    "results_gcs"
   ]
  },
  {
   "cell_type": "code",
   "execution_count": null,
   "id": "9e1103cb",
   "metadata": {},
   "outputs": [],
   "source": [
    "bqclient.create_dataset?"
   ]
  },
  {
   "cell_type": "code",
   "execution_count": null,
   "id": "52c0286a",
   "metadata": {},
   "outputs": [],
   "source": [
    "root_path"
   ]
  },
  {
   "cell_type": "code",
   "execution_count": null,
   "id": "7ab6846c",
   "metadata": {},
   "outputs": [],
   "source": [
    "from src import *"
   ]
  },
  {
   "cell_type": "code",
   "execution_count": null,
   "id": "0e8c9d54",
   "metadata": {},
   "outputs": [],
   "source": [
    "bqclient.create_dataset?"
   ]
  },
  {
   "cell_type": "code",
   "execution_count": null,
   "id": "a3d70fd5",
   "metadata": {},
   "outputs": [],
   "source": []
  },
  {
   "cell_type": "code",
   "execution_count": null,
   "id": "892a1adc",
   "metadata": {},
   "outputs": [],
   "source": [
    "%autoreload\n",
    "from src import *\n",
    "\n",
    "nodes_tbl = f'{proj_id}.redistricting_data.nodes_TX_2020_cntyvtd_cd'\n",
    "mcmc_tbl  = f'{proj_id}.redistricting_results_cook.TX_2020_cntyvtd_cd_seed_0000'\n",
    "seeds = np.arange(16)\n",
    "A = Analysis(nodes=nodes_tbl, mcmc=mcmc_tbl, seeds=seeds)\n",
    "A.tbl = f'{proj_id}.redistricting_results_cook.TX_2020_cntyvtd_cd_2021_09_05_01_50_26'\n",
    "A.fetch_results()\n",
    "A.save_results()\n",
    "# A.file"
   ]
  },
  {
   "cell_type": "code",
   "execution_count": null,
   "id": "27a40fc5",
   "metadata": {},
   "outputs": [],
   "source": [
    "dir(A)\n",
    "'_'.join(G.gpickle.stem.split('_')[1:])"
   ]
  },
  {
   "cell_type": "code",
   "execution_count": null,
   "id": "d00ee172",
   "metadata": {},
   "outputs": [],
   "source": [
    "A.tbl.split('.')[-1]"
   ]
  },
  {
   "cell_type": "code",
   "execution_count": null,
   "id": "8c90669e",
   "metadata": {},
   "outputs": [],
   "source": []
  },
  {
   "cell_type": "code",
   "execution_count": null,
   "id": "07328879",
   "metadata": {},
   "outputs": [],
   "source": [
    "A.results.to_parquet(f\"gs://{proj_id}-bucket/{A.tbl.split('.')[-1]}\")"
   ]
  },
  {
   "cell_type": "code",
   "execution_count": null,
   "id": "7d5093ad",
   "metadata": {},
   "outputs": [],
   "source": [
    "A.results.shape"
   ]
  },
  {
   "cell_type": "code",
   "execution_count": null,
   "id": "f766a1bb",
   "metadata": {},
   "outputs": [],
   "source": [
    "self=A\n",
    "A.tbl\n",
    "root_path / f'results/{self.tbl.split(\".\")[-1]}.parquet'"
   ]
  },
  {
   "cell_type": "code",
   "execution_count": null,
   "id": "a5fcf950",
   "metadata": {},
   "outputs": [],
   "source": [
    "%autoreload\n",
    "from src import *\n",
    "\n",
    "idx = ['seed', 'plan', 'cd']\n",
    "for col in idx:\n",
    "    df[col] = rjust(df[col])\n",
    "df.sort_values(idx, inplace=True)\n",
    "file = pathlib.Path('/home/jupyter/results/TX_2020_cntyvtd_cd_2021_09_05_01_50_26')\n",
    "file.mkdir(parents=True, exist_ok=True)\n",
    "df.to_parquet(file, index=False, partition_cols='seed')"
   ]
  },
  {
   "cell_type": "code",
   "execution_count": null,
   "id": "ee6df296",
   "metadata": {},
   "outputs": [],
   "source": [
    "df.head(10)"
   ]
  },
  {
   "cell_type": "code",
   "execution_count": null,
   "id": "cb9d3840",
   "metadata": {},
   "outputs": [],
   "source": [
    "district_type = 'cd'\n",
    "\n",
    "tbl = f'cmat-315920.redistricting_results_cook.TX_2020_cntyvtd_cd_seed'\n",
    "s = \"\\nunion all\\n\"\n",
    "seeds = [s for s in range (100, 116) if s not in [104, 110]]\n",
    "summary_stack = s.join([f'select * from {tbl}_{str(seed).rjust(4, \"0\")}_summary' for seed in seeds])\n",
    "stats_stack   = s.join([f'select * from {tbl}_{str(seed).rjust(4, \"0\")}_stats'   for seed in seeds])\n",
    "plans_stack   = s.join([f'select * from {tbl}_{str(seed).rjust(4, \"0\")}_plans'   for seed in seeds])\n",
    "\n",
    "query = f\"\"\"\n",
    "select\n",
    "    B.seed,\n",
    "    B.plan,\n",
    "    C.{district_type},\n",
    "    B.pop_imbalance,\n",
    "    B.polsby_popper as polsby_popper_plan,\n",
    "    C.polsby_popper as polsby_popper_district,\n",
    "    C.total_pop\n",
    "from (\n",
    "    select\n",
    "        *\n",
    "    from (\n",
    "        select\n",
    "            *,\n",
    "            row_number() over (partition by A.hash order by plan asc, seed asc) as r\n",
    "        from (\n",
    "            {summary_stack}\n",
    "            ) as A\n",
    "        )\n",
    "    where r = 1\n",
    "    ) as B\n",
    "join (\n",
    "    select\n",
    "        *\n",
    "    from (\n",
    "        {stats_stack}\n",
    "        )\n",
    "    ) as C\n",
    "on\n",
    "    B.seed = C.seed and B.plan = C.plan\n",
    "\"\"\"\n",
    "df = run_query(query)\n",
    "# \n",
    "df#['hash'].value_counts().sort_values(ascending=False)"
   ]
  },
  {
   "cell_type": "code",
   "execution_count": null,
   "id": "e38e3e88",
   "metadata": {},
   "outputs": [],
   "source": [
    "district_type = 'cd'\n",
    "\n",
    "nodes = f'cmat-315920.redistricting_data.nodes_TX_2020_cntyvtd_cd'\n",
    "tbl = f'cmat-315920.redistricting_results_cook.TX_2020_cntyvtd_cd_seed'\n",
    "s = \"\\nunion all\\n\"\n",
    "seeds = [s for s in range (100, 116) if s not in [104, 110]]\n",
    "summary_stack = s.join([f'select * from {tbl}_{str(seed).rjust(4, \"0\")}_summary' for seed in seeds])\n",
    "stats_stack   = s.join([f'select * from {tbl}_{str(seed).rjust(4, \"0\")}_stats'   for seed in seeds])\n",
    "plans_stack   = s.join([f'select * from {tbl}_{str(seed).rjust(4, \"0\")}_plans'   for seed in seeds])\n",
    "\n",
    "query = f\"\"\"\n",
    "select\n",
    "    E.seed,\n",
    "    E.plan,\n",
    "    E.{district_type},\n",
    "    max(E.pop_imbalance) as pop_imbalance,\n",
    "    max(E.polsby_popper_plan) as polsby_popper_plan,\n",
    "    max(E.polsby_popper_district) as polsby_popper_district,\n",
    "    max(E.total_pop) as total_pop,\n",
    "    sum(F.total_1race)\n",
    "from (\n",
    "    select\n",
    "        B.seed,\n",
    "        B.plan,\n",
    "        C.{district_type},\n",
    "        B.pop_imbalance,\n",
    "        B.polsby_popper as polsby_popper_plan,\n",
    "        C.polsby_popper as polsby_popper_district,\n",
    "        C.total_pop,\n",
    "        D.geoid\n",
    "    from (\n",
    "        select\n",
    "            *\n",
    "        from (\n",
    "            select\n",
    "                *,\n",
    "                row_number() over (partition by A.hash order by plan asc, seed asc) as r\n",
    "            from (\n",
    "                {summary_stack}\n",
    "                ) as A\n",
    "            )\n",
    "        where r = 1\n",
    "        ) as B\n",
    "    inner join (\n",
    "        {stats_stack}\n",
    "        ) as C\n",
    "    on\n",
    "        B.seed = C.seed and B.plan = C.plan\n",
    "    inner join (\n",
    "        select\n",
    "            *\n",
    "        from (\n",
    "            {plans_stack}\n",
    "            )\n",
    "        ) as D\n",
    "    on\n",
    "        C.seed = D.seed and C.plan = D.plan and C.{district_type} = D.{district_type}\n",
    "    ) as E\n",
    "inner join\n",
    "    {nodes} as F\n",
    "on\n",
    "    E.geoid = F.geoid\n",
    "group by\n",
    "    seed, plan, {district_type}\n",
    "\"\"\"\n",
    "df = run_query(query)\n",
    "# \n",
    "df#['hash'].value_counts().sort_values(ascending=False)"
   ]
  },
  {
   "cell_type": "code",
   "execution_count": null,
   "id": "f0473189",
   "metadata": {},
   "outputs": [],
   "source": [
    "district_type = 'cd'\n",
    "\n",
    "G.nodes_tbl = f'cmat-315920.redistricting_data.nodes_TX_2020_cntyvtd_cd'\n",
    "M.tbl = f'cmat-315920.redistricting_results_cook.TX_2020_cntyvtd_cd_seed'\n",
    "\n",
    "s = \"\\nunion all\\n\"\n",
    "seeds = [s for s in range (100, 116) if s not in [104, 110]]\n",
    "summary_stack = s.join([f'select * from {tbl}_{str(seed).rjust(4, \"0\")}_summary' for seed in seeds])\n",
    "stats_stack   = s.join([f'select * from {tbl}_{str(seed).rjust(4, \"0\")}_stats'   for seed in seeds])\n",
    "plans_stack   = s.join([f'select * from {tbl}_{str(seed).rjust(4, \"0\")}_plans'   for seed in seeds])\n",
    "\n",
    "cols = [c for c in get_cols(self.nodes) if c not in Levels + District_types + ['geoid', 'county', 'total_pop', 'polygon', 'perim', 'polsby_popper', 'density', 'point']]\n",
    "\n",
    "query = f\"\"\"\n",
    "select\n",
    "    B.seed,\n",
    "    B.plan,\n",
    "    C.{district_type},\n",
    "    max(B.pop_imbalance) as pop_imbalance_plan,\n",
    "    max(B.polsby_popper) as polsby_popper_plan,\n",
    "    max(C.polsby_popper) as polsby_popper_district,\n",
    "    max(C.total_pop) as total_pop,\n",
    "    max(C.total_pop) / sum(E.aland) as density,\n",
    "    {join_str(1).join([f'sum(E.{c}) as {c}' for c in cols])}\n",
    "from (\n",
    "    select\n",
    "        *\n",
    "    from (\n",
    "        select\n",
    "            *,\n",
    "            row_number() over (partition by A.hash order by plan asc, seed asc) as r\n",
    "        from (\n",
    "            {summary_stack}\n",
    "            ) as A\n",
    "        )\n",
    "    where r = 1\n",
    "    ) as B\n",
    "inner join (\n",
    "    {stats_stack}\n",
    "    ) as C\n",
    "on\n",
    "    B.seed = C.seed and B.plan = C.plan\n",
    "inner join (\n",
    "    select\n",
    "        *\n",
    "    from (\n",
    "        {plans_stack}\n",
    "        )\n",
    "    ) as D\n",
    "on\n",
    "    C.seed = D.seed and C.plan = D.plan and C.{district_type} = D.{district_type}\n",
    "inner join\n",
    "    {nodes} as E\n",
    "on\n",
    "    D.geoid = E.geoid\n",
    "group by\n",
    "    seed, plan, {district_type}\n",
    "\"\"\"\n",
    "df = run_query(query)\n",
    "# \n",
    "df#['hash'].value_counts().sort_values(ascending=False)"
   ]
  },
  {
   "cell_type": "code",
   "execution_count": null,
   "id": "b449fc29",
   "metadata": {},
   "outputs": [],
   "source": [
    "file = '/home/jupyter/results/TX_2020_cntyvtd_cd_2021_09_05_01_50_26'\n",
    "df = pd.read_csv(file+'.csv')"
   ]
  },
  {
   "cell_type": "code",
   "execution_count": null,
   "id": "a454fee4",
   "metadata": {},
   "outputs": [],
   "source": [
    "file = pathlib.Path('/home/jupyter/results/TX_2020_cntyvtd_cd_2021_09_05_01_50_26')\n",
    "pq = file /'.parquet'\n",
    "pq.mkdir(parents=True, exist_ok=True)\n",
    "df.to_parquet(pq, index=False, partition_cols='seed')"
   ]
  },
  {
   "cell_type": "code",
   "execution_count": null,
   "id": "c0094dd1",
   "metadata": {},
   "outputs": [],
   "source": [
    "query = f\"\"\"\n",
    "    select\n",
    "        *\n",
    "    from (\n",
    "        {stats_stack}\n",
    "        )\n",
    "\"\"\"\n",
    "run_query(query)"
   ]
  },
  {
   "cell_type": "code",
   "execution_count": null,
   "id": "11487121",
   "metadata": {},
   "outputs": [],
   "source": [
    "df"
   ]
  },
  {
   "cell_type": "code",
   "execution_count": null,
   "id": "10829207",
   "metadata": {},
   "outputs": [],
   "source": [
    "tbl = f'cmat-315920.redistricting_results_cook.TX_2020_cntyvtd_cd_seed'\n",
    "sels = [f'select * from {tbl}_{str(seed).rjust(4, \"0\")}_summary' for seed in range (100, 116) if seed != 110]\n",
    "query = \"\\nunion all\\n\".join(sels)\n",
    "query = f\"\"\"\n",
    "    select\n",
    "        A.hash,\n",
    "        max(seed),\n",
    "        max(plan),\n",
    "        count(*) as count\n",
    "    from (\n",
    "        {query}\n",
    "        ) as A\n",
    "    group by\n",
    "        A.hash\n",
    "\"\"\"\n",
    "df = run_query(query)\n",
    "# \n",
    "df['hash'].value_counts().sort_values(ascending=False)"
   ]
  },
  {
   "cell_type": "code",
   "execution_count": null,
   "id": "51aba817",
   "metadata": {},
   "outputs": [],
   "source": [
    "df.dtypes"
   ]
  },
  {
   "cell_type": "code",
   "execution_count": null,
   "id": "029804a4",
   "metadata": {},
   "outputs": [],
   "source": [
    "# df['seed'].unique()\n",
    "\n"
   ]
  },
  {
   "cell_type": "code",
   "execution_count": null,
   "id": "6cfde106",
   "metadata": {},
   "outputs": [],
   "source": []
  }
 ],
 "metadata": {
  "kernelspec": {
   "display_name": "Python 3 (ipykernel)",
   "language": "python",
   "name": "python3"
  },
  "language_info": {
   "codemirror_mode": {
    "name": "ipython",
    "version": 3
   },
   "file_extension": ".py",
   "mimetype": "text/x-python",
   "name": "python",
   "nbconvert_exporter": "python",
   "pygments_lexer": "ipython3",
   "version": "3.7.10"
  }
 },
 "nbformat": 4,
 "nbformat_minor": 5
}
