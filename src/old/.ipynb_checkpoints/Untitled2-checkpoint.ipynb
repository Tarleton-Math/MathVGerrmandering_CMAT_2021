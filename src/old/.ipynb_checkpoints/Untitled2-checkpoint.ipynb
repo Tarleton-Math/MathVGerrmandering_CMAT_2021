{
 "cells": [
  {
   "cell_type": "code",
   "execution_count": null,
   "id": "9ff451dc",
   "metadata": {},
   "outputs": [
    {
     "name": "stdout",
     "output_type": "stream",
     "text": [
      "alter table cmat-315920.TX_2020_cntyvtd_cd.TX_2020_cntyvtd_cd_0001_summary rename to TX_2020_cntyvtd_cd_0001_summaries\n",
      "alter table cmat-315920.TX_2020_cntyvtd_cd.TX_2020_cntyvtd_cd_0002_summary rename to TX_2020_cntyvtd_cd_0002_summaries\n",
      "alter table cmat-315920.TX_2020_cntyvtd_cd.TX_2020_cntyvtd_cd_0003_summary rename to TX_2020_cntyvtd_cd_0003_summaries\n",
      "alter table cmat-315920.TX_2020_cntyvtd_cd.TX_2020_cntyvtd_cd_0004_summary rename to TX_2020_cntyvtd_cd_0004_summaries\n",
      "alter table cmat-315920.TX_2020_cntyvtd_cd.TX_2020_cntyvtd_cd_0005_summary rename to TX_2020_cntyvtd_cd_0005_summaries\n",
      "alter table cmat-315920.TX_2020_cntyvtd_cd.TX_2020_cntyvtd_cd_0006_summary rename to TX_2020_cntyvtd_cd_0006_summaries\n",
      "alter table cmat-315920.TX_2020_cntyvtd_cd.TX_2020_cntyvtd_cd_0007_summary rename to TX_2020_cntyvtd_cd_0007_summaries\n",
      "alter table cmat-315920.TX_2020_cntyvtd_cd.TX_2020_cntyvtd_cd_0008_summary rename to TX_2020_cntyvtd_cd_0008_summaries\n",
      "alter table cmat-315920.TX_2020_cntyvtd_cd.TX_2020_cntyvtd_cd_0009_summary rename to TX_2020_cntyvtd_cd_0009_summaries\n",
      "alter table cmat-315920.TX_2020_cntyvtd_cd.TX_2020_cntyvtd_cd_0010_summary rename to TX_2020_cntyvtd_cd_0010_summaries\n",
      "alter table cmat-315920.TX_2020_cntyvtd_cd.TX_2020_cntyvtd_cd_0011_summary rename to TX_2020_cntyvtd_cd_0011_summaries\n",
      "alter table cmat-315920.TX_2020_cntyvtd_cd.TX_2020_cntyvtd_cd_0012_summary rename to TX_2020_cntyvtd_cd_0012_summaries\n",
      "alter table cmat-315920.TX_2020_cntyvtd_cd.TX_2020_cntyvtd_cd_0014_summary rename to TX_2020_cntyvtd_cd_0014_summaries\n",
      "alter table cmat-315920.TX_2020_cntyvtd_cd.TX_2020_cntyvtd_cd_0015_summary rename to TX_2020_cntyvtd_cd_0015_summaries\n",
      "alter table cmat-315920.TX_2020_cntyvtd_cd.TX_2020_cntyvtd_cd_0016_summary rename to TX_2020_cntyvtd_cd_0016_summaries\n",
      "alter table cmat-315920.TX_2020_cntyvtd_cd.TX_2020_cntyvtd_cd_0017_summary rename to TX_2020_cntyvtd_cd_0017_summaries\n",
      "alter table cmat-315920.TX_2020_cntyvtd_cd.TX_2020_cntyvtd_cd_0018_summary rename to TX_2020_cntyvtd_cd_0018_summaries\n",
      "alter table cmat-315920.TX_2020_cntyvtd_cd.TX_2020_cntyvtd_cd_0019_summary rename to TX_2020_cntyvtd_cd_0019_summaries\n"
     ]
    }
   ],
   "source": [
    "from src import *\n",
    "results_stem = 'TX_2020_cntyvtd_cd'\n",
    "ds = f'{proj_id}.{results_stem}'\n",
    "for src_tbl in bqclient.list_tables(ds):\n",
    "    nm = src_tbl.table_id\n",
    "    if nm[-7:] == 'summary':\n",
    "        new_nm = nm[:-7] + 'summaries'\n",
    "        query = f\"alter table {ds}.{nm} rename to {new_nm}\"\n",
    "        print(query)\n",
    "        run_query(query)"
   ]
  }
 ],
 "metadata": {
  "kernelspec": {
   "display_name": "Python 3 (ipykernel)",
   "language": "python",
   "name": "python3"
  },
  "language_info": {
   "codemirror_mode": {
    "name": "ipython",
    "version": 3
   },
   "file_extension": ".py",
   "mimetype": "text/x-python",
   "name": "python",
   "nbconvert_exporter": "python",
   "pygments_lexer": "ipython3",
   "version": "3.7.10"
  }
 },
 "nbformat": 4,
 "nbformat_minor": 5
}
