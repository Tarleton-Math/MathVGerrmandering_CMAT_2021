{
 "cells": [
  {
   "cell_type": "code",
   "execution_count": 1,
   "id": "c63999a6",
   "metadata": {},
   "outputs": [
    {
     "name": "stdout",
     "output_type": "stream",
     "text": [
      "getting states\n",
      "analyzing 0210 ... done!\n",
      "\n"
     ]
    }
   ],
   "source": [
    "%load_ext autoreload\n",
    "%autoreload\n",
    "from src import *\n",
    "from src.analysis import *\n",
    "user = 'cook'\n",
    "nodes = f'{proj_id}.redistricting_data.nodes_TX_2020_cntyvtd_cd'\n",
    "for s in range(210, 211):\n",
    "    seed = str(s).rjust(4, '0')\n",
    "    rpt(f'analyzing {seed}')\n",
    "    tbl = f'{proj_id}.redistricting_results_{user}.TX_2020_cntyvtd_cd_seed_{seed}'\n",
    "    analysis = Analysis(nodes=nodes, tbl=tbl)\n",
    "    fig = analysis.plot(show=False)\n",
    "    analysis.get_results()\n",
    "    print(f'done!\\n')"
   ]
  },
  {
   "cell_type": "code",
   "execution_count": 5,
   "id": "1ecc5bac",
   "metadata": {},
   "outputs": [
    {
     "name": "stdout",
     "output_type": "stream",
     "text": [
      "gsutil cp -r /home/jupyter/results gs://cmat-315920-bucket\n"
     ]
    }
   ],
   "source": [
    "cmd = f'gsutil cp -m -r {root_path}/results gs://cmat-315920-bucket'\n",
    "os.command(cmd)\n",
    "print(cmd)\n"
   ]
  },
  {
   "cell_type": "markdown",
   "id": "2d710371",
   "metadata": {},
   "source": []
  },
  {
   "cell_type": "code",
   "execution_count": 27,
   "id": "4633f534",
   "metadata": {},
   "outputs": [],
   "source": [
    "tx = analysis.gdf.dissolve().buffer(0)"
   ]
  },
  {
   "cell_type": "code",
   "execution_count": 28,
   "id": "a5c618cb",
   "metadata": {},
   "outputs": [
    {
     "data": {
      "text/plain": [
       "0    POLYGON ((-95.58186 28.72492, -95.62523 28.702...\n",
       "dtype: geometry"
      ]
     },
     "execution_count": 28,
     "metadata": {},
     "output_type": "execute_result"
    }
   ],
   "source": [
    "tx"
   ]
  },
  {
   "cell_type": "code",
   "execution_count": 29,
   "id": "a7fd3df6",
   "metadata": {},
   "outputs": [
    {
     "name": "stdout",
     "output_type": "stream",
     "text": [
      "102004 3639.581448907353 268595.8992982223\n",
      "102005 3629.854002941245 268595.8992982223\n",
      "102006 3618.5460341938365 268595.8992982223\n"
     ]
    }
   ],
   "source": [
    "for k in range(102004,102007):\n",
    "    p = tx.to_crs(f'ESRI:{k}').boundary.length[0] / meters_per_mile\n",
    "    a = tx.to_crs('ESRI:102003').area[0] / (meters_per_mile**2)\n",
    "    print(k, p, a)"
   ]
  },
  {
   "cell_type": "code",
   "execution_count": 31,
   "id": "e760eb37",
   "metadata": {},
   "outputs": [
    {
     "data": {
      "text/html": [
       "<div>\n",
       "<style scoped>\n",
       "    .dataframe tbody tr th:only-of-type {\n",
       "        vertical-align: middle;\n",
       "    }\n",
       "\n",
       "    .dataframe tbody tr th {\n",
       "        vertical-align: top;\n",
       "    }\n",
       "\n",
       "    .dataframe thead th {\n",
       "        text-align: right;\n",
       "    }\n",
       "</style>\n",
       "<table border=\"1\" class=\"dataframe\">\n",
       "  <thead>\n",
       "    <tr style=\"text-align: right;\">\n",
       "      <th></th>\n",
       "      <th>geoid</th>\n",
       "      <th>plan_0</th>\n",
       "      <th>plan_1</th>\n",
       "      <th>plan_2</th>\n",
       "      <th>plan_3</th>\n",
       "      <th>county</th>\n",
       "      <th>total_pop</th>\n",
       "      <th>density</th>\n",
       "      <th>aland</th>\n",
       "      <th>perim</th>\n",
       "      <th>polsby_popper</th>\n",
       "      <th>geometry</th>\n",
       "    </tr>\n",
       "  </thead>\n",
       "  <tbody>\n",
       "    <tr>\n",
       "      <th>0</th>\n",
       "      <td>001</td>\n",
       "      <td>5</td>\n",
       "      <td>5</td>\n",
       "      <td>5</td>\n",
       "      <td>5</td>\n",
       "      <td>Anderson</td>\n",
       "      <td>57922</td>\n",
       "      <td>54.508832</td>\n",
       "      <td>1062.616781</td>\n",
       "      <td>232.697418</td>\n",
       "      <td>24.66</td>\n",
       "      <td>POLYGON ((-95.79665 31.63106, -95.79673 31.632...</td>\n",
       "    </tr>\n",
       "    <tr>\n",
       "      <th>1</th>\n",
       "      <td>003</td>\n",
       "      <td>11</td>\n",
       "      <td>11</td>\n",
       "      <td>11</td>\n",
       "      <td>11</td>\n",
       "      <td>Andrews</td>\n",
       "      <td>18610</td>\n",
       "      <td>12.400704</td>\n",
       "      <td>1500.721275</td>\n",
       "      <td>159.944796</td>\n",
       "      <td>73.72</td>\n",
       "      <td>POLYGON ((-102.65164 32.08686, -102.65168 32.0...</td>\n",
       "    </tr>\n",
       "    <tr>\n",
       "      <th>2</th>\n",
       "      <td>005</td>\n",
       "      <td>1</td>\n",
       "      <td>1</td>\n",
       "      <td>1</td>\n",
       "      <td>1</td>\n",
       "      <td>Angelina</td>\n",
       "      <td>86395</td>\n",
       "      <td>108.282732</td>\n",
       "      <td>797.864980</td>\n",
       "      <td>214.461268</td>\n",
       "      <td>21.80</td>\n",
       "      <td>POLYGON ((-94.86642 31.20903, -94.86643 31.209...</td>\n",
       "    </tr>\n",
       "    <tr>\n",
       "      <th>3</th>\n",
       "      <td>007</td>\n",
       "      <td>27</td>\n",
       "      <td>27</td>\n",
       "      <td>27</td>\n",
       "      <td>27</td>\n",
       "      <td>Aransas</td>\n",
       "      <td>23830</td>\n",
       "      <td>94.537452</td>\n",
       "      <td>252.069412</td>\n",
       "      <td>125.078117</td>\n",
       "      <td>20.25</td>\n",
       "      <td>POLYGON ((-97.21944 28.01859, -97.22094 28.020...</td>\n",
       "    </tr>\n",
       "    <tr>\n",
       "      <th>4</th>\n",
       "      <td>009</td>\n",
       "      <td>13</td>\n",
       "      <td>13</td>\n",
       "      <td>13</td>\n",
       "      <td>13</td>\n",
       "      <td>Archer</td>\n",
       "      <td>8560</td>\n",
       "      <td>9.476478</td>\n",
       "      <td>903.289152</td>\n",
       "      <td>121.729138</td>\n",
       "      <td>76.60</td>\n",
       "      <td>POLYGON ((-98.95379 33.52771, -98.95378 33.530...</td>\n",
       "    </tr>\n",
       "    <tr>\n",
       "      <th>...</th>\n",
       "      <td>...</td>\n",
       "      <td>...</td>\n",
       "      <td>...</td>\n",
       "      <td>...</td>\n",
       "      <td>...</td>\n",
       "      <td>...</td>\n",
       "      <td>...</td>\n",
       "      <td>...</td>\n",
       "      <td>...</td>\n",
       "      <td>...</td>\n",
       "      <td>...</td>\n",
       "      <td>...</td>\n",
       "    </tr>\n",
       "    <tr>\n",
       "      <th>5334</th>\n",
       "      <td>4990004-4</td>\n",
       "      <td>5</td>\n",
       "      <td>5</td>\n",
       "      <td>5</td>\n",
       "      <td>5</td>\n",
       "      <td>Wood</td>\n",
       "      <td>1204</td>\n",
       "      <td>136.810873</td>\n",
       "      <td>8.800470</td>\n",
       "      <td>21.204968</td>\n",
       "      <td>24.59</td>\n",
       "      <td>POLYGON ((-95.42158 32.80024, -95.42159 32.799...</td>\n",
       "    </tr>\n",
       "    <tr>\n",
       "      <th>5335</th>\n",
       "      <td>501</td>\n",
       "      <td>19</td>\n",
       "      <td>19</td>\n",
       "      <td>19</td>\n",
       "      <td>19</td>\n",
       "      <td>Yoakum</td>\n",
       "      <td>7694</td>\n",
       "      <td>9.620927</td>\n",
       "      <td>799.715053</td>\n",
       "      <td>113.241075</td>\n",
       "      <td>78.37</td>\n",
       "      <td>POLYGON ((-103.06207 33.12432, -103.06207 33.1...</td>\n",
       "    </tr>\n",
       "    <tr>\n",
       "      <th>5336</th>\n",
       "      <td>503</td>\n",
       "      <td>19</td>\n",
       "      <td>19</td>\n",
       "      <td>19</td>\n",
       "      <td>19</td>\n",
       "      <td>Young</td>\n",
       "      <td>17867</td>\n",
       "      <td>19.537488</td>\n",
       "      <td>914.498313</td>\n",
       "      <td>122.263842</td>\n",
       "      <td>76.88</td>\n",
       "      <td>POLYGON ((-98.46627 33.39610, -98.46227 33.396...</td>\n",
       "    </tr>\n",
       "    <tr>\n",
       "      <th>5337</th>\n",
       "      <td>505</td>\n",
       "      <td>28</td>\n",
       "      <td>28</td>\n",
       "      <td>28</td>\n",
       "      <td>28</td>\n",
       "      <td>Zapata</td>\n",
       "      <td>13889</td>\n",
       "      <td>13.911086</td>\n",
       "      <td>998.412322</td>\n",
       "      <td>148.307126</td>\n",
       "      <td>57.04</td>\n",
       "      <td>POLYGON ((-98.95432 27.01162, -98.95431 27.010...</td>\n",
       "    </tr>\n",
       "    <tr>\n",
       "      <th>5338</th>\n",
       "      <td>507</td>\n",
       "      <td>23</td>\n",
       "      <td>23</td>\n",
       "      <td>23</td>\n",
       "      <td>23</td>\n",
       "      <td>Zavala</td>\n",
       "      <td>9670</td>\n",
       "      <td>7.453328</td>\n",
       "      <td>1297.407067</td>\n",
       "      <td>146.428287</td>\n",
       "      <td>76.04</td>\n",
       "      <td>POLYGON ((-99.62959 29.08954, -99.62528 29.089...</td>\n",
       "    </tr>\n",
       "  </tbody>\n",
       "</table>\n",
       "<p>5339 rows × 12 columns</p>\n",
       "</div>"
      ],
      "text/plain": [
       "          geoid  plan_0  plan_1  plan_2  plan_3    county  total_pop  \\\n",
       "0           001       5       5       5       5  Anderson      57922   \n",
       "1           003      11      11      11      11   Andrews      18610   \n",
       "2           005       1       1       1       1  Angelina      86395   \n",
       "3           007      27      27      27      27   Aransas      23830   \n",
       "4           009      13      13      13      13    Archer       8560   \n",
       "...         ...     ...     ...     ...     ...       ...        ...   \n",
       "5334  4990004-4       5       5       5       5      Wood       1204   \n",
       "5335        501      19      19      19      19    Yoakum       7694   \n",
       "5336        503      19      19      19      19     Young      17867   \n",
       "5337        505      28      28      28      28    Zapata      13889   \n",
       "5338        507      23      23      23      23    Zavala       9670   \n",
       "\n",
       "         density        aland       perim  polsby_popper  \\\n",
       "0      54.508832  1062.616781  232.697418          24.66   \n",
       "1      12.400704  1500.721275  159.944796          73.72   \n",
       "2     108.282732   797.864980  214.461268          21.80   \n",
       "3      94.537452   252.069412  125.078117          20.25   \n",
       "4       9.476478   903.289152  121.729138          76.60   \n",
       "...          ...          ...         ...            ...   \n",
       "5334  136.810873     8.800470   21.204968          24.59   \n",
       "5335    9.620927   799.715053  113.241075          78.37   \n",
       "5336   19.537488   914.498313  122.263842          76.88   \n",
       "5337   13.911086   998.412322  148.307126          57.04   \n",
       "5338    7.453328  1297.407067  146.428287          76.04   \n",
       "\n",
       "                                               geometry  \n",
       "0     POLYGON ((-95.79665 31.63106, -95.79673 31.632...  \n",
       "1     POLYGON ((-102.65164 32.08686, -102.65168 32.0...  \n",
       "2     POLYGON ((-94.86642 31.20903, -94.86643 31.209...  \n",
       "3     POLYGON ((-97.21944 28.01859, -97.22094 28.020...  \n",
       "4     POLYGON ((-98.95379 33.52771, -98.95378 33.530...  \n",
       "...                                                 ...  \n",
       "5334  POLYGON ((-95.42158 32.80024, -95.42159 32.799...  \n",
       "5335  POLYGON ((-103.06207 33.12432, -103.06207 33.1...  \n",
       "5336  POLYGON ((-98.46627 33.39610, -98.46227 33.396...  \n",
       "5337  POLYGON ((-98.95432 27.01162, -98.95431 27.010...  \n",
       "5338  POLYGON ((-99.62959 29.08954, -99.62528 29.089...  \n",
       "\n",
       "[5339 rows x 12 columns]"
      ]
     },
     "execution_count": 31,
     "metadata": {},
     "output_type": "execute_result"
    }
   ],
   "source": [
    "analysis.gdf['p']"
   ]
  },
  {
   "cell_type": "code",
   "execution_count": 21,
   "id": "aaf004af",
   "metadata": {},
   "outputs": [
    {
     "data": {
      "text/plain": [
       "69.81317007977317"
      ]
     },
     "execution_count": 21,
     "metadata": {},
     "output_type": "execute_result"
    }
   ],
   "source": [
    "s = 1\n",
    "A = s**2\n",
    "P = 4*s\n",
    "\n",
    "e=2 \n",
    "w=1\n",
    "l=e*w\n",
    "A=l*w\n",
    "P=2*l+2*w\n",
    "\n",
    "# r = 1\n",
    "# A = np.pi*r**2\n",
    "# P = 2*np.pi*r\n",
    "pp = 4*np.pi*A / (P**2) * 100\n",
    "pp"
   ]
  },
  {
   "cell_type": "code",
   "execution_count": 26,
   "id": "72b7e5f3",
   "metadata": {},
   "outputs": [
    {
     "data": {
      "text/plain": [
       "0.7853981633974483"
      ]
     },
     "execution_count": 26,
     "metadata": {},
     "output_type": "execute_result"
    }
   ],
   "source": [
    "# e = np.linspace(0, 2, 100)[1:]\n",
    "# pp = np.pi*e/(1+e)**2\n",
    "# plt.plot(e,pp)\n",
    "# # [np.pi*e/(1+e)**2]\n",
    "\n",
    "# x/(1+x)^2\n",
    "\n",
    "# (1+x)^2 - 2x(1+x)\n",
    "# 4-4\n",
    "\n",
    "np.pi/4"
   ]
  },
  {
   "cell_type": "code",
   "execution_count": 30,
   "id": "8a9c9aee",
   "metadata": {},
   "outputs": [
    {
     "data": {
      "text/plain": [
       "<AxesSubplot:>"
      ]
     },
     "execution_count": 30,
     "metadata": {},
     "output_type": "execute_result"
    },
    {
     "data": {
      "image/png": "[encoded data removed]",
      "text/plain": [
       "<Figure size 432x288 with 1 Axes>"
      ]
     },
     "metadata": {
      "needs_background": "light"
     },
     "output_type": "display_data"
    }
   ],
   "source": [
    "tx.plot()"
   ]
  },
  {
   "cell_type": "code",
   "execution_count": 10,
   "id": "1199e8bc",
   "metadata": {},
   "outputs": [
    {
     "data": {
      "text/plain": [
       "5339"
      ]
     },
     "execution_count": 10,
     "metadata": {},
     "output_type": "execute_result"
    }
   ],
   "source": [
    "from src import *\n",
    "p = '/home/jupyter/results/TX_2020_cntyvtd_cd_seed_0002/TX_2020_cntyvtd_cd_seed_0002_graph.gpickle'\n",
    "g = nx.read_gpickle(p)\n",
    "len(g.nodes)"
   ]
  },
  {
   "cell_type": "code",
   "execution_count": 4,
   "id": "12aa8e87",
   "metadata": {},
   "outputs": [
    {
     "data": {
      "text/plain": [
       "[0, 1, 2, 3, 4, 6, 7, 8, 9]"
      ]
     },
     "execution_count": 4,
     "metadata": {},
     "output_type": "execute_result"
    }
   ],
   "source": [
    "[x for x in range(10) if x != 5]"
   ]
  },
  {
   "cell_type": "code",
   "execution_count": 66,
   "id": "8ed1b36d",
   "metadata": {},
   "outputs": [
    {
     "name": "stdout",
     "output_type": "stream",
     "text": [
      "The autoreload extension is already loaded. To reload it, use:\n",
      "  %reload_ext autoreload\n",
      "2\n",
      "3\n",
      "4\n",
      "5\n",
      "6\n",
      "7\n",
      "8\n",
      "9\n",
      "10\n",
      "11\n",
      "12\n",
      "13\n",
      "14\n",
      "15\n",
      "16\n",
      "17\n",
      "18\n",
      "19\n",
      "20\n",
      "21\n",
      "22\n",
      "23\n",
      "24\n",
      "25\n",
      "26\n",
      "27\n",
      "28\n",
      "29\n",
      "30\n",
      "31\n",
      "32\n",
      "33\n",
      "34\n",
      "35\n",
      "36\n",
      "37\n",
      "38\n",
      "39\n",
      "40\n",
      "41\n",
      "42\n",
      "43\n",
      "44\n",
      "45\n",
      "46\n",
      "47\n",
      "48\n",
      "49\n",
      "50\n",
      "51\n",
      "52\n",
      "53\n",
      "54\n",
      "55\n",
      "56\n",
      "57\n",
      "58\n",
      "59\n",
      "60\n",
      "61\n",
      "62\n",
      "63\n"
     ]
    }
   ],
   "source": [
    "%load_ext autoreload\n",
    "%autoreload\n",
    "from src import *\n",
    "\n",
    "for seed in range(2,64):\n",
    "    print(seed)\n",
    "    tbl = f'{proj_id}.redistricting_results_{user}.TX_2020_cntyvtd_cd_seed_' + str(seed).rjust(4, '0') + '_stats'\n",
    "    tbl_temp = tbl+'_temp'\n",
    "    query = f\"\"\"\n",
    "    select\n",
    "        *\n",
    "    from\n",
    "        {tbl}\n",
    "    \"\"\"\n",
    "    load_table(tbl=tbl_temp, query=query)\n",
    "\n",
    "    cols = ['geoid as cd'] + get_cols(tbl)\n",
    "    query = f\"\"\"\n",
    "    select\n",
    "        {join_str(1).join(cols)}\n",
    "    from\n",
    "        {tbl_temp}\n",
    "    \"\"\"\n",
    "    load_table(tbl=tbl, query=query)\n",
    "    delete_table(tbl=tbl_temp)"
   ]
  },
  {
   "cell_type": "code",
   "execution_count": 21,
   "id": "7673f017",
   "metadata": {},
   "outputs": [],
   "source": [
    "self = analysis\n",
    "analysis.results\n",
    "fn = self.results_path / f'{self.run}_results.csv'\n",
    "self.results.to_csv(fn)"
   ]
  },
  {
   "cell_type": "markdown",
   "id": "7aa453e4",
   "metadata": {},
   "source": [
    "ValueError: Could not find <colormap> with name Turbo256. The following predefined colormaps are supported (see also https://bokeh.pydata.org/en/latest/docs/reference/palettes.html ): ['YlGn', 'YlGnBu', 'GnBu', 'BuGn', 'PuBuGn', 'PuBu', 'BuPu', 'RdPu', 'PuRd', 'OrRd', 'YlOrRd', 'YlOrBr', 'Purples', 'Blues', 'Greens', 'Oranges', 'Reds', 'Greys', 'PuOr', 'BrBG', 'PRGn', 'PiYG', 'RdBu', 'RdGy', 'RdYlBu', 'Spectral', 'RdYlGn', 'Accent', 'Dark2', 'Paired', 'Pastel1', 'Pastel2', 'Set1', 'Set2', 'Set3', 'Category10', 'Category20', 'Category20b', 'Category20c', 'Colorblind', 'Magma', 'Inferno', 'Plasma', 'Viridis', 'Cividis', 'Turbo', 'Bokeh']"
   ]
  }
 ],
 "metadata": {
  "kernelspec": {
   "display_name": "Python 3 (ipykernel)",
   "language": "python",
   "name": "python3"
  },
  "language_info": {
   "codemirror_mode": {
    "name": "ipython",
    "version": 3
   },
   "file_extension": ".py",
   "mimetype": "text/x-python",
   "name": "python",
   "nbconvert_exporter": "python",
   "pygments_lexer": "ipython3",
   "version": "3.7.10"
  }
 },
 "nbformat": 4,
 "nbformat_minor": 5
}
