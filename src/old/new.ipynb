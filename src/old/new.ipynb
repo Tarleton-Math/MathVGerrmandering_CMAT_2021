{
 "cells": [
  {
   "cell_type": "code",
   "execution_count": 22,
   "id": "0c5239bd",
   "metadata": {},
   "outputs": [],
   "source": [
    "from src import *"
   ]
  },
  {
   "cell_type": "code",
   "execution_count": null,
   "id": "1de5927b",
   "metadata": {},
   "outputs": [],
   "source": [
    "import pandas as pd\n",
    "pq = '/home/jupyter/results/TX_2020_cntyvtd_cd/TX_2020_cntyvtd_cd_0000000_allresults.parquet'\n",
    "df = pd.read_parquet(pq)"
   ]
  },
  {
   "cell_type": "code",
   "execution_count": 1,
   "id": "50fac3e8",
   "metadata": {},
   "outputs": [
    {
     "ename": "NameError",
     "evalue": "name 'df' is not defined",
     "output_type": "error",
     "traceback": [
      "\u001b[0;31m---------------------------------------------------------------------------\u001b[0m",
      "\u001b[0;31mNameError\u001b[0m                                 Traceback (most recent call last)",
      "\u001b[0;32m/tmp/ipykernel_2850/1396537375.py\u001b[0m in \u001b[0;36m<module>\u001b[0;34m\u001b[0m\n\u001b[0;32m----> 1\u001b[0;31m \u001b[0mdf\u001b[0m\u001b[0;34m\u001b[0m\u001b[0;34m\u001b[0m\u001b[0m\n\u001b[0m",
      "\u001b[0;31mNameError\u001b[0m: name 'df' is not defined"
     ]
    }
   ],
   "source": [
    "df"
   ]
  },
  {
   "cell_type": "code",
   "execution_count": 6,
   "id": "3047ddd0",
   "metadata": {},
   "outputs": [
    {
     "data": {
      "text/plain": [
       "'hi hi there '"
      ]
     },
     "execution_count": 6,
     "metadata": {},
     "output_type": "execute_result"
    }
   ],
   "source": [
    "s = \"hi hi there hi\"\n",
    "i = s.rfind(\"hi\")\n",
    "s[:i]"
   ]
  },
  {
   "cell_type": "code",
   "execution_count": 7,
   "id": "13dda554",
   "metadata": {},
   "outputs": [
    {
     "name": "stdout",
     "output_type": "stream",
     "text": [
      "getting states\n"
     ]
    }
   ],
   "source": [
    "from src import *"
   ]
  },
  {
   "cell_type": "code",
   "execution_count": 23,
   "id": "436db34a",
   "metadata": {},
   "outputs": [
    {
     "name": "stdout",
     "output_type": "stream",
     "text": [
      "cmat-315920:redistricting_data.nodes_TX_2020_bg_cd_combined\n",
      "cmat-315920:redistricting_data.nodes_TX_2020_bg_cd_countyline1\n",
      "cmat-315920:redistricting_data.nodes_TX_2020_bg_cd_countyline2\n",
      "cmat-315920:redistricting_data.nodes_TX_2020_bg_cd_countyline3\n",
      "cmat-315920:redistricting_data.nodes_TX_2020_bg_sldl_combined\n",
      "cmat-315920:redistricting_data.nodes_TX_2020_bg_sldl_countyline1\n",
      "cmat-315920:redistricting_data.nodes_TX_2020_bg_sldl_countyline2\n",
      "cmat-315920:redistricting_data.nodes_TX_2020_bg_sldl_countyline3\n",
      "cmat-315920:redistricting_data.nodes_TX_2020_bg_sldu_combined\n",
      "cmat-315920:redistricting_data.nodes_TX_2020_bg_sldu_countyline1\n",
      "cmat-315920:redistricting_data.nodes_TX_2020_bg_sldu_countyline2\n",
      "cmat-315920:redistricting_data.nodes_TX_2020_bg_sldu_countyline3\n",
      "cmat-315920:redistricting_data.nodes_TX_2020_cnty_cd_combined\n",
      "cmat-315920:redistricting_data.nodes_TX_2020_cnty_cd_countyline1\n",
      "cmat-315920:redistricting_data.nodes_TX_2020_cnty_cd_countyline2\n",
      "cmat-315920:redistricting_data.nodes_TX_2020_cnty_cd_countyline3\n",
      "cmat-315920:redistricting_data.nodes_TX_2020_cnty_sldl_combined\n",
      "cmat-315920:redistricting_data.nodes_TX_2020_cnty_sldl_countyline1\n",
      "cmat-315920:redistricting_data.nodes_TX_2020_cnty_sldl_countyline2\n",
      "cmat-315920:redistricting_data.nodes_TX_2020_cnty_sldl_countyline3\n",
      "cmat-315920:redistricting_data.nodes_TX_2020_cnty_sldu_combined\n",
      "cmat-315920:redistricting_data.nodes_TX_2020_cnty_sldu_countyline1\n",
      "cmat-315920:redistricting_data.nodes_TX_2020_cnty_sldu_countyline2\n",
      "cmat-315920:redistricting_data.nodes_TX_2020_cnty_sldu_countyline3\n",
      "cmat-315920:redistricting_data.nodes_TX_2020_cntyvtd_cd_combined\n",
      "cmat-315920:redistricting_data.nodes_TX_2020_cntyvtd_cd_countyline1\n",
      "cmat-315920:redistricting_data.nodes_TX_2020_cntyvtd_cd_countyline2\n",
      "cmat-315920:redistricting_data.nodes_TX_2020_cntyvtd_cd_countyline3\n",
      "cmat-315920:redistricting_data.nodes_TX_2020_cntyvtd_sldl_combined\n",
      "cmat-315920:redistricting_data.nodes_TX_2020_cntyvtd_sldl_countyline1\n",
      "cmat-315920:redistricting_data.nodes_TX_2020_cntyvtd_sldl_countyline2\n",
      "cmat-315920:redistricting_data.nodes_TX_2020_cntyvtd_sldl_countyline3\n",
      "cmat-315920:redistricting_data.nodes_TX_2020_cntyvtd_sldu_combined\n",
      "cmat-315920:redistricting_data.nodes_TX_2020_cntyvtd_sldu_countyline1\n",
      "cmat-315920:redistricting_data.nodes_TX_2020_cntyvtd_sldu_countyline2\n",
      "cmat-315920:redistricting_data.nodes_TX_2020_cntyvtd_sldu_countyline3\n",
      "cmat-315920:redistricting_data.nodes_TX_2020_raw\n",
      "cmat-315920:redistricting_data.nodes_TX_2020_tabblock_cd_combined\n",
      "cmat-315920:redistricting_data.nodes_TX_2020_tabblock_cd_countyline1\n",
      "cmat-315920:redistricting_data.nodes_TX_2020_tabblock_cd_countyline2\n",
      "cmat-315920:redistricting_data.nodes_TX_2020_tabblock_cd_countyline3\n",
      "cmat-315920:redistricting_data.nodes_TX_2020_tabblock_sldl_combined\n",
      "cmat-315920:redistricting_data.nodes_TX_2020_tabblock_sldl_countyline1\n",
      "cmat-315920:redistricting_data.nodes_TX_2020_tabblock_sldl_countyline2\n",
      "cmat-315920:redistricting_data.nodes_TX_2020_tabblock_sldl_countyline3\n",
      "cmat-315920:redistricting_data.nodes_TX_2020_tabblock_sldu_combined\n",
      "cmat-315920:redistricting_data.nodes_TX_2020_tabblock_sldu_countyline1\n",
      "cmat-315920:redistricting_data.nodes_TX_2020_tabblock_sldu_countyline2\n",
      "cmat-315920:redistricting_data.nodes_TX_2020_tabblock_sldu_countyline3\n",
      "cmat-315920:redistricting_data.nodes_TX_2020_tract_cd_combined\n",
      "cmat-315920:redistricting_data.nodes_TX_2020_tract_cd_countyline1\n",
      "cmat-315920:redistricting_data.nodes_TX_2020_tract_cd_countyline2\n",
      "cmat-315920:redistricting_data.nodes_TX_2020_tract_cd_countyline3\n",
      "cmat-315920:redistricting_data.nodes_TX_2020_tract_sldl_combined\n",
      "cmat-315920:redistricting_data.nodes_TX_2020_tract_sldl_countyline1\n",
      "cmat-315920:redistricting_data.nodes_TX_2020_tract_sldl_countyline2\n",
      "cmat-315920:redistricting_data.nodes_TX_2020_tract_sldl_countyline3\n",
      "cmat-315920:redistricting_data.nodes_TX_2020_tract_sldu_combined\n",
      "cmat-315920:redistricting_data.nodes_TX_2020_tract_sldu_countyline1\n",
      "cmat-315920:redistricting_data.nodes_TX_2020_tract_sldu_countyline2\n",
      "cmat-315920:redistricting_data.nodes_TX_2020_tract_sldu_countyline3\n"
     ]
    }
   ],
   "source": [
    "for tbl in bqclient.list_tables(data_bq):\n",
    "    if tbl.table_id[:5] == 'nodes':\n",
    "        print(tbl.full_table_id)\n",
    "        delete_table(tbl.full_table_id.replace(':','.'))"
   ]
  },
  {
   "cell_type": "code",
   "execution_count": null,
   "id": "7223dfe2",
   "metadata": {},
   "outputs": [],
   "source": [
    "tbl."
   ]
  }
 ],
 "metadata": {
  "kernelspec": {
   "display_name": "Python 3 (ipykernel)",
   "language": "python",
   "name": "python3"
  },
  "language_info": {
   "codemirror_mode": {
    "name": "ipython",
    "version": 3
   },
   "file_extension": ".py",
   "mimetype": "text/x-python",
   "name": "python",
   "nbconvert_exporter": "python",
   "pygments_lexer": "ipython3",
   "version": "3.7.10"
  }
 },
 "nbformat": 4,
 "nbformat_minor": 5
}
