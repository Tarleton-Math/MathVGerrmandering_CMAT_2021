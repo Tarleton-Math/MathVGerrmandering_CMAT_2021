{
 "cells": [
  {
   "cell_type": "code",
   "execution_count": 1,
   "id": "3afa55e8",
   "metadata": {},
   "outputs": [
    {
     "ename": "SyntaxError",
     "evalue": "invalid syntax (<ipython-input-1-4a4f1d74d12d>, line 43)",
     "output_type": "error",
     "traceback": [
      "\u001b[0;36m  File \u001b[0;32m\"<ipython-input-1-4a4f1d74d12d>\"\u001b[0;36m, line \u001b[0;32m43\u001b[0m\n\u001b[0;31m    refresh_tbl=refresh_tbl, refresh_all=refresh_all\u001b[0m\n\u001b[0m               ^\u001b[0m\n\u001b[0;31mSyntaxError\u001b[0m\u001b[0;31m:\u001b[0m invalid syntax\n"
     ]
    }
   ],
   "source": [
    "seed = 42\n",
    "proj_id = 'cmat-315920'\n",
    "root_path  = '/home/jupyter'\n",
    "code_path = root_path + '/MathVGerrmandering_CMAT_2021/src/'\n",
    "for f in ['Core', 'Gerry', 'Variable', 'Crosswalks', 'Assignments', 'Shapes',\n",
    "          'Census', 'Elections', 'Votes', 'Combined', 'Edges', 'Nodes', 'Graph']:\n",
    "    %run -i {code_path+f+'.py'}\n",
    "\n",
    "refresh_tbl = (\n",
    "#     'crosswalks',\n",
    "#     'assignments',\n",
    "#     'shapes',\n",
    "#     'census',\n",
    "#     'elections',\n",
    "#     'votes_all',\n",
    "#     'votes_hl',\n",
    "#     'combined',\n",
    "#     'edges',\n",
    "#     'nodes',\n",
    "#     'graph',\n",
    ")\n",
    "\n",
    "refresh_all = (\n",
    "#     'crosswalks',\n",
    "#     'assignments',\n",
    "#     'shapes',\n",
    "#     'census',\n",
    "#     'elections',\n",
    "#     'votes_all',\n",
    "#     'votes_hl',\n",
    "#     'combined',\n",
    "#     'edges',\n",
    "#     'nodes',\n",
    "#     'graph',\n",
    ")\n",
    "\n",
    "for level in ['tabblock', 'cntyvtd', 'bg', 'tract', 'cnty']:\n",
    "    g = Gerry(abbr='TX', level=level,\n",
    "              election_filters=(\n",
    "                \"office='President' and race='general'\",\n",
    "#                 \"office='USSen' and race='general'\",\n",
    "#                 \"office like 'USRep%' and race='general'\",\n",
    "              ),\n",
    "              refresh_tbl=refresh_tbl, refresh_all=refresh_all\n",
    "             )\n",
    "    g.MCMC(3)\n",
    "self = g"
   ]
  },
  {
   "cell_type": "code",
   "execution_count": null,
   "id": "2b8468de",
   "metadata": {},
   "outputs": [],
   "source": []
  }
 ],
 "metadata": {
  "kernelspec": {
   "display_name": "Python 3",
   "language": "python",
   "name": "python3"
  },
  "language_info": {
   "codemirror_mode": {
    "name": "ipython",
    "version": 3
   },
   "file_extension": ".py",
   "mimetype": "text/x-python",
   "name": "python",
   "nbconvert_exporter": "python",
   "pygments_lexer": "ipython3",
   "version": "3.7.10"
  }
 },
 "nbformat": 4,
 "nbformat_minor": 5
}
