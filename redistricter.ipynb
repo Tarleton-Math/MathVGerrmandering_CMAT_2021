{
 "cells": [
  {
   "cell_type": "code",
   "execution_count": 26,
   "id": "0d895181",
   "metadata": {},
   "outputs": [
    {
     "name": "stdin",
     "output_type": "stream",
     "text": [
      "random_seed (default=1) 1\n"
     ]
    },
    {
     "name": "stdout",
     "output_type": "stream",
     "text": [
      "Get crosswalks TX 2020 tabblock   ... not necessary ... success\n",
      "Get assignments TX 2020 tabblock  ... tabblock table exists ... success\n",
      "Get shapes TX 2020 tabblock       ... tabblock table exists ... success\n",
      "Get census TX 2020 tabblock       ... tabblock table exists ... success\n",
      "Get elections TX 2020 tabblock    ... tabblock table exists ... success\n",
      "Get votes_all TX 2020 tabblock    ... tabblock table exists ... success\n",
      "Get votes_hl TX 2020 tabblock     ... tabblock table exists ... success\n",
      "Get combined TX 2020 cntyvtd      ... cntyvtd table exists ... success\n",
      "Get edges TX 2020 cntyvtd         ... cntyvtd table exists ... success\n",
      "Get nodes TX 2020 cntyvtd         ... success\n",
      "Get graph TX 2020 cntyvtd cd      ... gpickle exists ... success\n",
      "Get cd TX 2020 cntyvtd cd         ... success\n",
      "0\n",
      "1\n",
      "2\n",
      "0hrs 0min 13.06sec elapsed\n"
     ]
    }
   ],
   "source": [
    "proj_id = 'cmat-315920'\n",
    "root_path = '/home/jupyter'\n",
    "code_path = root_path + '/MathVGerrmandering_CMAT_2021/src/'\n",
    "for f in ['Core', 'Gerry', 'Variable', 'Crosswalks', 'Assignments', 'Shapes',\n",
    "          'Census', 'Elections', 'Votes', 'Combined', 'Edges', 'Nodes', 'Graph', 'Districts']:\n",
    "    %run -i {code_path+f+'.py'}\n",
    "\n",
    "refresh_all = (\n",
    "#     'crosswalks',\n",
    "#     'assignments',\n",
    "#     'shapes',\n",
    "#     'census',\n",
    "#     'elections',\n",
    "#     'votes_all',\n",
    "#     'votes_hl',\n",
    "#     'combined',\n",
    "#     'edges',\n",
    "#     'nodes',\n",
    "#     'graph',\n",
    ")\n",
    "\n",
    "refresh_tbl = (\n",
    "#     'crosswalks',\n",
    "#     'assignments',\n",
    "#     'shapes',\n",
    "#     'census',\n",
    "#     'elections',\n",
    "#     'votes_all',\n",
    "#     'votes_hl',\n",
    "#     'combined',\n",
    "#     'edges',\n",
    "#     'nodes',\n",
    "#     'graph',\n",
    ")\n",
    "\n",
    "self = Gerry(abbr='TX', level='cntyvtd', district_type='cd', agg_polygon=True, simplification=300, num_colors=10,\n",
    "          election_filters=(\n",
    "            \"office='President' and race='general'\",\n",
    "            \"office='USSen' and race='general'\",\n",
    "#                 \"office like 'USRep%' and race='general'\",\n",
    "          ),\n",
    "          refresh_tbl=refresh_tbl, refresh_all=refresh_all\n",
    "         )\n",
    "\n",
    "start = time.time()\n",
    "\n",
    "self.MCMC(steps=49)\n",
    "# self.agg_plans()\n",
    "# self.stack_plans()\n",
    "\n",
    "elapsed = time.time() - start\n",
    "h, m = divmod(elapsed, 3600)\n",
    "m, s = divmod(m, 60)\n",
    "print(f'{int(h)}hrs {int(m)}min {s:.2f}sec elapsed')"
   ]
  }
 ],
 "metadata": {
  "kernelspec": {
   "display_name": "Python 3 (ipykernel)",
   "language": "python",
   "name": "python3"
  },
  "language_info": {
   "codemirror_mode": {
    "name": "ipython",
    "version": 3
   },
   "file_extension": ".py",
   "mimetype": "text/x-python",
   "name": "python",
   "nbconvert_exporter": "python",
   "pygments_lexer": "ipython3",
   "version": "3.7.10"
  }
 },
 "nbformat": 4,
 "nbformat_minor": 5
}
