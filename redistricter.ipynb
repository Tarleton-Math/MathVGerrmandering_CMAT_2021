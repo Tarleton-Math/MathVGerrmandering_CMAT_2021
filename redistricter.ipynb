{
 "cells": [
  {
   "cell_type": "code",
   "execution_count": null,
   "id": "907b3e12",
   "metadata": {},
   "outputs": [
    {
     "name": "stdin",
     "output_type": "stream",
     "text": [
      "user_name (default=cook) \n",
      "random_seed (default=42) \n"
     ]
    },
    {
     "name": "stdout",
     "output_type": "stream",
     "text": [
      "Get crosswalks TX 2010 tabblock  ... tabblock table exists ... success\n",
      "Get assignments TX 2020 tabblock ... tabblock table exists ... success\n",
      "Get shapes TX 2020 tabblock      ... tabblock table exists ... success\n",
      "Get census TX 2010 tabblock      ... tabblock table exists ... success\n",
      "Get elections TX 2020 tabblock   ... tabblock table exists ... success\n",
      "Get votes_all TX 2020 tabblock   ... tabblock table exists ... success\n",
      "Get votes_hl TX 2020 tabblock    ... tabblock table exists ... success\n",
      "Get combined TX 2020 cntyvtd     ... cntyvtd table exists ... success\n",
      "Get nodes TX 2020 cntyvtd        ... success\n",
      "Get cd TX 2010 cntyvtd cd        ... success\n",
      "Get graph TX 2010 cntyvtd cd     ... gpickle exists ... success\n",
      "MCMC plan_001 ... Current pop imbalance = 0.14% ... setting tol = 10.00% ... -4112799770346074545 ... success\n",
      "MCMC plan_002 ... Current pop imbalance = 0.33% ... setting tol = 10.00% ... 5551378761399651889 ... success\n",
      "MCMC plan_003 ... Current pop imbalance = 8.69% ... setting tol = 10.00% ... -8874184799636457979 ... success\n",
      "MCMC plan_004 ... Current pop imbalance = 8.69% ... setting tol = 10.00% ... -3363188088062562501 ... success\n",
      "MCMC plan_005 ... Current pop imbalance = 8.69% ... setting tol = 10.00% ... -2583751571100627857 ... success\n",
      "MCMC plan_006 ... Current pop imbalance = 8.69% ... setting tol = 10.00% ... 885554113534152199 ... success\n",
      "MCMC plan_007 ... Current pop imbalance = 8.69% ... setting tol = 10.00% ... -5455466243304832747 ... success\n",
      "MCMC plan_008 ... Current pop imbalance = 8.69% ... setting tol = 10.00% ... 353212957481394347 ... success\n",
      "MCMC plan_009 ... Current pop imbalance = 7.68% ... setting tol = 10.00% ... -5923097331054312711 ... success\n",
      "MCMC plan_010 ... Current pop imbalance = 9.24% ... setting tol = 10.00% ... -8137232298999770245 ... success\n",
      "MCMC plan_011 ... Current pop imbalance = 9.82% ... setting tol = 10.00% ... -5951578060010138223 ... success\n",
      "MCMC plan_012 ... Current pop imbalance = 9.80% ... setting tol = 10.00% ... 4557459234782535201 ... success\n",
      "MCMC plan_013 ... Current pop imbalance = 9.51% ... setting tol = 10.00% ... 4087268270418730645 ... success\n",
      "MCMC plan_014 ... Current pop imbalance = 9.72% ... setting tol = 10.00% ... 2183217657221366467 ... success\n",
      "MCMC plan_015 ... Current pop imbalance = 9.72% ... setting tol = 10.00% ... -6674289211311241561 ... success\n",
      "MCMC plan_016 ... Current pop imbalance = 9.72% ... setting tol = 10.00% ... 280496581379808771 ... success\n",
      "MCMC plan_017 ... Current pop imbalance = 9.72% ... setting tol = 10.00% ... -4860700399227478739 ... success\n",
      "MCMC plan_018 ... Current pop imbalance = 9.72% ... setting tol = 10.00% ... 8894822161864354219 ... success\n",
      "MCMC plan_019 ... Current pop imbalance = 9.72% ... setting tol = 10.00% ... -443980926478183509 ... success\n",
      "MCMC plan_020 ... Current pop imbalance = 9.72% ... setting tol = 10.00% ... 4528954701850899693 ... success\n",
      "MCMC plan_021 ... Current pop imbalance = 9.96% ... setting tol = 10.00% ... 2641804910145083837 ... success\n",
      "MCMC plan_022 ... Current pop imbalance = 9.96% ... setting tol = 10.00% ... 3879749799661194709 ... success\n",
      "MCMC plan_023 ... Current pop imbalance = 9.96% ... setting tol = 10.00% ... 8086024705391042533 ... success\n",
      "MCMC plan_024 ... Current pop imbalance = 9.89% ... setting tol = 10.00% ... -6030088582595613375 ... success\n",
      "MCMC plan_025 ... Current pop imbalance = 9.89% ... setting tol = 10.00% ... -6734674580835588011 ... success\n",
      "MCMC plan_026 ... Current pop imbalance = 9.72% ... setting tol = 10.00% ... "
     ]
    }
   ],
   "source": [
    "proj_id = 'cmat-315920'\n",
    "root_path = '/home/jupyter'\n",
    "code_path = root_path + '/MathVGerrmandering_CMAT_2021/src/'\n",
    "for f in ['Core', 'Gerry', 'Variable', 'Crosswalks', 'Assignments', 'Shapes',\n",
    "          'Census', 'Elections', 'Votes', 'Combined', 'Edges', 'Nodes', 'Graph', 'Districts']:\n",
    "    %run -i {code_path+f+'.py'}\n",
    "\n",
    "refresh_tbl = (\n",
    "#     'crosswalks',\n",
    "#     'assignments',\n",
    "#     'shapes',\n",
    "#     'census',\n",
    "#     'elections',\n",
    "#     'votes_all',\n",
    "#     'votes_hl',\n",
    "#     'combined',\n",
    "#     'edges',\n",
    "#     'nodes',\n",
    "#     'graph',\n",
    ")\n",
    "\n",
    "refresh_all = (\n",
    "#     'crosswalks',\n",
    "#     'assignments',\n",
    "#     'shapes',\n",
    "#     'census',\n",
    "#     'elections',\n",
    "#     'votes_all',\n",
    "#     'votes_hl',\n",
    "#     'combined',\n",
    "#     'edges',\n",
    "#     'nodes',\n",
    "#     'graph',\n",
    ")\n",
    "\n",
    "\n",
    "for level in ['cntyvtd']:#'tabblock', 'cntyvtd', 'bg', 'tract', 'cnty']:\n",
    "    g = Gerry(abbr='TX', level=level, agg_shapes=True,\n",
    "              election_filters=(\n",
    "                \"office='President' and race='general'\",\n",
    "                \"office='USSen' and race='general'\",\n",
    "#                 \"office like 'USRep%' and race='general'\",\n",
    "              ),\n",
    "              refresh_tbl=refresh_tbl, refresh_all=refresh_all\n",
    "             )\n",
    "#     g.get_data()\n",
    "    g.MCMC(steps=100)\n",
    "self = g"
   ]
  },
  {
   "cell_type": "code",
   "execution_count": null,
   "id": "6b20f1b1",
   "metadata": {},
   "outputs": [],
   "source": [
    "\n",
    "\n"
   ]
  }
 ],
 "metadata": {
  "kernelspec": {
   "display_name": "Python 3",
   "language": "python",
   "name": "python3"
  },
  "language_info": {
   "codemirror_mode": {
    "name": "ipython",
    "version": 3
   },
   "file_extension": ".py",
   "mimetype": "text/x-python",
   "name": "python",
   "nbconvert_exporter": "python",
   "pygments_lexer": "ipython3",
   "version": "3.7.10"
  }
 },
 "nbformat": 4,
 "nbformat_minor": 5
}
