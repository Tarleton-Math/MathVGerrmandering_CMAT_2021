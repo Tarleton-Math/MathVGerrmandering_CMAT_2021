{
 "cells": [
  {
   "cell_type": "code",
   "execution_count": null,
   "id": "614e3a2b",
   "metadata": {},
   "outputs": [
    {
     "name": "stdin",
     "output_type": "stream",
     "text": [
      "user_name (default=cook) \n",
      "random_seed (default=42) \n"
     ]
    },
    {
     "name": "stdout",
     "output_type": "stream",
     "text": [
      "getting states\n",
      "Get crosswalks TX 2010 tabblock  ... tabblock table exists ... success\n",
      "Get assignments TX 2020 tabblock ... tabblock table exists ... success\n",
      "Get shapes TX 2020 tabblock      ... tabblock table exists ... success\n",
      "Get census TX 2010 tabblock      ... tabblock table exists ... success\n",
      "Get elections TX 2020 tabblock   ... tabblock table exists ... success\n",
      "Get votes_all TX 2020 tabblock   ... tabblock table exists ... success\n",
      "Get votes_hl TX 2020 tabblock    ... tabblock table exists ... success\n",
      "Get combined TX 2020 cntyvtd     ... raw table exists ... creating table ... joining cmat-315920.redistricting_data.combined_TX_2020_cntyvtd and cmat-315920.redistricting_data.assignments_TX_2020_tabblock ... "
     ]
    }
   ],
   "source": [
    "proj_id = 'cmat-315920'\n",
    "root_path = '/home/jupyter'\n",
    "code_path = root_path + '/MathVGerrmandering_CMAT_2021/src/'\n",
    "for f in ['Core', 'Gerry', 'Variable', 'Crosswalks', 'Assignments', 'Shapes',\n",
    "          'Census', 'Elections', 'Votes', 'Combined', 'Edges', 'Nodes', 'Graph', 'Districts']:\n",
    "    %run -i {code_path+f+'.py'}\n",
    "\n",
    "refresh_tbl = (\n",
    "#     'crosswalks',\n",
    "#     'assignments',\n",
    "#     'shapes',\n",
    "#     'census',\n",
    "#     'elections',\n",
    "#     'votes_all',\n",
    "#     'votes_hl',\n",
    "#     'combined',\n",
    "#     'edges',\n",
    "#     'nodes',\n",
    "#     'graph',\n",
    ")\n",
    "\n",
    "refresh_all = (\n",
    "#     'crosswalks',\n",
    "#     'assignments',\n",
    "#     'shapes',\n",
    "#     'census',\n",
    "#     'elections',\n",
    "#     'votes_all',\n",
    "#     'votes_hl',\n",
    "#     'combined',\n",
    "#     'edges',\n",
    "#     'nodes',\n",
    "#     'graph',\n",
    ")\n",
    "\n",
    "\n",
    "for level in ['cntyvtd']:#'tabblock', 'cntyvtd', 'bg', 'tract', 'cnty']:\n",
    "    g = Gerry(abbr='TX', level=level, agg_shapes=True,\n",
    "              election_filters=(\n",
    "                \"office='President' and race='general'\",\n",
    "                \"office='USSen' and race='general'\",\n",
    "#                 \"office like 'USRep%' and race='general'\",\n",
    "              ),\n",
    "              refresh_tbl=refresh_tbl, refresh_all=refresh_all\n",
    "             )\n",
    "#     g.get_data()\n",
    "    g.MCMC(steps=4)\n",
    "self = g"
   ]
  },
  {
   "cell_type": "code",
   "execution_count": 1,
   "id": "beb8222d",
   "metadata": {},
   "outputs": [
    {
     "data": {
      "text/plain": [
       "2"
      ]
     },
     "execution_count": 1,
     "metadata": {},
     "output_type": "execute_result"
    }
   ],
   "source": [
    "1+1"
   ]
  }
 ],
 "metadata": {
  "kernelspec": {
   "display_name": "Python 3",
   "language": "python",
   "name": "python3"
  },
  "language_info": {
   "codemirror_mode": {
    "name": "ipython",
    "version": 3
   },
   "file_extension": ".py",
   "mimetype": "text/x-python",
   "name": "python",
   "nbconvert_exporter": "python",
   "pygments_lexer": "ipython3",
   "version": "3.7.10"
  }
 },
 "nbformat": 4,
 "nbformat_minor": 5
}
