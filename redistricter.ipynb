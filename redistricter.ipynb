{
 "cells": [
  {
   "cell_type": "code",
   "execution_count": null,
   "id": "bfd6ca2b",
   "metadata": {},
   "outputs": [
    {
     "name": "stdout",
     "output_type": "stream",
     "text": [
      "Creating viz table for step 0\n"
     ]
    }
   ],
   "source": [
    "seed = 42\n",
    "proj_id = 'cmat-315920'\n",
    "root_path  = '/home/jupyter'\n",
    "\n",
    "%run -i /home/jupyter/MathVGerrmandering_CMAT_2021/redistrict_code.py\n",
    "pd.set_option('display.max_columns', None)\n",
    "states = get_states()\n",
    "\n",
    "opts = {'census_yr':2010,\n",
    "        'shapes_yr':2020,\n",
    "        'election_filters' : {\n",
    "            \"race='general' and office='u.s. sen'\",\n",
    "            \"race='general' and office='president'\",\n",
    "            \"race='general' and office like 'u.s. rep%'\"},\n",
    "        'overwrite' : {\n",
    "#             'crosswalks',\n",
    "#             'assignments',\n",
    "#             'elections',\n",
    "#             'census',\n",
    "#             'shapes',\n",
    "#             'edges',\n",
    "#             'nodes',\n",
    "#             'graph',\n",
    "        }}\n",
    "\n",
    "# for st in ['TX', 'RI']:\n",
    "#     for lvl in ['tabblock', 'bg', 'tract']:\n",
    "#         for dist in ['cd', 'sldu', 'sldl']:\n",
    "#             opts.update({'abbr':st, 'level':lvl, 'district':dist})\n",
    "#             self = Gerry(**opts)\n",
    "#             self.MCMC(steps=0)\n",
    "#             print('===================================================================================')\n",
    "\n",
    "opts['overwrite'] = set()\n",
    "rng = np.random.default_rng(40)\n",
    "opts.update({'abbr':'TX', 'level':'tabblock', 'district':'cd'})\n",
    "self = Gerry(**opts)\n",
    "# self.MCMC(steps=10)\n",
    "self.steps = 10\n",
    "\n",
    "self.write_viz_tables()"
   ]
  },
  {
   "cell_type": "code",
   "execution_count": null,
   "id": "cc8ed57f",
   "metadata": {},
   "outputs": [],
   "source": []
  }
 ],
 "metadata": {
  "kernelspec": {
   "display_name": "Python 3",
   "language": "python",
   "name": "python3"
  },
  "language_info": {
   "codemirror_mode": {
    "name": "ipython",
    "version": 3
   },
   "file_extension": ".py",
   "mimetype": "text/x-python",
   "name": "python",
   "nbconvert_exporter": "python",
   "pygments_lexer": "ipython3",
   "version": "3.7.10"
  }
 },
 "nbformat": 4,
 "nbformat_minor": 5
}
