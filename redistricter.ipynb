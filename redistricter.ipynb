{
 "cells": [
  {
   "cell_type": "code",
   "execution_count": 3,
   "id": "a9da25ee",
   "metadata": {},
   "outputs": [
    {
     "name": "stdout",
     "output_type": "stream",
     "text": [
      "The autoreload extension is already loaded. To reload it, use:\n",
      "  %reload_ext autoreload\n",
      "/home/jupyter/MathVGerrmandering_CMAT_2021\n",
      "Get crosswalks_TX_2010_tabblock   ... tabblock table exists ... success\n",
      "Get assignments_TX_2020_tabblock  ... tabblock table exists ... success\n",
      "Get shapes_TX_2020_tabblock       ... tabblock table exists ... success\n",
      "Get census_TX_2020_tabblock       ... tabblock table exists ... success\n",
      "Get elections_TX_2020_tabblock    ... tabblock table exists ... success\n",
      "Get nodes_TX_2020_cntyvtd_sldu_contract0_plans2101 ... cntyvtd table exists ... success\n"
     ]
    }
   ],
   "source": [
    "%load_ext autoreload\n",
    "%autoreload\n",
    "%cd /home/jupyter/MathVGerrmandering_CMAT_2021/\n",
    "from src import *\n",
    "from src.nodes import *\n",
    "from src.mcmc import *\n",
    "notebook = True\n",
    "skip_inputs = 'y'\n",
    "run_mcmc = True\n",
    "# %run -i redistricter\n",
    "\n",
    "nodes_opts = {\n",
    "    'district_type'    : 'sldu',\n",
    "    'proposal'         : 'PLANS2101',\n",
    "    'abbr'             : 'TX',\n",
    "    'level'            : 'cntyvtd',\n",
    "    'contract_thresh'  : 0,\n",
    "}\n",
    "    \n",
    "mcmc_opts = {\n",
    "    'max_steps'             : 6,\n",
    "    'defect_multiplier'     : 1.0,\n",
    "    'report_period'         : 1,\n",
    "    'save_period'           : 3,\n",
    "    'postprocess_thresh'    : 1.0\n",
    "}\n",
    "\n",
    "N = Nodes(**nodes_opts)\n",
    "mcmc_opts['nodes_tbl'] = N.tbl\n",
    "M = MCMC(random_seed=9000000, **mcmc_opts)\n",
    "\n",
    "M.init_chain()\n",
    "# M.run_chain()\n",
    "# M.post_process1()\n",
    "# M.post_process2()\n",
    "\n",
    "# M.get_stats(return_df=True)\n",
    "# M.get_counties()"
   ]
  },
  {
   "cell_type": "code",
   "execution_count": 27,
   "id": "6610d7ee",
   "metadata": {},
   "outputs": [
    {
     "name": "stdout",
     "output_type": "stream",
     "text": [
      "\n",
      "select\n",
      "    random_seed,\n",
      "    plan,\n",
      "    A.hash as hash_plan,\n",
      "    pop_deviation as pop_deviation_plan,\n",
      "    intersect_defect as intersect_defect_plan,\n",
      "    whole_defect as whole_defect_plan,\n",
      "    defect as defect_plan,\n",
      "from\n",
      "    cmat-315920.TX_2020_cntyvtd_cd_contract10.TX_2020_cntyvtd_cd_contract10_1000000_summaries as A\n",
      "\n"
     ]
    }
   ],
   "source": [
    "self=M\n",
    "        \n",
    "print(self.hash_query_list[0])\n",
    "\n",
    "# M.tbls.keys()"
   ]
  },
  {
   "cell_type": "code",
   "execution_count": 23,
   "id": "1f993d54",
   "metadata": {},
   "outputs": [
    {
     "data": {
      "text/plain": [
       "[]"
      ]
     },
     "execution_count": 23,
     "metadata": {},
     "output_type": "execute_result"
    }
   ],
   "source": [
    "self = M\n",
    "self.hash_query_list\n",
    "# self.tbls.items()\n",
    "# self.hash_temp_tbls"
   ]
  },
  {
   "cell_type": "code",
   "execution_count": 24,
   "id": "2f746d09",
   "metadata": {},
   "outputs": [
    {
     "data": {
      "text/plain": [
       "['\\nselect\\n    random_seed,\\n    plan,\\n    A.hash as hash_plan,\\n    pop_deviation as pop_deviation_plan,\\n    intersect_defect as intersect_defect_plan,\\n    whole_defect as whole_defect_plan,\\n    defect as defect_plan,\\nfrom\\n    cmat-315920.TX_2020_cntyvtd_cd_contract10.TX_2020_cntyvtd_cd_contract10_1000000_summaries as A\\n',\n",
       " '\\nselect\\n    random_seed,\\n    plan,\\n    A.hash as hash_plan,\\n    pop_deviation as pop_deviation_plan,\\n    intersect_defect as intersect_defect_plan,\\n    whole_defect as whole_defect_plan,\\n    defect as defect_plan,\\nfrom\\n    cmat-315920.TX_2020_cntyvtd_cd_contract10.TX_2020_cntyvtd_cd_contract10_1000001_summaries as A\\n',\n",
       " '\\nselect\\n    random_seed,\\n    plan,\\n    A.hash as hash_plan,\\n    pop_deviation as pop_deviation_plan,\\n    intersect_defect as intersect_defect_plan,\\n    whole_defect as whole_defect_plan,\\n    defect as defect_plan,\\nfrom\\n    cmat-315920.TX_2020_cntyvtd_cd_contract10.TX_2020_cntyvtd_cd_contract10_1000002_summaries as A\\n',\n",
       " '\\nselect\\n    random_seed,\\n    plan,\\n    A.hash as hash_plan,\\n    pop_deviation as pop_deviation_plan,\\n    intersect_defect as intersect_defect_plan,\\n    whole_defect as whole_defect_plan,\\n    defect as defect_plan,\\nfrom\\n    cmat-315920.TX_2020_cntyvtd_cd_contract10.TX_2020_cntyvtd_cd_contract10_1000003_summaries as A\\n',\n",
       " '\\nselect\\n    random_seed,\\n    plan,\\n    A.hash as hash_plan,\\n    pop_deviation as pop_deviation_plan,\\n    intersect_defect as intersect_defect_plan,\\n    whole_defect as whole_defect_plan,\\n    defect as defect_plan,\\nfrom\\n    cmat-315920.TX_2020_cntyvtd_cd_contract10.TX_2020_cntyvtd_cd_contract10_1000004_summaries as A\\n',\n",
       " '\\nselect\\n    random_seed,\\n    plan,\\n    A.hash as hash_plan,\\n    pop_deviation as pop_deviation_plan,\\n    intersect_defect as intersect_defect_plan,\\n    whole_defect as whole_defect_plan,\\n    defect as defect_plan,\\nfrom\\n    cmat-315920.TX_2020_cntyvtd_cd_contract10.TX_2020_cntyvtd_cd_contract10_1000005_summaries as A\\n',\n",
       " '\\nselect\\n    random_seed,\\n    plan,\\n    A.hash as hash_plan,\\n    pop_deviation as pop_deviation_plan,\\n    intersect_defect as intersect_defect_plan,\\n    whole_defect as whole_defect_plan,\\n    defect as defect_plan,\\nfrom\\n    cmat-315920.TX_2020_cntyvtd_cd_contract10.TX_2020_cntyvtd_cd_contract10_1000006_summaries as A\\n',\n",
       " '\\nselect\\n    random_seed,\\n    plan,\\n    A.hash as hash_plan,\\n    pop_deviation as pop_deviation_plan,\\n    intersect_defect as intersect_defect_plan,\\n    whole_defect as whole_defect_plan,\\n    defect as defect_plan,\\nfrom\\n    cmat-315920.TX_2020_cntyvtd_cd_contract10.TX_2020_cntyvtd_cd_contract10_1000007_summaries as A\\n',\n",
       " '\\nselect\\n    random_seed,\\n    plan,\\n    A.hash as hash_plan,\\n    pop_deviation as pop_deviation_plan,\\n    intersect_defect as intersect_defect_plan,\\n    whole_defect as whole_defect_plan,\\n    defect as defect_plan,\\nfrom\\n    cmat-315920.TX_2020_cntyvtd_cd_contract10.TX_2020_cntyvtd_cd_contract10_1000008_summaries as A\\n',\n",
       " '\\nselect\\n    random_seed,\\n    plan,\\n    A.hash as hash_plan,\\n    pop_deviation as pop_deviation_plan,\\n    intersect_defect as intersect_defect_plan,\\n    whole_defect as whole_defect_plan,\\n    defect as defect_plan,\\nfrom\\n    cmat-315920.TX_2020_cntyvtd_cd_contract10.TX_2020_cntyvtd_cd_contract10_1000009_summaries as A\\n',\n",
       " '\\nselect\\n    random_seed,\\n    plan,\\n    A.hash as hash_plan,\\n    pop_deviation as pop_deviation_plan,\\n    intersect_defect as intersect_defect_plan,\\n    whole_defect as whole_defect_plan,\\n    defect as defect_plan,\\nfrom\\n    cmat-315920.TX_2020_cntyvtd_cd_contract10.TX_2020_cntyvtd_cd_contract10_1000010_summaries as A\\n',\n",
       " '\\nselect\\n    random_seed,\\n    plan,\\n    A.hash as hash_plan,\\n    pop_deviation as pop_deviation_plan,\\n    intersect_defect as intersect_defect_plan,\\n    whole_defect as whole_defect_plan,\\n    defect as defect_plan,\\nfrom\\n    cmat-315920.TX_2020_cntyvtd_cd_contract10.TX_2020_cntyvtd_cd_contract10_1000011_summaries as A\\n',\n",
       " '\\nselect\\n    random_seed,\\n    plan,\\n    A.hash as hash_plan,\\n    pop_deviation as pop_deviation_plan,\\n    intersect_defect as intersect_defect_plan,\\n    whole_defect as whole_defect_plan,\\n    defect as defect_plan,\\nfrom\\n    cmat-315920.TX_2020_cntyvtd_cd_contract10.TX_2020_cntyvtd_cd_contract10_1000012_summaries as A\\n',\n",
       " '\\nselect\\n    random_seed,\\n    plan,\\n    A.hash as hash_plan,\\n    pop_deviation as pop_deviation_plan,\\n    intersect_defect as intersect_defect_plan,\\n    whole_defect as whole_defect_plan,\\n    defect as defect_plan,\\nfrom\\n    cmat-315920.TX_2020_cntyvtd_cd_contract10.TX_2020_cntyvtd_cd_contract10_1000013_summaries as A\\n',\n",
       " '\\nselect\\n    random_seed,\\n    plan,\\n    A.hash as hash_plan,\\n    pop_deviation as pop_deviation_plan,\\n    intersect_defect as intersect_defect_plan,\\n    whole_defect as whole_defect_plan,\\n    defect as defect_plan,\\nfrom\\n    cmat-315920.TX_2020_cntyvtd_cd_contract10.TX_2020_cntyvtd_cd_contract10_1000014_summaries as A\\n',\n",
       " '\\nselect\\n    random_seed,\\n    plan,\\n    A.hash as hash_plan,\\n    pop_deviation as pop_deviation_plan,\\n    intersect_defect as intersect_defect_plan,\\n    whole_defect as whole_defect_plan,\\n    defect as defect_plan,\\nfrom\\n    cmat-315920.TX_2020_cntyvtd_cd_contract10.TX_2020_cntyvtd_cd_contract10_1000015_summaries as A\\n',\n",
       " '\\nselect\\n    random_seed,\\n    plan,\\n    A.hash as hash_plan,\\n    pop_deviation as pop_deviation_plan,\\n    intersect_defect as intersect_defect_plan,\\n    whole_defect as whole_defect_plan,\\n    defect as defect_plan,\\nfrom\\n    cmat-315920.TX_2020_cntyvtd_cd_contract10.TX_2020_cntyvtd_cd_contract10_1000016_summaries as A\\n',\n",
       " '\\nselect\\n    random_seed,\\n    plan,\\n    A.hash as hash_plan,\\n    pop_deviation as pop_deviation_plan,\\n    intersect_defect as intersect_defect_plan,\\n    whole_defect as whole_defect_plan,\\n    defect as defect_plan,\\nfrom\\n    cmat-315920.TX_2020_cntyvtd_cd_contract10.TX_2020_cntyvtd_cd_contract10_1000017_summaries as A\\n',\n",
       " '\\nselect\\n    random_seed,\\n    plan,\\n    A.hash as hash_plan,\\n    pop_deviation as pop_deviation_plan,\\n    intersect_defect as intersect_defect_plan,\\n    whole_defect as whole_defect_plan,\\n    defect as defect_plan,\\nfrom\\n    cmat-315920.TX_2020_cntyvtd_cd_contract10.TX_2020_cntyvtd_cd_contract10_1000018_summaries as A\\n',\n",
       " '\\nselect\\n    random_seed,\\n    plan,\\n    A.hash as hash_plan,\\n    pop_deviation as pop_deviation_plan,\\n    intersect_defect as intersect_defect_plan,\\n    whole_defect as whole_defect_plan,\\n    defect as defect_plan,\\nfrom\\n    cmat-315920.TX_2020_cntyvtd_cd_contract10.TX_2020_cntyvtd_cd_contract10_1000019_summaries as A\\n',\n",
       " '\\nselect\\n    random_seed,\\n    plan,\\n    A.hash as hash_plan,\\n    pop_deviation as pop_deviation_plan,\\n    intersect_defect as intersect_defect_plan,\\n    whole_defect as whole_defect_plan,\\n    defect as defect_plan,\\nfrom\\n    cmat-315920.TX_2020_cntyvtd_cd_contract10.TX_2020_cntyvtd_cd_contract10_1000020_summaries as A\\n',\n",
       " '\\nselect\\n    random_seed,\\n    plan,\\n    A.hash as hash_plan,\\n    pop_deviation as pop_deviation_plan,\\n    intersect_defect as intersect_defect_plan,\\n    whole_defect as whole_defect_plan,\\n    defect as defect_plan,\\nfrom\\n    cmat-315920.TX_2020_cntyvtd_cd_contract10.TX_2020_cntyvtd_cd_contract10_1000021_summaries as A\\n',\n",
       " '\\nselect\\n    random_seed,\\n    plan,\\n    A.hash as hash_plan,\\n    pop_deviation as pop_deviation_plan,\\n    intersect_defect as intersect_defect_plan,\\n    whole_defect as whole_defect_plan,\\n    defect as defect_plan,\\nfrom\\n    cmat-315920.TX_2020_cntyvtd_cd_contract10.TX_2020_cntyvtd_cd_contract10_1000022_summaries as A\\n',\n",
       " '\\nselect\\n    random_seed,\\n    plan,\\n    A.hash as hash_plan,\\n    pop_deviation as pop_deviation_plan,\\n    intersect_defect as intersect_defect_plan,\\n    whole_defect as whole_defect_plan,\\n    defect as defect_plan,\\nfrom\\n    cmat-315920.TX_2020_cntyvtd_cd_contract10.TX_2020_cntyvtd_cd_contract10_1000023_summaries as A\\n',\n",
       " '\\nselect\\n    random_seed,\\n    plan,\\n    A.hash as hash_plan,\\n    pop_deviation as pop_deviation_plan,\\n    intersect_defect as intersect_defect_plan,\\n    whole_defect as whole_defect_plan,\\n    defect as defect_plan,\\nfrom\\n    cmat-315920.TX_2020_cntyvtd_cd_contract10.TX_2020_cntyvtd_cd_contract10_1000024_summaries as A\\n',\n",
       " '\\nselect\\n    random_seed,\\n    plan,\\n    A.hash as hash_plan,\\n    pop_deviation as pop_deviation_plan,\\n    intersect_defect as intersect_defect_plan,\\n    whole_defect as whole_defect_plan,\\n    defect as defect_plan,\\nfrom\\n    cmat-315920.TX_2020_cntyvtd_cd_contract10.TX_2020_cntyvtd_cd_contract10_1000025_summaries as A\\n',\n",
       " '\\nselect\\n    random_seed,\\n    plan,\\n    A.hash as hash_plan,\\n    pop_deviation as pop_deviation_plan,\\n    intersect_defect as intersect_defect_plan,\\n    whole_defect as whole_defect_plan,\\n    defect as defect_plan,\\nfrom\\n    cmat-315920.TX_2020_cntyvtd_cd_contract10.TX_2020_cntyvtd_cd_contract10_1000026_summaries as A\\n',\n",
       " '\\nselect\\n    random_seed,\\n    plan,\\n    A.hash as hash_plan,\\n    pop_deviation as pop_deviation_plan,\\n    intersect_defect as intersect_defect_plan,\\n    whole_defect as whole_defect_plan,\\n    defect as defect_plan,\\nfrom\\n    cmat-315920.TX_2020_cntyvtd_cd_contract10.TX_2020_cntyvtd_cd_contract10_1000027_summaries as A\\n',\n",
       " '\\nselect\\n    random_seed,\\n    plan,\\n    A.hash as hash_plan,\\n    pop_deviation as pop_deviation_plan,\\n    intersect_defect as intersect_defect_plan,\\n    whole_defect as whole_defect_plan,\\n    defect as defect_plan,\\nfrom\\n    cmat-315920.TX_2020_cntyvtd_cd_contract10.TX_2020_cntyvtd_cd_contract10_1000028_summaries as A\\n',\n",
       " '\\nselect\\n    random_seed,\\n    plan,\\n    A.hash as hash_plan,\\n    pop_deviation as pop_deviation_plan,\\n    intersect_defect as intersect_defect_plan,\\n    whole_defect as whole_defect_plan,\\n    defect as defect_plan,\\nfrom\\n    cmat-315920.TX_2020_cntyvtd_cd_contract10.TX_2020_cntyvtd_cd_contract10_1000029_summaries as A\\n',\n",
       " '\\nselect\\n    random_seed,\\n    plan,\\n    A.hash as hash_plan,\\n    pop_deviation as pop_deviation_plan,\\n    intersect_defect as intersect_defect_plan,\\n    whole_defect as whole_defect_plan,\\n    defect as defect_plan,\\nfrom\\n    cmat-315920.TX_2020_cntyvtd_cd_contract10.TX_2020_cntyvtd_cd_contract10_1000030_summaries as A\\n',\n",
       " '\\nselect\\n    random_seed,\\n    plan,\\n    A.hash as hash_plan,\\n    pop_deviation as pop_deviation_plan,\\n    intersect_defect as intersect_defect_plan,\\n    whole_defect as whole_defect_plan,\\n    defect as defect_plan,\\nfrom\\n    cmat-315920.TX_2020_cntyvtd_cd_contract10.TX_2020_cntyvtd_cd_contract10_1000031_summaries as A\\n',\n",
       " '\\nselect\\n    random_seed,\\n    plan,\\n    A.hash as hash_plan,\\n    pop_deviation as pop_deviation_plan,\\n    intersect_defect as intersect_defect_plan,\\n    whole_defect as whole_defect_plan,\\n    defect as defect_plan,\\nfrom\\n    cmat-315920.TX_2020_cntyvtd_cd_contract10.TX_2020_cntyvtd_cd_contract10_1000032_summaries as A\\n',\n",
       " '\\nselect\\n    random_seed,\\n    plan,\\n    A.hash as hash_plan,\\n    pop_deviation as pop_deviation_plan,\\n    intersect_defect as intersect_defect_plan,\\n    whole_defect as whole_defect_plan,\\n    defect as defect_plan,\\nfrom\\n    cmat-315920.TX_2020_cntyvtd_cd_contract10.TX_2020_cntyvtd_cd_contract10_1000033_summaries as A\\n',\n",
       " '\\nselect\\n    random_seed,\\n    plan,\\n    A.hash as hash_plan,\\n    pop_deviation as pop_deviation_plan,\\n    intersect_defect as intersect_defect_plan,\\n    whole_defect as whole_defect_plan,\\n    defect as defect_plan,\\nfrom\\n    cmat-315920.TX_2020_cntyvtd_cd_contract10.TX_2020_cntyvtd_cd_contract10_1000034_summaries as A\\n',\n",
       " '\\nselect\\n    random_seed,\\n    plan,\\n    A.hash as hash_plan,\\n    pop_deviation as pop_deviation_plan,\\n    intersect_defect as intersect_defect_plan,\\n    whole_defect as whole_defect_plan,\\n    defect as defect_plan,\\nfrom\\n    cmat-315920.TX_2020_cntyvtd_cd_contract10.TX_2020_cntyvtd_cd_contract10_1000035_summaries as A\\n',\n",
       " '\\nselect\\n    random_seed,\\n    plan,\\n    A.hash as hash_plan,\\n    pop_deviation as pop_deviation_plan,\\n    intersect_defect as intersect_defect_plan,\\n    whole_defect as whole_defect_plan,\\n    defect as defect_plan,\\nfrom\\n    cmat-315920.TX_2020_cntyvtd_cd_contract10.TX_2020_cntyvtd_cd_contract10_1000036_summaries as A\\n',\n",
       " '\\nselect\\n    random_seed,\\n    plan,\\n    A.hash as hash_plan,\\n    pop_deviation as pop_deviation_plan,\\n    intersect_defect as intersect_defect_plan,\\n    whole_defect as whole_defect_plan,\\n    defect as defect_plan,\\nfrom\\n    cmat-315920.TX_2020_cntyvtd_cd_contract10.TX_2020_cntyvtd_cd_contract10_1000037_summaries as A\\n',\n",
       " '\\nselect\\n    random_seed,\\n    plan,\\n    A.hash as hash_plan,\\n    pop_deviation as pop_deviation_plan,\\n    intersect_defect as intersect_defect_plan,\\n    whole_defect as whole_defect_plan,\\n    defect as defect_plan,\\nfrom\\n    cmat-315920.TX_2020_cntyvtd_cd_contract10.TX_2020_cntyvtd_cd_contract10_1000038_summaries as A\\n',\n",
       " '\\nselect\\n    random_seed,\\n    plan,\\n    A.hash as hash_plan,\\n    pop_deviation as pop_deviation_plan,\\n    intersect_defect as intersect_defect_plan,\\n    whole_defect as whole_defect_plan,\\n    defect as defect_plan,\\nfrom\\n    cmat-315920.TX_2020_cntyvtd_cd_contract10.TX_2020_cntyvtd_cd_contract10_1000039_summaries as A\\n',\n",
       " '\\nselect\\n    random_seed,\\n    plan,\\n    A.hash as hash_plan,\\n    pop_deviation as pop_deviation_plan,\\n    intersect_defect as intersect_defect_plan,\\n    whole_defect as whole_defect_plan,\\n    defect as defect_plan,\\nfrom\\n    cmat-315920.TX_2020_cntyvtd_cd_contract10.TX_2020_cntyvtd_cd_contract10_1000040_summaries as A\\n',\n",
       " '\\nselect\\n    random_seed,\\n    plan,\\n    A.hash as hash_plan,\\n    pop_deviation as pop_deviation_plan,\\n    intersect_defect as intersect_defect_plan,\\n    whole_defect as whole_defect_plan,\\n    defect as defect_plan,\\nfrom\\n    cmat-315920.TX_2020_cntyvtd_cd_contract10.TX_2020_cntyvtd_cd_contract10_1000041_summaries as A\\n',\n",
       " '\\nselect\\n    random_seed,\\n    plan,\\n    A.hash as hash_plan,\\n    pop_deviation as pop_deviation_plan,\\n    intersect_defect as intersect_defect_plan,\\n    whole_defect as whole_defect_plan,\\n    defect as defect_plan,\\nfrom\\n    cmat-315920.TX_2020_cntyvtd_cd_contract10.TX_2020_cntyvtd_cd_contract10_1000042_summaries as A\\n',\n",
       " '\\nselect\\n    random_seed,\\n    plan,\\n    A.hash as hash_plan,\\n    pop_deviation as pop_deviation_plan,\\n    intersect_defect as intersect_defect_plan,\\n    whole_defect as whole_defect_plan,\\n    defect as defect_plan,\\nfrom\\n    cmat-315920.TX_2020_cntyvtd_cd_contract10.TX_2020_cntyvtd_cd_contract10_1000043_summaries as A\\n',\n",
       " '\\nselect\\n    random_seed,\\n    plan,\\n    A.hash as hash_plan,\\n    pop_deviation as pop_deviation_plan,\\n    intersect_defect as intersect_defect_plan,\\n    whole_defect as whole_defect_plan,\\n    defect as defect_plan,\\nfrom\\n    cmat-315920.TX_2020_cntyvtd_cd_contract10.TX_2020_cntyvtd_cd_contract10_1000044_summaries as A\\n',\n",
       " '\\nselect\\n    random_seed,\\n    plan,\\n    A.hash as hash_plan,\\n    pop_deviation as pop_deviation_plan,\\n    intersect_defect as intersect_defect_plan,\\n    whole_defect as whole_defect_plan,\\n    defect as defect_plan,\\nfrom\\n    cmat-315920.TX_2020_cntyvtd_cd_contract10.TX_2020_cntyvtd_cd_contract10_1000045_summaries as A\\n',\n",
       " '\\nselect\\n    random_seed,\\n    plan,\\n    A.hash as hash_plan,\\n    pop_deviation as pop_deviation_plan,\\n    intersect_defect as intersect_defect_plan,\\n    whole_defect as whole_defect_plan,\\n    defect as defect_plan,\\nfrom\\n    cmat-315920.TX_2020_cntyvtd_cd_contract10.TX_2020_cntyvtd_cd_contract10_1000046_summaries as A\\n',\n",
       " '\\nselect\\n    random_seed,\\n    plan,\\n    A.hash as hash_plan,\\n    pop_deviation as pop_deviation_plan,\\n    intersect_defect as intersect_defect_plan,\\n    whole_defect as whole_defect_plan,\\n    defect as defect_plan,\\nfrom\\n    cmat-315920.TX_2020_cntyvtd_cd_contract10.TX_2020_cntyvtd_cd_contract10_1000047_summaries as A\\n',\n",
       " '\\nselect\\n    random_seed,\\n    plan,\\n    A.hash as hash_plan,\\n    pop_deviation as pop_deviation_plan,\\n    intersect_defect as intersect_defect_plan,\\n    whole_defect as whole_defect_plan,\\n    defect as defect_plan,\\nfrom\\n    cmat-315920.TX_2020_cntyvtd_cd_contract10.TX_2020_cntyvtd_cd_contract10_1000048_summaries as A\\n',\n",
       " '\\nselect\\n    random_seed,\\n    plan,\\n    A.hash as hash_plan,\\n    pop_deviation as pop_deviation_plan,\\n    intersect_defect as intersect_defect_plan,\\n    whole_defect as whole_defect_plan,\\n    defect as defect_plan,\\nfrom\\n    cmat-315920.TX_2020_cntyvtd_cd_contract10.TX_2020_cntyvtd_cd_contract10_1000049_summaries as A\\n',\n",
       " '\\nselect\\n    random_seed,\\n    plan,\\n    A.hash as hash_plan,\\n    pop_deviation as pop_deviation_plan,\\n    intersect_defect as intersect_defect_plan,\\n    whole_defect as whole_defect_plan,\\n    defect as defect_plan,\\nfrom\\n    cmat-315920.TX_2020_cntyvtd_cd_contract10.TX_2020_cntyvtd_cd_contract10_1000050_summaries as A\\n',\n",
       " '\\nselect\\n    random_seed,\\n    plan,\\n    A.hash as hash_plan,\\n    pop_deviation as pop_deviation_plan,\\n    intersect_defect as intersect_defect_plan,\\n    whole_defect as whole_defect_plan,\\n    defect as defect_plan,\\nfrom\\n    cmat-315920.TX_2020_cntyvtd_cd_contract10.TX_2020_cntyvtd_cd_contract10_1000051_summaries as A\\n',\n",
       " '\\nselect\\n    random_seed,\\n    plan,\\n    A.hash as hash_plan,\\n    pop_deviation as pop_deviation_plan,\\n    intersect_defect as intersect_defect_plan,\\n    whole_defect as whole_defect_plan,\\n    defect as defect_plan,\\nfrom\\n    cmat-315920.TX_2020_cntyvtd_cd_contract10.TX_2020_cntyvtd_cd_contract10_1000052_summaries as A\\n',\n",
       " '\\nselect\\n    random_seed,\\n    plan,\\n    A.hash as hash_plan,\\n    pop_deviation as pop_deviation_plan,\\n    intersect_defect as intersect_defect_plan,\\n    whole_defect as whole_defect_plan,\\n    defect as defect_plan,\\nfrom\\n    cmat-315920.TX_2020_cntyvtd_cd_contract10.TX_2020_cntyvtd_cd_contract10_1000053_summaries as A\\n',\n",
       " '\\nselect\\n    random_seed,\\n    plan,\\n    A.hash as hash_plan,\\n    pop_deviation as pop_deviation_plan,\\n    intersect_defect as intersect_defect_plan,\\n    whole_defect as whole_defect_plan,\\n    defect as defect_plan,\\nfrom\\n    cmat-315920.TX_2020_cntyvtd_cd_contract10.TX_2020_cntyvtd_cd_contract10_1000054_summaries as A\\n',\n",
       " '\\nselect\\n    random_seed,\\n    plan,\\n    A.hash as hash_plan,\\n    pop_deviation as pop_deviation_plan,\\n    intersect_defect as intersect_defect_plan,\\n    whole_defect as whole_defect_plan,\\n    defect as defect_plan,\\nfrom\\n    cmat-315920.TX_2020_cntyvtd_cd_contract10.TX_2020_cntyvtd_cd_contract10_1000055_summaries as A\\n',\n",
       " '\\nselect\\n    random_seed,\\n    plan,\\n    A.hash as hash_plan,\\n    pop_deviation as pop_deviation_plan,\\n    intersect_defect as intersect_defect_plan,\\n    whole_defect as whole_defect_plan,\\n    defect as defect_plan,\\nfrom\\n    cmat-315920.TX_2020_cntyvtd_cd_contract10.TX_2020_cntyvtd_cd_contract10_1000056_summaries as A\\n',\n",
       " '\\nselect\\n    random_seed,\\n    plan,\\n    A.hash as hash_plan,\\n    pop_deviation as pop_deviation_plan,\\n    intersect_defect as intersect_defect_plan,\\n    whole_defect as whole_defect_plan,\\n    defect as defect_plan,\\nfrom\\n    cmat-315920.TX_2020_cntyvtd_cd_contract10.TX_2020_cntyvtd_cd_contract10_1000057_summaries as A\\n',\n",
       " '\\nselect\\n    random_seed,\\n    plan,\\n    A.hash as hash_plan,\\n    pop_deviation as pop_deviation_plan,\\n    intersect_defect as intersect_defect_plan,\\n    whole_defect as whole_defect_plan,\\n    defect as defect_plan,\\nfrom\\n    cmat-315920.TX_2020_cntyvtd_cd_contract10.TX_2020_cntyvtd_cd_contract10_1000058_summaries as A\\n',\n",
       " '\\nselect\\n    random_seed,\\n    plan,\\n    A.hash as hash_plan,\\n    pop_deviation as pop_deviation_plan,\\n    intersect_defect as intersect_defect_plan,\\n    whole_defect as whole_defect_plan,\\n    defect as defect_plan,\\nfrom\\n    cmat-315920.TX_2020_cntyvtd_cd_contract10.TX_2020_cntyvtd_cd_contract10_1000059_summaries as A\\n',\n",
       " '\\nselect\\n    random_seed,\\n    plan,\\n    A.hash as hash_plan,\\n    pop_deviation as pop_deviation_plan,\\n    intersect_defect as intersect_defect_plan,\\n    whole_defect as whole_defect_plan,\\n    defect as defect_plan,\\nfrom\\n    cmat-315920.TX_2020_cntyvtd_cd_contract10.TX_2020_cntyvtd_cd_contract10_1000060_summaries as A\\n',\n",
       " '\\nselect\\n    random_seed,\\n    plan,\\n    A.hash as hash_plan,\\n    pop_deviation as pop_deviation_plan,\\n    intersect_defect as intersect_defect_plan,\\n    whole_defect as whole_defect_plan,\\n    defect as defect_plan,\\nfrom\\n    cmat-315920.TX_2020_cntyvtd_cd_contract10.TX_2020_cntyvtd_cd_contract10_1000061_summaries as A\\n',\n",
       " '\\nselect\\n    random_seed,\\n    plan,\\n    A.hash as hash_plan,\\n    pop_deviation as pop_deviation_plan,\\n    intersect_defect as intersect_defect_plan,\\n    whole_defect as whole_defect_plan,\\n    defect as defect_plan,\\nfrom\\n    cmat-315920.TX_2020_cntyvtd_cd_contract10.TX_2020_cntyvtd_cd_contract10_1000062_summaries as A\\n',\n",
       " '\\nselect\\n    random_seed,\\n    plan,\\n    A.hash as hash_plan,\\n    pop_deviation as pop_deviation_plan,\\n    intersect_defect as intersect_defect_plan,\\n    whole_defect as whole_defect_plan,\\n    defect as defect_plan,\\nfrom\\n    cmat-315920.TX_2020_cntyvtd_cd_contract10.TX_2020_cntyvtd_cd_contract10_1000063_summaries as A\\n',\n",
       " '\\nselect\\n    random_seed,\\n    plan,\\n    A.hash as hash_plan,\\n    pop_deviation as pop_deviation_plan,\\n    intersect_defect as intersect_defect_plan,\\n    whole_defect as whole_defect_plan,\\n    defect as defect_plan,\\nfrom\\n    cmat-315920.TX_2020_cntyvtd_cd_contract10.TX_2020_cntyvtd_cd_contract10_1000064_summaries as A\\n',\n",
       " '\\nselect\\n    random_seed,\\n    plan,\\n    A.hash as hash_plan,\\n    pop_deviation as pop_deviation_plan,\\n    intersect_defect as intersect_defect_plan,\\n    whole_defect as whole_defect_plan,\\n    defect as defect_plan,\\nfrom\\n    cmat-315920.TX_2020_cntyvtd_cd_contract10.TX_2020_cntyvtd_cd_contract10_1000065_summaries as A\\n',\n",
       " '\\nselect\\n    random_seed,\\n    plan,\\n    A.hash as hash_plan,\\n    pop_deviation as pop_deviation_plan,\\n    intersect_defect as intersect_defect_plan,\\n    whole_defect as whole_defect_plan,\\n    defect as defect_plan,\\nfrom\\n    cmat-315920.TX_2020_cntyvtd_cd_contract10.TX_2020_cntyvtd_cd_contract10_1000066_summaries as A\\n',\n",
       " '\\nselect\\n    random_seed,\\n    plan,\\n    A.hash as hash_plan,\\n    pop_deviation as pop_deviation_plan,\\n    intersect_defect as intersect_defect_plan,\\n    whole_defect as whole_defect_plan,\\n    defect as defect_plan,\\nfrom\\n    cmat-315920.TX_2020_cntyvtd_cd_contract10.TX_2020_cntyvtd_cd_contract10_1000067_summaries as A\\n',\n",
       " '\\nselect\\n    random_seed,\\n    plan,\\n    A.hash as hash_plan,\\n    pop_deviation as pop_deviation_plan,\\n    intersect_defect as intersect_defect_plan,\\n    whole_defect as whole_defect_plan,\\n    defect as defect_plan,\\nfrom\\n    cmat-315920.TX_2020_cntyvtd_cd_contract10.TX_2020_cntyvtd_cd_contract10_1000068_summaries as A\\n',\n",
       " '\\nselect\\n    random_seed,\\n    plan,\\n    A.hash as hash_plan,\\n    pop_deviation as pop_deviation_plan,\\n    intersect_defect as intersect_defect_plan,\\n    whole_defect as whole_defect_plan,\\n    defect as defect_plan,\\nfrom\\n    cmat-315920.TX_2020_cntyvtd_cd_contract10.TX_2020_cntyvtd_cd_contract10_1000069_summaries as A\\n',\n",
       " '\\nselect\\n    random_seed,\\n    plan,\\n    A.hash as hash_plan,\\n    pop_deviation as pop_deviation_plan,\\n    intersect_defect as intersect_defect_plan,\\n    whole_defect as whole_defect_plan,\\n    defect as defect_plan,\\nfrom\\n    cmat-315920.TX_2020_cntyvtd_cd_contract10.TX_2020_cntyvtd_cd_contract10_1000070_summaries as A\\n',\n",
       " '\\nselect\\n    random_seed,\\n    plan,\\n    A.hash as hash_plan,\\n    pop_deviation as pop_deviation_plan,\\n    intersect_defect as intersect_defect_plan,\\n    whole_defect as whole_defect_plan,\\n    defect as defect_plan,\\nfrom\\n    cmat-315920.TX_2020_cntyvtd_cd_contract10.TX_2020_cntyvtd_cd_contract10_1000071_summaries as A\\n',\n",
       " '\\nselect\\n    random_seed,\\n    plan,\\n    A.hash as hash_plan,\\n    pop_deviation as pop_deviation_plan,\\n    intersect_defect as intersect_defect_plan,\\n    whole_defect as whole_defect_plan,\\n    defect as defect_plan,\\nfrom\\n    cmat-315920.TX_2020_cntyvtd_cd_contract10.TX_2020_cntyvtd_cd_contract10_1000072_summaries as A\\n',\n",
       " '\\nselect\\n    random_seed,\\n    plan,\\n    A.hash as hash_plan,\\n    pop_deviation as pop_deviation_plan,\\n    intersect_defect as intersect_defect_plan,\\n    whole_defect as whole_defect_plan,\\n    defect as defect_plan,\\nfrom\\n    cmat-315920.TX_2020_cntyvtd_cd_contract10.TX_2020_cntyvtd_cd_contract10_1000073_summaries as A\\n',\n",
       " '\\nselect\\n    random_seed,\\n    plan,\\n    A.hash as hash_plan,\\n    pop_deviation as pop_deviation_plan,\\n    intersect_defect as intersect_defect_plan,\\n    whole_defect as whole_defect_plan,\\n    defect as defect_plan,\\nfrom\\n    cmat-315920.TX_2020_cntyvtd_cd_contract10.TX_2020_cntyvtd_cd_contract10_1000074_summaries as A\\n',\n",
       " '\\nselect\\n    random_seed,\\n    plan,\\n    A.hash as hash_plan,\\n    pop_deviation as pop_deviation_plan,\\n    intersect_defect as intersect_defect_plan,\\n    whole_defect as whole_defect_plan,\\n    defect as defect_plan,\\nfrom\\n    cmat-315920.TX_2020_cntyvtd_cd_contract10.TX_2020_cntyvtd_cd_contract10_1000075_summaries as A\\n',\n",
       " '\\nselect\\n    random_seed,\\n    plan,\\n    A.hash as hash_plan,\\n    pop_deviation as pop_deviation_plan,\\n    intersect_defect as intersect_defect_plan,\\n    whole_defect as whole_defect_plan,\\n    defect as defect_plan,\\nfrom\\n    cmat-315920.TX_2020_cntyvtd_cd_contract10.TX_2020_cntyvtd_cd_contract10_1000076_summaries as A\\n',\n",
       " '\\nselect\\n    random_seed,\\n    plan,\\n    A.hash as hash_plan,\\n    pop_deviation as pop_deviation_plan,\\n    intersect_defect as intersect_defect_plan,\\n    whole_defect as whole_defect_plan,\\n    defect as defect_plan,\\nfrom\\n    cmat-315920.TX_2020_cntyvtd_cd_contract10.TX_2020_cntyvtd_cd_contract10_1000077_summaries as A\\n',\n",
       " '\\nselect\\n    random_seed,\\n    plan,\\n    A.hash as hash_plan,\\n    pop_deviation as pop_deviation_plan,\\n    intersect_defect as intersect_defect_plan,\\n    whole_defect as whole_defect_plan,\\n    defect as defect_plan,\\nfrom\\n    cmat-315920.TX_2020_cntyvtd_cd_contract10.TX_2020_cntyvtd_cd_contract10_1000078_summaries as A\\n',\n",
       " '\\nselect\\n    random_seed,\\n    plan,\\n    A.hash as hash_plan,\\n    pop_deviation as pop_deviation_plan,\\n    intersect_defect as intersect_defect_plan,\\n    whole_defect as whole_defect_plan,\\n    defect as defect_plan,\\nfrom\\n    cmat-315920.TX_2020_cntyvtd_cd_contract10.TX_2020_cntyvtd_cd_contract10_1000079_summaries as A\\n',\n",
       " '\\nselect\\n    random_seed,\\n    plan,\\n    A.hash as hash_plan,\\n    pop_deviation as pop_deviation_plan,\\n    intersect_defect as intersect_defect_plan,\\n    whole_defect as whole_defect_plan,\\n    defect as defect_plan,\\nfrom\\n    cmat-315920.TX_2020_cntyvtd_cd_contract10.TX_2020_cntyvtd_cd_contract10_2000000_summaries as A\\n',\n",
       " '\\nselect\\n    random_seed,\\n    plan,\\n    A.hash as hash_plan,\\n    pop_deviation as pop_deviation_plan,\\n    intersect_defect as intersect_defect_plan,\\n    whole_defect as whole_defect_plan,\\n    defect as defect_plan,\\nfrom\\n    cmat-315920.TX_2020_cntyvtd_cd_contract10.TX_2020_cntyvtd_cd_contract10_2000001_summaries as A\\n',\n",
       " '\\nselect\\n    random_seed,\\n    plan,\\n    A.hash as hash_plan,\\n    pop_deviation as pop_deviation_plan,\\n    intersect_defect as intersect_defect_plan,\\n    whole_defect as whole_defect_plan,\\n    defect as defect_plan,\\nfrom\\n    cmat-315920.TX_2020_cntyvtd_cd_contract10.TX_2020_cntyvtd_cd_contract10_2000002_summaries as A\\n',\n",
       " '\\nselect\\n    random_seed,\\n    plan,\\n    A.hash as hash_plan,\\n    pop_deviation as pop_deviation_plan,\\n    intersect_defect as intersect_defect_plan,\\n    whole_defect as whole_defect_plan,\\n    defect as defect_plan,\\nfrom\\n    cmat-315920.TX_2020_cntyvtd_cd_contract10.TX_2020_cntyvtd_cd_contract10_2000003_summaries as A\\n',\n",
       " '\\nselect\\n    random_seed,\\n    plan,\\n    A.hash as hash_plan,\\n    pop_deviation as pop_deviation_plan,\\n    intersect_defect as intersect_defect_plan,\\n    whole_defect as whole_defect_plan,\\n    defect as defect_plan,\\nfrom\\n    cmat-315920.TX_2020_cntyvtd_cd_contract10.TX_2020_cntyvtd_cd_contract10_2000004_summaries as A\\n',\n",
       " '\\nselect\\n    random_seed,\\n    plan,\\n    A.hash as hash_plan,\\n    pop_deviation as pop_deviation_plan,\\n    intersect_defect as intersect_defect_plan,\\n    whole_defect as whole_defect_plan,\\n    defect as defect_plan,\\nfrom\\n    cmat-315920.TX_2020_cntyvtd_cd_contract10.TX_2020_cntyvtd_cd_contract10_2000005_summaries as A\\n',\n",
       " '\\nselect\\n    random_seed,\\n    plan,\\n    A.hash as hash_plan,\\n    pop_deviation as pop_deviation_plan,\\n    intersect_defect as intersect_defect_plan,\\n    whole_defect as whole_defect_plan,\\n    defect as defect_plan,\\nfrom\\n    cmat-315920.TX_2020_cntyvtd_cd_contract10.TX_2020_cntyvtd_cd_contract10_2000006_summaries as A\\n',\n",
       " '\\nselect\\n    random_seed,\\n    plan,\\n    A.hash as hash_plan,\\n    pop_deviation as pop_deviation_plan,\\n    intersect_defect as intersect_defect_plan,\\n    whole_defect as whole_defect_plan,\\n    defect as defect_plan,\\nfrom\\n    cmat-315920.TX_2020_cntyvtd_cd_contract10.TX_2020_cntyvtd_cd_contract10_2000007_summaries as A\\n',\n",
       " '\\nselect\\n    random_seed,\\n    plan,\\n    A.hash as hash_plan,\\n    pop_deviation as pop_deviation_plan,\\n    intersect_defect as intersect_defect_plan,\\n    whole_defect as whole_defect_plan,\\n    defect as defect_plan,\\nfrom\\n    cmat-315920.TX_2020_cntyvtd_cd_contract10.TX_2020_cntyvtd_cd_contract10_2000008_summaries as A\\n',\n",
       " '\\nselect\\n    random_seed,\\n    plan,\\n    A.hash as hash_plan,\\n    pop_deviation as pop_deviation_plan,\\n    intersect_defect as intersect_defect_plan,\\n    whole_defect as whole_defect_plan,\\n    defect as defect_plan,\\nfrom\\n    cmat-315920.TX_2020_cntyvtd_cd_contract10.TX_2020_cntyvtd_cd_contract10_2000009_summaries as A\\n',\n",
       " '\\nselect\\n    random_seed,\\n    plan,\\n    A.hash as hash_plan,\\n    pop_deviation as pop_deviation_plan,\\n    intersect_defect as intersect_defect_plan,\\n    whole_defect as whole_defect_plan,\\n    defect as defect_plan,\\nfrom\\n    cmat-315920.TX_2020_cntyvtd_cd_contract10.TX_2020_cntyvtd_cd_contract10_2000010_summaries as A\\n',\n",
       " '\\nselect\\n    random_seed,\\n    plan,\\n    A.hash as hash_plan,\\n    pop_deviation as pop_deviation_plan,\\n    intersect_defect as intersect_defect_plan,\\n    whole_defect as whole_defect_plan,\\n    defect as defect_plan,\\nfrom\\n    cmat-315920.TX_2020_cntyvtd_cd_contract10.TX_2020_cntyvtd_cd_contract10_2000011_summaries as A\\n',\n",
       " '\\nselect\\n    random_seed,\\n    plan,\\n    A.hash as hash_plan,\\n    pop_deviation as pop_deviation_plan,\\n    intersect_defect as intersect_defect_plan,\\n    whole_defect as whole_defect_plan,\\n    defect as defect_plan,\\nfrom\\n    cmat-315920.TX_2020_cntyvtd_cd_contract10.TX_2020_cntyvtd_cd_contract10_2000012_summaries as A\\n',\n",
       " '\\nselect\\n    random_seed,\\n    plan,\\n    A.hash as hash_plan,\\n    pop_deviation as pop_deviation_plan,\\n    intersect_defect as intersect_defect_plan,\\n    whole_defect as whole_defect_plan,\\n    defect as defect_plan,\\nfrom\\n    cmat-315920.TX_2020_cntyvtd_cd_contract10.TX_2020_cntyvtd_cd_contract10_2000013_summaries as A\\n',\n",
       " '\\nselect\\n    random_seed,\\n    plan,\\n    A.hash as hash_plan,\\n    pop_deviation as pop_deviation_plan,\\n    intersect_defect as intersect_defect_plan,\\n    whole_defect as whole_defect_plan,\\n    defect as defect_plan,\\nfrom\\n    cmat-315920.TX_2020_cntyvtd_cd_contract10.TX_2020_cntyvtd_cd_contract10_2000014_summaries as A\\n',\n",
       " '\\nselect\\n    random_seed,\\n    plan,\\n    A.hash as hash_plan,\\n    pop_deviation as pop_deviation_plan,\\n    intersect_defect as intersect_defect_plan,\\n    whole_defect as whole_defect_plan,\\n    defect as defect_plan,\\nfrom\\n    cmat-315920.TX_2020_cntyvtd_cd_contract10.TX_2020_cntyvtd_cd_contract10_2000015_summaries as A\\n',\n",
       " '\\nselect\\n    random_seed,\\n    plan,\\n    A.hash as hash_plan,\\n    pop_deviation as pop_deviation_plan,\\n    intersect_defect as intersect_defect_plan,\\n    whole_defect as whole_defect_plan,\\n    defect as defect_plan,\\nfrom\\n    cmat-315920.TX_2020_cntyvtd_cd_contract10.TX_2020_cntyvtd_cd_contract10_2000016_summaries as A\\n',\n",
       " '\\nselect\\n    random_seed,\\n    plan,\\n    A.hash as hash_plan,\\n    pop_deviation as pop_deviation_plan,\\n    intersect_defect as intersect_defect_plan,\\n    whole_defect as whole_defect_plan,\\n    defect as defect_plan,\\nfrom\\n    cmat-315920.TX_2020_cntyvtd_cd_contract10.TX_2020_cntyvtd_cd_contract10_2000017_summaries as A\\n',\n",
       " '\\nselect\\n    random_seed,\\n    plan,\\n    A.hash as hash_plan,\\n    pop_deviation as pop_deviation_plan,\\n    intersect_defect as intersect_defect_plan,\\n    whole_defect as whole_defect_plan,\\n    defect as defect_plan,\\nfrom\\n    cmat-315920.TX_2020_cntyvtd_cd_contract10.TX_2020_cntyvtd_cd_contract10_2000018_summaries as A\\n',\n",
       " '\\nselect\\n    random_seed,\\n    plan,\\n    A.hash as hash_plan,\\n    pop_deviation as pop_deviation_plan,\\n    intersect_defect as intersect_defect_plan,\\n    whole_defect as whole_defect_plan,\\n    defect as defect_plan,\\nfrom\\n    cmat-315920.TX_2020_cntyvtd_cd_contract10.TX_2020_cntyvtd_cd_contract10_2000019_summaries as A\\n',\n",
       " '\\nselect\\n    random_seed,\\n    plan,\\n    A.hash as hash_plan,\\n    pop_deviation as pop_deviation_plan,\\n    intersect_defect as intersect_defect_plan,\\n    whole_defect as whole_defect_plan,\\n    defect as defect_plan,\\nfrom\\n    cmat-315920.TX_2020_cntyvtd_cd_contract10.TX_2020_cntyvtd_cd_contract10_2000020_summaries as A\\n',\n",
       " '\\nselect\\n    random_seed,\\n    plan,\\n    A.hash as hash_plan,\\n    pop_deviation as pop_deviation_plan,\\n    intersect_defect as intersect_defect_plan,\\n    whole_defect as whole_defect_plan,\\n    defect as defect_plan,\\nfrom\\n    cmat-315920.TX_2020_cntyvtd_cd_contract10.TX_2020_cntyvtd_cd_contract10_2000021_summaries as A\\n',\n",
       " '\\nselect\\n    random_seed,\\n    plan,\\n    A.hash as hash_plan,\\n    pop_deviation as pop_deviation_plan,\\n    intersect_defect as intersect_defect_plan,\\n    whole_defect as whole_defect_plan,\\n    defect as defect_plan,\\nfrom\\n    cmat-315920.TX_2020_cntyvtd_cd_contract10.TX_2020_cntyvtd_cd_contract10_2000022_summaries as A\\n',\n",
       " '\\nselect\\n    random_seed,\\n    plan,\\n    A.hash as hash_plan,\\n    pop_deviation as pop_deviation_plan,\\n    intersect_defect as intersect_defect_plan,\\n    whole_defect as whole_defect_plan,\\n    defect as defect_plan,\\nfrom\\n    cmat-315920.TX_2020_cntyvtd_cd_contract10.TX_2020_cntyvtd_cd_contract10_2000023_summaries as A\\n',\n",
       " '\\nselect\\n    random_seed,\\n    plan,\\n    A.hash as hash_plan,\\n    pop_deviation as pop_deviation_plan,\\n    intersect_defect as intersect_defect_plan,\\n    whole_defect as whole_defect_plan,\\n    defect as defect_plan,\\nfrom\\n    cmat-315920.TX_2020_cntyvtd_cd_contract10.TX_2020_cntyvtd_cd_contract10_2000024_summaries as A\\n',\n",
       " '\\nselect\\n    random_seed,\\n    plan,\\n    A.hash as hash_plan,\\n    pop_deviation as pop_deviation_plan,\\n    intersect_defect as intersect_defect_plan,\\n    whole_defect as whole_defect_plan,\\n    defect as defect_plan,\\nfrom\\n    cmat-315920.TX_2020_cntyvtd_cd_contract10.TX_2020_cntyvtd_cd_contract10_2000025_summaries as A\\n',\n",
       " '\\nselect\\n    random_seed,\\n    plan,\\n    A.hash as hash_plan,\\n    pop_deviation as pop_deviation_plan,\\n    intersect_defect as intersect_defect_plan,\\n    whole_defect as whole_defect_plan,\\n    defect as defect_plan,\\nfrom\\n    cmat-315920.TX_2020_cntyvtd_cd_contract10.TX_2020_cntyvtd_cd_contract10_2000026_summaries as A\\n',\n",
       " '\\nselect\\n    random_seed,\\n    plan,\\n    A.hash as hash_plan,\\n    pop_deviation as pop_deviation_plan,\\n    intersect_defect as intersect_defect_plan,\\n    whole_defect as whole_defect_plan,\\n    defect as defect_plan,\\nfrom\\n    cmat-315920.TX_2020_cntyvtd_cd_contract10.TX_2020_cntyvtd_cd_contract10_2000027_summaries as A\\n',\n",
       " '\\nselect\\n    random_seed,\\n    plan,\\n    A.hash as hash_plan,\\n    pop_deviation as pop_deviation_plan,\\n    intersect_defect as intersect_defect_plan,\\n    whole_defect as whole_defect_plan,\\n    defect as defect_plan,\\nfrom\\n    cmat-315920.TX_2020_cntyvtd_cd_contract10.TX_2020_cntyvtd_cd_contract10_2000028_summaries as A\\n',\n",
       " '\\nselect\\n    random_seed,\\n    plan,\\n    A.hash as hash_plan,\\n    pop_deviation as pop_deviation_plan,\\n    intersect_defect as intersect_defect_plan,\\n    whole_defect as whole_defect_plan,\\n    defect as defect_plan,\\nfrom\\n    cmat-315920.TX_2020_cntyvtd_cd_contract10.TX_2020_cntyvtd_cd_contract10_2000029_summaries as A\\n',\n",
       " '\\nselect\\n    random_seed,\\n    plan,\\n    A.hash as hash_plan,\\n    pop_deviation as pop_deviation_plan,\\n    intersect_defect as intersect_defect_plan,\\n    whole_defect as whole_defect_plan,\\n    defect as defect_plan,\\nfrom\\n    cmat-315920.TX_2020_cntyvtd_cd_contract10.TX_2020_cntyvtd_cd_contract10_2000030_summaries as A\\n',\n",
       " '\\nselect\\n    random_seed,\\n    plan,\\n    A.hash as hash_plan,\\n    pop_deviation as pop_deviation_plan,\\n    intersect_defect as intersect_defect_plan,\\n    whole_defect as whole_defect_plan,\\n    defect as defect_plan,\\nfrom\\n    cmat-315920.TX_2020_cntyvtd_cd_contract10.TX_2020_cntyvtd_cd_contract10_2000031_summaries as A\\n',\n",
       " '\\nselect\\n    random_seed,\\n    plan,\\n    A.hash as hash_plan,\\n    pop_deviation as pop_deviation_plan,\\n    intersect_defect as intersect_defect_plan,\\n    whole_defect as whole_defect_plan,\\n    defect as defect_plan,\\nfrom\\n    cmat-315920.TX_2020_cntyvtd_cd_contract10.TX_2020_cntyvtd_cd_contract10_2000032_summaries as A\\n',\n",
       " '\\nselect\\n    random_seed,\\n    plan,\\n    A.hash as hash_plan,\\n    pop_deviation as pop_deviation_plan,\\n    intersect_defect as intersect_defect_plan,\\n    whole_defect as whole_defect_plan,\\n    defect as defect_plan,\\nfrom\\n    cmat-315920.TX_2020_cntyvtd_cd_contract10.TX_2020_cntyvtd_cd_contract10_2000033_summaries as A\\n',\n",
       " '\\nselect\\n    random_seed,\\n    plan,\\n    A.hash as hash_plan,\\n    pop_deviation as pop_deviation_plan,\\n    intersect_defect as intersect_defect_plan,\\n    whole_defect as whole_defect_plan,\\n    defect as defect_plan,\\nfrom\\n    cmat-315920.TX_2020_cntyvtd_cd_contract10.TX_2020_cntyvtd_cd_contract10_2000034_summaries as A\\n',\n",
       " '\\nselect\\n    random_seed,\\n    plan,\\n    A.hash as hash_plan,\\n    pop_deviation as pop_deviation_plan,\\n    intersect_defect as intersect_defect_plan,\\n    whole_defect as whole_defect_plan,\\n    defect as defect_plan,\\nfrom\\n    cmat-315920.TX_2020_cntyvtd_cd_contract10.TX_2020_cntyvtd_cd_contract10_2000035_summaries as A\\n',\n",
       " '\\nselect\\n    random_seed,\\n    plan,\\n    A.hash as hash_plan,\\n    pop_deviation as pop_deviation_plan,\\n    intersect_defect as intersect_defect_plan,\\n    whole_defect as whole_defect_plan,\\n    defect as defect_plan,\\nfrom\\n    cmat-315920.TX_2020_cntyvtd_cd_contract10.TX_2020_cntyvtd_cd_contract10_2000036_summaries as A\\n',\n",
       " '\\nselect\\n    random_seed,\\n    plan,\\n    A.hash as hash_plan,\\n    pop_deviation as pop_deviation_plan,\\n    intersect_defect as intersect_defect_plan,\\n    whole_defect as whole_defect_plan,\\n    defect as defect_plan,\\nfrom\\n    cmat-315920.TX_2020_cntyvtd_cd_contract10.TX_2020_cntyvtd_cd_contract10_2000037_summaries as A\\n',\n",
       " '\\nselect\\n    random_seed,\\n    plan,\\n    A.hash as hash_plan,\\n    pop_deviation as pop_deviation_plan,\\n    intersect_defect as intersect_defect_plan,\\n    whole_defect as whole_defect_plan,\\n    defect as defect_plan,\\nfrom\\n    cmat-315920.TX_2020_cntyvtd_cd_contract10.TX_2020_cntyvtd_cd_contract10_2000038_summaries as A\\n',\n",
       " '\\nselect\\n    random_seed,\\n    plan,\\n    A.hash as hash_plan,\\n    pop_deviation as pop_deviation_plan,\\n    intersect_defect as intersect_defect_plan,\\n    whole_defect as whole_defect_plan,\\n    defect as defect_plan,\\nfrom\\n    cmat-315920.TX_2020_cntyvtd_cd_contract10.TX_2020_cntyvtd_cd_contract10_2000039_summaries as A\\n',\n",
       " '\\nselect\\n    random_seed,\\n    plan,\\n    A.hash as hash_plan,\\n    pop_deviation as pop_deviation_plan,\\n    intersect_defect as intersect_defect_plan,\\n    whole_defect as whole_defect_plan,\\n    defect as defect_plan,\\nfrom\\n    cmat-315920.TX_2020_cntyvtd_cd_contract10.TX_2020_cntyvtd_cd_contract10_2000040_summaries as A\\n',\n",
       " '\\nselect\\n    random_seed,\\n    plan,\\n    A.hash as hash_plan,\\n    pop_deviation as pop_deviation_plan,\\n    intersect_defect as intersect_defect_plan,\\n    whole_defect as whole_defect_plan,\\n    defect as defect_plan,\\nfrom\\n    cmat-315920.TX_2020_cntyvtd_cd_contract10.TX_2020_cntyvtd_cd_contract10_2000041_summaries as A\\n',\n",
       " '\\nselect\\n    random_seed,\\n    plan,\\n    A.hash as hash_plan,\\n    pop_deviation as pop_deviation_plan,\\n    intersect_defect as intersect_defect_plan,\\n    whole_defect as whole_defect_plan,\\n    defect as defect_plan,\\nfrom\\n    cmat-315920.TX_2020_cntyvtd_cd_contract10.TX_2020_cntyvtd_cd_contract10_2000042_summaries as A\\n',\n",
       " '\\nselect\\n    random_seed,\\n    plan,\\n    A.hash as hash_plan,\\n    pop_deviation as pop_deviation_plan,\\n    intersect_defect as intersect_defect_plan,\\n    whole_defect as whole_defect_plan,\\n    defect as defect_plan,\\nfrom\\n    cmat-315920.TX_2020_cntyvtd_cd_contract10.TX_2020_cntyvtd_cd_contract10_2000043_summaries as A\\n',\n",
       " '\\nselect\\n    random_seed,\\n    plan,\\n    A.hash as hash_plan,\\n    pop_deviation as pop_deviation_plan,\\n    intersect_defect as intersect_defect_plan,\\n    whole_defect as whole_defect_plan,\\n    defect as defect_plan,\\nfrom\\n    cmat-315920.TX_2020_cntyvtd_cd_contract10.TX_2020_cntyvtd_cd_contract10_2000044_summaries as A\\n',\n",
       " '\\nselect\\n    random_seed,\\n    plan,\\n    A.hash as hash_plan,\\n    pop_deviation as pop_deviation_plan,\\n    intersect_defect as intersect_defect_plan,\\n    whole_defect as whole_defect_plan,\\n    defect as defect_plan,\\nfrom\\n    cmat-315920.TX_2020_cntyvtd_cd_contract10.TX_2020_cntyvtd_cd_contract10_2000045_summaries as A\\n',\n",
       " '\\nselect\\n    random_seed,\\n    plan,\\n    A.hash as hash_plan,\\n    pop_deviation as pop_deviation_plan,\\n    intersect_defect as intersect_defect_plan,\\n    whole_defect as whole_defect_plan,\\n    defect as defect_plan,\\nfrom\\n    cmat-315920.TX_2020_cntyvtd_cd_contract10.TX_2020_cntyvtd_cd_contract10_2000046_summaries as A\\n',\n",
       " '\\nselect\\n    random_seed,\\n    plan,\\n    A.hash as hash_plan,\\n    pop_deviation as pop_deviation_plan,\\n    intersect_defect as intersect_defect_plan,\\n    whole_defect as whole_defect_plan,\\n    defect as defect_plan,\\nfrom\\n    cmat-315920.TX_2020_cntyvtd_cd_contract10.TX_2020_cntyvtd_cd_contract10_2000047_summaries as A\\n',\n",
       " '\\nselect\\n    random_seed,\\n    plan,\\n    A.hash as hash_plan,\\n    pop_deviation as pop_deviation_plan,\\n    intersect_defect as intersect_defect_plan,\\n    whole_defect as whole_defect_plan,\\n    defect as defect_plan,\\nfrom\\n    cmat-315920.TX_2020_cntyvtd_cd_contract10.TX_2020_cntyvtd_cd_contract10_2000048_summaries as A\\n',\n",
       " '\\nselect\\n    random_seed,\\n    plan,\\n    A.hash as hash_plan,\\n    pop_deviation as pop_deviation_plan,\\n    intersect_defect as intersect_defect_plan,\\n    whole_defect as whole_defect_plan,\\n    defect as defect_plan,\\nfrom\\n    cmat-315920.TX_2020_cntyvtd_cd_contract10.TX_2020_cntyvtd_cd_contract10_2000049_summaries as A\\n',\n",
       " '\\nselect\\n    random_seed,\\n    plan,\\n    A.hash as hash_plan,\\n    pop_deviation as pop_deviation_plan,\\n    intersect_defect as intersect_defect_plan,\\n    whole_defect as whole_defect_plan,\\n    defect as defect_plan,\\nfrom\\n    cmat-315920.TX_2020_cntyvtd_cd_contract10.TX_2020_cntyvtd_cd_contract10_2000050_summaries as A\\n',\n",
       " '\\nselect\\n    random_seed,\\n    plan,\\n    A.hash as hash_plan,\\n    pop_deviation as pop_deviation_plan,\\n    intersect_defect as intersect_defect_plan,\\n    whole_defect as whole_defect_plan,\\n    defect as defect_plan,\\nfrom\\n    cmat-315920.TX_2020_cntyvtd_cd_contract10.TX_2020_cntyvtd_cd_contract10_2000051_summaries as A\\n',\n",
       " '\\nselect\\n    random_seed,\\n    plan,\\n    A.hash as hash_plan,\\n    pop_deviation as pop_deviation_plan,\\n    intersect_defect as intersect_defect_plan,\\n    whole_defect as whole_defect_plan,\\n    defect as defect_plan,\\nfrom\\n    cmat-315920.TX_2020_cntyvtd_cd_contract10.TX_2020_cntyvtd_cd_contract10_2000052_summaries as A\\n',\n",
       " '\\nselect\\n    random_seed,\\n    plan,\\n    A.hash as hash_plan,\\n    pop_deviation as pop_deviation_plan,\\n    intersect_defect as intersect_defect_plan,\\n    whole_defect as whole_defect_plan,\\n    defect as defect_plan,\\nfrom\\n    cmat-315920.TX_2020_cntyvtd_cd_contract10.TX_2020_cntyvtd_cd_contract10_2000053_summaries as A\\n',\n",
       " '\\nselect\\n    random_seed,\\n    plan,\\n    A.hash as hash_plan,\\n    pop_deviation as pop_deviation_plan,\\n    intersect_defect as intersect_defect_plan,\\n    whole_defect as whole_defect_plan,\\n    defect as defect_plan,\\nfrom\\n    cmat-315920.TX_2020_cntyvtd_cd_contract10.TX_2020_cntyvtd_cd_contract10_2000054_summaries as A\\n',\n",
       " '\\nselect\\n    random_seed,\\n    plan,\\n    A.hash as hash_plan,\\n    pop_deviation as pop_deviation_plan,\\n    intersect_defect as intersect_defect_plan,\\n    whole_defect as whole_defect_plan,\\n    defect as defect_plan,\\nfrom\\n    cmat-315920.TX_2020_cntyvtd_cd_contract10.TX_2020_cntyvtd_cd_contract10_2000055_summaries as A\\n',\n",
       " '\\nselect\\n    random_seed,\\n    plan,\\n    A.hash as hash_plan,\\n    pop_deviation as pop_deviation_plan,\\n    intersect_defect as intersect_defect_plan,\\n    whole_defect as whole_defect_plan,\\n    defect as defect_plan,\\nfrom\\n    cmat-315920.TX_2020_cntyvtd_cd_contract10.TX_2020_cntyvtd_cd_contract10_2000056_summaries as A\\n',\n",
       " '\\nselect\\n    random_seed,\\n    plan,\\n    A.hash as hash_plan,\\n    pop_deviation as pop_deviation_plan,\\n    intersect_defect as intersect_defect_plan,\\n    whole_defect as whole_defect_plan,\\n    defect as defect_plan,\\nfrom\\n    cmat-315920.TX_2020_cntyvtd_cd_contract10.TX_2020_cntyvtd_cd_contract10_2000057_summaries as A\\n',\n",
       " '\\nselect\\n    random_seed,\\n    plan,\\n    A.hash as hash_plan,\\n    pop_deviation as pop_deviation_plan,\\n    intersect_defect as intersect_defect_plan,\\n    whole_defect as whole_defect_plan,\\n    defect as defect_plan,\\nfrom\\n    cmat-315920.TX_2020_cntyvtd_cd_contract10.TX_2020_cntyvtd_cd_contract10_2000058_summaries as A\\n',\n",
       " '\\nselect\\n    random_seed,\\n    plan,\\n    A.hash as hash_plan,\\n    pop_deviation as pop_deviation_plan,\\n    intersect_defect as intersect_defect_plan,\\n    whole_defect as whole_defect_plan,\\n    defect as defect_plan,\\nfrom\\n    cmat-315920.TX_2020_cntyvtd_cd_contract10.TX_2020_cntyvtd_cd_contract10_2000059_summaries as A\\n',\n",
       " '\\nselect\\n    random_seed,\\n    plan,\\n    A.hash as hash_plan,\\n    pop_deviation as pop_deviation_plan,\\n    intersect_defect as intersect_defect_plan,\\n    whole_defect as whole_defect_plan,\\n    defect as defect_plan,\\nfrom\\n    cmat-315920.TX_2020_cntyvtd_cd_contract10.TX_2020_cntyvtd_cd_contract10_2000060_summaries as A\\n',\n",
       " '\\nselect\\n    random_seed,\\n    plan,\\n    A.hash as hash_plan,\\n    pop_deviation as pop_deviation_plan,\\n    intersect_defect as intersect_defect_plan,\\n    whole_defect as whole_defect_plan,\\n    defect as defect_plan,\\nfrom\\n    cmat-315920.TX_2020_cntyvtd_cd_contract10.TX_2020_cntyvtd_cd_contract10_2000061_summaries as A\\n',\n",
       " '\\nselect\\n    random_seed,\\n    plan,\\n    A.hash as hash_plan,\\n    pop_deviation as pop_deviation_plan,\\n    intersect_defect as intersect_defect_plan,\\n    whole_defect as whole_defect_plan,\\n    defect as defect_plan,\\nfrom\\n    cmat-315920.TX_2020_cntyvtd_cd_contract10.TX_2020_cntyvtd_cd_contract10_2000062_summaries as A\\n',\n",
       " '\\nselect\\n    random_seed,\\n    plan,\\n    A.hash as hash_plan,\\n    pop_deviation as pop_deviation_plan,\\n    intersect_defect as intersect_defect_plan,\\n    whole_defect as whole_defect_plan,\\n    defect as defect_plan,\\nfrom\\n    cmat-315920.TX_2020_cntyvtd_cd_contract10.TX_2020_cntyvtd_cd_contract10_2000063_summaries as A\\n',\n",
       " '\\nselect\\n    random_seed,\\n    plan,\\n    A.hash as hash_plan,\\n    pop_deviation as pop_deviation_plan,\\n    intersect_defect as intersect_defect_plan,\\n    whole_defect as whole_defect_plan,\\n    defect as defect_plan,\\nfrom\\n    cmat-315920.TX_2020_cntyvtd_cd_contract10.TX_2020_cntyvtd_cd_contract10_2000064_summaries as A\\n',\n",
       " '\\nselect\\n    random_seed,\\n    plan,\\n    A.hash as hash_plan,\\n    pop_deviation as pop_deviation_plan,\\n    intersect_defect as intersect_defect_plan,\\n    whole_defect as whole_defect_plan,\\n    defect as defect_plan,\\nfrom\\n    cmat-315920.TX_2020_cntyvtd_cd_contract10.TX_2020_cntyvtd_cd_contract10_2000065_summaries as A\\n',\n",
       " '\\nselect\\n    random_seed,\\n    plan,\\n    A.hash as hash_plan,\\n    pop_deviation as pop_deviation_plan,\\n    intersect_defect as intersect_defect_plan,\\n    whole_defect as whole_defect_plan,\\n    defect as defect_plan,\\nfrom\\n    cmat-315920.TX_2020_cntyvtd_cd_contract10.TX_2020_cntyvtd_cd_contract10_2000066_summaries as A\\n',\n",
       " '\\nselect\\n    random_seed,\\n    plan,\\n    A.hash as hash_plan,\\n    pop_deviation as pop_deviation_plan,\\n    intersect_defect as intersect_defect_plan,\\n    whole_defect as whole_defect_plan,\\n    defect as defect_plan,\\nfrom\\n    cmat-315920.TX_2020_cntyvtd_cd_contract10.TX_2020_cntyvtd_cd_contract10_2000067_summaries as A\\n',\n",
       " '\\nselect\\n    random_seed,\\n    plan,\\n    A.hash as hash_plan,\\n    pop_deviation as pop_deviation_plan,\\n    intersect_defect as intersect_defect_plan,\\n    whole_defect as whole_defect_plan,\\n    defect as defect_plan,\\nfrom\\n    cmat-315920.TX_2020_cntyvtd_cd_contract10.TX_2020_cntyvtd_cd_contract10_2000068_summaries as A\\n',\n",
       " '\\nselect\\n    random_seed,\\n    plan,\\n    A.hash as hash_plan,\\n    pop_deviation as pop_deviation_plan,\\n    intersect_defect as intersect_defect_plan,\\n    whole_defect as whole_defect_plan,\\n    defect as defect_plan,\\nfrom\\n    cmat-315920.TX_2020_cntyvtd_cd_contract10.TX_2020_cntyvtd_cd_contract10_2000069_summaries as A\\n',\n",
       " '\\nselect\\n    random_seed,\\n    plan,\\n    A.hash as hash_plan,\\n    pop_deviation as pop_deviation_plan,\\n    intersect_defect as intersect_defect_plan,\\n    whole_defect as whole_defect_plan,\\n    defect as defect_plan,\\nfrom\\n    cmat-315920.TX_2020_cntyvtd_cd_contract10.TX_2020_cntyvtd_cd_contract10_2000070_summaries as A\\n',\n",
       " '\\nselect\\n    random_seed,\\n    plan,\\n    A.hash as hash_plan,\\n    pop_deviation as pop_deviation_plan,\\n    intersect_defect as intersect_defect_plan,\\n    whole_defect as whole_defect_plan,\\n    defect as defect_plan,\\nfrom\\n    cmat-315920.TX_2020_cntyvtd_cd_contract10.TX_2020_cntyvtd_cd_contract10_2000071_summaries as A\\n',\n",
       " '\\nselect\\n    random_seed,\\n    plan,\\n    A.hash as hash_plan,\\n    pop_deviation as pop_deviation_plan,\\n    intersect_defect as intersect_defect_plan,\\n    whole_defect as whole_defect_plan,\\n    defect as defect_plan,\\nfrom\\n    cmat-315920.TX_2020_cntyvtd_cd_contract10.TX_2020_cntyvtd_cd_contract10_2000072_summaries as A\\n',\n",
       " '\\nselect\\n    random_seed,\\n    plan,\\n    A.hash as hash_plan,\\n    pop_deviation as pop_deviation_plan,\\n    intersect_defect as intersect_defect_plan,\\n    whole_defect as whole_defect_plan,\\n    defect as defect_plan,\\nfrom\\n    cmat-315920.TX_2020_cntyvtd_cd_contract10.TX_2020_cntyvtd_cd_contract10_2000073_summaries as A\\n',\n",
       " '\\nselect\\n    random_seed,\\n    plan,\\n    A.hash as hash_plan,\\n    pop_deviation as pop_deviation_plan,\\n    intersect_defect as intersect_defect_plan,\\n    whole_defect as whole_defect_plan,\\n    defect as defect_plan,\\nfrom\\n    cmat-315920.TX_2020_cntyvtd_cd_contract10.TX_2020_cntyvtd_cd_contract10_2000074_summaries as A\\n',\n",
       " '\\nselect\\n    random_seed,\\n    plan,\\n    A.hash as hash_plan,\\n    pop_deviation as pop_deviation_plan,\\n    intersect_defect as intersect_defect_plan,\\n    whole_defect as whole_defect_plan,\\n    defect as defect_plan,\\nfrom\\n    cmat-315920.TX_2020_cntyvtd_cd_contract10.TX_2020_cntyvtd_cd_contract10_2000075_summaries as A\\n',\n",
       " '\\nselect\\n    random_seed,\\n    plan,\\n    A.hash as hash_plan,\\n    pop_deviation as pop_deviation_plan,\\n    intersect_defect as intersect_defect_plan,\\n    whole_defect as whole_defect_plan,\\n    defect as defect_plan,\\nfrom\\n    cmat-315920.TX_2020_cntyvtd_cd_contract10.TX_2020_cntyvtd_cd_contract10_2000076_summaries as A\\n',\n",
       " '\\nselect\\n    random_seed,\\n    plan,\\n    A.hash as hash_plan,\\n    pop_deviation as pop_deviation_plan,\\n    intersect_defect as intersect_defect_plan,\\n    whole_defect as whole_defect_plan,\\n    defect as defect_plan,\\nfrom\\n    cmat-315920.TX_2020_cntyvtd_cd_contract10.TX_2020_cntyvtd_cd_contract10_2000077_summaries as A\\n',\n",
       " '\\nselect\\n    random_seed,\\n    plan,\\n    A.hash as hash_plan,\\n    pop_deviation as pop_deviation_plan,\\n    intersect_defect as intersect_defect_plan,\\n    whole_defect as whole_defect_plan,\\n    defect as defect_plan,\\nfrom\\n    cmat-315920.TX_2020_cntyvtd_cd_contract10.TX_2020_cntyvtd_cd_contract10_2000078_summaries as A\\n',\n",
       " '\\nselect\\n    random_seed,\\n    plan,\\n    A.hash as hash_plan,\\n    pop_deviation as pop_deviation_plan,\\n    intersect_defect as intersect_defect_plan,\\n    whole_defect as whole_defect_plan,\\n    defect as defect_plan,\\nfrom\\n    cmat-315920.TX_2020_cntyvtd_cd_contract10.TX_2020_cntyvtd_cd_contract10_2000079_summaries as A\\n',\n",
       " '\\nselect\\n    random_seed,\\n    plan,\\n    A.hash as hash_plan,\\n    pop_deviation as pop_deviation_plan,\\n    intersect_defect as intersect_defect_plan,\\n    whole_defect as whole_defect_plan,\\n    defect as defect_plan,\\nfrom\\n    cmat-315920.TX_2020_cntyvtd_cd_contract10.TX_2020_cntyvtd_cd_contract10_3000000_summaries as A\\n',\n",
       " '\\nselect\\n    random_seed,\\n    plan,\\n    A.hash as hash_plan,\\n    pop_deviation as pop_deviation_plan,\\n    intersect_defect as intersect_defect_plan,\\n    whole_defect as whole_defect_plan,\\n    defect as defect_plan,\\nfrom\\n    cmat-315920.TX_2020_cntyvtd_cd_contract10.TX_2020_cntyvtd_cd_contract10_3000001_summaries as A\\n',\n",
       " '\\nselect\\n    random_seed,\\n    plan,\\n    A.hash as hash_plan,\\n    pop_deviation as pop_deviation_plan,\\n    intersect_defect as intersect_defect_plan,\\n    whole_defect as whole_defect_plan,\\n    defect as defect_plan,\\nfrom\\n    cmat-315920.TX_2020_cntyvtd_cd_contract10.TX_2020_cntyvtd_cd_contract10_3000002_summaries as A\\n',\n",
       " '\\nselect\\n    random_seed,\\n    plan,\\n    A.hash as hash_plan,\\n    pop_deviation as pop_deviation_plan,\\n    intersect_defect as intersect_defect_plan,\\n    whole_defect as whole_defect_plan,\\n    defect as defect_plan,\\nfrom\\n    cmat-315920.TX_2020_cntyvtd_cd_contract10.TX_2020_cntyvtd_cd_contract10_3000003_summaries as A\\n',\n",
       " '\\nselect\\n    random_seed,\\n    plan,\\n    A.hash as hash_plan,\\n    pop_deviation as pop_deviation_plan,\\n    intersect_defect as intersect_defect_plan,\\n    whole_defect as whole_defect_plan,\\n    defect as defect_plan,\\nfrom\\n    cmat-315920.TX_2020_cntyvtd_cd_contract10.TX_2020_cntyvtd_cd_contract10_3000004_summaries as A\\n',\n",
       " '\\nselect\\n    random_seed,\\n    plan,\\n    A.hash as hash_plan,\\n    pop_deviation as pop_deviation_plan,\\n    intersect_defect as intersect_defect_plan,\\n    whole_defect as whole_defect_plan,\\n    defect as defect_plan,\\nfrom\\n    cmat-315920.TX_2020_cntyvtd_cd_contract10.TX_2020_cntyvtd_cd_contract10_3000005_summaries as A\\n',\n",
       " '\\nselect\\n    random_seed,\\n    plan,\\n    A.hash as hash_plan,\\n    pop_deviation as pop_deviation_plan,\\n    intersect_defect as intersect_defect_plan,\\n    whole_defect as whole_defect_plan,\\n    defect as defect_plan,\\nfrom\\n    cmat-315920.TX_2020_cntyvtd_cd_contract10.TX_2020_cntyvtd_cd_contract10_3000006_summaries as A\\n',\n",
       " '\\nselect\\n    random_seed,\\n    plan,\\n    A.hash as hash_plan,\\n    pop_deviation as pop_deviation_plan,\\n    intersect_defect as intersect_defect_plan,\\n    whole_defect as whole_defect_plan,\\n    defect as defect_plan,\\nfrom\\n    cmat-315920.TX_2020_cntyvtd_cd_contract10.TX_2020_cntyvtd_cd_contract10_3000007_summaries as A\\n',\n",
       " '\\nselect\\n    random_seed,\\n    plan,\\n    A.hash as hash_plan,\\n    pop_deviation as pop_deviation_plan,\\n    intersect_defect as intersect_defect_plan,\\n    whole_defect as whole_defect_plan,\\n    defect as defect_plan,\\nfrom\\n    cmat-315920.TX_2020_cntyvtd_cd_contract10.TX_2020_cntyvtd_cd_contract10_3000008_summaries as A\\n',\n",
       " '\\nselect\\n    random_seed,\\n    plan,\\n    A.hash as hash_plan,\\n    pop_deviation as pop_deviation_plan,\\n    intersect_defect as intersect_defect_plan,\\n    whole_defect as whole_defect_plan,\\n    defect as defect_plan,\\nfrom\\n    cmat-315920.TX_2020_cntyvtd_cd_contract10.TX_2020_cntyvtd_cd_contract10_3000009_summaries as A\\n',\n",
       " '\\nselect\\n    random_seed,\\n    plan,\\n    A.hash as hash_plan,\\n    pop_deviation as pop_deviation_plan,\\n    intersect_defect as intersect_defect_plan,\\n    whole_defect as whole_defect_plan,\\n    defect as defect_plan,\\nfrom\\n    cmat-315920.TX_2020_cntyvtd_cd_contract10.TX_2020_cntyvtd_cd_contract10_3000010_summaries as A\\n',\n",
       " '\\nselect\\n    random_seed,\\n    plan,\\n    A.hash as hash_plan,\\n    pop_deviation as pop_deviation_plan,\\n    intersect_defect as intersect_defect_plan,\\n    whole_defect as whole_defect_plan,\\n    defect as defect_plan,\\nfrom\\n    cmat-315920.TX_2020_cntyvtd_cd_contract10.TX_2020_cntyvtd_cd_contract10_3000011_summaries as A\\n',\n",
       " '\\nselect\\n    random_seed,\\n    plan,\\n    A.hash as hash_plan,\\n    pop_deviation as pop_deviation_plan,\\n    intersect_defect as intersect_defect_plan,\\n    whole_defect as whole_defect_plan,\\n    defect as defect_plan,\\nfrom\\n    cmat-315920.TX_2020_cntyvtd_cd_contract10.TX_2020_cntyvtd_cd_contract10_3000012_summaries as A\\n',\n",
       " '\\nselect\\n    random_seed,\\n    plan,\\n    A.hash as hash_plan,\\n    pop_deviation as pop_deviation_plan,\\n    intersect_defect as intersect_defect_plan,\\n    whole_defect as whole_defect_plan,\\n    defect as defect_plan,\\nfrom\\n    cmat-315920.TX_2020_cntyvtd_cd_contract10.TX_2020_cntyvtd_cd_contract10_3000013_summaries as A\\n',\n",
       " '\\nselect\\n    random_seed,\\n    plan,\\n    A.hash as hash_plan,\\n    pop_deviation as pop_deviation_plan,\\n    intersect_defect as intersect_defect_plan,\\n    whole_defect as whole_defect_plan,\\n    defect as defect_plan,\\nfrom\\n    cmat-315920.TX_2020_cntyvtd_cd_contract10.TX_2020_cntyvtd_cd_contract10_3000014_summaries as A\\n',\n",
       " '\\nselect\\n    random_seed,\\n    plan,\\n    A.hash as hash_plan,\\n    pop_deviation as pop_deviation_plan,\\n    intersect_defect as intersect_defect_plan,\\n    whole_defect as whole_defect_plan,\\n    defect as defect_plan,\\nfrom\\n    cmat-315920.TX_2020_cntyvtd_cd_contract10.TX_2020_cntyvtd_cd_contract10_3000015_summaries as A\\n',\n",
       " '\\nselect\\n    random_seed,\\n    plan,\\n    A.hash as hash_plan,\\n    pop_deviation as pop_deviation_plan,\\n    intersect_defect as intersect_defect_plan,\\n    whole_defect as whole_defect_plan,\\n    defect as defect_plan,\\nfrom\\n    cmat-315920.TX_2020_cntyvtd_cd_contract10.TX_2020_cntyvtd_cd_contract10_3000016_summaries as A\\n',\n",
       " '\\nselect\\n    random_seed,\\n    plan,\\n    A.hash as hash_plan,\\n    pop_deviation as pop_deviation_plan,\\n    intersect_defect as intersect_defect_plan,\\n    whole_defect as whole_defect_plan,\\n    defect as defect_plan,\\nfrom\\n    cmat-315920.TX_2020_cntyvtd_cd_contract10.TX_2020_cntyvtd_cd_contract10_3000017_summaries as A\\n',\n",
       " '\\nselect\\n    random_seed,\\n    plan,\\n    A.hash as hash_plan,\\n    pop_deviation as pop_deviation_plan,\\n    intersect_defect as intersect_defect_plan,\\n    whole_defect as whole_defect_plan,\\n    defect as defect_plan,\\nfrom\\n    cmat-315920.TX_2020_cntyvtd_cd_contract10.TX_2020_cntyvtd_cd_contract10_3000018_summaries as A\\n',\n",
       " '\\nselect\\n    random_seed,\\n    plan,\\n    A.hash as hash_plan,\\n    pop_deviation as pop_deviation_plan,\\n    intersect_defect as intersect_defect_plan,\\n    whole_defect as whole_defect_plan,\\n    defect as defect_plan,\\nfrom\\n    cmat-315920.TX_2020_cntyvtd_cd_contract10.TX_2020_cntyvtd_cd_contract10_3000019_summaries as A\\n',\n",
       " '\\nselect\\n    random_seed,\\n    plan,\\n    A.hash as hash_plan,\\n    pop_deviation as pop_deviation_plan,\\n    intersect_defect as intersect_defect_plan,\\n    whole_defect as whole_defect_plan,\\n    defect as defect_plan,\\nfrom\\n    cmat-315920.TX_2020_cntyvtd_cd_contract10.TX_2020_cntyvtd_cd_contract10_3000020_summaries as A\\n',\n",
       " '\\nselect\\n    random_seed,\\n    plan,\\n    A.hash as hash_plan,\\n    pop_deviation as pop_deviation_plan,\\n    intersect_defect as intersect_defect_plan,\\n    whole_defect as whole_defect_plan,\\n    defect as defect_plan,\\nfrom\\n    cmat-315920.TX_2020_cntyvtd_cd_contract10.TX_2020_cntyvtd_cd_contract10_3000021_summaries as A\\n',\n",
       " '\\nselect\\n    random_seed,\\n    plan,\\n    A.hash as hash_plan,\\n    pop_deviation as pop_deviation_plan,\\n    intersect_defect as intersect_defect_plan,\\n    whole_defect as whole_defect_plan,\\n    defect as defect_plan,\\nfrom\\n    cmat-315920.TX_2020_cntyvtd_cd_contract10.TX_2020_cntyvtd_cd_contract10_3000022_summaries as A\\n',\n",
       " '\\nselect\\n    random_seed,\\n    plan,\\n    A.hash as hash_plan,\\n    pop_deviation as pop_deviation_plan,\\n    intersect_defect as intersect_defect_plan,\\n    whole_defect as whole_defect_plan,\\n    defect as defect_plan,\\nfrom\\n    cmat-315920.TX_2020_cntyvtd_cd_contract10.TX_2020_cntyvtd_cd_contract10_3000023_summaries as A\\n',\n",
       " '\\nselect\\n    random_seed,\\n    plan,\\n    A.hash as hash_plan,\\n    pop_deviation as pop_deviation_plan,\\n    intersect_defect as intersect_defect_plan,\\n    whole_defect as whole_defect_plan,\\n    defect as defect_plan,\\nfrom\\n    cmat-315920.TX_2020_cntyvtd_cd_contract10.TX_2020_cntyvtd_cd_contract10_3000024_summaries as A\\n',\n",
       " '\\nselect\\n    random_seed,\\n    plan,\\n    A.hash as hash_plan,\\n    pop_deviation as pop_deviation_plan,\\n    intersect_defect as intersect_defect_plan,\\n    whole_defect as whole_defect_plan,\\n    defect as defect_plan,\\nfrom\\n    cmat-315920.TX_2020_cntyvtd_cd_contract10.TX_2020_cntyvtd_cd_contract10_3000025_summaries as A\\n',\n",
       " '\\nselect\\n    random_seed,\\n    plan,\\n    A.hash as hash_plan,\\n    pop_deviation as pop_deviation_plan,\\n    intersect_defect as intersect_defect_plan,\\n    whole_defect as whole_defect_plan,\\n    defect as defect_plan,\\nfrom\\n    cmat-315920.TX_2020_cntyvtd_cd_contract10.TX_2020_cntyvtd_cd_contract10_3000026_summaries as A\\n',\n",
       " '\\nselect\\n    random_seed,\\n    plan,\\n    A.hash as hash_plan,\\n    pop_deviation as pop_deviation_plan,\\n    intersect_defect as intersect_defect_plan,\\n    whole_defect as whole_defect_plan,\\n    defect as defect_plan,\\nfrom\\n    cmat-315920.TX_2020_cntyvtd_cd_contract10.TX_2020_cntyvtd_cd_contract10_3000027_summaries as A\\n',\n",
       " '\\nselect\\n    random_seed,\\n    plan,\\n    A.hash as hash_plan,\\n    pop_deviation as pop_deviation_plan,\\n    intersect_defect as intersect_defect_plan,\\n    whole_defect as whole_defect_plan,\\n    defect as defect_plan,\\nfrom\\n    cmat-315920.TX_2020_cntyvtd_cd_contract10.TX_2020_cntyvtd_cd_contract10_3000028_summaries as A\\n',\n",
       " '\\nselect\\n    random_seed,\\n    plan,\\n    A.hash as hash_plan,\\n    pop_deviation as pop_deviation_plan,\\n    intersect_defect as intersect_defect_plan,\\n    whole_defect as whole_defect_plan,\\n    defect as defect_plan,\\nfrom\\n    cmat-315920.TX_2020_cntyvtd_cd_contract10.TX_2020_cntyvtd_cd_contract10_3000029_summaries as A\\n',\n",
       " '\\nselect\\n    random_seed,\\n    plan,\\n    A.hash as hash_plan,\\n    pop_deviation as pop_deviation_plan,\\n    intersect_defect as intersect_defect_plan,\\n    whole_defect as whole_defect_plan,\\n    defect as defect_plan,\\nfrom\\n    cmat-315920.TX_2020_cntyvtd_cd_contract10.TX_2020_cntyvtd_cd_contract10_3000030_summaries as A\\n',\n",
       " '\\nselect\\n    random_seed,\\n    plan,\\n    A.hash as hash_plan,\\n    pop_deviation as pop_deviation_plan,\\n    intersect_defect as intersect_defect_plan,\\n    whole_defect as whole_defect_plan,\\n    defect as defect_plan,\\nfrom\\n    cmat-315920.TX_2020_cntyvtd_cd_contract10.TX_2020_cntyvtd_cd_contract10_3000031_summaries as A\\n',\n",
       " '\\nselect\\n    random_seed,\\n    plan,\\n    A.hash as hash_plan,\\n    pop_deviation as pop_deviation_plan,\\n    intersect_defect as intersect_defect_plan,\\n    whole_defect as whole_defect_plan,\\n    defect as defect_plan,\\nfrom\\n    cmat-315920.TX_2020_cntyvtd_cd_contract10.TX_2020_cntyvtd_cd_contract10_3000032_summaries as A\\n',\n",
       " '\\nselect\\n    random_seed,\\n    plan,\\n    A.hash as hash_plan,\\n    pop_deviation as pop_deviation_plan,\\n    intersect_defect as intersect_defect_plan,\\n    whole_defect as whole_defect_plan,\\n    defect as defect_plan,\\nfrom\\n    cmat-315920.TX_2020_cntyvtd_cd_contract10.TX_2020_cntyvtd_cd_contract10_3000033_summaries as A\\n',\n",
       " '\\nselect\\n    random_seed,\\n    plan,\\n    A.hash as hash_plan,\\n    pop_deviation as pop_deviation_plan,\\n    intersect_defect as intersect_defect_plan,\\n    whole_defect as whole_defect_plan,\\n    defect as defect_plan,\\nfrom\\n    cmat-315920.TX_2020_cntyvtd_cd_contract10.TX_2020_cntyvtd_cd_contract10_3000034_summaries as A\\n',\n",
       " '\\nselect\\n    random_seed,\\n    plan,\\n    A.hash as hash_plan,\\n    pop_deviation as pop_deviation_plan,\\n    intersect_defect as intersect_defect_plan,\\n    whole_defect as whole_defect_plan,\\n    defect as defect_plan,\\nfrom\\n    cmat-315920.TX_2020_cntyvtd_cd_contract10.TX_2020_cntyvtd_cd_contract10_3000035_summaries as A\\n',\n",
       " '\\nselect\\n    random_seed,\\n    plan,\\n    A.hash as hash_plan,\\n    pop_deviation as pop_deviation_plan,\\n    intersect_defect as intersect_defect_plan,\\n    whole_defect as whole_defect_plan,\\n    defect as defect_plan,\\nfrom\\n    cmat-315920.TX_2020_cntyvtd_cd_contract10.TX_2020_cntyvtd_cd_contract10_3000036_summaries as A\\n',\n",
       " '\\nselect\\n    random_seed,\\n    plan,\\n    A.hash as hash_plan,\\n    pop_deviation as pop_deviation_plan,\\n    intersect_defect as intersect_defect_plan,\\n    whole_defect as whole_defect_plan,\\n    defect as defect_plan,\\nfrom\\n    cmat-315920.TX_2020_cntyvtd_cd_contract10.TX_2020_cntyvtd_cd_contract10_3000037_summaries as A\\n',\n",
       " '\\nselect\\n    random_seed,\\n    plan,\\n    A.hash as hash_plan,\\n    pop_deviation as pop_deviation_plan,\\n    intersect_defect as intersect_defect_plan,\\n    whole_defect as whole_defect_plan,\\n    defect as defect_plan,\\nfrom\\n    cmat-315920.TX_2020_cntyvtd_cd_contract10.TX_2020_cntyvtd_cd_contract10_3000038_summaries as A\\n',\n",
       " '\\nselect\\n    random_seed,\\n    plan,\\n    A.hash as hash_plan,\\n    pop_deviation as pop_deviation_plan,\\n    intersect_defect as intersect_defect_plan,\\n    whole_defect as whole_defect_plan,\\n    defect as defect_plan,\\nfrom\\n    cmat-315920.TX_2020_cntyvtd_cd_contract10.TX_2020_cntyvtd_cd_contract10_3000039_summaries as A\\n',\n",
       " '\\nselect\\n    random_seed,\\n    plan,\\n    A.hash as hash_plan,\\n    pop_deviation as pop_deviation_plan,\\n    intersect_defect as intersect_defect_plan,\\n    whole_defect as whole_defect_plan,\\n    defect as defect_plan,\\nfrom\\n    cmat-315920.TX_2020_cntyvtd_cd_contract10.TX_2020_cntyvtd_cd_contract10_3000040_summaries as A\\n',\n",
       " '\\nselect\\n    random_seed,\\n    plan,\\n    A.hash as hash_plan,\\n    pop_deviation as pop_deviation_plan,\\n    intersect_defect as intersect_defect_plan,\\n    whole_defect as whole_defect_plan,\\n    defect as defect_plan,\\nfrom\\n    cmat-315920.TX_2020_cntyvtd_cd_contract10.TX_2020_cntyvtd_cd_contract10_3000041_summaries as A\\n',\n",
       " '\\nselect\\n    random_seed,\\n    plan,\\n    A.hash as hash_plan,\\n    pop_deviation as pop_deviation_plan,\\n    intersect_defect as intersect_defect_plan,\\n    whole_defect as whole_defect_plan,\\n    defect as defect_plan,\\nfrom\\n    cmat-315920.TX_2020_cntyvtd_cd_contract10.TX_2020_cntyvtd_cd_contract10_3000042_summaries as A\\n',\n",
       " '\\nselect\\n    random_seed,\\n    plan,\\n    A.hash as hash_plan,\\n    pop_deviation as pop_deviation_plan,\\n    intersect_defect as intersect_defect_plan,\\n    whole_defect as whole_defect_plan,\\n    defect as defect_plan,\\nfrom\\n    cmat-315920.TX_2020_cntyvtd_cd_contract10.TX_2020_cntyvtd_cd_contract10_3000043_summaries as A\\n',\n",
       " '\\nselect\\n    random_seed,\\n    plan,\\n    A.hash as hash_plan,\\n    pop_deviation as pop_deviation_plan,\\n    intersect_defect as intersect_defect_plan,\\n    whole_defect as whole_defect_plan,\\n    defect as defect_plan,\\nfrom\\n    cmat-315920.TX_2020_cntyvtd_cd_contract10.TX_2020_cntyvtd_cd_contract10_3000044_summaries as A\\n',\n",
       " '\\nselect\\n    random_seed,\\n    plan,\\n    A.hash as hash_plan,\\n    pop_deviation as pop_deviation_plan,\\n    intersect_defect as intersect_defect_plan,\\n    whole_defect as whole_defect_plan,\\n    defect as defect_plan,\\nfrom\\n    cmat-315920.TX_2020_cntyvtd_cd_contract10.TX_2020_cntyvtd_cd_contract10_3000045_summaries as A\\n',\n",
       " '\\nselect\\n    random_seed,\\n    plan,\\n    A.hash as hash_plan,\\n    pop_deviation as pop_deviation_plan,\\n    intersect_defect as intersect_defect_plan,\\n    whole_defect as whole_defect_plan,\\n    defect as defect_plan,\\nfrom\\n    cmat-315920.TX_2020_cntyvtd_cd_contract10.TX_2020_cntyvtd_cd_contract10_3000046_summaries as A\\n',\n",
       " '\\nselect\\n    random_seed,\\n    plan,\\n    A.hash as hash_plan,\\n    pop_deviation as pop_deviation_plan,\\n    intersect_defect as intersect_defect_plan,\\n    whole_defect as whole_defect_plan,\\n    defect as defect_plan,\\nfrom\\n    cmat-315920.TX_2020_cntyvtd_cd_contract10.TX_2020_cntyvtd_cd_contract10_3000047_summaries as A\\n',\n",
       " '\\nselect\\n    random_seed,\\n    plan,\\n    A.hash as hash_plan,\\n    pop_deviation as pop_deviation_plan,\\n    intersect_defect as intersect_defect_plan,\\n    whole_defect as whole_defect_plan,\\n    defect as defect_plan,\\nfrom\\n    cmat-315920.TX_2020_cntyvtd_cd_contract10.TX_2020_cntyvtd_cd_contract10_3000048_summaries as A\\n',\n",
       " '\\nselect\\n    random_seed,\\n    plan,\\n    A.hash as hash_plan,\\n    pop_deviation as pop_deviation_plan,\\n    intersect_defect as intersect_defect_plan,\\n    whole_defect as whole_defect_plan,\\n    defect as defect_plan,\\nfrom\\n    cmat-315920.TX_2020_cntyvtd_cd_contract10.TX_2020_cntyvtd_cd_contract10_3000049_summaries as A\\n',\n",
       " '\\nselect\\n    random_seed,\\n    plan,\\n    A.hash as hash_plan,\\n    pop_deviation as pop_deviation_plan,\\n    intersect_defect as intersect_defect_plan,\\n    whole_defect as whole_defect_plan,\\n    defect as defect_plan,\\nfrom\\n    cmat-315920.TX_2020_cntyvtd_cd_contract10.TX_2020_cntyvtd_cd_contract10_3000050_summaries as A\\n',\n",
       " '\\nselect\\n    random_seed,\\n    plan,\\n    A.hash as hash_plan,\\n    pop_deviation as pop_deviation_plan,\\n    intersect_defect as intersect_defect_plan,\\n    whole_defect as whole_defect_plan,\\n    defect as defect_plan,\\nfrom\\n    cmat-315920.TX_2020_cntyvtd_cd_contract10.TX_2020_cntyvtd_cd_contract10_3000051_summaries as A\\n',\n",
       " '\\nselect\\n    random_seed,\\n    plan,\\n    A.hash as hash_plan,\\n    pop_deviation as pop_deviation_plan,\\n    intersect_defect as intersect_defect_plan,\\n    whole_defect as whole_defect_plan,\\n    defect as defect_plan,\\nfrom\\n    cmat-315920.TX_2020_cntyvtd_cd_contract10.TX_2020_cntyvtd_cd_contract10_3000052_summaries as A\\n',\n",
       " '\\nselect\\n    random_seed,\\n    plan,\\n    A.hash as hash_plan,\\n    pop_deviation as pop_deviation_plan,\\n    intersect_defect as intersect_defect_plan,\\n    whole_defect as whole_defect_plan,\\n    defect as defect_plan,\\nfrom\\n    cmat-315920.TX_2020_cntyvtd_cd_contract10.TX_2020_cntyvtd_cd_contract10_3000053_summaries as A\\n',\n",
       " '\\nselect\\n    random_seed,\\n    plan,\\n    A.hash as hash_plan,\\n    pop_deviation as pop_deviation_plan,\\n    intersect_defect as intersect_defect_plan,\\n    whole_defect as whole_defect_plan,\\n    defect as defect_plan,\\nfrom\\n    cmat-315920.TX_2020_cntyvtd_cd_contract10.TX_2020_cntyvtd_cd_contract10_3000054_summaries as A\\n',\n",
       " '\\nselect\\n    random_seed,\\n    plan,\\n    A.hash as hash_plan,\\n    pop_deviation as pop_deviation_plan,\\n    intersect_defect as intersect_defect_plan,\\n    whole_defect as whole_defect_plan,\\n    defect as defect_plan,\\nfrom\\n    cmat-315920.TX_2020_cntyvtd_cd_contract10.TX_2020_cntyvtd_cd_contract10_3000055_summaries as A\\n',\n",
       " '\\nselect\\n    random_seed,\\n    plan,\\n    A.hash as hash_plan,\\n    pop_deviation as pop_deviation_plan,\\n    intersect_defect as intersect_defect_plan,\\n    whole_defect as whole_defect_plan,\\n    defect as defect_plan,\\nfrom\\n    cmat-315920.TX_2020_cntyvtd_cd_contract10.TX_2020_cntyvtd_cd_contract10_3000056_summaries as A\\n',\n",
       " '\\nselect\\n    random_seed,\\n    plan,\\n    A.hash as hash_plan,\\n    pop_deviation as pop_deviation_plan,\\n    intersect_defect as intersect_defect_plan,\\n    whole_defect as whole_defect_plan,\\n    defect as defect_plan,\\nfrom\\n    cmat-315920.TX_2020_cntyvtd_cd_contract10.TX_2020_cntyvtd_cd_contract10_3000057_summaries as A\\n',\n",
       " '\\nselect\\n    random_seed,\\n    plan,\\n    A.hash as hash_plan,\\n    pop_deviation as pop_deviation_plan,\\n    intersect_defect as intersect_defect_plan,\\n    whole_defect as whole_defect_plan,\\n    defect as defect_plan,\\nfrom\\n    cmat-315920.TX_2020_cntyvtd_cd_contract10.TX_2020_cntyvtd_cd_contract10_3000058_summaries as A\\n',\n",
       " '\\nselect\\n    random_seed,\\n    plan,\\n    A.hash as hash_plan,\\n    pop_deviation as pop_deviation_plan,\\n    intersect_defect as intersect_defect_plan,\\n    whole_defect as whole_defect_plan,\\n    defect as defect_plan,\\nfrom\\n    cmat-315920.TX_2020_cntyvtd_cd_contract10.TX_2020_cntyvtd_cd_contract10_3000059_summaries as A\\n',\n",
       " '\\nselect\\n    random_seed,\\n    plan,\\n    A.hash as hash_plan,\\n    pop_deviation as pop_deviation_plan,\\n    intersect_defect as intersect_defect_plan,\\n    whole_defect as whole_defect_plan,\\n    defect as defect_plan,\\nfrom\\n    cmat-315920.TX_2020_cntyvtd_cd_contract10.TX_2020_cntyvtd_cd_contract10_3000060_summaries as A\\n',\n",
       " '\\nselect\\n    random_seed,\\n    plan,\\n    A.hash as hash_plan,\\n    pop_deviation as pop_deviation_plan,\\n    intersect_defect as intersect_defect_plan,\\n    whole_defect as whole_defect_plan,\\n    defect as defect_plan,\\nfrom\\n    cmat-315920.TX_2020_cntyvtd_cd_contract10.TX_2020_cntyvtd_cd_contract10_3000061_summaries as A\\n',\n",
       " '\\nselect\\n    random_seed,\\n    plan,\\n    A.hash as hash_plan,\\n    pop_deviation as pop_deviation_plan,\\n    intersect_defect as intersect_defect_plan,\\n    whole_defect as whole_defect_plan,\\n    defect as defect_plan,\\nfrom\\n    cmat-315920.TX_2020_cntyvtd_cd_contract10.TX_2020_cntyvtd_cd_contract10_3000062_summaries as A\\n',\n",
       " '\\nselect\\n    random_seed,\\n    plan,\\n    A.hash as hash_plan,\\n    pop_deviation as pop_deviation_plan,\\n    intersect_defect as intersect_defect_plan,\\n    whole_defect as whole_defect_plan,\\n    defect as defect_plan,\\nfrom\\n    cmat-315920.TX_2020_cntyvtd_cd_contract10.TX_2020_cntyvtd_cd_contract10_3000063_summaries as A\\n',\n",
       " '\\nselect\\n    random_seed,\\n    plan,\\n    A.hash as hash_plan,\\n    pop_deviation as pop_deviation_plan,\\n    intersect_defect as intersect_defect_plan,\\n    whole_defect as whole_defect_plan,\\n    defect as defect_plan,\\nfrom\\n    cmat-315920.TX_2020_cntyvtd_cd_contract10.TX_2020_cntyvtd_cd_contract10_3000064_summaries as A\\n',\n",
       " '\\nselect\\n    random_seed,\\n    plan,\\n    A.hash as hash_plan,\\n    pop_deviation as pop_deviation_plan,\\n    intersect_defect as intersect_defect_plan,\\n    whole_defect as whole_defect_plan,\\n    defect as defect_plan,\\nfrom\\n    cmat-315920.TX_2020_cntyvtd_cd_contract10.TX_2020_cntyvtd_cd_contract10_3000065_summaries as A\\n',\n",
       " '\\nselect\\n    random_seed,\\n    plan,\\n    A.hash as hash_plan,\\n    pop_deviation as pop_deviation_plan,\\n    intersect_defect as intersect_defect_plan,\\n    whole_defect as whole_defect_plan,\\n    defect as defect_plan,\\nfrom\\n    cmat-315920.TX_2020_cntyvtd_cd_contract10.TX_2020_cntyvtd_cd_contract10_3000066_summaries as A\\n',\n",
       " '\\nselect\\n    random_seed,\\n    plan,\\n    A.hash as hash_plan,\\n    pop_deviation as pop_deviation_plan,\\n    intersect_defect as intersect_defect_plan,\\n    whole_defect as whole_defect_plan,\\n    defect as defect_plan,\\nfrom\\n    cmat-315920.TX_2020_cntyvtd_cd_contract10.TX_2020_cntyvtd_cd_contract10_3000067_summaries as A\\n',\n",
       " '\\nselect\\n    random_seed,\\n    plan,\\n    A.hash as hash_plan,\\n    pop_deviation as pop_deviation_plan,\\n    intersect_defect as intersect_defect_plan,\\n    whole_defect as whole_defect_plan,\\n    defect as defect_plan,\\nfrom\\n    cmat-315920.TX_2020_cntyvtd_cd_contract10.TX_2020_cntyvtd_cd_contract10_3000068_summaries as A\\n',\n",
       " '\\nselect\\n    random_seed,\\n    plan,\\n    A.hash as hash_plan,\\n    pop_deviation as pop_deviation_plan,\\n    intersect_defect as intersect_defect_plan,\\n    whole_defect as whole_defect_plan,\\n    defect as defect_plan,\\nfrom\\n    cmat-315920.TX_2020_cntyvtd_cd_contract10.TX_2020_cntyvtd_cd_contract10_3000069_summaries as A\\n',\n",
       " '\\nselect\\n    random_seed,\\n    plan,\\n    A.hash as hash_plan,\\n    pop_deviation as pop_deviation_plan,\\n    intersect_defect as intersect_defect_plan,\\n    whole_defect as whole_defect_plan,\\n    defect as defect_plan,\\nfrom\\n    cmat-315920.TX_2020_cntyvtd_cd_contract10.TX_2020_cntyvtd_cd_contract10_3000070_summaries as A\\n',\n",
       " '\\nselect\\n    random_seed,\\n    plan,\\n    A.hash as hash_plan,\\n    pop_deviation as pop_deviation_plan,\\n    intersect_defect as intersect_defect_plan,\\n    whole_defect as whole_defect_plan,\\n    defect as defect_plan,\\nfrom\\n    cmat-315920.TX_2020_cntyvtd_cd_contract10.TX_2020_cntyvtd_cd_contract10_3000071_summaries as A\\n',\n",
       " '\\nselect\\n    random_seed,\\n    plan,\\n    A.hash as hash_plan,\\n    pop_deviation as pop_deviation_plan,\\n    intersect_defect as intersect_defect_plan,\\n    whole_defect as whole_defect_plan,\\n    defect as defect_plan,\\nfrom\\n    cmat-315920.TX_2020_cntyvtd_cd_contract10.TX_2020_cntyvtd_cd_contract10_3000072_summaries as A\\n',\n",
       " '\\nselect\\n    random_seed,\\n    plan,\\n    A.hash as hash_plan,\\n    pop_deviation as pop_deviation_plan,\\n    intersect_defect as intersect_defect_plan,\\n    whole_defect as whole_defect_plan,\\n    defect as defect_plan,\\nfrom\\n    cmat-315920.TX_2020_cntyvtd_cd_contract10.TX_2020_cntyvtd_cd_contract10_3000073_summaries as A\\n',\n",
       " '\\nselect\\n    random_seed,\\n    plan,\\n    A.hash as hash_plan,\\n    pop_deviation as pop_deviation_plan,\\n    intersect_defect as intersect_defect_plan,\\n    whole_defect as whole_defect_plan,\\n    defect as defect_plan,\\nfrom\\n    cmat-315920.TX_2020_cntyvtd_cd_contract10.TX_2020_cntyvtd_cd_contract10_3000074_summaries as A\\n',\n",
       " '\\nselect\\n    random_seed,\\n    plan,\\n    A.hash as hash_plan,\\n    pop_deviation as pop_deviation_plan,\\n    intersect_defect as intersect_defect_plan,\\n    whole_defect as whole_defect_plan,\\n    defect as defect_plan,\\nfrom\\n    cmat-315920.TX_2020_cntyvtd_cd_contract10.TX_2020_cntyvtd_cd_contract10_3000075_summaries as A\\n',\n",
       " '\\nselect\\n    random_seed,\\n    plan,\\n    A.hash as hash_plan,\\n    pop_deviation as pop_deviation_plan,\\n    intersect_defect as intersect_defect_plan,\\n    whole_defect as whole_defect_plan,\\n    defect as defect_plan,\\nfrom\\n    cmat-315920.TX_2020_cntyvtd_cd_contract10.TX_2020_cntyvtd_cd_contract10_3000076_summaries as A\\n',\n",
       " '\\nselect\\n    random_seed,\\n    plan,\\n    A.hash as hash_plan,\\n    pop_deviation as pop_deviation_plan,\\n    intersect_defect as intersect_defect_plan,\\n    whole_defect as whole_defect_plan,\\n    defect as defect_plan,\\nfrom\\n    cmat-315920.TX_2020_cntyvtd_cd_contract10.TX_2020_cntyvtd_cd_contract10_3000077_summaries as A\\n',\n",
       " '\\nselect\\n    random_seed,\\n    plan,\\n    A.hash as hash_plan,\\n    pop_deviation as pop_deviation_plan,\\n    intersect_defect as intersect_defect_plan,\\n    whole_defect as whole_defect_plan,\\n    defect as defect_plan,\\nfrom\\n    cmat-315920.TX_2020_cntyvtd_cd_contract10.TX_2020_cntyvtd_cd_contract10_3000078_summaries as A\\n',\n",
       " '\\nselect\\n    random_seed,\\n    plan,\\n    A.hash as hash_plan,\\n    pop_deviation as pop_deviation_plan,\\n    intersect_defect as intersect_defect_plan,\\n    whole_defect as whole_defect_plan,\\n    defect as defect_plan,\\nfrom\\n    cmat-315920.TX_2020_cntyvtd_cd_contract10.TX_2020_cntyvtd_cd_contract10_3000079_summaries as A\\n',\n",
       " '\\nselect\\n    random_seed,\\n    plan,\\n    A.hash as hash_plan,\\n    pop_deviation as pop_deviation_plan,\\n    intersect_defect as intersect_defect_plan,\\n    whole_defect as whole_defect_plan,\\n    defect as defect_plan,\\nfrom\\n    cmat-315920.TX_2020_cntyvtd_cd_contract10.TX_2020_cntyvtd_cd_contract10_4000000_summaries as A\\n',\n",
       " '\\nselect\\n    random_seed,\\n    plan,\\n    A.hash as hash_plan,\\n    pop_deviation as pop_deviation_plan,\\n    intersect_defect as intersect_defect_plan,\\n    whole_defect as whole_defect_plan,\\n    defect as defect_plan,\\nfrom\\n    cmat-315920.TX_2020_cntyvtd_cd_contract10.TX_2020_cntyvtd_cd_contract10_4000001_summaries as A\\n',\n",
       " '\\nselect\\n    random_seed,\\n    plan,\\n    A.hash as hash_plan,\\n    pop_deviation as pop_deviation_plan,\\n    intersect_defect as intersect_defect_plan,\\n    whole_defect as whole_defect_plan,\\n    defect as defect_plan,\\nfrom\\n    cmat-315920.TX_2020_cntyvtd_cd_contract10.TX_2020_cntyvtd_cd_contract10_4000002_summaries as A\\n',\n",
       " '\\nselect\\n    random_seed,\\n    plan,\\n    A.hash as hash_plan,\\n    pop_deviation as pop_deviation_plan,\\n    intersect_defect as intersect_defect_plan,\\n    whole_defect as whole_defect_plan,\\n    defect as defect_plan,\\nfrom\\n    cmat-315920.TX_2020_cntyvtd_cd_contract10.TX_2020_cntyvtd_cd_contract10_4000003_summaries as A\\n',\n",
       " '\\nselect\\n    random_seed,\\n    plan,\\n    A.hash as hash_plan,\\n    pop_deviation as pop_deviation_plan,\\n    intersect_defect as intersect_defect_plan,\\n    whole_defect as whole_defect_plan,\\n    defect as defect_plan,\\nfrom\\n    cmat-315920.TX_2020_cntyvtd_cd_contract10.TX_2020_cntyvtd_cd_contract10_4000004_summaries as A\\n',\n",
       " '\\nselect\\n    random_seed,\\n    plan,\\n    A.hash as hash_plan,\\n    pop_deviation as pop_deviation_plan,\\n    intersect_defect as intersect_defect_plan,\\n    whole_defect as whole_defect_plan,\\n    defect as defect_plan,\\nfrom\\n    cmat-315920.TX_2020_cntyvtd_cd_contract10.TX_2020_cntyvtd_cd_contract10_4000005_summaries as A\\n',\n",
       " '\\nselect\\n    random_seed,\\n    plan,\\n    A.hash as hash_plan,\\n    pop_deviation as pop_deviation_plan,\\n    intersect_defect as intersect_defect_plan,\\n    whole_defect as whole_defect_plan,\\n    defect as defect_plan,\\nfrom\\n    cmat-315920.TX_2020_cntyvtd_cd_contract10.TX_2020_cntyvtd_cd_contract10_4000006_summaries as A\\n',\n",
       " '\\nselect\\n    random_seed,\\n    plan,\\n    A.hash as hash_plan,\\n    pop_deviation as pop_deviation_plan,\\n    intersect_defect as intersect_defect_plan,\\n    whole_defect as whole_defect_plan,\\n    defect as defect_plan,\\nfrom\\n    cmat-315920.TX_2020_cntyvtd_cd_contract10.TX_2020_cntyvtd_cd_contract10_4000007_summaries as A\\n',\n",
       " '\\nselect\\n    random_seed,\\n    plan,\\n    A.hash as hash_plan,\\n    pop_deviation as pop_deviation_plan,\\n    intersect_defect as intersect_defect_plan,\\n    whole_defect as whole_defect_plan,\\n    defect as defect_plan,\\nfrom\\n    cmat-315920.TX_2020_cntyvtd_cd_contract10.TX_2020_cntyvtd_cd_contract10_4000008_summaries as A\\n',\n",
       " '\\nselect\\n    random_seed,\\n    plan,\\n    A.hash as hash_plan,\\n    pop_deviation as pop_deviation_plan,\\n    intersect_defect as intersect_defect_plan,\\n    whole_defect as whole_defect_plan,\\n    defect as defect_plan,\\nfrom\\n    cmat-315920.TX_2020_cntyvtd_cd_contract10.TX_2020_cntyvtd_cd_contract10_4000009_summaries as A\\n',\n",
       " '\\nselect\\n    random_seed,\\n    plan,\\n    A.hash as hash_plan,\\n    pop_deviation as pop_deviation_plan,\\n    intersect_defect as intersect_defect_plan,\\n    whole_defect as whole_defect_plan,\\n    defect as defect_plan,\\nfrom\\n    cmat-315920.TX_2020_cntyvtd_cd_contract10.TX_2020_cntyvtd_cd_contract10_4000010_summaries as A\\n',\n",
       " '\\nselect\\n    random_seed,\\n    plan,\\n    A.hash as hash_plan,\\n    pop_deviation as pop_deviation_plan,\\n    intersect_defect as intersect_defect_plan,\\n    whole_defect as whole_defect_plan,\\n    defect as defect_plan,\\nfrom\\n    cmat-315920.TX_2020_cntyvtd_cd_contract10.TX_2020_cntyvtd_cd_contract10_4000011_summaries as A\\n',\n",
       " '\\nselect\\n    random_seed,\\n    plan,\\n    A.hash as hash_plan,\\n    pop_deviation as pop_deviation_plan,\\n    intersect_defect as intersect_defect_plan,\\n    whole_defect as whole_defect_plan,\\n    defect as defect_plan,\\nfrom\\n    cmat-315920.TX_2020_cntyvtd_cd_contract10.TX_2020_cntyvtd_cd_contract10_4000012_summaries as A\\n',\n",
       " '\\nselect\\n    random_seed,\\n    plan,\\n    A.hash as hash_plan,\\n    pop_deviation as pop_deviation_plan,\\n    intersect_defect as intersect_defect_plan,\\n    whole_defect as whole_defect_plan,\\n    defect as defect_plan,\\nfrom\\n    cmat-315920.TX_2020_cntyvtd_cd_contract10.TX_2020_cntyvtd_cd_contract10_4000013_summaries as A\\n',\n",
       " '\\nselect\\n    random_seed,\\n    plan,\\n    A.hash as hash_plan,\\n    pop_deviation as pop_deviation_plan,\\n    intersect_defect as intersect_defect_plan,\\n    whole_defect as whole_defect_plan,\\n    defect as defect_plan,\\nfrom\\n    cmat-315920.TX_2020_cntyvtd_cd_contract10.TX_2020_cntyvtd_cd_contract10_4000014_summaries as A\\n',\n",
       " '\\nselect\\n    random_seed,\\n    plan,\\n    A.hash as hash_plan,\\n    pop_deviation as pop_deviation_plan,\\n    intersect_defect as intersect_defect_plan,\\n    whole_defect as whole_defect_plan,\\n    defect as defect_plan,\\nfrom\\n    cmat-315920.TX_2020_cntyvtd_cd_contract10.TX_2020_cntyvtd_cd_contract10_4000015_summaries as A\\n',\n",
       " '\\nselect\\n    random_seed,\\n    plan,\\n    A.hash as hash_plan,\\n    pop_deviation as pop_deviation_plan,\\n    intersect_defect as intersect_defect_plan,\\n    whole_defect as whole_defect_plan,\\n    defect as defect_plan,\\nfrom\\n    cmat-315920.TX_2020_cntyvtd_cd_contract10.TX_2020_cntyvtd_cd_contract10_4000016_summaries as A\\n',\n",
       " '\\nselect\\n    random_seed,\\n    plan,\\n    A.hash as hash_plan,\\n    pop_deviation as pop_deviation_plan,\\n    intersect_defect as intersect_defect_plan,\\n    whole_defect as whole_defect_plan,\\n    defect as defect_plan,\\nfrom\\n    cmat-315920.TX_2020_cntyvtd_cd_contract10.TX_2020_cntyvtd_cd_contract10_4000017_summaries as A\\n',\n",
       " '\\nselect\\n    random_seed,\\n    plan,\\n    A.hash as hash_plan,\\n    pop_deviation as pop_deviation_plan,\\n    intersect_defect as intersect_defect_plan,\\n    whole_defect as whole_defect_plan,\\n    defect as defect_plan,\\nfrom\\n    cmat-315920.TX_2020_cntyvtd_cd_contract10.TX_2020_cntyvtd_cd_contract10_4000018_summaries as A\\n',\n",
       " '\\nselect\\n    random_seed,\\n    plan,\\n    A.hash as hash_plan,\\n    pop_deviation as pop_deviation_plan,\\n    intersect_defect as intersect_defect_plan,\\n    whole_defect as whole_defect_plan,\\n    defect as defect_plan,\\nfrom\\n    cmat-315920.TX_2020_cntyvtd_cd_contract10.TX_2020_cntyvtd_cd_contract10_4000019_summaries as A\\n',\n",
       " '\\nselect\\n    random_seed,\\n    plan,\\n    A.hash as hash_plan,\\n    pop_deviation as pop_deviation_plan,\\n    intersect_defect as intersect_defect_plan,\\n    whole_defect as whole_defect_plan,\\n    defect as defect_plan,\\nfrom\\n    cmat-315920.TX_2020_cntyvtd_cd_contract10.TX_2020_cntyvtd_cd_contract10_4000020_summaries as A\\n',\n",
       " '\\nselect\\n    random_seed,\\n    plan,\\n    A.hash as hash_plan,\\n    pop_deviation as pop_deviation_plan,\\n    intersect_defect as intersect_defect_plan,\\n    whole_defect as whole_defect_plan,\\n    defect as defect_plan,\\nfrom\\n    cmat-315920.TX_2020_cntyvtd_cd_contract10.TX_2020_cntyvtd_cd_contract10_4000021_summaries as A\\n',\n",
       " '\\nselect\\n    random_seed,\\n    plan,\\n    A.hash as hash_plan,\\n    pop_deviation as pop_deviation_plan,\\n    intersect_defect as intersect_defect_plan,\\n    whole_defect as whole_defect_plan,\\n    defect as defect_plan,\\nfrom\\n    cmat-315920.TX_2020_cntyvtd_cd_contract10.TX_2020_cntyvtd_cd_contract10_4000022_summaries as A\\n',\n",
       " '\\nselect\\n    random_seed,\\n    plan,\\n    A.hash as hash_plan,\\n    pop_deviation as pop_deviation_plan,\\n    intersect_defect as intersect_defect_plan,\\n    whole_defect as whole_defect_plan,\\n    defect as defect_plan,\\nfrom\\n    cmat-315920.TX_2020_cntyvtd_cd_contract10.TX_2020_cntyvtd_cd_contract10_4000023_summaries as A\\n',\n",
       " '\\nselect\\n    random_seed,\\n    plan,\\n    A.hash as hash_plan,\\n    pop_deviation as pop_deviation_plan,\\n    intersect_defect as intersect_defect_plan,\\n    whole_defect as whole_defect_plan,\\n    defect as defect_plan,\\nfrom\\n    cmat-315920.TX_2020_cntyvtd_cd_contract10.TX_2020_cntyvtd_cd_contract10_4000024_summaries as A\\n',\n",
       " '\\nselect\\n    random_seed,\\n    plan,\\n    A.hash as hash_plan,\\n    pop_deviation as pop_deviation_plan,\\n    intersect_defect as intersect_defect_plan,\\n    whole_defect as whole_defect_plan,\\n    defect as defect_plan,\\nfrom\\n    cmat-315920.TX_2020_cntyvtd_cd_contract10.TX_2020_cntyvtd_cd_contract10_4000025_summaries as A\\n',\n",
       " '\\nselect\\n    random_seed,\\n    plan,\\n    A.hash as hash_plan,\\n    pop_deviation as pop_deviation_plan,\\n    intersect_defect as intersect_defect_plan,\\n    whole_defect as whole_defect_plan,\\n    defect as defect_plan,\\nfrom\\n    cmat-315920.TX_2020_cntyvtd_cd_contract10.TX_2020_cntyvtd_cd_contract10_4000026_summaries as A\\n',\n",
       " '\\nselect\\n    random_seed,\\n    plan,\\n    A.hash as hash_plan,\\n    pop_deviation as pop_deviation_plan,\\n    intersect_defect as intersect_defect_plan,\\n    whole_defect as whole_defect_plan,\\n    defect as defect_plan,\\nfrom\\n    cmat-315920.TX_2020_cntyvtd_cd_contract10.TX_2020_cntyvtd_cd_contract10_4000027_summaries as A\\n',\n",
       " '\\nselect\\n    random_seed,\\n    plan,\\n    A.hash as hash_plan,\\n    pop_deviation as pop_deviation_plan,\\n    intersect_defect as intersect_defect_plan,\\n    whole_defect as whole_defect_plan,\\n    defect as defect_plan,\\nfrom\\n    cmat-315920.TX_2020_cntyvtd_cd_contract10.TX_2020_cntyvtd_cd_contract10_4000028_summaries as A\\n',\n",
       " '\\nselect\\n    random_seed,\\n    plan,\\n    A.hash as hash_plan,\\n    pop_deviation as pop_deviation_plan,\\n    intersect_defect as intersect_defect_plan,\\n    whole_defect as whole_defect_plan,\\n    defect as defect_plan,\\nfrom\\n    cmat-315920.TX_2020_cntyvtd_cd_contract10.TX_2020_cntyvtd_cd_contract10_4000029_summaries as A\\n',\n",
       " '\\nselect\\n    random_seed,\\n    plan,\\n    A.hash as hash_plan,\\n    pop_deviation as pop_deviation_plan,\\n    intersect_defect as intersect_defect_plan,\\n    whole_defect as whole_defect_plan,\\n    defect as defect_plan,\\nfrom\\n    cmat-315920.TX_2020_cntyvtd_cd_contract10.TX_2020_cntyvtd_cd_contract10_4000030_summaries as A\\n',\n",
       " '\\nselect\\n    random_seed,\\n    plan,\\n    A.hash as hash_plan,\\n    pop_deviation as pop_deviation_plan,\\n    intersect_defect as intersect_defect_plan,\\n    whole_defect as whole_defect_plan,\\n    defect as defect_plan,\\nfrom\\n    cmat-315920.TX_2020_cntyvtd_cd_contract10.TX_2020_cntyvtd_cd_contract10_4000031_summaries as A\\n',\n",
       " '\\nselect\\n    random_seed,\\n    plan,\\n    A.hash as hash_plan,\\n    pop_deviation as pop_deviation_plan,\\n    intersect_defect as intersect_defect_plan,\\n    whole_defect as whole_defect_plan,\\n    defect as defect_plan,\\nfrom\\n    cmat-315920.TX_2020_cntyvtd_cd_contract10.TX_2020_cntyvtd_cd_contract10_4000032_summaries as A\\n',\n",
       " '\\nselect\\n    random_seed,\\n    plan,\\n    A.hash as hash_plan,\\n    pop_deviation as pop_deviation_plan,\\n    intersect_defect as intersect_defect_plan,\\n    whole_defect as whole_defect_plan,\\n    defect as defect_plan,\\nfrom\\n    cmat-315920.TX_2020_cntyvtd_cd_contract10.TX_2020_cntyvtd_cd_contract10_4000033_summaries as A\\n',\n",
       " '\\nselect\\n    random_seed,\\n    plan,\\n    A.hash as hash_plan,\\n    pop_deviation as pop_deviation_plan,\\n    intersect_defect as intersect_defect_plan,\\n    whole_defect as whole_defect_plan,\\n    defect as defect_plan,\\nfrom\\n    cmat-315920.TX_2020_cntyvtd_cd_contract10.TX_2020_cntyvtd_cd_contract10_4000034_summaries as A\\n',\n",
       " '\\nselect\\n    random_seed,\\n    plan,\\n    A.hash as hash_plan,\\n    pop_deviation as pop_deviation_plan,\\n    intersect_defect as intersect_defect_plan,\\n    whole_defect as whole_defect_plan,\\n    defect as defect_plan,\\nfrom\\n    cmat-315920.TX_2020_cntyvtd_cd_contract10.TX_2020_cntyvtd_cd_contract10_4000035_summaries as A\\n',\n",
       " '\\nselect\\n    random_seed,\\n    plan,\\n    A.hash as hash_plan,\\n    pop_deviation as pop_deviation_plan,\\n    intersect_defect as intersect_defect_plan,\\n    whole_defect as whole_defect_plan,\\n    defect as defect_plan,\\nfrom\\n    cmat-315920.TX_2020_cntyvtd_cd_contract10.TX_2020_cntyvtd_cd_contract10_4000036_summaries as A\\n',\n",
       " '\\nselect\\n    random_seed,\\n    plan,\\n    A.hash as hash_plan,\\n    pop_deviation as pop_deviation_plan,\\n    intersect_defect as intersect_defect_plan,\\n    whole_defect as whole_defect_plan,\\n    defect as defect_plan,\\nfrom\\n    cmat-315920.TX_2020_cntyvtd_cd_contract10.TX_2020_cntyvtd_cd_contract10_4000037_summaries as A\\n',\n",
       " '\\nselect\\n    random_seed,\\n    plan,\\n    A.hash as hash_plan,\\n    pop_deviation as pop_deviation_plan,\\n    intersect_defect as intersect_defect_plan,\\n    whole_defect as whole_defect_plan,\\n    defect as defect_plan,\\nfrom\\n    cmat-315920.TX_2020_cntyvtd_cd_contract10.TX_2020_cntyvtd_cd_contract10_4000038_summaries as A\\n',\n",
       " '\\nselect\\n    random_seed,\\n    plan,\\n    A.hash as hash_plan,\\n    pop_deviation as pop_deviation_plan,\\n    intersect_defect as intersect_defect_plan,\\n    whole_defect as whole_defect_plan,\\n    defect as defect_plan,\\nfrom\\n    cmat-315920.TX_2020_cntyvtd_cd_contract10.TX_2020_cntyvtd_cd_contract10_4000039_summaries as A\\n',\n",
       " '\\nselect\\n    random_seed,\\n    plan,\\n    A.hash as hash_plan,\\n    pop_deviation as pop_deviation_plan,\\n    intersect_defect as intersect_defect_plan,\\n    whole_defect as whole_defect_plan,\\n    defect as defect_plan,\\nfrom\\n    cmat-315920.TX_2020_cntyvtd_cd_contract10.TX_2020_cntyvtd_cd_contract10_4000040_summaries as A\\n',\n",
       " '\\nselect\\n    random_seed,\\n    plan,\\n    A.hash as hash_plan,\\n    pop_deviation as pop_deviation_plan,\\n    intersect_defect as intersect_defect_plan,\\n    whole_defect as whole_defect_plan,\\n    defect as defect_plan,\\nfrom\\n    cmat-315920.TX_2020_cntyvtd_cd_contract10.TX_2020_cntyvtd_cd_contract10_4000041_summaries as A\\n',\n",
       " '\\nselect\\n    random_seed,\\n    plan,\\n    A.hash as hash_plan,\\n    pop_deviation as pop_deviation_plan,\\n    intersect_defect as intersect_defect_plan,\\n    whole_defect as whole_defect_plan,\\n    defect as defect_plan,\\nfrom\\n    cmat-315920.TX_2020_cntyvtd_cd_contract10.TX_2020_cntyvtd_cd_contract10_4000042_summaries as A\\n',\n",
       " '\\nselect\\n    random_seed,\\n    plan,\\n    A.hash as hash_plan,\\n    pop_deviation as pop_deviation_plan,\\n    intersect_defect as intersect_defect_plan,\\n    whole_defect as whole_defect_plan,\\n    defect as defect_plan,\\nfrom\\n    cmat-315920.TX_2020_cntyvtd_cd_contract10.TX_2020_cntyvtd_cd_contract10_4000043_summaries as A\\n',\n",
       " '\\nselect\\n    random_seed,\\n    plan,\\n    A.hash as hash_plan,\\n    pop_deviation as pop_deviation_plan,\\n    intersect_defect as intersect_defect_plan,\\n    whole_defect as whole_defect_plan,\\n    defect as defect_plan,\\nfrom\\n    cmat-315920.TX_2020_cntyvtd_cd_contract10.TX_2020_cntyvtd_cd_contract10_4000044_summaries as A\\n',\n",
       " '\\nselect\\n    random_seed,\\n    plan,\\n    A.hash as hash_plan,\\n    pop_deviation as pop_deviation_plan,\\n    intersect_defect as intersect_defect_plan,\\n    whole_defect as whole_defect_plan,\\n    defect as defect_plan,\\nfrom\\n    cmat-315920.TX_2020_cntyvtd_cd_contract10.TX_2020_cntyvtd_cd_contract10_4000045_summaries as A\\n',\n",
       " '\\nselect\\n    random_seed,\\n    plan,\\n    A.hash as hash_plan,\\n    pop_deviation as pop_deviation_plan,\\n    intersect_defect as intersect_defect_plan,\\n    whole_defect as whole_defect_plan,\\n    defect as defect_plan,\\nfrom\\n    cmat-315920.TX_2020_cntyvtd_cd_contract10.TX_2020_cntyvtd_cd_contract10_4000046_summaries as A\\n',\n",
       " '\\nselect\\n    random_seed,\\n    plan,\\n    A.hash as hash_plan,\\n    pop_deviation as pop_deviation_plan,\\n    intersect_defect as intersect_defect_plan,\\n    whole_defect as whole_defect_plan,\\n    defect as defect_plan,\\nfrom\\n    cmat-315920.TX_2020_cntyvtd_cd_contract10.TX_2020_cntyvtd_cd_contract10_4000047_summaries as A\\n',\n",
       " '\\nselect\\n    random_seed,\\n    plan,\\n    A.hash as hash_plan,\\n    pop_deviation as pop_deviation_plan,\\n    intersect_defect as intersect_defect_plan,\\n    whole_defect as whole_defect_plan,\\n    defect as defect_plan,\\nfrom\\n    cmat-315920.TX_2020_cntyvtd_cd_contract10.TX_2020_cntyvtd_cd_contract10_4000048_summaries as A\\n',\n",
       " '\\nselect\\n    random_seed,\\n    plan,\\n    A.hash as hash_plan,\\n    pop_deviation as pop_deviation_plan,\\n    intersect_defect as intersect_defect_plan,\\n    whole_defect as whole_defect_plan,\\n    defect as defect_plan,\\nfrom\\n    cmat-315920.TX_2020_cntyvtd_cd_contract10.TX_2020_cntyvtd_cd_contract10_4000049_summaries as A\\n',\n",
       " '\\nselect\\n    random_seed,\\n    plan,\\n    A.hash as hash_plan,\\n    pop_deviation as pop_deviation_plan,\\n    intersect_defect as intersect_defect_plan,\\n    whole_defect as whole_defect_plan,\\n    defect as defect_plan,\\nfrom\\n    cmat-315920.TX_2020_cntyvtd_cd_contract10.TX_2020_cntyvtd_cd_contract10_4000050_summaries as A\\n',\n",
       " '\\nselect\\n    random_seed,\\n    plan,\\n    A.hash as hash_plan,\\n    pop_deviation as pop_deviation_plan,\\n    intersect_defect as intersect_defect_plan,\\n    whole_defect as whole_defect_plan,\\n    defect as defect_plan,\\nfrom\\n    cmat-315920.TX_2020_cntyvtd_cd_contract10.TX_2020_cntyvtd_cd_contract10_4000051_summaries as A\\n',\n",
       " '\\nselect\\n    random_seed,\\n    plan,\\n    A.hash as hash_plan,\\n    pop_deviation as pop_deviation_plan,\\n    intersect_defect as intersect_defect_plan,\\n    whole_defect as whole_defect_plan,\\n    defect as defect_plan,\\nfrom\\n    cmat-315920.TX_2020_cntyvtd_cd_contract10.TX_2020_cntyvtd_cd_contract10_4000052_summaries as A\\n',\n",
       " '\\nselect\\n    random_seed,\\n    plan,\\n    A.hash as hash_plan,\\n    pop_deviation as pop_deviation_plan,\\n    intersect_defect as intersect_defect_plan,\\n    whole_defect as whole_defect_plan,\\n    defect as defect_plan,\\nfrom\\n    cmat-315920.TX_2020_cntyvtd_cd_contract10.TX_2020_cntyvtd_cd_contract10_4000053_summaries as A\\n',\n",
       " '\\nselect\\n    random_seed,\\n    plan,\\n    A.hash as hash_plan,\\n    pop_deviation as pop_deviation_plan,\\n    intersect_defect as intersect_defect_plan,\\n    whole_defect as whole_defect_plan,\\n    defect as defect_plan,\\nfrom\\n    cmat-315920.TX_2020_cntyvtd_cd_contract10.TX_2020_cntyvtd_cd_contract10_4000054_summaries as A\\n',\n",
       " '\\nselect\\n    random_seed,\\n    plan,\\n    A.hash as hash_plan,\\n    pop_deviation as pop_deviation_plan,\\n    intersect_defect as intersect_defect_plan,\\n    whole_defect as whole_defect_plan,\\n    defect as defect_plan,\\nfrom\\n    cmat-315920.TX_2020_cntyvtd_cd_contract10.TX_2020_cntyvtd_cd_contract10_4000055_summaries as A\\n',\n",
       " '\\nselect\\n    random_seed,\\n    plan,\\n    A.hash as hash_plan,\\n    pop_deviation as pop_deviation_plan,\\n    intersect_defect as intersect_defect_plan,\\n    whole_defect as whole_defect_plan,\\n    defect as defect_plan,\\nfrom\\n    cmat-315920.TX_2020_cntyvtd_cd_contract10.TX_2020_cntyvtd_cd_contract10_4000056_summaries as A\\n',\n",
       " '\\nselect\\n    random_seed,\\n    plan,\\n    A.hash as hash_plan,\\n    pop_deviation as pop_deviation_plan,\\n    intersect_defect as intersect_defect_plan,\\n    whole_defect as whole_defect_plan,\\n    defect as defect_plan,\\nfrom\\n    cmat-315920.TX_2020_cntyvtd_cd_contract10.TX_2020_cntyvtd_cd_contract10_4000057_summaries as A\\n',\n",
       " '\\nselect\\n    random_seed,\\n    plan,\\n    A.hash as hash_plan,\\n    pop_deviation as pop_deviation_plan,\\n    intersect_defect as intersect_defect_plan,\\n    whole_defect as whole_defect_plan,\\n    defect as defect_plan,\\nfrom\\n    cmat-315920.TX_2020_cntyvtd_cd_contract10.TX_2020_cntyvtd_cd_contract10_4000058_summaries as A\\n',\n",
       " '\\nselect\\n    random_seed,\\n    plan,\\n    A.hash as hash_plan,\\n    pop_deviation as pop_deviation_plan,\\n    intersect_defect as intersect_defect_plan,\\n    whole_defect as whole_defect_plan,\\n    defect as defect_plan,\\nfrom\\n    cmat-315920.TX_2020_cntyvtd_cd_contract10.TX_2020_cntyvtd_cd_contract10_4000059_summaries as A\\n',\n",
       " '\\nselect\\n    random_seed,\\n    plan,\\n    A.hash as hash_plan,\\n    pop_deviation as pop_deviation_plan,\\n    intersect_defect as intersect_defect_plan,\\n    whole_defect as whole_defect_plan,\\n    defect as defect_plan,\\nfrom\\n    cmat-315920.TX_2020_cntyvtd_cd_contract10.TX_2020_cntyvtd_cd_contract10_4000060_summaries as A\\n',\n",
       " '\\nselect\\n    random_seed,\\n    plan,\\n    A.hash as hash_plan,\\n    pop_deviation as pop_deviation_plan,\\n    intersect_defect as intersect_defect_plan,\\n    whole_defect as whole_defect_plan,\\n    defect as defect_plan,\\nfrom\\n    cmat-315920.TX_2020_cntyvtd_cd_contract10.TX_2020_cntyvtd_cd_contract10_4000061_summaries as A\\n',\n",
       " '\\nselect\\n    random_seed,\\n    plan,\\n    A.hash as hash_plan,\\n    pop_deviation as pop_deviation_plan,\\n    intersect_defect as intersect_defect_plan,\\n    whole_defect as whole_defect_plan,\\n    defect as defect_plan,\\nfrom\\n    cmat-315920.TX_2020_cntyvtd_cd_contract10.TX_2020_cntyvtd_cd_contract10_4000062_summaries as A\\n',\n",
       " '\\nselect\\n    random_seed,\\n    plan,\\n    A.hash as hash_plan,\\n    pop_deviation as pop_deviation_plan,\\n    intersect_defect as intersect_defect_plan,\\n    whole_defect as whole_defect_plan,\\n    defect as defect_plan,\\nfrom\\n    cmat-315920.TX_2020_cntyvtd_cd_contract10.TX_2020_cntyvtd_cd_contract10_4000063_summaries as A\\n',\n",
       " '\\nselect\\n    random_seed,\\n    plan,\\n    A.hash as hash_plan,\\n    pop_deviation as pop_deviation_plan,\\n    intersect_defect as intersect_defect_plan,\\n    whole_defect as whole_defect_plan,\\n    defect as defect_plan,\\nfrom\\n    cmat-315920.TX_2020_cntyvtd_cd_contract10.TX_2020_cntyvtd_cd_contract10_4000064_summaries as A\\n',\n",
       " '\\nselect\\n    random_seed,\\n    plan,\\n    A.hash as hash_plan,\\n    pop_deviation as pop_deviation_plan,\\n    intersect_defect as intersect_defect_plan,\\n    whole_defect as whole_defect_plan,\\n    defect as defect_plan,\\nfrom\\n    cmat-315920.TX_2020_cntyvtd_cd_contract10.TX_2020_cntyvtd_cd_contract10_4000065_summaries as A\\n',\n",
       " '\\nselect\\n    random_seed,\\n    plan,\\n    A.hash as hash_plan,\\n    pop_deviation as pop_deviation_plan,\\n    intersect_defect as intersect_defect_plan,\\n    whole_defect as whole_defect_plan,\\n    defect as defect_plan,\\nfrom\\n    cmat-315920.TX_2020_cntyvtd_cd_contract10.TX_2020_cntyvtd_cd_contract10_4000066_summaries as A\\n',\n",
       " '\\nselect\\n    random_seed,\\n    plan,\\n    A.hash as hash_plan,\\n    pop_deviation as pop_deviation_plan,\\n    intersect_defect as intersect_defect_plan,\\n    whole_defect as whole_defect_plan,\\n    defect as defect_plan,\\nfrom\\n    cmat-315920.TX_2020_cntyvtd_cd_contract10.TX_2020_cntyvtd_cd_contract10_4000067_summaries as A\\n',\n",
       " '\\nselect\\n    random_seed,\\n    plan,\\n    A.hash as hash_plan,\\n    pop_deviation as pop_deviation_plan,\\n    intersect_defect as intersect_defect_plan,\\n    whole_defect as whole_defect_plan,\\n    defect as defect_plan,\\nfrom\\n    cmat-315920.TX_2020_cntyvtd_cd_contract10.TX_2020_cntyvtd_cd_contract10_4000068_summaries as A\\n',\n",
       " '\\nselect\\n    random_seed,\\n    plan,\\n    A.hash as hash_plan,\\n    pop_deviation as pop_deviation_plan,\\n    intersect_defect as intersect_defect_plan,\\n    whole_defect as whole_defect_plan,\\n    defect as defect_plan,\\nfrom\\n    cmat-315920.TX_2020_cntyvtd_cd_contract10.TX_2020_cntyvtd_cd_contract10_4000069_summaries as A\\n',\n",
       " '\\nselect\\n    random_seed,\\n    plan,\\n    A.hash as hash_plan,\\n    pop_deviation as pop_deviation_plan,\\n    intersect_defect as intersect_defect_plan,\\n    whole_defect as whole_defect_plan,\\n    defect as defect_plan,\\nfrom\\n    cmat-315920.TX_2020_cntyvtd_cd_contract10.TX_2020_cntyvtd_cd_contract10_4000070_summaries as A\\n',\n",
       " '\\nselect\\n    random_seed,\\n    plan,\\n    A.hash as hash_plan,\\n    pop_deviation as pop_deviation_plan,\\n    intersect_defect as intersect_defect_plan,\\n    whole_defect as whole_defect_plan,\\n    defect as defect_plan,\\nfrom\\n    cmat-315920.TX_2020_cntyvtd_cd_contract10.TX_2020_cntyvtd_cd_contract10_4000071_summaries as A\\n',\n",
       " '\\nselect\\n    random_seed,\\n    plan,\\n    A.hash as hash_plan,\\n    pop_deviation as pop_deviation_plan,\\n    intersect_defect as intersect_defect_plan,\\n    whole_defect as whole_defect_plan,\\n    defect as defect_plan,\\nfrom\\n    cmat-315920.TX_2020_cntyvtd_cd_contract10.TX_2020_cntyvtd_cd_contract10_4000072_summaries as A\\n',\n",
       " '\\nselect\\n    random_seed,\\n    plan,\\n    A.hash as hash_plan,\\n    pop_deviation as pop_deviation_plan,\\n    intersect_defect as intersect_defect_plan,\\n    whole_defect as whole_defect_plan,\\n    defect as defect_plan,\\nfrom\\n    cmat-315920.TX_2020_cntyvtd_cd_contract10.TX_2020_cntyvtd_cd_contract10_4000073_summaries as A\\n',\n",
       " '\\nselect\\n    random_seed,\\n    plan,\\n    A.hash as hash_plan,\\n    pop_deviation as pop_deviation_plan,\\n    intersect_defect as intersect_defect_plan,\\n    whole_defect as whole_defect_plan,\\n    defect as defect_plan,\\nfrom\\n    cmat-315920.TX_2020_cntyvtd_cd_contract10.TX_2020_cntyvtd_cd_contract10_4000074_summaries as A\\n',\n",
       " '\\nselect\\n    random_seed,\\n    plan,\\n    A.hash as hash_plan,\\n    pop_deviation as pop_deviation_plan,\\n    intersect_defect as intersect_defect_plan,\\n    whole_defect as whole_defect_plan,\\n    defect as defect_plan,\\nfrom\\n    cmat-315920.TX_2020_cntyvtd_cd_contract10.TX_2020_cntyvtd_cd_contract10_4000075_summaries as A\\n',\n",
       " '\\nselect\\n    random_seed,\\n    plan,\\n    A.hash as hash_plan,\\n    pop_deviation as pop_deviation_plan,\\n    intersect_defect as intersect_defect_plan,\\n    whole_defect as whole_defect_plan,\\n    defect as defect_plan,\\nfrom\\n    cmat-315920.TX_2020_cntyvtd_cd_contract10.TX_2020_cntyvtd_cd_contract10_4000076_summaries as A\\n',\n",
       " '\\nselect\\n    random_seed,\\n    plan,\\n    A.hash as hash_plan,\\n    pop_deviation as pop_deviation_plan,\\n    intersect_defect as intersect_defect_plan,\\n    whole_defect as whole_defect_plan,\\n    defect as defect_plan,\\nfrom\\n    cmat-315920.TX_2020_cntyvtd_cd_contract10.TX_2020_cntyvtd_cd_contract10_4000077_summaries as A\\n',\n",
       " '\\nselect\\n    random_seed,\\n    plan,\\n    A.hash as hash_plan,\\n    pop_deviation as pop_deviation_plan,\\n    intersect_defect as intersect_defect_plan,\\n    whole_defect as whole_defect_plan,\\n    defect as defect_plan,\\nfrom\\n    cmat-315920.TX_2020_cntyvtd_cd_contract10.TX_2020_cntyvtd_cd_contract10_4000078_summaries as A\\n',\n",
       " '\\nselect\\n    random_seed,\\n    plan,\\n    A.hash as hash_plan,\\n    pop_deviation as pop_deviation_plan,\\n    intersect_defect as intersect_defect_plan,\\n    whole_defect as whole_defect_plan,\\n    defect as defect_plan,\\nfrom\\n    cmat-315920.TX_2020_cntyvtd_cd_contract10.TX_2020_cntyvtd_cd_contract10_4000079_summaries as A\\n']"
      ]
     },
     "execution_count": 24,
     "metadata": {},
     "output_type": "execute_result"
    }
   ],
   "source": [
    "[f\"\"\"\n",
    "select\n",
    "    random_seed,\n",
    "    plan,\n",
    "    A.hash as hash_plan,\n",
    "    pop_deviation as pop_deviation_plan,\n",
    "    intersect_defect as intersect_defect_plan,\n",
    "    whole_defect as whole_defect_plan,\n",
    "    defect as defect_plan,\n",
    "from\n",
    "    {tbls[\"summaries\"]} as A\n",
    "\"\"\" for random_seed, tbls in self.tbls.items()]"
   ]
  },
  {
   "cell_type": "code",
   "execution_count": null,
   "id": "2a3bbf88",
   "metadata": {},
   "outputs": [],
   "source": [
    "%load_ext autoreload\n",
    "%autoreload\n",
    "from src import *\n",
    "nodes_tbl = f'{proj_id}.redistricting_data.nodes_TX_2020_cntyvtd_cd_contract10'\n",
    "shape_tbl = f'{proj_id}.redistricting_data.shapes_TX_2020_tabblock'\n",
    "assignments_tbl = f'{proj_id}.redistricting_data.assignments_TX_2020_tabblock'\n",
    "\n",
    "query = f\"select polygon, geoid, aland from {nodes_tbl} where cd = 1\"\n",
    "df1 = run_query(query)"
   ]
  },
  {
   "cell_type": "code",
   "execution_count": null,
   "id": "21806c17",
   "metadata": {},
   "outputs": [],
   "source": [
    "query = f\"\"\"\n",
    "select\n",
    "    st_union_agg(B.polygon) as polygon\n",
    "from\n",
    "    {assignments_tbl} as A\n",
    "inner join\n",
    "    {shape_tbl} as B\n",
    "on\n",
    "    A.geoid = B.geoid\n",
    "where\n",
    "    cast(cd as int) = 1\n",
    "\"\"\"\n",
    "df2 = run_query(query)"
   ]
  },
  {
   "cell_type": "code",
   "execution_count": null,
   "id": "20e18481",
   "metadata": {},
   "outputs": [],
   "source": [
    "geo1 = gpd.GeoSeries.from_wkt(df1['polygon'], crs=crs_census).to_crs(crs_area)\n",
    "gdf1 = gpd.GeoDataFrame(df1.drop(columns='polygon'), geometry=geo1)\n",
    "print(gdf1.dissolve().area[0] / (meters_per_mile**2), gdf1['aland'].sum())"
   ]
  },
  {
   "cell_type": "code",
   "execution_count": null,
   "id": "cb6c7e73",
   "metadata": {},
   "outputs": [],
   "source": [
    "geo2 = gpd.GeoSeries.from_wkt(df2['polygon'], crs=crs_census).to_crs(crs_area)\n",
    "gdf2 = gpd.GeoDataFrame(df2.drop(columns='polygon'), geometry=geo2)\n",
    "print(gdf2.dissolve().area[0] / (meters_per_mile**2))#, gdf2['aland'].sum())"
   ]
  },
  {
   "cell_type": "code",
   "execution_count": null,
   "id": "8d613e53",
   "metadata": {},
   "outputs": [],
   "source": [
    "%load_ext autoreload\n",
    "%autoreload\n",
    "from src import *\n",
    "\n",
    "query = f\"\"\"\n",
    "select\n",
    "    st_union_agg(B.polygon) as polygon\n",
    "from\n",
    "    {assignments_tbl} as A\n",
    "inner join\n",
    "    {shape_tbl} as B\n",
    "on\n",
    "    A.geoid = B.geoid\n",
    "where\n",
    "    cast(cd as int) = 1\n",
    "\"\"\"\n",
    "df = run_query(query)"
   ]
  },
  {
   "cell_type": "code",
   "execution_count": null,
   "id": "d7722200",
   "metadata": {},
   "outputs": [],
   "source": [
    "df.rename(columns={'geometry':'polygon'}, inplace=True)"
   ]
  },
  {
   "cell_type": "code",
   "execution_count": null,
   "id": "7f54f2c4",
   "metadata": {},
   "outputs": [],
   "source": []
  },
  {
   "cell_type": "code",
   "execution_count": null,
   "id": "4a469359",
   "metadata": {},
   "outputs": [],
   "source": [
    "gdf.plot()"
   ]
  },
  {
   "cell_type": "code",
   "execution_count": null,
   "id": "3dc7e967",
   "metadata": {},
   "outputs": [],
   "source": [
    "c = gdf.dissolve()\n",
    "c.area / (meters_per_mile**2)"
   ]
  },
  {
   "cell_type": "code",
   "execution_count": null,
   "id": "cb9d268f",
   "metadata": {},
   "outputs": [],
   "source": []
  },
  {
   "cell_type": "code",
   "execution_count": null,
   "id": "c161da0a",
   "metadata": {},
   "outputs": [],
   "source": [
    "gdf['aland'].sum()"
   ]
  },
  {
   "cell_type": "code",
   "execution_count": null,
   "id": "5029e876",
   "metadata": {},
   "outputs": [],
   "source": [
    "# sorted(tuple(v)) for v in self.districts.values()\n",
    "tuple(sorted(tuple(sorted(v)) for v in self.districts.values()))"
   ]
  },
  {
   "cell_type": "code",
   "execution_count": null,
   "id": "cef39ca1",
   "metadata": {},
   "outputs": [],
   "source": []
  },
  {
   "cell_type": "code",
   "execution_count": null,
   "id": "cfb4a177",
   "metadata": {},
   "outputs": [],
   "source": [
    "self=M\n",
    "grp = self.nodes_df.groupby(self.district_type)\n",
    "self.districts = {k:tuple(sorted(v)) for k,v in grp.groups.items()}\n",
    "grp = self.nodes_df.groupby('county')\n",
    "self.counties = {k:tuple(sorted(v)) for k,v in grp.groups.items()}\n",
    "\n",
    "\n",
    "self.districts\n",
    "self.counties"
   ]
  },
  {
   "cell_type": "code",
   "execution_count": null,
   "id": "a95f4077",
   "metadata": {},
   "outputs": [],
   "source": [
    "M.get_counties()"
   ]
  },
  {
   "cell_type": "code",
   "execution_count": null,
   "id": "39217386",
   "metadata": {},
   "outputs": [],
   "source": [
    "self.adj[5]"
   ]
  },
  {
   "cell_type": "code",
   "execution_count": null,
   "id": "e417b5ce",
   "metadata": {},
   "outputs": [],
   "source": [
    "for u, v, data in self.graph.edges(data=True):\n",
    "    d = self.graph.nodes[u][self.district_type]\n",
    "    if d in D:\n",
    "        if self.graph.nodes[v][self.district_type] == d\n",
    "            \n",
    "    print(d)\n",
    "    break\n"
   ]
  },
  {
   "cell_type": "code",
   "execution_count": null,
   "id": "b8b27962",
   "metadata": {},
   "outputs": [],
   "source": [
    "# self=M\n",
    "# L = self.get_districts()[['total_pop']]\n",
    "# pop_diff = L.merge(L, how='cross')\n",
    "# pop_diff\n",
    "self.get_stats()"
   ]
  },
  {
   "cell_type": "code",
   "execution_count": null,
   "id": "17618ce0",
   "metadata": {},
   "outputs": [],
   "source": [
    "L = self.get_districts()['total_pop']\n",
    "pop_diff = pd.DataFrame([(x, y, abs(p-q)) for x, p in L.iteritems() for y, q in L.iteritems() if x < y])#.set_index([0,1])#.squeeze()\n",
    "pop_diff"
   ]
  },
  {
   "cell_type": "code",
   "execution_count": null,
   "id": "a64d0f56",
   "metadata": {},
   "outputs": [],
   "source": [
    "df = self.get_districts()['total_pop']\n",
    "df\n",
    "\n",
    "# .reset_index()\n",
    "# df.merge(df, how='cross')\n",
    "\n",
    "# df"
   ]
  },
  {
   "cell_type": "code",
   "execution_count": null,
   "id": "7ff1a8b9",
   "metadata": {},
   "outputs": [],
   "source": [
    "self=M\n",
    "self.districts"
   ]
  },
  {
   "cell_type": "code",
   "execution_count": null,
   "id": "62962949",
   "metadata": {},
   "outputs": [],
   "source": [
    "M.graph_to_df().sort_values('seats_cd', ascending=False)"
   ]
  },
  {
   "cell_type": "code",
   "execution_count": null,
   "id": "0ff7a896",
   "metadata": {},
   "outputs": [],
   "source": [
    "self.nodes_df\n",
    "E = self.nodes_df[['county', self.district_type]].drop_duplicates()\n",
    "G = nx.from_pandas_edgelist(E, source='county', target=self.district_type)\n",
    "\n",
    "counties  = self.nodes_df.groupby('county')[['total_pop', self.seats_col]].sum()\n",
    "counties['whole_target']     = np.ceil (counties[self.seats_col]).astype(int)\n",
    "counties['intersect_target'] = np.floor(counties[self.seats_col]).astype(int)\n",
    "nx.set_node_attributes(G, counties.to_dict('index'))\n",
    "\n",
    "districts = self.nodes_df.groupby(self.district_type)[['total_pop', 'aland', 'perim']].sum()\n",
    "nx.set_node_attributes(G, districts.to_dict('index'))\n",
    "list(G.nodes(data=True))[:10]"
   ]
  },
  {
   "cell_type": "code",
   "execution_count": null,
   "id": "9842b61a",
   "metadata": {},
   "outputs": [],
   "source": [
    "q = self.adj.copy()\n",
    "q.remove_edges_from([(13, v) for v in q[13]])\n",
    "q[13]"
   ]
  },
  {
   "cell_type": "code",
   "execution_count": null,
   "id": "a3eee25a",
   "metadata": {},
   "outputs": [],
   "source": [
    "\n",
    "\n",
    "# districts = list(sorted(set(self.nodes_df[self.district_type])))\n",
    "# # counties\n",
    "# # districts\n",
    "# d = districts[0]\n",
    "# d\n",
    "# # # e = G[d]\n",
    "# # # G.remove_edges_from(e)\n",
    "# # G[d]\n",
    "\n",
    "# def compute(G):\n",
    "#     for c in counties:\n",
    "#         G.nodes[c]['intersect'] = G.degree[c]\n",
    "#         G.nodes[c]['whole'] = sum(G.degree[d] == 1 for d in G[c])\n",
    "#     return pd.DataFrame.from_dict(dict(G.nodes(data=True)), orient='index')\n",
    "# #         print(c, G.nodes[c]['whole'], G.nodes[c]['intersect'])\n",
    "    \n",
    "# H = nx.subgraph_view(G, filter_edge = lambda u, v: u!=d and v!=d).copy()\n",
    "# for n in comp[0]:\n",
    "#     H.add_edge(n, d0)\n",
    "# for n in comp[1]:\n",
    "#     H.add_edge(n, d1)\n",
    "\n",
    "    \n",
    "# df_G = compute(G)\n",
    "# df_H = compute(H)\n",
    "# df_G.merge(df_H, left_index=True, right_index=True)\n",
    "\n",
    "# # (df_H, oi)\n",
    "\n",
    "# # mask = (df_G != df_H).any(axis=1)\n",
    "# # df_G\n",
    "\n",
    "# # sum(u==d or v==d for u, v in G.edges)\n",
    "\n",
    "# # for u,v in H.edges:\n",
    "# #     print(u==d or v==d)\n",
    "\n",
    "# H.edges\n",
    "# for u,v in G.edges:\n",
    "#     print(u, v, f(u,v))\n",
    "\n",
    "\n",
    "# H = nx.subgraph_view(G, filter_edge = lambda u, v: ~(u==d | v==d))\n",
    "# H[d]\n",
    "# counties  = list(set(self.nodes_df['county']))\n",
    "# districts = list(set(self.nodes_df[self.district_type]))\n",
    "# G = nx.from_pandas_edgelist(E, source='county', target=self.district_type)\n",
    "# for c in counties:\n",
    "#     G.nodes[c]['intersect'] = G.degree[c]\n",
    "#     G.nodes[c]['whole'] = sum(G.degree[d] == 1 for d in G[c])\n",
    "\n",
    "\n",
    "# G.edges()"
   ]
  },
  {
   "cell_type": "code",
   "execution_count": null,
   "id": "bbb73d3d",
   "metadata": {},
   "outputs": [],
   "source": []
  },
  {
   "cell_type": "code",
   "execution_count": null,
   "id": "bfb8d801",
   "metadata": {},
   "outputs": [],
   "source": []
  },
  {
   "cell_type": "code",
   "execution_count": null,
   "id": "7138c160",
   "metadata": {},
   "outputs": [],
   "source": [
    "G = nx.Graph()\n",
    "d = {'a':17}\n",
    "G.add_node(1, **d)\n",
    "\n",
    "for n in G.nodes:\n",
    "    for k, v in d.items():\n",
    "        try:\n",
    "            G.nodes[n][k] +x\n",
    "\n",
    "# G.add_node(1, a=7)\n",
    "G.nodes(data=True)"
   ]
  },
  {
   "cell_type": "code",
   "execution_count": null,
   "id": "d8f8a692",
   "metadata": {},
   "outputs": [],
   "source": [
    "def f():\n",
    "    for d, data in self.districts.items():\n",
    "        data['nodes'] = set()\n",
    "    print\n",
    "    for n, d in self.graph.nodes(data=self.district_type):\n",
    "        self.districts[d]['nodes'].add(n)\n",
    "    return self.districts\n",
    "\n",
    "def g():\n",
    "    for d, data in self.districts.items():\n",
    "        data['nodes'] = list()\n",
    "    for n, d in self.graph.nodes(data=self.district_type):\n",
    "        self.districts[d]['nodes'].append(n)\n",
    "    self.districts[d]['nodes'] = list(set(self.districts[d]['nodes']))\n",
    "    return self.districts\n",
    "\n",
    "def h():\n",
    "    for d, data in self.districts.items():\n",
    "        data['nodes'] = list()\n",
    "    for n, d in self.graph.nodes(data=self.district_type):\n",
    "        self.districts[d]['nodes'].append(n)\n",
    "    self.districts[d]['nodes'] = list(np.unique(self.districts[d]['nodes']))\n",
    "    return self.districts\n",
    "\n",
    "\n",
    "n1 = f()\n",
    "n2 = g()\n",
    "n3 = h()\n",
    "print(n1 == n2, n2==n3)\n",
    "%timeit f()\n",
    "%timeit g()\n",
    "%timeit h()"
   ]
  },
  {
   "cell_type": "code",
   "execution_count": null,
   "id": "8bbd48e2",
   "metadata": {},
   "outputs": [],
   "source": [
    "self=M\n",
    "self.plans_rec#return_df=True)"
   ]
  },
  {
   "cell_type": "code",
   "execution_count": null,
   "id": "e87b7193",
   "metadata": {},
   "outputs": [],
   "source": [
    "M.counties"
   ]
  },
  {
   "cell_type": "code",
   "execution_count": null,
   "id": "5e9d7739",
   "metadata": {},
   "outputs": [],
   "source": [
    "self = M\n",
    "P = {n:{'random_seed':self.random_seed, 'plan':self.plan, self.district_type:d} for n, d in self.graph.nodes(data=self.district_type)}\n",
    "pd.DataFrame.from_dict(P, orient='index')"
   ]
  },
  {
   "cell_type": "code",
   "execution_count": null,
   "id": "89c838db",
   "metadata": {},
   "outputs": [],
   "source": [
    "\n",
    "M.districts\n",
    "M.counties"
   ]
  },
  {
   "cell_type": "code",
   "execution_count": null,
   "id": "9b04dcd8",
   "metadata": {},
   "outputs": [],
   "source": [
    "M.counties\n",
    "# M.nodes_df\n",
    "M.graph.nodes['001']['cd']\n",
    "for n, data_node in M.graph.nodes[n]:\n",
    "    pass"
   ]
  },
  {
   "cell_type": "code",
   "execution_count": null,
   "id": "3b0afc1d",
   "metadata": {},
   "outputs": [],
   "source": [
    "df = M.get_defect(return_df=True)\n",
    "df.sort_values('intersect')"
   ]
  },
  {
   "cell_type": "code",
   "execution_count": null,
   "id": "9cd64255",
   "metadata": {},
   "outputs": [],
   "source": [
    "print(N.get_defect(return_df=True))"
   ]
  },
  {
   "cell_type": "code",
   "execution_count": null,
   "id": "3effcf66",
   "metadata": {},
   "outputs": [],
   "source": [
    "%load_ext autoreload\n",
    "%autoreload\n",
    "%cd /home/jupyter/MathVGerrmandering_CMAT_2021/\n",
    "from src import *\n",
    "from src.nodes import *\n",
    "from src.mcmc import *\n",
    "notebook = True\n",
    "skip_inputs = 'y'\n",
    "run_mcmc = False\n",
    "%run -i redistricter"
   ]
  },
  {
   "cell_type": "code",
   "execution_count": null,
   "id": "a3b268ba",
   "metadata": {},
   "outputs": [],
   "source": [
    "M.get_graph()\n",
    "# M.get_stats()\n",
    "M.pop_deviation"
   ]
  },
  {
   "cell_type": "code",
   "execution_count": null,
   "id": "41e8ba90",
   "metadata": {},
   "outputs": [],
   "source": [
    "M.stats['pop_deviation'].max()\n",
    "D = (M.stats['total_pop'] - M.target_pop) / M.target_pop\n",
    "abs(D.max()) + abs(D.min())"
   ]
  },
  {
   "cell_type": "code",
   "execution_count": null,
   "id": "35825722",
   "metadata": {},
   "outputs": [],
   "source": [
    "df = M.nodes_df"
   ]
  },
  {
   "cell_type": "code",
   "execution_count": null,
   "id": "da60eb83",
   "metadata": {},
   "outputs": [],
   "source": [
    "df = M.nodes_df.groupby('cd')['total_pop'].sum()\n",
    "# df = read_table(N.tbl)\n",
    "target_pop = df.sum() / 38\n",
    "D = (df - target_pop) / target_pop * 100\n",
    "(D.max()) + abs(D.min())\n",
    "# target_pop\n",
    "# M.pop\n",
    "# df['total_pop'].max()"
   ]
  },
  {
   "cell_type": "code",
   "execution_count": null,
   "id": "904cae60",
   "metadata": {},
   "outputs": [],
   "source": [
    "import pandas as pd\n",
    "df = pd.DataFrame()\n",
    "# # df[['A', 'B']]=[3,7]\n",
    "# df['B']=[7]\n",
    "# df\n",
    "\n",
    "pd.DataFrame.from_dict([{'a':3.0, 'b':7}])"
   ]
  },
  {
   "cell_type": "code",
   "execution_count": null,
   "id": "9e08904c",
   "metadata": {},
   "outputs": [],
   "source": [
    "self = M\n",
    "df = self.nodes_df[['county', self.district_type, self.seats_col]].drop_duplicates()\n",
    "\n",
    "df = df.groupby(['county', self.district_type])[self.seats_col].sum().reset_index()\n",
    "df['whole'] = df.groupby(self.district_type)['county'].transform('count') <= 1\n",
    "df = df.groupby('county').agg(whole=('whole', 'sum'), intersect=('whole', 'count'), target=('seats_sldl', 'sum'))\n",
    "df['whole_defect'] = (np.floor(df['target']) - df['whole']).abs().astype(int)\n",
    "df['intersect_defect'] = (np.ceil(df['target']) - df['intersect']).abs().astype(int)\n",
    "df['defect'] = df['whole_defect'] + df['intersect_defect']\n",
    "\n",
    "# [['seats_sldl','whole']].sum()\n",
    "\n",
    "\n",
    "# df['whole_districts'] = df.groupby('county')['whole'].transform('sum')\n",
    "df\n",
    "df.sort_values('defect')\n",
    "# df"
   ]
  },
  {
   "cell_type": "code",
   "execution_count": null,
   "id": "3847d74b",
   "metadata": {},
   "outputs": [],
   "source": [
    "M.results_bq"
   ]
  },
  {
   "cell_type": "code",
   "execution_count": null,
   "id": "000d658d",
   "metadata": {},
   "outputs": [],
   "source": [
    "%load_ext autoreload\n",
    "%autoreload\n",
    "from src import *\n",
    "tbl = f'{proj_id}.reredistricting_data.nodes_TX_2020_cntyvtd_sldl_contract10'\n",
    "\n",
    "tbl = f'{proj_id}.redistricting_data.nodes_TX_2020_cntyvtd_sldl_contract10'\n",
    "\n",
    "q = f\"select polygon, geoid, sldl, county, total_pop, density, aland, polsby_popper from {tbl}\"\n",
    "df = run_query(q)\n",
    "geo = gpd.GeoSeries.from_wkt(df['polygon'], crs=crs_census)#.to_crs(crs_area)\n",
    "gdf = gpd.GeoDataFrame(df.drop(columns='polygon'), geometry=geo)"
   ]
  },
  {
   "cell_type": "code",
   "execution_count": null,
   "id": "54db7801",
   "metadata": {},
   "outputs": [],
   "source": [
    "# geo0  = gpd.GeoSeries.from_wkt(df['polygon'], crs=crs_census)\n",
    "# geo = gpd.GeoSeries.from_wkt(df['polygon'], crs=crs_census)#.to_crs(crs_area)\n",
    "# geo2 = geo1.buffer(0)\n",
    "# gdf0 = gpd.GeoDataFrame(df.drop(columns='polygon'), geometry=geo0)\n",
    "# gdf1 = gpd.GeoDataFrame(df.drop(columns='polygon'), geometry=geo1)\n",
    "# gdf2 = gpd.GeoDataFrame(df.drop(columns='polygon'), geometry=geo2)\n",
    "\n",
    "# q = pd.DataFrame()\n",
    "# q['orig'] = geo1.area\n",
    "# q['buffer'] = geo2.area\n",
    "# q['pct'] = (q['buffer'] - q['orig']) / q['buffer'] * 100\n",
    "# print(q['pct'].max())"
   ]
  },
  {
   "cell_type": "code",
   "execution_count": null,
   "id": "6f1dc2d6",
   "metadata": {},
   "outputs": [],
   "source": [
    "geo = gpd.GeoSeries.from_wkt(df['polygon'], crs=crs_census)#.to_crs(crs_area)\n",
    "gdf = gpd.GeoDataFrame(df.drop(columns='polygon'), geometry=geo)"
   ]
  },
  {
   "cell_type": "code",
   "execution_count": null,
   "id": "7213e087",
   "metadata": {},
   "outputs": [],
   "source": [
    "# gdf['color'] = gdf['sldl'].sample(1)\n",
    "W = pd.DataFrame()\n",
    "W['sldl'] = gdf['sldl'].unique()\n",
    "W['color'] = np.random.permutation(W['sldl'])\n",
    "gdf = gdf.merge(W, on='sldl')"
   ]
  },
  {
   "cell_type": "code",
   "execution_count": null,
   "id": "291f57a0",
   "metadata": {},
   "outputs": [],
   "source": [
    "try:\n",
    "    import pandas_bokeh\n",
    "except:\n",
    "    os.system('pip install --upgrade pandas-bokeh')\n",
    "    import pandas_bokeh\n",
    "pandas_bokeh.output_notebook() #<------------- uncommment to view in notebook\n",
    "\n",
    "fig = gdf.plot_bokeh(\n",
    "            figsize = (900, 600),\n",
    "#             slider = plans,\n",
    "#             slider_name = \"PLAN #\",\n",
    "            category = 'color',\n",
    "            show_colorbar = False,\n",
    "            colorbar_tick_format=\"0\",\n",
    "            colormap = \"Category20\",\n",
    "            hovertool_string = '@geoid, @sldl<br>@county<br>pop=@total_pop<br>density=@density{0.0}<br>land=@aland{0.0}<br>pp=@polsby_popper{0.0}',\n",
    "            tile_provider = \"CARTODBPOSITRON\",\n",
    "            return_html = False,\n",
    "            show_figure = True,\n",
    "            **{'fill_alpha' :.5,\n",
    "              'line_alpha':.05,}\n",
    "        )\n",
    "fig"
   ]
  },
  {
   "cell_type": "code",
   "execution_count": null,
   "id": "7ea42af7",
   "metadata": {},
   "outputs": [],
   "source": [
    "fig"
   ]
  },
  {
   "cell_type": "code",
   "execution_count": null,
   "id": "1df035cd",
   "metadata": {},
   "outputs": [],
   "source": [
    "def plot(df):\n",
    "    try:\n",
    "        import pandas_bokeh\n",
    "    except:\n",
    "        os.system('pip install --upgrade pandas-bokeh')\n",
    "        import pandas_bokeh\n",
    "\n",
    "    geo = gpd.GeoSeries.from_wkt(df['polygon'], crs='EPSG:4326').simplify(0.001).buffer(0) #<-- little white space @ .001 ~5.7 mb, minimal at .0001 ~10mb, with no white space ~37mb\n",
    "    gdf = gpd.GeoDataFrame(df.drop(columns='polygon'), geometry=geo)"
   ]
  },
  {
   "cell_type": "code",
   "execution_count": null,
   "id": "0b69b04c",
   "metadata": {},
   "outputs": [],
   "source": [
    "def plot(df):\n",
    "    try:\n",
    "        import pandas_bokeh\n",
    "    except:\n",
    "        os.system('pip install --upgrade pandas-bokeh')\n",
    "        import pandas_bokeh\n",
    "\n",
    "    try:\n",
    "#         df = read_table(tbl=self.tbl+'_plans')\n",
    "        df = df.pivot(index='geoid', columns='plan').astype(int)\n",
    "        df.columns = df.columns.droplevel().rename(None)\n",
    "        d = len(str(df.columns.max()))\n",
    "        plans = ['plan_'+str(c).rjust(d, '0') for c in df.columns]\n",
    "        df.columns = plans\n",
    "\n",
    "        shapes = run_query(f'select geoid, county, total_pop, density, aland, perim, polsby_popper, polygon from {self.nodes}')\n",
    "        df = df.merge(shapes, on='geoid')\n",
    "        geo = gpd.GeoSeries.from_wkt(df['polygon'], crs='EPSG:4326').simplify(0.001).buffer(0) #<-- little white space @ .001 ~5.7 mb, minimal at .0001 ~10mb, with no white space ~37mb\n",
    "#             geo = gpd.GeoSeries.from_wkt(df['polygon'], crs='EPSG:4326').buffer(0) # <-------------------- to not simplify at all\n",
    "        self.gdf = gpd.GeoDataFrame(df.drop(columns='polygon'), geometry=geo)\n",
    "\n",
    "        if show:\n",
    "            pandas_bokeh.output_notebook() #<------------- uncommment to view in notebook\n",
    "        fig = self.gdf.plot_bokeh(\n",
    "            figsize = (900, 600),\n",
    "            slider = plans,\n",
    "            slider_name = \"PLAN #\",\n",
    "            show_colorbar = False,\n",
    "            colorbar_tick_format=\"0\",\n",
    "            colormap = \"Category20\",\n",
    "            hovertool_string = '@geoid, @county<br>pop=@total_pop<br>density=@density{0.0}<br>land=@aland{0.0}<br>pp=@polsby_popper{0.0}',\n",
    "            tile_provider = \"CARTODBPOSITRON\",\n",
    "            return_html = True,\n",
    "            show_figure = show,\n",
    "            **{'fill_alpha' :.5,\n",
    "              'line_alpha':.05,}\n",
    "        )\n",
    "        fn = self.results_path / f'{self.run}_map.html'\n",
    "        with open(fn, 'w') as file:\n",
    "            file.write(fig)\n",
    "#             rpt(f'map creation for {self.seed} - success')\n",
    "    except Exception as e:\n",
    "        rpt(f'map creation for {self.seed} - FAIL {e}')\n",
    "        fig = None\n",
    "    return fig"
   ]
  },
  {
   "cell_type": "code",
   "execution_count": null,
   "id": "eda226bc",
   "metadata": {},
   "outputs": [],
   "source": [
    "%load_ext autoreload\n",
    "%autoreload\n",
    "%cd /home/jupyter/MathVGerrmandering_CMAT_2021/\n",
    "from src import *\n",
    "notebook = True\n",
    "skip_inputs = 'y'\n",
    "for contract_thresh in [0, 5, 10]:\n",
    "    for level in Levels:\n",
    "        for district_type in District_types:\n",
    "            nodes_opts = {\n",
    "                'abbr'             : 'TX',\n",
    "                'level'            : level,\n",
    "                'district_type'    : district_type,\n",
    "                'contract_thresh'  : contract_thresh,\n",
    "            }\n",
    "            %run -i redistricter"
   ]
  },
  {
   "cell_type": "code",
   "execution_count": null,
   "id": "d5e8bde2",
   "metadata": {},
   "outputs": [],
   "source": [
    "nx.subgraph?"
   ]
  },
  {
   "cell_type": "code",
   "execution_count": null,
   "id": "2c6d25a3",
   "metadata": {},
   "outputs": [],
   "source": [
    "N.tbl.split('.')[-1].split('_')"
   ]
  },
  {
   "cell_type": "code",
   "execution_count": null,
   "id": "824aa4e9",
   "metadata": {},
   "outputs": [],
   "source": [
    "%load_ext autoreload\n",
    "%autoreload\n",
    "%cd /home/jupyter/MathVGerrmandering_CMAT_2021/\n",
    "from src import *\n",
    "\n",
    "tbl = f'{root_bq}.TX_2020_cntyvtd_cd.TX_2020_cntyvtd_cd_0000000_allresults'\n",
    "results_stem = tbl.split('.')[1]\n",
    "\n",
    "d = dict()\n",
    "for c in [x for x in [x.split('_') for x in get_cols(tbl)] if x[0] in ['President', 'USSen'] and x[3] in ['R', 'D']]:\n",
    "    a = '_'.join(c[:2])\n",
    "    b = c[3]\n",
    "    c = '_'.join(c)\n",
    "    try:\n",
    "        d[a][b] = c\n",
    "    except:\n",
    "        d[a] = {b:c}\n",
    "\n",
    "for key, val in d.items():\n",
    "    query = f\"\"\"\n",
    "select\n",
    "    seed,\n",
    "    plan,\n",
    "    cd,\n",
    "    V as {key}_DR_votes,\n",
    "    D / V as {key}_D_prop\n",
    "from (\n",
    "    select\n",
    "        *,\n",
    "        D + R as V\n",
    "    from (\n",
    "        select\n",
    "            seed,\n",
    "            plan,\n",
    "            cd,\n",
    "            {val['D']} as D,\n",
    "            {val['R']} as R\n",
    "        from\n",
    "            {tbl}\n",
    "        )\n",
    "    )\n",
    "order by\n",
    "    seed, plan, cd\n",
    "\"\"\"\n",
    "    tbl_out = tbl.replace('allresults', key)\n",
    "    s = tbl_out.split('.')\n",
    "    pq = f'output/{s[1]}/{s[2]}.parquet'\n",
    "    file = root_path / pq\n",
    "    file.parent.mkdir(parents=True, exist_ok=True)\n",
    "    \n",
    "    load_table(tbl=tbl_out, query=query)\n",
    "    df = read_table(tbl_out)\n",
    "#     display(df.head(3))\n",
    "#     df.sort_values(['seed', 'plan', 'cd'], inplace=True)\n",
    "#     display(df.head(3))\n",
    "\n",
    "    df.to_parquet(file)\n",
    "    gcs_bucket.blob(str(pq)).upload_from_filename(file)\n",
    "#     del df"
   ]
  },
  {
   "cell_type": "code",
   "execution_count": null,
   "id": "cf7afa22",
   "metadata": {},
   "outputs": [],
   "source": []
  },
  {
   "cell_type": "code",
   "execution_count": null,
   "id": "165d098a",
   "metadata": {},
   "outputs": [],
   "source": [
    "df.groupby(['seed', 'plan']).size()"
   ]
  },
  {
   "cell_type": "code",
   "execution_count": null,
   "id": "be634a5a",
   "metadata": {},
   "outputs": [],
   "source": [
    "df"
   ]
  },
  {
   "cell_type": "code",
   "execution_count": null,
   "id": "bdffc194",
   "metadata": {},
   "outputs": [],
   "source": [
    "l = [1,2,3,4]\n",
    "l[[0,2]]"
   ]
  },
  {
   "cell_type": "code",
   "execution_count": null,
   "id": "5169edf5",
   "metadata": {},
   "outputs": [],
   "source": [
    "nx.subgraph_view(G.graph)"
   ]
  },
  {
   "cell_type": "code",
   "execution_count": null,
   "id": "ebb94251",
   "metadata": {},
   "outputs": [],
   "source": [
    "self=G\n",
    "D =2\n",
    "# H = nx.subgraph_view(G.graph, filter_node=lambda n: n.data[self.district_type] == D)\n",
    "H = nx.subgraph_view(self.graph, filter_node=lambda n: self.graph.nodes[n][self.district_type] == D)\n",
    "H.nodes"
   ]
  },
  {
   "cell_type": "code",
   "execution_count": null,
   "id": "059f26ae",
   "metadata": {},
   "outputs": [],
   "source": [
    "nx.subgraph_view(G, filter_node=lambda n: n.data[self.district_type] == D)"
   ]
  },
  {
   "cell_type": "code",
   "execution_count": null,
   "id": "0d5c5785",
   "metadata": {},
   "outputs": [],
   "source": [
    "nx.subgraph_view(G, filter_node=lambda n: n.data[self.district_type] == D)"
   ]
  },
  {
   "cell_type": "code",
   "execution_count": null,
   "id": "778dd33e",
   "metadata": {},
   "outputs": [],
   "source": [
    "nx.subgraph_view(G.graph, filter_node=lambda n: n.data[self.district_type] == D)"
   ]
  },
  {
   "cell_type": "code",
   "execution_count": null,
   "id": "a904051b",
   "metadata": {},
   "outputs": [],
   "source": [
    "g = G.graph.nodes(data='cd')\n",
    "g['001']\n",
    "# list(g.nodes)[:10]\n",
    "# x = '161'\n",
    "# rng = np.random.default_rng(11)\n",
    "# # y = rng.choice(g[x])\n",
    "# g.nodes[rng.choice(g[x])]['cd']\n",
    "# # w = g[x]\n",
    "\n",
    "\n",
    "# # w.items()\n",
    "# # d = dict(w)\n",
    "# y = rng.choice(w)\n",
    "# y\n",
    "# g.nodes[y]\n",
    "# w[y]\n",
    "# w\n",
    "# list(g.neighbors(x, data=True))\n",
    "# g.neighbors?\n",
    "# n = rng.choice(dict(g[x]))\n",
    "# g[n]\n",
    "# n\n",
    "\n",
    "# rng.randomg[x]"
   ]
  },
  {
   "cell_type": "code",
   "execution_count": null,
   "id": "7ac36008",
   "metadata": {},
   "outputs": [],
   "source": [
    "1+1"
   ]
  },
  {
   "cell_type": "code",
   "execution_count": null,
   "id": "1cfd4373",
   "metadata": {},
   "outputs": [],
   "source": [
    "%load_ext autoreload\n",
    "%autoreload\n",
    "%cd /home/jupyter/MathVGerrmandering_CMAT_2021/\n",
    "from src import *\n",
    "notebook = True\n",
    "skip_inputs = 'y'\n",
    "\n",
    "for level in Levels:\n",
    "    for district_type in District_types:\n",
    "        D = list()\n",
    "        for countyline_rule in [0, 2010, 5, 10]:\n",
    "            print(level, district_type, countyline_rule)\n",
    "            graph_opts = {\n",
    "                'abbr'             : 'TX',\n",
    "                'level'            : level,\n",
    "                'district_type'    : district_type,\n",
    "                'census_yr'        : 2020,\n",
    "                'countyline_rule'  : countyline_rule,\n",
    "            }\n",
    "            %run -i redistricter\n",
    "            D.append(f'select * from {G.nodes.tbl}')\n",
    "        t = G.nodes.tbl\n",
    "        combined_tbl = t[:t.rfind('_')] + '_combined'\n",
    "        D = '\\nunion all\\n'.join(D)\n",
    "        query = f\"\"\"\n",
    "select\n",
    "    *\n",
    "from (\n",
    "    select\n",
    "        *,\n",
    "        row_number() over (partition by geoid) as r\n",
    "    from (\n",
    "        {subquery(D, indents=2)}\n",
    "        )\n",
    "    )\n",
    "where\n",
    "    r = 1\n",
    "\"\"\"\n",
    "#         print(combined_tbl)\n",
    "#         print(query)\n",
    "#         assert 1==2\n",
    "        load_table(tbl=combined_tbl, query=query)\n",
    "        "
   ]
  },
  {
   "cell_type": "code",
   "execution_count": null,
   "id": "f3533bf2",
   "metadata": {},
   "outputs": [],
   "source": [
    "t = D[0]\n",
    "t[:t.rfind('_')]"
   ]
  },
  {
   "cell_type": "code",
   "execution_count": null,
   "id": "8fbd88d3",
   "metadata": {},
   "outputs": [],
   "source": [
    "            query = f\"\"\"\n",
    "select\n",
    "    *\n",
    "from (\n",
    "    select\n",
    "        *,\n",
    "        row_number() over (partition by geoid) as r\n",
    "    from (\n",
    "        select * from {A}\n",
    "        union all\n",
    "        select * from {B}\n",
    "        union all\n",
    "        select * from {C}\n",
    "        )\n",
    "    )\n",
    "where\n",
    "    r = 1\n",
    "\"\"\"\n"
   ]
  },
  {
   "cell_type": "code",
   "execution_count": null,
   "id": "d5ed652d",
   "metadata": {},
   "outputs": [],
   "source": [
    "n = read_table(G.nodes.tbl)"
   ]
  },
  {
   "cell_type": "code",
   "execution_count": null,
   "id": "562f573f",
   "metadata": {},
   "outputs": [],
   "source": [
    "df = n.iloc[:,:4]\n",
    "df = df.groupby('county').agg({'total_pop':'sum', 'cd':'nunique'})\n",
    "ideal_pop = df['total_pop'].sum() / 38\n",
    "df['district_target'] = df['total_pop'] / ideal_pop\n",
    "df.sort_values('district_target')\n",
    "mask = (df['cd'] == 1) ^ (df['district_target'] <= 1)\n",
    "df[mask]"
   ]
  },
  {
   "cell_type": "code",
   "execution_count": null,
   "id": "58bcc3b5",
   "metadata": {},
   "outputs": [],
   "source": [
    "A.hash_tbl"
   ]
  },
  {
   "cell_type": "code",
   "execution_count": null,
   "id": "442767b0",
   "metadata": {},
   "outputs": [],
   "source": [
    "query = f\"\"\"\n",
    "select\n",
    "    *\n",
    "from\n",
    "    {A.tbl} as A\n",
    "inner join (\n",
    "    select\n",
    "        *\n",
    "    from\n",
    "        {A.hash_tbl}\n",
    "    where\n",
    "        rand() < 0.01\n",
    "    ) as B\n",
    "on\n",
    "    A.hash_plan = B.hash_plan\n",
    "\"\"\"\n",
    "df = run_query(query)\n",
    "df.to_parquet(A.pq)\n",
    "to_gcs(A.pq)"
   ]
  },
  {
   "cell_type": "code",
   "execution_count": null,
   "id": "67d5d577",
   "metadata": {},
   "outputs": [],
   "source": [
    "df.to_parquet(A.pq)"
   ]
  },
  {
   "cell_type": "code",
   "execution_count": null,
   "id": "c25c6df2",
   "metadata": {},
   "outputs": [],
   "source": [
    "to_gcs(A.pq)"
   ]
  },
  {
   "cell_type": "code",
   "execution_count": null,
   "id": "7362bbba",
   "metadata": {},
   "outputs": [],
   "source": [
    "df['hash_plan'].nunique()"
   ]
  },
  {
   "cell_type": "code",
   "execution_count": null,
   "id": "49e03b92",
   "metadata": {},
   "outputs": [],
   "source": [
    "df\n",
    "df.memory_usage().sum() / 1000000"
   ]
  },
  {
   "cell_type": "code",
   "execution_count": null,
   "id": "6ba95867",
   "metadata": {},
   "outputs": [],
   "source": [
    "df.to_parquet(A.pq)"
   ]
  },
  {
   "cell_type": "code",
   "execution_count": null,
   "id": "ec61ccd1",
   "metadata": {},
   "outputs": [],
   "source": [
    "A.pq"
   ]
  },
  {
   "cell_type": "code",
   "execution_count": null,
   "id": "7d28da50",
   "metadata": {},
   "outputs": [],
   "source": [
    "list(M.graph.nodes(data='plan'))[:10]"
   ]
  },
  {
   "cell_type": "code",
   "execution_count": null,
   "id": "81e695a6",
   "metadata": {},
   "outputs": [],
   "source": [
    "self=M\n",
    "df = self.splits\n",
    "(df['whole_districts_target'] - df['whole_districts']).abs().sum()\n",
    "(df['county_parts_target'] - df['county_parts']).abs().sum()"
   ]
  },
  {
   "cell_type": "code",
   "execution_count": null,
   "id": "eb785005",
   "metadata": {},
   "outputs": [],
   "source": []
  },
  {
   "cell_type": "code",
   "execution_count": null,
   "id": "e2703d47",
   "metadata": {},
   "outputs": [],
   "source": [
    "self=G\n",
    "# w = dict(self.graph.nodes(data='total_pop'))\n",
    "# sorted(w.items(), key=lambda x:x[1], reverse=True)\n",
    "# w = dict(self.graph.nodes(data='total_pop'))\n",
    "sorted(self.graph.nodes(data='total_pop'), key=lambda x:x[1], reverse=True)[:2]"
   ]
  },
  {
   "cell_type": "code",
   "execution_count": null,
   "id": "f7247422",
   "metadata": {},
   "outputs": [],
   "source": [
    "sum(d['total_pop'] for n, d in G.graph.nodes(data=True)) / 38"
   ]
  },
  {
   "cell_type": "code",
   "execution_count": null,
   "id": "1b87af33",
   "metadata": {},
   "outputs": [],
   "source": [
    "self.get_districts()"
   ]
  },
  {
   "cell_type": "code",
   "execution_count": null,
   "id": "03298134",
   "metadata": {},
   "outputs": [],
   "source": [
    "\n",
    "G."
   ]
  },
  {
   "cell_type": "code",
   "execution_count": null,
   "id": "60d8ecd4",
   "metadata": {},
   "outputs": [],
   "source": [
    "self = G\n",
    "df = read_table(G.nodes.tbl)\n",
    "idx = df.nlargest(2, 'total_pop')"
   ]
  },
  {
   "cell_type": "code",
   "execution_count": null,
   "id": "bf5d9bcf",
   "metadata": {},
   "outputs": [],
   "source": [
    "n = df.copy()\n",
    "m = n[self.district_type].max()\n",
    "n.loc[idx.index[0], self.district_type] = m+1\n",
    "n.loc[idx.index[1], self.district_type] = m+2\n",
    "m = n[self.district_type].max()\n",
    "pop_ideal = round(n['total_pop'].sum() / m)\n",
    "d = n.groupby(self.district_type)['total_pop'].sum()\n",
    "(d.max() - d.min()) / pop_ideal * 100"
   ]
  },
  {
   "cell_type": "code",
   "execution_count": null,
   "id": "9378942f",
   "metadata": {},
   "outputs": [],
   "source": [
    "n.insert?"
   ]
  },
  {
   "cell_type": "code",
   "execution_count": null,
   "id": "725b4a39",
   "metadata": {},
   "outputs": [],
   "source": [
    "n = df.copy()\n",
    "m = n[self.district_type].max()\n",
    "n.loc[idx.index[0], self.district_type] = m+1\n",
    "n.loc[idx.index[1], self.district_type] = m+2\n",
    "m = n[self.district_type].max()\n",
    "pop_ideal = round(n['total_pop'].sum() / m)\n",
    "d = n.groupby(self.district_type)['total_pop'].sum()\n",
    "(d.max() - d.min()) / pop_ideal * 100"
   ]
  },
  {
   "cell_type": "code",
   "execution_count": null,
   "id": "56c72d3f",
   "metadata": {},
   "outputs": [],
   "source": [
    "pop_ideal = round(n['total_pop'].sum() / m)\n",
    "d = n.groupby(self.district_type)['total_pop'].sum()\n",
    "d\n",
    "# (d.max() - d.min()) / pop_ideal\n",
    "(d.max() - d.min()) / pop_ideal"
   ]
  },
  {
   "cell_type": "code",
   "execution_count": null,
   "id": "1119ccd9",
   "metadata": {},
   "outputs": [],
   "source": [
    "len(G.graph.nodes(data=True))"
   ]
  },
  {
   "cell_type": "code",
   "execution_count": null,
   "id": "83f0e233",
   "metadata": {},
   "outputs": [],
   "source": [
    "n = pd.DataFrame.from_dict(dict(self.graph.nodes(data=True)), orient='index')\n",
    "\n",
    "ideal_pop = round(n['total_pop'].sum() / 38)\n",
    "n['target'] = n.groupby('county')['total_pop'].transform('sum') / ideal_pop\n",
    "n['whole_districts_target'] = np.floor(n['target']).astype(int)\n",
    "n['parts_target'] = np.ceil(n['target']).astype(int)\n",
    "\n",
    "\n",
    "w = n[['county', self.district_type, 'parts_target', 'whole_districts_target']].drop_duplicates()\n",
    "w['whole_district'] = w.groupby(self.district_type)['county'].transform('count') <= 1\n",
    "w['whole_districts'] = w.groupby('county')['whole_district'].transform('sum')\n",
    "w['county_parts'] = w.groupby('county')[self.district_type].transform('count')\n",
    "w.drop(columns=[self.district_type, 'whole_district']).drop_duplicates()\n",
    "# w['parts_error'] = (w['parts_target'] - w['parts']).abs()\n",
    "# w['districts_contained_error'] = (w['districts_contained_target'] - w['districts_contained']).abs()\n",
    "# w.sort_values('parts_target')"
   ]
  },
  {
   "cell_type": "code",
   "execution_count": null,
   "id": "b95d7d83",
   "metadata": {},
   "outputs": [],
   "source": [
    "pd.DataFrame.from_dict(dict(self.graph.nodes(data=True)), orient='index').dtypes"
   ]
  },
  {
   "cell_type": "code",
   "execution_count": null,
   "id": "03529a4b",
   "metadata": {},
   "outputs": [],
   "source": [
    "list(self.graph.nodes(data=True))[:3]"
   ]
  },
  {
   "cell_type": "code",
   "execution_count": null,
   "id": "695fbe5b",
   "metadata": {},
   "outputs": [],
   "source": [
    "\n"
   ]
  },
  {
   "cell_type": "code",
   "execution_count": null,
   "id": "95b893d3",
   "metadata": {},
   "outputs": [],
   "source": []
  },
  {
   "cell_type": "code",
   "execution_count": null,
   "id": "0e547bfd",
   "metadata": {},
   "outputs": [],
   "source": [
    "file = f'{root_path}/results/TX_2020_cntyvtd_cd/TX_2020_cntyvtd_cd_0000000_allresults'\n",
    "pq  = file + '.parquet'\n",
    "csv = file + '.csv'\n",
    "df = pd.read_parquet(pq)\n",
    "df.to_csv(csv)"
   ]
  },
  {
   "cell_type": "code",
   "execution_count": null,
   "id": "f21d2576",
   "metadata": {},
   "outputs": [],
   "source": [
    "from src import *\n",
    "w = 'TX_2020_cntyvtd_cd'\n",
    "bq = f'{proj_id}.w'\n",
    "\n",
    "for tbl in bqclient.list_tables(w):\n",
    "    a = tbl.full_table_id.replace(':','.')\n",
    "    if a.find('allresults') >= 0:\n",
    "        print(f'deleting {a}')\n",
    "        delete_table(a)"
   ]
  },
  {
   "cell_type": "code",
   "execution_count": null,
   "id": "3fd2ee86",
   "metadata": {},
   "outputs": [],
   "source": [
    "get_cols(f'{proj_id}.redistricting_data.nodes_TX_2020_cntyvtd_cd')[301:]"
   ]
  },
  {
   "cell_type": "code",
   "execution_count": null,
   "id": "16829742",
   "metadata": {},
   "outputs": [],
   "source": [
    "from src import *\n",
    "ds = f'{proj_id}.TX_2020_cntyvtd_cd'\n",
    "for src_tbl in bqclient.list_tables(ds, max_):\n"
   ]
  },
  {
   "cell_type": "code",
   "execution_count": null,
   "id": "e271846a",
   "metadata": {},
   "outputs": [],
   "source": [
    "bqclient.list_tables?"
   ]
  },
  {
   "cell_type": "code",
   "execution_count": null,
   "id": "6e736288",
   "metadata": {},
   "outputs": [],
   "source": [
    "1+1"
   ]
  },
  {
   "cell_type": "code",
   "execution_count": null,
   "id": "3ede7b6a",
   "metadata": {},
   "outputs": [],
   "source": [
    "from src import *\n",
    "for src_tbl in bqclient.list_tables(f'{proj_id}.results'):\n",
    "    w = src_tbl.table_id.split('_')\n",
    "    ds = f'{proj_id}.{\"_\".join(w[:4])}'\n",
    "    dest = f'{ds}.{\"_\".join(w[4:])}'\n",
    "    try:\n",
    "        bqclient.get_table(dest)\n",
    "    except:\n",
    "        print(f'copying {src_tbl.full_table_id} to {dest}')\n",
    "        bqclient.create_dataset(ds, exists_ok=True)\n",
    "        bqclient.copy_table(src_tbl, dest).result()\n",
    "    \n",
    "#     print(src_tbl.table_id, dest_tbl)\n",
    "#     bqclient.copy_table(src_tbl, dest_tbl).result()\n",
    "#     client.delete_table(table_id, not_found_ok=True)\n",
    "#     print(ds)\n",
    "# bqclient.list_tables?\n",
    "# (root)\n",
    "# ds"
   ]
  },
  {
   "cell_type": "code",
   "execution_count": null,
   "id": "6e340b7e",
   "metadata": {},
   "outputs": [],
   "source": [
    "try:\n",
    "    bqclient.get_table('cmat-315920.TX_2020_cntyvtd_cd.10001_plans')\n",
    "except:\n",
    "    print('no')"
   ]
  },
  {
   "cell_type": "code",
   "execution_count": null,
   "id": "72380e68",
   "metadata": {},
   "outputs": [],
   "source": [
    "from src import *"
   ]
  },
  {
   "cell_type": "code",
   "execution_count": null,
   "id": "9687dd0a",
   "metadata": {},
   "outputs": [],
   "source": [
    "t = 'cmat-315920.results.TX_2020_cntyvtd_cd_0000_plans'\n",
    "check_table(t)"
   ]
  },
  {
   "cell_type": "code",
   "execution_count": null,
   "id": "97841e42",
   "metadata": {},
   "outputs": [],
   "source": [
    "df = pd.DataFrame()"
   ]
  },
  {
   "cell_type": "code",
   "execution_count": null,
   "id": "61acf691",
   "metadata": {},
   "outputs": [],
   "source": [
    "df.to_parquet?"
   ]
  },
  {
   "cell_type": "code",
   "execution_count": null,
   "id": "e4edb13a",
   "metadata": {},
   "outputs": [],
   "source": [
    "from src import *\n",
    "google.cloud.bigquery.job.ExtractJobConfig(destinationFormat='parquet', compression='SNAPPY')\n"
   ]
  },
  {
   "cell_type": "code",
   "execution_count": null,
   "id": "8cffd6eb",
   "metadata": {},
   "outputs": [],
   "source": [
    "import pandas as pd\n",
    "df = pd.DataFrame()\n",
    "df['a'] = ['wab', 'wa1', 'wb2', 'w12']\n",
    "df['b'] = df['a'].str[:-1]\n",
    "df['c'] = df['a'].str[-1]\n",
    "mask = ~df['b'].str[-1].str.isnumeric() & df['c'].str.isnumeric()\n",
    "df.loc[mask, 'c'] = df.loc[mask, 'c'].str.rjust(2, '0')\n",
    "df['d'] = df['b'] + df['c']\n",
    "df"
   ]
  },
  {
   "cell_type": "code",
   "execution_count": null,
   "id": "8fb24f67",
   "metadata": {},
   "outputs": [],
   "source": [
    "1+1"
   ]
  },
  {
   "cell_type": "code",
   "execution_count": null,
   "id": "6cd2ed7c",
   "metadata": {},
   "outputs": [],
   "source": [
    "results_loc"
   ]
  },
  {
   "cell_type": "code",
   "execution_count": null,
   "id": "44c192da",
   "metadata": {},
   "outputs": [],
   "source": [
    "f = pathlib.Path('/home/jupyter/redistricting_data/crosswalks/TX')\n",
    "# f.mkdir()\n",
    "str(f)\n",
    "\n",
    "gcsclient."
   ]
  },
  {
   "cell_type": "code",
   "execution_count": null,
   "id": "dc219def",
   "metadata": {},
   "outputs": [],
   "source": [
    "str(G.crosswalks.pq).replace(str(root_loc), 'gs://bucket')"
   ]
  },
  {
   "cell_type": "code",
   "execution_count": null,
   "id": "7ce705a5",
   "metadata": {},
   "outputs": [],
   "source": []
  },
  {
   "cell_type": "code",
   "execution_count": null,
   "id": "8abd99d9",
   "metadata": {},
   "outputs": [],
   "source": [
    "G.crosswalks.zip\n",
    "\n",
    "\n",
    "# pq.with_suffix('.temp')"
   ]
  },
  {
   "cell_type": "code",
   "execution_count": null,
   "id": "d7379702",
   "metadata": {},
   "outputs": [],
   "source": [
    "dir(data_gcs)\n",
    "data_gcs.path"
   ]
  },
  {
   "cell_type": "code",
   "execution_count": null,
   "id": "e288ced1",
   "metadata": {},
   "outputs": [],
   "source": [
    "df = read_table(G.crosswalks.tbl)"
   ]
  },
  {
   "cell_type": "code",
   "execution_count": null,
   "id": "0fa4c677",
   "metadata": {},
   "outputs": [],
   "source": [
    "df.to_parquet(root_loc / 'temp.parquet')"
   ]
  },
  {
   "cell_type": "code",
   "execution_count": null,
   "id": "62a43c52",
   "metadata": {},
   "outputs": [],
   "source": [
    "df.size"
   ]
  },
  {
   "cell_type": "code",
   "execution_count": null,
   "id": "1741dde5",
   "metadata": {},
   "outputs": [],
   "source": []
  },
  {
   "cell_type": "code",
   "execution_count": null,
   "id": "5bc3d45b",
   "metadata": {},
   "outputs": [],
   "source": [
    "df2 = pd.read_parquet(root_loc / 'temp.pq')"
   ]
  },
  {
   "cell_type": "code",
   "execution_count": null,
   "id": "8ae31524",
   "metadata": {},
   "outputs": [],
   "source": [
    "df2.size"
   ]
  },
  {
   "cell_type": "markdown",
   "id": "f1b69b70",
   "metadata": {},
   "source": [
    "## "
   ]
  },
  {
   "cell_type": "code",
   "execution_count": null,
   "id": "04c29f9d",
   "metadata": {},
   "outputs": [],
   "source": [
    "f = data_gcs + G.crosswalks.pq.name\n",
    "df2.to_parquet(f)"
   ]
  },
  {
   "cell_type": "code",
   "execution_count": null,
   "id": "345e9340",
   "metadata": {},
   "outputs": [],
   "source": [
    "df.shape, df2.shape"
   ]
  },
  {
   "cell_type": "code",
   "execution_count": null,
   "id": "a26e056f",
   "metadata": {},
   "outputs": [],
   "source": [
    "df2"
   ]
  },
  {
   "cell_type": "code",
   "execution_count": null,
   "id": "57b677d5",
   "metadata": {},
   "outputs": [],
   "source": [
    "data_gcs = f'gs://redistricting_data/'\n",
    "f = data_gcs + G.crosswalks.pq.name\n",
    "f\n",
    "bqclient.extract_table(G.crosswalks.tbl, data_gcs + G.crosswalks.pq.name).result()"
   ]
  },
  {
   "cell_type": "code",
   "execution_count": null,
   "id": "89e8a88e",
   "metadata": {},
   "outputs": [],
   "source": [
    "bqclient.extract_table?"
   ]
  },
  {
   "cell_type": "code",
   "execution_count": null,
   "id": "8465f9bf",
   "metadata": {},
   "outputs": [],
   "source": [
    "f = root_loc / 'crosswalks_TX_2010.parquet'\n",
    "f\n",
    "df = pd.read_parquet(f)"
   ]
  },
  {
   "cell_type": "code",
   "execution_count": null,
   "id": "2fd7fd68",
   "metadata": {},
   "outputs": [],
   "source": [
    "df"
   ]
  },
  {
   "cell_type": "code",
   "execution_count": null,
   "id": "fd7d59c5",
   "metadata": {},
   "outputs": [],
   "source": [
    "'gs://'+b.name"
   ]
  },
  {
   "cell_type": "code",
   "execution_count": null,
   "id": "10867472",
   "metadata": {},
   "outputs": [],
   "source": [
    "b = gcsclient.get_bucket(f'math_for_unbiased_maps_tx')\n",
    "df = pd.DataFrame()\n",
    "# df.to_parquet(b.blob('test'))\n",
    "\n",
    "t = b.blob('test/test2')\n",
    "# df.to_parquet(t)\n",
    "# t.path\n",
    "# g://t.name\n",
    "dir(t)\n",
    "# t._get_download_url(gcsclient)\n",
    "\n",
    "# t.__name__\n",
    "# t.path_helper?"
   ]
  },
  {
   "cell_type": "code",
   "execution_count": null,
   "id": "88c0c1ba",
   "metadata": {},
   "outputs": [],
   "source": [
    "b = gcsclient.get_bucket(f'math_for_unbiased_maps_tx')\n",
    "c = b.blob('test')\n",
    "c.upload_from_filenameid(root_loc / 'git.ipynb')"
   ]
  },
  {
   "cell_type": "code",
   "execution_count": null,
   "id": "b0cd5b91",
   "metadata": {},
   "outputs": [],
   "source": [
    "proj_id = 'cmat-315920'\n",
    "root_gcs = gcsclient.get_bucket(f'{proj_id}-bucket')\n",
    "# root_gcs.get_blob\n",
    "\n",
    "b = root_gcs.blob('redistricting_data/hi2.txt')#.upload_from_string('hello world')\n",
    "\n",
    "\n",
    "b.blob('sub')\n",
    "# gcsclient.create_bucket?\n",
    "\n",
    "\n",
    "# get_bucket(f'{proj_id}-bucket')\n",
    "# data_gcs = root_gcs.get_blob('redistricting_data/hi.txt')\n",
    "# data_gcs.upload_from_string('hello world')"
   ]
  },
  {
   "cell_type": "code",
   "execution_count": null,
   "id": "373f430d",
   "metadata": {},
   "outputs": [],
   "source": [
    "import google.cloud, pandas as pd\n",
    "cred, proj = google.auth.default(scopes=[\"https://www.googleapis.com/auth/cloud-platform\"])\n",
    "\n",
    "proj_id = 'cmat-315920'\n",
    "user_name = 'cook'\n",
    "timestamp = str(pd.Timestamp.now().round(\"s\")).replace(' ','_').replace('-','_').replace(':','_')\n",
    "\n",
    "bqclient   = google.cloud.bigquery.Client(credentials=cred, project=proj)\n",
    "bqdata     = bqclient.get_dataset(f'redistricting_data')\n",
    "bqresults  = bqclient.get_dataset(f'redistricting_results_{user_name}')\n",
    "\n",
    "L = [x for x in bqclient.list_tables(bqdata)]\n",
    "dir(L[0])\n",
    "t = L[0]\n",
    "t.table_id\n",
    "bqdata.\n",
    "\n",
    "\n",
    "# gcsclient  = google.cloud.storage.Client(credentials=cred, project=proj)\n",
    "# gcsresults = gcsclient.get_bucket(f'redistricting_results')\n",
    "\n",
    "# gcsclient.create_bucket('redistricting_results')"
   ]
  },
  {
   "cell_type": "code",
   "execution_count": null,
   "id": "20bcae4e",
   "metadata": {},
   "outputs": [],
   "source": [
    "# bqproj = \n",
    "list(bqclient.list_datasets())\n",
    "bqclient.project"
   ]
  },
  {
   "cell_type": "code",
   "execution_count": null,
   "id": "4afd4d83",
   "metadata": {},
   "outputs": [],
   "source": [
    "bqclient   = bigquery.Client(credentials=cred, project=proj)"
   ]
  },
  {
   "cell_type": "code",
   "execution_count": null,
   "id": "bcceb276",
   "metadata": {},
   "outputs": [],
   "source": [
    "gcsclient = google.cloud.storage.Client(project=proj_id)\n",
    "list(gcsclient.list_buckets())\n",
    "gcsbucket = gcsclient.get_bucket(f'{proj_id}-bucket')\n",
    "folder = gcsbucket.blob('test')\n",
    "gcsbucket.exists()\n",
    "folder.exists()\n",
    "gcsbucket.blob?"
   ]
  },
  {
   "cell_type": "code",
   "execution_count": null,
   "id": "9d2b9033",
   "metadata": {},
   "outputs": [],
   "source": [
    "gcsbucket = gcsclient.get_bucket(f'{proj_id}-bucket')\n",
    "list(gcsbucket.list_blobs())"
   ]
  },
  {
   "cell_type": "code",
   "execution_count": null,
   "id": "379c554f",
   "metadata": {},
   "outputs": [],
   "source": [
    "root_gcs = gcsclient.get_bucket(f'{proj_id}-bucket')\n",
    "data_gcs = root_gcs.get_blob('redistricting_data')\n"
   ]
  },
  {
   "cell_type": "code",
   "execution_count": null,
   "id": "04789de1",
   "metadata": {},
   "outputs": [],
   "source": [
    "class Results(Base):\n",
    "    \n",
    "    \n",
    "\n",
    "\n",
    "\n",
    "timestamp = str(pd.Timestamp.now().round(\"s\")).replace(' ','_').replace('-','_').replace(':','_')\n",
    "\n",
    "bq_results\n",
    "gcs_results\n",
    "\n",
    "\n",
    "results_stem = f'{G.gpickle.stem[6:]}/{timestamp}'\n",
    "\n",
    "results_loc = root_path / f'results/{results_stem}'\n",
    "results_gcs = f'gc://{proj_id}-bucket/results/{results_stem}'\n",
    "results_bq  = f'{proj_id}.{results_stem}'\n",
    "\n",
    "results_loc.mkdir(parents=True, exist_ok=True)\n",
    "\n",
    "gcsclient = storage.Client(project=proj_id)\n",
    "\n",
    "gcsbucket = gcsclient.get_bucket('buckets')\n",
    "blob = bucket.blob('some/folder/name/')\n",
    "bqclient.create_dataset(results_bq, exists_ok=True)\n",
    "results_gcs"
   ]
  },
  {
   "cell_type": "code",
   "execution_count": null,
   "id": "b34993cd",
   "metadata": {},
   "outputs": [],
   "source": [
    "bqclient.create_dataset?"
   ]
  },
  {
   "cell_type": "code",
   "execution_count": null,
   "id": "a06b428e",
   "metadata": {},
   "outputs": [],
   "source": [
    "root_path"
   ]
  },
  {
   "cell_type": "code",
   "execution_count": null,
   "id": "227eda7f",
   "metadata": {},
   "outputs": [],
   "source": [
    "from src import *"
   ]
  },
  {
   "cell_type": "code",
   "execution_count": null,
   "id": "9af5e2b1",
   "metadata": {},
   "outputs": [],
   "source": [
    "bqclient.create_dataset?"
   ]
  },
  {
   "cell_type": "code",
   "execution_count": null,
   "id": "b7a5d7b3",
   "metadata": {},
   "outputs": [],
   "source": []
  },
  {
   "cell_type": "code",
   "execution_count": null,
   "id": "f2cea2e2",
   "metadata": {},
   "outputs": [],
   "source": [
    "%autoreload\n",
    "from src import *\n",
    "\n",
    "nodes_tbl = f'{proj_id}.redistricting_data.nodes_TX_2020_cntyvtd_cd'\n",
    "mcmc_tbl  = f'{proj_id}.redistricting_results_cook.TX_2020_cntyvtd_cd_seed_0000'\n",
    "seeds = np.arange(16)\n",
    "A = Analysis(nodes=nodes_tbl, mcmc=mcmc_tbl, seeds=seeds)\n",
    "A.tbl = f'{proj_id}.redistricting_results_cook.TX_2020_cntyvtd_cd_2021_09_05_01_50_26'\n",
    "A.fetch_results()\n",
    "A.save_results()\n",
    "# A.file"
   ]
  },
  {
   "cell_type": "code",
   "execution_count": null,
   "id": "b5f1a0ca",
   "metadata": {},
   "outputs": [],
   "source": [
    "dir(A)\n",
    "'_'.join(G.gpickle.stem.split('_')[1:])"
   ]
  },
  {
   "cell_type": "code",
   "execution_count": null,
   "id": "5ce7a98e",
   "metadata": {},
   "outputs": [],
   "source": [
    "A.tbl.split('.')[-1]"
   ]
  },
  {
   "cell_type": "code",
   "execution_count": null,
   "id": "95666fce",
   "metadata": {},
   "outputs": [],
   "source": []
  },
  {
   "cell_type": "code",
   "execution_count": null,
   "id": "a9a06369",
   "metadata": {},
   "outputs": [],
   "source": [
    "A.results.to_parquet(f\"gs://{proj_id}-bucket/{A.tbl.split('.')[-1]}\")"
   ]
  },
  {
   "cell_type": "code",
   "execution_count": null,
   "id": "90a9eb6d",
   "metadata": {},
   "outputs": [],
   "source": [
    "A.results.shape"
   ]
  },
  {
   "cell_type": "code",
   "execution_count": null,
   "id": "bcb7dfda",
   "metadata": {},
   "outputs": [],
   "source": [
    "self=A\n",
    "A.tbl\n",
    "root_path / f'results/{self.tbl.split(\".\")[-1]}.parquet'"
   ]
  },
  {
   "cell_type": "code",
   "execution_count": null,
   "id": "5576726a",
   "metadata": {},
   "outputs": [],
   "source": [
    "%autoreload\n",
    "from src import *\n",
    "\n",
    "idx = ['seed', 'plan', 'cd']\n",
    "for col in idx:\n",
    "    df[col] = rjust(df[col])\n",
    "df.sort_values(idx, inplace=True)\n",
    "file = pathlib.Path('/home/jupyter/results/TX_2020_cntyvtd_cd_2021_09_05_01_50_26')\n",
    "file.mkdir(parents=True, exist_ok=True)\n",
    "df.to_parquet(file, index=False, partition_cols='seed')"
   ]
  },
  {
   "cell_type": "code",
   "execution_count": null,
   "id": "f60064e6",
   "metadata": {},
   "outputs": [],
   "source": [
    "df.head(10)"
   ]
  },
  {
   "cell_type": "code",
   "execution_count": null,
   "id": "4c120c15",
   "metadata": {},
   "outputs": [],
   "source": [
    "district_type = 'cd'\n",
    "\n",
    "tbl = f'cmat-315920.redistricting_results_cook.TX_2020_cntyvtd_cd_seed'\n",
    "s = \"\\nunion all\\n\"\n",
    "seeds = [s for s in range (100, 116) if s not in [104, 110]]\n",
    "summary_stack = s.join([f'select * from {tbl}_{str(seed).rjust(4, \"0\")}_summary' for seed in seeds])\n",
    "stats_stack   = s.join([f'select * from {tbl}_{str(seed).rjust(4, \"0\")}_stats'   for seed in seeds])\n",
    "plans_stack   = s.join([f'select * from {tbl}_{str(seed).rjust(4, \"0\")}_plans'   for seed in seeds])\n",
    "\n",
    "query = f\"\"\"\n",
    "select\n",
    "    B.seed,\n",
    "    B.plan,\n",
    "    C.{district_type},\n",
    "    B.pop_imbalance,\n",
    "    B.polsby_popper as polsby_popper_plan,\n",
    "    C.polsby_popper as polsby_popper_district,\n",
    "    C.total_pop\n",
    "from (\n",
    "    select\n",
    "        *\n",
    "    from (\n",
    "        select\n",
    "            *,\n",
    "            row_number() over (partition by A.hash order by plan asc, seed asc) as r\n",
    "        from (\n",
    "            {summary_stack}\n",
    "            ) as A\n",
    "        )\n",
    "    where r = 1\n",
    "    ) as B\n",
    "join (\n",
    "    select\n",
    "        *\n",
    "    from (\n",
    "        {stats_stack}\n",
    "        )\n",
    "    ) as C\n",
    "on\n",
    "    B.seed = C.seed and B.plan = C.plan\n",
    "\"\"\"\n",
    "df = run_query(query)\n",
    "# \n",
    "df#['hash'].value_counts().sort_values(ascending=False)"
   ]
  },
  {
   "cell_type": "code",
   "execution_count": null,
   "id": "6a2b97cd",
   "metadata": {},
   "outputs": [],
   "source": [
    "district_type = 'cd'\n",
    "\n",
    "nodes = f'cmat-315920.redistricting_data.nodes_TX_2020_cntyvtd_cd'\n",
    "tbl = f'cmat-315920.redistricting_results_cook.TX_2020_cntyvtd_cd_seed'\n",
    "s = \"\\nunion all\\n\"\n",
    "seeds = [s for s in range (100, 116) if s not in [104, 110]]\n",
    "summary_stack = s.join([f'select * from {tbl}_{str(seed).rjust(4, \"0\")}_summary' for seed in seeds])\n",
    "stats_stack   = s.join([f'select * from {tbl}_{str(seed).rjust(4, \"0\")}_stats'   for seed in seeds])\n",
    "plans_stack   = s.join([f'select * from {tbl}_{str(seed).rjust(4, \"0\")}_plans'   for seed in seeds])\n",
    "\n",
    "query = f\"\"\"\n",
    "select\n",
    "    E.seed,\n",
    "    E.plan,\n",
    "    E.{district_type},\n",
    "    max(E.pop_imbalance) as pop_imbalance,\n",
    "    max(E.polsby_popper_plan) as polsby_popper_plan,\n",
    "    max(E.polsby_popper_district) as polsby_popper_district,\n",
    "    max(E.total_pop) as total_pop,\n",
    "    sum(F.total_1race)\n",
    "from (\n",
    "    select\n",
    "        B.seed,\n",
    "        B.plan,\n",
    "        C.{district_type},\n",
    "        B.pop_imbalance,\n",
    "        B.polsby_popper as polsby_popper_plan,\n",
    "        C.polsby_popper as polsby_popper_district,\n",
    "        C.total_pop,\n",
    "        D.geoid\n",
    "    from (\n",
    "        select\n",
    "            *\n",
    "        from (\n",
    "            select\n",
    "                *,\n",
    "                row_number() over (partition by A.hash order by plan asc, seed asc) as r\n",
    "            from (\n",
    "                {summary_stack}\n",
    "                ) as A\n",
    "            )\n",
    "        where r = 1\n",
    "        ) as B\n",
    "    inner join (\n",
    "        {stats_stack}\n",
    "        ) as C\n",
    "    on\n",
    "        B.seed = C.seed and B.plan = C.plan\n",
    "    inner join (\n",
    "        select\n",
    "            *\n",
    "        from (\n",
    "            {plans_stack}\n",
    "            )\n",
    "        ) as D\n",
    "    on\n",
    "        C.seed = D.seed and C.plan = D.plan and C.{district_type} = D.{district_type}\n",
    "    ) as E\n",
    "inner join\n",
    "    {nodes} as F\n",
    "on\n",
    "    E.geoid = F.geoid\n",
    "group by\n",
    "    seed, plan, {district_type}\n",
    "\"\"\"\n",
    "df = run_query(query)\n",
    "# \n",
    "df#['hash'].value_counts().sort_values(ascending=False)"
   ]
  },
  {
   "cell_type": "code",
   "execution_count": null,
   "id": "b9929c40",
   "metadata": {},
   "outputs": [],
   "source": [
    "district_type = 'cd'\n",
    "\n",
    "G.nodes_tbl = f'cmat-315920.redistricting_data.nodes_TX_2020_cntyvtd_cd'\n",
    "M.tbl = f'cmat-315920.redistricting_results_cook.TX_2020_cntyvtd_cd_seed'\n",
    "\n",
    "s = \"\\nunion all\\n\"\n",
    "seeds = [s for s in range (100, 116) if s not in [104, 110]]\n",
    "summary_stack = s.join([f'select * from {tbl}_{str(seed).rjust(4, \"0\")}_summary' for seed in seeds])\n",
    "stats_stack   = s.join([f'select * from {tbl}_{str(seed).rjust(4, \"0\")}_stats'   for seed in seeds])\n",
    "plans_stack   = s.join([f'select * from {tbl}_{str(seed).rjust(4, \"0\")}_plans'   for seed in seeds])\n",
    "\n",
    "cols = [c for c in get_cols(self.nodes) if c not in Levels + District_types + ['geoid', 'county', 'total_pop', 'polygon', 'perim', 'polsby_popper', 'density', 'point']]\n",
    "\n",
    "query = f\"\"\"\n",
    "select\n",
    "    B.seed,\n",
    "    B.plan,\n",
    "    C.{district_type},\n",
    "    max(B.pop_imbalance) as pop_imbalance_plan,\n",
    "    max(B.polsby_popper) as polsby_popper_plan,\n",
    "    max(C.polsby_popper) as polsby_popper_district,\n",
    "    max(C.total_pop) as total_pop,\n",
    "    max(C.total_pop) / sum(E.aland) as density,\n",
    "    {join_str(1).join([f'sum(E.{c}) as {c}' for c in cols])}\n",
    "from (\n",
    "    select\n",
    "        *\n",
    "    from (\n",
    "        select\n",
    "            *,\n",
    "            row_number() over (partition by A.hash order by plan asc, seed asc) as r\n",
    "        from (\n",
    "            {summary_stack}\n",
    "            ) as A\n",
    "        )\n",
    "    where r = 1\n",
    "    ) as B\n",
    "inner join (\n",
    "    {stats_stack}\n",
    "    ) as C\n",
    "on\n",
    "    B.seed = C.seed and B.plan = C.plan\n",
    "inner join (\n",
    "    select\n",
    "        *\n",
    "    from (\n",
    "        {plans_stack}\n",
    "        )\n",
    "    ) as D\n",
    "on\n",
    "    C.seed = D.seed and C.plan = D.plan and C.{district_type} = D.{district_type}\n",
    "inner join\n",
    "    {nodes} as E\n",
    "on\n",
    "    D.geoid = E.geoid\n",
    "group by\n",
    "    seed, plan, {district_type}\n",
    "\"\"\"\n",
    "df = run_query(query)\n",
    "# \n",
    "df#['hash'].value_counts().sort_values(ascending=False)"
   ]
  },
  {
   "cell_type": "code",
   "execution_count": null,
   "id": "da48241e",
   "metadata": {},
   "outputs": [],
   "source": [
    "file = '/home/jupyter/results/TX_2020_cntyvtd_cd_2021_09_05_01_50_26'\n",
    "df = pd.read_csv(file+'.csv')"
   ]
  },
  {
   "cell_type": "code",
   "execution_count": null,
   "id": "2b7bd9d4",
   "metadata": {},
   "outputs": [],
   "source": [
    "file = pathlib.Path('/home/jupyter/results/TX_2020_cntyvtd_cd_2021_09_05_01_50_26')\n",
    "pq = file /'.parquet'\n",
    "pq.mkdir(parents=True, exist_ok=True)\n",
    "df.to_parquet(pq, index=False, partition_cols='seed')"
   ]
  },
  {
   "cell_type": "code",
   "execution_count": null,
   "id": "b4bde854",
   "metadata": {},
   "outputs": [],
   "source": [
    "query = f\"\"\"\n",
    "    select\n",
    "        *\n",
    "    from (\n",
    "        {stats_stack}\n",
    "        )\n",
    "\"\"\"\n",
    "run_query(query)"
   ]
  },
  {
   "cell_type": "code",
   "execution_count": null,
   "id": "57e78515",
   "metadata": {},
   "outputs": [],
   "source": [
    "df"
   ]
  },
  {
   "cell_type": "code",
   "execution_count": null,
   "id": "6ee680e6",
   "metadata": {},
   "outputs": [],
   "source": [
    "tbl = f'cmat-315920.redistricting_results_cook.TX_2020_cntyvtd_cd_seed'\n",
    "sels = [f'select * from {tbl}_{str(seed).rjust(4, \"0\")}_summary' for seed in range (100, 116) if seed != 110]\n",
    "query = \"\\nunion all\\n\".join(sels)\n",
    "query = f\"\"\"\n",
    "    select\n",
    "        A.hash,\n",
    "        max(seed),\n",
    "        max(plan),\n",
    "        count(*) as count\n",
    "    from (\n",
    "        {query}\n",
    "        ) as A\n",
    "    group by\n",
    "        A.hash\n",
    "\"\"\"\n",
    "df = run_query(query)\n",
    "# \n",
    "df['hash'].value_counts().sort_values(ascending=False)"
   ]
  },
  {
   "cell_type": "code",
   "execution_count": null,
   "id": "fce5d6c6",
   "metadata": {},
   "outputs": [],
   "source": [
    "df.dtypes"
   ]
  },
  {
   "cell_type": "code",
   "execution_count": null,
   "id": "8bb0938e",
   "metadata": {},
   "outputs": [],
   "source": [
    "# df['seed'].unique()\n",
    "\n"
   ]
  },
  {
   "cell_type": "code",
   "execution_count": null,
   "id": "7fbeb6ed",
   "metadata": {},
   "outputs": [],
   "source": []
  }
 ],
 "metadata": {
  "kernelspec": {
   "display_name": "Python 3 (ipykernel)",
   "language": "python",
   "name": "python3"
  },
  "language_info": {
   "codemirror_mode": {
    "name": "ipython",
    "version": 3
   },
   "file_extension": ".py",
   "mimetype": "text/x-python",
   "name": "python",
   "nbconvert_exporter": "python",
   "pygments_lexer": "ipython3",
   "version": "3.7.10"
  }
 },
 "nbformat": 4,
 "nbformat_minor": 5
}
