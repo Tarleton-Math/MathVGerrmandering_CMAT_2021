{
 "cells": [
  {
   "cell_type": "code",
   "execution_count": null,
   "id": "cfbed9dd-816a-4183-abfa-d16ba7a9e2c6",
   "metadata": {},
   "outputs": [],
   "source": [
    "%load_ext autoreload\n",
    "%autoreload\n",
    "%cd /home/jupyter/MathVGerrmandering_CMAT_2021/\n",
    "from src import *\n",
    "from src.data import *\n",
    "from src.space import *\n",
    "from src.mcmc import *\n",
    "\n",
    "# https://dvr.capitol.texas.gov/\n",
    "level    = 'cntyvtd'\n",
    "proposal = 'plans2100'  # for 2010 enacted, use 'planc2100' for US congress, 'plans2100' for TX Senate, or 'planh2100' for TX House\n",
    "contract = 0\n",
    "# contract = 'proposal'\n",
    "\n",
    "# D = Data()\n",
    "S = Space(level=level, proposal=proposal, contract=contract)\n",
    "M = MCMC(gpickle=S.gpickle, nodes=S.tbls['nodes'],\n",
    "         max_steps   = 5,\n",
    "         random_seed = 0,\n",
    "         defect_cap  = 1000000,\n",
    "         pop_deviation_target=200)\n",
    "M.run_chain()\n",
    "# M.post_process()"
   ]
  },
  {
   "cell_type": "code",
   "execution_count": null,
   "id": "e2349b5c-9f30-4b5d-8d36-164fb7d26f4d",
   "metadata": {},
   "outputs": [],
   "source": [
    "try:\n",
    "    import pandas_bokeh\n",
    "except:\n",
    "    os.system('pip install --upgrade pandas-bokeh')\n",
    "    import pandas_bokeh\n",
    "pandas_bokeh.output_notebook()\n",
    "\n",
    "plan_cols = ['geoid', 'plan', 'district']\n",
    "query = f\"select {', '.join(plan_cols)} from {M.output}\"\n",
    "plans = run_query(query).pivot(index='geoid', columns='plan', values='district')\n",
    "\n",
    "node_cols = ['geoid', 'polygon', 'county', 'total_pop', 'aland', 'density', 'polsby_popper']\n",
    "query = f\"select {', '.join(node_cols)} from {M.nodes}\"\n",
    "nodes = run_query(query).set_index('geoid')"
   ]
  },
  {
   "cell_type": "code",
   "execution_count": null,
   "id": "c71c232a-5070-437d-8abd-d123dd1d3a56",
   "metadata": {},
   "outputs": [],
   "source": [
    "repl = {c:str(c) for c in plans.columns}\n",
    "plans.rename(columns=repl, inplace=True)\n",
    "\n",
    "geo = gpd.GeoSeries.from_wkt(nodes['polygon'], crs=crs_census).simplify(0.003).buffer(0) #<-- little white space @ .001 ~5.7 mb, minimal at .0001 ~10mb, with no white space ~37mb\n",
    "gdf = nodes.drop(columns='polygon').join(plans, how='inner')\n",
    "gdf = gpd.GeoDataFrame(gdf, geometry=geo).reset_index()\n",
    "gdf.head(3)"
   ]
  },
  {
   "cell_type": "code",
   "execution_count": null,
   "id": "60739d4a-8f48-4dbe-b4d6-52e345fb6e4d",
   "metadata": {},
   "outputs": [],
   "source": [
    "width = 600\n",
    "xlim = [-106.2, -94.0]\n",
    "ylim = [ 25.4 ,  36.6]\n",
    "aspect = (ylim[1] - ylim[0]) / (xlim[1] - xlim[0])\n",
    "height = round(aspect * width)\n",
    "fn = str(S.gpickle)\n",
    "fn = fn[:fn.rfind('_')] + '_animation.html'\n",
    "print(f'saving animation to {fn}')\n",
    "\n",
    "fig = gdf.plot_bokeh(\n",
    "    colormap = \"Category20\",\n",
    "    hovertool_string = '@geoid, @county<br>pop=@total_pop<br>density=@density{0.0}<br>land=@aland{0.0}<br>pp=@polsby_popper{0.0}',\n",
    "    fill_alpha = 0.5,\n",
    "    line_alpha = 0.05,\n",
    "    return_html = True,\n",
    "    show_figure = True,\n",
    "    slider = list(repl.values()),\n",
    "    slider_name = \"PLAN\",\n",
    "    show_colorbar = False,\n",
    "    xlim = xlim,\n",
    "    ylim = ylim,\n",
    "    figsize = (width, height),\n",
    ")\n",
    "\n",
    "with open(fn, 'w') as file:\n",
    "    file.write(fig)"
   ]
  },
  {
   "cell_type": "code",
   "execution_count": null,
   "id": "ab210c1b-7db8-4c78-8f3f-6d982949389c",
   "metadata": {},
   "outputs": [],
   "source": []
  }
 ],
 "metadata": {
  "kernelspec": {
   "display_name": "Python 3 (ipykernel)",
   "language": "python",
   "name": "python3"
  },
  "language_info": {
   "codemirror_mode": {
    "name": "ipython",
    "version": 3
   },
   "file_extension": ".py",
   "mimetype": "text/x-python",
   "name": "python",
   "nbconvert_exporter": "python",
   "pygments_lexer": "ipython3",
   "version": "3.7.10"
  }
 },
 "nbformat": 4,
 "nbformat_minor": 5
}
