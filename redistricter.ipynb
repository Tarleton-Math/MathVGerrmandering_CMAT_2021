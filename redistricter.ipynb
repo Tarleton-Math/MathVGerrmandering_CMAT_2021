{
 "cells": [
  {
   "cell_type": "code",
   "execution_count": null,
   "id": "cfbed9dd-816a-4183-abfa-d16ba7a9e2c6",
   "metadata": {},
   "outputs": [
    {
     "name": "stdout",
     "output_type": "stream",
     "text": [
      "The autoreload extension is already loaded. To reload it, use:\n",
      "  %reload_ext autoreload\n",
      "/home/jupyter/MathVGerrmandering_CMAT_2021\n",
      "Get proposal    ... using existing table ... success!\n",
      "Get nodes       ... processing ... using existing data table ... creating districts table ... "
     ]
    }
   ],
   "source": [
    "%load_ext autoreload\n",
    "%autoreload\n",
    "%cd /home/jupyter/MathVGerrmandering_CMAT_2021/\n",
    "from src import *\n",
    "from src.data import *\n",
    "from src.space import *\n",
    "from src.mcmc import *\n",
    "\n",
    "# https://dvr.capitol.texas.gov/\n",
    "level    = 'cntyvtd'\n",
    "proposal = 'planc2122'  # for 2010 enacted, use 'planc2100' for US congress, 'plans2100' for TX Senate, or 'planh2100' for TX House\n",
    "contract = 0\n",
    "\n",
    "# D = Data()\n",
    "S = Space(level=level, proposal=proposal, contract=contract)\n",
    "M = MCMC(gpickle=S.gpickle, nodes=S.tbls['nodes'],\n",
    "         max_steps   = 3,\n",
    "         random_seed = 0,\n",
    "         defect_cap  = 1000000,\n",
    "         pop_deviation_target=10)\n",
    "M.run_chain()\n",
    "# M.post_process()"
   ]
  },
  {
   "cell_type": "code",
   "execution_count": null,
   "id": "2c336cbd-1831-44ea-bbbb-ac3931ce88a0",
   "metadata": {},
   "outputs": [],
   "source": []
  },
  {
   "cell_type": "code",
   "execution_count": null,
   "id": "0b162e1b-0cb7-4443-8630-28caceac7d18",
   "metadata": {},
   "outputs": [],
   "source": [
    "try:\n",
    "    import pandas_bokeh\n",
    "except:\n",
    "    os.system('pip install --upgrade pandas-bokeh')\n",
    "    import pandas_bokeh\n",
    "pandas_bokeh.output_notebook()\n",
    "\n",
    "plan_cols = ['geoid', 'plan', 'district']\n",
    "query = f\"select {', '.join(plan_cols)} from {M.output} where plan < 2\"\n",
    "plans = run_query(query).pivot(index='geoid', columns='plan', values='district')\n",
    "\n",
    "node_cols = ['geoid', 'polygon', 'county', 'total_pop', 'aland', 'density', 'polsby_popper']\n",
    "query = f\"select {', '.join(node_cols)} from {M.nodes}\"\n",
    "nodes = run_query(query).set_index('geoid')"
   ]
  },
  {
   "cell_type": "code",
   "execution_count": null,
   "id": "c71c232a-5070-437d-8abd-d123dd1d3a56",
   "metadata": {},
   "outputs": [],
   "source": [
    "repl = {c:str(c) for c in plans.columns}\n",
    "plans.rename(columns=repl, inplace=True)\n",
    "\n",
    "geo = gpd.GeoSeries.from_wkt(nodes['polygon'], crs=crs_census).simplify(0.001).buffer(0) #<-- little white space @ .001 ~5.7 mb, minimal at .0001 ~10mb, with no white space ~37mb\n",
    "gdf = nodes.drop(columns='polygon').join(plans, how='inner')\n",
    "gdf = gpd.GeoDataFrame(gdf, geometry=geo).reset_index()\n",
    "gdf.head(3)"
   ]
  },
  {
   "cell_type": "code",
   "execution_count": null,
   "id": "60739d4a-8f48-4dbe-b4d6-52e345fb6e4d",
   "metadata": {},
   "outputs": [],
   "source": [
    "width = 600\n",
    "xlim = [-106.2, -94.0]\n",
    "ylim = [ 25.4 ,  36.6]\n",
    "aspect = (ylim[1] - ylim[0]) / (xlim[1] - xlim[0])\n",
    "height = round(aspect * width)\n",
    "\n",
    "fig = gdf.plot_bokeh(\n",
    "    colormap = \"Category20\",\n",
    "    hovertool_string = '@geoid, @county<br>pop=@total_pop<br>density=@density{0.0}<br>land=@aland{0.0}<br>pp=@polsby_popper{0.0}',\n",
    "    fill_alpha = 0.5,\n",
    "    line_alpha = 0.05,\n",
    "    return_html = True,\n",
    "    show_figure = True,\n",
    "    slider = list(repl.values()),\n",
    "    slider_name = \"PLAN\",\n",
    "    show_colorbar = False,\n",
    "    xlim = xlim,\n",
    "    ylim = ylim,\n",
    "    figsize = (width, height),\n",
    ")\n",
    "# fig"
   ]
  },
  {
   "cell_type": "code",
   "execution_count": null,
   "id": "af3da888-411c-447e-b2a7-4579bc64eb17",
   "metadata": {},
   "outputs": [],
   "source": [
    "%load_ext autoreload\n",
    "%autoreload\n",
    "%cd /home/jupyter/MathVGerrmandering_CMAT_2021/\n",
    "from src import *\n",
    "from src.data import *\n",
    "from src.space import *\n",
    "from src.mcmc import *\n",
    "\n",
    "# D = Data()\n",
    "#             refresh_all=('crosswalks', 'assignments', 'shapes', 'census', 'elections', 'all')\n",
    "#             refresh_all=('census', 'all')\n",
    "#             refresh_tbl=('all'))\n",
    "#             refresh_tbl=('crosswalks')\n",
    "#            )\n",
    "\n",
    "S = Space(level='cntyvtd', proposal='planc2100',\n",
    "#               refresh_all=('graph'))\n",
    "#               refresh_all=('nodes', 'graph'),)\n",
    "             )\n",
    "# # print(self.proposal, self.district_type)\n",
    "M = MCMC(gpickle=S.gpickle, nodes=S.tbls['nodes'], max_steps=0, random_seed=0, defect_cap=1000000, pop_deviation_target=200)\n",
    "M.run_chain()\n",
    "M.post_process()\n",
    "# for district_type, proposals in D.proposals_dict.items():\n",
    "#     for proposal in proposals:\n",
    "#         print(f'\\n\\n{district_type} {proposal}')\n",
    "#         self = Space(level='cntyvtd',\n",
    "# #                     district_type=district_type,\n",
    "#                     proposal=proposal,\n",
    "# #                     refresh_tbl = ('nodes', 'graphs')\n",
    "#                    )\n",
    "#         assert 1==2"
   ]
  }
 ],
 "metadata": {
  "kernelspec": {
   "display_name": "Python 3 (ipykernel)",
   "language": "python",
   "name": "python3"
  },
  "language_info": {
   "codemirror_mode": {
    "name": "ipython",
    "version": 3
   },
   "file_extension": ".py",
   "mimetype": "text/x-python",
   "name": "python",
   "nbconvert_exporter": "python",
   "pygments_lexer": "ipython3",
   "version": "3.7.10"
  }
 },
 "nbformat": 4,
 "nbformat_minor": 5
}
