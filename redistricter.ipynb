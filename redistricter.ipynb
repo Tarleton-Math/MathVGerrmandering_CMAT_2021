{
 "cells": [
  {
   "cell_type": "code",
   "execution_count": 25,
   "id": "a7a57f9e",
   "metadata": {},
   "outputs": [
    {
     "name": "stdout",
     "output_type": "stream",
     "text": [
      "The autoreload extension is already loaded. To reload it, use:\n",
      "  %reload_ext autoreload\n",
      "/home/jupyter/MathVGerrmandering_CMAT_2021\n",
      "Get crosswalks_TX_2010_tabblock   ... tabblock table exists ... success\n",
      "Get assignments_TX_2020_tabblock  ... tabblock table exists ... success\n",
      "Get shapes_TX_2020_tabblock       ... tabblock table exists ... success\n",
      "Get census_TX_2020_tabblock       ... tabblock table exists ... success\n",
      "Get elections_TX_2020_tabblock    ... getting zip from https://data.capitol.texas.gov/dataset/aab5e1e5-d585-4542-9ae8-1108f45fce5b/resource/253f5191-73f3-493a-9be3-9e8ba65053a2/download/2020-general-vtd-election-data.zip ... finished ... processing ... creating raw table ... "
     ]
    },
    {
     "data": {
      "text/plain": [
       "array(['101stDistrictJudge', '105thDistrictJudge', '10thDistrictJudge',\n",
       "       '113thDistrictJudge', '114thDistrictJudge', '11thDistrictJudge',\n",
       "       '125thDistrictJudge', '127thDistrictJudge', '129thDistrictJudge',\n",
       "       '131stDistrictJudge', '133rdDistrictJudge', '136thDistrictJudge',\n",
       "       '138thDistrictJudge', '140thDistrictJudge', '144thDistrictJudge',\n",
       "       '146thDistrictJudge', '148thDistrictJudge', '14thDistrictJudge',\n",
       "       '150thDistrictJudge', '151stDistrictJudge', '152ndDistrictJudge',\n",
       "       '153rdDistrictJudge', '157thDistrictJudge', '160thDistrictJudge',\n",
       "       '162ndDistrictJudge', '164thDistrictJudge', '165thDistrictJudge',\n",
       "       '166thDistrictJudge', '167thDistrictJudge', '168thDistrictJudge',\n",
       "       '172ndDistrictJudge', '174thDistrictJudge', '175thDistrictJudge',\n",
       "       '176thDistrictJudge', '177thDistrictJudge', '178thDistrictJudge',\n",
       "       '179thDistrictJudge', '180thDistrictJudge', '182ndDistrictJudge',\n",
       "       '183rdDistrictJudge', '184thDistrictJudge', '185thDistrictJudge',\n",
       "       '186thDistrictJudge', '187thDistrictJudge', '189thDistrictJudge',\n",
       "       '190thDistrictJudge', '193rdDistrictJudge', '195thDistrictJudge',\n",
       "       '197thDistrictJudge', '19thDistrictJudge', '200thDistrictJudge',\n",
       "       '204thDistrictJudge', '205thDistrictJudge', '208thDistrictJudge',\n",
       "       '209thDistrictJudge', '210thDistrictJudge', '212thDistrictJudge',\n",
       "       '213thDistrictJudge', '214thDistrictJudge', '215thDistrictJudge',\n",
       "       '219thDistrictJudge', '224thDistrictJudge', '226thDistrictJudge',\n",
       "       '227thDistrictJudge', '228thDistrictJudge', '230thDistrictJudge',\n",
       "       '231stDistrictJudge', '232thDistrictJudge', '233rdDistrictJudge',\n",
       "       '234thDistrictJudge', '240thDistrictJudge', '243rdDistrictJudge',\n",
       "       '245thDistrictJudge', '246thDistrictJudge', '247thDistrictJudge',\n",
       "       '248thDistrictJudge', '252ndDistrictJudge', '254thDistrictJudge',\n",
       "       '255thDistrictJudge', '257thDistrictJudge', '262ndDistrictJudge',\n",
       "       '263rdDistrictJudge', '264thDistrictJudge', '265thDistrictJudge',\n",
       "       '268thDistrictJudge', '269thDistrictJudge', '26thDistrictJudge',\n",
       "       '270thDistrictJudge', '272ndDistrictJudge', '275thDistrictJudge',\n",
       "       '277thDistrictJudge', '27thDistrictJudge', '280thDistrictJudge',\n",
       "       '281stDistrictJudge', '282ndDistrictJudge', '283rdDistrictJudge',\n",
       "       '284thDistrictJudge', '285thDistrictJudge', '288thDistrictJudge',\n",
       "       '289thDistrictJudge', '28thDistrictJudge', '290thDistrictJudge',\n",
       "       '291stDistrictJudge', '292ndDistrictJudge', '295thDistrictJudge',\n",
       "       '297thDistrictJudge', '301stDistrictJudge', '302ndDistrictJudge',\n",
       "       '304thDistrictJudge', '306thDistrictJudge', '308thDistrictJudge',\n",
       "       '309thDistrictJudge', '310thDistrictJudge', '311thDistrictJudge',\n",
       "       '312thDistrictJudge', '313thDistrictJudge', '314thDistrictJudge',\n",
       "       '315thDistrictJudge', '317thDistrictJudge', '318thDistrictJudge',\n",
       "       '319thDistrictJudge', '321stDistrictJudge', '322ndDistrictJudge',\n",
       "       '323thDistrictJudge', '325thDistrictJudge', '330thDistrictJudge',\n",
       "       '331stDistrictJudge', '333rdDistrictJudge', '334thDistrictJudge',\n",
       "       '337thDistrictJudge', '338thDistrictJudge', '339thDistrictJudge',\n",
       "       '342ndDistrictJudge', '345thDistrictJudge', '346thDistrictJudge',\n",
       "       '347thDistrictJudge', '348thDistrictJudge', '351stDistrictJudge',\n",
       "       '352ndDistrictJudge', '353rdDistrictJudge', '357thDistrictJudge',\n",
       "       '360thDistrictJudge', '363rdDistrictJudge', '366thDistrictJudge',\n",
       "       '367thDistrictJudge', '368thDistrictJudge', '379thDistrictJudge',\n",
       "       '37thDistrictJudge', '380thDistrictJudge', '383rdDistrictJudge',\n",
       "       '386thDistrictJudge', '387thDistrictJudge', '388thDistrictJudge',\n",
       "       '389thDistrictJudge', '390thDistrictJudge', '393rdDistrictJudge',\n",
       "       '395thDistrictJudge', '398thDistrictJudge', '399thDistrictJudge',\n",
       "       '400thDistrictJudge', '401stDistrictJudge', '404thDistrictJudge',\n",
       "       '405thDistrictJudge', '407thDistrictJudge', '408thDistrictJudge',\n",
       "       '410thDistrictJudge', '412thDistrictJudge', '416thDistrictJudge',\n",
       "       '41stDistrictJudge', '426thDistrictJudge', '427thDistrictJudge',\n",
       "       '431stDistrictJudge', '432ndDistrictJudge', '434thDistrictJudge',\n",
       "       '435thDistrictJudge', '436thDistrictJudge', '438thDistrictJudge',\n",
       "       '445thDistrictJudge', '448thDistrictJudge', '449thDistrictJudge',\n",
       "       '44thDistrictJudge', '450thDistrictJudge', '457thDistrictJudge',\n",
       "       '458thDistrictJudge', '459thDistrictJudge', '45thDistrictJudge',\n",
       "       '460thDistrictJudge', '464thDistrictJudge', '468thDistrictJudge',\n",
       "       '469thDistrictJudge', '471stDistrictJudge', '48thDistrictJudge',\n",
       "       '505thDistrictJudge', '507thDistrictJudge', '53rdDistrictJudge',\n",
       "       '55thDistrictJudge', '56thDistrictJudge', '57thDistrictJudge',\n",
       "       '58thDistrictJudge', '61stDistrictJudge', '67thDistrictJudge',\n",
       "       '68thDistrictJudge', '73rdDistrictJudge', '80thDistrictJudge',\n",
       "       '92ndDistrictJudge', '93rdDistrictJudge', '95thDistrictJudge',\n",
       "       '96thDistrictJudge', '99thDistrictJudge', '9thDistrictJudge',\n",
       "       'AgComm', 'AttorneyGen', 'BellCoClerk', 'BellCountyAttorney',\n",
       "       'BellCtatLaw1', 'BellDistClerk', 'BellSheriff', 'BellTaxAC',\n",
       "       'BellTreasurer', 'BexarCoClerk', 'BexarCoComm1', 'BexarCoComm2',\n",
       "       'BexarCoComm3', 'BexarCoComm4', 'BexarCoJudge', 'BexarConstable1',\n",
       "       'BexarConstable2', 'BexarConstable3', 'BexarConstable4',\n",
       "       'BexarCriminalDA', 'BexarCtatLaw1', 'BexarCtatLaw10',\n",
       "       'BexarCtatLaw11', 'BexarCtatLaw12', 'BexarCtatLaw13',\n",
       "       'BexarCtatLaw14', 'BexarCtatLaw15', 'BexarCtatLaw2',\n",
       "       'BexarCtatLaw3', 'BexarCtatLaw4', 'BexarCtatLaw5', 'BexarCtatLaw6',\n",
       "       'BexarCtatLaw7', 'BexarCtatLaw8', 'BexarCtatLaw9',\n",
       "       'BexarDistClerk', 'BexarJP2', 'BexarJP2Pl1', 'BexarJP2Pl2',\n",
       "       'BexarJP3Pl1', 'BexarJP4Pl1', 'BexarJP4Pl2', 'BexarProbateCt1',\n",
       "       'BexarProbateCt2', 'BexarSheriff', 'BexarTaxAC', 'BrazoriaCoClerk',\n",
       "       'BrazoriaCoComm2', 'BrazoriaCoComm4', 'BrazoriaCoJudge',\n",
       "       'BrazoriaCtatLaw1', 'BrazoriaCtatLaw3', 'BrazoriaCtatLaw4',\n",
       "       'BrazoriaSheriff', 'BrazoriaTaxAC', 'BrazosCoAttorney',\n",
       "       'BrazosDistClerk', 'BrazosSheriff', 'CCA2', 'CCA3', 'CCA4', 'CCA5',\n",
       "       'CCA6', 'CCA7', 'CCA8', 'CCA9', 'CCAPresJudge', 'COA13Chief',\n",
       "       'COA13Place2', 'COA13Place3', 'COA13Place4', 'COA13Place5',\n",
       "       'COA13Place6', 'COA14Chief', 'COA14Place2', 'COA14Place3',\n",
       "       'COA14Place4', 'COA14Place5', 'COA14Place6', 'COA14Place7',\n",
       "       'COA14Place8', 'COA14Place9', 'COA1Chief', 'COA1Place2',\n",
       "       'COA1Place3', 'COA1Place4', 'COA1Place5', 'COA1Place6',\n",
       "       'COA1Place7', 'COA1Place8', 'COA1Place9', 'COA2Place3',\n",
       "       'COA2Place5', 'COA2Place6', 'COA2Place7', 'COA3Chief',\n",
       "       'COA3Place2', 'COA3Place3', 'COA3Place5', 'COA3Place6',\n",
       "       'COA4Chief', 'COA4Place2', 'COA4Place3', 'COA4Place4',\n",
       "       'COA4Place5', 'COA4Place6', 'COA4Place7', 'COA5Chief',\n",
       "       'COA5Place10', 'COA5Place11', 'COA5Place12', 'COA5Place13',\n",
       "       'COA5Place2', 'COA5Place3', 'COA5Place4', 'COA5Place5',\n",
       "       'COA5Place6', 'COA5Place7', 'COA5Place8', 'COA5Place9',\n",
       "       'COA7Place4', 'COA8Chief', 'COA8Place2', 'COA8Place3', 'COA9Chief',\n",
       "       'COA9Place3', 'CameronCoAttorney', 'CameronCoClerk',\n",
       "       'CameronCoComm2', 'CameronCoComm4', 'CameronCoJudge',\n",
       "       'CameronCtAtLaw4', 'CameronCtAtLaw5', 'CameronCtatLaw1',\n",
       "       'CameronCtatLaw2', 'CameronCtatLaw3', 'CameronDistClerk',\n",
       "       'CameronSheriff', 'CollinCoClerk', 'CollinCoComm1',\n",
       "       'CollinCoJudge', 'CollinCriminalDA', 'CollinCtatLaw7',\n",
       "       'CollinDistClerk', 'CollinSheriff', 'CollinTaxAC', 'Comptroller',\n",
       "       'CourtofAppealsDist11', 'DallasCDC1', 'DallasCDC2', 'DallasCDC3',\n",
       "       'DallasCDC4', 'DallasCDC6', 'DallasCDC7', 'DallasCoClerk',\n",
       "       'DallasCoComm1', 'DallasCoComm2', 'DallasCoComm3', 'DallasCoJudge',\n",
       "       'DallasConstable1', 'DallasConstable2', 'DallasConstable3',\n",
       "       'DallasConstable4', 'DallasConstable5', 'DallasCrimCtAppeals1',\n",
       "       'DallasCrimCtAppeals2', 'DallasCrimCtatLaw10',\n",
       "       'DallasCrimCtatLaw11', 'DallasCrimCtatLaw4', 'DallasCrimCtatLaw5',\n",
       "       'DallasCriminalDA', 'DallasCtatLaw1', 'DallasCtatLaw2',\n",
       "       'DallasCtatLaw3', 'DallasCtatLaw4', 'DallasDemChairman',\n",
       "       'DallasDistClerk', 'DallasJP2Pl1', 'DallasJP2Pl2', 'DallasJP3Pl1',\n",
       "       'DallasJP3Pl2', 'DallasJP4Pl1', 'DallasJP4Pl2', 'DallasJP5Pl2',\n",
       "       'DallasProbateCt2', 'DallasProbateCt3', 'DallasSheriff',\n",
       "       'DallasTaxAC', 'DallasTreasurer', 'DentonCoClerk', 'DentonCoJudge',\n",
       "       'DentonConstable1', 'DentonCrimCtatLaw2', 'DentonCrimCtatLaw3',\n",
       "       'DentonCrimCtatLaw5', 'DentonCriminalDA', 'DentonDistClerk',\n",
       "       'DentonSheriff', 'DentonTaxAC', 'DentonTreasurer', 'ElPasoCDC1',\n",
       "       'ElPasoCoClerk', 'ElPasoCoComm2', 'ElPasoCoComm4', 'ElPasoCoJudge',\n",
       "       'ElPasoCrimCtatLaw4', 'ElPasoCtatLaw1', 'ElPasoCtatLaw5',\n",
       "       'ElPasoCtatLaw7', 'ElPasoDA', 'ElPasoDA34th', 'ElPasoDistClerk',\n",
       "       'ElPasoProbateCt1', 'ElPasoSheriff', 'ElPasoTaxAC',\n",
       "       'FortBendCoAttorney', 'FortBendCoClerk', 'FortBendCoJudge',\n",
       "       'FortBendCtatLaw1', 'FortBendCtatLaw3', 'FortBendCtatLaw4',\n",
       "       'FortBendCtatLaw5', 'FortBendCtatLaw6', 'FortBendDA268th',\n",
       "       'FortBendDistClerk', 'FortBendSheriff', 'FortBendTaxAC',\n",
       "       'FortBendTreasurer', 'GalvestonCoComm2', 'GalvestonCoComm4',\n",
       "       'GalvestonCoJudge', 'GalvestonCriminalDA', 'GalvestonCtatLaw2',\n",
       "       'GalvestonCtatLaw3', 'GalvestonDA', 'GalvestonSheriff',\n",
       "       'GalvestonTaxAC', 'Governor', 'HarrisCivilCtatLaw1',\n",
       "       'HarrisCivilCtatLaw2', 'HarrisCivilCtatLaw3',\n",
       "       'HarrisCivilCtatLaw4', 'HarrisCoAttorney', 'HarrisCoClerk',\n",
       "       'HarrisCoComm1', 'HarrisCoComm2', 'HarrisCoComm3', 'HarrisCoComm4',\n",
       "       'HarrisCoJudge', 'HarrisConstable1', 'HarrisConstable2',\n",
       "       'HarrisConstable3', 'HarrisConstable4', 'HarrisConstable5',\n",
       "       'HarrisConstable6', 'HarrisConstable7', 'HarrisConstable8',\n",
       "       'HarrisCrimCtatLaw1', 'HarrisCrimCtatLaw10', 'HarrisCrimCtatLaw11',\n",
       "       'HarrisCrimCtatLaw12', 'HarrisCrimCtatLaw13',\n",
       "       'HarrisCrimCtatLaw14', 'HarrisCrimCtatLaw15',\n",
       "       'HarrisCrimCtatLaw16', 'HarrisCrimCtatLaw2', 'HarrisCrimCtatLaw3',\n",
       "       'HarrisCrimCtatLaw4', 'HarrisCrimCtatLaw5', 'HarrisCrimCtatLaw6',\n",
       "       'HarrisCrimCtatLaw7', 'HarrisCrimCtatLaw8', 'HarrisCrimCtatLaw9',\n",
       "       'HarrisCtatLaw1', 'HarrisCtatLaw2', 'HarrisCtatLaw3',\n",
       "       'HarrisCtatLaw4', 'HarrisDA', 'HarrisDistClerk', 'HarrisJP1Pl1',\n",
       "       'HarrisJP3Pl1', 'HarrisJP3Pl2', 'HarrisJP4Pl1', 'HarrisJP5Pl1',\n",
       "       'HarrisJP5Pl2', 'HarrisJP6Pl1', 'HarrisJP7Pl1', 'HarrisJP7Pl2',\n",
       "       'HarrisProbateCt1', 'HarrisProbateCt2', 'HarrisProbateCt3',\n",
       "       'HarrisProbateCt4', 'HarrisSheriff', 'HarrisTaxAC',\n",
       "       'HarrisTreasurer', 'HidalgoCoClerk', 'HidalgoCoComm2',\n",
       "       'HidalgoCoJudge', 'HidalgoCtatLaw5', 'HidalgoCtatLaw8',\n",
       "       'HidalgoCtatLaw9', 'HidalgoDA', 'HidalgoDemChairman',\n",
       "       'HidalgoProbateCt', 'HidalgoSheriff', 'HidalgoTaxAC',\n",
       "       'HidalgoTreasurer', 'JeffersonCoClerk', 'JeffersonCoJudge',\n",
       "       'JeffersonCriminalDA', 'JeffersonCtatLaw2', 'JeffersonCtatLaw3',\n",
       "       'JeffersonDistClerk', 'JeffersonSheriff', 'JeffersonTaxAC',\n",
       "       'JeffersonTreasurer', 'LandComm', 'LtGovernor', 'LubbockCoComm2',\n",
       "       'LubbockCoJudge', 'LubbockConstable4', 'LubbockCtatLaw3',\n",
       "       'McLennanCoJudge', 'McLennanCriminalDA', 'McLennanDistClerk',\n",
       "       'McLennanSheriff', 'MclennanCoComm2', 'MidlandCoJudge',\n",
       "       'MidlandDistClerk', 'MidlandTaxAC', 'MontgomeryCoAttorney',\n",
       "       'MontgomeryCoClerk', 'MontgomeryCoComm2', 'MontgomeryCoComm4',\n",
       "       'MontgomeryCoJudge', 'MontgomeryDemChairman',\n",
       "       'MontgomeryDistClerk', 'MontgomerySheriff', 'MontgomeryTreasurer',\n",
       "       'NuecesCoAttorney', 'NuecesCoClerk', 'NuecesCoComm4',\n",
       "       'NuecesCoJudge', 'NuecesCtAtLaw3', 'NuecesCtAtLaw4',\n",
       "       'NuecesCtatLaw1', 'NuecesCtatLaw5', 'NuecesDA105th',\n",
       "       'NuecesDistClerk', 'NuecesSheriff', 'NuecesTaxAC', 'President',\n",
       "       'RRComm1', 'RRComm2', 'RRComm3', 'SBOE1', 'SBOE10', 'SBOE11',\n",
       "       'SBOE12', 'SBOE13', 'SBOE14', 'SBOE15', 'SBOE2', 'SBOE3', 'SBOE4',\n",
       "       'SBOE5', 'SBOE6', 'SBOE7', 'SBOE8', 'SBOE9', 'SmithCoComm4',\n",
       "       'SmithCoJudge', 'SmithCriminalDA', 'SmithDistClerk',\n",
       "       'SmithSheriff', 'StateRep1', 'StateRep10', 'StateRep100',\n",
       "       'StateRep101', 'StateRep102', 'StateRep103', 'StateRep104',\n",
       "       'StateRep105', 'StateRep106', 'StateRep107', 'StateRep108',\n",
       "       'StateRep109', 'StateRep11', 'StateRep110', 'StateRep111',\n",
       "       'StateRep112', 'StateRep113', 'StateRep114', 'StateRep115',\n",
       "       'StateRep116', 'StateRep117', 'StateRep118', 'StateRep119',\n",
       "       'StateRep12', 'StateRep120', 'StateRep121', 'StateRep122',\n",
       "       'StateRep123', 'StateRep124', 'StateRep125', 'StateRep126',\n",
       "       'StateRep127', 'StateRep128', 'StateRep129', 'StateRep13',\n",
       "       'StateRep130', 'StateRep131', 'StateRep132', 'StateRep133',\n",
       "       'StateRep134', 'StateRep135', 'StateRep136', 'StateRep137',\n",
       "       'StateRep138', 'StateRep139', 'StateRep14', 'StateRep141',\n",
       "       'StateRep142', 'StateRep143', 'StateRep144', 'StateRep145',\n",
       "       'StateRep146', 'StateRep147', 'StateRep148', 'StateRep149',\n",
       "       'StateRep15', 'StateRep150', 'StateRep16', 'StateRep17',\n",
       "       'StateRep18', 'StateRep19', 'StateRep2', 'StateRep20',\n",
       "       'StateRep21', 'StateRep22', 'StateRep23', 'StateRep24',\n",
       "       'StateRep25', 'StateRep26', 'StateRep27', 'StateRep28',\n",
       "       'StateRep29', 'StateRep3', 'StateRep30', 'StateRep31',\n",
       "       'StateRep32', 'StateRep33', 'StateRep34', 'StateRep35',\n",
       "       'StateRep36', 'StateRep37', 'StateRep38', 'StateRep39',\n",
       "       'StateRep4', 'StateRep40', 'StateRep41', 'StateRep42',\n",
       "       'StateRep43', 'StateRep44', 'StateRep45', 'StateRep46',\n",
       "       'StateRep47', 'StateRep48', 'StateRep49', 'StateRep5',\n",
       "       'StateRep50', 'StateRep51', 'StateRep52', 'StateRep53',\n",
       "       'StateRep54', 'StateRep55', 'StateRep56', 'StateRep57',\n",
       "       'StateRep58', 'StateRep59', 'StateRep6', 'StateRep60',\n",
       "       'StateRep61', 'StateRep62', 'StateRep63', 'StateRep64',\n",
       "       'StateRep65', 'StateRep66', 'StateRep67', 'StateRep68',\n",
       "       'StateRep69', 'StateRep7', 'StateRep70', 'StateRep71',\n",
       "       'StateRep72', 'StateRep73', 'StateRep74', 'StateRep75',\n",
       "       'StateRep76', 'StateRep77', 'StateRep78', 'StateRep79',\n",
       "       'StateRep8', 'StateRep80', 'StateRep81', 'StateRep82',\n",
       "       'StateRep83', 'StateRep84', 'StateRep85', 'StateRep86',\n",
       "       'StateRep87', 'StateRep88', 'StateRep89', 'StateRep9',\n",
       "       'StateRep90', 'StateRep91', 'StateRep92', 'StateRep93',\n",
       "       'StateRep94', 'StateRep95', 'StateRep96', 'StateRep97',\n",
       "       'StateRep98', 'StateRep99', 'StateSen1', 'StateSen10',\n",
       "       'StateSen11', 'StateSen12', 'StateSen13', 'StateSen14',\n",
       "       'StateSen15', 'StateSen16', 'StateSen17', 'StateSen18',\n",
       "       'StateSen19', 'StateSen2', 'StateSen20', 'StateSen21',\n",
       "       'StateSen22', 'StateSen23', 'StateSen24', 'StateSen25',\n",
       "       'StateSen26', 'StateSen27', 'StateSen28', 'StateSen29',\n",
       "       'StateSen3', 'StateSen30', 'StateSen31', 'StateSen4', 'StateSen5',\n",
       "       'StateSen6', 'StateSen7', 'StateSen8', 'StateSen9', 'SupCt2',\n",
       "       'SupCt3', 'SupCt4', 'SupCt5', 'SupCt6', 'SupCt7', 'SupCt8',\n",
       "       'SupCt9', 'SupCtChief', 'TarrantCoClerk', 'TarrantCoComm1',\n",
       "       'TarrantCoComm2', 'TarrantCoComm3', 'TarrantCoComm4',\n",
       "       'TarrantCoJudge', 'TarrantConstable1', 'TarrantConstable2',\n",
       "       'TarrantConstable4', 'TarrantConstable5', 'TarrantConstable6',\n",
       "       'TarrantConstable7', 'TarrantConstable8', 'TarrantCrimCtatLaw1',\n",
       "       'TarrantCrimCtatLaw2', 'TarrantCrimCtatLaw3',\n",
       "       'TarrantCrimCtatLaw4', 'TarrantCrimCtatLaw8', 'TarrantCriminalDA',\n",
       "       'TarrantDistClerk', 'TarrantJP2', 'TarrantJP3', 'TarrantJP4',\n",
       "       'TarrantJP6', 'TarrantJP7', 'TarrantJP8', 'TarrantProbateCt1',\n",
       "       'TarrantSheriff', 'TarrantTaxAC', 'TravisCoAttorney',\n",
       "       'TravisCoClerk', 'TravisCoComm1', 'TravisCoComm2', 'TravisCoComm3',\n",
       "       'TravisCoComm4', 'TravisCoJudge', 'TravisConstable1',\n",
       "       'TravisConstable2', 'TravisConstable3', 'TravisConstable4',\n",
       "       'TravisCtatLaw3', 'TravisCtatLaw4', 'TravisCtatLaw5',\n",
       "       'TravisCtatLaw9', 'TravisDA', 'TravisDA53rd', 'TravisDistClerk',\n",
       "       'TravisJP1', 'TravisJP2', 'TravisJP3', 'TravisSheriff',\n",
       "       'TravisTaxAC', 'TravisTreasurer', 'USRep01', 'USRep02', 'USRep03',\n",
       "       'USRep04', 'USRep05', 'USRep06', 'USRep07', 'USRep08', 'USRep09',\n",
       "       'USRep10', 'USRep11', 'USRep12', 'USRep13', 'USRep14', 'USRep15',\n",
       "       'USRep16', 'USRep17', 'USRep18', 'USRep19', 'USRep20', 'USRep21',\n",
       "       'USRep22', 'USRep23', 'USRep24', 'USRep25', 'USRep26', 'USRep27',\n",
       "       'USRep28', 'USRep29', 'USRep30', 'USRep31', 'USRep32', 'USRep33',\n",
       "       'USRep34', 'USRep35', 'USRep36', 'USSen', 'WebbCoClerk',\n",
       "       'WebbCoComm1', 'WebbCoComm2', 'WebbCoComm4', 'WebbCoJudge',\n",
       "       'WebbCtatLaw1', 'WebbCtatLaw2', 'WebbDistClerk', 'WebbSheriff',\n",
       "       'WebbTaxAC', 'WebbTreasurer', 'WilliamsonCoAttorney',\n",
       "       'WilliamsonCoClerk', 'WilliamsonCoComm2', 'WilliamsonCoComm4',\n",
       "       'WilliamsonCoJudge', 'WilliamsonCtatLaw1', 'WilliamsonCtatLaw2',\n",
       "       'WilliamsonCtatLaw3', 'WilliamsonDA26th', 'WilliamsonDemChariman',\n",
       "       'WilliamsonSheriff', 'WilliamsonTreasurer'], dtype=object)"
      ]
     },
     "metadata": {},
     "output_type": "display_data"
    },
    {
     "ename": "AssertionError",
     "evalue": "",
     "output_type": "error",
     "traceback": [
      "\u001b[0;31m---------------------------------------------------------------------------\u001b[0m",
      "\u001b[0;31mAssertionError\u001b[0m                            Traceback (most recent call last)",
      "\u001b[0;32m/home/jupyter/MathVGerrmandering_CMAT_2021/redistricter.py\u001b[0m in \u001b[0;36m<module>\u001b[0;34m\u001b[0m\n\u001b[1;32m     97\u001b[0m )\n\u001b[1;32m     98\u001b[0m \u001b[0;34m\u001b[0m\u001b[0m\n\u001b[0;32m---> 99\u001b[0;31m \u001b[0mG\u001b[0m \u001b[0;34m=\u001b[0m \u001b[0mGraph\u001b[0m\u001b[0;34m(\u001b[0m\u001b[0;34m**\u001b[0m\u001b[0mgraph_opts\u001b[0m\u001b[0;34m)\u001b[0m\u001b[0;34m\u001b[0m\u001b[0;34m\u001b[0m\u001b[0m\n\u001b[0m\u001b[1;32m    100\u001b[0m \u001b[0;34m\u001b[0m\u001b[0m\n\u001b[1;32m    101\u001b[0m \u001b[0;31m################# Run MCMC #################\u001b[0m\u001b[0;34m\u001b[0m\u001b[0;34m\u001b[0m\u001b[0;34m\u001b[0m\u001b[0m\n",
      "\u001b[0;32m/home/jupyter/MathVGerrmandering_CMAT_2021/src/graph.py\u001b[0m in \u001b[0;36m__init__\u001b[0;34m(self, g, name, level, abbr, shapes_yr, census_yr, district_type, county_line, node_attrs, refresh_tbl, refresh_all, election_filters)\u001b[0m\n",
      "\u001b[0;32m/home/jupyter/MathVGerrmandering_CMAT_2021/src/graph.py\u001b[0m in \u001b[0;36m__post_init__\u001b[0;34m(self)\u001b[0m\n\u001b[1;32m     41\u001b[0m         \u001b[0;32mif\u001b[0m \u001b[0mself\u001b[0m\u001b[0;34m.\u001b[0m\u001b[0mname\u001b[0m \u001b[0;32min\u001b[0m \u001b[0mself\u001b[0m\u001b[0;34m.\u001b[0m\u001b[0mrefresh_tbl\u001b[0m\u001b[0;34m:\u001b[0m\u001b[0;34m\u001b[0m\u001b[0;34m\u001b[0m\u001b[0m\n\u001b[1;32m     42\u001b[0m             \u001b[0mself\u001b[0m\u001b[0;34m.\u001b[0m\u001b[0mrefresh_all\u001b[0m\u001b[0;34m.\u001b[0m\u001b[0madd\u001b[0m\u001b[0;34m(\u001b[0m\u001b[0mself\u001b[0m\u001b[0;34m.\u001b[0m\u001b[0mname\u001b[0m\u001b[0;34m)\u001b[0m\u001b[0;34m\u001b[0m\u001b[0;34m\u001b[0m\u001b[0m\n\u001b[0;32m---> 43\u001b[0;31m         \u001b[0msuper\u001b[0m\u001b[0;34m(\u001b[0m\u001b[0;34m)\u001b[0m\u001b[0;34m.\u001b[0m\u001b[0m__post_init__\u001b[0m\u001b[0;34m(\u001b[0m\u001b[0;34m)\u001b[0m\u001b[0;34m\u001b[0m\u001b[0;34m\u001b[0m\u001b[0m\n\u001b[0m\u001b[1;32m     44\u001b[0m \u001b[0;34m\u001b[0m\u001b[0m\n\u001b[1;32m     45\u001b[0m \u001b[0;31m#         self.gpickle = data_path / f'graph/{self.abbr_self}/graph_{self.abbr_self}_{self.yr}_{self.level}_{self.district.type}.gpickle'\u001b[0m\u001b[0;34m\u001b[0m\u001b[0;34m\u001b[0m\u001b[0;34m\u001b[0m\u001b[0m\n",
      "\u001b[0;32m/home/jupyter/MathVGerrmandering_CMAT_2021/src/__init__.py\u001b[0m in \u001b[0;36m__post_init__\u001b[0;34m(self)\u001b[0m\n\u001b[1;32m    207\u001b[0m         \u001b[0mself\u001b[0m\u001b[0;34m.\u001b[0m\u001b[0mraw\u001b[0m     \u001b[0;34m=\u001b[0m \u001b[0;34mf'{data_bq}.{b}_raw'\u001b[0m\u001b[0;34m\u001b[0m\u001b[0;34m\u001b[0m\u001b[0m\n\u001b[1;32m    208\u001b[0m         \u001b[0mself\u001b[0m\u001b[0;34m.\u001b[0m\u001b[0mtbl\u001b[0m     \u001b[0;34m=\u001b[0m \u001b[0;34mf'{data_bq}.{c}'\u001b[0m\u001b[0;34m\u001b[0m\u001b[0;34m\u001b[0m\u001b[0m\n\u001b[0;32m--> 209\u001b[0;31m         \u001b[0mself\u001b[0m\u001b[0;34m.\u001b[0m\u001b[0mget\u001b[0m\u001b[0;34m(\u001b[0m\u001b[0;34m)\u001b[0m\u001b[0;34m\u001b[0m\u001b[0;34m\u001b[0m\u001b[0m\n\u001b[0m\u001b[1;32m    210\u001b[0m         \u001b[0mos\u001b[0m\u001b[0;34m.\u001b[0m\u001b[0mchdir\u001b[0m\u001b[0;34m(\u001b[0m\u001b[0mcode_path\u001b[0m\u001b[0;34m)\u001b[0m\u001b[0;34m\u001b[0m\u001b[0;34m\u001b[0m\u001b[0m\n\u001b[1;32m    211\u001b[0m         \u001b[0mprint\u001b[0m\u001b[0;34m(\u001b[0m\u001b[0;34mf'success'\u001b[0m\u001b[0;34m)\u001b[0m\u001b[0;34m\u001b[0m\u001b[0;34m\u001b[0m\u001b[0m\n",
      "\u001b[0;32m/home/jupyter/MathVGerrmandering_CMAT_2021/src/graph.py\u001b[0m in \u001b[0;36mget\u001b[0;34m(self)\u001b[0m\n\u001b[1;32m     54\u001b[0m         \u001b[0mself\u001b[0m\u001b[0;34m.\u001b[0m\u001b[0mshapes\u001b[0m        \u001b[0;34m=\u001b[0m \u001b[0mShapes\u001b[0m\u001b[0;34m(\u001b[0m\u001b[0mg\u001b[0m\u001b[0;34m=\u001b[0m\u001b[0mself\u001b[0m\u001b[0;34m)\u001b[0m\u001b[0;34m\u001b[0m\u001b[0;34m\u001b[0m\u001b[0m\n\u001b[1;32m     55\u001b[0m         \u001b[0mself\u001b[0m\u001b[0;34m.\u001b[0m\u001b[0mcensus\u001b[0m        \u001b[0;34m=\u001b[0m \u001b[0mCensus\u001b[0m\u001b[0;34m(\u001b[0m\u001b[0mg\u001b[0m\u001b[0;34m=\u001b[0m\u001b[0mself\u001b[0m\u001b[0;34m)\u001b[0m\u001b[0;34m\u001b[0m\u001b[0;34m\u001b[0m\u001b[0m\n\u001b[0;32m---> 56\u001b[0;31m         \u001b[0mself\u001b[0m\u001b[0;34m.\u001b[0m\u001b[0melections\u001b[0m     \u001b[0;34m=\u001b[0m \u001b[0mElections\u001b[0m\u001b[0;34m(\u001b[0m\u001b[0mg\u001b[0m\u001b[0;34m=\u001b[0m\u001b[0mself\u001b[0m\u001b[0;34m)\u001b[0m\u001b[0;34m\u001b[0m\u001b[0;34m\u001b[0m\u001b[0m\n\u001b[0m\u001b[1;32m     57\u001b[0m         \u001b[0mself\u001b[0m\u001b[0;34m.\u001b[0m\u001b[0mnodes\u001b[0m         \u001b[0;34m=\u001b[0m \u001b[0mNodes\u001b[0m\u001b[0;34m(\u001b[0m\u001b[0mg\u001b[0m\u001b[0;34m=\u001b[0m\u001b[0mself\u001b[0m\u001b[0;34m)\u001b[0m\u001b[0;34m\u001b[0m\u001b[0;34m\u001b[0m\u001b[0m\n\u001b[1;32m     58\u001b[0m \u001b[0;34m\u001b[0m\u001b[0m\n",
      "\u001b[0;32m/home/jupyter/MathVGerrmandering_CMAT_2021/src/elections.py\u001b[0m in \u001b[0;36m__init__\u001b[0;34m(self, g, name, level)\u001b[0m\n",
      "\u001b[0;32m/home/jupyter/MathVGerrmandering_CMAT_2021/src/elections.py\u001b[0m in \u001b[0;36m__post_init__\u001b[0;34m(self)\u001b[0m\n\u001b[1;32m      6\u001b[0m     \u001b[0;32mdef\u001b[0m \u001b[0m__post_init__\u001b[0m\u001b[0;34m(\u001b[0m\u001b[0mself\u001b[0m\u001b[0;34m)\u001b[0m\u001b[0;34m:\u001b[0m\u001b[0;34m\u001b[0m\u001b[0;34m\u001b[0m\u001b[0m\n\u001b[1;32m      7\u001b[0m         \u001b[0mself\u001b[0m\u001b[0;34m.\u001b[0m\u001b[0myr\u001b[0m \u001b[0;34m=\u001b[0m \u001b[0mself\u001b[0m\u001b[0;34m.\u001b[0m\u001b[0mg\u001b[0m\u001b[0;34m.\u001b[0m\u001b[0mshapes_yr\u001b[0m\u001b[0;34m\u001b[0m\u001b[0;34m\u001b[0m\u001b[0m\n\u001b[0;32m----> 8\u001b[0;31m         \u001b[0msuper\u001b[0m\u001b[0;34m(\u001b[0m\u001b[0;34m)\u001b[0m\u001b[0;34m.\u001b[0m\u001b[0m__post_init__\u001b[0m\u001b[0;34m(\u001b[0m\u001b[0;34m)\u001b[0m\u001b[0;34m\u001b[0m\u001b[0;34m\u001b[0m\u001b[0m\n\u001b[0m\u001b[1;32m      9\u001b[0m \u001b[0;34m\u001b[0m\u001b[0m\n\u001b[1;32m     10\u001b[0m \u001b[0;34m\u001b[0m\u001b[0m\n",
      "\u001b[0;32m/home/jupyter/MathVGerrmandering_CMAT_2021/src/__init__.py\u001b[0m in \u001b[0;36m__post_init__\u001b[0;34m(self)\u001b[0m\n\u001b[1;32m    207\u001b[0m         \u001b[0mself\u001b[0m\u001b[0;34m.\u001b[0m\u001b[0mraw\u001b[0m     \u001b[0;34m=\u001b[0m \u001b[0;34mf'{data_bq}.{b}_raw'\u001b[0m\u001b[0;34m\u001b[0m\u001b[0;34m\u001b[0m\u001b[0m\n\u001b[1;32m    208\u001b[0m         \u001b[0mself\u001b[0m\u001b[0;34m.\u001b[0m\u001b[0mtbl\u001b[0m     \u001b[0;34m=\u001b[0m \u001b[0;34mf'{data_bq}.{c}'\u001b[0m\u001b[0;34m\u001b[0m\u001b[0;34m\u001b[0m\u001b[0m\n\u001b[0;32m--> 209\u001b[0;31m         \u001b[0mself\u001b[0m\u001b[0;34m.\u001b[0m\u001b[0mget\u001b[0m\u001b[0;34m(\u001b[0m\u001b[0;34m)\u001b[0m\u001b[0;34m\u001b[0m\u001b[0;34m\u001b[0m\u001b[0m\n\u001b[0m\u001b[1;32m    210\u001b[0m         \u001b[0mos\u001b[0m\u001b[0;34m.\u001b[0m\u001b[0mchdir\u001b[0m\u001b[0;34m(\u001b[0m\u001b[0mcode_path\u001b[0m\u001b[0;34m)\u001b[0m\u001b[0;34m\u001b[0m\u001b[0;34m\u001b[0m\u001b[0m\n\u001b[1;32m    211\u001b[0m         \u001b[0mprint\u001b[0m\u001b[0;34m(\u001b[0m\u001b[0;34mf'success'\u001b[0m\u001b[0;34m)\u001b[0m\u001b[0;34m\u001b[0m\u001b[0;34m\u001b[0m\u001b[0m\n",
      "\u001b[0;32m/home/jupyter/MathVGerrmandering_CMAT_2021/src/elections.py\u001b[0m in \u001b[0;36mget\u001b[0;34m(self)\u001b[0m\n\u001b[1;32m     21\u001b[0m                 \u001b[0mself\u001b[0m\u001b[0;34m.\u001b[0m\u001b[0mget_zip\u001b[0m\u001b[0;34m(\u001b[0m\u001b[0;34m)\u001b[0m\u001b[0;34m\u001b[0m\u001b[0;34m\u001b[0m\u001b[0m\n\u001b[1;32m     22\u001b[0m                 \u001b[0mrpt\u001b[0m\u001b[0;34m(\u001b[0m\u001b[0;34mf'creating raw table'\u001b[0m\u001b[0;34m)\u001b[0m\u001b[0;34m\u001b[0m\u001b[0;34m\u001b[0m\u001b[0m\n\u001b[0;32m---> 23\u001b[0;31m                 \u001b[0mself\u001b[0m\u001b[0;34m.\u001b[0m\u001b[0mprocess_raw\u001b[0m\u001b[0;34m(\u001b[0m\u001b[0;34m)\u001b[0m\u001b[0;34m\u001b[0m\u001b[0;34m\u001b[0m\u001b[0m\n\u001b[0m\u001b[1;32m     24\u001b[0m             \u001b[0mrpt\u001b[0m\u001b[0;34m(\u001b[0m\u001b[0;34mf'creating table'\u001b[0m\u001b[0;34m)\u001b[0m\u001b[0;34m\u001b[0m\u001b[0;34m\u001b[0m\u001b[0m\n\u001b[1;32m     25\u001b[0m             \u001b[0mself\u001b[0m\u001b[0;34m.\u001b[0m\u001b[0mprocess\u001b[0m\u001b[0;34m(\u001b[0m\u001b[0;34m)\u001b[0m\u001b[0;34m\u001b[0m\u001b[0;34m\u001b[0m\u001b[0m\n",
      "\u001b[0;32m/home/jupyter/MathVGerrmandering_CMAT_2021/src/elections.py\u001b[0m in \u001b[0;36mprocess_raw\u001b[0;34m(self)\u001b[0m\n\u001b[1;32m     67\u001b[0m \u001b[0;31m#         df.drop(columns=['a','b'], inplace=True)\u001b[0m\u001b[0;34m\u001b[0m\u001b[0;34m\u001b[0m\u001b[0;34m\u001b[0m\u001b[0m\n\u001b[1;32m     68\u001b[0m         \u001b[0mdisplay\u001b[0m\u001b[0;34m(\u001b[0m\u001b[0mnp\u001b[0m\u001b[0;34m.\u001b[0m\u001b[0munique\u001b[0m\u001b[0;34m(\u001b[0m\u001b[0mdf\u001b[0m\u001b[0;34m[\u001b[0m\u001b[0;34m'office'\u001b[0m\u001b[0;34m]\u001b[0m\u001b[0;34m)\u001b[0m\u001b[0;34m)\u001b[0m\u001b[0;34m\u001b[0m\u001b[0;34m\u001b[0m\u001b[0m\n\u001b[0;32m---> 69\u001b[0;31m         \u001b[0;32massert\u001b[0m \u001b[0;36m1\u001b[0m\u001b[0;34m==\u001b[0m\u001b[0;36m2\u001b[0m\u001b[0;34m\u001b[0m\u001b[0;34m\u001b[0m\u001b[0m\n\u001b[0m\u001b[1;32m     70\u001b[0m \u001b[0;34m\u001b[0m\u001b[0m\n\u001b[1;32m     71\u001b[0m \u001b[0;31m######## correct differences between cntyvtd codes in assignements (US Census) and elections (TX Legislative Council) ########\u001b[0m\u001b[0;34m\u001b[0m\u001b[0;34m\u001b[0m\u001b[0;34m\u001b[0m\u001b[0m\n",
      "\u001b[0;31mAssertionError\u001b[0m: "
     ]
    }
   ],
   "source": [
    "%load_ext autoreload\n",
    "%autoreload\n",
    "%cd /home/jupyter/MathVGerrmandering_CMAT_2021/\n",
    "notebook = True\n",
    "skip_inputs = 'y'\n",
    "%run -i redistricter"
   ]
  },
  {
   "cell_type": "code",
   "execution_count": 4,
   "id": "5e6b7754",
   "metadata": {},
   "outputs": [],
   "source": [
    "df = pd.DataFrame()"
   ]
  },
  {
   "cell_type": "code",
   "execution_count": 5,
   "id": "85c1464d",
   "metadata": {},
   "outputs": [
    {
     "data": {
      "text/plain": [
       "\u001b[0;31mSignature:\u001b[0m\n",
       "\u001b[0mdf\u001b[0m\u001b[0;34m.\u001b[0m\u001b[0mto_parquet\u001b[0m\u001b[0;34m(\u001b[0m\u001b[0;34m\u001b[0m\n",
       "\u001b[0;34m\u001b[0m    \u001b[0mpath\u001b[0m\u001b[0;34m:\u001b[0m \u001b[0;34m'FilePathOrBuffer | None'\u001b[0m \u001b[0;34m=\u001b[0m \u001b[0;32mNone\u001b[0m\u001b[0;34m,\u001b[0m\u001b[0;34m\u001b[0m\n",
       "\u001b[0;34m\u001b[0m    \u001b[0mengine\u001b[0m\u001b[0;34m:\u001b[0m \u001b[0;34m'str'\u001b[0m \u001b[0;34m=\u001b[0m \u001b[0;34m'auto'\u001b[0m\u001b[0;34m,\u001b[0m\u001b[0;34m\u001b[0m\n",
       "\u001b[0;34m\u001b[0m    \u001b[0mcompression\u001b[0m\u001b[0;34m:\u001b[0m \u001b[0;34m'str | None'\u001b[0m \u001b[0;34m=\u001b[0m \u001b[0;34m'snappy'\u001b[0m\u001b[0;34m,\u001b[0m\u001b[0;34m\u001b[0m\n",
       "\u001b[0;34m\u001b[0m    \u001b[0mindex\u001b[0m\u001b[0;34m:\u001b[0m \u001b[0;34m'bool | None'\u001b[0m \u001b[0;34m=\u001b[0m \u001b[0;32mNone\u001b[0m\u001b[0;34m,\u001b[0m\u001b[0;34m\u001b[0m\n",
       "\u001b[0;34m\u001b[0m    \u001b[0mpartition_cols\u001b[0m\u001b[0;34m:\u001b[0m \u001b[0;34m'list[str] | None'\u001b[0m \u001b[0;34m=\u001b[0m \u001b[0;32mNone\u001b[0m\u001b[0;34m,\u001b[0m\u001b[0;34m\u001b[0m\n",
       "\u001b[0;34m\u001b[0m    \u001b[0mstorage_options\u001b[0m\u001b[0;34m:\u001b[0m \u001b[0;34m'StorageOptions'\u001b[0m \u001b[0;34m=\u001b[0m \u001b[0;32mNone\u001b[0m\u001b[0;34m,\u001b[0m\u001b[0;34m\u001b[0m\n",
       "\u001b[0;34m\u001b[0m    \u001b[0;34m**\u001b[0m\u001b[0mkwargs\u001b[0m\u001b[0;34m,\u001b[0m\u001b[0;34m\u001b[0m\n",
       "\u001b[0;34m\u001b[0m\u001b[0;34m)\u001b[0m \u001b[0;34m->\u001b[0m \u001b[0;34m'bytes | None'\u001b[0m\u001b[0;34m\u001b[0m\u001b[0;34m\u001b[0m\u001b[0m\n",
       "\u001b[0;31mDocstring:\u001b[0m\n",
       "Write a DataFrame to the binary parquet format.\n",
       "\n",
       "This function writes the dataframe as a `parquet file\n",
       "<https://parquet.apache.org/>`_. You can choose different parquet\n",
       "backends, and have the option of compression. See\n",
       ":ref:`the user guide <io.parquet>` for more details.\n",
       "\n",
       "Parameters\n",
       "----------\n",
       "path : str or file-like object, default None\n",
       "    If a string, it will be used as Root Directory path\n",
       "    when writing a partitioned dataset. By file-like object,\n",
       "    we refer to objects with a write() method, such as a file handle\n",
       "    (e.g. via builtin open function) or io.BytesIO. The engine\n",
       "    fastparquet does not accept file-like objects. If path is None,\n",
       "    a bytes object is returned.\n",
       "\n",
       "    .. versionchanged:: 1.2.0\n",
       "\n",
       "    Previously this was \"fname\"\n",
       "\n",
       "engine : {'auto', 'pyarrow', 'fastparquet'}, default 'auto'\n",
       "    Parquet library to use. If 'auto', then the option\n",
       "    ``io.parquet.engine`` is used. The default ``io.parquet.engine``\n",
       "    behavior is to try 'pyarrow', falling back to 'fastparquet' if\n",
       "    'pyarrow' is unavailable.\n",
       "compression : {'snappy', 'gzip', 'brotli', None}, default 'snappy'\n",
       "    Name of the compression to use. Use ``None`` for no compression.\n",
       "index : bool, default None\n",
       "    If ``True``, include the dataframe's index(es) in the file output.\n",
       "    If ``False``, they will not be written to the file.\n",
       "    If ``None``, similar to ``True`` the dataframe's index(es)\n",
       "    will be saved. However, instead of being saved as values,\n",
       "    the RangeIndex will be stored as a range in the metadata so it\n",
       "    doesn't require much space and is faster. Other indexes will\n",
       "    be included as columns in the file output.\n",
       "partition_cols : list, optional, default None\n",
       "    Column names by which to partition the dataset.\n",
       "    Columns are partitioned in the order they are given.\n",
       "    Must be None if path is not a string.\n",
       "storage_options : dict, optional\n",
       "    Extra options that make sense for a particular storage connection, e.g.\n",
       "    host, port, username, password, etc. For HTTP(S) URLs the key-value pairs\n",
       "    are forwarded to ``urllib`` as header options. For other URLs (e.g.\n",
       "    starting with \"s3://\", and \"gcs://\") the key-value pairs are forwarded to\n",
       "    ``fsspec``. Please see ``fsspec`` and ``urllib`` for more details.\n",
       "\n",
       "    .. versionadded:: 1.2.0\n",
       "\n",
       "**kwargs\n",
       "    Additional arguments passed to the parquet library. See\n",
       "    :ref:`pandas io <io.parquet>` for more details.\n",
       "\n",
       "Returns\n",
       "-------\n",
       "bytes if no path argument is provided else None\n",
       "\n",
       "See Also\n",
       "--------\n",
       "read_parquet : Read a parquet file.\n",
       "DataFrame.to_csv : Write a csv file.\n",
       "DataFrame.to_sql : Write to a sql table.\n",
       "DataFrame.to_hdf : Write to hdf.\n",
       "\n",
       "Notes\n",
       "-----\n",
       "This function requires either the `fastparquet\n",
       "<https://pypi.org/project/fastparquet>`_ or `pyarrow\n",
       "<https://arrow.apache.org/docs/python/>`_ library.\n",
       "\n",
       "Examples\n",
       "--------\n",
       ">>> df = pd.DataFrame(data={'col1': [1, 2], 'col2': [3, 4]})\n",
       ">>> df.to_parquet('df.parquet.gzip',\n",
       "...               compression='gzip')  # doctest: +SKIP\n",
       ">>> pd.read_parquet('df.parquet.gzip')  # doctest: +SKIP\n",
       "   col1  col2\n",
       "0     1     3\n",
       "1     2     4\n",
       "\n",
       "If you want to get a buffer to the parquet content you can use a io.BytesIO\n",
       "object, as long as you don't use partition_cols, which creates multiple files.\n",
       "\n",
       ">>> import io\n",
       ">>> f = io.BytesIO()\n",
       ">>> df.to_parquet(f)\n",
       ">>> f.seek(0)\n",
       "0\n",
       ">>> content = f.read()\n",
       "\u001b[0;31mFile:\u001b[0m      /opt/conda/lib/python3.7/site-packages/pandas/core/frame.py\n",
       "\u001b[0;31mType:\u001b[0m      method\n"
      ]
     },
     "metadata": {},
     "output_type": "display_data"
    }
   ],
   "source": [
    "df.to_parquet?"
   ]
  },
  {
   "cell_type": "code",
   "execution_count": 2,
   "id": "83320bf0",
   "metadata": {},
   "outputs": [
    {
     "data": {
      "text/plain": [
       "\u001b[0;31mInit signature:\u001b[0m \u001b[0mgoogle\u001b[0m\u001b[0;34m.\u001b[0m\u001b[0mcloud\u001b[0m\u001b[0;34m.\u001b[0m\u001b[0mbigquery\u001b[0m\u001b[0;34m.\u001b[0m\u001b[0mjob\u001b[0m\u001b[0;34m.\u001b[0m\u001b[0mExtractJobConfig\u001b[0m\u001b[0;34m(\u001b[0m\u001b[0;34m**\u001b[0m\u001b[0mkwargs\u001b[0m\u001b[0;34m)\u001b[0m\u001b[0;34m\u001b[0m\u001b[0;34m\u001b[0m\u001b[0m\n",
       "\u001b[0;31mDocstring:\u001b[0m     \n",
       "Configuration options for extract jobs.\n",
       "\n",
       "All properties in this class are optional. Values which are :data:`None` ->\n",
       "server defaults. Set properties on the constructed configuration by using\n",
       "the property name as the name of a keyword argument.\n",
       "\u001b[0;31mFile:\u001b[0m           /opt/conda/lib/python3.7/site-packages/google/cloud/bigquery/job/extract.py\n",
       "\u001b[0;31mType:\u001b[0m           type\n",
       "\u001b[0;31mSubclasses:\u001b[0m     \n"
      ]
     },
     "metadata": {},
     "output_type": "display_data"
    }
   ],
   "source": [
    "from src import *\n",
    "google.cloud.bigquery.job.ExtractJobConfig(destinationFormat='parquet', compression='SNAPPY')\n"
   ]
  },
  {
   "cell_type": "code",
   "execution_count": 20,
   "id": "b6a0a0a9",
   "metadata": {},
   "outputs": [
    {
     "data": {
      "text/html": [
       "<div>\n",
       "<style scoped>\n",
       "    .dataframe tbody tr th:only-of-type {\n",
       "        vertical-align: middle;\n",
       "    }\n",
       "\n",
       "    .dataframe tbody tr th {\n",
       "        vertical-align: top;\n",
       "    }\n",
       "\n",
       "    .dataframe thead th {\n",
       "        text-align: right;\n",
       "    }\n",
       "</style>\n",
       "<table border=\"1\" class=\"dataframe\">\n",
       "  <thead>\n",
       "    <tr style=\"text-align: right;\">\n",
       "      <th></th>\n",
       "      <th>a</th>\n",
       "      <th>b</th>\n",
       "      <th>c</th>\n",
       "      <th>d</th>\n",
       "    </tr>\n",
       "  </thead>\n",
       "  <tbody>\n",
       "    <tr>\n",
       "      <th>0</th>\n",
       "      <td>wab</td>\n",
       "      <td>wa</td>\n",
       "      <td>b</td>\n",
       "      <td>wab</td>\n",
       "    </tr>\n",
       "    <tr>\n",
       "      <th>1</th>\n",
       "      <td>wa1</td>\n",
       "      <td>wa</td>\n",
       "      <td>01</td>\n",
       "      <td>wa01</td>\n",
       "    </tr>\n",
       "    <tr>\n",
       "      <th>2</th>\n",
       "      <td>wb2</td>\n",
       "      <td>wb</td>\n",
       "      <td>02</td>\n",
       "      <td>wb02</td>\n",
       "    </tr>\n",
       "    <tr>\n",
       "      <th>3</th>\n",
       "      <td>w12</td>\n",
       "      <td>w1</td>\n",
       "      <td>2</td>\n",
       "      <td>w12</td>\n",
       "    </tr>\n",
       "  </tbody>\n",
       "</table>\n",
       "</div>"
      ],
      "text/plain": [
       "     a   b   c     d\n",
       "0  wab  wa   b   wab\n",
       "1  wa1  wa  01  wa01\n",
       "2  wb2  wb  02  wb02\n",
       "3  w12  w1   2   w12"
      ]
     },
     "execution_count": 20,
     "metadata": {},
     "output_type": "execute_result"
    }
   ],
   "source": [
    "import pandas as pd\n",
    "df = pd.DataFrame()\n",
    "df['a'] = ['wab', 'wa1', 'wb2', 'w12']\n",
    "df['b'] = df['a'].str[:-1]\n",
    "df['c'] = df['a'].str[-1]\n",
    "mask = ~df['b'].str[-1].str.isnumeric() & df['c'].str.isnumeric()\n",
    "df.loc[mask, 'c'] = df.loc[mask, 'c'].str.rjust(2, '0')\n",
    "df['d'] = df['b'] + df['c']\n",
    "df"
   ]
  },
  {
   "cell_type": "code",
   "execution_count": null,
   "id": "c197a6e1",
   "metadata": {},
   "outputs": [],
   "source": [
    "1+1"
   ]
  },
  {
   "cell_type": "code",
   "execution_count": null,
   "id": "ef81d108",
   "metadata": {},
   "outputs": [],
   "source": [
    "results_loc"
   ]
  },
  {
   "cell_type": "code",
   "execution_count": null,
   "id": "348ab544",
   "metadata": {},
   "outputs": [],
   "source": [
    "f = pathlib.Path('/home/jupyter/redistricting_data/crosswalks/TX')\n",
    "# f.mkdir()\n",
    "str(f)\n",
    "\n",
    "gcsclient."
   ]
  },
  {
   "cell_type": "code",
   "execution_count": null,
   "id": "ea7341df",
   "metadata": {},
   "outputs": [],
   "source": [
    "str(G.crosswalks.pq).replace(str(root_loc), 'gs://bucket')"
   ]
  },
  {
   "cell_type": "code",
   "execution_count": null,
   "id": "09f5048d",
   "metadata": {},
   "outputs": [],
   "source": []
  },
  {
   "cell_type": "code",
   "execution_count": null,
   "id": "885854f5",
   "metadata": {},
   "outputs": [],
   "source": [
    "G.crosswalks.zip\n",
    "\n",
    "\n",
    "# pq.with_suffix('.temp')"
   ]
  },
  {
   "cell_type": "code",
   "execution_count": null,
   "id": "b96121e0",
   "metadata": {},
   "outputs": [],
   "source": [
    "dir(data_gcs)\n",
    "data_gcs.path"
   ]
  },
  {
   "cell_type": "code",
   "execution_count": null,
   "id": "6b96ff83",
   "metadata": {},
   "outputs": [],
   "source": [
    "df = read_table(G.crosswalks.tbl)"
   ]
  },
  {
   "cell_type": "code",
   "execution_count": null,
   "id": "16ba198a",
   "metadata": {},
   "outputs": [],
   "source": [
    "df.to_parquet(root_loc / 'temp.parquet')"
   ]
  },
  {
   "cell_type": "code",
   "execution_count": null,
   "id": "6afb0e14",
   "metadata": {},
   "outputs": [],
   "source": [
    "df.size"
   ]
  },
  {
   "cell_type": "code",
   "execution_count": null,
   "id": "dcc896bc",
   "metadata": {},
   "outputs": [],
   "source": []
  },
  {
   "cell_type": "code",
   "execution_count": null,
   "id": "bda9a1ba",
   "metadata": {},
   "outputs": [],
   "source": [
    "df2 = pd.read_parquet(root_loc / 'temp.pq')"
   ]
  },
  {
   "cell_type": "code",
   "execution_count": null,
   "id": "db7cd45e",
   "metadata": {},
   "outputs": [],
   "source": [
    "df2.size"
   ]
  },
  {
   "cell_type": "markdown",
   "id": "e7d8f104",
   "metadata": {},
   "source": [
    "## "
   ]
  },
  {
   "cell_type": "code",
   "execution_count": null,
   "id": "48c14243",
   "metadata": {},
   "outputs": [],
   "source": [
    "f = data_gcs + G.crosswalks.pq.name\n",
    "df2.to_parquet(f)"
   ]
  },
  {
   "cell_type": "code",
   "execution_count": null,
   "id": "ef89f488",
   "metadata": {},
   "outputs": [],
   "source": [
    "df.shape, df2.shape"
   ]
  },
  {
   "cell_type": "code",
   "execution_count": null,
   "id": "534d7c7c",
   "metadata": {},
   "outputs": [],
   "source": [
    "df2"
   ]
  },
  {
   "cell_type": "code",
   "execution_count": null,
   "id": "93fadca8",
   "metadata": {},
   "outputs": [],
   "source": [
    "data_gcs = f'gs://redistricting_data/'\n",
    "f = data_gcs + G.crosswalks.pq.name\n",
    "f\n",
    "bqclient.extract_table(G.crosswalks.tbl, data_gcs + G.crosswalks.pq.name).result()"
   ]
  },
  {
   "cell_type": "code",
   "execution_count": null,
   "id": "5f33b2f0",
   "metadata": {},
   "outputs": [],
   "source": [
    "bqclient.extract_table?"
   ]
  },
  {
   "cell_type": "code",
   "execution_count": null,
   "id": "2fa3f7f1",
   "metadata": {},
   "outputs": [],
   "source": [
    "f = root_loc / 'crosswalks_TX_2010.parquet'\n",
    "f\n",
    "df = pd.read_parquet(f)"
   ]
  },
  {
   "cell_type": "code",
   "execution_count": null,
   "id": "0b74b988",
   "metadata": {},
   "outputs": [],
   "source": [
    "df"
   ]
  },
  {
   "cell_type": "code",
   "execution_count": null,
   "id": "8b56e572",
   "metadata": {},
   "outputs": [],
   "source": [
    "'gs://'+b.name"
   ]
  },
  {
   "cell_type": "code",
   "execution_count": null,
   "id": "bd6443ae",
   "metadata": {},
   "outputs": [],
   "source": [
    "b = gcsclient.get_bucket(f'math_for_unbiased_maps_tx')\n",
    "df = pd.DataFrame()\n",
    "# df.to_parquet(b.blob('test'))\n",
    "\n",
    "t = b.blob('test/test2')\n",
    "# df.to_parquet(t)\n",
    "# t.path\n",
    "# g://t.name\n",
    "dir(t)\n",
    "# t._get_download_url(gcsclient)\n",
    "\n",
    "# t.__name__\n",
    "# t.path_helper?"
   ]
  },
  {
   "cell_type": "code",
   "execution_count": null,
   "id": "b02f7375",
   "metadata": {},
   "outputs": [],
   "source": [
    "b = gcsclient.get_bucket(f'math_for_unbiased_maps_tx')\n",
    "c = b.blob('test')\n",
    "c.upload_from_filenameid(root_loc / 'git.ipynb')"
   ]
  },
  {
   "cell_type": "code",
   "execution_count": null,
   "id": "409c379d",
   "metadata": {},
   "outputs": [],
   "source": [
    "proj_id = 'cmat-315920'\n",
    "root_gcs = gcsclient.get_bucket(f'{proj_id}-bucket')\n",
    "# root_gcs.get_blob\n",
    "\n",
    "b = root_gcs.blob('redistricting_data/hi2.txt')#.upload_from_string('hello world')\n",
    "\n",
    "\n",
    "b.blob('sub')\n",
    "# gcsclient.create_bucket?\n",
    "\n",
    "\n",
    "# get_bucket(f'{proj_id}-bucket')\n",
    "# data_gcs = root_gcs.get_blob('redistricting_data/hi.txt')\n",
    "# data_gcs.upload_from_string('hello world')"
   ]
  },
  {
   "cell_type": "code",
   "execution_count": null,
   "id": "7546bfb5",
   "metadata": {},
   "outputs": [],
   "source": [
    "import google.cloud, pandas as pd\n",
    "cred, proj = google.auth.default(scopes=[\"https://www.googleapis.com/auth/cloud-platform\"])\n",
    "\n",
    "proj_id = 'cmat-315920'\n",
    "user_name = 'cook'\n",
    "timestamp = str(pd.Timestamp.now().round(\"s\")).replace(' ','_').replace('-','_').replace(':','_')\n",
    "\n",
    "bqclient   = google.cloud.bigquery.Client(credentials=cred, project=proj)\n",
    "bqdata     = bqclient.get_dataset(f'redistricting_data')\n",
    "bqresults  = bqclient.get_dataset(f'redistricting_results_{user_name}')\n",
    "\n",
    "L = [x for x in bqclient.list_tables(bqdata)]\n",
    "dir(L[0])\n",
    "t = L[0]\n",
    "t.table_id\n",
    "bqdata.\n",
    "\n",
    "\n",
    "# gcsclient  = google.cloud.storage.Client(credentials=cred, project=proj)\n",
    "# gcsresults = gcsclient.get_bucket(f'redistricting_results')\n",
    "\n",
    "# gcsclient.create_bucket('redistricting_results')"
   ]
  },
  {
   "cell_type": "code",
   "execution_count": null,
   "id": "e9e278ad",
   "metadata": {},
   "outputs": [],
   "source": [
    "# bqproj = \n",
    "list(bqclient.list_datasets())\n",
    "bqclient.project"
   ]
  },
  {
   "cell_type": "code",
   "execution_count": null,
   "id": "383b240d",
   "metadata": {},
   "outputs": [],
   "source": [
    "bqclient   = bigquery.Client(credentials=cred, project=proj)"
   ]
  },
  {
   "cell_type": "code",
   "execution_count": null,
   "id": "0b6cfb95",
   "metadata": {},
   "outputs": [],
   "source": [
    "gcsclient = google.cloud.storage.Client(project=proj_id)\n",
    "list(gcsclient.list_buckets())\n",
    "gcsbucket = gcsclient.get_bucket(f'{proj_id}-bucket')\n",
    "folder = gcsbucket.blob('test')\n",
    "gcsbucket.exists()\n",
    "folder.exists()\n",
    "gcsbucket.blob?"
   ]
  },
  {
   "cell_type": "code",
   "execution_count": null,
   "id": "c230b2f5",
   "metadata": {},
   "outputs": [],
   "source": [
    "gcsbucket = gcsclient.get_bucket(f'{proj_id}-bucket')\n",
    "list(gcsbucket.list_blobs())"
   ]
  },
  {
   "cell_type": "code",
   "execution_count": null,
   "id": "49b267e1",
   "metadata": {},
   "outputs": [],
   "source": [
    "root_gcs = gcsclient.get_bucket(f'{proj_id}-bucket')\n",
    "data_gcs = root_gcs.get_blob('redistricting_data')\n"
   ]
  },
  {
   "cell_type": "code",
   "execution_count": null,
   "id": "93e852f6",
   "metadata": {},
   "outputs": [],
   "source": [
    "class Results(Base):\n",
    "    \n",
    "    \n",
    "\n",
    "\n",
    "\n",
    "timestamp = str(pd.Timestamp.now().round(\"s\")).replace(' ','_').replace('-','_').replace(':','_')\n",
    "\n",
    "bq_results\n",
    "gcs_results\n",
    "\n",
    "\n",
    "results_stem = f'{G.gpickle.stem[6:]}/{timestamp}'\n",
    "\n",
    "results_loc = root_path / f'results/{results_stem}'\n",
    "results_gcs = f'gc://{proj_id}-bucket/results/{results_stem}'\n",
    "results_bq  = f'{proj_id}.{results_stem}'\n",
    "\n",
    "results_loc.mkdir(parents=True, exist_ok=True)\n",
    "\n",
    "gcsclient = storage.Client(project=proj_id)\n",
    "\n",
    "gcsbucket = gcsclient.get_bucket('buckets')\n",
    "blob = bucket.blob('some/folder/name/')\n",
    "bqclient.create_dataset(results_bq, exists_ok=True)\n",
    "results_gcs"
   ]
  },
  {
   "cell_type": "code",
   "execution_count": null,
   "id": "f82e8fca",
   "metadata": {},
   "outputs": [],
   "source": [
    "bqclient.create_dataset?"
   ]
  },
  {
   "cell_type": "code",
   "execution_count": null,
   "id": "8ba5f461",
   "metadata": {},
   "outputs": [],
   "source": [
    "root_path"
   ]
  },
  {
   "cell_type": "code",
   "execution_count": null,
   "id": "598ecc5f",
   "metadata": {},
   "outputs": [],
   "source": [
    "from src import *"
   ]
  },
  {
   "cell_type": "code",
   "execution_count": null,
   "id": "eafe9408",
   "metadata": {},
   "outputs": [],
   "source": [
    "bqclient.create_dataset?"
   ]
  },
  {
   "cell_type": "code",
   "execution_count": null,
   "id": "7d05e32f",
   "metadata": {},
   "outputs": [],
   "source": []
  },
  {
   "cell_type": "code",
   "execution_count": null,
   "id": "3b0c7150",
   "metadata": {},
   "outputs": [],
   "source": [
    "%autoreload\n",
    "from src import *\n",
    "\n",
    "nodes_tbl = f'{proj_id}.redistricting_data.nodes_TX_2020_cntyvtd_cd'\n",
    "mcmc_tbl  = f'{proj_id}.redistricting_results_cook.TX_2020_cntyvtd_cd_seed_0000'\n",
    "seeds = np.arange(16)\n",
    "A = Analysis(nodes=nodes_tbl, mcmc=mcmc_tbl, seeds=seeds)\n",
    "A.tbl = f'{proj_id}.redistricting_results_cook.TX_2020_cntyvtd_cd_2021_09_05_01_50_26'\n",
    "A.fetch_results()\n",
    "A.save_results()\n",
    "# A.file"
   ]
  },
  {
   "cell_type": "code",
   "execution_count": null,
   "id": "f686a3d2",
   "metadata": {},
   "outputs": [],
   "source": [
    "dir(A)\n",
    "'_'.join(G.gpickle.stem.split('_')[1:])"
   ]
  },
  {
   "cell_type": "code",
   "execution_count": null,
   "id": "63ff2dd2",
   "metadata": {},
   "outputs": [],
   "source": [
    "A.tbl.split('.')[-1]"
   ]
  },
  {
   "cell_type": "code",
   "execution_count": null,
   "id": "35c72d6d",
   "metadata": {},
   "outputs": [],
   "source": []
  },
  {
   "cell_type": "code",
   "execution_count": null,
   "id": "714516ae",
   "metadata": {},
   "outputs": [],
   "source": [
    "A.results.to_parquet(f\"gs://{proj_id}-bucket/{A.tbl.split('.')[-1]}\")"
   ]
  },
  {
   "cell_type": "code",
   "execution_count": null,
   "id": "7564c345",
   "metadata": {},
   "outputs": [],
   "source": [
    "A.results.shape"
   ]
  },
  {
   "cell_type": "code",
   "execution_count": null,
   "id": "b11c686b",
   "metadata": {},
   "outputs": [],
   "source": [
    "self=A\n",
    "A.tbl\n",
    "root_path / f'results/{self.tbl.split(\".\")[-1]}.parquet'"
   ]
  },
  {
   "cell_type": "code",
   "execution_count": null,
   "id": "04abbc5b",
   "metadata": {},
   "outputs": [],
   "source": [
    "%autoreload\n",
    "from src import *\n",
    "\n",
    "idx = ['seed', 'plan', 'cd']\n",
    "for col in idx:\n",
    "    df[col] = rjust(df[col])\n",
    "df.sort_values(idx, inplace=True)\n",
    "file = pathlib.Path('/home/jupyter/results/TX_2020_cntyvtd_cd_2021_09_05_01_50_26')\n",
    "file.mkdir(parents=True, exist_ok=True)\n",
    "df.to_parquet(file, index=False, partition_cols='seed')"
   ]
  },
  {
   "cell_type": "code",
   "execution_count": null,
   "id": "e207883b",
   "metadata": {},
   "outputs": [],
   "source": [
    "df.head(10)"
   ]
  },
  {
   "cell_type": "code",
   "execution_count": null,
   "id": "8c60124f",
   "metadata": {},
   "outputs": [],
   "source": [
    "district_type = 'cd'\n",
    "\n",
    "tbl = f'cmat-315920.redistricting_results_cook.TX_2020_cntyvtd_cd_seed'\n",
    "s = \"\\nunion all\\n\"\n",
    "seeds = [s for s in range (100, 116) if s not in [104, 110]]\n",
    "summary_stack = s.join([f'select * from {tbl}_{str(seed).rjust(4, \"0\")}_summary' for seed in seeds])\n",
    "stats_stack   = s.join([f'select * from {tbl}_{str(seed).rjust(4, \"0\")}_stats'   for seed in seeds])\n",
    "plans_stack   = s.join([f'select * from {tbl}_{str(seed).rjust(4, \"0\")}_plans'   for seed in seeds])\n",
    "\n",
    "query = f\"\"\"\n",
    "select\n",
    "    B.seed,\n",
    "    B.plan,\n",
    "    C.{district_type},\n",
    "    B.pop_imbalance,\n",
    "    B.polsby_popper as polsby_popper_plan,\n",
    "    C.polsby_popper as polsby_popper_district,\n",
    "    C.total_pop\n",
    "from (\n",
    "    select\n",
    "        *\n",
    "    from (\n",
    "        select\n",
    "            *,\n",
    "            row_number() over (partition by A.hash order by plan asc, seed asc) as r\n",
    "        from (\n",
    "            {summary_stack}\n",
    "            ) as A\n",
    "        )\n",
    "    where r = 1\n",
    "    ) as B\n",
    "join (\n",
    "    select\n",
    "        *\n",
    "    from (\n",
    "        {stats_stack}\n",
    "        )\n",
    "    ) as C\n",
    "on\n",
    "    B.seed = C.seed and B.plan = C.plan\n",
    "\"\"\"\n",
    "df = run_query(query)\n",
    "# \n",
    "df#['hash'].value_counts().sort_values(ascending=False)"
   ]
  },
  {
   "cell_type": "code",
   "execution_count": null,
   "id": "05314b29",
   "metadata": {},
   "outputs": [],
   "source": [
    "district_type = 'cd'\n",
    "\n",
    "nodes = f'cmat-315920.redistricting_data.nodes_TX_2020_cntyvtd_cd'\n",
    "tbl = f'cmat-315920.redistricting_results_cook.TX_2020_cntyvtd_cd_seed'\n",
    "s = \"\\nunion all\\n\"\n",
    "seeds = [s for s in range (100, 116) if s not in [104, 110]]\n",
    "summary_stack = s.join([f'select * from {tbl}_{str(seed).rjust(4, \"0\")}_summary' for seed in seeds])\n",
    "stats_stack   = s.join([f'select * from {tbl}_{str(seed).rjust(4, \"0\")}_stats'   for seed in seeds])\n",
    "plans_stack   = s.join([f'select * from {tbl}_{str(seed).rjust(4, \"0\")}_plans'   for seed in seeds])\n",
    "\n",
    "query = f\"\"\"\n",
    "select\n",
    "    E.seed,\n",
    "    E.plan,\n",
    "    E.{district_type},\n",
    "    max(E.pop_imbalance) as pop_imbalance,\n",
    "    max(E.polsby_popper_plan) as polsby_popper_plan,\n",
    "    max(E.polsby_popper_district) as polsby_popper_district,\n",
    "    max(E.total_pop) as total_pop,\n",
    "    sum(F.total_1race)\n",
    "from (\n",
    "    select\n",
    "        B.seed,\n",
    "        B.plan,\n",
    "        C.{district_type},\n",
    "        B.pop_imbalance,\n",
    "        B.polsby_popper as polsby_popper_plan,\n",
    "        C.polsby_popper as polsby_popper_district,\n",
    "        C.total_pop,\n",
    "        D.geoid\n",
    "    from (\n",
    "        select\n",
    "            *\n",
    "        from (\n",
    "            select\n",
    "                *,\n",
    "                row_number() over (partition by A.hash order by plan asc, seed asc) as r\n",
    "            from (\n",
    "                {summary_stack}\n",
    "                ) as A\n",
    "            )\n",
    "        where r = 1\n",
    "        ) as B\n",
    "    inner join (\n",
    "        {stats_stack}\n",
    "        ) as C\n",
    "    on\n",
    "        B.seed = C.seed and B.plan = C.plan\n",
    "    inner join (\n",
    "        select\n",
    "            *\n",
    "        from (\n",
    "            {plans_stack}\n",
    "            )\n",
    "        ) as D\n",
    "    on\n",
    "        C.seed = D.seed and C.plan = D.plan and C.{district_type} = D.{district_type}\n",
    "    ) as E\n",
    "inner join\n",
    "    {nodes} as F\n",
    "on\n",
    "    E.geoid = F.geoid\n",
    "group by\n",
    "    seed, plan, {district_type}\n",
    "\"\"\"\n",
    "df = run_query(query)\n",
    "# \n",
    "df#['hash'].value_counts().sort_values(ascending=False)"
   ]
  },
  {
   "cell_type": "code",
   "execution_count": null,
   "id": "90ce7564",
   "metadata": {},
   "outputs": [],
   "source": [
    "district_type = 'cd'\n",
    "\n",
    "G.nodes_tbl = f'cmat-315920.redistricting_data.nodes_TX_2020_cntyvtd_cd'\n",
    "M.tbl = f'cmat-315920.redistricting_results_cook.TX_2020_cntyvtd_cd_seed'\n",
    "\n",
    "s = \"\\nunion all\\n\"\n",
    "seeds = [s for s in range (100, 116) if s not in [104, 110]]\n",
    "summary_stack = s.join([f'select * from {tbl}_{str(seed).rjust(4, \"0\")}_summary' for seed in seeds])\n",
    "stats_stack   = s.join([f'select * from {tbl}_{str(seed).rjust(4, \"0\")}_stats'   for seed in seeds])\n",
    "plans_stack   = s.join([f'select * from {tbl}_{str(seed).rjust(4, \"0\")}_plans'   for seed in seeds])\n",
    "\n",
    "cols = [c for c in get_cols(self.nodes) if c not in Levels + District_types + ['geoid', 'county', 'total_pop', 'polygon', 'perim', 'polsby_popper', 'density', 'point']]\n",
    "\n",
    "query = f\"\"\"\n",
    "select\n",
    "    B.seed,\n",
    "    B.plan,\n",
    "    C.{district_type},\n",
    "    max(B.pop_imbalance) as pop_imbalance_plan,\n",
    "    max(B.polsby_popper) as polsby_popper_plan,\n",
    "    max(C.polsby_popper) as polsby_popper_district,\n",
    "    max(C.total_pop) as total_pop,\n",
    "    max(C.total_pop) / sum(E.aland) as density,\n",
    "    {join_str(1).join([f'sum(E.{c}) as {c}' for c in cols])}\n",
    "from (\n",
    "    select\n",
    "        *\n",
    "    from (\n",
    "        select\n",
    "            *,\n",
    "            row_number() over (partition by A.hash order by plan asc, seed asc) as r\n",
    "        from (\n",
    "            {summary_stack}\n",
    "            ) as A\n",
    "        )\n",
    "    where r = 1\n",
    "    ) as B\n",
    "inner join (\n",
    "    {stats_stack}\n",
    "    ) as C\n",
    "on\n",
    "    B.seed = C.seed and B.plan = C.plan\n",
    "inner join (\n",
    "    select\n",
    "        *\n",
    "    from (\n",
    "        {plans_stack}\n",
    "        )\n",
    "    ) as D\n",
    "on\n",
    "    C.seed = D.seed and C.plan = D.plan and C.{district_type} = D.{district_type}\n",
    "inner join\n",
    "    {nodes} as E\n",
    "on\n",
    "    D.geoid = E.geoid\n",
    "group by\n",
    "    seed, plan, {district_type}\n",
    "\"\"\"\n",
    "df = run_query(query)\n",
    "# \n",
    "df#['hash'].value_counts().sort_values(ascending=False)"
   ]
  },
  {
   "cell_type": "code",
   "execution_count": null,
   "id": "b9b2f807",
   "metadata": {},
   "outputs": [],
   "source": [
    "file = '/home/jupyter/results/TX_2020_cntyvtd_cd_2021_09_05_01_50_26'\n",
    "df = pd.read_csv(file+'.csv')"
   ]
  },
  {
   "cell_type": "code",
   "execution_count": null,
   "id": "b9534f0e",
   "metadata": {},
   "outputs": [],
   "source": [
    "file = pathlib.Path('/home/jupyter/results/TX_2020_cntyvtd_cd_2021_09_05_01_50_26')\n",
    "pq = file /'.parquet'\n",
    "pq.mkdir(parents=True, exist_ok=True)\n",
    "df.to_parquet(pq, index=False, partition_cols='seed')"
   ]
  },
  {
   "cell_type": "code",
   "execution_count": null,
   "id": "5acd1ed5",
   "metadata": {},
   "outputs": [],
   "source": [
    "query = f\"\"\"\n",
    "    select\n",
    "        *\n",
    "    from (\n",
    "        {stats_stack}\n",
    "        )\n",
    "\"\"\"\n",
    "run_query(query)"
   ]
  },
  {
   "cell_type": "code",
   "execution_count": null,
   "id": "bd7956ef",
   "metadata": {},
   "outputs": [],
   "source": [
    "df"
   ]
  },
  {
   "cell_type": "code",
   "execution_count": null,
   "id": "250d1e3d",
   "metadata": {},
   "outputs": [],
   "source": [
    "tbl = f'cmat-315920.redistricting_results_cook.TX_2020_cntyvtd_cd_seed'\n",
    "sels = [f'select * from {tbl}_{str(seed).rjust(4, \"0\")}_summary' for seed in range (100, 116) if seed != 110]\n",
    "query = \"\\nunion all\\n\".join(sels)\n",
    "query = f\"\"\"\n",
    "    select\n",
    "        A.hash,\n",
    "        max(seed),\n",
    "        max(plan),\n",
    "        count(*) as count\n",
    "    from (\n",
    "        {query}\n",
    "        ) as A\n",
    "    group by\n",
    "        A.hash\n",
    "\"\"\"\n",
    "df = run_query(query)\n",
    "# \n",
    "df['hash'].value_counts().sort_values(ascending=False)"
   ]
  },
  {
   "cell_type": "code",
   "execution_count": null,
   "id": "3c6dd580",
   "metadata": {},
   "outputs": [],
   "source": [
    "df.dtypes"
   ]
  },
  {
   "cell_type": "code",
   "execution_count": null,
   "id": "9edaa50c",
   "metadata": {},
   "outputs": [],
   "source": [
    "# df['seed'].unique()\n",
    "\n"
   ]
  },
  {
   "cell_type": "code",
   "execution_count": null,
   "id": "6fcd1116",
   "metadata": {},
   "outputs": [],
   "source": []
  }
 ],
 "metadata": {
  "kernelspec": {
   "display_name": "Python 3 (ipykernel)",
   "language": "python",
   "name": "python3"
  },
  "language_info": {
   "codemirror_mode": {
    "name": "ipython",
    "version": 3
   },
   "file_extension": ".py",
   "mimetype": "text/x-python",
   "name": "python",
   "nbconvert_exporter": "python",
   "pygments_lexer": "ipython3",
   "version": "3.7.10"
  }
 },
 "nbformat": 4,
 "nbformat_minor": 5
}
