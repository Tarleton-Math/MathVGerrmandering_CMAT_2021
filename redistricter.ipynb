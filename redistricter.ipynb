{
 "cells": [
  {
   "cell_type": "code",
   "execution_count": null,
   "id": "78b09959",
   "metadata": {},
   "outputs": [],
   "source": [
    "seed = 42\n",
    "proj_id = 'cmat-315920'\n",
    "root_path  = '/home/jupyter'\n",
    "code_path = root_path + '/MathVGerrmandering_CMAT_2021/src/'\n",
    "for f in ['Core', 'Gerry', 'Variable', 'Crosswalks', 'Assignments', 'Shapes',\n",
    "          'Census', 'Elections', 'Votes', 'Combined', 'Edges', 'Nodes', 'Graph']:\n",
    "    %run -i {code_path+f+'.py'}\n",
    "\n",
    "refresh_tbl = (\n",
    "#     'crosswalks',\n",
    "#     'assignments',\n",
    "#     'shapes',\n",
    "#     'census',\n",
    "#     'elections',\n",
    "#     'votes_all',\n",
    "#     'votes_hl',\n",
    "#     'combined',\n",
    "#     'edges',\n",
    "#     'nodes',\n",
    "#     'graph',\n",
    ")\n",
    "\n",
    "refresh_all = (\n",
    "#     'crosswalks',\n",
    "#     'assignments',\n",
    "#     'shapes',\n",
    "#     'census',\n",
    "#     'elections',\n",
    "#     'votes_all',\n",
    "#     'votes_hl',\n",
    "#     'combined',\n",
    "#     'edges',\n",
    "#     'nodes',\n",
    "#     'graph',\n",
    ")\n",
    "\n",
    "for level in ['cnty']:#'bg']#, 'cntyvtd', 'tabblock', 'tract', 'cnty']:\n",
    "    g = Gerry(abbr='TX', level=level,\n",
    "              election_filters=(\n",
    "                \"office='USSen' and race='general'\",\n",
    "                \"office='President' and race='general'\",\n",
    "                \"office like 'USRep%' and race='general'\"),\n",
    "              refresh_tbl=refresh_tbl, refresh_all=refresh_all\n",
    "             )\n",
    "    g.get_data()\n",
    "    g.graph.recomb()\n",
    "    \n",
    "    break\n",
    "    \n",
    "self = g"
   ]
  },
  {
   "cell_type": "code",
   "execution_count": null,
   "id": "47534014",
   "metadata": {},
   "outputs": [],
   "source": [
    "self.graph.btw\n",
    "d = sorted(self.graph.btw.items(), key=lambda x:x[1], reverse=True)\n",
    "d[0]"
   ]
  },
  {
   "cell_type": "code",
   "execution_count": null,
   "id": "4101df2e",
   "metadata": {},
   "outputs": [],
   "source": [
    "self = g\n",
    "N = self.graph.nodes\n",
    "D = N[self.district].unique()\n",
    "P = [(a,b) for a in D for b in D if a < b]\n",
    "rng.permutation(P)\n",
    "# [(a,b) for a in D for b in D if a < b]\n",
    "# D\n",
    "# N.groupby(self.district)\n",
    "# for "
   ]
  },
  {
   "cell_type": "code",
   "execution_count": null,
   "id": "394db47c",
   "metadata": {},
   "outputs": [],
   "source": [
    "pops = self.nodes.df.groupby(self.district)['pop'].sum().to_dict()\n",
    "# pops.pop(1)\n",
    "D = pops.keys()\n",
    "D\n",
    "P = [(a,b) for a in D for b in D if a < b]"
   ]
  },
  {
   "cell_type": "code",
   "execution_count": null,
   "id": "a2f58097",
   "metadata": {},
   "outputs": [],
   "source": [
    "        D = self.nodes.df[self.district].unique()\n",
    "        P = rng.permutation([(a,b) for a in D for b in D if a < b]).tolist()\n",
    "        for district_pair in P:\n",
    "            N = self.nodes.df.query(f'{self.district} in {district_pair}').copy()\n",
    "            H = self.graph.subgraph(N.index)"
   ]
  },
  {
   "cell_type": "code",
   "execution_count": null,
   "id": "b1a83060",
   "metadata": {},
   "outputs": [],
   "source": [
    "        D = N[self.district].unique()\n",
    "        P = [(a,b) for a in D for b in D if a < b]\n",
    "        \n",
    "        for district_pair in rng.permutation(P):#.tolist():\n",
    "            N = self.nodes.query(f'district in {district_pair}').copy()\n"
   ]
  }
 ],
 "metadata": {
  "kernelspec": {
   "display_name": "Python 3",
   "language": "python",
   "name": "python3"
  },
  "language_info": {
   "codemirror_mode": {
    "name": "ipython",
    "version": 3
   },
   "file_extension": ".py",
   "mimetype": "text/x-python",
   "name": "python",
   "nbconvert_exporter": "python",
   "pygments_lexer": "ipython3",
   "version": "3.7.10"
  }
 },
 "nbformat": 4,
 "nbformat_minor": 5
}
