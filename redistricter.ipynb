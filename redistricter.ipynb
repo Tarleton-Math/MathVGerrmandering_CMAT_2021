{
 "cells": [
  {
   "cell_type": "code",
   "execution_count": 15,
   "id": "b319305e",
   "metadata": {},
   "outputs": [
    {
     "name": "stdout",
     "output_type": "stream",
     "text": [
      "The autoreload extension is already loaded. To reload it, use:\n",
      "  %reload_ext autoreload\n",
      "/home/jupyter/MathVGerrmandering_CMAT_2021\n",
      "Get crosswalks_TX_2010_tabblock   ... tabblock table exists ... success\n",
      "Get assignments_TX_2020_tabblock  ... tabblock table exists ... success\n",
      "Get shapes_TX_2020_tabblock       ... tabblock table exists ... success\n",
      "Get census_TX_2020_tabblock       ... tabblock table exists ... success\n",
      "Get elections_TX_2020_tabblock    ... tabblock table exists ... success\n",
      "Get nodes_TX_2020_cntyvtd_cd      ... cntyvtd table exists ... success\n",
      "Get graph_TX_2020_cntyvtd_cd      ... gpickle exists ... success\n",
      "hashseed != 0 so results are NOT reproducible and will NOT be saved to BigQuery\n",
      "seed 1000000: step 0 0hrs 0min 1.15sec, pop_imbal=123.9, county_parts_imbal=38, whole_districts_imbal=9\n",
      "seed 1000000: step 2 0hrs 0min 5.42sec, pop_imbal=119.6, county_parts_imbal=38, whole_districts_imbal=9\n",
      "seed 1000000 done\n",
      "total time elapsed = 0hrs 0min 6.86sec\n"
     ]
    }
   ],
   "source": [
    "%load_ext autoreload\n",
    "%autoreload\n",
    "%cd /home/jupyter/MathVGerrmandering_CMAT_2021/\n",
    "from src import *\n",
    "notebook = True\n",
    "skip_inputs = 'y'\n",
    "graph_opts = {\n",
    "    'abbr'             : 'TX',\n",
    "    'level'            : 'cntyvtd',\n",
    "#     'level'            : 'tabblock',\n",
    "    'district_type'    : 'cd',\n",
    "    'census_yr'        : 2020,\n",
    "    'county_line'      : False,\n",
    "}\n",
    "%run -i redistricter"
   ]
  },
  {
   "cell_type": "code",
   "execution_count": 10,
   "id": "d6b7500d",
   "metadata": {},
   "outputs": [
    {
     "data": {
      "text/plain": [
       "43"
      ]
     },
     "execution_count": 10,
     "metadata": {},
     "output_type": "execute_result"
    }
   ],
   "source": [
    "self=M\n",
    "df = self.splits\n",
    "(df['whole_districts_target'] - df['whole_districts']).abs().sum()\n",
    "(df['county_parts_target'] - df['county_parts']).abs().sum()"
   ]
  },
  {
   "cell_type": "code",
   "execution_count": 10,
   "id": "7d0584d5",
   "metadata": {},
   "outputs": [
    {
     "data": {
      "text/plain": [
       "[('453000105', 25582), ('201000045', 22339)]"
      ]
     },
     "execution_count": 10,
     "metadata": {},
     "output_type": "execute_result"
    }
   ],
   "source": [
    "self=G\n",
    "# w = dict(self.graph.nodes(data='total_pop'))\n",
    "# sorted(w.items(), key=lambda x:x[1], reverse=True)\n",
    "# w = dict(self.graph.nodes(data='total_pop'))\n",
    "sorted(self.graph.nodes(data='total_pop'), key=lambda x:x[1], reverse=True)[:2]"
   ]
  },
  {
   "cell_type": "code",
   "execution_count": 85,
   "id": "0c3aab39",
   "metadata": {},
   "outputs": [
    {
     "data": {
      "text/plain": [
       "766986.9736842106"
      ]
     },
     "execution_count": 85,
     "metadata": {},
     "output_type": "execute_result"
    }
   ],
   "source": [
    "sum(d['total_pop'] for n, d in G.graph.nodes(data=True)) / 38"
   ]
  },
  {
   "cell_type": "code",
   "execution_count": 86,
   "id": "89c298ba",
   "metadata": {},
   "outputs": [
    {
     "ename": "AttributeError",
     "evalue": "'Graph' object has no attribute 'get_districts'",
     "output_type": "error",
     "traceback": [
      "\u001b[0;31m---------------------------------------------------------------------------\u001b[0m",
      "\u001b[0;31mAttributeError\u001b[0m                            Traceback (most recent call last)",
      "\u001b[0;32m/home/jupyter/MathVGerrmandering_CMAT_2021/redistricter.py\u001b[0m in \u001b[0;36m<module>\u001b[0;34m\u001b[0m\n\u001b[0;32m----> 1\u001b[0;31m \u001b[0mself\u001b[0m\u001b[0;34m.\u001b[0m\u001b[0mget_districts\u001b[0m\u001b[0;34m(\u001b[0m\u001b[0;34m)\u001b[0m\u001b[0;34m\u001b[0m\u001b[0;34m\u001b[0m\u001b[0m\n\u001b[0m",
      "\u001b[0;31mAttributeError\u001b[0m: 'Graph' object has no attribute 'get_districts'"
     ]
    }
   ],
   "source": [
    "self.get_districts()"
   ]
  },
  {
   "cell_type": "code",
   "execution_count": 83,
   "id": "d36c5299",
   "metadata": {},
   "outputs": [
    {
     "ename": "AttributeError",
     "evalue": "'Graph' object has no attribute 'pop_total'",
     "output_type": "error",
     "traceback": [
      "\u001b[0;31m---------------------------------------------------------------------------\u001b[0m",
      "\u001b[0;31mAttributeError\u001b[0m                            Traceback (most recent call last)",
      "\u001b[0;32m/home/jupyter/MathVGerrmandering_CMAT_2021/redistricter.py\u001b[0m in \u001b[0;36m<module>\u001b[0;34m\u001b[0m\n\u001b[0;32m----> 1\u001b[0;31m \u001b[0mG\u001b[0m\u001b[0;34m.\u001b[0m\u001b[0mpop_total\u001b[0m\u001b[0;34m\u001b[0m\u001b[0;34m\u001b[0m\u001b[0m\n\u001b[0m",
      "\u001b[0;31mAttributeError\u001b[0m: 'Graph' object has no attribute 'pop_total'"
     ]
    }
   ],
   "source": [
    "\n",
    "G."
   ]
  },
  {
   "cell_type": "code",
   "execution_count": 75,
   "id": "3166c3b1",
   "metadata": {},
   "outputs": [],
   "source": [
    "self = G\n",
    "df = read_table(G.nodes.tbl)\n",
    "idx = df.nlargest(2, 'total_pop')"
   ]
  },
  {
   "cell_type": "code",
   "execution_count": 77,
   "id": "cf64958d",
   "metadata": {},
   "outputs": [
    {
     "data": {
      "text/plain": [
       "125.9394227020797"
      ]
     },
     "execution_count": 77,
     "metadata": {},
     "output_type": "execute_result"
    }
   ],
   "source": [
    "n = df.copy()\n",
    "m = n[self.district_type].max()\n",
    "n.loc[idx.index[0], self.district_type] = m+1\n",
    "n.loc[idx.index[1], self.district_type] = m+2\n",
    "m = n[self.district_type].max()\n",
    "pop_ideal = round(n['total_pop'].sum() / m)\n",
    "d = n.groupby(self.district_type)['total_pop'].sum()\n",
    "(d.max() - d.min()) / pop_ideal * 100"
   ]
  },
  {
   "cell_type": "code",
   "execution_count": 25,
   "id": "4a8552be",
   "metadata": {},
   "outputs": [
    {
     "data": {
      "text/plain": [
       "\u001b[0;31mSignature:\u001b[0m \u001b[0mn\u001b[0m\u001b[0;34m.\u001b[0m\u001b[0minsert\u001b[0m\u001b[0;34m(\u001b[0m\u001b[0mloc\u001b[0m\u001b[0;34m,\u001b[0m \u001b[0mcolumn\u001b[0m\u001b[0;34m,\u001b[0m \u001b[0mvalue\u001b[0m\u001b[0;34m,\u001b[0m \u001b[0mallow_duplicates\u001b[0m\u001b[0;34m:\u001b[0m \u001b[0;34m'bool'\u001b[0m \u001b[0;34m=\u001b[0m \u001b[0;32mFalse\u001b[0m\u001b[0;34m)\u001b[0m \u001b[0;34m->\u001b[0m \u001b[0;34m'None'\u001b[0m\u001b[0;34m\u001b[0m\u001b[0;34m\u001b[0m\u001b[0m\n",
       "\u001b[0;31mDocstring:\u001b[0m\n",
       "Insert column into DataFrame at specified location.\n",
       "\n",
       "Raises a ValueError if `column` is already contained in the DataFrame,\n",
       "unless `allow_duplicates` is set to True.\n",
       "\n",
       "Parameters\n",
       "----------\n",
       "loc : int\n",
       "    Insertion index. Must verify 0 <= loc <= len(columns).\n",
       "column : str, number, or hashable object\n",
       "    Label of the inserted column.\n",
       "value : int, Series, or array-like\n",
       "allow_duplicates : bool, optional\n",
       "\n",
       "See Also\n",
       "--------\n",
       "Index.insert : Insert new item by index.\n",
       "\n",
       "Examples\n",
       "--------\n",
       ">>> df = pd.DataFrame({'col1': [1, 2], 'col2': [3, 4]})\n",
       ">>> df\n",
       "   col1  col2\n",
       "0     1     3\n",
       "1     2     4\n",
       ">>> df.insert(1, \"newcol\", [99, 99])\n",
       ">>> df\n",
       "   col1  newcol  col2\n",
       "0     1      99     3\n",
       "1     2      99     4\n",
       ">>> df.insert(0, \"col1\", [100, 100], allow_duplicates=True)\n",
       ">>> df\n",
       "   col1  col1  newcol  col2\n",
       "0   100     1      99     3\n",
       "1   100     2      99     4\n",
       "\n",
       "Notice that pandas uses index alignment in case of `value` from type `Series`:\n",
       "\n",
       ">>> df.insert(0, \"col0\", pd.Series([5, 6], index=[1, 2]))\n",
       ">>> df\n",
       "   col0  col1  col1  newcol  col2\n",
       "0   NaN   100     1      99     3\n",
       "1   5.0   100     2      99     4\n",
       "\u001b[0;31mFile:\u001b[0m      /opt/conda/lib/python3.7/site-packages/pandas/core/frame.py\n",
       "\u001b[0;31mType:\u001b[0m      method\n"
      ]
     },
     "metadata": {},
     "output_type": "display_data"
    }
   ],
   "source": [
    "n.insert?"
   ]
  },
  {
   "cell_type": "code",
   "execution_count": 73,
   "id": "fd88560d",
   "metadata": {},
   "outputs": [
    {
     "data": {
      "text/plain": [
       "1.23852164378275"
      ]
     },
     "execution_count": 73,
     "metadata": {},
     "output_type": "execute_result"
    }
   ],
   "source": [
    "n = df.copy()\n",
    "m = n[self.district_type].max()\n",
    "n.loc[idx.index[0], self.district_type] = m+1\n",
    "n.loc[idx.index[1], self.district_type] = m+2\n",
    "m = n[self.district_type].max()\n",
    "pop_ideal = round(n['total_pop'].sum() / m)\n",
    "d = n.groupby(self.district_type)['total_pop'].sum()\n",
    "(d.max() - d.min()) / pop_ideal * 100"
   ]
  },
  {
   "cell_type": "code",
   "execution_count": 70,
   "id": "130ec7aa",
   "metadata": {},
   "outputs": [
    {
     "data": {
      "text/plain": [
       "1.23852164378275"
      ]
     },
     "execution_count": 70,
     "metadata": {},
     "output_type": "execute_result"
    }
   ],
   "source": [
    "pop_ideal = round(n['total_pop'].sum() / m)\n",
    "d = n.groupby(self.district_type)['total_pop'].sum()\n",
    "d\n",
    "# (d.max() - d.min()) / pop_ideal\n",
    "(d.max() - d.min()) / pop_ideal"
   ]
  },
  {
   "cell_type": "code",
   "execution_count": 67,
   "id": "b38ec235",
   "metadata": {},
   "outputs": [
    {
     "data": {
      "text/plain": [
       "9007"
      ]
     },
     "execution_count": 67,
     "metadata": {},
     "output_type": "execute_result"
    }
   ],
   "source": [
    "len(G.graph.nodes(data=True))"
   ]
  },
  {
   "cell_type": "code",
   "execution_count": 21,
   "id": "f5a6eedf",
   "metadata": {},
   "outputs": [
    {
     "data": {
      "text/html": [
       "<div>\n",
       "<style scoped>\n",
       "    .dataframe tbody tr th:only-of-type {\n",
       "        vertical-align: middle;\n",
       "    }\n",
       "\n",
       "    .dataframe tbody tr th {\n",
       "        vertical-align: top;\n",
       "    }\n",
       "\n",
       "    .dataframe thead th {\n",
       "        text-align: right;\n",
       "    }\n",
       "</style>\n",
       "<table border=\"1\" class=\"dataframe\">\n",
       "  <thead>\n",
       "    <tr style=\"text-align: right;\">\n",
       "      <th></th>\n",
       "      <th>county</th>\n",
       "      <th>parts_target</th>\n",
       "      <th>whole_districts_target</th>\n",
       "      <th>whole_districts</th>\n",
       "      <th>county_parts</th>\n",
       "    </tr>\n",
       "  </thead>\n",
       "  <tbody>\n",
       "    <tr>\n",
       "      <th>001000001</th>\n",
       "      <td>Anderson</td>\n",
       "      <td>1</td>\n",
       "      <td>0</td>\n",
       "      <td>0</td>\n",
       "      <td>1</td>\n",
       "    </tr>\n",
       "    <tr>\n",
       "      <th>225000006</th>\n",
       "      <td>Houston</td>\n",
       "      <td>1</td>\n",
       "      <td>0</td>\n",
       "      <td>0</td>\n",
       "      <td>1</td>\n",
       "    </tr>\n",
       "    <tr>\n",
       "      <th>289000012</th>\n",
       "      <td>Leon</td>\n",
       "      <td>1</td>\n",
       "      <td>0</td>\n",
       "      <td>0</td>\n",
       "      <td>2</td>\n",
       "    </tr>\n",
       "    <tr>\n",
       "      <th>073000028</th>\n",
       "      <td>Cherokee</td>\n",
       "      <td>1</td>\n",
       "      <td>0</td>\n",
       "      <td>0</td>\n",
       "      <td>1</td>\n",
       "    </tr>\n",
       "    <tr>\n",
       "      <th>161000012</th>\n",
       "      <td>Freestone</td>\n",
       "      <td>1</td>\n",
       "      <td>0</td>\n",
       "      <td>0</td>\n",
       "      <td>1</td>\n",
       "    </tr>\n",
       "    <tr>\n",
       "      <th>...</th>\n",
       "      <td>...</td>\n",
       "      <td>...</td>\n",
       "      <td>...</td>\n",
       "      <td>...</td>\n",
       "      <td>...</td>\n",
       "    </tr>\n",
       "    <tr>\n",
       "      <th>403000003</th>\n",
       "      <td>Sabine</td>\n",
       "      <td>1</td>\n",
       "      <td>0</td>\n",
       "      <td>0</td>\n",
       "      <td>1</td>\n",
       "    </tr>\n",
       "    <tr>\n",
       "      <th>505000002</th>\n",
       "      <td>Zapata</td>\n",
       "      <td>1</td>\n",
       "      <td>0</td>\n",
       "      <td>0</td>\n",
       "      <td>1</td>\n",
       "    </tr>\n",
       "    <tr>\n",
       "      <th>407000002</th>\n",
       "      <td>San Jacinto</td>\n",
       "      <td>1</td>\n",
       "      <td>0</td>\n",
       "      <td>0</td>\n",
       "      <td>1</td>\n",
       "    </tr>\n",
       "    <tr>\n",
       "      <th>301000001</th>\n",
       "      <td>Loving</td>\n",
       "      <td>1</td>\n",
       "      <td>0</td>\n",
       "      <td>0</td>\n",
       "      <td>1</td>\n",
       "    </tr>\n",
       "    <tr>\n",
       "      <th>419000002</th>\n",
       "      <td>Shelby</td>\n",
       "      <td>1</td>\n",
       "      <td>0</td>\n",
       "      <td>0</td>\n",
       "      <td>1</td>\n",
       "    </tr>\n",
       "  </tbody>\n",
       "</table>\n",
       "<p>254 rows × 5 columns</p>\n",
       "</div>"
      ],
      "text/plain": [
       "                county  parts_target  whole_districts_target  whole_districts  \\\n",
       "001000001     Anderson             1                       0                0   \n",
       "225000006      Houston             1                       0                0   \n",
       "289000012         Leon             1                       0                0   \n",
       "073000028     Cherokee             1                       0                0   \n",
       "161000012    Freestone             1                       0                0   \n",
       "...                ...           ...                     ...              ...   \n",
       "403000003       Sabine             1                       0                0   \n",
       "505000002       Zapata             1                       0                0   \n",
       "407000002  San Jacinto             1                       0                0   \n",
       "301000001       Loving             1                       0                0   \n",
       "419000002       Shelby             1                       0                0   \n",
       "\n",
       "           county_parts  \n",
       "001000001             1  \n",
       "225000006             1  \n",
       "289000012             2  \n",
       "073000028             1  \n",
       "161000012             1  \n",
       "...                 ...  \n",
       "403000003             1  \n",
       "505000002             1  \n",
       "407000002             1  \n",
       "301000001             1  \n",
       "419000002             1  \n",
       "\n",
       "[254 rows x 5 columns]"
      ]
     },
     "execution_count": 21,
     "metadata": {},
     "output_type": "execute_result"
    }
   ],
   "source": [
    "n = pd.DataFrame.from_dict(dict(self.graph.nodes(data=True)), orient='index')\n",
    "\n",
    "ideal_pop = round(n['total_pop'].sum() / 38)\n",
    "n['target'] = n.groupby('county')['total_pop'].transform('sum') / ideal_pop\n",
    "n['whole_districts_target'] = np.floor(n['target']).astype(int)\n",
    "n['parts_target'] = np.ceil(n['target']).astype(int)\n",
    "\n",
    "\n",
    "w = n[['county', self.district_type, 'parts_target', 'whole_districts_target']].drop_duplicates()\n",
    "w['whole_district'] = w.groupby(self.district_type)['county'].transform('count') <= 1\n",
    "w['whole_districts'] = w.groupby('county')['whole_district'].transform('sum')\n",
    "w['county_parts'] = w.groupby('county')[self.district_type].transform('count')\n",
    "w.drop(columns=[self.district_type, 'whole_district']).drop_duplicates()\n",
    "# w['parts_error'] = (w['parts_target'] - w['parts']).abs()\n",
    "# w['districts_contained_error'] = (w['districts_contained_target'] - w['districts_contained']).abs()\n",
    "# w.sort_values('parts_target')"
   ]
  },
  {
   "cell_type": "code",
   "execution_count": 11,
   "id": "5fb64bd6",
   "metadata": {},
   "outputs": [
    {
     "data": {
      "text/plain": [
       "county            object\n",
       "total_pop          int64\n",
       "density          float64\n",
       "aland            float64\n",
       "perim            float64\n",
       "polsby_popper    float64\n",
       "cd                 int64\n",
       "dtype: object"
      ]
     },
     "execution_count": 11,
     "metadata": {},
     "output_type": "execute_result"
    }
   ],
   "source": [
    "pd.DataFrame.from_dict(dict(self.graph.nodes(data=True)), orient='index').dtypes"
   ]
  },
  {
   "cell_type": "code",
   "execution_count": 6,
   "id": "207a2173",
   "metadata": {},
   "outputs": [
    {
     "data": {
      "text/plain": [
       "[('001000001',\n",
       "  {'county': 'Anderson',\n",
       "   'total_pop': 3153,\n",
       "   'density': 1437.3040196706522,\n",
       "   'aland': 2.193690379243834,\n",
       "   'perim': 9.522723508028875,\n",
       "   'polsby_popper': 30.4,\n",
       "   'cd': 5}),\n",
       " ('001000003',\n",
       "  {'county': 'Anderson',\n",
       "   'total_pop': 1925,\n",
       "   'density': 70.99892283066696,\n",
       "   'aland': 27.113087399806634,\n",
       "   'perim': 34.66289506416528,\n",
       "   'polsby_popper': 28.36,\n",
       "   'cd': 5}),\n",
       " ('001000006',\n",
       "  {'county': 'Anderson',\n",
       "   'total_pop': 2173,\n",
       "   'density': 832.3754480394484,\n",
       "   'aland': 2.610600787322857,\n",
       "   'perim': 10.042996302861303,\n",
       "   'polsby_popper': 32.53,\n",
       "   'cd': 5})]"
      ]
     },
     "execution_count": 6,
     "metadata": {},
     "output_type": "execute_result"
    }
   ],
   "source": [
    "list(self.graph.nodes(data=True))[:3]"
   ]
  },
  {
   "cell_type": "code",
   "execution_count": 8,
   "id": "ba5432c5",
   "metadata": {},
   "outputs": [
    {
     "data": {
      "text/html": [
       "<div>\n",
       "<style scoped>\n",
       "    .dataframe tbody tr th:only-of-type {\n",
       "        vertical-align: middle;\n",
       "    }\n",
       "\n",
       "    .dataframe tbody tr th {\n",
       "        vertical-align: top;\n",
       "    }\n",
       "\n",
       "    .dataframe thead th {\n",
       "        text-align: right;\n",
       "    }\n",
       "</style>\n",
       "<table border=\"1\" class=\"dataframe\">\n",
       "  <thead>\n",
       "    <tr style=\"text-align: right;\">\n",
       "      <th></th>\n",
       "      <th>county</th>\n",
       "      <th>total_pop</th>\n",
       "      <th>density</th>\n",
       "      <th>aland</th>\n",
       "      <th>perim</th>\n",
       "      <th>polsby_popper</th>\n",
       "      <th>cd</th>\n",
       "    </tr>\n",
       "  </thead>\n",
       "  <tbody>\n",
       "    <tr>\n",
       "      <th>001000001</th>\n",
       "      <td>Anderson</td>\n",
       "      <td>3153</td>\n",
       "      <td>1437.304020</td>\n",
       "      <td>2.193690</td>\n",
       "      <td>9.522724</td>\n",
       "      <td>30.40</td>\n",
       "      <td>5</td>\n",
       "    </tr>\n",
       "    <tr>\n",
       "      <th>001000003</th>\n",
       "      <td>Anderson</td>\n",
       "      <td>1925</td>\n",
       "      <td>70.998923</td>\n",
       "      <td>27.113087</td>\n",
       "      <td>34.662895</td>\n",
       "      <td>28.36</td>\n",
       "      <td>5</td>\n",
       "    </tr>\n",
       "    <tr>\n",
       "      <th>001000006</th>\n",
       "      <td>Anderson</td>\n",
       "      <td>2173</td>\n",
       "      <td>832.375448</td>\n",
       "      <td>2.610601</td>\n",
       "      <td>10.042996</td>\n",
       "      <td>32.53</td>\n",
       "      <td>5</td>\n",
       "    </tr>\n",
       "    <tr>\n",
       "      <th>001000013</th>\n",
       "      <td>Anderson</td>\n",
       "      <td>3109</td>\n",
       "      <td>1497.635341</td>\n",
       "      <td>2.075939</td>\n",
       "      <td>13.762560</td>\n",
       "      <td>13.77</td>\n",
       "      <td>5</td>\n",
       "    </tr>\n",
       "    <tr>\n",
       "      <th>001000002</th>\n",
       "      <td>Anderson</td>\n",
       "      <td>3811</td>\n",
       "      <td>38.774097</td>\n",
       "      <td>98.287267</td>\n",
       "      <td>58.816001</td>\n",
       "      <td>35.70</td>\n",
       "      <td>5</td>\n",
       "    </tr>\n",
       "    <tr>\n",
       "      <th>...</th>\n",
       "      <td>...</td>\n",
       "      <td>...</td>\n",
       "      <td>...</td>\n",
       "      <td>...</td>\n",
       "      <td>...</td>\n",
       "      <td>...</td>\n",
       "      <td>...</td>\n",
       "    </tr>\n",
       "    <tr>\n",
       "      <th>503000005</th>\n",
       "      <td>Young</td>\n",
       "      <td>4361</td>\n",
       "      <td>75.076879</td>\n",
       "      <td>58.087124</td>\n",
       "      <td>55.912427</td>\n",
       "      <td>23.35</td>\n",
       "      <td>19</td>\n",
       "    </tr>\n",
       "    <tr>\n",
       "      <th>503000010</th>\n",
       "      <td>Young</td>\n",
       "      <td>650</td>\n",
       "      <td>8.504740</td>\n",
       "      <td>76.427972</td>\n",
       "      <td>49.265827</td>\n",
       "      <td>39.57</td>\n",
       "      <td>19</td>\n",
       "    </tr>\n",
       "    <tr>\n",
       "      <th>503000024</th>\n",
       "      <td>Young</td>\n",
       "      <td>3524</td>\n",
       "      <td>451.922746</td>\n",
       "      <td>7.797793</td>\n",
       "      <td>35.178468</td>\n",
       "      <td>7.92</td>\n",
       "      <td>19</td>\n",
       "    </tr>\n",
       "    <tr>\n",
       "      <th>505000003</th>\n",
       "      <td>Zapata</td>\n",
       "      <td>3689</td>\n",
       "      <td>95.485030</td>\n",
       "      <td>38.634328</td>\n",
       "      <td>38.340357</td>\n",
       "      <td>33.03</td>\n",
       "      <td>28</td>\n",
       "    </tr>\n",
       "    <tr>\n",
       "      <th>507000002</th>\n",
       "      <td>Zavala</td>\n",
       "      <td>2737</td>\n",
       "      <td>580.393841</td>\n",
       "      <td>4.715763</td>\n",
       "      <td>11.796334</td>\n",
       "      <td>42.59</td>\n",
       "      <td>23</td>\n",
       "    </tr>\n",
       "  </tbody>\n",
       "</table>\n",
       "<p>9007 rows × 7 columns</p>\n",
       "</div>"
      ],
      "text/plain": [
       "             county  total_pop      density      aland      perim  \\\n",
       "001000001  Anderson       3153  1437.304020   2.193690   9.522724   \n",
       "001000003  Anderson       1925    70.998923  27.113087  34.662895   \n",
       "001000006  Anderson       2173   832.375448   2.610601  10.042996   \n",
       "001000013  Anderson       3109  1497.635341   2.075939  13.762560   \n",
       "001000002  Anderson       3811    38.774097  98.287267  58.816001   \n",
       "...             ...        ...          ...        ...        ...   \n",
       "503000005     Young       4361    75.076879  58.087124  55.912427   \n",
       "503000010     Young        650     8.504740  76.427972  49.265827   \n",
       "503000024     Young       3524   451.922746   7.797793  35.178468   \n",
       "505000003    Zapata       3689    95.485030  38.634328  38.340357   \n",
       "507000002    Zavala       2737   580.393841   4.715763  11.796334   \n",
       "\n",
       "           polsby_popper  cd  \n",
       "001000001          30.40   5  \n",
       "001000003          28.36   5  \n",
       "001000006          32.53   5  \n",
       "001000013          13.77   5  \n",
       "001000002          35.70   5  \n",
       "...                  ...  ..  \n",
       "503000005          23.35  19  \n",
       "503000010          39.57  19  \n",
       "503000024           7.92  19  \n",
       "505000003          33.03  28  \n",
       "507000002          42.59  23  \n",
       "\n",
       "[9007 rows x 7 columns]"
      ]
     },
     "execution_count": 8,
     "metadata": {},
     "output_type": "execute_result"
    }
   ],
   "source": [
    "\n"
   ]
  },
  {
   "cell_type": "code",
   "execution_count": null,
   "id": "4ead9b53",
   "metadata": {},
   "outputs": [],
   "source": []
  },
  {
   "cell_type": "code",
   "execution_count": 34,
   "id": "7b362e76",
   "metadata": {},
   "outputs": [],
   "source": [
    "file = f'{root_path}/results/TX_2020_cntyvtd_cd/TX_2020_cntyvtd_cd_0000000_allresults'\n",
    "pq  = file + '.parquet'\n",
    "csv = file + '.csv'\n",
    "df = pd.read_parquet(pq)\n",
    "df.to_csv(csv)"
   ]
  },
  {
   "cell_type": "code",
   "execution_count": 22,
   "id": "7d8a71a6",
   "metadata": {},
   "outputs": [
    {
     "name": "stdout",
     "output_type": "stream",
     "text": [
      "deleting cmat-315920.TX_2020_cntyvtd_cd.TX_2020_cntyvtd_cd_0000000_allresults_1400\n",
      "deleting cmat-315920.TX_2020_cntyvtd_cd.TX_2020_cntyvtd_cd_0000000_allresults_1750\n",
      "deleting cmat-315920.TX_2020_cntyvtd_cd.TX_2020_cntyvtd_cd_0000000_allresults_1800\n"
     ]
    }
   ],
   "source": [
    "from src import *\n",
    "w = 'TX_2020_cntyvtd_cd'\n",
    "bq = f'{proj_id}.w'\n",
    "\n",
    "for tbl in bqclient.list_tables(w):\n",
    "    a = tbl.full_table_id.replace(':','.')\n",
    "    if a.find('allresults') >= 0:\n",
    "        print(f'deleting {a}')\n",
    "        delete_table(a)"
   ]
  },
  {
   "cell_type": "code",
   "execution_count": 30,
   "id": "c121a196",
   "metadata": {},
   "outputs": [
    {
     "data": {
      "text/plain": [
       "['President_2012_general_D_Obama',\n",
       " 'President_2012_general_G_Stein',\n",
       " 'President_2012_general_L_Johnson',\n",
       " 'President_2012_general_R_Romney',\n",
       " 'President_2016_general_D_Clinton',\n",
       " 'President_2016_general_G_Stein',\n",
       " 'President_2016_general_L_Johnson',\n",
       " 'President_2016_general_R_Trump',\n",
       " 'President_2020_general_D_Biden',\n",
       " 'President_2020_general_G_Hawkins',\n",
       " 'President_2020_general_L_Jorgensen',\n",
       " 'President_2020_general_R_Trump',\n",
       " 'USRep10_2012_general_D_WalterCadien',\n",
       " 'USRep10_2012_general_L_Priest',\n",
       " 'USRep10_2012_general_R_McCaul',\n",
       " 'USRep10_2014_general_D_WalterCadien',\n",
       " 'USRep10_2014_general_L_Kelsey',\n",
       " 'USRep10_2014_general_R_McCaul',\n",
       " 'USRep10_2016_general_D_Cadien',\n",
       " 'USRep10_2016_general_L_Kelsey',\n",
       " 'USRep10_2016_general_R_McCaul',\n",
       " 'USRep10_2018_general_D_Siegel',\n",
       " 'USRep10_2018_general_L_Ryan',\n",
       " 'USRep10_2018_general_R_McCaul',\n",
       " 'USRep10_2020_general_D_Siegel',\n",
       " 'USRep10_2020_general_L_Eriksen',\n",
       " 'USRep10_2020_general_R_McCaul',\n",
       " 'USRep11_2012_general_D_Riley',\n",
       " 'USRep11_2012_general_L_Ballard',\n",
       " 'USRep11_2012_general_R_Conaway',\n",
       " 'USRep11_2014_general_L_Lange',\n",
       " 'USRep11_2014_general_R_Conaway',\n",
       " 'USRep11_2016_general_L_Landholt',\n",
       " 'USRep11_2016_general_R_Conaway',\n",
       " 'USRep11_2018_general_D_Leeder',\n",
       " 'USRep11_2018_general_L_Smith',\n",
       " 'USRep11_2018_general_R_Conaway',\n",
       " 'USRep11_2020_general_D_Hogg',\n",
       " 'USRep11_2020_general_L_Cody',\n",
       " 'USRep11_2020_general_R_Pfluger',\n",
       " 'USRep12_2012_general_D_Robinson',\n",
       " 'USRep12_2012_general_L_Solodow',\n",
       " 'USRep12_2012_general_R_Granger',\n",
       " 'USRep12_2014_general_D_Greene',\n",
       " 'USRep12_2014_general_L_Colliver',\n",
       " 'USRep12_2014_general_R_Granger',\n",
       " 'USRep12_2016_general_D_Bradshaw',\n",
       " 'USRep12_2016_general_L_Colliver',\n",
       " 'USRep12_2016_general_R_Granger',\n",
       " 'USRep12_2018_general_D_Adia',\n",
       " 'USRep12_2018_general_L_Leddy',\n",
       " 'USRep12_2018_general_R_Granger',\n",
       " 'USRep12_2020_general_D_Welch',\n",
       " 'USRep12_2020_general_L_Holcomb',\n",
       " 'USRep12_2020_general_R_Granger',\n",
       " 'USRep13_2012_general_G_Houston',\n",
       " 'USRep13_2012_general_L_Deek',\n",
       " 'USRep13_2012_general_R_Thornberry',\n",
       " 'USRep13_2014_general_D_Minter',\n",
       " 'USRep13_2014_general_G_Cook',\n",
       " 'USRep13_2014_general_L_Pivoda',\n",
       " 'USRep13_2014_general_R_Thornberry',\n",
       " 'USRep13_2016_general_G_Tomlinson',\n",
       " 'USRep13_2016_general_L_DeWeese',\n",
       " 'USRep13_2016_general_R_Thornberry',\n",
       " 'USRep13_2018_general_D_Sagan',\n",
       " 'USRep13_2018_general_L_DeWeese',\n",
       " 'USRep13_2018_general_R_Thornberry',\n",
       " 'USRep13_2020_general_D_Trujillo',\n",
       " 'USRep13_2020_general_L_Westbrook',\n",
       " 'USRep13_2020_general_R_Jackson',\n",
       " 'USRep14_2012_general_D_Lampson',\n",
       " 'USRep14_2012_general_G_Smith',\n",
       " 'USRep14_2012_general_L_Grady',\n",
       " 'USRep14_2012_general_R_Weber',\n",
       " 'USRep14_2014_general_D_Brown',\n",
       " 'USRep14_2014_general_L_Wieder',\n",
       " 'USRep14_2014_general_R_Weber',\n",
       " 'USRep14_2016_general_D_Cole',\n",
       " 'USRep14_2016_general_R_Weber',\n",
       " 'USRep14_2018_general_D_Bell',\n",
       " 'USRep14_2018_general_L_Conley',\n",
       " 'USRep14_2018_general_R_Weber',\n",
       " 'USRep14_2020_general_D_Bell',\n",
       " 'USRep14_2020_general_R_Weber',\n",
       " 'USRep15_2012_general_D_Hinojosa',\n",
       " 'USRep15_2012_general_L_Finch',\n",
       " 'USRep15_2012_general_R_Brueggemann',\n",
       " 'USRep15_2014_general_D_Hinojosa',\n",
       " 'USRep15_2014_general_L_Partain',\n",
       " 'USRep15_2014_general_R_Zamora',\n",
       " 'USRep15_2016_general_D_Gonzalez',\n",
       " 'USRep15_2016_general_G_Tijerina',\n",
       " 'USRep15_2016_general_L_Leone',\n",
       " 'USRep15_2016_general_R_Westley',\n",
       " 'USRep15_2018_general_D_Gonzalez',\n",
       " 'USRep15_2018_general_L_Cristo',\n",
       " 'USRep15_2018_general_R_Westley',\n",
       " 'USRep15_2020_general_D_Gonzalez',\n",
       " 'USRep15_2020_general_L_Leone',\n",
       " 'USRep15_2020_general_R_DeLaCruzHernandez',\n",
       " 'USRep16_2012_general_D_ORourke',\n",
       " 'USRep16_2012_general_L_Sodoy',\n",
       " 'USRep16_2012_general_R_Carrasco',\n",
       " 'USRep16_2014_general_D_ORourke',\n",
       " 'USRep16_2014_general_L_Perez',\n",
       " 'USRep16_2014_general_R_Roen',\n",
       " 'USRep16_2016_general_D_ORourke',\n",
       " 'USRep16_2016_general_G_Gourdoux',\n",
       " 'USRep16_2016_general_L_Perez',\n",
       " 'USRep16_2018_general_D_Escobar',\n",
       " 'USRep16_2018_general_R_Seeberger',\n",
       " 'USRep16_2020_general_D_Escobar',\n",
       " 'USRep16_2020_general_R_ArmendarizJackson',\n",
       " 'USRep17_2012_general_L_Easton',\n",
       " 'USRep17_2012_general_R_Flores',\n",
       " 'USRep17_2014_general_D_Haynes',\n",
       " 'USRep17_2014_general_L_Hamilton',\n",
       " 'USRep17_2014_general_R_Flores',\n",
       " 'USRep17_2016_general_D_Matta',\n",
       " 'USRep17_2016_general_L_Patterson',\n",
       " 'USRep17_2016_general_R_Flores',\n",
       " 'USRep17_2018_general_D_Kennedy',\n",
       " 'USRep17_2018_general_L_Churchman',\n",
       " 'USRep17_2018_general_R_Flores',\n",
       " 'USRep17_2020_general_D_Kennedy',\n",
       " 'USRep17_2020_general_L_Brown',\n",
       " 'USRep17_2020_general_R_Sessions',\n",
       " 'USRep18_2012_general_D_JacksonLee',\n",
       " 'USRep18_2012_general_L_Barber',\n",
       " 'USRep18_2012_general_R_Seibert',\n",
       " 'USRep18_2014_general_D_JacksonLee',\n",
       " 'USRep18_2014_general_G_Alessi',\n",
       " 'USRep18_2014_general_R_Seibert',\n",
       " 'USRep18_2016_general_D_JacksonLee',\n",
       " 'USRep18_2016_general_G_Kleven',\n",
       " 'USRep18_2016_general_R_Bartley',\n",
       " 'USRep18_2018_general_D_JacksonLee',\n",
       " 'USRep18_2018_general_L_Spencer',\n",
       " 'USRep18_2018_general_R_Pate',\n",
       " 'USRep18_2020_general_D_JacksonLee',\n",
       " 'USRep18_2020_general_L_Spencer',\n",
       " 'USRep18_2020_general_R_Champion',\n",
       " 'USRep19_2012_general_L_Peterson',\n",
       " 'USRep19_2012_general_R_Neugebauer',\n",
       " 'USRep19_2014_general_D_Marchbanks',\n",
       " 'USRep19_2014_general_L_Peterson',\n",
       " 'USRep19_2014_general_R_Neugebauer',\n",
       " 'USRep19_2016_general_G_Lawson',\n",
       " 'USRep19_2016_general_L_Bonar',\n",
       " 'USRep19_2016_general_R_Arrington',\n",
       " 'USRep19_2018_general_D_Levario',\n",
       " 'USRep19_2018_general_R_Arrington',\n",
       " 'USRep19_2020_general_D_Watson',\n",
       " 'USRep19_2020_general_L_Burnes',\n",
       " 'USRep19_2020_general_R_Arrington',\n",
       " 'USRep1_2012_general_D_McKellar',\n",
       " 'USRep1_2012_general_L_Patterson',\n",
       " 'USRep1_2012_general_R_Gohmert',\n",
       " 'USRep1_2014_general_D_McKellar',\n",
       " 'USRep1_2014_general_R_Gohmert',\n",
       " 'USRep1_2016_general_D_McKellar',\n",
       " 'USRep1_2016_general_L_Gray',\n",
       " 'USRep1_2016_general_R_Gohmert',\n",
       " 'USRep1_2018_general_D_McKellar',\n",
       " 'USRep1_2018_general_L_Callaway',\n",
       " 'USRep1_2018_general_R_Gohmert',\n",
       " 'USRep1_2020_general_D_Gilbert',\n",
       " 'USRep1_2020_general_R_Gohmert',\n",
       " 'USRep20_2012_general_D_Castro',\n",
       " 'USRep20_2012_general_G_Diaz',\n",
       " 'USRep20_2012_general_L_Potts',\n",
       " 'USRep20_2012_general_R_Rosa',\n",
       " 'USRep20_2014_general_D_Castro',\n",
       " 'USRep20_2014_general_L_Blunt',\n",
       " 'USRep20_2016_general_D_Castro',\n",
       " 'USRep20_2016_general_G_Pipkin',\n",
       " 'USRep20_2016_general_L_Blunt',\n",
       " 'USRep20_2018_general_D_Castro',\n",
       " 'USRep20_2018_general_L_Blunt',\n",
       " 'USRep20_2020_general_D_Castro',\n",
       " 'USRep20_2020_general_L_Blunt',\n",
       " 'USRep20_2020_general_R_Garza',\n",
       " 'USRep21_2012_general_D_Duval',\n",
       " 'USRep21_2012_general_L_Liberty',\n",
       " 'USRep21_2012_general_R_Smith',\n",
       " 'USRep21_2014_general_G_Diaz',\n",
       " 'USRep21_2014_general_L_Shields',\n",
       " 'USRep21_2014_general_R_Smith',\n",
       " 'USRep21_2016_general_D_Wakely',\n",
       " 'USRep21_2016_general_G_Diaz',\n",
       " 'USRep21_2016_general_L_Loewe',\n",
       " 'USRep21_2016_general_R_Smith',\n",
       " 'USRep21_2018_general_D_Kopser',\n",
       " 'USRep21_2018_general_L_Santos',\n",
       " 'USRep21_2018_general_R_Roy',\n",
       " 'USRep21_2020_general_D_Davis',\n",
       " 'USRep21_2020_general_G_Wakely',\n",
       " 'USRep21_2020_general_L_DiBianca',\n",
       " 'USRep21_2020_general_R_Roy',\n",
       " 'USRep22_2012_general_D_Rogers',\n",
       " 'USRep22_2012_general_G_Cook',\n",
       " 'USRep22_2012_general_L_Susman',\n",
       " 'USRep22_2012_general_R_Olson',\n",
       " 'USRep22_2014_general_D_Briscoe',\n",
       " 'USRep22_2014_general_L_Lapham',\n",
       " 'USRep22_2014_general_R_Olson',\n",
       " 'USRep22_2016_general_D_Gibson',\n",
       " 'USRep22_2016_general_R_Olson',\n",
       " 'USRep22_2018_general_D_Kulkarni',\n",
       " 'USRep22_2018_general_L_McElligott',\n",
       " 'USRep22_2018_general_R_Olson',\n",
       " 'USRep22_2020_general_D_Kulkarni',\n",
       " 'USRep22_2020_general_L_LeBlanc',\n",
       " 'USRep22_2020_general_R_Nehls',\n",
       " 'USRep23_2012_general_D_Gallego',\n",
       " 'USRep23_2012_general_G_Scharf',\n",
       " 'USRep23_2012_general_L_Blunt',\n",
       " 'USRep23_2012_general_R_Canseco',\n",
       " 'USRep23_2014_general_D_Gallego',\n",
       " 'USRep23_2014_general_L_Corvalan',\n",
       " 'USRep23_2014_general_R_Hurd',\n",
       " 'USRep23_2016_general_D_Gallego',\n",
       " 'USRep23_2016_general_L_Corvalan',\n",
       " 'USRep23_2016_general_R_Hurd',\n",
       " 'USRep23_2018_general_D_OrtizJones',\n",
       " 'USRep23_2018_general_L_Corvalan',\n",
       " 'USRep23_2018_general_R_Hurd',\n",
       " 'USRep23_2020_general_D_OrtizJones',\n",
       " 'USRep23_2020_general_L_Villela',\n",
       " 'USRep23_2020_general_R_Gonzales',\n",
       " 'USRep24_2012_general_D_Rusk',\n",
       " 'USRep24_2012_general_L_Stathas',\n",
       " 'USRep24_2012_general_R_Marchant',\n",
       " 'USRep24_2014_general_D_McGehearty',\n",
       " 'USRep24_2014_general_L_Kolis',\n",
       " 'USRep24_2014_general_R_Marchant',\n",
       " 'USRep24_2016_general_D_McDowell',\n",
       " 'USRep24_2016_general_G_McCormick',\n",
       " 'USRep24_2016_general_L_Kolis',\n",
       " 'USRep24_2016_general_R_Marchant',\n",
       " 'USRep24_2018_general_D_McDowell',\n",
       " 'USRep24_2018_general_L_Kolls',\n",
       " 'USRep24_2018_general_R_Marchant',\n",
       " 'USRep24_2020_general_D_Valenzuela',\n",
       " 'USRep24_2020_general_L_Hamilton',\n",
       " 'USRep24_2020_general_R_VanDuyne',\n",
       " 'USRep25_2012_general_D_Henderson',\n",
       " 'USRep25_2012_general_L_Dewey',\n",
       " 'USRep25_2012_general_R_Williams',\n",
       " 'USRep25_2014_general_D_Montoya',\n",
       " 'USRep25_2014_general_L_Betz',\n",
       " 'USRep25_2014_general_R_Williams',\n",
       " 'USRep25_2016_general_D_Thomas',\n",
       " 'USRep25_2016_general_L_Schneiderman',\n",
       " 'USRep25_2016_general_R_Williams',\n",
       " 'USRep25_2018_general_D_Oliver',\n",
       " 'USRep25_2018_general_L_Lindsey',\n",
       " 'USRep25_2018_general_R_Williams',\n",
       " 'USRep25_2020_general_D_Oliver',\n",
       " 'USRep25_2020_general_L_Kelsey',\n",
       " 'USRep25_2020_general_R_Williams',\n",
       " 'USRep26_2012_general_D_Sanchez',\n",
       " 'USRep26_2012_general_L_Boler',\n",
       " 'USRep26_2012_general_R_Burgess',\n",
       " 'USRep26_2014_general_L_Boler',\n",
       " 'USRep26_2014_general_R_Burgess',\n",
       " 'USRep26_2016_general_D_Mauck',\n",
       " 'USRep26_2016_general_L_Boler',\n",
       " 'USRep26_2016_general_R_Burgess',\n",
       " 'USRep26_2018_general_D_Fagan',\n",
       " 'USRep26_2018_general_L_Boler',\n",
       " 'USRep26_2018_general_R_Burgess',\n",
       " 'USRep26_2020_general_D_Iannuzzi',\n",
       " 'USRep26_2020_general_L_Boler',\n",
       " 'USRep26_2020_general_R_Burgess',\n",
       " 'USRep27_2012_general_D_Harrison',\n",
       " 'USRep27_2012_general_L_Byrd',\n",
       " 'USRep27_2012_general_R_Farenthold',\n",
       " 'USRep27_2014_general_D_Reed',\n",
       " 'USRep27_2014_general_L_Simonson',\n",
       " 'USRep27_2014_general_R_Farenthold',\n",
       " 'USRep27_2016_general_D_Barrera',\n",
       " 'USRep27_2016_general_R_Farenthold',\n",
       " 'USRep27_2018_general_D_Holguin',\n",
       " 'USRep27_2018_general_L_Tinus',\n",
       " 'USRep27_2018_general_R_Cloud',\n",
       " 'USRep27_2020_general_D_DeLaFuente',\n",
       " 'USRep27_2020_general_L_Gray',\n",
       " 'USRep27_2020_general_R_Cloud',\n",
       " 'USRep28_2012_general_D_Cuellar',\n",
       " 'USRep28_2012_general_G_Cary',\n",
       " 'USRep28_2012_general_L_Hisel',\n",
       " 'USRep28_2012_general_R_Hayward',\n",
       " 'USRep28_2014_general_D_Cuellar',\n",
       " 'USRep28_2014_general_G_Cary',\n",
       " 'USRep28_2014_general_L_Aikens',\n",
       " 'USRep28_2016_general_D_Cuellar',\n",
       " 'USRep28_2016_general_G_Cary',\n",
       " 'USRep28_2016_general_R_Hardin',\n",
       " 'USRep28_2018_general_D_Cuellar',\n",
       " 'USRep28_2018_general_L_Thomas',\n",
       " 'USRep28_2020_general_D_Cuellar',\n",
       " 'USRep28_2020_general_L_Congdon',\n",
       " 'USRep28_2020_general_R_Whitten',\n",
       " 'USRep29_2012_general_D_Green',\n",
       " 'USRep29_2012_general_G_Selva',\n",
       " 'USRep29_2012_general_L_Stanczak',\n",
       " 'USRep29_2014_general_D_Green',\n",
       " 'USRep29_2014_general_L_Stanczak',\n",
       " 'USRep29_2016_general_D_Green',\n",
       " 'USRep29_2016_general_G_PartschGalvan',\n",
       " 'USRep29_2016_general_L_FloresPerez',\n",
       " 'USRep29_2016_general_R_Garza',\n",
       " 'USRep29_2018_general_D_Garcia',\n",
       " 'USRep29_2018_general_L_Burns',\n",
       " 'USRep29_2018_general_R_Aronoff',\n",
       " 'USRep29_2020_general_D_Garcia',\n",
       " 'USRep29_2020_general_L_Kurtz',\n",
       " 'USRep29_2020_general_R_Blanco',\n",
       " 'USRep2_2012_general_D_Dougherty',\n",
       " 'USRep2_2012_general_G_Roberts',\n",
       " 'USRep2_2012_general_L_Duncan',\n",
       " 'USRep2_2012_general_R_Poe',\n",
       " 'USRep2_2014_general_D_Letsos',\n",
       " 'USRep2_2014_general_G_Roberts',\n",
       " 'USRep2_2014_general_L_Veasaw',\n",
       " 'USRep2_2014_general_R_Poe',\n",
       " 'USRep2_2016_general_D_Bryan',\n",
       " 'USRep2_2016_general_G_Darr',\n",
       " 'USRep2_2016_general_L_Veasaw',\n",
       " 'USRep2_2016_general_R_Poe',\n",
       " 'USRep2_2018_general_D_Litton',\n",
       " 'USRep2_2018_general_L_Gunnels',\n",
       " 'USRep2_2018_general_R_Crenshaw',\n",
       " 'USRep2_2020_general_D_Ladjevardian',\n",
       " 'USRep2_2020_general_L_Scheirman',\n",
       " 'USRep2_2020_general_R_Crenshaw',\n",
       " 'USRep30_2012_general_D_BerniceJohnson',\n",
       " 'USRep30_2012_general_L_Rankin',\n",
       " 'USRep30_2012_general_R_Washington',\n",
       " 'USRep30_2014_general_D_BerniceJohnson',\n",
       " 'USRep30_2014_general_L_Koch',\n",
       " 'USRep30_2016_general_D_BerniceJohnson',\n",
       " 'USRep30_2016_general_G_Prentice',\n",
       " 'USRep30_2016_general_L_Woods',\n",
       " 'USRep30_2016_general_R_Lingerfelt',\n",
       " 'USRep30_2018_general_D_BerniceJohnson',\n",
       " 'USRep30_2018_general_L_Jones',\n",
       " 'USRep30_2020_general_D_BerniceJohnson',\n",
       " 'USRep30_2020_general_R_Pennie',\n",
       " 'USRep31_2012_general_D_Wyman',\n",
       " 'USRep31_2012_general_L_Garofolo',\n",
       " 'USRep31_2012_general_R_Carter',\n",
       " 'USRep31_2014_general_D_Minor',\n",
       " 'USRep31_2014_general_L_Ballard',\n",
       " 'USRep31_2014_general_R_Carter',\n",
       " 'USRep31_2016_general_D_Clark',\n",
       " 'USRep31_2016_general_L_Ballard',\n",
       " 'USRep31_2016_general_R_Carter',\n",
       " 'USRep31_2018_general_D_Hegar',\n",
       " 'USRep31_2018_general_L_Hope',\n",
       " 'USRep31_2018_general_R_Carter',\n",
       " 'USRep31_2020_general_D_Imam',\n",
       " 'USRep31_2020_general_L_Patterson',\n",
       " 'USRep31_2020_general_R_Carter',\n",
       " 'USRep32_2012_general_D_McGovern',\n",
       " 'USRep32_2012_general_L_Hollist',\n",
       " 'USRep32_2012_general_R_Sessions',\n",
       " 'USRep32_2014_general_D_Perez',\n",
       " 'USRep32_2014_general_L_Rankin',\n",
       " 'USRep32_2014_general_R_Sessions',\n",
       " 'USRep32_2016_general_G_Stuard',\n",
       " 'USRep32_2016_general_L_Rankin',\n",
       " 'USRep32_2016_general_R_Sessions',\n",
       " 'USRep32_2018_general_D_Allred',\n",
       " 'USRep32_2018_general_L_Baker',\n",
       " 'USRep32_2018_general_R_Sessions',\n",
       " 'USRep32_2020_general_D_Allred',\n",
       " 'USRep32_2020_general_L_MowreyPeterson',\n",
       " 'USRep32_2020_general_R_Collins',\n",
       " 'USRep33_2012_general_D_Veasey',\n",
       " 'USRep33_2012_general_G_Lindsay',\n",
       " 'USRep33_2012_general_R_Bradley',\n",
       " 'USRep33_2014_general_D_Veasey',\n",
       " 'USRep33_2014_general_L_Reeves',\n",
       " 'USRep33_2016_general_D_Veasey',\n",
       " 'USRep33_2016_general_R_Mitchell',\n",
       " 'USRep33_2018_general_D_Veasey',\n",
       " 'USRep33_2018_general_L_Reeves',\n",
       " 'USRep33_2018_general_R_Billups',\n",
       " 'USRep33_2020_general_D_Veasey',\n",
       " 'USRep33_2020_general_L_Reeves',\n",
       " 'USRep33_2020_general_R_CordovaVasquez',\n",
       " 'USRep34_2012_general_D_Vela',\n",
       " 'USRep34_2012_general_L_Shanklin',\n",
       " 'USRep34_2012_general_R_PuenteBradshaw',\n",
       " 'USRep34_2014_general_D_Vela',\n",
       " 'USRep34_2014_general_L_Rowley',\n",
       " 'USRep34_2014_general_R_Smith',\n",
       " 'USRep34_2016_general_D_Vela',\n",
       " 'USRep34_2016_general_R_Gonzalez',\n",
       " 'USRep34_2018_general_D_Vela',\n",
       " 'USRep34_2018_general_R_Gonzalez',\n",
       " 'USRep34_2020_general_D_Vela',\n",
       " 'USRep34_2020_general_L_Cristo',\n",
       " 'USRep34_2020_general_R_Gonzalez',\n",
       " 'USRep35_2012_general_D_Doggett',\n",
       " 'USRep35_2012_general_G_Owen',\n",
       " 'USRep35_2012_general_L_Leone',\n",
       " 'USRep35_2012_general_R_Narvaiz',\n",
       " 'USRep35_2014_general_D_Doggett',\n",
       " 'USRep35_2014_general_G_Swift',\n",
       " 'USRep35_2014_general_L_Bruner',\n",
       " 'USRep35_2014_general_R_Narvaiz',\n",
       " 'USRep35_2016_general_D_Doggett',\n",
       " 'USRep35_2016_general_G_Trimble',\n",
       " 'USRep35_2016_general_L_Smith',\n",
       " 'USRep35_2016_general_R_Narvaiz',\n",
       " 'USRep35_2018_general_D_Doggett',\n",
       " 'USRep35_2018_general_L_Patterson',\n",
       " 'USRep35_2018_general_R_Smalling',\n",
       " 'USRep35_2020_general_D_Doggett',\n",
       " 'USRep35_2020_general_L_Loewe',\n",
       " 'USRep35_2020_general_R_GarciaSharon',\n",
       " 'USRep36_2012_general_D_Martin',\n",
       " 'USRep36_2012_general_L_Cole',\n",
       " 'USRep36_2012_general_R_Stockman',\n",
       " 'USRep36_2014_general_D_Cole',\n",
       " 'USRep36_2014_general_G_Ridley',\n",
       " 'USRep36_2014_general_L_Veach',\n",
       " 'USRep36_2014_general_R_Babin',\n",
       " 'USRep36_2016_general_G_Ridley',\n",
       " 'USRep36_2016_general_R_Babin',\n",
       " 'USRep36_2018_general_D_Steele',\n",
       " 'USRep36_2018_general_R_Babin',\n",
       " 'USRep36_2020_general_D_Lewis',\n",
       " 'USRep36_2020_general_G_Ridley',\n",
       " 'USRep36_2020_general_L_Abbey',\n",
       " 'USRep36_2020_general_R_Babin',\n",
       " 'USRep3_2014_general_G_Blair',\n",
       " 'USRep3_2014_general_R_Johnson',\n",
       " 'USRep3_2016_general_D_Bell',\n",
       " 'USRep3_2016_general_G_Blair',\n",
       " 'USRep3_2016_general_L_Jameson',\n",
       " 'USRep3_2016_general_R_Johnson',\n",
       " 'USRep3_2018_general_D_Burch',\n",
       " 'USRep3_2018_general_L_Claytor',\n",
       " 'USRep3_2018_general_R_Taylor',\n",
       " 'USRep3_2020_general_D_Seikaly',\n",
       " 'USRep3_2020_general_L_Claytor',\n",
       " 'USRep3_2020_general_R_Taylor',\n",
       " 'USRep4_2012_general_D_Hathcox',\n",
       " 'USRep4_2012_general_L_Griffing',\n",
       " 'USRep4_2012_general_R_Hall',\n",
       " 'USRep4_2016_general_L_Wommack',\n",
       " 'USRep4_2016_general_R_Ratcliffe',\n",
       " 'USRep4_2018_general_D_Krantz',\n",
       " 'USRep4_2018_general_L_Ashby',\n",
       " 'USRep4_2018_general_R_Ratcliffe',\n",
       " 'USRep4_2020_general_D_Foster',\n",
       " 'USRep4_2020_general_L_Antonelli',\n",
       " 'USRep4_2020_general_R_Fallon',\n",
       " 'USRep5_2012_general_D_Mrosko',\n",
       " 'USRep5_2012_general_L_Ashby',\n",
       " 'USRep5_2012_general_R_Hensarling',\n",
       " 'USRep5_2014_general_L_Ashby',\n",
       " 'USRep5_2014_general_R_Hensarling',\n",
       " 'USRep5_2016_general_L_Ashby',\n",
       " 'USRep5_2016_general_R_Hensarling',\n",
       " 'USRep5_2018_general_D_Wood',\n",
       " 'USRep5_2018_general_R_Gooden',\n",
       " 'USRep5_2020_general_D_Salter',\n",
       " 'USRep5_2020_general_L_Hale',\n",
       " 'USRep5_2020_general_R_Gooden',\n",
       " 'USRep6_2012_general_D_Sanders',\n",
       " 'USRep6_2012_general_G_Parmer',\n",
       " 'USRep6_2012_general_L_Chauvin',\n",
       " 'USRep6_2012_general_R_Barton',\n",
       " 'USRep6_2014_general_D_Cozad',\n",
       " 'USRep6_2014_general_L_Chauvin',\n",
       " 'USRep6_2014_general_R_Barton',\n",
       " 'USRep6_2016_general_D_Woolridge',\n",
       " 'USRep6_2016_general_G_Smith',\n",
       " 'USRep6_2016_general_R_Barton',\n",
       " 'USRep6_2018_general_D_Sanchez',\n",
       " 'USRep6_2018_general_L_Harber',\n",
       " 'USRep6_2018_general_R_Wright',\n",
       " 'USRep6_2020_general_D_Daniel',\n",
       " 'USRep6_2020_general_L_Black',\n",
       " 'USRep6_2020_general_R_Wright',\n",
       " 'USRep7_2012_general_D_Cargas',\n",
       " 'USRep7_2012_general_G_Findley',\n",
       " 'USRep7_2012_general_L_Parks',\n",
       " 'USRep7_2012_general_R_Culberson',\n",
       " 'USRep7_2014_general_D_Cargas',\n",
       " 'USRep7_2014_general_L_Fowler',\n",
       " 'USRep7_2014_general_R_Culberson',\n",
       " 'USRep7_2016_general_D_Cargas',\n",
       " 'USRep7_2016_general_R_Culberson',\n",
       " 'USRep7_2018_general_D_Fletcher',\n",
       " 'USRep7_2018_general_R_Culberson',\n",
       " 'USRep7_2020_general_D_Fletcher',\n",
       " 'USRep7_2020_general_L_Kelly',\n",
       " 'USRep7_2020_general_R_Hunt',\n",
       " 'USRep8_2012_general_D_Burns',\n",
       " 'USRep8_2012_general_L_Hall',\n",
       " 'USRep8_2012_general_R_Brady',\n",
       " 'USRep8_2014_general_L_Petty',\n",
       " 'USRep8_2014_general_R_Brady',\n",
       " 'USRep8_2018_general_D_David',\n",
       " 'USRep8_2018_general_L_Duncan',\n",
       " 'USRep8_2018_general_R_Brady',\n",
       " 'USRep8_2020_general_D_Hernandez',\n",
       " 'USRep8_2020_general_L_Duncan',\n",
       " 'USRep8_2020_general_R_Brady',\n",
       " 'USRep9_2012_general_D_Green',\n",
       " 'USRep9_2012_general_G_Foster',\n",
       " 'USRep9_2012_general_L_Wieder',\n",
       " 'USRep9_2012_general_R_Mueller',\n",
       " 'USRep9_2014_general_D_Green',\n",
       " 'USRep9_2014_general_L_Johnson',\n",
       " 'USRep9_2016_general_D_Green',\n",
       " 'USRep9_2016_general_R_Martin',\n",
       " 'USRep9_2018_general_D_Green',\n",
       " 'USRep9_2018_general_L_Kurtz',\n",
       " 'USRep9_2020_general_D_Green',\n",
       " 'USRep9_2020_general_L_Sosa',\n",
       " 'USRep9_2020_general_R_Teague',\n",
       " 'USSen_2012_general_D_Sadler',\n",
       " 'USSen_2012_general_G_Collins',\n",
       " 'USSen_2012_general_L_Myers',\n",
       " 'USSen_2012_general_R_Cruz',\n",
       " 'USSen_2014_general_D_Alameel',\n",
       " 'USSen_2014_general_G_Sanchez',\n",
       " 'USSen_2014_general_L_Paddock',\n",
       " 'USSen_2014_general_R_Cornyn',\n",
       " 'USSen_2018_general_D_ORourke',\n",
       " 'USSen_2018_general_L_Dikeman',\n",
       " 'USSen_2018_general_R_Cruz',\n",
       " 'USSen_2020_general_D_Hegar',\n",
       " 'USSen_2020_general_G_Collins',\n",
       " 'USSen_2020_general_L_McKennon',\n",
       " 'USSen_2020_general_R_Cornyn',\n",
       " 'polygon',\n",
       " 'aland',\n",
       " 'perim',\n",
       " 'polsby_popper',\n",
       " 'density',\n",
       " 'point']"
      ]
     },
     "execution_count": 30,
     "metadata": {},
     "output_type": "execute_result"
    }
   ],
   "source": [
    "get_cols(f'{proj_id}.redistricting_data.nodes_TX_2020_cntyvtd_cd')[301:]"
   ]
  },
  {
   "cell_type": "code",
   "execution_count": null,
   "id": "3264b9c6",
   "metadata": {},
   "outputs": [],
   "source": [
    "from src import *\n",
    "ds = f'{proj_id}.TX_2020_cntyvtd_cd'\n",
    "for src_tbl in bqclient.list_tables(ds, max_):\n"
   ]
  },
  {
   "cell_type": "code",
   "execution_count": null,
   "id": "470f7ea8",
   "metadata": {},
   "outputs": [],
   "source": [
    "bqclient.list_tables?"
   ]
  },
  {
   "cell_type": "code",
   "execution_count": 60,
   "id": "34495ecf",
   "metadata": {},
   "outputs": [
    {
     "data": {
      "text/plain": [
       "2"
      ]
     },
     "execution_count": 60,
     "metadata": {},
     "output_type": "execute_result"
    }
   ],
   "source": [
    "1+1"
   ]
  },
  {
   "cell_type": "code",
   "execution_count": 75,
   "id": "9423732d",
   "metadata": {},
   "outputs": [
    {
     "name": "stdout",
     "output_type": "stream",
     "text": [
      "copying cmat-315920:results.TX_2020_cntyvtd_cd_0001_plans to cmat-315920.TX_2020_cntyvtd_cd.0001_plans\n"
     ]
    },
    {
     "ename": "AssertionError",
     "evalue": "",
     "output_type": "error",
     "traceback": [
      "\u001b[0;31m---------------------------------------------------------------------------\u001b[0m",
      "\u001b[0;31mAssertionError\u001b[0m                            Traceback (most recent call last)",
      "\u001b[0;32m/home/jupyter/MathVGerrmandering_CMAT_2021/redistricter.py\u001b[0m in \u001b[0;36m<module>\u001b[0;34m\u001b[0m\n\u001b[1;32m      7\u001b[0m \u001b[0;31m# #     src = f'{ds}.{src}'\u001b[0m\u001b[0;34m\u001b[0m\u001b[0;34m\u001b[0m\u001b[0;34m\u001b[0m\u001b[0m\n\u001b[1;32m      8\u001b[0m     \u001b[0mprint\u001b[0m\u001b[0;34m(\u001b[0m\u001b[0;34mf'copying {src_tbl.full_table_id} to {dest}'\u001b[0m\u001b[0;34m)\u001b[0m\u001b[0;34m\u001b[0m\u001b[0;34m\u001b[0m\u001b[0m\n\u001b[0;32m----> 9\u001b[0;31m     \u001b[0;32massert\u001b[0m \u001b[0;36m1\u001b[0m\u001b[0;34m==\u001b[0m\u001b[0;36m2\u001b[0m\u001b[0;34m\u001b[0m\u001b[0;34m\u001b[0m\u001b[0m\n\u001b[0m\u001b[1;32m     10\u001b[0m \u001b[0;31m#     try:\u001b[0m\u001b[0;34m\u001b[0m\u001b[0;34m\u001b[0m\u001b[0;34m\u001b[0m\u001b[0m\n\u001b[1;32m     11\u001b[0m \u001b[0;31m#         bqclient.get_table(dest)\u001b[0m\u001b[0;34m\u001b[0m\u001b[0;34m\u001b[0m\u001b[0;34m\u001b[0m\u001b[0m\n",
      "\u001b[0;31mAssertionError\u001b[0m: "
     ]
    }
   ],
   "source": [
    "from src import *\n",
    "for src_tbl in bqclient.list_tables(f'{proj_id}.results'):\n",
    "    w = src_tbl.table_id.split('_')\n",
    "    ds = f'{proj_id}.{\"_\".join(w[:4])}'\n",
    "    dest = f'{ds}.{\"_\".join(w[4:])}'\n",
    "    try:\n",
    "        bqclient.get_table(dest)\n",
    "    except:\n",
    "        print(f'copying {src_tbl.full_table_id} to {dest}')\n",
    "        bqclient.create_dataset(ds, exists_ok=True)\n",
    "        bqclient.copy_table(src_tbl, dest).result()\n",
    "    \n",
    "#     print(src_tbl.table_id, dest_tbl)\n",
    "#     bqclient.copy_table(src_tbl, dest_tbl).result()\n",
    "#     client.delete_table(table_id, not_found_ok=True)\n",
    "#     print(ds)\n",
    "# bqclient.list_tables?\n",
    "# (root)\n",
    "# ds"
   ]
  },
  {
   "cell_type": "code",
   "execution_count": 49,
   "id": "ea7c650a",
   "metadata": {},
   "outputs": [
    {
     "name": "stdout",
     "output_type": "stream",
     "text": [
      "no\n"
     ]
    }
   ],
   "source": [
    "try:\n",
    "    bqclient.get_table('cmat-315920.TX_2020_cntyvtd_cd.10001_plans')\n",
    "except:\n",
    "    print('no')"
   ]
  },
  {
   "cell_type": "code",
   "execution_count": 1,
   "id": "4ac192a5",
   "metadata": {},
   "outputs": [
    {
     "name": "stdout",
     "output_type": "stream",
     "text": [
      "getting states\n"
     ]
    }
   ],
   "source": [
    "from src import *"
   ]
  },
  {
   "cell_type": "code",
   "execution_count": 2,
   "id": "9f6b5ebc",
   "metadata": {},
   "outputs": [
    {
     "data": {
      "text/plain": [
       "True"
      ]
     },
     "execution_count": 2,
     "metadata": {},
     "output_type": "execute_result"
    }
   ],
   "source": [
    "t = 'cmat-315920.results.TX_2020_cntyvtd_cd_0000_plans'\n",
    "check_table(t)"
   ]
  },
  {
   "cell_type": "code",
   "execution_count": 4,
   "id": "ba313d5f",
   "metadata": {},
   "outputs": [],
   "source": [
    "df = pd.DataFrame()"
   ]
  },
  {
   "cell_type": "code",
   "execution_count": 5,
   "id": "253e1908",
   "metadata": {},
   "outputs": [
    {
     "data": {
      "text/plain": [
       "\u001b[0;31mSignature:\u001b[0m\n",
       "\u001b[0mdf\u001b[0m\u001b[0;34m.\u001b[0m\u001b[0mto_parquet\u001b[0m\u001b[0;34m(\u001b[0m\u001b[0;34m\u001b[0m\n",
       "\u001b[0;34m\u001b[0m    \u001b[0mpath\u001b[0m\u001b[0;34m:\u001b[0m \u001b[0;34m'FilePathOrBuffer | None'\u001b[0m \u001b[0;34m=\u001b[0m \u001b[0;32mNone\u001b[0m\u001b[0;34m,\u001b[0m\u001b[0;34m\u001b[0m\n",
       "\u001b[0;34m\u001b[0m    \u001b[0mengine\u001b[0m\u001b[0;34m:\u001b[0m \u001b[0;34m'str'\u001b[0m \u001b[0;34m=\u001b[0m \u001b[0;34m'auto'\u001b[0m\u001b[0;34m,\u001b[0m\u001b[0;34m\u001b[0m\n",
       "\u001b[0;34m\u001b[0m    \u001b[0mcompression\u001b[0m\u001b[0;34m:\u001b[0m \u001b[0;34m'str | None'\u001b[0m \u001b[0;34m=\u001b[0m \u001b[0;34m'snappy'\u001b[0m\u001b[0;34m,\u001b[0m\u001b[0;34m\u001b[0m\n",
       "\u001b[0;34m\u001b[0m    \u001b[0mindex\u001b[0m\u001b[0;34m:\u001b[0m \u001b[0;34m'bool | None'\u001b[0m \u001b[0;34m=\u001b[0m \u001b[0;32mNone\u001b[0m\u001b[0;34m,\u001b[0m\u001b[0;34m\u001b[0m\n",
       "\u001b[0;34m\u001b[0m    \u001b[0mpartition_cols\u001b[0m\u001b[0;34m:\u001b[0m \u001b[0;34m'list[str] | None'\u001b[0m \u001b[0;34m=\u001b[0m \u001b[0;32mNone\u001b[0m\u001b[0;34m,\u001b[0m\u001b[0;34m\u001b[0m\n",
       "\u001b[0;34m\u001b[0m    \u001b[0mstorage_options\u001b[0m\u001b[0;34m:\u001b[0m \u001b[0;34m'StorageOptions'\u001b[0m \u001b[0;34m=\u001b[0m \u001b[0;32mNone\u001b[0m\u001b[0;34m,\u001b[0m\u001b[0;34m\u001b[0m\n",
       "\u001b[0;34m\u001b[0m    \u001b[0;34m**\u001b[0m\u001b[0mkwargs\u001b[0m\u001b[0;34m,\u001b[0m\u001b[0;34m\u001b[0m\n",
       "\u001b[0;34m\u001b[0m\u001b[0;34m)\u001b[0m \u001b[0;34m->\u001b[0m \u001b[0;34m'bytes | None'\u001b[0m\u001b[0;34m\u001b[0m\u001b[0;34m\u001b[0m\u001b[0m\n",
       "\u001b[0;31mDocstring:\u001b[0m\n",
       "Write a DataFrame to the binary parquet format.\n",
       "\n",
       "This function writes the dataframe as a `parquet file\n",
       "<https://parquet.apache.org/>`_. You can choose different parquet\n",
       "backends, and have the option of compression. See\n",
       ":ref:`the user guide <io.parquet>` for more details.\n",
       "\n",
       "Parameters\n",
       "----------\n",
       "path : str or file-like object, default None\n",
       "    If a string, it will be used as Root Directory path\n",
       "    when writing a partitioned dataset. By file-like object,\n",
       "    we refer to objects with a write() method, such as a file handle\n",
       "    (e.g. via builtin open function) or io.BytesIO. The engine\n",
       "    fastparquet does not accept file-like objects. If path is None,\n",
       "    a bytes object is returned.\n",
       "\n",
       "    .. versionchanged:: 1.2.0\n",
       "\n",
       "    Previously this was \"fname\"\n",
       "\n",
       "engine : {'auto', 'pyarrow', 'fastparquet'}, default 'auto'\n",
       "    Parquet library to use. If 'auto', then the option\n",
       "    ``io.parquet.engine`` is used. The default ``io.parquet.engine``\n",
       "    behavior is to try 'pyarrow', falling back to 'fastparquet' if\n",
       "    'pyarrow' is unavailable.\n",
       "compression : {'snappy', 'gzip', 'brotli', None}, default 'snappy'\n",
       "    Name of the compression to use. Use ``None`` for no compression.\n",
       "index : bool, default None\n",
       "    If ``True``, include the dataframe's index(es) in the file output.\n",
       "    If ``False``, they will not be written to the file.\n",
       "    If ``None``, similar to ``True`` the dataframe's index(es)\n",
       "    will be saved. However, instead of being saved as values,\n",
       "    the RangeIndex will be stored as a range in the metadata so it\n",
       "    doesn't require much space and is faster. Other indexes will\n",
       "    be included as columns in the file output.\n",
       "partition_cols : list, optional, default None\n",
       "    Column names by which to partition the dataset.\n",
       "    Columns are partitioned in the order they are given.\n",
       "    Must be None if path is not a string.\n",
       "storage_options : dict, optional\n",
       "    Extra options that make sense for a particular storage connection, e.g.\n",
       "    host, port, username, password, etc. For HTTP(S) URLs the key-value pairs\n",
       "    are forwarded to ``urllib`` as header options. For other URLs (e.g.\n",
       "    starting with \"s3://\", and \"gcs://\") the key-value pairs are forwarded to\n",
       "    ``fsspec``. Please see ``fsspec`` and ``urllib`` for more details.\n",
       "\n",
       "    .. versionadded:: 1.2.0\n",
       "\n",
       "**kwargs\n",
       "    Additional arguments passed to the parquet library. See\n",
       "    :ref:`pandas io <io.parquet>` for more details.\n",
       "\n",
       "Returns\n",
       "-------\n",
       "bytes if no path argument is provided else None\n",
       "\n",
       "See Also\n",
       "--------\n",
       "read_parquet : Read a parquet file.\n",
       "DataFrame.to_csv : Write a csv file.\n",
       "DataFrame.to_sql : Write to a sql table.\n",
       "DataFrame.to_hdf : Write to hdf.\n",
       "\n",
       "Notes\n",
       "-----\n",
       "This function requires either the `fastparquet\n",
       "<https://pypi.org/project/fastparquet>`_ or `pyarrow\n",
       "<https://arrow.apache.org/docs/python/>`_ library.\n",
       "\n",
       "Examples\n",
       "--------\n",
       ">>> df = pd.DataFrame(data={'col1': [1, 2], 'col2': [3, 4]})\n",
       ">>> df.to_parquet('df.parquet.gzip',\n",
       "...               compression='gzip')  # doctest: +SKIP\n",
       ">>> pd.read_parquet('df.parquet.gzip')  # doctest: +SKIP\n",
       "   col1  col2\n",
       "0     1     3\n",
       "1     2     4\n",
       "\n",
       "If you want to get a buffer to the parquet content you can use a io.BytesIO\n",
       "object, as long as you don't use partition_cols, which creates multiple files.\n",
       "\n",
       ">>> import io\n",
       ">>> f = io.BytesIO()\n",
       ">>> df.to_parquet(f)\n",
       ">>> f.seek(0)\n",
       "0\n",
       ">>> content = f.read()\n",
       "\u001b[0;31mFile:\u001b[0m      /opt/conda/lib/python3.7/site-packages/pandas/core/frame.py\n",
       "\u001b[0;31mType:\u001b[0m      method\n"
      ]
     },
     "metadata": {},
     "output_type": "display_data"
    }
   ],
   "source": [
    "df.to_parquet?"
   ]
  },
  {
   "cell_type": "code",
   "execution_count": 2,
   "id": "337a1710",
   "metadata": {},
   "outputs": [
    {
     "data": {
      "text/plain": [
       "\u001b[0;31mInit signature:\u001b[0m \u001b[0mgoogle\u001b[0m\u001b[0;34m.\u001b[0m\u001b[0mcloud\u001b[0m\u001b[0;34m.\u001b[0m\u001b[0mbigquery\u001b[0m\u001b[0;34m.\u001b[0m\u001b[0mjob\u001b[0m\u001b[0;34m.\u001b[0m\u001b[0mExtractJobConfig\u001b[0m\u001b[0;34m(\u001b[0m\u001b[0;34m**\u001b[0m\u001b[0mkwargs\u001b[0m\u001b[0;34m)\u001b[0m\u001b[0;34m\u001b[0m\u001b[0;34m\u001b[0m\u001b[0m\n",
       "\u001b[0;31mDocstring:\u001b[0m     \n",
       "Configuration options for extract jobs.\n",
       "\n",
       "All properties in this class are optional. Values which are :data:`None` ->\n",
       "server defaults. Set properties on the constructed configuration by using\n",
       "the property name as the name of a keyword argument.\n",
       "\u001b[0;31mFile:\u001b[0m           /opt/conda/lib/python3.7/site-packages/google/cloud/bigquery/job/extract.py\n",
       "\u001b[0;31mType:\u001b[0m           type\n",
       "\u001b[0;31mSubclasses:\u001b[0m     \n"
      ]
     },
     "metadata": {},
     "output_type": "display_data"
    }
   ],
   "source": [
    "from src import *\n",
    "google.cloud.bigquery.job.ExtractJobConfig(destinationFormat='parquet', compression='SNAPPY')\n"
   ]
  },
  {
   "cell_type": "code",
   "execution_count": 20,
   "id": "ffcd1afd",
   "metadata": {},
   "outputs": [
    {
     "data": {
      "text/html": [
       "<div>\n",
       "<style scoped>\n",
       "    .dataframe tbody tr th:only-of-type {\n",
       "        vertical-align: middle;\n",
       "    }\n",
       "\n",
       "    .dataframe tbody tr th {\n",
       "        vertical-align: top;\n",
       "    }\n",
       "\n",
       "    .dataframe thead th {\n",
       "        text-align: right;\n",
       "    }\n",
       "</style>\n",
       "<table border=\"1\" class=\"dataframe\">\n",
       "  <thead>\n",
       "    <tr style=\"text-align: right;\">\n",
       "      <th></th>\n",
       "      <th>a</th>\n",
       "      <th>b</th>\n",
       "      <th>c</th>\n",
       "      <th>d</th>\n",
       "    </tr>\n",
       "  </thead>\n",
       "  <tbody>\n",
       "    <tr>\n",
       "      <th>0</th>\n",
       "      <td>wab</td>\n",
       "      <td>wa</td>\n",
       "      <td>b</td>\n",
       "      <td>wab</td>\n",
       "    </tr>\n",
       "    <tr>\n",
       "      <th>1</th>\n",
       "      <td>wa1</td>\n",
       "      <td>wa</td>\n",
       "      <td>01</td>\n",
       "      <td>wa01</td>\n",
       "    </tr>\n",
       "    <tr>\n",
       "      <th>2</th>\n",
       "      <td>wb2</td>\n",
       "      <td>wb</td>\n",
       "      <td>02</td>\n",
       "      <td>wb02</td>\n",
       "    </tr>\n",
       "    <tr>\n",
       "      <th>3</th>\n",
       "      <td>w12</td>\n",
       "      <td>w1</td>\n",
       "      <td>2</td>\n",
       "      <td>w12</td>\n",
       "    </tr>\n",
       "  </tbody>\n",
       "</table>\n",
       "</div>"
      ],
      "text/plain": [
       "     a   b   c     d\n",
       "0  wab  wa   b   wab\n",
       "1  wa1  wa  01  wa01\n",
       "2  wb2  wb  02  wb02\n",
       "3  w12  w1   2   w12"
      ]
     },
     "execution_count": 20,
     "metadata": {},
     "output_type": "execute_result"
    }
   ],
   "source": [
    "import pandas as pd\n",
    "df = pd.DataFrame()\n",
    "df['a'] = ['wab', 'wa1', 'wb2', 'w12']\n",
    "df['b'] = df['a'].str[:-1]\n",
    "df['c'] = df['a'].str[-1]\n",
    "mask = ~df['b'].str[-1].str.isnumeric() & df['c'].str.isnumeric()\n",
    "df.loc[mask, 'c'] = df.loc[mask, 'c'].str.rjust(2, '0')\n",
    "df['d'] = df['b'] + df['c']\n",
    "df"
   ]
  },
  {
   "cell_type": "code",
   "execution_count": null,
   "id": "d06b1658",
   "metadata": {},
   "outputs": [],
   "source": [
    "1+1"
   ]
  },
  {
   "cell_type": "code",
   "execution_count": null,
   "id": "6608fee7",
   "metadata": {},
   "outputs": [],
   "source": [
    "results_loc"
   ]
  },
  {
   "cell_type": "code",
   "execution_count": null,
   "id": "e8e91433",
   "metadata": {},
   "outputs": [],
   "source": [
    "f = pathlib.Path('/home/jupyter/redistricting_data/crosswalks/TX')\n",
    "# f.mkdir()\n",
    "str(f)\n",
    "\n",
    "gcsclient."
   ]
  },
  {
   "cell_type": "code",
   "execution_count": null,
   "id": "e37df763",
   "metadata": {},
   "outputs": [],
   "source": [
    "str(G.crosswalks.pq).replace(str(root_loc), 'gs://bucket')"
   ]
  },
  {
   "cell_type": "code",
   "execution_count": null,
   "id": "2eef6e45",
   "metadata": {},
   "outputs": [],
   "source": []
  },
  {
   "cell_type": "code",
   "execution_count": null,
   "id": "2e22c00e",
   "metadata": {},
   "outputs": [],
   "source": [
    "G.crosswalks.zip\n",
    "\n",
    "\n",
    "# pq.with_suffix('.temp')"
   ]
  },
  {
   "cell_type": "code",
   "execution_count": null,
   "id": "5dcfecc7",
   "metadata": {},
   "outputs": [],
   "source": [
    "dir(data_gcs)\n",
    "data_gcs.path"
   ]
  },
  {
   "cell_type": "code",
   "execution_count": null,
   "id": "bf286b73",
   "metadata": {},
   "outputs": [],
   "source": [
    "df = read_table(G.crosswalks.tbl)"
   ]
  },
  {
   "cell_type": "code",
   "execution_count": null,
   "id": "f0ee0941",
   "metadata": {},
   "outputs": [],
   "source": [
    "df.to_parquet(root_loc / 'temp.parquet')"
   ]
  },
  {
   "cell_type": "code",
   "execution_count": null,
   "id": "6da46977",
   "metadata": {},
   "outputs": [],
   "source": [
    "df.size"
   ]
  },
  {
   "cell_type": "code",
   "execution_count": null,
   "id": "2b642927",
   "metadata": {},
   "outputs": [],
   "source": []
  },
  {
   "cell_type": "code",
   "execution_count": null,
   "id": "0ab3e2a4",
   "metadata": {},
   "outputs": [],
   "source": [
    "df2 = pd.read_parquet(root_loc / 'temp.pq')"
   ]
  },
  {
   "cell_type": "code",
   "execution_count": null,
   "id": "2bc60982",
   "metadata": {},
   "outputs": [],
   "source": [
    "df2.size"
   ]
  },
  {
   "cell_type": "markdown",
   "id": "c528a5ca",
   "metadata": {},
   "source": [
    "## "
   ]
  },
  {
   "cell_type": "code",
   "execution_count": null,
   "id": "ec532310",
   "metadata": {},
   "outputs": [],
   "source": [
    "f = data_gcs + G.crosswalks.pq.name\n",
    "df2.to_parquet(f)"
   ]
  },
  {
   "cell_type": "code",
   "execution_count": null,
   "id": "1d8ebc9d",
   "metadata": {},
   "outputs": [],
   "source": [
    "df.shape, df2.shape"
   ]
  },
  {
   "cell_type": "code",
   "execution_count": null,
   "id": "32d07517",
   "metadata": {},
   "outputs": [],
   "source": [
    "df2"
   ]
  },
  {
   "cell_type": "code",
   "execution_count": null,
   "id": "b6fcc82f",
   "metadata": {},
   "outputs": [],
   "source": [
    "data_gcs = f'gs://redistricting_data/'\n",
    "f = data_gcs + G.crosswalks.pq.name\n",
    "f\n",
    "bqclient.extract_table(G.crosswalks.tbl, data_gcs + G.crosswalks.pq.name).result()"
   ]
  },
  {
   "cell_type": "code",
   "execution_count": null,
   "id": "aae52def",
   "metadata": {},
   "outputs": [],
   "source": [
    "bqclient.extract_table?"
   ]
  },
  {
   "cell_type": "code",
   "execution_count": null,
   "id": "63e7d840",
   "metadata": {},
   "outputs": [],
   "source": [
    "f = root_loc / 'crosswalks_TX_2010.parquet'\n",
    "f\n",
    "df = pd.read_parquet(f)"
   ]
  },
  {
   "cell_type": "code",
   "execution_count": null,
   "id": "884870fe",
   "metadata": {},
   "outputs": [],
   "source": [
    "df"
   ]
  },
  {
   "cell_type": "code",
   "execution_count": null,
   "id": "cc4614ae",
   "metadata": {},
   "outputs": [],
   "source": [
    "'gs://'+b.name"
   ]
  },
  {
   "cell_type": "code",
   "execution_count": null,
   "id": "ebce6be7",
   "metadata": {},
   "outputs": [],
   "source": [
    "b = gcsclient.get_bucket(f'math_for_unbiased_maps_tx')\n",
    "df = pd.DataFrame()\n",
    "# df.to_parquet(b.blob('test'))\n",
    "\n",
    "t = b.blob('test/test2')\n",
    "# df.to_parquet(t)\n",
    "# t.path\n",
    "# g://t.name\n",
    "dir(t)\n",
    "# t._get_download_url(gcsclient)\n",
    "\n",
    "# t.__name__\n",
    "# t.path_helper?"
   ]
  },
  {
   "cell_type": "code",
   "execution_count": null,
   "id": "4d5ac4f2",
   "metadata": {},
   "outputs": [],
   "source": [
    "b = gcsclient.get_bucket(f'math_for_unbiased_maps_tx')\n",
    "c = b.blob('test')\n",
    "c.upload_from_filenameid(root_loc / 'git.ipynb')"
   ]
  },
  {
   "cell_type": "code",
   "execution_count": null,
   "id": "2dd8ba71",
   "metadata": {},
   "outputs": [],
   "source": [
    "proj_id = 'cmat-315920'\n",
    "root_gcs = gcsclient.get_bucket(f'{proj_id}-bucket')\n",
    "# root_gcs.get_blob\n",
    "\n",
    "b = root_gcs.blob('redistricting_data/hi2.txt')#.upload_from_string('hello world')\n",
    "\n",
    "\n",
    "b.blob('sub')\n",
    "# gcsclient.create_bucket?\n",
    "\n",
    "\n",
    "# get_bucket(f'{proj_id}-bucket')\n",
    "# data_gcs = root_gcs.get_blob('redistricting_data/hi.txt')\n",
    "# data_gcs.upload_from_string('hello world')"
   ]
  },
  {
   "cell_type": "code",
   "execution_count": null,
   "id": "fed6416f",
   "metadata": {},
   "outputs": [],
   "source": [
    "import google.cloud, pandas as pd\n",
    "cred, proj = google.auth.default(scopes=[\"https://www.googleapis.com/auth/cloud-platform\"])\n",
    "\n",
    "proj_id = 'cmat-315920'\n",
    "user_name = 'cook'\n",
    "timestamp = str(pd.Timestamp.now().round(\"s\")).replace(' ','_').replace('-','_').replace(':','_')\n",
    "\n",
    "bqclient   = google.cloud.bigquery.Client(credentials=cred, project=proj)\n",
    "bqdata     = bqclient.get_dataset(f'redistricting_data')\n",
    "bqresults  = bqclient.get_dataset(f'redistricting_results_{user_name}')\n",
    "\n",
    "L = [x for x in bqclient.list_tables(bqdata)]\n",
    "dir(L[0])\n",
    "t = L[0]\n",
    "t.table_id\n",
    "bqdata.\n",
    "\n",
    "\n",
    "# gcsclient  = google.cloud.storage.Client(credentials=cred, project=proj)\n",
    "# gcsresults = gcsclient.get_bucket(f'redistricting_results')\n",
    "\n",
    "# gcsclient.create_bucket('redistricting_results')"
   ]
  },
  {
   "cell_type": "code",
   "execution_count": null,
   "id": "4607a463",
   "metadata": {},
   "outputs": [],
   "source": [
    "# bqproj = \n",
    "list(bqclient.list_datasets())\n",
    "bqclient.project"
   ]
  },
  {
   "cell_type": "code",
   "execution_count": null,
   "id": "1b0b58c5",
   "metadata": {},
   "outputs": [],
   "source": [
    "bqclient   = bigquery.Client(credentials=cred, project=proj)"
   ]
  },
  {
   "cell_type": "code",
   "execution_count": null,
   "id": "eac1fc6c",
   "metadata": {},
   "outputs": [],
   "source": [
    "gcsclient = google.cloud.storage.Client(project=proj_id)\n",
    "list(gcsclient.list_buckets())\n",
    "gcsbucket = gcsclient.get_bucket(f'{proj_id}-bucket')\n",
    "folder = gcsbucket.blob('test')\n",
    "gcsbucket.exists()\n",
    "folder.exists()\n",
    "gcsbucket.blob?"
   ]
  },
  {
   "cell_type": "code",
   "execution_count": null,
   "id": "8bc1b0f3",
   "metadata": {},
   "outputs": [],
   "source": [
    "gcsbucket = gcsclient.get_bucket(f'{proj_id}-bucket')\n",
    "list(gcsbucket.list_blobs())"
   ]
  },
  {
   "cell_type": "code",
   "execution_count": null,
   "id": "cb18b5f2",
   "metadata": {},
   "outputs": [],
   "source": [
    "root_gcs = gcsclient.get_bucket(f'{proj_id}-bucket')\n",
    "data_gcs = root_gcs.get_blob('redistricting_data')\n"
   ]
  },
  {
   "cell_type": "code",
   "execution_count": null,
   "id": "f1ac5a83",
   "metadata": {},
   "outputs": [],
   "source": [
    "class Results(Base):\n",
    "    \n",
    "    \n",
    "\n",
    "\n",
    "\n",
    "timestamp = str(pd.Timestamp.now().round(\"s\")).replace(' ','_').replace('-','_').replace(':','_')\n",
    "\n",
    "bq_results\n",
    "gcs_results\n",
    "\n",
    "\n",
    "results_stem = f'{G.gpickle.stem[6:]}/{timestamp}'\n",
    "\n",
    "results_loc = root_path / f'results/{results_stem}'\n",
    "results_gcs = f'gc://{proj_id}-bucket/results/{results_stem}'\n",
    "results_bq  = f'{proj_id}.{results_stem}'\n",
    "\n",
    "results_loc.mkdir(parents=True, exist_ok=True)\n",
    "\n",
    "gcsclient = storage.Client(project=proj_id)\n",
    "\n",
    "gcsbucket = gcsclient.get_bucket('buckets')\n",
    "blob = bucket.blob('some/folder/name/')\n",
    "bqclient.create_dataset(results_bq, exists_ok=True)\n",
    "results_gcs"
   ]
  },
  {
   "cell_type": "code",
   "execution_count": null,
   "id": "dd4eb47b",
   "metadata": {},
   "outputs": [],
   "source": [
    "bqclient.create_dataset?"
   ]
  },
  {
   "cell_type": "code",
   "execution_count": null,
   "id": "fc823ca1",
   "metadata": {},
   "outputs": [],
   "source": [
    "root_path"
   ]
  },
  {
   "cell_type": "code",
   "execution_count": null,
   "id": "ea927806",
   "metadata": {},
   "outputs": [],
   "source": [
    "from src import *"
   ]
  },
  {
   "cell_type": "code",
   "execution_count": null,
   "id": "210e9946",
   "metadata": {},
   "outputs": [],
   "source": [
    "bqclient.create_dataset?"
   ]
  },
  {
   "cell_type": "code",
   "execution_count": null,
   "id": "93dd0fdd",
   "metadata": {},
   "outputs": [],
   "source": []
  },
  {
   "cell_type": "code",
   "execution_count": null,
   "id": "4d728ff6",
   "metadata": {},
   "outputs": [],
   "source": [
    "%autoreload\n",
    "from src import *\n",
    "\n",
    "nodes_tbl = f'{proj_id}.redistricting_data.nodes_TX_2020_cntyvtd_cd'\n",
    "mcmc_tbl  = f'{proj_id}.redistricting_results_cook.TX_2020_cntyvtd_cd_seed_0000'\n",
    "seeds = np.arange(16)\n",
    "A = Analysis(nodes=nodes_tbl, mcmc=mcmc_tbl, seeds=seeds)\n",
    "A.tbl = f'{proj_id}.redistricting_results_cook.TX_2020_cntyvtd_cd_2021_09_05_01_50_26'\n",
    "A.fetch_results()\n",
    "A.save_results()\n",
    "# A.file"
   ]
  },
  {
   "cell_type": "code",
   "execution_count": null,
   "id": "48609578",
   "metadata": {},
   "outputs": [],
   "source": [
    "dir(A)\n",
    "'_'.join(G.gpickle.stem.split('_')[1:])"
   ]
  },
  {
   "cell_type": "code",
   "execution_count": null,
   "id": "65f433e9",
   "metadata": {},
   "outputs": [],
   "source": [
    "A.tbl.split('.')[-1]"
   ]
  },
  {
   "cell_type": "code",
   "execution_count": null,
   "id": "c67da9dc",
   "metadata": {},
   "outputs": [],
   "source": []
  },
  {
   "cell_type": "code",
   "execution_count": null,
   "id": "cdc70285",
   "metadata": {},
   "outputs": [],
   "source": [
    "A.results.to_parquet(f\"gs://{proj_id}-bucket/{A.tbl.split('.')[-1]}\")"
   ]
  },
  {
   "cell_type": "code",
   "execution_count": null,
   "id": "15edf783",
   "metadata": {},
   "outputs": [],
   "source": [
    "A.results.shape"
   ]
  },
  {
   "cell_type": "code",
   "execution_count": null,
   "id": "8ca4313d",
   "metadata": {},
   "outputs": [],
   "source": [
    "self=A\n",
    "A.tbl\n",
    "root_path / f'results/{self.tbl.split(\".\")[-1]}.parquet'"
   ]
  },
  {
   "cell_type": "code",
   "execution_count": null,
   "id": "60f5fc88",
   "metadata": {},
   "outputs": [],
   "source": [
    "%autoreload\n",
    "from src import *\n",
    "\n",
    "idx = ['seed', 'plan', 'cd']\n",
    "for col in idx:\n",
    "    df[col] = rjust(df[col])\n",
    "df.sort_values(idx, inplace=True)\n",
    "file = pathlib.Path('/home/jupyter/results/TX_2020_cntyvtd_cd_2021_09_05_01_50_26')\n",
    "file.mkdir(parents=True, exist_ok=True)\n",
    "df.to_parquet(file, index=False, partition_cols='seed')"
   ]
  },
  {
   "cell_type": "code",
   "execution_count": null,
   "id": "ae23d393",
   "metadata": {},
   "outputs": [],
   "source": [
    "df.head(10)"
   ]
  },
  {
   "cell_type": "code",
   "execution_count": null,
   "id": "f8874b16",
   "metadata": {},
   "outputs": [],
   "source": [
    "district_type = 'cd'\n",
    "\n",
    "tbl = f'cmat-315920.redistricting_results_cook.TX_2020_cntyvtd_cd_seed'\n",
    "s = \"\\nunion all\\n\"\n",
    "seeds = [s for s in range (100, 116) if s not in [104, 110]]\n",
    "summary_stack = s.join([f'select * from {tbl}_{str(seed).rjust(4, \"0\")}_summary' for seed in seeds])\n",
    "stats_stack   = s.join([f'select * from {tbl}_{str(seed).rjust(4, \"0\")}_stats'   for seed in seeds])\n",
    "plans_stack   = s.join([f'select * from {tbl}_{str(seed).rjust(4, \"0\")}_plans'   for seed in seeds])\n",
    "\n",
    "query = f\"\"\"\n",
    "select\n",
    "    B.seed,\n",
    "    B.plan,\n",
    "    C.{district_type},\n",
    "    B.pop_imbalance,\n",
    "    B.polsby_popper as polsby_popper_plan,\n",
    "    C.polsby_popper as polsby_popper_district,\n",
    "    C.total_pop\n",
    "from (\n",
    "    select\n",
    "        *\n",
    "    from (\n",
    "        select\n",
    "            *,\n",
    "            row_number() over (partition by A.hash order by plan asc, seed asc) as r\n",
    "        from (\n",
    "            {summary_stack}\n",
    "            ) as A\n",
    "        )\n",
    "    where r = 1\n",
    "    ) as B\n",
    "join (\n",
    "    select\n",
    "        *\n",
    "    from (\n",
    "        {stats_stack}\n",
    "        )\n",
    "    ) as C\n",
    "on\n",
    "    B.seed = C.seed and B.plan = C.plan\n",
    "\"\"\"\n",
    "df = run_query(query)\n",
    "# \n",
    "df#['hash'].value_counts().sort_values(ascending=False)"
   ]
  },
  {
   "cell_type": "code",
   "execution_count": null,
   "id": "e108a417",
   "metadata": {},
   "outputs": [],
   "source": [
    "district_type = 'cd'\n",
    "\n",
    "nodes = f'cmat-315920.redistricting_data.nodes_TX_2020_cntyvtd_cd'\n",
    "tbl = f'cmat-315920.redistricting_results_cook.TX_2020_cntyvtd_cd_seed'\n",
    "s = \"\\nunion all\\n\"\n",
    "seeds = [s for s in range (100, 116) if s not in [104, 110]]\n",
    "summary_stack = s.join([f'select * from {tbl}_{str(seed).rjust(4, \"0\")}_summary' for seed in seeds])\n",
    "stats_stack   = s.join([f'select * from {tbl}_{str(seed).rjust(4, \"0\")}_stats'   for seed in seeds])\n",
    "plans_stack   = s.join([f'select * from {tbl}_{str(seed).rjust(4, \"0\")}_plans'   for seed in seeds])\n",
    "\n",
    "query = f\"\"\"\n",
    "select\n",
    "    E.seed,\n",
    "    E.plan,\n",
    "    E.{district_type},\n",
    "    max(E.pop_imbalance) as pop_imbalance,\n",
    "    max(E.polsby_popper_plan) as polsby_popper_plan,\n",
    "    max(E.polsby_popper_district) as polsby_popper_district,\n",
    "    max(E.total_pop) as total_pop,\n",
    "    sum(F.total_1race)\n",
    "from (\n",
    "    select\n",
    "        B.seed,\n",
    "        B.plan,\n",
    "        C.{district_type},\n",
    "        B.pop_imbalance,\n",
    "        B.polsby_popper as polsby_popper_plan,\n",
    "        C.polsby_popper as polsby_popper_district,\n",
    "        C.total_pop,\n",
    "        D.geoid\n",
    "    from (\n",
    "        select\n",
    "            *\n",
    "        from (\n",
    "            select\n",
    "                *,\n",
    "                row_number() over (partition by A.hash order by plan asc, seed asc) as r\n",
    "            from (\n",
    "                {summary_stack}\n",
    "                ) as A\n",
    "            )\n",
    "        where r = 1\n",
    "        ) as B\n",
    "    inner join (\n",
    "        {stats_stack}\n",
    "        ) as C\n",
    "    on\n",
    "        B.seed = C.seed and B.plan = C.plan\n",
    "    inner join (\n",
    "        select\n",
    "            *\n",
    "        from (\n",
    "            {plans_stack}\n",
    "            )\n",
    "        ) as D\n",
    "    on\n",
    "        C.seed = D.seed and C.plan = D.plan and C.{district_type} = D.{district_type}\n",
    "    ) as E\n",
    "inner join\n",
    "    {nodes} as F\n",
    "on\n",
    "    E.geoid = F.geoid\n",
    "group by\n",
    "    seed, plan, {district_type}\n",
    "\"\"\"\n",
    "df = run_query(query)\n",
    "# \n",
    "df#['hash'].value_counts().sort_values(ascending=False)"
   ]
  },
  {
   "cell_type": "code",
   "execution_count": null,
   "id": "f273bf47",
   "metadata": {},
   "outputs": [],
   "source": [
    "district_type = 'cd'\n",
    "\n",
    "G.nodes_tbl = f'cmat-315920.redistricting_data.nodes_TX_2020_cntyvtd_cd'\n",
    "M.tbl = f'cmat-315920.redistricting_results_cook.TX_2020_cntyvtd_cd_seed'\n",
    "\n",
    "s = \"\\nunion all\\n\"\n",
    "seeds = [s for s in range (100, 116) if s not in [104, 110]]\n",
    "summary_stack = s.join([f'select * from {tbl}_{str(seed).rjust(4, \"0\")}_summary' for seed in seeds])\n",
    "stats_stack   = s.join([f'select * from {tbl}_{str(seed).rjust(4, \"0\")}_stats'   for seed in seeds])\n",
    "plans_stack   = s.join([f'select * from {tbl}_{str(seed).rjust(4, \"0\")}_plans'   for seed in seeds])\n",
    "\n",
    "cols = [c for c in get_cols(self.nodes) if c not in Levels + District_types + ['geoid', 'county', 'total_pop', 'polygon', 'perim', 'polsby_popper', 'density', 'point']]\n",
    "\n",
    "query = f\"\"\"\n",
    "select\n",
    "    B.seed,\n",
    "    B.plan,\n",
    "    C.{district_type},\n",
    "    max(B.pop_imbalance) as pop_imbalance_plan,\n",
    "    max(B.polsby_popper) as polsby_popper_plan,\n",
    "    max(C.polsby_popper) as polsby_popper_district,\n",
    "    max(C.total_pop) as total_pop,\n",
    "    max(C.total_pop) / sum(E.aland) as density,\n",
    "    {join_str(1).join([f'sum(E.{c}) as {c}' for c in cols])}\n",
    "from (\n",
    "    select\n",
    "        *\n",
    "    from (\n",
    "        select\n",
    "            *,\n",
    "            row_number() over (partition by A.hash order by plan asc, seed asc) as r\n",
    "        from (\n",
    "            {summary_stack}\n",
    "            ) as A\n",
    "        )\n",
    "    where r = 1\n",
    "    ) as B\n",
    "inner join (\n",
    "    {stats_stack}\n",
    "    ) as C\n",
    "on\n",
    "    B.seed = C.seed and B.plan = C.plan\n",
    "inner join (\n",
    "    select\n",
    "        *\n",
    "    from (\n",
    "        {plans_stack}\n",
    "        )\n",
    "    ) as D\n",
    "on\n",
    "    C.seed = D.seed and C.plan = D.plan and C.{district_type} = D.{district_type}\n",
    "inner join\n",
    "    {nodes} as E\n",
    "on\n",
    "    D.geoid = E.geoid\n",
    "group by\n",
    "    seed, plan, {district_type}\n",
    "\"\"\"\n",
    "df = run_query(query)\n",
    "# \n",
    "df#['hash'].value_counts().sort_values(ascending=False)"
   ]
  },
  {
   "cell_type": "code",
   "execution_count": null,
   "id": "d87dbe8a",
   "metadata": {},
   "outputs": [],
   "source": [
    "file = '/home/jupyter/results/TX_2020_cntyvtd_cd_2021_09_05_01_50_26'\n",
    "df = pd.read_csv(file+'.csv')"
   ]
  },
  {
   "cell_type": "code",
   "execution_count": null,
   "id": "e16250f7",
   "metadata": {},
   "outputs": [],
   "source": [
    "file = pathlib.Path('/home/jupyter/results/TX_2020_cntyvtd_cd_2021_09_05_01_50_26')\n",
    "pq = file /'.parquet'\n",
    "pq.mkdir(parents=True, exist_ok=True)\n",
    "df.to_parquet(pq, index=False, partition_cols='seed')"
   ]
  },
  {
   "cell_type": "code",
   "execution_count": null,
   "id": "bb764cdd",
   "metadata": {},
   "outputs": [],
   "source": [
    "query = f\"\"\"\n",
    "    select\n",
    "        *\n",
    "    from (\n",
    "        {stats_stack}\n",
    "        )\n",
    "\"\"\"\n",
    "run_query(query)"
   ]
  },
  {
   "cell_type": "code",
   "execution_count": null,
   "id": "0d85525f",
   "metadata": {},
   "outputs": [],
   "source": [
    "df"
   ]
  },
  {
   "cell_type": "code",
   "execution_count": null,
   "id": "51a56f77",
   "metadata": {},
   "outputs": [],
   "source": [
    "tbl = f'cmat-315920.redistricting_results_cook.TX_2020_cntyvtd_cd_seed'\n",
    "sels = [f'select * from {tbl}_{str(seed).rjust(4, \"0\")}_summary' for seed in range (100, 116) if seed != 110]\n",
    "query = \"\\nunion all\\n\".join(sels)\n",
    "query = f\"\"\"\n",
    "    select\n",
    "        A.hash,\n",
    "        max(seed),\n",
    "        max(plan),\n",
    "        count(*) as count\n",
    "    from (\n",
    "        {query}\n",
    "        ) as A\n",
    "    group by\n",
    "        A.hash\n",
    "\"\"\"\n",
    "df = run_query(query)\n",
    "# \n",
    "df['hash'].value_counts().sort_values(ascending=False)"
   ]
  },
  {
   "cell_type": "code",
   "execution_count": null,
   "id": "d6fc02bf",
   "metadata": {},
   "outputs": [],
   "source": [
    "df.dtypes"
   ]
  },
  {
   "cell_type": "code",
   "execution_count": null,
   "id": "2299dfeb",
   "metadata": {},
   "outputs": [],
   "source": [
    "# df['seed'].unique()\n",
    "\n"
   ]
  },
  {
   "cell_type": "code",
   "execution_count": null,
   "id": "46cfb348",
   "metadata": {},
   "outputs": [],
   "source": []
  }
 ],
 "metadata": {
  "kernelspec": {
   "display_name": "Python 3 (ipykernel)",
   "language": "python",
   "name": "python3"
  },
  "language_info": {
   "codemirror_mode": {
    "name": "ipython",
    "version": 3
   },
   "file_extension": ".py",
   "mimetype": "text/x-python",
   "name": "python",
   "nbconvert_exporter": "python",
   "pygments_lexer": "ipython3",
   "version": "3.7.10"
  }
 },
 "nbformat": 4,
 "nbformat_minor": 5
}
