{
 "cells": [
  {
   "cell_type": "code",
   "execution_count": 17,
   "id": "956889fe",
   "metadata": {},
   "outputs": [
    {
     "name": "stdout",
     "output_type": "stream",
     "text": [
      "Get crosswalks TX 2010 tabblock  ... tabblock table exists ... success\n",
      "Get assignments TX 2020 tabblock ... tabblock table exists ... success\n",
      "Get shapes TX 2020 tabblock      ... tabblock table exists ... success\n",
      "Get census TX 2010 tabblock      ... tabblock table exists ... success\n",
      "Get elections TX 2020 tabblock   ... tabblock table exists ... success\n",
      "Get votes_all TX 2020 tabblock   ... tabblock table exists ... success\n",
      "Get votes_hl TX 2020 tabblock    ... tabblock table exists ... success\n",
      "Get combined TX 2020 tabblock    ... tabblock table exists ... success\n",
      "Get edges TX 2020 tabblock       ... tabblock table exists ... reading table ... success\n",
      "Get nodes TX 2020 tabblock       ... success\n",
      "Get graph TX 2020 tabblock cd    ... gpickle exists ... success\n"
     ]
    }
   ],
   "source": [
    "seed = 42\n",
    "proj_id = 'cmat-315920'\n",
    "root_path  = '/home/jupyter'\n",
    "code_path = root_path + '/MathVGerrmandering_CMAT_2021/src/'\n",
    "for f in ['Core', 'Gerry', 'Variable', 'Crosswalks', 'Assignments', 'Shapes',\n",
    "          'Census', 'Elections', 'Votes', 'Combined', 'Edges', 'Nodes', 'Graph']:\n",
    "    %run -i {code_path+f+'.py'}\n",
    "\n",
    "refresh_tbl = (\n",
    "#     'crosswalks',\n",
    "#     'assignments',\n",
    "#     'shapes',\n",
    "#     'census',\n",
    "#     'elections',\n",
    "#     'votes_all',\n",
    "#     'votes_hl',\n",
    "#     'combined',\n",
    "#     'edges',\n",
    "#     'nodes',\n",
    "#     'graph',\n",
    ")\n",
    "\n",
    "refresh_all = (\n",
    "#     'crosswalks',\n",
    "#     'assignments',\n",
    "#     'shapes',\n",
    "#     'census',\n",
    "#     'elections',\n",
    "#     'votes_all',\n",
    "#     'votes_hl',\n",
    "#     'combined',\n",
    "#     'edges',\n",
    "#     'nodes',\n",
    "#     'graph',\n",
    ")\n",
    "\n",
    "for level in ['tabblock', 'cntyvtd', 'bg', 'tract', 'cnty']:\n",
    "    g = Gerry(abbr='TX', level=level,\n",
    "              election_filters=(\n",
    "                \"office='USSen' and race='general'\",\n",
    "                \"office='President' and race='general'\",\n",
    "                \"office like 'USRep%' and race='general'\"),\n",
    "              refresh_tbl=refresh_tbl, refresh_all=refresh_all\n",
    "             )\n",
    "    g.get_data()\n",
    "    break"
   ]
  },
  {
   "cell_type": "code",
   "execution_count": null,
   "id": "41a683ef",
   "metadata": {},
   "outputs": [],
   "source": []
  }
 ],
 "metadata": {
  "kernelspec": {
   "display_name": "Python 3",
   "language": "python",
   "name": "python3"
  },
  "language_info": {
   "codemirror_mode": {
    "name": "ipython",
    "version": 3
   },
   "file_extension": ".py",
   "mimetype": "text/x-python",
   "name": "python",
   "nbconvert_exporter": "python",
   "pygments_lexer": "ipython3",
   "version": "3.7.10"
  }
 },
 "nbformat": 4,
 "nbformat_minor": 5
}
