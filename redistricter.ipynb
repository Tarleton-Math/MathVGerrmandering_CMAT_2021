{
 "cells": [
  {
   "cell_type": "code",
   "execution_count": 5,
   "id": "de5ea320",
   "metadata": {},
   "outputs": [
    {
     "name": "stdout",
     "output_type": "stream",
     "text": [
      "The autoreload extension is already loaded. To reload it, use:\n",
      "  %reload_ext autoreload\n",
      "/home/jupyter/MathVGerrmandering_CMAT_2021\n",
      "Get proposal    ... using existing table ... success!\n",
      "Get nodes       ... using existing table ... success!\n",
      "Get graph       ... processing ... using existing graph ... success!\n"
     ]
    }
   ],
   "source": [
    "%load_ext autoreload\n",
    "%autoreload\n",
    "%cd /home/jupyter/MathVGerrmandering_CMAT_2021/\n",
    "from src import *\n",
    "from src.data import *\n",
    "from src.space import *\n",
    "from src.mcmc import *\n",
    "\n",
    "# D = Data()\n",
    "#             refresh_all=('crosswalks', 'assignments', 'shapes', 'census', 'elections', 'all')\n",
    "#             refresh_all=('census', 'all')\n",
    "#             refresh_tbl=('all'))\n",
    "#             refresh_tbl=('crosswalks')\n",
    "#            )\n",
    "\n",
    "S = Space(level='cntyvtd', proposal='planc2100',\n",
    "#               refresh_all=('graph'))\n",
    "#               refresh_all=('nodes', 'graph'),)\n",
    "             )\n",
    "# # print(self.proposal, self.district_type)\n",
    "# M = MCMC(gpickle=S.gpickle, max_steps=0, random_seed=0)\n",
    "# M.run_chain()\n",
    "# for district_type, proposals in D.proposals_dict.items():\n",
    "#     for proposal in proposals:\n",
    "#         print(f'\\n\\n{district_type} {proposal}')\n",
    "#         self = Space(level='cntyvtd',\n",
    "# #                     district_type=district_type,\n",
    "#                     proposal=proposal,\n",
    "# #                     refresh_tbl = ('nodes', 'graphs')\n",
    "#                    )\n",
    "#         assert 1==2"
   ]
  },
  {
   "cell_type": "code",
   "execution_count": null,
   "id": "bf79a895",
   "metadata": {},
   "outputs": [],
   "source": [
    "4*np.pi*7869/(711**2)*100"
   ]
  },
  {
   "cell_type": "code",
   "execution_count": 29,
   "id": "252cbc26",
   "metadata": {},
   "outputs": [
    {
     "data": {
      "text/plain": [
       "6971.130119064696"
      ]
     },
     "execution_count": 29,
     "metadata": {},
     "output_type": "execute_result"
    }
   ],
   "source": [
    "district_view(M.graph, 1).edges(data='shared_perim')\n",
    "sum(d for u, v, d in district_view(M.graph, 1).edges(data='shared_perim'))\n",
    "# sum(d for n, d in district_view(M.graph, 1).nodes(data='perim'))"
   ]
  },
  {
   "cell_type": "code",
   "execution_count": 33,
   "id": "29032891",
   "metadata": {},
   "outputs": [
    {
     "data": {
      "text/plain": [
       "{'polsby_popper': 20.043851493124894,\n",
       " 'total_pop': 722363,\n",
       " 'aland': 7869.051688177826,\n",
       " 'perim': 7673.515627783998,\n",
       " 'random_seed': 0,\n",
       " 'plan': 0,\n",
       " 'internal_perim': 6971.1301190646955,\n",
       " 'external_perim': 702.3855087193024,\n",
       " 'pop_deviation': -5.818087557583927}"
      ]
     },
     "execution_count": 33,
     "metadata": {},
     "output_type": "execute_result"
    }
   ],
   "source": [
    "M.adj.nodes[1]\n",
    "# M.graph.edges(data='shared_perim')"
   ]
  },
  {
   "cell_type": "code",
   "execution_count": null,
   "id": "d27fe613",
   "metadata": {},
   "outputs": [],
   "source": [
    "1+1"
   ]
  },
  {
   "cell_type": "code",
   "execution_count": null,
   "id": "56c8364b",
   "metadata": {},
   "outputs": [],
   "source": [
    "M.plan_rec[0]"
   ]
  },
  {
   "cell_type": "code",
   "execution_count": null,
   "id": "e5029dc5",
   "metadata": {},
   "outputs": [],
   "source": [
    "%timeit get_components(M.graph, True)\n",
    "\n",
    "# false = 8.62 micro\n",
    "# true = "
   ]
  },
  {
   "cell_type": "code",
   "execution_count": null,
   "id": "0f161fc8",
   "metadata": {},
   "outputs": [],
   "source": [
    "    def accept():\n",
    "        for dist, comp in zip(districts, components):\n",
    "            cuts = tuple((dist, cty) for cty in self.adj[dist])\n",
    "            self.adj.remove_edges_from(cuts)  # cut all edges of self.adj touching d0 or d1\n",
    "            for n in comp:\n",
    "                self.graph.nodes[n]['district'] = dist  # relabel nodes\n",
    "                self.adj.add_edge(dist, self.graph.nodes[n]['county'])\n",
    "\n",
    "    def reject():\n",
    "        T.add_edge(*e)  # restore e\n",
    "        self.adj = self.adj_backup.copy()  # restore self.adj\n",
    "        for n in T.nodes:\n",
    "            self.graph.nodes[n]['district'] = self.graph_backup.nodes[n]['district']\n"
   ]
  },
  {
   "cell_type": "code",
   "execution_count": null,
   "id": "5e6310a0",
   "metadata": {},
   "outputs": [],
   "source": [
    "import networkx as nx\n",
    "def f():\n",
    "    G = nx.Graph()\n",
    "    G.add_node('A')\n",
    "    print(G.nodes)\n",
    "    def g():\n",
    "        G.add_node('B')\n",
    "    g()\n",
    "    print(G.nodes)\n",
    "f()"
   ]
  },
  {
   "cell_type": "code",
   "execution_count": null,
   "id": "2b03e775",
   "metadata": {},
   "outputs": [],
   "source": [
    "g = M.pair_generator()\n",
    "while True:\n",
    "    q = next(g)\n",
    "    print(q)\n",
    "    break\n",
    "#     if 0 in q or 38 in q:\n",
    "#         break\n",
    "    "
   ]
  },
  {
   "cell_type": "code",
   "execution_count": null,
   "id": "8b87475f",
   "metadata": {},
   "outputs": [],
   "source": [
    "x=1\n",
    "def f():\n",
    "    print(x)\n",
    "x=2\n",
    "f()"
   ]
  },
  {
   "cell_type": "code",
   "execution_count": null,
   "id": "a7821230",
   "metadata": {},
   "outputs": [],
   "source": []
  },
  {
   "cell_type": "code",
   "execution_count": null,
   "id": "ef58eba6",
   "metadata": {},
   "outputs": [],
   "source": [
    "M.district_df"
   ]
  },
  {
   "cell_type": "code",
   "execution_count": null,
   "id": "cdac59c9",
   "metadata": {},
   "outputs": [],
   "source": [
    "for n, d in M.adj.nodes(data='pop_deviation'):\n",
    "    if d is not None:\n",
    "        print(n, d)"
   ]
  },
  {
   "cell_type": "code",
   "execution_count": null,
   "id": "6c81eac9",
   "metadata": {},
   "outputs": [],
   "source": [
    "def sorter(L, sort=True):\n",
    "    if sort:\n",
    "        L = tuple(sorted((tuple(sorted(x)) for x in L), key=lambda x: (len(x), x)))\n",
    "    return L\n",
    "\n",
    "def get_edges(G, sort=True):\n",
    "    return sorter(G.edges, sort)\n",
    "\n",
    "def get_components(G, sort=True):\n",
    "    return sorter(nx.connected_components(G), sort)\n",
    "    \n",
    "def get_partition(G, sort=True):\n",
    "    districts = set(d for n, d in G.nodes(data='district'))\n",
    "    return sorter((district_view(G, d).nodes for d in districts), sort)\n",
    "\n",
    "def district_view(G, D):\n",
    "    # get subgraph of given districts\n",
    "    if isinstance(D, int):\n",
    "        return nx.subgraph_view(G, lambda n: G.nodes[n]['district'] == D)\n",
    "    else:\n",
    "        return nx.subgraph_view(G, lambda n: G.nodes[n]['district'] in D)\n",
    "\n",
    "def get_partition(G, sort=True):\n",
    "    districts = set(d for n, d in G.nodes(data='district'))\n",
    "    return sorter((district_view(G, d).nodes for d in districts), sort)\n",
    "\n",
    "def district_view(G, D):\n",
    "    # get subgraph of given districts\n",
    "    if isinstance(D, int):\n",
    "        return nx.subgraph_view(G, lambda n: G.nodes[n]['district'] == D)\n",
    "    else:\n",
    "        return nx.subgraph_view(G, lambda n: G.nodes[n]['district'] in D)\n",
    "\n",
    "    \n",
    "    # def get_partition(G):\n",
    "#     districts = set(d for n, d in G.nodes(data='district'))\n",
    "#     return tuple(sorted(tuple((sorted(district_view(G, D).nodes))) for D in districts))\n",
    "\n",
    "\n",
    "# get_edges(M.graph)\n",
    "# get_components(M.graph)\n",
    "%timeit get_partition(M.graph)"
   ]
  },
  {
   "cell_type": "code",
   "execution_count": null,
   "id": "c7342823",
   "metadata": {},
   "outputs": [],
   "source": [
    "isinstance()"
   ]
  },
  {
   "cell_type": "markdown",
   "id": "d61bacc9",
   "metadata": {},
   "source": [
    "625ms 23.4\n",
    "1.66"
   ]
  },
  {
   "cell_type": "code",
   "execution_count": null,
   "id": "b881fd91",
   "metadata": {},
   "outputs": [],
   "source": [
    "for e in sorted(sorted(e) for e in S.graph.edges):\n",
    "    print(e)\n",
    "    break"
   ]
  },
  {
   "cell_type": "code",
   "execution_count": null,
   "id": "cebbcaf6",
   "metadata": {},
   "outputs": [],
   "source": [
    "for u, v in (sorted(e) for e in S.graph.edges):\n",
    "#     print(u, v)\n",
    "    assert u < v"
   ]
  },
  {
   "cell_type": "code",
   "execution_count": null,
   "id": "4353a4a1",
   "metadata": {},
   "outputs": [],
   "source": [
    "def get_hash(G):\n",
    "    # Partition hashing provides a unique integer label for each distinct plan\n",
    "    # For each district, get sorted tuple of nodes it contains.  Then sort this tuple of tuples.\n",
    "    # Produces a sorted tuple of sorted tuples called \"partition\" that does not care about:\n",
    "    # permutations of the nodes within a district OR permutations of the district labels.\n",
    "    # WARNING - Python inserts randomness into its hash function for security reasons.\n",
    "    # However, this means the same partition gets a different hash in different runs.\n",
    "    # The first lines of this .py file fix this issue by setting the hashseen\n",
    "    # But this solution does NOT work in a Jupyter notebook, AFAIK.\n",
    "    # I have not found a way to force deterministic hashing in Jupyter.\n",
    "    districts = set(d for n, d in G.nodes(data='district'))\n",
    "    partition = tuple(sorted(tuple(sorted(district_view(G, D).nodes)) for D in districts))\n",
    "    return partition.__hash__()\n",
    "\n",
    "def get_components(G):\n",
    "    # get and sorted connected components by size\n",
    "    return sorted((tuple(sorted(x)) for x in nx.connected_components(G)), key=lambda x:len(x), reverse=True)\n",
    "\n",
    "get_components(S.graph)"
   ]
  },
  {
   "cell_type": "code",
   "execution_count": null,
   "id": "9b29a151",
   "metadata": {},
   "outputs": [],
   "source": [
    "M.get_district_df()\n",
    "M.get_county_df()\n",
    "M.get_plan_df()"
   ]
  },
  {
   "cell_type": "code",
   "execution_count": null,
   "id": "7df4c3e6",
   "metadata": {},
   "outputs": [],
   "source": [
    "d = [{'a':3, 'b':4}]\n",
    "pd.DataFrame(d)"
   ]
  },
  {
   "cell_type": "code",
   "execution_count": null,
   "id": "57e6c42f",
   "metadata": {},
   "outputs": [],
   "source": [
    "q = M.get_country_df()\n",
    "q.insert(2, 'hi', q.index)\n",
    "q.reset_index(drop=True, inplace=True)\n",
    "q\n",
    "# q.rename_axis('hi').reset_index(col_level=2)\n",
    "# q.reset_index?"
   ]
  },
  {
   "cell_type": "code",
   "execution_count": null,
   "id": "b0b16d7b",
   "metadata": {},
   "outputs": [],
   "source": [
    "M.get_country_df().reset_index"
   ]
  },
  {
   "cell_type": "code",
   "execution_count": null,
   "id": "7375f260",
   "metadata": {},
   "outputs": [],
   "source": [
    "import pandas as pd\n",
    "df = pd.DataFrame()\n",
    "df['a'] = ['a','b','c']\n",
    "df['b'] = [1,2,3]\n",
    "df = df.set_index('a')\n",
    "df.merge(df, how='cross')"
   ]
  },
  {
   "cell_type": "code",
   "execution_count": null,
   "id": "497091df",
   "metadata": {},
   "outputs": [],
   "source": [
    "list(M.graph.nodes(data=True))[:5]"
   ]
  },
  {
   "cell_type": "code",
   "execution_count": null,
   "id": "d5a01bba",
   "metadata": {},
   "outputs": [],
   "source": [
    "def f(G, attr=None):\n",
    "    if attr is None:\n",
    "        print('none')\n",
    "        D = {n: d for n, d in G.nodes(data=True)}\n",
    "    else:\n",
    "        D = {n: {x: d[x] for x in setify(attr).intersection(d.keys())} for n, d in G.nodes(data=True)}\n",
    "    \n",
    "    \n",
    "# f(mcmc.graph, ('total_pop', 'seats', 'hi'))\n",
    "# f(mcmc.adj)\n",
    "mcmc.adj.nodes(data=True)"
   ]
  },
  {
   "cell_type": "code",
   "execution_count": null,
   "id": "fe173f81",
   "metadata": {},
   "outputs": [],
   "source": [
    "space.gpickle\n",
    "mcmc.stem"
   ]
  },
  {
   "cell_type": "code",
   "execution_count": null,
   "id": "0002de1b",
   "metadata": {},
   "outputs": [],
   "source": [
    "w = space.gpickle.stem\n",
    "s = '_'\n",
    "w = w.split(s)\n",
    "w\n",
    "dataset = s.join(w[:3])\n",
    "stem = s.join(w[3:5])\n",
    "ds, stem\n",
    "# w[:w.rfind('_')]"
   ]
  },
  {
   "cell_type": "code",
   "execution_count": null,
   "id": "6aba328d",
   "metadata": {},
   "outputs": [],
   "source": [
    "mcmc.adj.nodes(data=True)\n",
    "# mcmc.districts\n",
    "# mcmc.counties"
   ]
  },
  {
   "cell_type": "code",
   "execution_count": null,
   "id": "e1cdca8a",
   "metadata": {},
   "outputs": [],
   "source": [
    "list(mcmc.adj.nodes(data=True))"
   ]
  },
  {
   "cell_type": "code",
   "execution_count": null,
   "id": "0f1aeac1",
   "metadata": {},
   "outputs": [],
   "source": [
    "{d for x, d in mcmc.graph.nodes(data='district')}"
   ]
  },
  {
   "cell_type": "code",
   "execution_count": null,
   "id": "58ca1696",
   "metadata": {},
   "outputs": [],
   "source": [
    "%load_ext autoreload\n",
    "%autoreload\n",
    "%cd /home/jupyter/MathVGerrmandering_CMAT_2021/\n",
    "from src import *\n",
    "for t in bqclient.list_tables(data_bq):\n",
    "    nm = t.full_table_id.replace(':', '.')\n",
    "    if 'plan' in nm or 'enacted' in nm:\n",
    "        rpt(f'deleting {nm}')\n",
    "        delete_table(nm)\n"
   ]
  },
  {
   "cell_type": "code",
   "execution_count": null,
   "id": "dbc08c84",
   "metadata": {},
   "outputs": [],
   "source": []
  }
 ],
 "metadata": {
  "kernelspec": {
   "display_name": "Python 3 (ipykernel)",
   "language": "python",
   "name": "python3"
  },
  "language_info": {
   "codemirror_mode": {
    "name": "ipython",
    "version": 3
   },
   "file_extension": ".py",
   "mimetype": "text/x-python",
   "name": "python",
   "nbconvert_exporter": "python",
   "pygments_lexer": "ipython3",
   "version": "3.7.10"
  }
 },
 "nbformat": 4,
 "nbformat_minor": 5
}
