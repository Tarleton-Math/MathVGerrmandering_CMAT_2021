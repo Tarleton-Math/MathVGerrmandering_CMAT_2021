{
 "cells": [
  {
   "cell_type": "code",
   "execution_count": null,
   "id": "b6355ff1",
   "metadata": {},
   "outputs": [
    {
     "name": "stdout",
     "output_type": "stream",
     "text": [
      "Get Texas crosswalks tabblock 2020           ... BigQuery table exists ... success \n",
      "-----------------------------------------------------------------------------------\n",
      "Get Texas assignments tabblock 2020          ... BigQuery table exists ... success \n",
      "-----------------------------------------------------------------------------------\n",
      "Get Texas elections cntyvtd 2020             ... BigQuery table exists ... success \n",
      "-----------------------------------------------------------------------------------\n",
      "Get Texas census tabblock 2010               ... BigQuery table exists ... success \n",
      "-----------------------------------------------------------------------------------\n",
      "Get Texas shapes tabblock 2020               ... BigQuery table exists ... success \n",
      "-----------------------------------------------------------------------------------\n",
      "Get Texas edges tabblock 2020                ... BigQuery table exists ... success \n",
      "-----------------------------------------------------------------------------------\n",
      "Make Texas nodes tabblock 2020               ... BigQuery table exists ... success \n",
      "-----------------------------------------------------------------------------------\n",
      "Make Texas graph tabblock 2020 cd            ... gpickle file exists ... success \n",
      "-----------------------------------------------------------------------------------\n",
      "Setting population imbalance tolerance = 10.00, which is the value for the current map\n",
      "[8, 31] not connected\n",
      "[7, 8] not connected\n",
      "[10, 13] not connected\n",
      "[24, 32] connected\n",
      "0 ('480850313231001', '480850313232001') 27\n",
      "100 ('480850313312005', '480850313312015') 16\n",
      "200 ('481210216541010', '481210216541009') 14\n",
      "300 ('481130181293014', '481130181293002') 13\n"
     ]
    }
   ],
   "source": [
    "seed = 42\n",
    "proj_id = 'cmat-315920'\n",
    "root_path  = '/home/jupyter'\n",
    "\n",
    "%run -i /home/jupyter/MathVGerrmandering_CMAT_2021/redistrict_code.py\n",
    "pd.set_option('display.max_columns', None)\n",
    "states = get_states()\n",
    "\n",
    "opts = {'census_yr':2010,\n",
    "        'shapes_yr':2020,\n",
    "        'election_filters' : {\n",
    "            \"race='general' and office='u.s. sen'\",\n",
    "            \"race='general' and office='president'\",\n",
    "            \"race='general' and office like 'u.s. rep%'\"},\n",
    "        'overwrite' : {\n",
    "#             'crosswalks',\n",
    "#             'assignments',\n",
    "#             'elections',\n",
    "#             'census',\n",
    "#             'shapes',\n",
    "#             'edges',\n",
    "#             'nodes',\n",
    "#             'graph',\n",
    "\n",
    "        }}\n",
    "\n",
    "# for st in ['TX']:#'RI','TX']:\n",
    "#     for lvl in ['tabblock']:#, 'bg', 'tract']:\n",
    "#         for dist in ['cd', 'sldu', 'sldl']:\n",
    "#             opts.update({'abbr':st, 'level':lvl, 'district':dist})\n",
    "#             self = Gerry(**opts)\n",
    "#             self.MCMC(steps=0)\n",
    "#             print('===================================================================================')\n",
    "\n",
    "            \n",
    "rng = np.random.default_rng(42)\n",
    "opts.update({'abbr':'TX', 'level':'tabblock', 'district':'cd'})\n",
    "self = Gerry(**opts)\n",
    "self.MCMC(steps=2)"
   ]
  }
 ],
 "metadata": {
  "kernelspec": {
   "display_name": "Python 3",
   "language": "python",
   "name": "python3"
  },
  "language_info": {
   "codemirror_mode": {
    "name": "ipython",
    "version": 3
   },
   "file_extension": ".py",
   "mimetype": "text/x-python",
   "name": "python",
   "nbconvert_exporter": "python",
   "pygments_lexer": "ipython3",
   "version": "3.7.10"
  }
 },
 "nbformat": 4,
 "nbformat_minor": 5
}
