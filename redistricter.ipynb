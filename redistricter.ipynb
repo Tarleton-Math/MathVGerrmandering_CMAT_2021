{
 "cells": [
  {
   "cell_type": "code",
   "execution_count": 128,
   "id": "f131c0a7",
   "metadata": {},
   "outputs": [
    {
     "name": "stdout",
     "output_type": "stream",
     "text": [
      "Get crosswalks TX 2010 tabblock  ... tabblock table exists ... success\n",
      "Get assignments TX 2020 tabblock ... tabblock table exists ... success\n",
      "Get shapes TX 2020 tabblock      ... tabblock table exists ... success\n",
      "Get census TX 2010 tabblock      ... tabblock table exists ... success\n",
      "Get elections TX 2020 tabblock   ... tabblock table exists ... success\n",
      "Get votes_all TX 2020 tabblock   ... tabblock table exists ... success\n",
      "Get votes_hl TX 2020 tabblock    ... tabblock table exists ... success\n",
      "Get combined TX 2020 bg          ... bg table exists ... success\n",
      "Get edges TX 2020 bg             ... bg table exists ... success\n",
      "Get nodes TX 2020 bg             ... success\n",
      "Get graph TX 2020 bg cd          ... gpickle exists ... success\n"
     ]
    }
   ],
   "source": [
    "seed = 42\n",
    "proj_id = 'cmat-315920'\n",
    "root_path  = '/home/jupyter'\n",
    "code_path = root_path + '/MathVGerrmandering_CMAT_2021/src/'\n",
    "for f in ['Core', 'Gerry', 'Variable', 'Crosswalks', 'Assignments', 'Shapes',\n",
    "          'Census', 'Elections', 'Votes', 'Combined', 'Edges', 'Nodes', 'Graph']:\n",
    "    %run -i {code_path+f+'.py'}\n",
    "\n",
    "refresh_tbl = (\n",
    "#     'crosswalks',\n",
    "#     'assignments',\n",
    "#     'shapes',\n",
    "#     'census',\n",
    "#     'elections',\n",
    "#     'votes_all',\n",
    "#     'votes_hl',\n",
    "#     'combined',\n",
    "#     'edges',\n",
    "#     'nodes',\n",
    "#     'graph',\n",
    ")\n",
    "\n",
    "refresh_all = (\n",
    "#     'crosswalks',\n",
    "#     'assignments',\n",
    "#     'shapes',\n",
    "#     'census',\n",
    "#     'elections',\n",
    "#     'votes_all',\n",
    "#     'votes_hl',\n",
    "#     'combined',\n",
    "#     'edges',\n",
    "#     'nodes',\n",
    "#     'graph',\n",
    ")\n",
    "\n",
    "for level in ['bg']:#, 'cntyvtd', 'tabblock', 'bg', 'tract', 'cnty']:\n",
    "    g = Gerry(abbr='TX', level=level,\n",
    "              election_filters=(\n",
    "                \"office='USSen' and race='general'\",\n",
    "                \"office='President' and race='general'\",\n",
    "                \"office like 'USRep%' and race='general'\"),\n",
    "              refresh_tbl=refresh_tbl, refresh_all=refresh_all\n",
    "             )\n",
    "    g.get_data()\n",
    "#     break"
   ]
  },
  {
   "cell_type": "code",
   "execution_count": 114,
   "id": "e5bca096",
   "metadata": {},
   "outputs": [
    {
     "name": "stdout",
     "output_type": "stream",
     "text": [
      "'225000015', '001000007', '001000019', '001000021', '001000009', '001000022', '161000001', '161000008', '001000002', '161000012', '001000001', '001000006'\n"
     ]
    }
   ],
   "source": [
    "def get_components(G):\n",
    "    return sorted([tuple(c) for c in nx.connected_components(G)], key=lambda x:len(x), reverse=True)\n",
    "\n",
    "\n",
    "G = g.graph.graph\n",
    "# H = nx.subgraph(G, rng.choice(G.nodes, 100))\n",
    "H = nx.subgraph(G, list(G.nodes)[0:100:2])\n",
    "comp = get_components(H)\n",
    "len(comp)\n",
    "comp\n",
    "c = [\"', '\".join(comp[i]) for i in range(2)]\n",
    "# print(f'i in {tuple(comp[0])}')\n",
    "# str(*comp[0])\n",
    "# print(f'i in {str(comp[0])[1:-1]}')\n",
    "# str(comp[0])[1:-1]\n",
    "# print(\",\".join(comp[0]))\n",
    "# print(f'i in {comp[0]}')\n",
    "w = str(comp[0])[1:-1]\n",
    "w = [str(c)[1:-1] for c in comp[:2]]\n",
    "print(w[0])"
   ]
  },
  {
   "cell_type": "code",
   "execution_count": null,
   "id": "b2748c5b",
   "metadata": {},
   "outputs": [],
   "source": []
  }
 ],
 "metadata": {
  "kernelspec": {
   "display_name": "Python 3",
   "language": "python",
   "name": "python3"
  },
  "language_info": {
   "codemirror_mode": {
    "name": "ipython",
    "version": 3
   },
   "file_extension": ".py",
   "mimetype": "text/x-python",
   "name": "python",
   "nbconvert_exporter": "python",
   "pygments_lexer": "ipython3",
   "version": "3.7.10"
  }
 },
 "nbformat": 4,
 "nbformat_minor": 5
}
