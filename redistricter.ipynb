{
 "cells": [
  {
   "cell_type": "code",
   "execution_count": 2,
   "id": "d78be2ac",
   "metadata": {},
   "outputs": [
    {
     "name": "stdin",
     "output_type": "stream",
     "text": [
      "random_seed (default=1) \n"
     ]
    },
    {
     "name": "stdout",
     "output_type": "stream",
     "text": [
      "Get crosswalks_TX_2020_tabblock   ... not necessary ... success\n",
      "Get assignments_TX_2020_tabblock  ... tabblock table exists ... success\n",
      "Get shapes_TX_2020_tabblock       ... tabblock table exists ... success\n",
      "Get census_TX_2020_tabblock       ... tabblock table exists ... success\n",
      "Get elections_TX_2020_tabblock    ... tabblock table exists ... success\n",
      "Get votes_all_TX_2020_tabblock    ... tabblock table exists ... success\n",
      "Get votes_hl_TX_2020_tabblock     ... tabblock table exists ... success\n",
      "Get combined_TX_2020_cntyvtd_cd   ... cntyvtd table exists ... success\n",
      "Get nodes_TX_2020_cntyvtd         ... success\n",
      "Get edges_TX_2020_cntyvtd         ... cntyvtd table exists ... success\n",
      "Get graph_TX_2020_cntyvtd_cd      ... gpickle exists ... success\n",
      "Get cd TX 2020 cntyvtd cd         ... success\n",
      "MCMC plan_1 ... Current pop imbalance = 32.71% ... setting tol = 32.71% ... found recomb with cd 13 and 26 split with pop_imbalance=32.17% ... 6936861911952120022 ... success\n",
      "MCMC done\n",
      "Post-processing plan_0 to make cmat-315920.redistricting_data.cook_plans_TX_2020_cntyvtd_cd_plan_0 ... joining ... aggregating census, votes_all, votes_hl with colors with polygons with simplification 300 ... done\n",
      "Post-processing plan_1 to make cmat-315920.redistricting_data.cook_plans_TX_2020_cntyvtd_cd_plan_1 ... joining ... aggregating census, votes_all, votes_hl with colors with polygons with simplification 300 ... done\n",
      "0hrs 2min 7.09sec elapsed\n"
     ]
    }
   ],
   "source": [
    "proj_id = 'cmat-315920'\n",
    "root_path = '/home/jupyter'\n",
    "code_path = root_path + '/MathVGerrmandering_CMAT_2021/src/'\n",
    "for f in ['Core', 'Gerry', 'Variable', 'Crosswalks', 'Assignments', 'Shapes',\n",
    "          'Census', 'Elections', 'Votes', 'Combined', 'Edges', 'Nodes', 'Graph', 'Districts']:\n",
    "    %run -i {code_path+f+'.py'}\n",
    "\n",
    "refresh_all = (\n",
    "#     'crosswalks',\n",
    "#     'assignments',\n",
    "#     'shapes',\n",
    "#     'census',\n",
    "#     'elections',\n",
    "#     'votes_all',\n",
    "#     'votes_hl',\n",
    "#     'combined',\n",
    "#     'edges',\n",
    "#     'nodes',\n",
    "#     'graph',\n",
    ")\n",
    "\n",
    "refresh_tbl = (\n",
    "#     'crosswalks',\n",
    "#     'assignments',\n",
    "#     'shapes',\n",
    "#     'census',\n",
    "#     'elections',\n",
    "#     'votes_all',\n",
    "#     'votes_hl',\n",
    "#     'combined',\n",
    "#     'edges',\n",
    "#     'nodes',\n",
    "#     'graph',\n",
    ")\n",
    "\n",
    "self = Gerry(abbr = 'TX',\n",
    "             level = 'cntyvtd',\n",
    "             district_type='cd',\n",
    "             simplification=300,\n",
    "             num_colors=10,\n",
    "             election_filters=(\n",
    "                 \"office='President' and race='general'\",\n",
    "                 \"office='USSen' and race='general'\",\n",
    "#                  \"office like 'USRep%' and race='general'\",\n",
    "             ),\n",
    "             refresh_tbl=refresh_tbl, refresh_all=refresh_all\n",
    "            )\n",
    "\n",
    "start = time.time()\n",
    "\n",
    "# idx = self.nodes.df.nlargest(2, 'total_pop').index\n",
    "# self.nodes.df.loc[idx[0], 'cd'] = '37'\n",
    "# self.nodes.df.loc[idx[1], 'cd'] = '38'\n",
    "\n",
    "self.MCMC(num_steps=1)\n",
    "self.agg_plans(agg_polygon_steps=True)#agg_polygon_steps=list(range(3,15)))\n",
    "self.stack_plans()\n",
    "\n",
    "elapsed = time.time() - start\n",
    "h, m = divmod(elapsed, 3600)\n",
    "m, s = divmod(m, 60)\n",
    "print(f'{int(h)}hrs {int(m)}min {s:.2f}sec elapsed')"
   ]
  },
  {
   "cell_type": "code",
   "execution_count": 39,
   "id": "94977432",
   "metadata": {},
   "outputs": [],
   "source": [
    "A = read_table(self.assignments.tbl)\n",
    "A['ct'] = A.groupby('cnty')['cd'].transform('nunique')\n",
    "mask = A['ct'] == 1\n",
    "A['cntyvtd2'] = A['cntyvtd'].copy()\n",
    "A.loc[mask, 'cntyvtd2'] = A.loc[mask, 'cnty']\n",
    "print(A.groupby('cntyvtd2').size(), A.groupby('cntyvtd').size(), self.graph.graph.size())"
   ]
  }
 ],
 "metadata": {
  "kernelspec": {
   "display_name": "Python 3 (ipykernel)",
   "language": "python",
   "name": "python3"
  },
  "language_info": {
   "codemirror_mode": {
    "name": "ipython",
    "version": 3
   },
   "file_extension": ".py",
   "mimetype": "text/x-python",
   "name": "python",
   "nbconvert_exporter": "python",
   "pygments_lexer": "ipython3",
   "version": "3.7.10"
  }
 },
 "nbformat": 4,
 "nbformat_minor": 5
}
