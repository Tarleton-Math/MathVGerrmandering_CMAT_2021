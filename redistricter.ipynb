{
 "cells": [
  {
   "cell_type": "code",
   "execution_count": 1,
   "id": "de5ea320",
   "metadata": {},
   "outputs": [
    {
     "name": "stdout",
     "output_type": "stream",
     "text": [
      "/home/jupyter/MathVGerrmandering_CMAT_2021\n",
      "getting states\n",
      "Get proposal    ... using existing table ... success!\n",
      "Get nodes       ... using existing table ... success!\n",
      "Get graph       ... processing ... using existing graph ... success!\n",
      "1\n",
      "random_seed 0: step 2 0hrs 0min 8.50sec, pop_deviation=143.2, intersect_defect=40, whole_defect=9, defect=49\n",
      "2\n",
      "random_seed 0: step 3 0hrs 0min 13.54sec, pop_deviation=153.5, intersect_defect=47, whole_defect=9, defect=56\n",
      "saving ... plan_rec ... county_rec ... district_rec ... summary_rec ... done\n",
      "3\n",
      "random_seed 0: step 4 0hrs 0min 39.36sec, pop_deviation=153.5, intersect_defect=47, whole_defect=9, defect=56\n",
      "4\n",
      "5\n",
      "random_seed 0: step 6 0hrs 0min 49.39sec, pop_deviation=153.5, intersect_defect=52, whole_defect=9, defect=61\n",
      "saving ... plan_rec ... county_rec ... district_rec ... summary_rec ... done\n",
      "6\n",
      "random_seed 0 done\n"
     ]
    }
   ],
   "source": [
    "%load_ext autoreload\n",
    "%autoreload\n",
    "%cd /home/jupyter/MathVGerrmandering_CMAT_2021/\n",
    "from src import *\n",
    "from src.data import *\n",
    "from src.space import *\n",
    "from src.mcmc import *\n",
    "\n",
    "# D = Data()\n",
    "#             refresh_all=('crosswalks', 'assignments', 'shapes', 'census', 'elections', 'all')\n",
    "#             refresh_all=('census', 'all')\n",
    "#             refresh_tbl=('all'))\n",
    "#             refresh_tbl=('crosswalks')\n",
    "#            )\n",
    "\n",
    "S = Space(level='cntyvtd', proposal='planc2100',\n",
    "#               refresh_all=('graph'))\n",
    "#               refresh_all=('nodes', 'graph'),)\n",
    "             )\n",
    "# # print(self.proposal, self.district_type)\n",
    "M = MCMC(gpickle=S.gpickle, max_steps=6, random_seed=0, defect_cap=1000000, pop_deviation_target=200)\n",
    "M.run_chain()\n",
    "# for district_type, proposals in D.proposals_dict.items():\n",
    "#     for proposal in proposals:\n",
    "#         print(f'\\n\\n{district_type} {proposal}')\n",
    "#         self = Space(level='cntyvtd',\n",
    "# #                     district_type=district_type,\n",
    "#                     proposal=proposal,\n",
    "# #                     refresh_tbl = ('nodes', 'graphs')\n",
    "#                    )\n",
    "#         assert 1==2"
   ]
  },
  {
   "cell_type": "code",
   "execution_count": null,
   "id": "dbc08c84",
   "metadata": {},
   "outputs": [],
   "source": []
  }
 ],
 "metadata": {
  "kernelspec": {
   "display_name": "Python 3 (ipykernel)",
   "language": "python",
   "name": "python3"
  },
  "language_info": {
   "codemirror_mode": {
    "name": "ipython",
    "version": 3
   },
   "file_extension": ".py",
   "mimetype": "text/x-python",
   "name": "python",
   "nbconvert_exporter": "python",
   "pygments_lexer": "ipython3",
   "version": "3.7.10"
  }
 },
 "nbformat": 4,
 "nbformat_minor": 5
}
