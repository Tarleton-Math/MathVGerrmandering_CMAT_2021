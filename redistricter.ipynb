{
 "cells": [
  {
   "cell_type": "code",
   "execution_count": 3,
   "id": "4bf04315",
   "metadata": {},
   "outputs": [
    {
     "name": "stdout",
     "output_type": "stream",
     "text": [
      "Get crosswalks TX 2010 tabblock              ... tabblock table exists ... success\n",
      "Get assignments TX 2020 tabblock             ... tabblock table exists ... success\n",
      "Get shapes TX 2020 tabblock                  ... tabblock table exists ... success\n",
      "Get census TX 2010 tabblock                  ... tabblock table exists ... success\n",
      "Get elections TX 2020 tabblock               ... tabblock table exists ... success\n",
      "Get votes_all TX 2020 tabblock               ... tabblock table exists ... success\n",
      "Get votes_hl TX 2020 tabblock                ... tabblock table exists ... success\n",
      "Get combined TX 2020 cnty                    ... raw table exists ... creating table ... success\n"
     ]
    }
   ],
   "source": [
    "seed = 42\n",
    "proj_id = 'cmat-315920'\n",
    "root_path  = '/home/jupyter'\n",
    "code_path = root_path + '/MathVGerrmandering_CMAT_2021/src/'\n",
    "for f in ['Core', 'Gerry', 'Variable', 'Crosswalks', 'Assignments', 'Shapes',\n",
    "          'Census', 'Elections', 'Votes', 'Combined']:\n",
    "    %run -i {code_path+f+'.py'}\n",
    "\n",
    "refresh_tbl = (\n",
    "#     'crosswalks',\n",
    "#     'assignments',\n",
    "#     'shapes',\n",
    "#     'census',\n",
    "#     'elections',\n",
    "#     'votes_all',\n",
    "#     'votes_hl',\n",
    "#     'combined',\n",
    ")\n",
    "\n",
    "refresh_all = (\n",
    "#     'crosswalks',\n",
    "#     'assignments',\n",
    "#     'shapes',\n",
    "#     'census',\n",
    "#     'elections',\n",
    "#     'votes_all',\n",
    "#     'votes_hl',\n",
    "#     'combined',\n",
    ")\n",
    "\n",
    "g = Gerry(abbr='TX', level='cnty',\n",
    "          election_filters=(\n",
    "            \"office='USSen' and race='general'\",\n",
    "            \"office='President' and race='general'\",\n",
    "            \"office like 'USRep%' and race='general'\"),\n",
    "          refresh_tbl=refresh_tbl, refresh_all=refresh_all\n",
    "         )\n",
    "g.get_data()"
   ]
  }
 ],
 "metadata": {
  "kernelspec": {
   "display_name": "Python 3",
   "language": "python",
   "name": "python3"
  },
  "language_info": {
   "codemirror_mode": {
    "name": "ipython",
    "version": 3
   },
   "file_extension": ".py",
   "mimetype": "text/x-python",
   "name": "python",
   "nbconvert_exporter": "python",
   "pygments_lexer": "ipython3",
   "version": "3.7.10"
  }
 },
 "nbformat": 4,
 "nbformat_minor": 5
}
