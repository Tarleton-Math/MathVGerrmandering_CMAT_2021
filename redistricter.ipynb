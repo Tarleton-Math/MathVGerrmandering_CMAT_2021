{
 "cells": [
  {
   "cell_type": "code",
   "execution_count": null,
   "id": "e2ac7dde",
   "metadata": {},
   "outputs": [
    {
     "name": "stdin",
     "output_type": "stream",
     "text": [
      "random_seed (default=1) \n"
     ]
    },
    {
     "name": "stdout",
     "output_type": "stream",
     "text": [
      "Get crosswalks TX 2020 tabblock   ... not necessary ... success\n",
      "Get assignments TX 2020 tabblock  ... tabblock table exists ... success\n",
      "Get shapes TX 2020 tabblock       ... tabblock table exists ... success\n",
      "Get census TX 2020 tabblock       ... tabblock table exists ... success\n",
      "Get elections TX 2020 tabblock    ... tabblock table exists ... success\n",
      "Get votes_all TX 2020 tabblock    ... tabblock table exists ... success\n",
      "Get votes_hl TX 2020 tabblock     ... tabblock table exists ... success\n",
      "Get combined TX 2020 cntyvtd      ... cntyvtd table exists ... success\n",
      "Get edges TX 2020 cntyvtd         ... cntyvtd table exists ... success\n",
      "Get nodes TX 2020 cntyvtd         ... success\n",
      "Get graph TX 2020 cntyvtd cd      ... gpickle exists ... success\n",
      "Get cd TX 2020 cntyvtd cd         ... success\n",
      "Post-processing plan_00 to make cmat-315920.redistricting_data.cook_plans_TX_2020_cntyvtd_cd_plan_00 ... joining ... aggregating census, votes_all, votes_hl, polygons with simplification 300 with colors ... Post-processing plan_01 to make cmat-315920.redistricting_data.cook_plans_TX_2020_cntyvtd_cd_plan_01 ... joining ... aggregating census, votes_all, votes_hl, polygons with simplification 300 with colors ... Post-processing plan_02 to make cmat-315920.redistricting_data.cook_plans_TX_2020_cntyvtd_cd_plan_02 ... joining ... aggregating census, votes_all, votes_hl, polygons with simplification 300 with colors ... Post-processing plan_03 to make cmat-315920.redistricting_data.cook_plans_TX_2020_cntyvtd_cd_plan_03 ... joining ... aggregating census, votes_all, votes_hl, polygons with simplification 300 with colors ... Post-processing plan_04 to make cmat-315920.redistricting_data.cook_plans_TX_2020_cntyvtd_cd_plan_04 ... joining ... aggregating census, votes_all, votes_hl, polygons with simplification 300 with colors ... Post-processing plan_05 to make cmat-315920.redistricting_data.cook_plans_TX_2020_cntyvtd_cd_plan_05 ... joining ... aggregating census, votes_all, votes_hl, polygons with simplification 300 with colors ... Post-processing plan_06 to make cmat-315920.redistricting_data.cook_plans_TX_2020_cntyvtd_cd_plan_06 ... joining ... aggregating census, votes_all, votes_hl, polygons with simplification 300 with colors ... Post-processing plan_07 to make cmat-315920.redistricting_data.cook_plans_TX_2020_cntyvtd_cd_plan_07 ... joining ... aggregating census, votes_all, votes_hl, polygons with simplification 300 with colors ... Post-processing plan_08 to make cmat-315920.redistricting_data.cook_plans_TX_2020_cntyvtd_cd_plan_08 ... joining ... aggregating census, votes_all, votes_hl, polygons with simplification 300 with colors ... Post-processing plan_09 to make cmat-315920.redistricting_data.cook_plans_TX_2020_cntyvtd_cd_plan_09 ... joining ... aggregating census, votes_all, votes_hl, polygons with simplification 300 with colors ... Post-processing plan_10 to make cmat-315920.redistricting_data.cook_plans_TX_2020_cntyvtd_cd_plan_10 ... joining ... aggregating census, votes_all, votes_hl, polygons with simplification 300 with colors ... "
     ]
    }
   ],
   "source": [
    "proj_id = 'cmat-315920'\n",
    "root_path = '/home/jupyter'\n",
    "code_path = root_path + '/MathVGerrmandering_CMAT_2021/src/'\n",
    "for f in ['Core', 'Gerry', 'Variable', 'Crosswalks', 'Assignments', 'Shapes',\n",
    "          'Census', 'Elections', 'Votes', 'Combined', 'Edges', 'Nodes', 'Graph', 'Districts']:\n",
    "    %run -i {code_path+f+'.py'}\n",
    "\n",
    "refresh_all = (\n",
    "#     'crosswalks',\n",
    "#     'assignments',\n",
    "#     'shapes',\n",
    "#     'census',\n",
    "#     'elections',\n",
    "#     'votes_all',\n",
    "#     'votes_hl',\n",
    "#     'combined',\n",
    "#     'edges',\n",
    "#     'nodes',\n",
    "#     'graph',\n",
    ")\n",
    "\n",
    "refresh_tbl = (\n",
    "#     'crosswalks',\n",
    "#     'assignments',\n",
    "#     'shapes',\n",
    "#     'census',\n",
    "#     'elections',\n",
    "#     'votes_all',\n",
    "#     'votes_hl',\n",
    "#     'combined',\n",
    "#     'edges',\n",
    "#     'nodes',\n",
    "#     'graph',\n",
    ")\n",
    "\n",
    "self = Gerry(abbr='TX', level='cntyvtd', district_type='cd', agg_polygon=True, simplification=300, num_colors=10,\n",
    "          election_filters=(\n",
    "            \"office='President' and race='general'\",\n",
    "            \"office='USSen' and race='general'\",\n",
    "#                 \"office like 'USRep%' and race='general'\",\n",
    "          ),\n",
    "          refresh_tbl=refresh_tbl, refresh_all=refresh_all\n",
    "         )\n",
    "# self.get_data()\n",
    "\n",
    "start = time.time()\n",
    "self.MCMC(steps=49)\n",
    "self.agg_plans()\n",
    "self.stack_plans()\n",
    "elapsed = time.time() - start\n",
    "h, m = divmod(elapsed, 3600)\n",
    "m, s = divmod(m, 60)\n",
    "print(f'{int(h)}hrs {int(m)}min {s:.2f}sec elapsed')"
   ]
  },
  {
   "cell_type": "code",
   "execution_count": null,
   "id": "b2221d21",
   "metadata": {},
   "outputs": [],
   "source": [
    "import os, google, numpy as np, pandas as pd, geopandas as gpd, matplotlib.pyplot as plt, plotly.express as px\n",
    "from google.cloud import aiplatform, bigquery\n",
    "try:\n",
    "    from google.cloud.bigquery_storage import BigQueryReadClient\n",
    "except:\n",
    "    os.system('pip install --upgrade google-cloud-bigquery-storage')\n",
    "    from google.cloud.bigquery_storage import BigQueryReadClient\n",
    "\n",
    "proj_id = 'cmat-315920'\n",
    "root_path = '/home/jupyter'\n",
    "cred, proj = google.auth.default(scopes=[\"https://www.googleapis.com/auth/cloud-platform\"])\n",
    "bqclient   = bigquery.Client(credentials=cred, project=proj)\n",
    "\n",
    "district_type = 'cd'\n",
    "num_steps = 10\n",
    "tbl = f'{proj_id}.redistricting_data.cook_plans_TX_2020_cntyvtd_{district_type}_stacked'\n",
    "df = (bqclient.query(f'select * from {tbl}').result().to_dataframe()\n",
    "      .rename(columns={'geoid':district_type})\n",
    "     )\n",
    "geo = gpd.GeoSeries.from_wkt(df['polygon'], crs='EPSG:4326').simplify(0.05).buffer(0)\n",
    "gdf = gpd.GeoDataFrame(df, geometry=geo)\n",
    "gdf['color'] = gdf['color'].astype(str)\n",
    "\n",
    "\n",
    "X = gdf.query(f'plan < {num_steps}')\n",
    "fig = px.choropleth(X, geojson=X.geometry, locations=X.index, projection=\"mercator\",\n",
    "                    color=\"color\", color_discrete_sequence=px.colors.qualitative.T10, basemap_visible=True,\n",
    "                    hover_data=[district_type, 'total_pop', 'polsby_popper'],\n",
    "                    animation_frame=\"plan\", animation_group=X[district_type],\n",
    "                   )\n",
    "fig.update_geos(fitbounds=\"locations\", visible=False)\n",
    "fig.write_html(root_path + '/recomb.html')\n",
    "fig.show()"
   ]
  }
 ],
 "metadata": {
  "kernelspec": {
   "display_name": "Python 3 (ipykernel)",
   "language": "python",
   "name": "python3"
  },
  "language_info": {
   "codemirror_mode": {
    "name": "ipython",
    "version": 3
   },
   "file_extension": ".py",
   "mimetype": "text/x-python",
   "name": "python",
   "nbconvert_exporter": "python",
   "pygments_lexer": "ipython3",
   "version": "3.7.10"
  }
 },
 "nbformat": 4,
 "nbformat_minor": 5
}
