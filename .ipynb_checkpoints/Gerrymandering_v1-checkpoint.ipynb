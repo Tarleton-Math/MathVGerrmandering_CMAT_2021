{
 "cells": [
  {
   "cell_type": "code",
   "execution_count": null,
   "id": "entire-kingdom",
   "metadata": {},
   "outputs": [],
   "source": [
    "! pip install --upgrade google-cloud-bigquery-storage"
   ]
  },
  {
   "cell_type": "code",
   "execution_count": 1,
   "id": "single-cowboy",
   "metadata": {},
   "outputs": [],
   "source": [
    "import google, numpy as np, pandas as pd, geopandas as gpd\n",
    "from google.cloud import aiplatform, bigquery\n",
    "from google.cloud.bigquery_storage import BigQueryReadClient, types\n",
    "cred, proj = google.auth.default(scopes=[\"https://www.googleapis.com/auth/cloud-platform\"])\n",
    "bqclient = bigquery.Client(credentials = cred, project = proj)"
   ]
  },
  {
   "cell_type": "code",
   "execution_count": 2,
   "id": "supported-hunger",
   "metadata": {},
   "outputs": [],
   "source": [
    "yr = 2017\n",
    "state_abbr = 'RI'\n",
    "proj_id = 'cmat-315920'"
   ]
  },
  {
   "cell_type": "code",
   "execution_count": 3,
   "id": "boring-repair",
   "metadata": {},
   "outputs": [
    {
     "data": {
      "text/plain": [
       "fips                    44\n",
       "abbr                    RI\n",
       "state_name    Rhode Island\n",
       "Name: 39, dtype: object"
      ]
     },
     "execution_count": 3,
     "metadata": {},
     "output_type": "execute_result"
    }
   ],
   "source": [
    "query_str = f\"\"\"\n",
    "select\n",
    "    state_fips_code as fips\n",
    "    , state_postal_abbreviation as abbr\n",
    "    , state_name\n",
    "from\n",
    "    bigquery-public-data.census_utility.fips_codes_states\n",
    "\"\"\"\n",
    "states = bqclient.query(query_str).result().to_dataframe()\n",
    "state = states[states['abbr']==state_abbr].iloc[0]\n",
    "state"
   ]
  },
  {
   "cell_type": "code",
   "execution_count": 10,
   "id": "blessed-auditor",
   "metadata": {},
   "outputs": [
    {
     "data": {
      "text/html": [
       "<div>\n",
       "<style scoped>\n",
       "    .dataframe tbody tr th:only-of-type {\n",
       "        vertical-align: middle;\n",
       "    }\n",
       "\n",
       "    .dataframe tbody tr th {\n",
       "        vertical-align: top;\n",
       "    }\n",
       "\n",
       "    .dataframe thead th {\n",
       "        text-align: right;\n",
       "    }\n",
       "</style>\n",
       "<table border=\"1\" class=\"dataframe\">\n",
       "  <thead>\n",
       "    <tr style=\"text-align: right;\">\n",
       "      <th></th>\n",
       "      <th>state_fips</th>\n",
       "      <th>county_fips</th>\n",
       "      <th>tract_ce</th>\n",
       "      <th>blockgroup_ce</th>\n",
       "      <th>cd</th>\n",
       "      <th>r</th>\n",
       "    </tr>\n",
       "  </thead>\n",
       "  <tbody>\n",
       "    <tr>\n",
       "      <th>0</th>\n",
       "      <td>01</td>\n",
       "      <td>003</td>\n",
       "      <td>301160</td>\n",
       "      <td>2</td>\n",
       "      <td>01</td>\n",
       "      <td>1</td>\n",
       "    </tr>\n",
       "    <tr>\n",
       "      <th>1</th>\n",
       "      <td>01</td>\n",
       "      <td>007</td>\n",
       "      <td>701000</td>\n",
       "      <td>3</td>\n",
       "      <td>06</td>\n",
       "      <td>1</td>\n",
       "    </tr>\n",
       "  </tbody>\n",
       "</table>\n",
       "</div>"
      ],
      "text/plain": [
       "  state_fips county_fips tract_ce blockgroup_ce  cd  r\n",
       "0         01         003   301160             2  01  1\n",
       "1         01         007   701000             3  06  1"
      ]
     },
     "execution_count": 10,
     "metadata": {},
     "output_type": "execute_result"
    }
   ],
   "source": [
    "# block equivalency (matches block to US congressional district)\n",
    "def congress_to_yr(congress):\n",
    "    return 1786 + 2 * congress\n",
    "\n",
    "def yr_to_congress(yr):\n",
    "    return int((yr-1786)/2)\n",
    "\n",
    "def geo_id_decompose(geo_id):\n",
    "    #https://www.census.gov/programs-surveys/geography/guidance/geo-identifiers.html\n",
    "    state\n",
    "\n",
    "def get_block_equivalency(yr):\n",
    "    congress = yr_to_congress(yr)\n",
    "    query_str = f\"\"\"\n",
    "        select\n",
    "            *\n",
    "        from (\n",
    "            select\n",
    "                substring(geo_id, 0, 2) as state_fips\n",
    "                , substring(geo_id, 3, 3) as county_fips\n",
    "                , substring(geo_id, 5, 6) as tract_ce\n",
    "                , substring(geo_id, 11, 1) as blockgroup_ce\n",
    "                , cd\n",
    "                , rank() over (partition by geo_id order by n desc) as r\n",
    "            from (\n",
    "                select\n",
    "                    left(BLOCKID, 12) as geo_id\n",
    "                    , CD{congress} as cd    \n",
    "                    , count(*) as n\n",
    "                from \n",
    "                    {proj_id}.Block_Equivalency_Files.{congress}th_BEF\n",
    "                group by\n",
    "                    1, 2\n",
    "                ) as A\n",
    "            ) as B\n",
    "        where\n",
    "            r = 1\n",
    "        \"\"\"\n",
    "    blocks = bqclient.query(query_str).result().to_dataframe()\n",
    "    return blocks\n",
    "cd = get_block_equivalency(yr)\n",
    "cd.head(2)"
   ]
  },
  {
   "cell_type": "code",
   "execution_count": 5,
   "id": "conditional-gates",
   "metadata": {},
   "outputs": [
    {
     "data": {
      "text/html": [
       "<div>\n",
       "<style scoped>\n",
       "    .dataframe tbody tr th:only-of-type {\n",
       "        vertical-align: middle;\n",
       "    }\n",
       "\n",
       "    .dataframe tbody tr th {\n",
       "        vertical-align: top;\n",
       "    }\n",
       "\n",
       "    .dataframe thead th {\n",
       "        text-align: right;\n",
       "    }\n",
       "</style>\n",
       "<table border=\"1\" class=\"dataframe\">\n",
       "  <thead>\n",
       "    <tr style=\"text-align: right;\">\n",
       "      <th></th>\n",
       "      <th>geo_id</th>\n",
       "      <th>state_fips</th>\n",
       "      <th>county_fips</th>\n",
       "      <th>tract_ce</th>\n",
       "      <th>blockgroup_ce</th>\n",
       "      <th>geometry</th>\n",
       "    </tr>\n",
       "  </thead>\n",
       "  <tbody>\n",
       "    <tr>\n",
       "      <th>0</th>\n",
       "      <td>440010303001</td>\n",
       "      <td>44</td>\n",
       "      <td>001</td>\n",
       "      <td>030300</td>\n",
       "      <td>1</td>\n",
       "      <td>POLYGON ((-71.30076 41.74358, -71.30087 41.743...</td>\n",
       "    </tr>\n",
       "    <tr>\n",
       "      <th>1</th>\n",
       "      <td>440010302001</td>\n",
       "      <td>44</td>\n",
       "      <td>001</td>\n",
       "      <td>030200</td>\n",
       "      <td>1</td>\n",
       "      <td>POLYGON ((-71.33266 41.76572, -71.33235 41.765...</td>\n",
       "    </tr>\n",
       "  </tbody>\n",
       "</table>\n",
       "</div>"
      ],
      "text/plain": [
       "         geo_id state_fips county_fips tract_ce blockgroup_ce  \\\n",
       "0  440010303001         44         001   030300             1   \n",
       "1  440010302001         44         001   030200             1   \n",
       "\n",
       "                                            geometry  \n",
       "0  POLYGON ((-71.30076 41.74358, -71.30087 41.743...  \n",
       "1  POLYGON ((-71.33266 41.76572, -71.33235 41.765...  "
      ]
     },
     "execution_count": 5,
     "metadata": {},
     "output_type": "execute_result"
    }
   ],
   "source": [
    "# geo\n",
    "# input is WKT in NAD83 - https://www2.census.gov/geo/pdfs/maps-data/data/tiger/tgrshp2020/TGRSHP2020_TechDoc_Ch3.pdf\n",
    "# use ESRI:102003 for area calculations # https://epsg.io/102003\n",
    "# use ESRI:102005 for length calculations # https://epsg.io/102005\n",
    "\n",
    "def get_bg_geo(fips):\n",
    "    query_str = f\"\"\"\n",
    "    select\n",
    "        --geo_id\n",
    "        state_fips_code as state_fips\n",
    "        , county_fips_code as county_fips\n",
    "        , tract_ce\n",
    "        , blockgroup_ce\n",
    "        --, lsad_name\n",
    "        --, mtfcc_feature_class_code.\n",
    "        --, functional_status\n",
    "        --, area_land_meters\n",
    "        --, area_water_meters\n",
    "        --, internal_point_lat as lat\n",
    "        --, internal_point_lon aas loni\n",
    "        --, internal_point_geom\n",
    "        , blockgroup_geom as geometry\n",
    "    from\n",
    "        bigquery-public-data.geo_census_blockgroups.blockgroups_{fips}\n",
    "    \"\"\"\n",
    "    df = bqclient.query(query_str).result().to_dataframe()\n",
    "    df['geometry'] = gpd.GeoSeries.from_wkt(df['geometry'])\n",
    "    return gpd.GeoDataFrame(df, geometry='geometry', crs='NAD83')\n",
    "\n",
    "\n",
    "# def compute_area(geo, col=None):\n",
    "#     if col:\n",
    "#         geo = geo.\n",
    "#     return geo.to_crs('ESRI:102003').area   / (1000**2)\n",
    "\n",
    "def compute_perim(geo):\n",
    "    return geo.to_crs('ESRI:102005').length / 1000\n",
    "\n",
    "def compute_area_union(geo):\n",
    "    geo.unary_union.to_crs('ESRI:102003').area   / (1000**2)\n",
    "\n",
    "\n",
    "geo = get_bg_geo(state['fips'])\n",
    "geo.head(2)"
   ]
  },
  {
   "cell_type": "code",
   "execution_count": 11,
   "id": "intelligent-singles",
   "metadata": {},
   "outputs": [
    {
     "data": {
      "text/html": [
       "<div>\n",
       "<style scoped>\n",
       "    .dataframe tbody tr th:only-of-type {\n",
       "        vertical-align: middle;\n",
       "    }\n",
       "\n",
       "    .dataframe tbody tr th {\n",
       "        vertical-align: top;\n",
       "    }\n",
       "\n",
       "    .dataframe thead th {\n",
       "        text-align: right;\n",
       "    }\n",
       "</style>\n",
       "<table border=\"1\" class=\"dataframe\">\n",
       "  <thead>\n",
       "    <tr style=\"text-align: right;\">\n",
       "      <th></th>\n",
       "      <th>state_fips</th>\n",
       "      <th>county_fips</th>\n",
       "      <th>tract_ce</th>\n",
       "      <th>blockgroup_ce</th>\n",
       "      <th>pop</th>\n",
       "    </tr>\n",
       "  </thead>\n",
       "  <tbody>\n",
       "    <tr>\n",
       "      <th>0</th>\n",
       "      <td>39</td>\n",
       "      <td>165</td>\n",
       "      <td>503160</td>\n",
       "      <td>0</td>\n",
       "      <td>500.0</td>\n",
       "    </tr>\n",
       "    <tr>\n",
       "      <th>1</th>\n",
       "      <td>06</td>\n",
       "      <td>115</td>\n",
       "      <td>504090</td>\n",
       "      <td>2</td>\n",
       "      <td>50.0</td>\n",
       "    </tr>\n",
       "  </tbody>\n",
       "</table>\n",
       "</div>"
      ],
      "text/plain": [
       "  state_fips county_fips tract_ce blockgroup_ce    pop\n",
       "0         39         165   503160             0  500.0\n",
       "1         06         115   504090             2   50.0"
      ]
     },
     "execution_count": 11,
     "metadata": {},
     "output_type": "execute_result"
    }
   ],
   "source": [
    "# acs\n",
    "\n",
    "def get_acs(yr):\n",
    "    query_str = f\"\"\"\n",
    "    select\n",
    "        substring(geo_id, 0, 2) as state_fips\n",
    "        , substring(geo_id, 3, 3) as county_fips\n",
    "        , substring(geo_id, 5, 6) as tract_ce\n",
    "        , substring(geo_id, 11, 1) as blockgroup_ce\n",
    "        , total_pop as pop\n",
    "    from\n",
    "        bigquery-public-data.census_bureau_acs.blockgroup_{yr}_5yr\n",
    "    \"\"\"\n",
    "    df = bqclient.query(query_str).result().to_dataframe()\n",
    "    return df\n",
    "acs = get_acs(yr)\n",
    "acs.head(2)"
   ]
  },
  {
   "cell_type": "code",
   "execution_count": 7,
   "id": "corrected-alpha",
   "metadata": {},
   "outputs": [
    {
     "data": {
      "text/html": [
       "<div>\n",
       "<style scoped>\n",
       "    .dataframe tbody tr th:only-of-type {\n",
       "        vertical-align: middle;\n",
       "    }\n",
       "\n",
       "    .dataframe tbody tr th {\n",
       "        vertical-align: top;\n",
       "    }\n",
       "\n",
       "    .dataframe thead th {\n",
       "        text-align: right;\n",
       "    }\n",
       "</style>\n",
       "<table border=\"1\" class=\"dataframe\">\n",
       "  <thead>\n",
       "    <tr style=\"text-align: right;\">\n",
       "      <th></th>\n",
       "      <th>state_fips</th>\n",
       "      <th>county_fips</th>\n",
       "      <th>tract_ce</th>\n",
       "      <th>blockgroup_ce</th>\n",
       "      <th>pop</th>\n",
       "      <th>lat</th>\n",
       "      <th>lon</th>\n",
       "    </tr>\n",
       "  </thead>\n",
       "  <tbody>\n",
       "    <tr>\n",
       "      <th>0</th>\n",
       "      <td>44</td>\n",
       "      <td>7</td>\n",
       "      <td>12801</td>\n",
       "      <td>3</td>\n",
       "      <td>2138</td>\n",
       "      <td>42.004282</td>\n",
       "      <td>-71.571653</td>\n",
       "    </tr>\n",
       "    <tr>\n",
       "      <th>1</th>\n",
       "      <td>44</td>\n",
       "      <td>7</td>\n",
       "      <td>12801</td>\n",
       "      <td>3</td>\n",
       "      <td>2138</td>\n",
       "      <td>42.004282</td>\n",
       "      <td>-71.571653</td>\n",
       "    </tr>\n",
       "  </tbody>\n",
       "</table>\n",
       "</div>"
      ],
      "text/plain": [
       "   state_fips  county_fips  tract_ce  blockgroup_ce   pop        lat  \\\n",
       "0          44            7     12801              3  2138  42.004282   \n",
       "1          44            7     12801              3  2138  42.004282   \n",
       "\n",
       "         lon  \n",
       "0 -71.571653  \n",
       "1 -71.571653  "
      ]
     },
     "metadata": {},
     "output_type": "display_data"
    }
   ],
   "source": [
    "# centroids\n",
    "\n",
    "def get_centroids(fips):\n",
    "    query_str = f\"\"\"\n",
    "    select\n",
    "        STATEFP as state_fips\n",
    "        , COUNTYFP AS county_fips\n",
    "        , TRACTCE as tract_ce\n",
    "        , BLKGRPCE as blockgroup_ce\n",
    "        , POPULATION as pop\n",
    "        , LATITUDE as lat\n",
    "        , LONGITUDE as lon\n",
    "    from\n",
    "        {proj_id}.BLOCK_CENTROIDS.block_centroid_{fips}\n",
    "    \"\"\"\n",
    "    df = bqclient.query(query_str).result().to_dataframe()\n",
    "#     df.columns = ['state_fips', 'countyfips', 'tract_ce', 'blockkgroup_ce', 'pop',  \tlatitude \tlongitude\n",
    "    \n",
    "#     df.columns = [x.lower() for x in df.columns]\n",
    "    \n",
    "    return df\n",
    "centroids = get_centroids(state['fips'])\n",
    "display(centroids.head(2))"
   ]
  },
  {
   "cell_type": "code",
   "execution_count": 14,
   "id": "concrete-wichita",
   "metadata": {},
   "outputs": [
    {
     "data": {
      "text/html": [
       "<div>\n",
       "<style scoped>\n",
       "    .dataframe tbody tr th:only-of-type {\n",
       "        vertical-align: middle;\n",
       "    }\n",
       "\n",
       "    .dataframe tbody tr th {\n",
       "        vertical-align: top;\n",
       "    }\n",
       "\n",
       "    .dataframe thead th {\n",
       "        text-align: right;\n",
       "    }\n",
       "</style>\n",
       "<table border=\"1\" class=\"dataframe\">\n",
       "  <thead>\n",
       "    <tr style=\"text-align: right;\">\n",
       "      <th></th>\n",
       "      <th>state_fips</th>\n",
       "      <th>county_fips</th>\n",
       "      <th>tract_ce</th>\n",
       "      <th>blockgroup_ce</th>\n",
       "      <th>cd</th>\n",
       "      <th>r</th>\n",
       "    </tr>\n",
       "  </thead>\n",
       "  <tbody>\n",
       "    <tr>\n",
       "      <th>0</th>\n",
       "      <td>01</td>\n",
       "      <td>003</td>\n",
       "      <td>301160</td>\n",
       "      <td>2</td>\n",
       "      <td>01</td>\n",
       "      <td>1</td>\n",
       "    </tr>\n",
       "    <tr>\n",
       "      <th>1</th>\n",
       "      <td>01</td>\n",
       "      <td>007</td>\n",
       "      <td>701000</td>\n",
       "      <td>3</td>\n",
       "      <td>06</td>\n",
       "      <td>1</td>\n",
       "    </tr>\n",
       "  </tbody>\n",
       "</table>\n",
       "</div>"
      ],
      "text/plain": [
       "  state_fips county_fips tract_ce blockgroup_ce  cd  r\n",
       "0         01         003   301160             2  01  1\n",
       "1         01         007   701000             3  06  1"
      ]
     },
     "metadata": {},
     "output_type": "display_data"
    },
    {
     "data": {
      "text/plain": [
       "(220486, 6)"
      ]
     },
     "metadata": {},
     "output_type": "display_data"
    },
    {
     "data": {
      "text/html": [
       "<div>\n",
       "<style scoped>\n",
       "    .dataframe tbody tr th:only-of-type {\n",
       "        vertical-align: middle;\n",
       "    }\n",
       "\n",
       "    .dataframe tbody tr th {\n",
       "        vertical-align: top;\n",
       "    }\n",
       "\n",
       "    .dataframe thead th {\n",
       "        text-align: right;\n",
       "    }\n",
       "</style>\n",
       "<table border=\"1\" class=\"dataframe\">\n",
       "  <thead>\n",
       "    <tr style=\"text-align: right;\">\n",
       "      <th></th>\n",
       "      <th>geo_id</th>\n",
       "      <th>state_fips</th>\n",
       "      <th>county_fips</th>\n",
       "      <th>tract_ce</th>\n",
       "      <th>blockgroup_ce</th>\n",
       "      <th>geometry</th>\n",
       "    </tr>\n",
       "  </thead>\n",
       "  <tbody>\n",
       "    <tr>\n",
       "      <th>0</th>\n",
       "      <td>440010303001</td>\n",
       "      <td>44</td>\n",
       "      <td>001</td>\n",
       "      <td>030300</td>\n",
       "      <td>1</td>\n",
       "      <td>POLYGON ((-71.30076 41.74358, -71.30087 41.743...</td>\n",
       "    </tr>\n",
       "    <tr>\n",
       "      <th>1</th>\n",
       "      <td>440010302001</td>\n",
       "      <td>44</td>\n",
       "      <td>001</td>\n",
       "      <td>030200</td>\n",
       "      <td>1</td>\n",
       "      <td>POLYGON ((-71.33266 41.76572, -71.33235 41.765...</td>\n",
       "    </tr>\n",
       "  </tbody>\n",
       "</table>\n",
       "</div>"
      ],
      "text/plain": [
       "         geo_id state_fips county_fips tract_ce blockgroup_ce  \\\n",
       "0  440010303001         44         001   030300             1   \n",
       "1  440010302001         44         001   030200             1   \n",
       "\n",
       "                                            geometry  \n",
       "0  POLYGON ((-71.30076 41.74358, -71.30087 41.743...  \n",
       "1  POLYGON ((-71.33266 41.76572, -71.33235 41.765...  "
      ]
     },
     "metadata": {},
     "output_type": "display_data"
    },
    {
     "data": {
      "text/plain": [
       "(815, 6)"
      ]
     },
     "metadata": {},
     "output_type": "display_data"
    },
    {
     "data": {
      "text/html": [
       "<div>\n",
       "<style scoped>\n",
       "    .dataframe tbody tr th:only-of-type {\n",
       "        vertical-align: middle;\n",
       "    }\n",
       "\n",
       "    .dataframe tbody tr th {\n",
       "        vertical-align: top;\n",
       "    }\n",
       "\n",
       "    .dataframe thead th {\n",
       "        text-align: right;\n",
       "    }\n",
       "</style>\n",
       "<table border=\"1\" class=\"dataframe\">\n",
       "  <thead>\n",
       "    <tr style=\"text-align: right;\">\n",
       "      <th></th>\n",
       "      <th>state_fips</th>\n",
       "      <th>county_fips</th>\n",
       "      <th>tract_ce</th>\n",
       "      <th>blockgroup_ce</th>\n",
       "      <th>pop</th>\n",
       "    </tr>\n",
       "  </thead>\n",
       "  <tbody>\n",
       "    <tr>\n",
       "      <th>0</th>\n",
       "      <td>39</td>\n",
       "      <td>165</td>\n",
       "      <td>503160</td>\n",
       "      <td>0</td>\n",
       "      <td>500.0</td>\n",
       "    </tr>\n",
       "    <tr>\n",
       "      <th>1</th>\n",
       "      <td>06</td>\n",
       "      <td>115</td>\n",
       "      <td>504090</td>\n",
       "      <td>2</td>\n",
       "      <td>50.0</td>\n",
       "    </tr>\n",
       "  </tbody>\n",
       "</table>\n",
       "</div>"
      ],
      "text/plain": [
       "  state_fips county_fips tract_ce blockgroup_ce    pop\n",
       "0         39         165   503160             0  500.0\n",
       "1         06         115   504090             2   50.0"
      ]
     },
     "metadata": {},
     "output_type": "display_data"
    },
    {
     "data": {
      "text/plain": [
       "(220333, 5)"
      ]
     },
     "metadata": {},
     "output_type": "display_data"
    },
    {
     "data": {
      "text/html": [
       "<div>\n",
       "<style scoped>\n",
       "    .dataframe tbody tr th:only-of-type {\n",
       "        vertical-align: middle;\n",
       "    }\n",
       "\n",
       "    .dataframe tbody tr th {\n",
       "        vertical-align: top;\n",
       "    }\n",
       "\n",
       "    .dataframe thead th {\n",
       "        text-align: right;\n",
       "    }\n",
       "</style>\n",
       "<table border=\"1\" class=\"dataframe\">\n",
       "  <thead>\n",
       "    <tr style=\"text-align: right;\">\n",
       "      <th></th>\n",
       "      <th>state_fips</th>\n",
       "      <th>county_fips</th>\n",
       "      <th>tract_ce</th>\n",
       "      <th>blockgroup_ce</th>\n",
       "      <th>pop</th>\n",
       "      <th>lat</th>\n",
       "      <th>lon</th>\n",
       "    </tr>\n",
       "  </thead>\n",
       "  <tbody>\n",
       "    <tr>\n",
       "      <th>0</th>\n",
       "      <td>44</td>\n",
       "      <td>7</td>\n",
       "      <td>12801</td>\n",
       "      <td>3</td>\n",
       "      <td>2138</td>\n",
       "      <td>42.004282</td>\n",
       "      <td>-71.571653</td>\n",
       "    </tr>\n",
       "    <tr>\n",
       "      <th>1</th>\n",
       "      <td>44</td>\n",
       "      <td>7</td>\n",
       "      <td>12801</td>\n",
       "      <td>3</td>\n",
       "      <td>2138</td>\n",
       "      <td>42.004282</td>\n",
       "      <td>-71.571653</td>\n",
       "    </tr>\n",
       "  </tbody>\n",
       "</table>\n",
       "</div>"
      ],
      "text/plain": [
       "   state_fips  county_fips  tract_ce  blockgroup_ce   pop        lat  \\\n",
       "0          44            7     12801              3  2138  42.004282   \n",
       "1          44            7     12801              3  2138  42.004282   \n",
       "\n",
       "         lon  \n",
       "0 -71.571653  \n",
       "1 -71.571653  "
      ]
     },
     "metadata": {},
     "output_type": "display_data"
    },
    {
     "data": {
      "text/plain": [
       "(1630, 7)"
      ]
     },
     "metadata": {},
     "output_type": "display_data"
    }
   ],
   "source": [
    "for df in [cd, geo, acs, centroids]:\n",
    "    display(df.head(2))\n",
    "    display(df.shape)\n"
   ]
  },
  {
   "cell_type": "code",
   "execution_count": null,
   "id": "primary-parent",
   "metadata": {},
   "outputs": [],
   "source": [
    "acs.head(2)"
   ]
  },
  {
   "cell_type": "code",
   "execution_count": null,
   "id": "suffering-edmonton",
   "metadata": {},
   "outputs": [],
   "source": [
    "geo.head(2)"
   ]
  },
  {
   "cell_type": "code",
   "execution_count": null,
   "id": "lasting-country",
   "metadata": {},
   "outputs": [],
   "source": [
    "geo.to_crs('ESRI:102005').length / 1000"
   ]
  },
  {
   "cell_type": "code",
   "execution_count": null,
   "id": "limiting-ridge",
   "metadata": {},
   "outputs": [],
   "source": [
    "geo.u"
   ]
  },
  {
   "cell_type": "code",
   "execution_count": null,
   "id": "addressed-offer",
   "metadata": {},
   "outputs": [],
   "source": [
    "import geopandas as gpd\n",
    "gdf = get_bg_shapes('44')\n",
    "# gdf.plot()\n",
    "A = gdf.to_crs('ESRI:102003').area / 1000\n",
    "A.sum()"
   ]
  },
  {
   "cell_type": "code",
   "execution_count": null,
   "id": "historic-myrtle",
   "metadata": {},
   "outputs": [],
   "source": [
    "import plotly.express as px\n",
    "\n",
    "fig = px.choropleth(gdf, geojson=gdf.geometry,\n",
    "                    color=\"area_land_meters\",\n",
    "                    locations=gdf.index,\n",
    "#                     featureidkey=\"properties.district\",\n",
    "#                     projection=\"mercator\"\n",
    "                   )\n",
    "\n",
    "fig.update_geos(fitbounds=\"locations\", visible=True)\n",
    "fig.update_layout(margin={\"r\":0,\"t\":0,\"l\":0,\"b\":0})\n",
    "fig.show()"
   ]
  },
  {
   "cell_type": "code",
   "execution_count": null,
   "id": "prompt-sarah",
   "metadata": {},
   "outputs": [],
   "source": [
    "gdf.columns"
   ]
  },
  {
   "cell_type": "code",
   "execution_count": null,
   "id": "polar-preserve",
   "metadata": {},
   "outputs": [],
   "source": []
  }
 ],
 "metadata": {
  "kernelspec": {
   "display_name": "Python 3",
   "language": "python",
   "name": "python3"
  },
  "language_info": {
   "codemirror_mode": {
    "name": "ipython",
    "version": 3
   },
   "file_extension": ".py",
   "mimetype": "text/x-python",
   "name": "python",
   "nbconvert_exporter": "python",
   "pygments_lexer": "ipython3",
   "version": "3.7.10"
  }
 },
 "nbformat": 4,
 "nbformat_minor": 5
}
