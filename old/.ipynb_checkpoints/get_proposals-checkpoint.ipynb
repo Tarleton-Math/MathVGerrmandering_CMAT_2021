{
 "cells": [
  {
   "cell_type": "code",
   "execution_count": null,
   "id": "e0ab00d6",
   "metadata": {},
   "outputs": [],
   "source": [
    "from src import *\n",
    "import urllib\n",
    "\n",
    "missing_plans = []\n",
    "for district_type, abbr in {'cd':'c', 'sldu':'s', 'sldl':'h'}.items():\n",
    "    proposal_path = data_path / f'proposals/{district_type}'\n",
    "    proposal_path.mkdir(parents=True, exist_ok=True)\n",
    "    os.chdir(proposal_path)\n",
    "    os.system(\"unzip -u '*.zip' >/dev/null 2>&1\");\n",
    "    not_found = 0\n",
    "    for n in range(1000):\n",
    "        plan = f'plan{abbr}{2100+n}'.lower()\n",
    "        f = proposal_path / f'{plan.upper()}.csv'\n",
    "        url = f'https://data.capitol.texas.gov/dataset/{plan}'\n",
    "        try:\n",
    "            urllib.request.urlopen(url)\n",
    "            not_found = 0\n",
    "            if not f.is_file():\n",
    "                missing_plans.append(plan)\n",
    "        except urllib.error.HTTPError:\n",
    "            not_found += 1\n",
    "        if not_found > 5:\n",
    "            break\n",
    "os.chdir(code_path)\n",
    "print(f'missing plans: {missing_plans}')"
   ]
  },
  {
   "cell_type": "code",
   "execution_count": 2,
   "id": "51617818",
   "metadata": {},
   "outputs": [
    {
     "data": {
      "text/plain": [
       "\u001b[0;31mDocstring:\u001b[0m\n",
       "__import__(name, globals=None, locals=None, fromlist=(), level=0) -> module\n",
       "\n",
       "Import a module. Because this function is meant for use by the Python\n",
       "interpreter and not for general use, it is better to use\n",
       "importlib.import_module() to programmatically import a module.\n",
       "\n",
       "The globals argument is only used to determine the context;\n",
       "they are not modified.  The locals argument is unused.  The fromlist\n",
       "should be a list of names to emulate ``from name import ...'', or an\n",
       "empty list to emulate ``import name''.\n",
       "When importing a module from a package, note that __import__('A.B', ...)\n",
       "returns package A when fromlist is empty, but its submodule B when\n",
       "fromlist is not empty.  The level argument is used to determine whether to\n",
       "perform absolute or relative imports: 0 is absolute, while a positive number\n",
       "is the number of parent directories to search relative to the current module.\n",
       "\u001b[0;31mType:\u001b[0m      builtin_function_or_method\n"
      ]
     },
     "metadata": {},
     "output_type": "display_data"
    }
   ],
   "source": [
    "__import__?"
   ]
  },
  {
   "cell_type": "code",
   "execution_count": 4,
   "id": "ef4547bf",
   "metadata": {},
   "outputs": [],
   "source": [
    "np = __import__('numpy')"
   ]
  },
  {
   "cell_type": "code",
   "execution_count": 5,
   "id": "0c1ac9ef",
   "metadata": {},
   "outputs": [
    {
     "data": {
      "text/plain": [
       "<module 'google.cloud.bigquery' from '/opt/conda/lib/python3.7/site-packages/google/cloud/bigquery/__init__.py'>"
      ]
     },
     "execution_count": 5,
     "metadata": {},
     "output_type": "execute_result"
    }
   ],
   "source": [
    "import google.cloud.bigquery\n",
    "google.cloud.bigquery"
   ]
  },
  {
   "cell_type": "code",
   "execution_count": 2,
   "id": "27fdad79",
   "metadata": {},
   "outputs": [
    {
     "ename": "NameError",
     "evalue": "name 'google' is not defined",
     "output_type": "error",
     "traceback": [
      "\u001b[0;31m---------------------------------------------------------------------------\u001b[0m",
      "\u001b[0;31mNameError\u001b[0m                                 Traceback (most recent call last)",
      "\u001b[0;32m/tmp/ipykernel_5028/1522383186.py\u001b[0m in \u001b[0;36m<module>\u001b[0;34m\u001b[0m\n\u001b[1;32m      3\u001b[0m \u001b[0;34m\u001b[0m\u001b[0m\n\u001b[1;32m      4\u001b[0m \u001b[0mimportlib\u001b[0m\u001b[0;34m.\u001b[0m\u001b[0mimport_module\u001b[0m\u001b[0;34m(\u001b[0m\u001b[0mname\u001b[0m\u001b[0;34m)\u001b[0m\u001b[0;34m\u001b[0m\u001b[0;34m\u001b[0m\u001b[0m\n\u001b[0;32m----> 5\u001b[0;31m \u001b[0mgoogle\u001b[0m\u001b[0;34m.\u001b[0m\u001b[0mcloud\u001b[0m\u001b[0;34m.\u001b[0m\u001b[0mbigquery\u001b[0m\u001b[0;34m\u001b[0m\u001b[0;34m\u001b[0m\u001b[0m\n\u001b[0m",
      "\u001b[0;31mNameError\u001b[0m: name 'google' is not defined"
     ]
    }
   ],
   "source": [
    "import importlib\n",
    "name = 'google.cloud.bigquery'\n",
    "\n",
    "importlib.import_module(name)\n",
    "google.cloud.bigquery"
   ]
  },
  {
   "cell_type": "code",
   "execution_count": 3,
   "id": "cd0e4cb1",
   "metadata": {},
   "outputs": [
    {
     "ename": "NameError",
     "evalue": "name 'google' is not defined",
     "output_type": "error",
     "traceback": [
      "\u001b[0;31m---------------------------------------------------------------------------\u001b[0m",
      "\u001b[0;31mNameError\u001b[0m                                 Traceback (most recent call last)",
      "\u001b[0;32m/tmp/ipykernel_4935/2715391227.py\u001b[0m in \u001b[0;36m<module>\u001b[0;34m\u001b[0m\n\u001b[0;32m----> 1\u001b[0;31m \u001b[0mgoogle\u001b[0m\u001b[0;34m.\u001b[0m\u001b[0mcloud\u001b[0m\u001b[0;34m.\u001b[0m\u001b[0mbigquery\u001b[0m\u001b[0;34m\u001b[0m\u001b[0;34m\u001b[0m\u001b[0m\n\u001b[0m",
      "\u001b[0;31mNameError\u001b[0m: name 'google' is not defined"
     ]
    }
   ],
   "source": [
    "google.cloud.bigquery"
   ]
  },
  {
   "cell_type": "code",
   "execution_count": 3,
   "id": "f7e7cba8",
   "metadata": {},
   "outputs": [
    {
     "name": "stdout",
     "output_type": "stream",
     "text": [
      "os\n",
      "pathlib\n",
      "shutil\n",
      "time\n",
      "datetime\n",
      "dataclasses\n",
      "typing\n",
      "numpy\n",
      "google.cloud.bigquery\n"
     ]
    }
   ],
   "source": [
    "import importlib\n",
    "I = ('os', 'pathlib', 'shutil', 'time', 'datetime', 'dataclasses', 'typing', ('numpy', 'np'), 'google.cloud.bigquery')\n",
    "for i in I:\n",
    "    if isinstance(i, str):\n",
    "        name, alias = i, i\n",
    "    else:\n",
    "        assert len(i) == 2\n",
    "        name, alias = i[0], i[1]\n",
    "    print(name)\n",
    "    try:\n",
    "#         alias = __import__(name)\n",
    "        alias = importlib.import_module(name)\n",
    "    except:\n",
    "        print(f'pip installing {name}')\n",
    "        os.system(f'pip install --upgrade {name}')\n",
    "        alias = importlib.import_module(name)\n",
    "#         alias = __import__(name)\n",
    "\n"
   ]
  },
  {
   "cell_type": "code",
   "execution_count": 5,
   "id": "312b7bba",
   "metadata": {},
   "outputs": [
    {
     "name": "stdout",
     "output_type": "stream",
     "text": [
      "Object `import` not found.\n"
     ]
    }
   ],
   "source": [
    "import?"
   ]
  },
  {
   "cell_type": "code",
   "execution_count": 2,
   "id": "a8bcb9f3",
   "metadata": {},
   "outputs": [
    {
     "ename": "NameError",
     "evalue": "name 'google' is not defined",
     "output_type": "error",
     "traceback": [
      "\u001b[0;31m---------------------------------------------------------------------------\u001b[0m",
      "\u001b[0;31mNameError\u001b[0m                                 Traceback (most recent call last)",
      "\u001b[0;32m/tmp/ipykernel_3995/3661527619.py\u001b[0m in \u001b[0;36m<module>\u001b[0;34m\u001b[0m\n\u001b[0;32m----> 1\u001b[0;31m \u001b[0mgoogle\u001b[0m\u001b[0;34m.\u001b[0m\u001b[0mcloud\u001b[0m\u001b[0;34m.\u001b[0m\u001b[0mbigquery\u001b[0m\u001b[0;34m\u001b[0m\u001b[0;34m\u001b[0m\u001b[0m\n\u001b[0m",
      "\u001b[0;31mNameError\u001b[0m: name 'google' is not defined"
     ]
    }
   ],
   "source": [
    "google.cloud.bigquery\n"
   ]
  },
  {
   "cell_type": "code",
   "execution_count": 8,
   "id": "57660b42",
   "metadata": {},
   "outputs": [
    {
     "data": {
      "text/plain": [
       "\u001b[0;31mSignature:\u001b[0m \u001b[0mimportlib\u001b[0m\u001b[0;34m.\u001b[0m\u001b[0mimport_module\u001b[0m\u001b[0;34m(\u001b[0m\u001b[0mname\u001b[0m\u001b[0;34m,\u001b[0m \u001b[0mpackage\u001b[0m\u001b[0;34m=\u001b[0m\u001b[0;32mNone\u001b[0m\u001b[0;34m)\u001b[0m\u001b[0;34m\u001b[0m\u001b[0;34m\u001b[0m\u001b[0m\n",
       "\u001b[0;31mDocstring:\u001b[0m\n",
       "Import a module.\n",
       "\n",
       "The 'package' argument is required when performing a relative import. It\n",
       "specifies the package to use as the anchor point from which to resolve the\n",
       "relative import to an absolute import.\n",
       "\u001b[0;31mFile:\u001b[0m      /opt/conda/lib/python3.7/importlib/__init__.py\n",
       "\u001b[0;31mType:\u001b[0m      function\n"
      ]
     },
     "metadata": {},
     "output_type": "display_data"
    }
   ],
   "source": [
    "import importlib\n",
    "importlib.import_module?"
   ]
  },
  {
   "cell_type": "code",
   "execution_count": 3,
   "id": "440e55ff",
   "metadata": {},
   "outputs": [
    {
     "data": {
      "text/plain": [
       "<module 'numpy' from '/opt/conda/lib/python3.7/site-packages/numpy/__init__.py'>"
      ]
     },
     "execution_count": 3,
     "metadata": {},
     "output_type": "execute_result"
    }
   ],
   "source": [
    "import os\n",
    "def imp(name, alias=None, pypi=None):\n",
    "    if alias is None:\n",
    "        alias = name\n",
    "    if pypi is None:\n",
    "        pypi = name\n",
    "    try:\n",
    "        alias = __import__(name)\n",
    "    except:\n",
    "        os.system(f'pip install --upgrade {pypi}')\n",
    "        alias = __import__(name)\n",
    "    return alias\n",
    "imp('numpy', 'np')"
   ]
  },
  {
   "cell_type": "code",
   "execution_count": 5,
   "id": "1a7e5fbc",
   "metadata": {},
   "outputs": [
    {
     "data": {
      "text/plain": [
       "<function numpy.array>"
      ]
     },
     "execution_count": 5,
     "metadata": {},
     "output_type": "execute_result"
    }
   ],
   "source": [
    "import os\n",
    "def imp(name):\n",
    "    try:\n",
    "        return __import__(name)\n",
    "    except:\n",
    "        os.system(f'pip install --upgrade {name}')\n",
    "        return __import__(name)\n",
    "\n",
    "np = imp('numpy'); ms = imp('mechanicalsoup')\n",
    "np.array"
   ]
  },
  {
   "cell_type": "code",
   "execution_count": 6,
   "id": "3858daf1",
   "metadata": {},
   "outputs": [
    {
     "data": {
      "text/plain": [
       "<module 'mechanicalsoup' from '/opt/conda/lib/python3.7/site-packages/mechanicalsoup/__init__.py'>"
      ]
     },
     "execution_count": 6,
     "metadata": {},
     "output_type": "execute_result"
    }
   ],
   "source": [
    "ms"
   ]
  },
  {
   "cell_type": "code",
   "execution_count": 3,
   "id": "604ed8a6",
   "metadata": {},
   "outputs": [
    {
     "name": "stdout",
     "output_type": "stream",
     "text": [
      "Collecting mechanicalsoup\n",
      "  Downloading MechanicalSoup-1.1.0-py3-none-any.whl (19 kB)\n",
      "Requirement already satisfied: beautifulsoup4>=4.7 in /opt/conda/lib/python3.7/site-packages (from mechanicalsoup) (4.10.0)\n",
      "Requirement already satisfied: lxml in /opt/conda/lib/python3.7/site-packages (from mechanicalsoup) (4.6.3)\n",
      "Requirement already satisfied: requests>=2.22.0 in /opt/conda/lib/python3.7/site-packages (from mechanicalsoup) (2.25.1)\n",
      "Requirement already satisfied: soupsieve>1.2 in /opt/conda/lib/python3.7/site-packages (from beautifulsoup4>=4.7->mechanicalsoup) (2.2.1)\n",
      "Requirement already satisfied: idna<3,>=2.5 in /opt/conda/lib/python3.7/site-packages (from requests>=2.22.0->mechanicalsoup) (2.10)\n",
      "Requirement already satisfied: certifi>=2017.4.17 in /opt/conda/lib/python3.7/site-packages (from requests>=2.22.0->mechanicalsoup) (2021.5.30)\n",
      "Requirement already satisfied: chardet<5,>=3.0.2 in /opt/conda/lib/python3.7/site-packages (from requests>=2.22.0->mechanicalsoup) (4.0.0)\n",
      "Requirement already satisfied: urllib3<1.27,>=1.21.1 in /opt/conda/lib/python3.7/site-packages (from requests>=2.22.0->mechanicalsoup) (1.26.6)\n",
      "Installing collected packages: mechanicalsoup\n",
      "Successfully installed mechanicalsoup-1.1.0\n"
     ]
    },
    {
     "name": "stderr",
     "output_type": "stream",
     "text": [
      "WARNING: Running pip as the 'root' user can result in broken permissions and conflicting behaviour with the system package manager. It is recommended to use a virtual environment instead: https://pip.pypa.io/warnings/venv\n"
     ]
    },
    {
     "data": {
      "text/plain": [
       "0"
      ]
     },
     "execution_count": 3,
     "metadata": {},
     "output_type": "execute_result"
    }
   ],
   "source": [
    "os.system('pip install --upgrade mechanicalsoup')"
   ]
  },
  {
   "cell_type": "code",
   "execution_count": null,
   "id": "f336fa28",
   "metadata": {},
   "outputs": [],
   "source": [
    "try:\n",
    "    import mechanicalsoup\n",
    "except:\n",
    "    os.system('pip install --upgrade MechanicalSoup')\n",
    "    import mechanicalsoup\n",
    "\n",
    "    \n",
    "    pip install MechanicalSoup"
   ]
  },
  {
   "cell_type": "code",
   "execution_count": 7,
   "id": "ebb9d46e",
   "metadata": {},
   "outputs": [
    {
     "name": "stdout",
     "output_type": "stream",
     "text": [
      "https://data.capitol.texas.gov/dataset/14a5f621-d0ba-475f-b908-137ce264efd2/resource/69857084-8697-4110-9ec1-231f9afd6079/download/plans2161_blk.zip\n"
     ]
    }
   ],
   "source": [
    "import os\n",
    "try:\n",
    "    import mechanicalsoup\n",
    "except:\n",
    "    os.system('pip install --upgrade mechanicalsoup')\n",
    "    import mechanicalsoup\n",
    "\n",
    "browser = mechanicalsoup.Browser()\n",
    "url = \"https://data.capitol.texas.gov/dataset/plans2161#\"\n",
    "login_page = browser.get(url)\n",
    "tag = login_page.soup.select(\"a\")\n",
    "for t in tag:\n",
    "    address = t[\"href\"]\n",
    "    if address[-8:] == \"_blk.zip\":\n",
    "        print(f\"{address}\")\n"
   ]
  },
  {
   "cell_type": "code",
   "execution_count": 1,
   "id": "c071dc95",
   "metadata": {},
   "outputs": [
    {
     "name": "stdout",
     "output_type": "stream",
     "text": [
      "https://data.capitol.texas.gov/dataset/14a5f621-d0ba-475f-b908-137ce264efd2/resource/69857084-8697-4110-9ec1-231f9afd6079/download/plans2161_blk.zip\n"
     ]
    }
   ],
   "source": [
    "import os\n",
    "try:\n",
    "    import mechanicalsoup\n",
    "except:\n",
    "    os.system('pip install --upgrade mechanicalsoup')\n",
    "    import mechanicalsoup\n",
    "\n",
    "browser = mechanicalsoup.Browser()\n",
    "for district_type, abbr in {'cd':'c', 'sldu':'s', 'sldl':'h'}.items():\n",
    "    proposal_path = self.path[src] / district_type\n",
    "    proposal_path.mkdir(parents=True, exist_ok=True)\n",
    "    os.chdir(proposal_path)\n",
    "    not_found = 0\n",
    "    for n in range(1000):\n",
    "        not_found += 1\n",
    "        plan = f'plan{abbr}{2100+n}'.lower()\n",
    "        zp = proposal_path / f'{plan}.zip'\n",
    "        root_url = f'https://data.capitol.texas.gov/dataset/{plan}#'\n",
    "        login_page = browser.get(root_url)\n",
    "        tag = login_page.soup.select('a')\n",
    "        for t in tag:\n",
    "            url = t['href']\n",
    "            if url[-8:] == '_blk.zip':\n",
    "                not_found = 0\n",
    "                if not zp.is_file():\n",
    "                    print(f'downloading {plan} from {url}')\n",
    "                    urllib.request.urlretrieve(url, zp)\n",
    "        if not_found > 5:\n",
    "            break\n",
    "    os.system(\"unzip -u '*.zip' >/dev/null 2>&1\");\n",
    "os.chdir(code_path)\n",
    "print(f'missing proposals: {self.missing_proposals}')\n",
    "\n",
    "                \n",
    "                \n",
    "\n",
    "        \n",
    "#                 plan = f'plan{abbr}{2100+n}'.lower()\n",
    "#                 f = proposal_path / f'{plan.upper()}.csv'\n",
    "#                 url = f'https://data.capitol.texas.gov/dataset/{plan}'\n",
    "\n",
    "# url = \"https://data.capitol.texas.gov/dataset/plans2161#\"\n",
    "# login_page = browser.get(url)\n",
    "# tag = login_page.soup.select(\"a\")\n",
    "# for t in tag:\n",
    "#     address = t[\"href\"]\n",
    "#     if address[-8:] == \"_blk.zip\":\n",
    "#         print(f\"{address}\")\n"
   ]
  },
  {
   "cell_type": "code",
   "execution_count": null,
   "id": "84f83a51",
   "metadata": {},
   "outputs": [],
   "source": [
    "urls = {'cd'  : lambda n: f'https://data.capitol.texas.gov/dataset/e4699f0c-327f-4a27-b43a-5560b8ff8551/resource/cd650b32-99d6-4959-acca-d7c98c9d62af/download/planc{2100+n}_blk.zip',\n",
    "        'sldu': lambda n: f'https://data.capitol.texas.gov/dataset/f8542d9e-1bf2-423e-9c79-244cc659012a/resource/448b35fc-f63e-40e6-add8-0291526a7757/download/plans{2100+n}_blk.zip',\n",
    "        'sldl': lambda n: f'https://data.capitol.texas.gov/dataset/b8bb5e85-bb82-46f8-9ccc-2740ebe49809/resource/defc3444-2d39-46f2-b16e-8a26a87879df/download/planh{2100+n}_blk.zip',\n",
    "       }"
   ]
  }
 ],
 "metadata": {
  "kernelspec": {
   "display_name": "Python 3 (ipykernel)",
   "language": "python",
   "name": "python3"
  },
  "language_info": {
   "codemirror_mode": {
    "name": "ipython",
    "version": 3
   },
   "file_extension": ".py",
   "mimetype": "text/x-python",
   "name": "python",
   "nbconvert_exporter": "python",
   "pygments_lexer": "ipython3",
   "version": "3.7.10"
  }
 },
 "nbformat": 4,
 "nbformat_minor": 5
}
