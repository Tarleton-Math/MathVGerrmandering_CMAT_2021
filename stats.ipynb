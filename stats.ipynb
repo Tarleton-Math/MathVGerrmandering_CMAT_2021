{
 "cells": [
  {
   "cell_type": "code",
   "execution_count": 138,
   "id": "782d6ff5",
   "metadata": {},
   "outputs": [
    {
     "name": "stdout",
     "output_type": "stream",
     "text": [
      "The autoreload extension is already loaded. To reload it, use:\n",
      "  %reload_ext autoreload\n",
      "/home/jupyter/MathVGerrmandering_CMAT_2021\n",
      "Stacking summaries & uniquifying ... \n",
      "\n",
      "cd loose mask stats\n"
     ]
    },
    {
     "data": {
      "text/plain": [
       "count    128703.000000\n",
       "mean         29.889288\n",
       "std           6.179758\n",
       "min          19.000000\n",
       "25%          23.000000\n",
       "50%          32.000000\n",
       "75%          35.000000\n",
       "max          46.000000\n",
       "Name: defect_plan, dtype: float64"
      ]
     },
     "metadata": {},
     "output_type": "display_data"
    },
    {
     "name": "stdout",
     "output_type": "stream",
     "text": [
      "cd tight mask stats\n"
     ]
    },
    {
     "data": {
      "text/plain": [
       "count    23037.000000\n",
       "mean        21.898164\n",
       "std          0.333303\n",
       "min         19.000000\n",
       "25%         22.000000\n",
       "50%         22.000000\n",
       "75%         22.000000\n",
       "max         22.000000\n",
       "Name: defect_plan, dtype: float64"
      ]
     },
     "metadata": {},
     "output_type": "display_data"
    },
    {
     "name": "stdout",
     "output_type": "stream",
     "text": [
      "Stacking summaries & uniquifying ... \n",
      "\n",
      "sldu loose mask stats\n"
     ]
    },
    {
     "data": {
      "text/plain": [
       "count    42289.000000\n",
       "mean        14.741233\n",
       "std          6.148461\n",
       "min          7.000000\n",
       "25%         10.000000\n",
       "50%         12.000000\n",
       "75%         21.000000\n",
       "max         28.000000\n",
       "Name: defect_plan, dtype: float64"
      ]
     },
     "metadata": {},
     "output_type": "display_data"
    },
    {
     "name": "stdout",
     "output_type": "stream",
     "text": [
      "sldu tight mask stats\n"
     ]
    },
    {
     "data": {
      "text/plain": [
       "count    27540.000000\n",
       "mean        10.440668\n",
       "std          1.682527\n",
       "min          7.000000\n",
       "25%          9.000000\n",
       "50%         11.000000\n",
       "75%         12.000000\n",
       "max         13.000000\n",
       "Name: defect_plan, dtype: float64"
      ]
     },
     "metadata": {},
     "output_type": "display_data"
    },
    {
     "name": "stdout",
     "output_type": "stream",
     "text": [
      "Stacking summaries & uniquifying ... \n",
      "\n",
      "sldl loose mask stats\n"
     ]
    },
    {
     "data": {
      "text/plain": [
       "count    406310.000000\n",
       "mean         37.746408\n",
       "std          11.436129\n",
       "min          11.000000\n",
       "25%          33.000000\n",
       "50%          40.000000\n",
       "75%          46.000000\n",
       "max          57.000000\n",
       "Name: defect_plan, dtype: float64"
      ]
     },
     "metadata": {},
     "output_type": "display_data"
    },
    {
     "name": "stdout",
     "output_type": "stream",
     "text": [
      "sldl tight mask stats\n"
     ]
    },
    {
     "data": {
      "text/plain": [
       "count    73298.000000\n",
       "mean        17.001187\n",
       "std          1.799305\n",
       "min         11.000000\n",
       "25%         16.000000\n",
       "50%         17.000000\n",
       "75%         18.000000\n",
       "max         19.000000\n",
       "Name: defect_plan, dtype: float64"
      ]
     },
     "metadata": {},
     "output_type": "display_data"
    }
   ],
   "source": [
    "%load_ext autoreload\n",
    "%autoreload\n",
    "%cd /home/jupyter/MathVGerrmandering_CMAT_2021/\n",
    "from src import *\n",
    "from src.nodes import *\n",
    "from src.mcmc import *\n",
    "\n",
    "def get_stats(district_type):\n",
    "    nodes_tbl = f'{proj_id}.redistricting_data.nodes_TX_2020_cntyvtd_{district_type}_contract10'\n",
    "#     nodes_tbl = f'{proj_id}.redistricting_data.nodes_TX_2020_cntyvtd_{district_type}'\n",
    "    M = MCMC(random_seed=9000000, nodes_tbl=nodes_tbl)\n",
    "    M.post_process1()\n",
    "    M.post_process2()\n",
    "    query = f\"select * from {M.hash_tbl}\"\n",
    "    df = run_query(query)\n",
    "    if district_type == 'cd':\n",
    "        pop_dev = 1\n",
    "        base_defect = 47\n",
    "    elif district_type == 'sldu':\n",
    "        pop_dev = 10\n",
    "        base_defect = 26\n",
    "    elif district_type == 'sldl':\n",
    "        pop_dev = 10\n",
    "        base_defect = 19\n",
    "    loose_mask = (df['pop_deviation_plan'] <= pop_dev) & (df['defect_plan'] <= base_defect*3)\n",
    "    tight_mask = (df['pop_deviation_plan'] <= pop_dev) & (df['defect_plan'] <= base_defect)\n",
    "    print(f'\\n\\n{district_type} loose mask stats')\n",
    "    display(df.loc[loose_mask, 'defect_plan'].describe())\n",
    "    print(f'{district_type} tight mask stats')\n",
    "    display(df.loc[tight_mask, 'defect_plan'].describe())\n",
    "    return df\n",
    "\n",
    "df_cd   = get_stats('cd')\n",
    "df_sldl = get_stats('sldu')\n",
    "df_sldu = get_stats('sldl')"
   ]
  },
  {
   "cell_type": "code",
   "execution_count": 54,
   "id": "8b64a54e",
   "metadata": {},
   "outputs": [
    {
     "name": "stdout",
     "output_type": "stream",
     "text": [
      "The autoreload extension is already loaded. To reload it, use:\n",
      "  %reload_ext autoreload\n",
      "/home/jupyter/MathVGerrmandering_CMAT_2021\n",
      "Get crosswalks_TX_2010_tabblock   ... tabblock table exists ... success\n",
      "Get assignments_TX_2020_tabblock  ... tabblock table exists ... success\n",
      "Get shapes_TX_2020_tabblock       ... tabblock table exists ... success\n",
      "Get census_TX_2020_tabblock       ... tabblock table exists ... success\n",
      "Get elections_TX_2020_tabblock    ... tabblock table exists ... success\n",
      "Get nodes_TX_2020_cntyvtd_sldu_contract10_plans2101 ... dataframe exists ... cntyvtd table exists ... success\n"
     ]
    }
   ],
   "source": [
    "%load_ext autoreload\n",
    "%autoreload\n",
    "%cd /home/jupyter/MathVGerrmandering_CMAT_2021/\n",
    "from src import *\n",
    "from src.nodes import *\n",
    "from src.mcmc import *\n",
    "\n",
    "nodes_opts = {\n",
    "    'district_type'    : 'sldu',\n",
    "    'contract_thresh'  : 10,\n",
    "    'level'            : 'cntyvtd',\n",
    "    'abbr'             : 'TX',\n",
    "    'proposal'         : 'PLANS2101'\n",
    "}\n",
    "\n",
    "N = Nodes(**nodes_opts)\n",
    "M = MCMC(nodes_tbl=N.tbl, random_seed=9000000)\n",
    "M.run_chain()\n",
    "\n",
    "# N.tbl"
   ]
  },
  {
   "cell_type": "code",
   "execution_count": 4,
   "id": "2cf4dbc4",
   "metadata": {},
   "outputs": [
    {
     "name": "stdout",
     "output_type": "stream",
     "text": [
      "The autoreload extension is already loaded. To reload it, use:\n",
      "  %reload_ext autoreload\n",
      "/home/jupyter/MathVGerrmandering_CMAT_2021\n"
     ]
    }
   ],
   "source": [
    "%load_ext autoreload\n",
    "%autoreload\n",
    "%cd /home/jupyter/MathVGerrmandering_CMAT_2021/\n",
    "from src import *\n",
    "\n",
    "tbl = 'cmat-315920.redistricting_data.nodes_TX_2020_tabblock_sldu_contract0_plans2101'\n",
    "query = f\"select distinct sldu, vtd from {tbl}\"\n",
    "df = run_query(query)\n"
   ]
  },
  {
   "cell_type": "code",
   "execution_count": 16,
   "id": "e54bf58c",
   "metadata": {},
   "outputs": [
    {
     "ename": "NameError",
     "evalue": "name 'M' is not defined",
     "output_type": "error",
     "traceback": [
      "\u001b[0;31m---------------------------------------------------------------------------\u001b[0m",
      "\u001b[0;31mNameError\u001b[0m                                 Traceback (most recent call last)",
      "\u001b[0;32m/tmp/ipykernel_29136/545986313.py\u001b[0m in \u001b[0;36m<module>\u001b[0;34m\u001b[0m\n\u001b[0;32m----> 1\u001b[0;31m \u001b[0mM\u001b[0m\u001b[0;34m\u001b[0m\u001b[0;34m\u001b[0m\u001b[0m\n\u001b[0m",
      "\u001b[0;31mNameError\u001b[0m: name 'M' is not defined"
     ]
    }
   ],
   "source": [
    "M"
   ]
  },
  {
   "cell_type": "code",
   "execution_count": 38,
   "id": "f08548af",
   "metadata": {},
   "outputs": [],
   "source": [
    "tbl = 'cmat-315920.redistricting_data.assignments_TX_2020_tabblock'\n",
    "query = f\"select distinct cast(geoid as int) as geoid, sldu, cd, sldl, cntyvtd from {tbl}\"\n",
    "df1 = run_query(query)\n",
    "\n",
    "# file = data_path / f'assignments/TX/sldu/PLANS2101.csv'\n",
    "# df2 = pd.read_csv(file)\n",
    "# df2.columns = ['geoid', 'sldu']"
   ]
  },
  {
   "cell_type": "code",
   "execution_count": 35,
   "id": "0f696f73",
   "metadata": {},
   "outputs": [
    {
     "data": {
      "text/html": [
       "<div>\n",
       "<style scoped>\n",
       "    .dataframe tbody tr th:only-of-type {\n",
       "        vertical-align: middle;\n",
       "    }\n",
       "\n",
       "    .dataframe tbody tr th {\n",
       "        vertical-align: top;\n",
       "    }\n",
       "\n",
       "    .dataframe thead th {\n",
       "        text-align: right;\n",
       "    }\n",
       "</style>\n",
       "<table border=\"1\" class=\"dataframe\">\n",
       "  <thead>\n",
       "    <tr style=\"text-align: right;\">\n",
       "      <th></th>\n",
       "      <th>geoid</th>\n",
       "      <th>cntyvtd</th>\n",
       "    </tr>\n",
       "  </thead>\n",
       "  <tbody>\n",
       "    <tr>\n",
       "      <th>0</th>\n",
       "      <td>484230014041000</td>\n",
       "      <td>423000005</td>\n",
       "    </tr>\n",
       "    <tr>\n",
       "      <th>1</th>\n",
       "      <td>484230014041001</td>\n",
       "      <td>423000005</td>\n",
       "    </tr>\n",
       "    <tr>\n",
       "      <th>2</th>\n",
       "      <td>484230014041002</td>\n",
       "      <td>423000005</td>\n",
       "    </tr>\n",
       "    <tr>\n",
       "      <th>3</th>\n",
       "      <td>484230014041003</td>\n",
       "      <td>423000005</td>\n",
       "    </tr>\n",
       "    <tr>\n",
       "      <th>4</th>\n",
       "      <td>484230014041004</td>\n",
       "      <td>423000019</td>\n",
       "    </tr>\n",
       "    <tr>\n",
       "      <th>...</th>\n",
       "      <td>...</td>\n",
       "      <td>...</td>\n",
       "    </tr>\n",
       "    <tr>\n",
       "      <th>668752</th>\n",
       "      <td>482013240003017</td>\n",
       "      <td>201000347</td>\n",
       "    </tr>\n",
       "    <tr>\n",
       "      <th>668753</th>\n",
       "      <td>482013240003018</td>\n",
       "      <td>201000347</td>\n",
       "    </tr>\n",
       "    <tr>\n",
       "      <th>668754</th>\n",
       "      <td>482013240003019</td>\n",
       "      <td>201000347</td>\n",
       "    </tr>\n",
       "    <tr>\n",
       "      <th>668755</th>\n",
       "      <td>482013240003020</td>\n",
       "      <td>201000347</td>\n",
       "    </tr>\n",
       "    <tr>\n",
       "      <th>668756</th>\n",
       "      <td>482013240003022</td>\n",
       "      <td>201000347</td>\n",
       "    </tr>\n",
       "  </tbody>\n",
       "</table>\n",
       "<p>668757 rows × 2 columns</p>\n",
       "</div>"
      ],
      "text/plain": [
       "                  geoid    cntyvtd\n",
       "0       484230014041000  423000005\n",
       "1       484230014041001  423000005\n",
       "2       484230014041002  423000005\n",
       "3       484230014041003  423000005\n",
       "4       484230014041004  423000019\n",
       "...                 ...        ...\n",
       "668752  482013240003017  201000347\n",
       "668753  482013240003018  201000347\n",
       "668754  482013240003019  201000347\n",
       "668755  482013240003020  201000347\n",
       "668756  482013240003022  201000347\n",
       "\n",
       "[668757 rows x 2 columns]"
      ]
     },
     "execution_count": 35,
     "metadata": {},
     "output_type": "execute_result"
    }
   ],
   "source": [
    "df1"
   ]
  },
  {
   "cell_type": "code",
   "execution_count": 25,
   "id": "093ab67e",
   "metadata": {},
   "outputs": [
    {
     "data": {
      "text/plain": [
       "geoid    int64\n",
       "sldu     int64\n",
       "dtype: object"
      ]
     },
     "execution_count": 25,
     "metadata": {},
     "output_type": "execute_result"
    }
   ],
   "source": [
    "df2.dtypes"
   ]
  },
  {
   "cell_type": "code",
   "execution_count": 33,
   "id": "1a5d4eb5",
   "metadata": {},
   "outputs": [],
   "source": [
    "df = df1.merge(df2, on='geoid')"
   ]
  },
  {
   "cell_type": "code",
   "execution_count": 40,
   "id": "21e87c67",
   "metadata": {},
   "outputs": [
    {
     "data": {
      "text/plain": [
       "cntyvtd\n",
       "029001102    2\n",
       "029002039    2\n",
       "029003086    2\n",
       "029003125    2\n",
       "029003199    2\n",
       "029003206    2\n",
       "029004007    2\n",
       "029004044    2\n",
       "085000013    2\n",
       "091000202    2\n",
       "091000406    2\n",
       "113001071    2\n",
       "113001087    2\n",
       "113002807    2\n",
       "113002810    2\n",
       "113003940    2\n",
       "113004608    2\n",
       "157002138    2\n",
       "157002139    2\n",
       "201000045    2\n",
       "209000227    2\n",
       "209000228    2\n",
       "209000230    2\n",
       "209000232    2\n",
       "209000333    2\n",
       "209000335    2\n",
       "209000339    2\n",
       "209000417    2\n",
       "209000420    2\n",
       "209000449    2\n",
       "439001277    2\n",
       "439001441    2\n",
       "439002461    2\n",
       "439004067    2\n",
       "439004245    2\n",
       "497000008    2\n",
       "Name: cd, dtype: int64"
      ]
     },
     "execution_count": 40,
     "metadata": {},
     "output_type": "execute_result"
    }
   ],
   "source": [
    "w = df1.groupby('cntyvtd')['cd'].nunique()\n",
    "w[w>1]"
   ]
  },
  {
   "cell_type": "markdown",
   "id": "d04bb3e0",
   "metadata": {},
   "source": [
    "Andrea - Call me\n",
    "\n",
    "Andrea, This is a collaboration, but I feel like you have been attempt to issue increasingly direct orders to me.  We can talk out our differences, but the conversation must go both ways.  I have been working on this thing for 3 years.  My students wrote much of GerryChain.  I am an expert here.  We can talk, but I'm not okay with you attempting exert unilateral control.\n",
    "\n",
    "The reason I have poured years of my life into this is that I believe there are features of the current map that were done to gain unfair political advantage.  As a result, I'm not willing to blindly accept the decisions that were made and expressed in the 2010 map.  I work in a county that was split even though it is far below 1 seats share.  Almost everyone agrees this was a gerrymander.  Your proposal perpetuates that.\n",
    "\n",
    "Moreover, I ran the defect analysis you asked for on the prior congressional and senate maps.  Nearly everything in the ensemble shows defect 2-3 times what the currently enacted map has.  I'm not okay with that, especially since we can easily do better."
   ]
  },
  {
   "cell_type": "code",
   "execution_count": 51,
   "id": "f808cf91",
   "metadata": {},
   "outputs": [
    {
     "data": {
      "text/plain": [
       "PosixPath('/home/jupyter/redistricting_data/nodes/TX/nodes_TX_2020_cntyvtd_sldu_contract10_step10')"
      ]
     },
     "execution_count": 51,
     "metadata": {},
     "output_type": "execute_result"
    }
   ],
   "source": [
    "f = N.pq\n",
    "# f.with_suffix('') / 'hi.pq'\n",
    "f.parent / f'{f.stem}_step10'"
   ]
  },
  {
   "cell_type": "code",
   "execution_count": 134,
   "id": "dc8b5adc",
   "metadata": {},
   "outputs": [],
   "source": [
    "district_type = 'sldu'\n",
    "n = 31\n",
    "\n",
    "target_pop = 29145505 / n\n",
    "seats_col = f'seats_{district_type}'\n",
    "results = f'cmat-315920.TX_2020_cntyvtd_{district_type}.TX_2020_cntyvtd_{district_type}_0000000_allresults'\n",
    "nodes = f'cmat-315920.redistricting_data.nodes_TX_2020_cntyvtd_{district_type}_contract2010'\n",
    "defects = f'cmat-315920.redistricting_data.contract_compares_{district_type}'\n",
    "\n",
    "query = f\"\"\"\n",
    "select\n",
    "    seed,\n",
    "    plan,\n",
    "    hash_plan,\n",
    "    max(pop_deviation) as pop_deviation_plan,\n",
    "    sum(whole_defect) as whole_defect_plan,\n",
    "    sum(intersect_defect) as intersect_defect_plan,\n",
    "    sum(defect) as defect_plan\n",
    "from (\n",
    "    select\n",
    "        *,\n",
    "        whole_defect + intersect_defect as defect\n",
    "    from (\n",
    "        select\n",
    "            *,\n",
    "            abs(cast(floor({seats_col}) - wholes as int)) as whole_defect,\n",
    "            abs(cast(intersects - ceiling({seats_col}) as int)) as intersect_defect\n",
    "        from (\n",
    "            select\n",
    "                seed,\n",
    "                plan,\n",
    "                hash_plan,\n",
    "                cnty,\n",
    "                max(pop_deviation) as pop_deviation,\n",
    "                sum({seats_col}) as {seats_col},\n",
    "                sum(whole) as wholes,\n",
    "                count(*) as intersects\n",
    "            from (\n",
    "                select\n",
    "                    *,\n",
    "                    case when count(distinct cnty) over (partition by seed, plan, {district_type}) = 1 then 1 else 0 end as whole\n",
    "                from (\n",
    "                    select\n",
    "                        A.seed,\n",
    "                        A.plan,\n",
    "                        A.hash_plan,\n",
    "                        A.cnty,\n",
    "                        A.{district_type},\n",
    "                        max(A.pop_deviation) as pop_deviation,\n",
    "                        sum(B.{seats_col}) as {seats_col}\n",
    "                    from (\n",
    "                        select\n",
    "                            seed,\n",
    "                            plan,\n",
    "                            hash_plan,\n",
    "                            substring(geoid, 1, 3) as cnty,\n",
    "                            {district_type},\n",
    "                            geoid,\n",
    "                            pop_imbalance_plan as pop_deviation\n",
    "                        from\n",
    "                            {results}_stack\n",
    "                        ) as A\n",
    "                    inner join\n",
    "                        {nodes} as B\n",
    "                    on\n",
    "                        A.geoid = B.geoid\n",
    "                    group by\n",
    "                        seed, plan, hash_plan, cnty, {district_type}\n",
    "                    )\n",
    "                )\n",
    "            group by\n",
    "                seed, plan, hash_plan, cnty\n",
    "            )\n",
    "        )\n",
    "    )\n",
    "group by\n",
    "    seed, plan, hash_plan\n",
    "\"\"\"\n",
    "df = load_table(defects, query=query)"
   ]
  },
  {
   "cell_type": "code",
   "execution_count": 135,
   "id": "f2184299",
   "metadata": {},
   "outputs": [
    {
     "data": {
      "text/plain": [
       "'cmat-315920.TX_2020_cntyvtd_sldu.TX_2020_cntyvtd_sldu_0000000_allresults'"
      ]
     },
     "execution_count": 135,
     "metadata": {},
     "output_type": "execute_result"
    }
   ],
   "source": [
    "query = f\"\"\"\n",
    "select\n",
    "    A.seed as random_seed,\n",
    "    A.plan,\n",
    "    A.{district_type},\n",
    "    A.hash_plan,\n",
    "    B.whole_defect_plan,\n",
    "    B.intersect_defect_plan,\n",
    "    B.defect_plan,\n",
    "    B.pop_deviation_plan,\n",
    "    A.* except (seed, plan, {district_type}, hash_plan, pop_imbalance_plan, nodes_plan, nodes_district)\n",
    "from\n",
    "    {results}_backup as A\n",
    "inner join\n",
    "    {output} as B\n",
    "on\n",
    "    A.seed = B.seed and A.plan = B.plan\n",
    "\"\"\"\n",
    "load_table(tbl=results, query=query)"
   ]
  },
  {
   "cell_type": "code",
   "execution_count": null,
   "id": "3a50e903",
   "metadata": {},
   "outputs": [],
   "source": [
    "\n",
    "pop = 29145505\n",
    "n = 38\n",
    "target_pop = pop / n\n",
    "district_type = 'cd'\n",
    "seats_col = f'seats_{district_type}'\n",
    "results_old = f'cmat-315920.TX_2020_cntyvtd_cd.TX_2020_cntyvtd_{district_type}_0000000_allresults_stack'\n",
    "nodes = f'cmat-315920.redistricting_data.nodes_TX_2020_cntyvtd_{district_type}_contract2010'\n",
    "output = f'cmat-315920.redistricting_data.contract_compares'\n",
    "\n",
    "query = f\"\"\"\n",
    "select\n",
    "    seed,\n",
    "    plan,\n",
    "    max(pop_deviation) as pop_deviation,\n",
    "    sum(wholes_defect) as wholes_defect,\n",
    "    sum(intersects_defect) as intersects_defect,\n",
    "    sum(defect) as defect\n",
    "from (\n",
    "    select\n",
    "        *,\n",
    "        wholes_defect + intersects_defect as defect\n",
    "    from (\n",
    "        select\n",
    "            *,\n",
    "            abs(cast(floor({seats_col}) - wholes as int)) as wholes_defect,\n",
    "            abs(cast(intersects - ceiling({seats_col}) as int)) as intersects_defect\n",
    "        from (\n",
    "            select\n",
    "                seed,\n",
    "                plan,\n",
    "                cnty,\n",
    "                max(pop_deviation) as pop_deviation,\n",
    "                sum({seats_col}) as {seats_col},\n",
    "                sum(whole) as wholes,\n",
    "                count(*) as intersects\n",
    "            from (\n",
    "                select\n",
    "                    *,\n",
    "                    case when count(distinct cnty) over (partition by seed, plan, cd) = 1 then 1 else 0 end as whole\n",
    "                from (\n",
    "                    select\n",
    "                        A.seed,\n",
    "                        A.plan,\n",
    "                        A.cnty,\n",
    "                        A.cd,\n",
    "                        max(A.pop_deviation) as pop_deviation,\n",
    "                        sum(B.{seats_col}) as {seats_col}\n",
    "                    from (\n",
    "                        select\n",
    "                            seed,\n",
    "                            plan,\n",
    "                            substring(geoid, 1, 3) as cnty,\n",
    "                            cd,\n",
    "                            geoid,\n",
    "                            pop_imbalance_plan as pop_deviation\n",
    "                        from\n",
    "                            {results_old}\n",
    "                        --where seed = 1126 and plan = 552\n",
    "                        ) as A\n",
    "                    inner join\n",
    "                        {nodes} as B\n",
    "                    on\n",
    "                        A.geoid = B.geoid\n",
    "                    group by\n",
    "                        seed, plan, cnty, cd\n",
    "                    )\n",
    "                )\n",
    "            group by\n",
    "                seed, plan, cnty\n",
    "            )\n",
    "        )\n",
    "    )\n",
    "group by\n",
    "    seed, plan\n",
    "\"\"\"\n",
    "df = load_table(output, query=query)"
   ]
  },
  {
   "cell_type": "code",
   "execution_count": 111,
   "id": "ec8922a2",
   "metadata": {},
   "outputs": [],
   "source": [
    "query = f\"\"\"\n",
    "select\n",
    "    *\n",
    "from\n",
    "    {output}\n",
    "\"\"\"\n",
    "df = run_query(query)"
   ]
  },
  {
   "cell_type": "code",
   "execution_count": null,
   "id": "e2544dce",
   "metadata": {},
   "outputs": [],
   "source": []
  },
  {
   "cell_type": "code",
   "execution_count": 112,
   "id": "e5a6b7e4",
   "metadata": {},
   "outputs": [
    {
     "data": {
      "text/plain": [
       "count    1.204997e+06\n",
       "mean     5.795338e+01\n",
       "std      4.212773e+00\n",
       "min      3.700000e+01\n",
       "25%      5.500000e+01\n",
       "50%      5.800000e+01\n",
       "75%      6.100000e+01\n",
       "max      7.500000e+01\n",
       "Name: defect, dtype: float64"
      ]
     },
     "execution_count": 112,
     "metadata": {},
     "output_type": "execute_result"
    }
   ],
   "source": [
    "df['defect'].describe()"
   ]
  },
  {
   "cell_type": "code",
   "execution_count": null,
   "id": "6a90df2e",
   "metadata": {},
   "outputs": [],
   "source": [
    "mask = df['']\n",
    "df['']"
   ]
  },
  {
   "cell_type": "code",
   "execution_count": 92,
   "id": "9fcacccc",
   "metadata": {},
   "outputs": [
    {
     "data": {
      "text/html": [
       "<div>\n",
       "<style scoped>\n",
       "    .dataframe tbody tr th:only-of-type {\n",
       "        vertical-align: middle;\n",
       "    }\n",
       "\n",
       "    .dataframe tbody tr th {\n",
       "        vertical-align: top;\n",
       "    }\n",
       "\n",
       "    .dataframe thead th {\n",
       "        text-align: right;\n",
       "    }\n",
       "</style>\n",
       "<table border=\"1\" class=\"dataframe\">\n",
       "  <thead>\n",
       "    <tr style=\"text-align: right;\">\n",
       "      <th></th>\n",
       "      <th>seed</th>\n",
       "      <th>plan</th>\n",
       "      <th>cnty</th>\n",
       "      <th>pop_deviation</th>\n",
       "      <th>seats_cd</th>\n",
       "      <th>whole</th>\n",
       "      <th>intersects</th>\n",
       "    </tr>\n",
       "  </thead>\n",
       "  <tbody>\n",
       "    <tr>\n",
       "      <th>0</th>\n",
       "      <td>1126</td>\n",
       "      <td>552</td>\n",
       "      <td>085</td>\n",
       "      <td>7.060746</td>\n",
       "      <td>1.387853</td>\n",
       "      <td>0</td>\n",
       "      <td>5</td>\n",
       "    </tr>\n",
       "    <tr>\n",
       "      <th>160</th>\n",
       "      <td>1126</td>\n",
       "      <td>552</td>\n",
       "      <td>443</td>\n",
       "      <td>7.060746</td>\n",
       "      <td>0.000991</td>\n",
       "      <td>0</td>\n",
       "      <td>1</td>\n",
       "    </tr>\n",
       "    <tr>\n",
       "      <th>161</th>\n",
       "      <td>1126</td>\n",
       "      <td>552</td>\n",
       "      <td>035</td>\n",
       "      <td>7.060746</td>\n",
       "      <td>0.023775</td>\n",
       "      <td>0</td>\n",
       "      <td>1</td>\n",
       "    </tr>\n",
       "    <tr>\n",
       "      <th>162</th>\n",
       "      <td>1126</td>\n",
       "      <td>552</td>\n",
       "      <td>031</td>\n",
       "      <td>7.060746</td>\n",
       "      <td>0.014829</td>\n",
       "      <td>0</td>\n",
       "      <td>1</td>\n",
       "    </tr>\n",
       "    <tr>\n",
       "      <th>163</th>\n",
       "      <td>1126</td>\n",
       "      <td>552</td>\n",
       "      <td>221</td>\n",
       "      <td>7.060746</td>\n",
       "      <td>0.080312</td>\n",
       "      <td>0</td>\n",
       "      <td>1</td>\n",
       "    </tr>\n",
       "    <tr>\n",
       "      <th>...</th>\n",
       "      <td>...</td>\n",
       "      <td>...</td>\n",
       "      <td>...</td>\n",
       "      <td>...</td>\n",
       "      <td>...</td>\n",
       "      <td>...</td>\n",
       "      <td>...</td>\n",
       "    </tr>\n",
       "    <tr>\n",
       "      <th>125</th>\n",
       "      <td>1126</td>\n",
       "      <td>552</td>\n",
       "      <td>141</td>\n",
       "      <td>7.060746</td>\n",
       "      <td>1.128646</td>\n",
       "      <td>1</td>\n",
       "      <td>2</td>\n",
       "    </tr>\n",
       "    <tr>\n",
       "      <th>15</th>\n",
       "      <td>1126</td>\n",
       "      <td>552</td>\n",
       "      <td>453</td>\n",
       "      <td>7.060746</td>\n",
       "      <td>1.682151</td>\n",
       "      <td>1</td>\n",
       "      <td>5</td>\n",
       "    </tr>\n",
       "    <tr>\n",
       "      <th>187</th>\n",
       "      <td>1126</td>\n",
       "      <td>552</td>\n",
       "      <td>439</td>\n",
       "      <td>7.060746</td>\n",
       "      <td>2.751859</td>\n",
       "      <td>1</td>\n",
       "      <td>5</td>\n",
       "    </tr>\n",
       "    <tr>\n",
       "      <th>41</th>\n",
       "      <td>1126</td>\n",
       "      <td>552</td>\n",
       "      <td>113</td>\n",
       "      <td>7.060746</td>\n",
       "      <td>3.407540</td>\n",
       "      <td>2</td>\n",
       "      <td>7</td>\n",
       "    </tr>\n",
       "    <tr>\n",
       "      <th>44</th>\n",
       "      <td>1126</td>\n",
       "      <td>552</td>\n",
       "      <td>201</td>\n",
       "      <td>7.060746</td>\n",
       "      <td>6.168482</td>\n",
       "      <td>4</td>\n",
       "      <td>11</td>\n",
       "    </tr>\n",
       "  </tbody>\n",
       "</table>\n",
       "<p>254 rows × 7 columns</p>\n",
       "</div>"
      ],
      "text/plain": [
       "     seed  plan cnty  pop_deviation  seats_cd  whole  intersects\n",
       "0    1126   552  085       7.060746  1.387853      0           5\n",
       "160  1126   552  443       7.060746  0.000991      0           1\n",
       "161  1126   552  035       7.060746  0.023775      0           1\n",
       "162  1126   552  031       7.060746  0.014829      0           1\n",
       "163  1126   552  221       7.060746  0.080312      0           1\n",
       "..    ...   ...  ...            ...       ...    ...         ...\n",
       "125  1126   552  141       7.060746  1.128646      1           2\n",
       "15   1126   552  453       7.060746  1.682151      1           5\n",
       "187  1126   552  439       7.060746  2.751859      1           5\n",
       "41   1126   552  113       7.060746  3.407540      2           7\n",
       "44   1126   552  201       7.060746  6.168482      4          11\n",
       "\n",
       "[254 rows x 7 columns]"
      ]
     },
     "execution_count": 92,
     "metadata": {},
     "output_type": "execute_result"
    }
   ],
   "source": [
    "df.sort_values('whole')"
   ]
  },
  {
   "cell_type": "code",
   "execution_count": 86,
   "id": "5db266d8",
   "metadata": {},
   "outputs": [
    {
     "data": {
      "text/plain": [
       "38.00000000000003"
      ]
     },
     "execution_count": 86,
     "metadata": {},
     "output_type": "execute_result"
    }
   ],
   "source": [
    "df[seats_col].sum()"
   ]
  },
  {
   "cell_type": "code",
   "execution_count": 55,
   "id": "68975c67",
   "metadata": {},
   "outputs": [
    {
     "data": {
      "text/html": [
       "<div>\n",
       "<style scoped>\n",
       "    .dataframe tbody tr th:only-of-type {\n",
       "        vertical-align: middle;\n",
       "    }\n",
       "\n",
       "    .dataframe tbody tr th {\n",
       "        vertical-align: top;\n",
       "    }\n",
       "\n",
       "    .dataframe thead th {\n",
       "        text-align: right;\n",
       "    }\n",
       "</style>\n",
       "<table border=\"1\" class=\"dataframe\">\n",
       "  <thead>\n",
       "    <tr style=\"text-align: right;\">\n",
       "      <th></th>\n",
       "      <th>seed</th>\n",
       "      <th>plan</th>\n",
       "      <th>cnty</th>\n",
       "      <th>pop_deviation</th>\n",
       "      <th>whole</th>\n",
       "    </tr>\n",
       "  </thead>\n",
       "  <tbody>\n",
       "    <tr>\n",
       "      <th>0</th>\n",
       "      <td>1126</td>\n",
       "      <td>552</td>\n",
       "      <td>121</td>\n",
       "      <td>7.060746</td>\n",
       "      <td>0</td>\n",
       "    </tr>\n",
       "    <tr>\n",
       "      <th>1</th>\n",
       "      <td>1126</td>\n",
       "      <td>552</td>\n",
       "      <td>183</td>\n",
       "      <td>7.060746</td>\n",
       "      <td>0</td>\n",
       "    </tr>\n",
       "    <tr>\n",
       "      <th>2</th>\n",
       "      <td>1126</td>\n",
       "      <td>552</td>\n",
       "      <td>423</td>\n",
       "      <td>7.060746</td>\n",
       "      <td>0</td>\n",
       "    </tr>\n",
       "    <tr>\n",
       "      <th>3</th>\n",
       "      <td>1126</td>\n",
       "      <td>552</td>\n",
       "      <td>321</td>\n",
       "      <td>7.060746</td>\n",
       "      <td>0</td>\n",
       "    </tr>\n",
       "    <tr>\n",
       "      <th>4</th>\n",
       "      <td>1126</td>\n",
       "      <td>552</td>\n",
       "      <td>157</td>\n",
       "      <td>7.060746</td>\n",
       "      <td>0</td>\n",
       "    </tr>\n",
       "    <tr>\n",
       "      <th>...</th>\n",
       "      <td>...</td>\n",
       "      <td>...</td>\n",
       "      <td>...</td>\n",
       "      <td>...</td>\n",
       "      <td>...</td>\n",
       "    </tr>\n",
       "    <tr>\n",
       "      <th>249</th>\n",
       "      <td>1126</td>\n",
       "      <td>552</td>\n",
       "      <td>103</td>\n",
       "      <td>7.060746</td>\n",
       "      <td>0</td>\n",
       "    </tr>\n",
       "    <tr>\n",
       "      <th>250</th>\n",
       "      <td>1126</td>\n",
       "      <td>552</td>\n",
       "      <td>019</td>\n",
       "      <td>7.060746</td>\n",
       "      <td>0</td>\n",
       "    </tr>\n",
       "    <tr>\n",
       "      <th>251</th>\n",
       "      <td>1126</td>\n",
       "      <td>552</td>\n",
       "      <td>457</td>\n",
       "      <td>7.060746</td>\n",
       "      <td>0</td>\n",
       "    </tr>\n",
       "    <tr>\n",
       "      <th>252</th>\n",
       "      <td>1126</td>\n",
       "      <td>552</td>\n",
       "      <td>277</td>\n",
       "      <td>7.060746</td>\n",
       "      <td>0</td>\n",
       "    </tr>\n",
       "    <tr>\n",
       "      <th>253</th>\n",
       "      <td>1126</td>\n",
       "      <td>552</td>\n",
       "      <td>213</td>\n",
       "      <td>7.060746</td>\n",
       "      <td>0</td>\n",
       "    </tr>\n",
       "  </tbody>\n",
       "</table>\n",
       "<p>254 rows × 5 columns</p>\n",
       "</div>"
      ],
      "text/plain": [
       "     seed  plan cnty  pop_deviation  whole\n",
       "0    1126   552  121       7.060746      0\n",
       "1    1126   552  183       7.060746      0\n",
       "2    1126   552  423       7.060746      0\n",
       "3    1126   552  321       7.060746      0\n",
       "4    1126   552  157       7.060746      0\n",
       "..    ...   ...  ...            ...    ...\n",
       "249  1126   552  103       7.060746      0\n",
       "250  1126   552  019       7.060746      0\n",
       "251  1126   552  457       7.060746      0\n",
       "252  1126   552  277       7.060746      0\n",
       "253  1126   552  213       7.060746      0\n",
       "\n",
       "[254 rows x 5 columns]"
      ]
     },
     "execution_count": 55,
     "metadata": {},
     "output_type": "execute_result"
    }
   ],
   "source": [
    "pop = 29145505\n",
    "n = 38\n",
    "target_pop = pop / n\n",
    "results_old = 'cmat-315920.TX_2020_cntyvtd_cd.TX_2020_cntyvtd_cd_0000000_allresults_stack'\n",
    "assignments = 'cmat-315920.redistricting_data.assignments_TX_2020_tabblock'\n",
    "\n",
    "query = f\"\"\"\n",
    "select\n",
    "    seed,\n",
    "    plan,\n",
    "    cnty,\n",
    "    max(pop_deviation) as pop_deviation,\n",
    "    sum(whole) as whole\n",
    "from (    \n",
    "    select\n",
    "        *,\n",
    "        case when count(distinct cnty) over (partition by seed, plan, cd) = 1 then 1 else 0 end as whole\n",
    "    from (\n",
    "        select\n",
    "            seed,\n",
    "            plan,\n",
    "            cnty,\n",
    "            cd,\n",
    "            max(pop_deviation) as pop_deviation\n",
    "        from (\n",
    "            select\n",
    "                seed,\n",
    "                plan,\n",
    "                substring(geoid, 1, 3) as cnty,\n",
    "                cd,\n",
    "                geoid,\n",
    "                pop_imbalance_plan as pop_deviation\n",
    "            from\n",
    "                {results_old}\n",
    "            where\n",
    "                seed = 1126 and plan = 552\n",
    "            )\n",
    "        group by\n",
    "            seed, plan, cnty, cd\n",
    "        )\n",
    "    )\n",
    "group by\n",
    "    seed, plan, cnty\n",
    "\"\"\"\n",
    "\n",
    "df = run_query(query)\n",
    "#     count(*) over (partition byhash_plan,\n",
    "df"
   ]
  },
  {
   "cell_type": "code",
   "execution_count": 26,
   "id": "996b22ad",
   "metadata": {},
   "outputs": [],
   "source": [
    "f = f'nodes_TX_2020_tabblock_sldu_contract0'\n",
    "nodes_tbl = f'{proj_id}.redistricting_data.{f}'\n",
    "pq = root_path / f'redistricting_data/nodes/TX/{f}.parquet'\n",
    "pq.parent.mkdir(parents=True, exist_ok=True)\n",
    "q = f\"select * from {nodes_tbl}\"\n",
    "df = run_query(q)\n",
    "df.to_parquet(pq)\n",
    "to_gcs(pq)"
   ]
  },
  {
   "cell_type": "code",
   "execution_count": 27,
   "id": "219c96de",
   "metadata": {},
   "outputs": [],
   "source": [
    "f = f'nodes_TX_2020_tabblock_sldl_contract0'\n",
    "nodes_tbl = f'{proj_id}.redistricting_data.{f}'\n",
    "pq = root_path / f'redistricting_data/nodes/TX/{f}.parquet'\n",
    "pq.parent.mkdir(parents=True, exist_ok=True)\n",
    "q = f\"select * from {nodes_tbl}\"\n",
    "df = run_query(q)\n",
    "df.to_parquet(pq)\n",
    "to_gcs(pq)"
   ]
  }
 ],
 "metadata": {
  "kernelspec": {
   "display_name": "Python 3 (ipykernel)",
   "language": "python",
   "name": "python3"
  },
  "language_info": {
   "codemirror_mode": {
    "name": "ipython",
    "version": 3
   },
   "file_extension": ".py",
   "mimetype": "text/x-python",
   "name": "python",
   "nbconvert_exporter": "python",
   "pygments_lexer": "ipython3",
   "version": "3.7.10"
  }
 },
 "nbformat": 4,
 "nbformat_minor": 5
}
