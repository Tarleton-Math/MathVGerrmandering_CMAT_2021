{
 "cells": [
  {
   "cell_type": "code",
   "execution_count": 51,
   "id": "09d4717a",
   "metadata": {},
   "outputs": [
    {
     "name": "stdout",
     "output_type": "stream",
     "text": [
      "The autoreload extension is already loaded. To reload it, use:\n",
      "  %reload_ext autoreload\n",
      "/home/jupyter/MathVGerrmandering_CMAT_2021\n",
      "Get crosswalks_TX_2010_tabblock   ... tabblock table exists ... success\n",
      "Get assignments_TX_2020_tabblock  ... tabblock table exists ... success\n",
      "Get shapes_TX_2020_tabblock       ... tabblock table exists ... success\n",
      "Get census_TX_2020_tabblock       ... tabblock table exists ... success\n",
      "Get elections_TX_2020_tabblock    ... tabblock table exists ... success\n",
      "Get nodes_TX_2020_cntyvtd_cd_contract10 ... cntyvtd table exists ... success\n",
      "Stacking summaries & uniquifying ... loose mask stats\n"
     ]
    },
    {
     "data": {
      "text/plain": [
       "count    59079.000000\n",
       "mean        31.441646\n",
       "std          5.757364\n",
       "min         19.000000\n",
       "25%         24.000000\n",
       "50%         33.000000\n",
       "75%         36.000000\n",
       "max         46.000000\n",
       "Name: defect_plan, dtype: float64"
      ]
     },
     "metadata": {},
     "output_type": "display_data"
    },
    {
     "name": "stdout",
     "output_type": "stream",
     "text": [
      "tight mask stats\n"
     ]
    },
    {
     "data": {
      "text/plain": [
       "count    7327.000000\n",
       "mean       21.876348\n",
       "std         0.382166\n",
       "min        19.000000\n",
       "25%        22.000000\n",
       "50%        22.000000\n",
       "75%        22.000000\n",
       "max        22.000000\n",
       "Name: defect_plan, dtype: float64"
      ]
     },
     "metadata": {},
     "output_type": "display_data"
    },
    {
     "name": "stdout",
     "output_type": "stream",
     "text": [
      "Get crosswalks_TX_2010_tabblock   ... tabblock table exists ... success\n",
      "Get assignments_TX_2020_tabblock  ... tabblock table exists ... success\n",
      "Get shapes_TX_2020_tabblock       ... tabblock table exists ... success\n",
      "Get census_TX_2020_tabblock       ... tabblock table exists ... success\n",
      "Get elections_TX_2020_tabblock    ... tabblock table exists ... success\n",
      "Get nodes_TX_2020_cntyvtd_sldl_contract10 ... cntyvtd table exists ... success\n",
      "Stacking summaries & uniquifying ... loose mask stats\n"
     ]
    },
    {
     "data": {
      "text/plain": [
       "count    614084.000000\n",
       "mean         45.098469\n",
       "std          12.075513\n",
       "min          16.000000\n",
       "25%          38.000000\n",
       "50%          47.000000\n",
       "75%          57.000000\n",
       "max          57.000000\n",
       "Name: defect_plan, dtype: float64"
      ]
     },
     "metadata": {},
     "output_type": "display_data"
    },
    {
     "name": "stdout",
     "output_type": "stream",
     "text": [
      "tight mask stats\n"
     ]
    },
    {
     "data": {
      "text/plain": [
       "count    62309.000000\n",
       "mean        18.950970\n",
       "std          0.273337\n",
       "min         16.000000\n",
       "25%         19.000000\n",
       "50%         19.000000\n",
       "75%         19.000000\n",
       "max         19.000000\n",
       "Name: defect_plan, dtype: float64"
      ]
     },
     "metadata": {},
     "output_type": "display_data"
    },
    {
     "name": "stdout",
     "output_type": "stream",
     "text": [
      "Get crosswalks_TX_2010_tabblock   ... tabblock table exists ... success\n",
      "Get assignments_TX_2020_tabblock  ... tabblock table exists ... success\n",
      "Get shapes_TX_2020_tabblock       ... tabblock table exists ... success\n",
      "Get census_TX_2020_tabblock       ... tabblock table exists ... success\n",
      "Get elections_TX_2020_tabblock    ... tabblock table exists ... success\n",
      "Get nodes_TX_2020_cntyvtd_sldu_contract10 ... cntyvtd table exists ... success\n",
      "Stacking summaries & uniquifying ... loose mask stats\n"
     ]
    },
    {
     "data": {
      "text/plain": [
       "count    7771.00000\n",
       "mean       11.62077\n",
       "std         1.12314\n",
       "min         8.00000\n",
       "25%        11.00000\n",
       "50%        12.00000\n",
       "75%        12.00000\n",
       "max        13.00000\n",
       "Name: defect_plan, dtype: float64"
      ]
     },
     "metadata": {},
     "output_type": "display_data"
    },
    {
     "name": "stdout",
     "output_type": "stream",
     "text": [
      "tight mask stats\n"
     ]
    },
    {
     "data": {
      "text/plain": [
       "count    7771.00000\n",
       "mean       11.62077\n",
       "std         1.12314\n",
       "min         8.00000\n",
       "25%        11.00000\n",
       "50%        12.00000\n",
       "75%        12.00000\n",
       "max        13.00000\n",
       "Name: defect_plan, dtype: float64"
      ]
     },
     "metadata": {},
     "output_type": "display_data"
    }
   ],
   "source": [
    "%load_ext autoreload\n",
    "%autoreload\n",
    "%cd /home/jupyter/MathVGerrmandering_CMAT_2021/\n",
    "from src import *\n",
    "from src.nodes import *\n",
    "from src.mcmc import *\n",
    "\n",
    "def get_stats(district_type):\n",
    "    nodes_opts = {\n",
    "        'abbr'             : 'TX',\n",
    "        'level'            : 'cntyvtd',\n",
    "        'district_type'    : district_type,\n",
    "        'contract_thresh'  : 10,\n",
    "    }\n",
    "    N = Nodes(**nodes_opts)\n",
    "    M = MCMC(random_seed=9000000, nodes_tbl=N.tbl)\n",
    "    M.post_process1()\n",
    "    M.post_process2()\n",
    "    query = f\"select * from {M.hash_tbl}\"\n",
    "    df = run_query(query)\n",
    "    if district_type == 'cd':\n",
    "        pop_dev = 1\n",
    "        base_defect = 22\n",
    "    elif district_type == 'sldu':\n",
    "        pop_dev = 13\n",
    "        base_defect = 13\n",
    "    elif district_type == 'sldl':\n",
    "        pop_dev = 19\n",
    "        base_defect = 19\n",
    "    loose_mask =  df['pop_deviation_plan'] <= pop_dev\n",
    "    tight_mask = (df['pop_deviation_plan'] <= pop_dev) & (df['defect_plan'] <= base_defect)\n",
    "    print('{district_type} loose mask stats')\n",
    "    display(df.loc[loose_mask, 'defect_plan'].describe())\n",
    "    print('{district_type} tight mask stats')\n",
    "    display(df.loc[tight_mask, 'defect_plan'].describe())\n",
    "    return df\n",
    "\n",
    "df_cd   = get_stats('cd')\n",
    "df_sldl = get_stats('sldl')\n",
    "df_sldu = get_stats('sldu')"
   ]
  },
  {
   "cell_type": "code",
   "execution_count": 26,
   "id": "89714151",
   "metadata": {},
   "outputs": [],
   "source": [
    "f = f'nodes_TX_2020_tabblock_sldu_contract0'\n",
    "nodes_tbl = f'{proj_id}.redistricting_data.{f}'\n",
    "pq = root_path / f'redistricting_data/nodes/TX/{f}.parquet'\n",
    "pq.parent.mkdir(parents=True, exist_ok=True)\n",
    "q = f\"select * from {nodes_tbl}\"\n",
    "df = run_query(q)\n",
    "df.to_parquet(pq)\n",
    "to_gcs(pq)"
   ]
  },
  {
   "cell_type": "code",
   "execution_count": 27,
   "id": "242c4db4",
   "metadata": {},
   "outputs": [],
   "source": [
    "f = f'nodes_TX_2020_tabblock_sldl_contract0'\n",
    "nodes_tbl = f'{proj_id}.redistricting_data.{f}'\n",
    "pq = root_path / f'redistricting_data/nodes/TX/{f}.parquet'\n",
    "pq.parent.mkdir(parents=True, exist_ok=True)\n",
    "q = f\"select * from {nodes_tbl}\"\n",
    "df = run_query(q)\n",
    "df.to_parquet(pq)\n",
    "to_gcs(pq)"
   ]
  },
  {
   "cell_type": "markdown",
   "id": "2dfd207d",
   "metadata": {},
   "source": [
    "Andrea,\n",
    "\n",
    "Can we revisit the question of defect-awareness for TXSN & USCD?\n",
    "\n",
    "Defect \"blows up\" if not constrained.  I didn't have the ability to see this until today.  By the time it reaches the pop_deviation target, it has split a lot of counties.  Though these are \"legal\" maps, I don't think these are politically \"viable\" maps.\n",
    "\n",
    "Given what we've heard today, they'd simply face too much pushback from all unnecessary county splitting.  I think we unnecessarily risk getting ignored if we propose maps would never stand a chance to be enacted.\n",
    "\n",
    "But, I put enough flexibility in the newest code that we easily can do both.  If you have the headspace to talk about it, I'm available via phone or skype."
   ]
  },
  {
   "cell_type": "code",
   "execution_count": 17,
   "id": "82c9c2ac",
   "metadata": {},
   "outputs": [
    {
     "data": {
      "text/plain": [
       "array([13])"
      ]
     },
     "execution_count": 17,
     "metadata": {},
     "output_type": "execute_result"
    }
   ],
   "source": [
    "df['geoid'].str.len().unique()"
   ]
  },
  {
   "cell_type": "code",
   "execution_count": null,
   "id": "97c30143",
   "metadata": {},
   "outputs": [],
   "source": [
    "4019510002013\n",
    "484019508003013"
   ]
  }
 ],
 "metadata": {
  "kernelspec": {
   "display_name": "Python 3 (ipykernel)",
   "language": "python",
   "name": "python3"
  },
  "language_info": {
   "codemirror_mode": {
    "name": "ipython",
    "version": 3
   },
   "file_extension": ".py",
   "mimetype": "text/x-python",
   "name": "python",
   "nbconvert_exporter": "python",
   "pygments_lexer": "ipython3",
   "version": "3.7.10"
  }
 },
 "nbformat": 4,
 "nbformat_minor": 5
}
