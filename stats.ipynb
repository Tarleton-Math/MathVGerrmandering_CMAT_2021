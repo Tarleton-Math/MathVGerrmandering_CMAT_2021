{
 "cells": [
  {
   "cell_type": "code",
   "execution_count": 4,
   "id": "a689ed72",
   "metadata": {},
   "outputs": [
    {
     "name": "stdout",
     "output_type": "stream",
     "text": [
      "The autoreload extension is already loaded. To reload it, use:\n",
      "  %reload_ext autoreload\n",
      "/home/jupyter/MathVGerrmandering_CMAT_2021\n"
     ]
    }
   ],
   "source": [
    "%load_ext autoreload\n",
    "%autoreload\n",
    "%cd /home/jupyter/MathVGerrmandering_CMAT_2021/\n",
    "from src import *\n",
    "\n",
    "# old\n",
    "# stem = 'TX_2020_cntyvtd_cd'\n",
    "# tbl_old = f'{proj_id}.{stem}.{stem}_0000000_allresults'\n",
    "# q = f\"select distinct seed, plan, cd, hash_plan, pop_imbalance_plan as pop_deviation_plan from {tbl_old}\"\n",
    "# df_old = run_query(q)\n",
    "\n",
    "# new\n",
    "stem = 'TX_2020_cntyvtd_sldl_contract10'\n",
    "tbl_new = f'{proj_id}.{stem}.{stem}_0000000_allresults_hash'\n",
    "q = f\"select * from {tbl_new}\"\n",
    "df_new = read_table(tbl_new)"
   ]
  },
  {
   "cell_type": "code",
   "execution_count": 10,
   "id": "34b3d176",
   "metadata": {},
   "outputs": [
    {
     "data": {
      "text/plain": [
       "count    255529.000000\n",
       "mean         43.494899\n",
       "std           6.478659\n",
       "min          27.000000\n",
       "25%          39.000000\n",
       "50%          43.000000\n",
       "75%          48.000000\n",
       "max          57.000000\n",
       "Name: defect_plan, dtype: float64"
      ]
     },
     "execution_count": 10,
     "metadata": {},
     "output_type": "execute_result"
    }
   ],
   "source": [
    "mask = df_new['pop_deviation_plan'] < 10\n",
    "df_new.loc[mask, 'defect_plan'].describe()"
   ]
  },
  {
   "cell_type": "code",
   "execution_count": 8,
   "id": "0ae8cca8",
   "metadata": {},
   "outputs": [
    {
     "data": {
      "text/plain": [
       "-8135813571892140471    1\n",
       " 1347232597954833159    1\n",
       " 4947368670866574825    1\n",
       " 4452714395918332781    1\n",
       " 6515788517815267713    1\n",
       "                       ..\n",
       "-8498101941747374243    1\n",
       "-5599682571713639451    1\n",
       " 2588356124817071831    1\n",
       "-217448926021369069     1\n",
       "-6449035739868377725    1\n",
       "Name: hash_plan, Length: 602468, dtype: int64"
      ]
     },
     "execution_count": 8,
     "metadata": {},
     "output_type": "execute_result"
    }
   ],
   "source": [
    "df_new['hash_plan'].value_counts().sort_values()"
   ]
  },
  {
   "cell_type": "code",
   "execution_count": 5,
   "id": "a6108162",
   "metadata": {},
   "outputs": [
    {
     "name": "stdout",
     "output_type": "stream",
     "text": [
      "11362\n"
     ]
    }
   ],
   "source": [
    "mask = df_new['pop_deviation_plan'] < 100\n",
    "print(mask.sum())\n"
   ]
  },
  {
   "cell_type": "code",
   "execution_count": 2,
   "id": "7109d6ae",
   "metadata": {},
   "outputs": [
    {
     "data": {
      "text/plain": [
       "count    6913.000000\n",
       "mean       16.665609\n",
       "std        21.994757\n",
       "min         0.326212\n",
       "25%         5.584971\n",
       "50%         9.851276\n",
       "75%        19.563957\n",
       "max       198.357736\n",
       "Name: pop_deviation_plan, dtype: float64"
      ]
     },
     "execution_count": 2,
     "metadata": {},
     "output_type": "execute_result"
    }
   ],
   "source": [
    "df_new['pop_deviation_plan'].describe()"
   ]
  }
 ],
 "metadata": {
  "kernelspec": {
   "display_name": "Python 3 (ipykernel)",
   "language": "python",
   "name": "python3"
  },
  "language_info": {
   "codemirror_mode": {
    "name": "ipython",
    "version": 3
   },
   "file_extension": ".py",
   "mimetype": "text/x-python",
   "name": "python",
   "nbconvert_exporter": "python",
   "pygments_lexer": "ipython3",
   "version": "3.7.10"
  }
 },
 "nbformat": 4,
 "nbformat_minor": 5
}
