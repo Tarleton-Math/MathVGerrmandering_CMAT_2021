{
 "cells": [
  {
   "cell_type": "code",
   "execution_count": null,
   "id": "55be1648",
   "metadata": {},
   "outputs": [],
   "source": [
    "%load_ext autoreload\n",
    "%autoreload\n",
    "%cd /home/jupyter/MathVGerrmandering_CMAT_2021/\n",
    "from src import *\n",
    "\n",
    "# old\n",
    "stem = 'TX_2020_cntyvtd_cd'\n",
    "tbl_old = f'{proj_id}.{stem}.{stem}_0000000_allresults'\n",
    "q = f\"select distinct seed, plan, cd, hash_plan, pop_imbalance_plan as pop_deviation_plan from {tbl_old}\"\n",
    "df_old = run_query(q)\n",
    "\n",
    "# new\n",
    "stem = 'TX_2020_cntyvtd_cd_contract10'\n",
    "tbl_new = f'{proj_id}.{stem}.{stem}_0000000_allresults_hash'\n",
    "q = f\"select * from {tbl_new}\"\n",
    "df_new = read_table(tbl_new)\n",
    "\n",
    "import seaborn as sns\n",
    "mask = df_old['pop_deviation_plan'] < 1\n",
    "print(mask.sum())\n",
    "\n",
    "mask = df_new['pop_deviation_plan'] < 1\n",
    "print(mask.sum())\n",
    "\n",
    "# sns.distplot(df_new.loc[mask, 'defect'])\n",
    "df_new.loc[mask, 'defect_plan'].value_counts().sort_index()"
   ]
  }
 ],
 "metadata": {
  "kernelspec": {
   "display_name": "Python 3 (ipykernel)",
   "language": "python",
   "name": "python3"
  },
  "language_info": {
   "codemirror_mode": {
    "name": "ipython",
    "version": 3
   },
   "file_extension": ".py",
   "mimetype": "text/x-python",
   "name": "python",
   "nbconvert_exporter": "python",
   "pygments_lexer": "ipython3",
   "version": "3.7.10"
  }
 },
 "nbformat": 4,
 "nbformat_minor": 5
}
