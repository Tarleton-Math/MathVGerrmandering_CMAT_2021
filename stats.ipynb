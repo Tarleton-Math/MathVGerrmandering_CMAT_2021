{
 "cells": [
  {
   "cell_type": "code",
   "execution_count": 24,
   "id": "8dfc05e8",
   "metadata": {},
   "outputs": [
    {
     "name": "stdout",
     "output_type": "stream",
     "text": [
      "The autoreload extension is already loaded. To reload it, use:\n",
      "  %reload_ext autoreload\n",
      "/home/jupyter/MathVGerrmandering_CMAT_2021\n",
      "Stacking summaries & uniquifying ... \n",
      "\n",
      "cd loose mask stats\n"
     ]
    },
    {
     "data": {
      "text/plain": [
       "count    79629.000000\n",
       "mean        30.773035\n",
       "std          5.985842\n",
       "min         19.000000\n",
       "25%         23.000000\n",
       "50%         33.000000\n",
       "75%         35.000000\n",
       "max         46.000000\n",
       "Name: defect_plan, dtype: float64"
      ]
     },
     "metadata": {},
     "output_type": "display_data"
    },
    {
     "name": "stdout",
     "output_type": "stream",
     "text": [
      "cd tight mask stats\n"
     ]
    },
    {
     "data": {
      "text/plain": [
       "count    11918.000000\n",
       "mean        21.885300\n",
       "std          0.359272\n",
       "min         19.000000\n",
       "25%         22.000000\n",
       "50%         22.000000\n",
       "75%         22.000000\n",
       "max         22.000000\n",
       "Name: defect_plan, dtype: float64"
      ]
     },
     "metadata": {},
     "output_type": "display_data"
    },
    {
     "name": "stdout",
     "output_type": "stream",
     "text": [
      "Stacking summaries & uniquifying ... \n",
      "\n",
      "sldu loose mask stats\n"
     ]
    },
    {
     "data": {
      "text/plain": [
       "count    24724.000000\n",
       "mean        10.702637\n",
       "std          1.513223\n",
       "min          7.000000\n",
       "25%          9.000000\n",
       "50%         11.000000\n",
       "75%         12.000000\n",
       "max         13.000000\n",
       "Name: defect_plan, dtype: float64"
      ]
     },
     "metadata": {},
     "output_type": "display_data"
    },
    {
     "name": "stdout",
     "output_type": "stream",
     "text": [
      "sldu tight mask stats\n"
     ]
    },
    {
     "data": {
      "text/plain": [
       "count    24724.000000\n",
       "mean        10.702637\n",
       "std          1.513223\n",
       "min          7.000000\n",
       "25%          9.000000\n",
       "50%         11.000000\n",
       "75%         12.000000\n",
       "max         13.000000\n",
       "Name: defect_plan, dtype: float64"
      ]
     },
     "metadata": {},
     "output_type": "display_data"
    },
    {
     "name": "stdout",
     "output_type": "stream",
     "text": [
      "Stacking summaries & uniquifying ... \n",
      "\n",
      "sldl loose mask stats\n"
     ]
    },
    {
     "data": {
      "text/plain": [
       "count    339176.000000\n",
       "mean         41.868543\n",
       "std           7.292072\n",
       "min          14.000000\n",
       "25%          37.000000\n",
       "50%          42.000000\n",
       "75%          47.000000\n",
       "max          57.000000\n",
       "Name: defect_plan, dtype: float64"
      ]
     },
     "metadata": {},
     "output_type": "display_data"
    },
    {
     "name": "stdout",
     "output_type": "stream",
     "text": [
      "sldl tight mask stats\n"
     ]
    },
    {
     "data": {
      "text/plain": [
       "count    6164.000000\n",
       "mean       17.880435\n",
       "std         1.208902\n",
       "min        14.000000\n",
       "25%        17.000000\n",
       "50%        18.000000\n",
       "75%        19.000000\n",
       "max        19.000000\n",
       "Name: defect_plan, dtype: float64"
      ]
     },
     "metadata": {},
     "output_type": "display_data"
    }
   ],
   "source": [
    "%load_ext autoreload\n",
    "%autoreload\n",
    "%cd /home/jupyter/MathVGerrmandering_CMAT_2021/\n",
    "from src import *\n",
    "from src.nodes import *\n",
    "from src.mcmc import *\n",
    "\n",
    "def get_stats(district_type):\n",
    "    nodes_tbl = f'{proj_id}.redistricting_data.nodes_TX_2020_cntyvtd_{district_type}_contract10'\n",
    "#     nodes_tbl = f'{proj_id}.redistricting_data.nodes_TX_2020_cntyvtd_{district_type}'\n",
    "    M = MCMC(random_seed=9000000, nodes_tbl=nodes_tbl)\n",
    "    M.post_process1()\n",
    "    M.post_process2()\n",
    "    query = f\"select * from {M.hash_tbl}\"\n",
    "    df = run_query(query)\n",
    "    if district_type == 'cd':\n",
    "        pop_dev = 1\n",
    "        base_defect = 22\n",
    "    elif district_type == 'sldu':\n",
    "        pop_dev = 10\n",
    "        base_defect = 13\n",
    "    elif district_type == 'sldl':\n",
    "        pop_dev = 10\n",
    "        base_defect = 19\n",
    "    loose_mask = (df['pop_deviation_plan'] <= pop_dev) & (df['defect_plan'] <= base_defect*3)\n",
    "    tight_mask = (df['pop_deviation_plan'] <= pop_dev) & (df['defect_plan'] <= base_defect)\n",
    "    print(f'\\n\\n{district_type} loose mask stats')\n",
    "    display(df.loc[loose_mask, 'defect_plan'].describe())\n",
    "    print(f'{district_type} tight mask stats')\n",
    "    display(df.loc[tight_mask, 'defect_plan'].describe())\n",
    "    return df\n",
    "\n",
    "df_cd   = get_stats('cd')\n",
    "df_sldl = get_stats('sldu')\n",
    "df_sldu = get_stats('sldl')"
   ]
  },
  {
   "cell_type": "code",
   "execution_count": 26,
   "id": "f30fdf36",
   "metadata": {},
   "outputs": [],
   "source": [
    "f = f'nodes_TX_2020_tabblock_sldu_contract0'\n",
    "nodes_tbl = f'{proj_id}.redistricting_data.{f}'\n",
    "pq = root_path / f'redistricting_data/nodes/TX/{f}.parquet'\n",
    "pq.parent.mkdir(parents=True, exist_ok=True)\n",
    "q = f\"select * from {nodes_tbl}\"\n",
    "df = run_query(q)\n",
    "df.to_parquet(pq)\n",
    "to_gcs(pq)"
   ]
  },
  {
   "cell_type": "code",
   "execution_count": 27,
   "id": "f377dabe",
   "metadata": {},
   "outputs": [],
   "source": [
    "f = f'nodes_TX_2020_tabblock_sldl_contract0'\n",
    "nodes_tbl = f'{proj_id}.redistricting_data.{f}'\n",
    "pq = root_path / f'redistricting_data/nodes/TX/{f}.parquet'\n",
    "pq.parent.mkdir(parents=True, exist_ok=True)\n",
    "q = f\"select * from {nodes_tbl}\"\n",
    "df = run_query(q)\n",
    "df.to_parquet(pq)\n",
    "to_gcs(pq)"
   ]
  }
 ],
 "metadata": {
  "kernelspec": {
   "display_name": "Python 3 (ipykernel)",
   "language": "python",
   "name": "python3"
  },
  "language_info": {
   "codemirror_mode": {
    "name": "ipython",
    "version": 3
   },
   "file_extension": ".py",
   "mimetype": "text/x-python",
   "name": "python",
   "nbconvert_exporter": "python",
   "pygments_lexer": "ipython3",
   "version": "3.7.10"
  }
 },
 "nbformat": 4,
 "nbformat_minor": 5
}
