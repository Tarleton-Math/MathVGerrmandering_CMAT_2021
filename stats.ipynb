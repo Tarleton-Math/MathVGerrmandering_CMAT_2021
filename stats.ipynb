{
 "cells": [
  {
   "cell_type": "code",
   "execution_count": 1,
   "id": "9c87d992",
   "metadata": {},
   "outputs": [
    {
     "name": "stdout",
     "output_type": "stream",
     "text": [
      "/home/jupyter/MathVGerrmandering_CMAT_2021\n",
      "getting states\n",
      "12891196\n",
      "375\n"
     ]
    },
    {
     "data": {
      "text/plain": [
       "27      9\n",
       "28      8\n",
       "29     23\n",
       "30     50\n",
       "31    124\n",
       "32     40\n",
       "33     64\n",
       "34     16\n",
       "35     30\n",
       "37     11\n",
       "Name: defect_plan, dtype: int64"
      ]
     },
     "execution_count": 1,
     "metadata": {},
     "output_type": "execute_result"
    }
   ],
   "source": [
    "%load_ext autoreload\n",
    "%autoreload\n",
    "%cd /home/jupyter/MathVGerrmandering_CMAT_2021/\n",
    "from src import *\n",
    "\n",
    "# old\n",
    "stem = 'TX_2020_cntyvtd_cd'\n",
    "tbl_old = f'{proj_id}.{stem}.{stem}_0000000_allresults'\n",
    "q = f\"select distinct seed, plan, cd, hash_plan, pop_imbalance_plan as pop_deviation_plan from {tbl_old}\"\n",
    "df_old = run_query(q)\n",
    "\n",
    "# new\n",
    "stem = 'TX_2020_cntyvtd_cd_contract10'\n",
    "tbl_new = f'{proj_id}.{stem}.{stem}_0000000_allresults_hash'\n",
    "q = f\"select * from {tbl_new}\"\n",
    "df_new = read_table(tbl_new)\n",
    "\n",
    "import seaborn as sns\n",
    "mask = df_old['pop_deviation_plan'] < 1\n",
    "print(mask.sum())\n",
    "\n",
    "mask = df_new['pop_deviation_plan'] < 1\n",
    "print(mask.sum())\n",
    "\n",
    "# sns.distplot(df_new.loc[mask, 'defect'])\n",
    "df_new.loc[mask, 'defect_plan'].value_counts().sort_index()"
   ]
  },
  {
   "cell_type": "code",
   "execution_count": 2,
   "id": "3ad78e3b",
   "metadata": {},
   "outputs": [
    {
     "data": {
      "text/plain": [
       "count    6913.000000\n",
       "mean       16.665609\n",
       "std        21.994757\n",
       "min         0.326212\n",
       "25%         5.584971\n",
       "50%         9.851276\n",
       "75%        19.563957\n",
       "max       198.357736\n",
       "Name: pop_deviation_plan, dtype: float64"
      ]
     },
     "execution_count": 2,
     "metadata": {},
     "output_type": "execute_result"
    }
   ],
   "source": [
    "df_new['pop_deviation_plan'].describe()"
   ]
  }
 ],
 "metadata": {
  "kernelspec": {
   "display_name": "Python 3 (ipykernel)",
   "language": "python",
   "name": "python3"
  },
  "language_info": {
   "codemirror_mode": {
    "name": "ipython",
    "version": 3
   },
   "file_extension": ".py",
   "mimetype": "text/x-python",
   "name": "python",
   "nbconvert_exporter": "python",
   "pygments_lexer": "ipython3",
   "version": "3.7.10"
  }
 },
 "nbformat": 4,
 "nbformat_minor": 5
}
