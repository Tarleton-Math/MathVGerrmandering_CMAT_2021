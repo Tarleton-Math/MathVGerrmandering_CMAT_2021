{
 "cells": [
  {
   "cell_type": "code",
   "execution_count": 2,
   "id": "ddfec04e",
   "metadata": {},
   "outputs": [
    {
     "name": "stdout",
     "output_type": "stream",
     "text": [
      "The autoreload extension is already loaded. To reload it, use:\n",
      "  %reload_ext autoreload\n",
      "/home/jupyter/MathVGerrmandering_CMAT_2021\n",
      "Get crosswalks_TX_2010_tabblock   ... tabblock table exists ... success\n",
      "Get assignments_TX_2020_tabblock  ... tabblock table exists ... success\n",
      "Get shapes_TX_2020_tabblock       ... tabblock table exists ... success\n",
      "Get census_TX_2020_tabblock       ... tabblock table exists ... success\n",
      "Get elections_TX_2020_tabblock    ... tabblock table exists ... success\n",
      "Get nodes_TX_2020_cntyvtd_cd_contract10 ... cntyvtd table exists ... success\n",
      "Stacking summaries & uniquifying ... {district_type} loose mask stats\n"
     ]
    },
    {
     "data": {
      "text/plain": [
       "count    60173.000000\n",
       "mean        31.348495\n",
       "std          5.803884\n",
       "min         19.000000\n",
       "25%         24.000000\n",
       "50%         33.000000\n",
       "75%         36.000000\n",
       "max         46.000000\n",
       "Name: defect_plan, dtype: float64"
      ]
     },
     "metadata": {},
     "output_type": "display_data"
    },
    {
     "name": "stdout",
     "output_type": "stream",
     "text": [
      "{district_type} tight mask stats\n"
     ]
    },
    {
     "data": {
      "text/plain": [
       "count    7925.000000\n",
       "mean       21.879621\n",
       "std         0.375142\n",
       "min        19.000000\n",
       "25%        22.000000\n",
       "50%        22.000000\n",
       "75%        22.000000\n",
       "max        22.000000\n",
       "Name: defect_plan, dtype: float64"
      ]
     },
     "metadata": {},
     "output_type": "display_data"
    },
    {
     "name": "stdout",
     "output_type": "stream",
     "text": [
      "Get crosswalks_TX_2010_tabblock   ... tabblock table exists ... success\n",
      "Get assignments_TX_2020_tabblock  ... tabblock table exists ... success\n",
      "Get shapes_TX_2020_tabblock       ... tabblock table exists ... success\n",
      "Get census_TX_2020_tabblock       ... tabblock table exists ... success\n",
      "Get elections_TX_2020_tabblock    ... tabblock table exists ... success\n",
      "Get nodes_TX_2020_cntyvtd_sldl_contract10 ... cntyvtd table exists ... success\n",
      "Stacking summaries & uniquifying ... {district_type} loose mask stats\n"
     ]
    },
    {
     "data": {
      "text/plain": [
       "count    617978.000000\n",
       "mean         44.933808\n",
       "std          12.213727\n",
       "min          16.000000\n",
       "25%          38.000000\n",
       "50%          47.000000\n",
       "75%          57.000000\n",
       "max          57.000000\n",
       "Name: defect_plan, dtype: float64"
      ]
     },
     "metadata": {},
     "output_type": "display_data"
    },
    {
     "name": "stdout",
     "output_type": "stream",
     "text": [
      "{district_type} tight mask stats\n"
     ]
    },
    {
     "data": {
      "text/plain": [
       "count    66203.000000\n",
       "mean        18.951906\n",
       "std          0.268787\n",
       "min         16.000000\n",
       "25%         19.000000\n",
       "50%         19.000000\n",
       "75%         19.000000\n",
       "max         19.000000\n",
       "Name: defect_plan, dtype: float64"
      ]
     },
     "metadata": {},
     "output_type": "display_data"
    },
    {
     "name": "stdout",
     "output_type": "stream",
     "text": [
      "Get crosswalks_TX_2010_tabblock   ... tabblock table exists ... success\n",
      "Get assignments_TX_2020_tabblock  ... tabblock table exists ... success\n",
      "Get shapes_TX_2020_tabblock       ... tabblock table exists ... success\n",
      "Get census_TX_2020_tabblock       ... tabblock table exists ... success\n",
      "Get elections_TX_2020_tabblock    ... tabblock table exists ... success\n",
      "Get nodes_TX_2020_cntyvtd_sldu_contract10 ... cntyvtd table exists ... success\n",
      "Stacking summaries & uniquifying ... "
     ]
    },
    {
     "ename": "KeyError",
     "evalue": "'summaries'",
     "output_type": "error",
     "traceback": [
      "\u001b[0;31m---------------------------------------------------------------------------\u001b[0m",
      "\u001b[0;31mKeyError\u001b[0m                                  Traceback (most recent call last)",
      "\u001b[0;32m/tmp/ipykernel_2672/4119755296.py\u001b[0m in \u001b[0;36m<module>\u001b[0;34m\u001b[0m\n\u001b[1;32m     38\u001b[0m \u001b[0mdf_cd\u001b[0m   \u001b[0;34m=\u001b[0m \u001b[0mget_stats\u001b[0m\u001b[0;34m(\u001b[0m\u001b[0;34m'cd'\u001b[0m\u001b[0;34m)\u001b[0m\u001b[0;34m\u001b[0m\u001b[0;34m\u001b[0m\u001b[0m\n\u001b[1;32m     39\u001b[0m \u001b[0mdf_sldl\u001b[0m \u001b[0;34m=\u001b[0m \u001b[0mget_stats\u001b[0m\u001b[0;34m(\u001b[0m\u001b[0;34m'sldl'\u001b[0m\u001b[0;34m)\u001b[0m\u001b[0;34m\u001b[0m\u001b[0;34m\u001b[0m\u001b[0m\n\u001b[0;32m---> 40\u001b[0;31m \u001b[0mdf_sldu\u001b[0m \u001b[0;34m=\u001b[0m \u001b[0mget_stats\u001b[0m\u001b[0;34m(\u001b[0m\u001b[0;34m'sldu'\u001b[0m\u001b[0;34m)\u001b[0m\u001b[0;34m\u001b[0m\u001b[0;34m\u001b[0m\u001b[0m\n\u001b[0m",
      "\u001b[0;32m/tmp/ipykernel_2672/4119755296.py\u001b[0m in \u001b[0;36mget_stats\u001b[0;34m(district_type)\u001b[0m\n\u001b[1;32m     16\u001b[0m     \u001b[0mM\u001b[0m \u001b[0;34m=\u001b[0m \u001b[0mMCMC\u001b[0m\u001b[0;34m(\u001b[0m\u001b[0mrandom_seed\u001b[0m\u001b[0;34m=\u001b[0m\u001b[0;36m9000000\u001b[0m\u001b[0;34m,\u001b[0m \u001b[0mnodes_tbl\u001b[0m\u001b[0;34m=\u001b[0m\u001b[0mN\u001b[0m\u001b[0;34m.\u001b[0m\u001b[0mtbl\u001b[0m\u001b[0;34m)\u001b[0m\u001b[0;34m\u001b[0m\u001b[0;34m\u001b[0m\u001b[0m\n\u001b[1;32m     17\u001b[0m     \u001b[0mM\u001b[0m\u001b[0;34m.\u001b[0m\u001b[0mpost_process1\u001b[0m\u001b[0;34m(\u001b[0m\u001b[0;34m)\u001b[0m\u001b[0;34m\u001b[0m\u001b[0;34m\u001b[0m\u001b[0m\n\u001b[0;32m---> 18\u001b[0;31m     \u001b[0mM\u001b[0m\u001b[0;34m.\u001b[0m\u001b[0mpost_process2\u001b[0m\u001b[0;34m(\u001b[0m\u001b[0;34m)\u001b[0m\u001b[0;34m\u001b[0m\u001b[0;34m\u001b[0m\u001b[0m\n\u001b[0m\u001b[1;32m     19\u001b[0m     \u001b[0mquery\u001b[0m \u001b[0;34m=\u001b[0m \u001b[0;34mf\"select * from {M.hash_tbl}\"\u001b[0m\u001b[0;34m\u001b[0m\u001b[0;34m\u001b[0m\u001b[0m\n\u001b[1;32m     20\u001b[0m     \u001b[0mdf\u001b[0m \u001b[0;34m=\u001b[0m \u001b[0mrun_query\u001b[0m\u001b[0;34m(\u001b[0m\u001b[0mquery\u001b[0m\u001b[0;34m)\u001b[0m\u001b[0;34m\u001b[0m\u001b[0;34m\u001b[0m\u001b[0m\n",
      "\u001b[0;32m/home/jupyter/MathVGerrmandering_CMAT_2021/src/mcmc.py\u001b[0m in \u001b[0;36mpost_process2\u001b[0;34m(self)\u001b[0m\n\u001b[1;32m    521\u001b[0m         \u001b[0mrpt\u001b[0m\u001b[0;34m(\u001b[0m\u001b[0;34mf'Stacking summaries & uniquifying'\u001b[0m\u001b[0;34m)\u001b[0m\u001b[0;34m\u001b[0m\u001b[0;34m\u001b[0m\u001b[0m\n\u001b[1;32m    522\u001b[0m         \u001b[0mu\u001b[0m \u001b[0;34m=\u001b[0m \u001b[0;34m'\\nunion all\\n'\u001b[0m\u001b[0;34m\u001b[0m\u001b[0;34m\u001b[0m\u001b[0m\n\u001b[0;32m--> 523\u001b[0;31m         \u001b[0mquery\u001b[0m \u001b[0;34m=\u001b[0m \u001b[0mu\u001b[0m\u001b[0;34m.\u001b[0m\u001b[0mjoin\u001b[0m\u001b[0;34m(\u001b[0m\u001b[0;34m[\u001b[0m\u001b[0;34mf'select * from {tbls[\"summaries\"]}'\u001b[0m \u001b[0;32mfor\u001b[0m \u001b[0mrandom_seed\u001b[0m\u001b[0;34m,\u001b[0m \u001b[0mtbls\u001b[0m \u001b[0;32min\u001b[0m \u001b[0mself\u001b[0m\u001b[0;34m.\u001b[0m\u001b[0mtbls\u001b[0m\u001b[0;34m.\u001b[0m\u001b[0mitems\u001b[0m\u001b[0;34m(\u001b[0m\u001b[0;34m)\u001b[0m\u001b[0;34m]\u001b[0m\u001b[0;34m)\u001b[0m\u001b[0;34m\u001b[0m\u001b[0;34m\u001b[0m\u001b[0m\n\u001b[0m\u001b[1;32m    524\u001b[0m         query = f\"\"\"\n\u001b[1;32m    525\u001b[0m \u001b[0mselect\u001b[0m\u001b[0;34m\u001b[0m\u001b[0;34m\u001b[0m\u001b[0m\n",
      "\u001b[0;32m/home/jupyter/MathVGerrmandering_CMAT_2021/src/mcmc.py\u001b[0m in \u001b[0;36m<listcomp>\u001b[0;34m(.0)\u001b[0m\n\u001b[1;32m    521\u001b[0m         \u001b[0mrpt\u001b[0m\u001b[0;34m(\u001b[0m\u001b[0;34mf'Stacking summaries & uniquifying'\u001b[0m\u001b[0;34m)\u001b[0m\u001b[0;34m\u001b[0m\u001b[0;34m\u001b[0m\u001b[0m\n\u001b[1;32m    522\u001b[0m         \u001b[0mu\u001b[0m \u001b[0;34m=\u001b[0m \u001b[0;34m'\\nunion all\\n'\u001b[0m\u001b[0;34m\u001b[0m\u001b[0;34m\u001b[0m\u001b[0m\n\u001b[0;32m--> 523\u001b[0;31m         \u001b[0mquery\u001b[0m \u001b[0;34m=\u001b[0m \u001b[0mu\u001b[0m\u001b[0;34m.\u001b[0m\u001b[0mjoin\u001b[0m\u001b[0;34m(\u001b[0m\u001b[0;34m[\u001b[0m\u001b[0;34mf'select * from {tbls[\"summaries\"]}'\u001b[0m \u001b[0;32mfor\u001b[0m \u001b[0mrandom_seed\u001b[0m\u001b[0;34m,\u001b[0m \u001b[0mtbls\u001b[0m \u001b[0;32min\u001b[0m \u001b[0mself\u001b[0m\u001b[0;34m.\u001b[0m\u001b[0mtbls\u001b[0m\u001b[0;34m.\u001b[0m\u001b[0mitems\u001b[0m\u001b[0;34m(\u001b[0m\u001b[0;34m)\u001b[0m\u001b[0;34m]\u001b[0m\u001b[0;34m)\u001b[0m\u001b[0;34m\u001b[0m\u001b[0;34m\u001b[0m\u001b[0m\n\u001b[0m\u001b[1;32m    524\u001b[0m         query = f\"\"\"\n\u001b[1;32m    525\u001b[0m \u001b[0mselect\u001b[0m\u001b[0;34m\u001b[0m\u001b[0;34m\u001b[0m\u001b[0m\n",
      "\u001b[0;31mKeyError\u001b[0m: 'summaries'"
     ]
    }
   ],
   "source": [
    "%load_ext autoreload\n",
    "%autoreload\n",
    "%cd /home/jupyter/MathVGerrmandering_CMAT_2021/\n",
    "from src import *\n",
    "from src.nodes import *\n",
    "from src.mcmc import *\n",
    "\n",
    "def get_stats(district_type):\n",
    "    nodes_opts = {\n",
    "        'abbr'             : 'TX',\n",
    "        'level'            : 'cntyvtd',\n",
    "        'district_type'    : district_type,\n",
    "        'contract_thresh'  : 10,\n",
    "    }\n",
    "    N = Nodes(**nodes_opts)\n",
    "    M = MCMC(random_seed=9000000, nodes_tbl=N.tbl)\n",
    "    M.post_process1()\n",
    "    M.post_process2()\n",
    "    query = f\"select * from {M.hash_tbl}\"\n",
    "    df = run_query(query)\n",
    "    if district_type == 'cd':\n",
    "        pop_dev = 1\n",
    "        base_defect = 22\n",
    "    elif district_type == 'sldu':\n",
    "        pop_dev = 13\n",
    "        base_defect = 13\n",
    "    elif district_type == 'sldl':\n",
    "        pop_dev = 19\n",
    "        base_defect = 19\n",
    "    loose_mask =  df['pop_deviation_plan'] <= pop_dev\n",
    "    tight_mask = (df['pop_deviation_plan'] <= pop_dev) & (df['defect_plan'] <= base_defect)\n",
    "    print(f'{district_type} loose mask stats')\n",
    "    display(df.loc[loose_mask, 'defect_plan'].describe())\n",
    "    print('{district_type} tight mask stats')\n",
    "    display(df.loc[tight_mask, 'defect_plan'].describe())\n",
    "    return df\n",
    "\n",
    "df_cd   = get_stats('cd')\n",
    "df_sldl = get_stats('sldu')\n",
    "df_sldu = get_stats('sldl')"
   ]
  },
  {
   "cell_type": "code",
   "execution_count": 26,
   "id": "1433d9fd",
   "metadata": {},
   "outputs": [],
   "source": [
    "f = f'nodes_TX_2020_tabblock_sldu_contract0'\n",
    "nodes_tbl = f'{proj_id}.redistricting_data.{f}'\n",
    "pq = root_path / f'redistricting_data/nodes/TX/{f}.parquet'\n",
    "pq.parent.mkdir(parents=True, exist_ok=True)\n",
    "q = f\"select * from {nodes_tbl}\"\n",
    "df = run_query(q)\n",
    "df.to_parquet(pq)\n",
    "to_gcs(pq)"
   ]
  },
  {
   "cell_type": "code",
   "execution_count": 27,
   "id": "6ff189c1",
   "metadata": {},
   "outputs": [],
   "source": [
    "f = f'nodes_TX_2020_tabblock_sldl_contract0'\n",
    "nodes_tbl = f'{proj_id}.redistricting_data.{f}'\n",
    "pq = root_path / f'redistricting_data/nodes/TX/{f}.parquet'\n",
    "pq.parent.mkdir(parents=True, exist_ok=True)\n",
    "q = f\"select * from {nodes_tbl}\"\n",
    "df = run_query(q)\n",
    "df.to_parquet(pq)\n",
    "to_gcs(pq)"
   ]
  }
 ],
 "metadata": {
  "kernelspec": {
   "display_name": "Python 3 (ipykernel)",
   "language": "python",
   "name": "python3"
  },
  "language_info": {
   "codemirror_mode": {
    "name": "ipython",
    "version": 3
   },
   "file_extension": ".py",
   "mimetype": "text/x-python",
   "name": "python",
   "nbconvert_exporter": "python",
   "pygments_lexer": "ipython3",
   "version": "3.7.10"
  }
 },
 "nbformat": 4,
 "nbformat_minor": 5
}
