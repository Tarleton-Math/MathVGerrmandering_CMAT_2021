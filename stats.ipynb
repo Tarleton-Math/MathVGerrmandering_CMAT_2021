{
 "cells": [
  {
   "cell_type": "code",
   "execution_count": null,
   "id": "5885139b",
   "metadata": {},
   "outputs": [],
   "source": [
    "%load_ext autoreload\n",
    "%autoreload\n",
    "%cd /home/jupyter/MathVGerrmandering_CMAT_2021/\n",
    "from src import *\n",
    "from src.nodes import *\n",
    "from src.mcmc import *\n",
    "\n",
    "def get_stats(district_type):\n",
    "    nodes_tbl = f'{proj_id}.redistricting_data.nodes_TX_2020_cntyvtd_{district_type}_contract10'\n",
    "#     nodes_tbl = f'{proj_id}.redistricting_data.nodes_TX_2020_cntyvtd_{district_type}'\n",
    "    M = MCMC(random_seed=9000000, nodes_tbl=nodes_tbl)\n",
    "    M.post_process1()\n",
    "    M.post_process2()\n",
    "    query = f\"select * from {M.hash_tbl}\"\n",
    "    df = run_query(query)\n",
    "    if district_type == 'cd':\n",
    "        pop_dev = 1\n",
    "        base_defect = 47\n",
    "    elif district_type == 'sldu':\n",
    "        pop_dev = 10\n",
    "        base_defect = 26\n",
    "    elif district_type == 'sldl':\n",
    "        pop_dev = 10\n",
    "        base_defect = 19\n",
    "    loose_mask = (df['pop_deviation_plan'] <= pop_dev) & (df['defect_plan'] <= base_defect*3)\n",
    "    tight_mask = (df['pop_deviation_plan'] <= pop_dev) & (df['defect_plan'] <= base_defect)\n",
    "    print(f'\\n\\n{district_type} loose mask stats')\n",
    "    display(df.loc[loose_mask, 'defect_plan'].describe())\n",
    "    print(f'{district_type} tight mask stats')\n",
    "    display(df.loc[tight_mask, 'defect_plan'].describe())\n",
    "    return df\n",
    "\n",
    "df_cd   = get_stats('cd')\n",
    "df_sldl = get_stats('sldu')\n",
    "df_sldu = get_stats('sldl')"
   ]
  },
  {
   "cell_type": "code",
   "execution_count": null,
   "id": "2680a336",
   "metadata": {},
   "outputs": [],
   "source": [
    "%load_ext autoreload\n",
    "%autoreload\n",
    "%cd /home/jupyter/MathVGerrmandering_CMAT_2021/\n",
    "from src import *\n",
    "from src.nodes import *\n",
    "from src.mcmc import *\n",
    "\n",
    "nodes_opts = {\n",
    "    'district_type'    : 'sldu',\n",
    "    'contract_thresh'  : 10,\n",
    "    'level'            : 'cntyvtd',\n",
    "    'abbr'             : 'TX',\n",
    "    'proposal'         : 'PLANS2101'\n",
    "}\n",
    "\n",
    "N = Nodes(**nodes_opts)\n",
    "M = MCMC(nodes_tbl=N.tbl, random_seed=9000000)\n",
    "M.run_chain()\n",
    "\n",
    "# N.tbl"
   ]
  },
  {
   "cell_type": "code",
   "execution_count": null,
   "id": "ec04c870",
   "metadata": {},
   "outputs": [],
   "source": [
    "%load_ext autoreload\n",
    "%autoreload\n",
    "%cd /home/jupyter/MathVGerrmandering_CMAT_2021/\n",
    "from src import *\n",
    "\n",
    "tbl = f'{data_bq}.TX_2020_cd_planc2100_all'\n",
    "query = f\"\"\"\n",
    "select\n",
    "    *\n",
    "from (\n",
    "    select\n",
    "        cntyvtd,\n",
    "        count(distinct county) as splits,\n",
    "    from\n",
    "        {tbl}\n",
    "    group by \n",
    "        cntyvtd\n",
    "    )\n",
    "where\n",
    "    splits = 1\n",
    "limit\n",
    "    10\n",
    "\"\"\"\n",
    "run_query(query)"
   ]
  },
  {
   "cell_type": "code",
   "execution_count": 53,
   "id": "e7629100",
   "metadata": {},
   "outputs": [
    {
     "name": "stdout",
     "output_type": "stream",
     "text": [
      "The autoreload extension is already loaded. To reload it, use:\n",
      "  %reload_ext autoreload\n",
      "/home/jupyter/MathVGerrmandering_CMAT_2021\n"
     ]
    }
   ],
   "source": [
    "%load_ext autoreload\n",
    "%autoreload\n",
    "%cd /home/jupyter/MathVGerrmandering_CMAT_2021/\n",
    "from src import *\n",
    "import plotly.express as px\n",
    "import statsmodels.api as sm\n",
    "\n",
    "k = 1609.34**2\n",
    "tbl = f'{data_bq}.TX_2020_cd_planc2100_cntyvtd_0_nodes'\n",
    "query = f\"\"\"\n",
    "select\n",
    "    cntyvtd,\n",
    "    county,\n",
    "    aland / {k},\n",
    "    vap_pop,\n",
    "    vap_pop / aland * {k} as density,\n",
    "    vap_hisp_pop,\n",
    "    vap_pop - vap_hisp_pop as vap_nonhisp_pop,\n",
    "    vap_hisp_pop / vap_pop as vap_hisp_prop,\n",
    "    (President_2020_R_Trump_general - President_2020_D_Biden_general) / (President_2020_R_Trump_general + President_2020_D_Biden_general) * 100 as rd_diff,\n",
    "    point\n",
    "from\n",
    "    {tbl}\n",
    "where\n",
    "    vap_pop > 0 and (President_2020_R_Trump_general + President_2020_D_Biden_general) > 0\n",
    "\"\"\"\n",
    "df = run_query(query)"
   ]
  },
  {
   "cell_type": "code",
   "execution_count": 56,
   "id": "d48400ef",
   "metadata": {},
   "outputs": [
    {
     "data": {
      "text/plain": [
       "pandas.core.frame.DataFrame"
      ]
     },
     "execution_count": 56,
     "metadata": {},
     "output_type": "execute_result"
    }
   ],
   "source": [
    "import geopandas as gpd\n",
    "geo = gpd.GeoSeries.from_wkt(df['polygon'], crs='EPSG:4326').simplify(0.001).buffer(0) \n",
    "type(df)"
   ]
  },
  {
   "cell_type": "code",
   "execution_count": 7,
   "id": "c6ea5e20",
   "metadata": {},
   "outputs": [
    {
     "data": {
      "text/plain": [
       "count     8716.000000\n",
       "mean      2025.640534\n",
       "std       2592.059576\n",
       "min          0.007089\n",
       "25%         60.455022\n",
       "50%       1289.582924\n",
       "75%       3296.316555\n",
       "max      49865.480503\n",
       "Name: density, dtype: float64"
      ]
     },
     "execution_count": 7,
     "metadata": {},
     "output_type": "execute_result"
    }
   ],
   "source": [
    "df['density'].describe()\n",
    "# df.query('density > 4000')"
   ]
  },
  {
   "cell_type": "code",
   "execution_count": 50,
   "id": "b9b08556",
   "metadata": {},
   "outputs": [
    {
     "name": "stdout",
     "output_type": "stream",
     "text": [
      "[-3.07042343e+01 -3.31830427e-03] 69.42983082526021 0.3960337842403123\n"
     ]
    }
   ],
   "source": [
    "from sklearn.linear_model import LinearRegression, LogisticRegression, RidgeCV\n",
    "mod_sk = RidgeCV(fit_intercept=True, scoring='r2', alphas=np.linspace(0,1,100)[1:])\n",
    "mod_sk = LinearRegression(fit_intercept=True)\n",
    "# mod_sk = RandomForestClassifier()\n",
    "mod_sk.fit(X, y, sample_weight=w)\n",
    "# print(mod_sk.coef_, mod_sk.intercept_, mod_sk.alpha_, mod_sk.best_score_)\n",
    "print(mod_sk.coef_, mod_sk.intercept_, mod_sk.score(X,y))\n"
   ]
  },
  {
   "cell_type": "code",
   "execution_count": null,
   "id": "2258630f",
   "metadata": {},
   "outputs": [],
   "source": [
    "0.36675915992818464"
   ]
  },
  {
   "cell_type": "code",
   "execution_count": 36,
   "id": "0d984cbf",
   "metadata": {},
   "outputs": [
    {
     "data": {
      "text/plain": [
       "0.1"
      ]
     },
     "execution_count": 36,
     "metadata": {},
     "output_type": "execute_result"
    }
   ],
   "source": [
    "mod_sk.best_score_, \n",
    "mod_sk.alpha_"
   ]
  },
  {
   "cell_type": "code",
   "execution_count": 25,
   "id": "4467372b",
   "metadata": {},
   "outputs": [
    {
     "name": "stdout",
     "output_type": "stream",
     "text": [
      "                            WLS Regression Results                            \n",
      "==============================================================================\n",
      "Dep. Variable:                redness   R-squared:                       0.377\n",
      "Model:                            WLS   Adj. R-squared:                  0.377\n",
      "Method:                 Least Squares   F-statistic:                     2633.\n",
      "Date:                Fri, 08 Oct 2021   Prob (F-statistic):               0.00\n",
      "Time:                        05:27:20   Log-Likelihood:                -39271.\n",
      "No. Observations:                8716   AIC:                         7.855e+04\n",
      "Df Residuals:                    8713   BIC:                         7.857e+04\n",
      "Df Model:                           2                                         \n",
      "Covariance Type:            nonrobust                                         \n",
      "=================================================================================\n",
      "                    coef    std err          t      P>|t|      [0.025      0.975]\n",
      "---------------------------------------------------------------------------------\n",
      "const            69.4298      0.339    204.989      0.000      68.766      70.094\n",
      "vap_hisp_prop   -30.7042      0.696    -44.131      0.000     -32.068     -29.340\n",
      "density          -0.0033   6.32e-05    -52.494      0.000      -0.003      -0.003\n",
      "==============================================================================\n",
      "Omnibus:                     1536.604   Durbin-Watson:                   1.124\n",
      "Prob(Omnibus):                  0.000   Jarque-Bera (JB):            18261.034\n",
      "Skew:                          -0.486   Prob(JB):                         0.00\n",
      "Kurtosis:                      10.024   Cond. No.                     1.58e+04\n",
      "==============================================================================\n",
      "\n",
      "Notes:\n",
      "[1] Standard Errors assume that the covariance matrix of the errors is correctly specified.\n",
      "[2] The condition number is large, 1.58e+04. This might indicate that there are\n",
      "strong multicollinearity or other numerical problems.\n"
     ]
    },
    {
     "name": "stderr",
     "output_type": "stream",
     "text": [
      "/opt/conda/lib/python3.7/site-packages/statsmodels/tsa/tsatools.py:142: FutureWarning: In a future version of pandas all arguments of concat except for the argument 'objs' will be keyword-only\n",
      "  x = pd.concat(x[::order], 1)\n"
     ]
    }
   ],
   "source": [
    "y = df['redness']\n",
    "w = df['vap_pop']\n",
    "X = df[['vap_hisp_prop', 'density']]\n",
    "# X = df[['vap_hisp_prop']]\n",
    "mod_sm = sm.WLS(exog=sm.add_constant(X), endog=y, weights=w)\n",
    "res = mod_sm.fit()\n",
    "print(res.summary())\n"
   ]
  },
  {
   "cell_type": "code",
   "execution_count": 68,
   "id": "37970bbd",
   "metadata": {},
   "outputs": [],
   "source": [
    "df.shape\n",
    "L = []\n",
    "for i, X in df.iloc[:1000].iterrows():\n",
    "    z = pd.DataFrame()\n",
    "    N = X['vap_pop']\n",
    "    H = X['vap_hisp_pop']\n",
    "    W = N - H\n",
    "    R = X['redness']\n",
    "    z['cntyvtd'] = np.repeat(X['cntyvtd'], N)\n",
    "    z['county'] = X['county']\n",
    "    z['density'] = X['density']\n",
    "    z['hisp'] = False\n",
    "    z['red']  = False\n",
    "    z.loc[:H, 'hisp']  = True\n",
    "    z.loc[z.index[:round(H*R) ], 'red'] = True\n",
    "    z.loc[z.index[-round(W*R):], 'red'] = True\n",
    "    L.append(z)\n",
    "Z = pd.concat(L, ignore_index=True)"
   ]
  },
  {
   "cell_type": "code",
   "execution_count": 90,
   "id": "701f6bcf",
   "metadata": {},
   "outputs": [
    {
     "data": {
      "text/plain": [
       "LogisticRegression(fit_intercept=False)"
      ]
     },
     "execution_count": 90,
     "metadata": {},
     "output_type": "execute_result"
    }
   ],
   "source": [
    "from sklearn.linear_model import LinearRegression, LogisticRegression\n",
    "from sklearn.ensemble import RandomForestClassifier\n",
    "import statsmodels.api as sm\n",
    "y = Z['red']\n",
    "# X = Z[['hisp', 'density']].astype(float)\n",
    "# X['const'] = 1.0\n",
    "X = Z[['hisp', 'density']]\n",
    "\n",
    "# mod_sk = LinearRegression(fit_intercept=False)\n",
    "mod_sk = LogisticRegression(fit_intercept=False)\n",
    "# mod_sk = RandomForestClassifier()\n",
    "mod_sk.fit(X, y)\n",
    "# print(mod_sk.coef_, mod_sk.intercept_)\n",
    "\n",
    "# mod_sm = sm.OLS(y, X)\n",
    "# mod_sm = sm.Logit(y, X)\n",
    "# res = mod_sm.fit()\n",
    "# print(res.summary())\n",
    "# # mod = sm.Logit(exog=sm.add_constant(X[['hisp', 'density']].astype(float)), endog=X['red'])\n",
    "# res = mod.fit()\n",
    "# print(res.summary())"
   ]
  },
  {
   "cell_type": "code",
   "execution_count": 92,
   "id": "43cce55c",
   "metadata": {},
   "outputs": [
    {
     "data": {
      "text/plain": [
       "\u001b[0;31mSignature:\u001b[0m \u001b[0mmod_sk\u001b[0m\u001b[0;34m.\u001b[0m\u001b[0mscore\u001b[0m\u001b[0;34m(\u001b[0m\u001b[0mX\u001b[0m\u001b[0;34m,\u001b[0m \u001b[0my\u001b[0m\u001b[0;34m,\u001b[0m \u001b[0msample_weight\u001b[0m\u001b[0;34m=\u001b[0m\u001b[0;32mNone\u001b[0m\u001b[0;34m)\u001b[0m\u001b[0;34m\u001b[0m\u001b[0;34m\u001b[0m\u001b[0m\n",
       "\u001b[0;31mDocstring:\u001b[0m\n",
       "Return the mean accuracy on the given test data and labels.\n",
       "\n",
       "In multi-label classification, this is the subset accuracy\n",
       "which is a harsh metric since you require for each sample that\n",
       "each label set be correctly predicted.\n",
       "\n",
       "Parameters\n",
       "----------\n",
       "X : array-like of shape (n_samples, n_features)\n",
       "    Test samples.\n",
       "\n",
       "y : array-like of shape (n_samples,) or (n_samples, n_outputs)\n",
       "    True labels for X.\n",
       "\n",
       "sample_weight : array-like of shape (n_samples,), default=None\n",
       "    Sample weights.\n",
       "\n",
       "Returns\n",
       "-------\n",
       "score : float\n",
       "    Mean accuracy of self.predict(X) wrt. y.\n",
       "\u001b[0;31mFile:\u001b[0m      /opt/conda/lib/python3.7/site-packages/sklearn/base.py\n",
       "\u001b[0;31mType:\u001b[0m      method\n"
      ]
     },
     "metadata": {},
     "output_type": "display_data"
    }
   ],
   "source": [
    "mod_sk.score?\n",
    "\n",
    "# (X, y)"
   ]
  },
  {
   "cell_type": "code",
   "execution_count": null,
   "id": "47acb333",
   "metadata": {},
   "outputs": [],
   "source": [
    "sns.jointplot(data=data, x='vap_hisp_prop', y='redness', kind=\"reg\");"
   ]
  },
  {
   "cell_type": "code",
   "execution_count": null,
   "id": "e368c560",
   "metadata": {},
   "outputs": [],
   "source": [
    "%load_ext autoreload\n",
    "%autoreload\n",
    "%cd /home/jupyter/MathVGerrmandering_CMAT_2021/\n",
    "from src import *\n",
    "import plotly.express as px\n",
    "\n",
    "tbl = f'{data_bq}.TX_2020_cd_planc2100_cntyvtd_0_nodes'\n",
    "query = f\"\"\"\n",
    "select\n",
    "    cntyvtd,\n",
    "    county,\n",
    "    vap_pop,\n",
    "    vap_hisp_pop / vap_pop as vap_hisp_prop,\n",
    "    President_2020_R_Trump_general / votes as redness\n",
    "from (\n",
    "    select\n",
    "        cntyvtd,\n",
    "        county,\n",
    "        vap_hisp_pop,\n",
    "        vap_pop,\n",
    "        President_2020_R_Trump_general,\n",
    "        President_2020_R_Trump_general + President_2020_D_Biden_general as votes\n",
    "    from\n",
    "        {tbl}\n",
    "    )\n",
    "where\n",
    "    votes > 0 and vap_pop > 0\n",
    "\"\"\"\n",
    "df = run_query(query)"
   ]
  },
  {
   "cell_type": "code",
   "execution_count": null,
   "id": "53846abf",
   "metadata": {},
   "outputs": [],
   "source": [
    "sns.lmplot?"
   ]
  },
  {
   "cell_type": "code",
   "execution_count": null,
   "id": "68d4a903",
   "metadata": {},
   "outputs": [],
   "source": [
    "import seaborn as sns\n",
    "data = df#.sample(n=50)\n",
    "# ax = sns.lmplot(data=data, x='vap_hisp_prop', y='redness',\n",
    "#                  scatter=False,\n",
    "# #                  marker='.',\n",
    "#                  ci = 68,\n",
    "# #                  n_boot=5000\n",
    "#                 )\n",
    "# ax.set_title('Linear Regression')\n",
    "sns.jointplot(data=data, x='vap_hisp_prop', y='redness', kind=\"reg\");"
   ]
  },
  {
   "cell_type": "code",
   "execution_count": null,
   "id": "a9e27b74",
   "metadata": {},
   "outputs": [],
   "source": [
    "tips"
   ]
  },
  {
   "cell_type": "code",
   "execution_count": null,
   "id": "94bfda68",
   "metadata": {},
   "outputs": [],
   "source": [
    "import seaborn as sns; sns.set_theme(color_codes=True)\n",
    "\n",
    "tips = sns.load_dataset(\"tips\")\n",
    "\n",
    "ax = sns.regplot(x=\"total_bill\", y=\"tip\", data=tips)"
   ]
  },
  {
   "cell_type": "code",
   "execution_count": null,
   "id": "b1e93832",
   "metadata": {},
   "outputs": [],
   "source": [
    "df['vap_factor'] = df['vap_pop'] / df['vap_pop'].max()\n",
    "fig = px.scatter(df, x=\"vap_hisp_prop\", y=\"redness\", opacity=df['vap_factor'],\n",
    "                 hover_data=['county', 'vap_pop']\n",
    "                )\n",
    "fig.show()"
   ]
  },
  {
   "cell_type": "code",
   "execution_count": null,
   "id": "441c6e41",
   "metadata": {},
   "outputs": [],
   "source": [
    "lin.fit?"
   ]
  },
  {
   "cell_type": "code",
   "execution_count": null,
   "id": "2c3f3ca7",
   "metadata": {},
   "outputs": [],
   "source": [
    "sns.regplot?"
   ]
  },
  {
   "cell_type": "code",
   "execution_count": null,
   "id": "205b640e",
   "metadata": {},
   "outputs": [],
   "source": [
    "from sklearn.linear_model import LinearRegression\n",
    "import statsmodels.api as sm\n",
    "lin = LinearRegression()\n",
    "lin.fit(X=df[['vap_hisp_prop']], y=df['redness'], sample_weight=df['vap_pop'])\n",
    "print(lin.coef_)\n",
    "lin.fit\n",
    "mod = sm.WLS(exog=sm.add_constant(df['vap_hisp_prop']), endog=df['redness'], weights=df['vap_pop'])\n",
    "res = mod.fit()\n",
    "\n",
    "print(res.summary())\n",
    "sm.OLS?"
   ]
  },
  {
   "cell_type": "code",
   "execution_count": null,
   "id": "37a8b38a",
   "metadata": {},
   "outputs": [],
   "source": [
    "sm.add_constant?"
   ]
  },
  {
   "cell_type": "code",
   "execution_count": null,
   "id": "9ffc8f38",
   "metadata": {},
   "outputs": [],
   "source": [
    "import statsmodels.api as sm\n",
    "spector_data = sm.datasets.spector.load()\n",
    "spector_data\n",
    "mod = sm.OLS(spector_data.endog, spector_data.exog)"
   ]
  },
  {
   "cell_type": "code",
   "execution_count": null,
   "id": "a850995a",
   "metadata": {},
   "outputs": [],
   "source": [
    "spector_data.exog\n",
    "spector_data.endog"
   ]
  },
  {
   "cell_type": "code",
   "execution_count": null,
   "id": "ba044780",
   "metadata": {},
   "outputs": [],
   "source": [
    "px.scatter?"
   ]
  },
  {
   "cell_type": "code",
   "execution_count": null,
   "id": "04b28240",
   "metadata": {},
   "outputs": [],
   "source": []
  },
  {
   "cell_type": "code",
   "execution_count": null,
   "id": "1913dba2",
   "metadata": {},
   "outputs": [],
   "source": [
    "%load_ext autoreload\n",
    "%autoreload\n",
    "%cd /home/jupyter/MathVGerrmandering_CMAT_2021/\n",
    "from src import *\n",
    "import plotly.express as px\n",
    "\n",
    "tbl = f'{data_bq}.TX_2020_cd_planc2100_cntyvtd_0_nodes'\n",
    "query = f\"\"\"\n",
    "select\n",
    "    cntyvtd,\n",
    "    county,\n",
    "    vap_hisp_pop,\n",
    "    vap_pop,\n",
    "    President_2020_R_Trump_general,\n",
    "    President_2020_R_Trump_general + President_2020_D_Biden_general as votes\n",
    "from\n",
    "    {tbl}\n",
    "order by\n",
    "    vap_pop desc\n",
    "\"\"\"\n",
    "df = run_query(query)\n",
    "df"
   ]
  },
  {
   "cell_type": "code",
   "execution_count": null,
   "id": "83cc93ef",
   "metadata": {},
   "outputs": [],
   "source": [
    "df.query('votes < 1')"
   ]
  },
  {
   "cell_type": "code",
   "execution_count": null,
   "id": "02fcb44d",
   "metadata": {},
   "outputs": [],
   "source": [
    "fig = px.scatter(df, x=\"sepal_width\", y=\"sepal_length\")\n",
    "fig.show()"
   ]
  },
  {
   "cell_type": "code",
   "execution_count": null,
   "id": "9ccf56b3",
   "metadata": {},
   "outputs": [],
   "source": [
    "tbl = 'cmat-315920.redistricting_data.assignments_TX_2020_tabblock'\n",
    "query = f\"select distinct cast(geoid as int) as geoid, sldu, cd, sldl, cntyvtd from {tbl}\"\n",
    "df1 = run_query(query)\n",
    "\n",
    "# file = data_path / f'assignments/TX/sldu/PLANS2101.csv'\n",
    "# df2 = pd.read_csv(file)\n",
    "# df2.columns = ['geoid', 'sldu']"
   ]
  },
  {
   "cell_type": "code",
   "execution_count": null,
   "id": "0afbe370",
   "metadata": {},
   "outputs": [],
   "source": [
    "df1"
   ]
  },
  {
   "cell_type": "code",
   "execution_count": null,
   "id": "077f092b",
   "metadata": {},
   "outputs": [],
   "source": [
    "df2.dtypes"
   ]
  },
  {
   "cell_type": "code",
   "execution_count": null,
   "id": "dac6f3d5",
   "metadata": {},
   "outputs": [],
   "source": [
    "df = df1.merge(df2, on='geoid')"
   ]
  },
  {
   "cell_type": "code",
   "execution_count": null,
   "id": "8919bc57",
   "metadata": {},
   "outputs": [],
   "source": [
    "w = df1.groupby('cntyvtd')['cd'].nunique()\n",
    "w[w>1]"
   ]
  },
  {
   "cell_type": "markdown",
   "id": "e2f9897b",
   "metadata": {},
   "source": [
    "Andrea - Call me\n",
    "\n",
    "Andrea, This is a collaboration, but I feel like you have been attempt to issue increasingly direct orders to me.  We can talk out our differences, but the conversation must go both ways.  I have been working on this thing for 3 years.  My students wrote much of GerryChain.  I am an expert here.  We can talk, but I'm not okay with you attempting exert unilateral control.\n",
    "\n",
    "The reason I have poured years of my life into this is that I believe there are features of the current map that were done to gain unfair political advantage.  As a result, I'm not willing to blindly accept the decisions that were made and expressed in the 2010 map.  I work in a county that was split even though it is far below 1 seats share.  Almost everyone agrees this was a gerrymander.  Your proposal perpetuates that.\n",
    "\n",
    "Moreover, I ran the defect analysis you asked for on the prior congressional and senate maps.  Nearly everything in the ensemble shows defect 2-3 times what the currently enacted map has.  I'm not okay with that, especially since we can easily do better."
   ]
  },
  {
   "cell_type": "code",
   "execution_count": null,
   "id": "84afbc0c",
   "metadata": {},
   "outputs": [],
   "source": [
    "f = N.pq\n",
    "# f.with_suffix('') / 'hi.pq'\n",
    "f.parent / f'{f.stem}_step10'"
   ]
  },
  {
   "cell_type": "code",
   "execution_count": null,
   "id": "91c41ccc",
   "metadata": {},
   "outputs": [],
   "source": [
    "district_type = 'sldu'\n",
    "n = 31\n",
    "\n",
    "target_pop = 29145505 / n\n",
    "seats_col = f'seats_{district_type}'\n",
    "results = f'cmat-315920.TX_2020_cntyvtd_{district_type}.TX_2020_cntyvtd_{district_type}_0000000_allresults'\n",
    "nodes = f'cmat-315920.redistricting_data.nodes_TX_2020_cntyvtd_{district_type}_contract2010'\n",
    "defects = f'cmat-315920.redistricting_data.contract_compares_{district_type}'\n",
    "\n",
    "query = f\"\"\"\n",
    "select\n",
    "    seed,\n",
    "    plan,\n",
    "    hash_plan,\n",
    "    max(pop_deviation) as pop_deviation_plan,\n",
    "    sum(whole_defect) as whole_defect_plan,\n",
    "    sum(intersect_defect) as intersect_defect_plan,\n",
    "    sum(defect) as defect_plan\n",
    "from (\n",
    "    select\n",
    "        *,\n",
    "        whole_defect + intersect_defect as defect\n",
    "    from (\n",
    "        select\n",
    "            *,\n",
    "            abs(cast(floor({seats_col}) - wholes as int)) as whole_defect,\n",
    "            abs(cast(intersects - ceiling({seats_col}) as int)) as intersect_defect\n",
    "        from (\n",
    "            select\n",
    "                seed,\n",
    "                plan,\n",
    "                hash_plan,\n",
    "                cnty,\n",
    "                max(pop_deviation) as pop_deviation,\n",
    "                sum({seats_col}) as {seats_col},\n",
    "                sum(whole) as wholes,\n",
    "                count(*) as intersects\n",
    "            from (\n",
    "                select\n",
    "                    *,\n",
    "                    case when count(distinct cnty) over (partition by seed, plan, {district_type}) = 1 then 1 else 0 end as whole\n",
    "                from (\n",
    "                    select\n",
    "                        A.seed,\n",
    "                        A.plan,\n",
    "                        A.hash_plan,\n",
    "                        A.cnty,\n",
    "                        A.{district_type},\n",
    "                        max(A.pop_deviation) as pop_deviation,\n",
    "                        sum(B.{seats_col}) as {seats_col}\n",
    "                    from (\n",
    "                        select\n",
    "                            seed,\n",
    "                            plan,\n",
    "                            hash_plan,\n",
    "                            substring(geoid, 1, 3) as cnty,\n",
    "                            {district_type},\n",
    "                            geoid,\n",
    "                            pop_imbalance_plan as pop_deviation\n",
    "                        from\n",
    "                            {results}_stack\n",
    "                        ) as A\n",
    "                    inner join\n",
    "                        {nodes} as B\n",
    "                    on\n",
    "                        A.geoid = B.geoid\n",
    "                    group by\n",
    "                        seed, plan, hash_plan, cnty, {district_type}\n",
    "                    )\n",
    "                )\n",
    "            group by\n",
    "                seed, plan, hash_plan, cnty\n",
    "            )\n",
    "        )\n",
    "    )\n",
    "group by\n",
    "    seed, plan, hash_plan\n",
    "\"\"\"\n",
    "df = load_table(defects, query=query)"
   ]
  },
  {
   "cell_type": "code",
   "execution_count": null,
   "id": "05126546",
   "metadata": {},
   "outputs": [],
   "source": [
    "query = f\"\"\"\n",
    "select\n",
    "    A.seed as random_seed,\n",
    "    A.plan,\n",
    "    A.{district_type},\n",
    "    A.hash_plan,\n",
    "    B.whole_defect_plan,\n",
    "    B.intersect_defect_plan,\n",
    "    B.defect_plan,\n",
    "    B.pop_deviation_plan,\n",
    "    A.* except (seed, plan, {district_type}, hash_plan, pop_imbalance_plan, nodes_plan, nodes_district)\n",
    "from\n",
    "    {results}_backup as A\n",
    "inner join\n",
    "    {output} as B\n",
    "on\n",
    "    A.seed = B.seed and A.plan = B.plan\n",
    "\"\"\"\n",
    "load_table(tbl=results, query=query)"
   ]
  },
  {
   "cell_type": "code",
   "execution_count": null,
   "id": "6ceebf5b",
   "metadata": {},
   "outputs": [],
   "source": [
    "\n",
    "pop = 29145505\n",
    "n = 38\n",
    "target_pop = pop / n\n",
    "district_type = 'cd'\n",
    "seats_col = f'seats_{district_type}'\n",
    "results_old = f'cmat-315920.TX_2020_cntyvtd_cd.TX_2020_cntyvtd_{district_type}_0000000_allresults_stack'\n",
    "nodes = f'cmat-315920.redistricting_data.nodes_TX_2020_cntyvtd_{district_type}_contract2010'\n",
    "output = f'cmat-315920.redistricting_data.contract_compares'\n",
    "\n",
    "query = f\"\"\"\n",
    "select\n",
    "    seed,\n",
    "    plan,\n",
    "    max(pop_deviation) as pop_deviation,\n",
    "    sum(wholes_defect) as wholes_defect,\n",
    "    sum(intersects_defect) as intersects_defect,\n",
    "    sum(defect) as defect\n",
    "from (\n",
    "    select\n",
    "        *,\n",
    "        wholes_defect + intersects_defect as defect\n",
    "    from (\n",
    "        select\n",
    "            *,\n",
    "            abs(cast(floor({seats_col}) - wholes as int)) as wholes_defect,\n",
    "            abs(cast(intersects - ceiling({seats_col}) as int)) as intersects_defect\n",
    "        from (\n",
    "            select\n",
    "                seed,\n",
    "                plan,\n",
    "                cnty,\n",
    "                max(pop_deviation) as pop_deviation,\n",
    "                sum({seats_col}) as {seats_col},\n",
    "                sum(whole) as wholes,\n",
    "                count(*) as intersects\n",
    "            from (\n",
    "                select\n",
    "                    *,\n",
    "                    case when count(distinct cnty) over (partition by seed, plan, cd) = 1 then 1 else 0 end as whole\n",
    "                from (\n",
    "                    select\n",
    "                        A.seed,\n",
    "                        A.plan,\n",
    "                        A.cnty,\n",
    "                        A.cd,\n",
    "                        max(A.pop_deviation) as pop_deviation,\n",
    "                        sum(B.{seats_col}) as {seats_col}\n",
    "                    from (\n",
    "                        select\n",
    "                            seed,\n",
    "                            plan,\n",
    "                            substring(geoid, 1, 3) as cnty,\n",
    "                            cd,\n",
    "                            geoid,\n",
    "                            pop_imbalance_plan as pop_deviation\n",
    "                        from\n",
    "                            {results_old}\n",
    "                        --where seed = 1126 and plan = 552\n",
    "                        ) as A\n",
    "                    inner join\n",
    "                        {nodes} as B\n",
    "                    on\n",
    "                        A.geoid = B.geoid\n",
    "                    group by\n",
    "                        seed, plan, cnty, cd\n",
    "                    )\n",
    "                )\n",
    "            group by\n",
    "                seed, plan, cnty\n",
    "            )\n",
    "        )\n",
    "    )\n",
    "group by\n",
    "    seed, plan\n",
    "\"\"\"\n",
    "df = load_table(output, query=query)"
   ]
  },
  {
   "cell_type": "code",
   "execution_count": null,
   "id": "075b3630",
   "metadata": {},
   "outputs": [],
   "source": [
    "query = f\"\"\"\n",
    "select\n",
    "    *\n",
    "from\n",
    "    {output}\n",
    "\"\"\"\n",
    "df = run_query(query)"
   ]
  },
  {
   "cell_type": "code",
   "execution_count": null,
   "id": "2517a776",
   "metadata": {},
   "outputs": [],
   "source": []
  },
  {
   "cell_type": "code",
   "execution_count": null,
   "id": "3e4de729",
   "metadata": {},
   "outputs": [],
   "source": [
    "df['defect'].describe()"
   ]
  },
  {
   "cell_type": "code",
   "execution_count": null,
   "id": "8e7fc92c",
   "metadata": {},
   "outputs": [],
   "source": [
    "mask = df['']\n",
    "df['']"
   ]
  },
  {
   "cell_type": "code",
   "execution_count": null,
   "id": "064f78f6",
   "metadata": {},
   "outputs": [],
   "source": [
    "df.sort_values('whole')"
   ]
  },
  {
   "cell_type": "code",
   "execution_count": null,
   "id": "90fb0fae",
   "metadata": {},
   "outputs": [],
   "source": [
    "df[seats_col].sum()"
   ]
  },
  {
   "cell_type": "code",
   "execution_count": null,
   "id": "15810488",
   "metadata": {},
   "outputs": [],
   "source": [
    "pop = 29145505\n",
    "n = 38\n",
    "target_pop = pop / n\n",
    "results_old = 'cmat-315920.TX_2020_cntyvtd_cd.TX_2020_cntyvtd_cd_0000000_allresults_stack'\n",
    "assignments = 'cmat-315920.redistricting_data.assignments_TX_2020_tabblock'\n",
    "\n",
    "query = f\"\"\"\n",
    "select\n",
    "    seed,\n",
    "    plan,\n",
    "    cnty,\n",
    "    max(pop_deviation) as pop_deviation,\n",
    "    sum(whole) as whole\n",
    "from (    \n",
    "    select\n",
    "        *,\n",
    "        case when count(distinct cnty) over (partition by seed, plan, cd) = 1 then 1 else 0 end as whole\n",
    "    from (\n",
    "        select\n",
    "            seed,\n",
    "            plan,\n",
    "            cnty,\n",
    "            cd,\n",
    "            max(pop_deviation) as pop_deviation\n",
    "        from (\n",
    "            select\n",
    "                seed,\n",
    "                plan,\n",
    "                substring(geoid, 1, 3) as cnty,\n",
    "                cd,\n",
    "                geoid,\n",
    "                pop_imbalance_plan as pop_deviation\n",
    "            from\n",
    "                {results_old}\n",
    "            where\n",
    "                seed = 1126 and plan = 552\n",
    "            )\n",
    "        group by\n",
    "            seed, plan, cnty, cd\n",
    "        )\n",
    "    )\n",
    "group by\n",
    "    seed, plan, cnty\n",
    "\"\"\"\n",
    "\n",
    "df = run_query(query)\n",
    "#     count(*) over (partition byhash_plan,\n",
    "df"
   ]
  },
  {
   "cell_type": "code",
   "execution_count": null,
   "id": "1dd4da84",
   "metadata": {},
   "outputs": [],
   "source": [
    "f = f'nodes_TX_2020_tabblock_sldu_contract0'\n",
    "nodes_tbl = f'{proj_id}.redistricting_data.{f}'\n",
    "pq = root_path / f'redistricting_data/nodes/TX/{f}.parquet'\n",
    "pq.parent.mkdir(parents=True, exist_ok=True)\n",
    "q = f\"select * from {nodes_tbl}\"\n",
    "df = run_query(q)\n",
    "df.to_parquet(pq)\n",
    "to_gcs(pq)"
   ]
  },
  {
   "cell_type": "code",
   "execution_count": null,
   "id": "4ad9ac99",
   "metadata": {},
   "outputs": [],
   "source": [
    "f = f'nodes_TX_2020_tabblock_sldl_contract0'\n",
    "nodes_tbl = f'{proj_id}.redistricting_data.{f}'\n",
    "pq = root_path / f'redistricting_data/nodes/TX/{f}.parquet'\n",
    "pq.parent.mkdir(parents=True, exist_ok=True)\n",
    "q = f\"select * from {nodes_tbl}\"\n",
    "df = run_query(q)\n",
    "df.to_parquet(pq)\n",
    "to_gcs(pq)"
   ]
  }
 ],
 "metadata": {
  "kernelspec": {
   "display_name": "Python 3 (ipykernel)",
   "language": "python",
   "name": "python3"
  },
  "language_info": {
   "codemirror_mode": {
    "name": "ipython",
    "version": 3
   },
   "file_extension": ".py",
   "mimetype": "text/x-python",
   "name": "python",
   "nbconvert_exporter": "python",
   "pygments_lexer": "ipython3",
   "version": "3.7.10"
  }
 },
 "nbformat": 4,
 "nbformat_minor": 5
}
