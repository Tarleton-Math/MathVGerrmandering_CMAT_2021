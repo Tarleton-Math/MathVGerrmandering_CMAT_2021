{
 "cells": [
  {
   "cell_type": "code",
   "execution_count": null,
   "id": "cfbed9dd-816a-4183-abfa-d16ba7a9e2c6",
   "metadata": {
    "tags": []
   },
   "outputs": [],
   "source": [
    "%load_ext autoreload\n",
    "%autoreload\n",
    "%cd /home/jupyter/MathVGerrmandering_CMAT_2021/\n",
    "from src import *\n",
    "# from src.data import *\n",
    "from src.space import *\n",
    "from src.mcmc import *\n",
    "\n",
    "# https://dvr.capitol.texas.gov/\n",
    "level    = 'cntyvtd'\n",
    "# level    = 'tabblock'\n",
    "proposal = 'plans2168'  # for 2010 enacted, use 'planc2100' for US congress, 'plans2100' for TX Senate, or 'planh2100' for TX House\n",
    "contract = 0\n",
    "# contract = 'proposal'\n",
    "\n",
    "# D = Data(refresh_tbl=('proposals'))\n",
    "M = MCMC(level=level, proposal=proposal, contract=contract,\n",
    "         max_steps   = 0,\n",
    "         random_seed = 5,\n",
    "         defect_cap  = 100,\n",
    "         pop_deviation_target=10,\n",
    "         )\n",
    "# M.run_chain()\n",
    "# M.post_process()"
   ]
  },
  {
   "cell_type": "code",
   "execution_count": null,
   "id": "15f0989c-1124-4f0b-ae50-27a152387be8",
   "metadata": {},
   "outputs": [],
   "source": [
    "%load_ext autoreload\n",
    "%autoreload\n",
    "%cd /home/jupyter/MathVGerrmandering_CMAT_2021/\n",
    "from src.mcmc import *\n",
    "\n",
    "D = Data(refresh_tbl=('proposals'))"
   ]
  },
  {
   "cell_type": "code",
   "execution_count": 2,
   "id": "d2755b89-53f3-4f76-95e1-96b325c788f2",
   "metadata": {},
   "outputs": [
    {
     "data": {
      "text/plain": [
       "'hi00000000'"
      ]
     },
     "execution_count": 2,
     "metadata": {},
     "output_type": "execute_result"
    }
   ],
   "source": [
    "s = 'hi'\n",
    "s.ljust(10, '0')"
   ]
  },
  {
   "cell_type": "code",
   "execution_count": null,
   "id": "d32917c7-992c-4110-bfd5-309f772a6c6c",
   "metadata": {},
   "outputs": [],
   "source": [
    "%load_ext autoreload\n",
    "%autoreload\n",
    "%cd /home/jupyter/MathVGerrmandering_CMAT_2021/\n",
    "from src.mcmc import *\n",
    "\n",
    "def get_proposal_stats(proposal, level='tabblock', contract=0):\n",
    "    print(proposal)\n",
    "    M = MCMC(level=level, proposal=proposal, contract=contract)\n",
    "    print(proposal, M.defect, M.pop_deviation)\n",
    "    return M\n",
    "    \n",
    "for proposal in ['planc2193', 'plans2168', 'planh2316']:\n",
    "    M = get_proposal_stats(proposal, level='bg', contract=0)\n",
    "\n",
    "# D = Data(refresh_tbl=('proposals'))\n",
    "# df = read_table(f'{data_bq}.TX_2020_proposals')#.query('complete')\n",
    "# for i, row in df.iterrows():\n",
    "#     if row['district_type'] == 'cd' and int(row['proposal'][-4:])<=2100:\n",
    "#         M = get_proposal_stats(row['proposal'], level='tabblock', contract=0)\n",
    "#         df.loc[i, 'defect'] = M.defect\n",
    "#         df.loc[i, 'pop_deviation'] = M.pop_deviation"
   ]
  },
  {
   "cell_type": "code",
   "execution_count": null,
   "id": "e2349b5c-9f30-4b5d-8d36-164fb7d26f4d",
   "metadata": {
    "tags": []
   },
   "outputs": [],
   "source": [
    "try:\n",
    "    import pandas_bokeh\n",
    "except:\n",
    "    os.system('pip install --upgrade pandas-bokeh')\n",
    "    import pandas_bokeh\n",
    "pandas_bokeh.output_notebook()\n",
    "\n",
    "plan_cols = ['geoid', 'plan', 'district']\n",
    "query = f\"select {', '.join(plan_cols)} from {M.output}\"\n",
    "plans = run_query(query).pivot(index='geoid', columns='plan', values='district')\n",
    "repl = {c:str(c) for c in plans.columns}\n",
    "plans.rename(columns=repl, inplace=True)\n",
    "\n",
    "node_cols = ['geoid', 'polygon', 'county', 'total_pop', 'aland', 'density', 'polsby_popper']\n",
    "query = f\"select {', '.join(node_cols)} from {M.nodes}\"\n",
    "nodes = run_query(query).set_index('geoid')\n",
    "geo = gpd.GeoSeries.from_wkt(nodes['polygon'], crs=crs_census).simplify(0.003).buffer(0) #<-- little white space @ .001 ~5.7 mb, minimal at .0001 ~10mb, with no white space ~37mb"
   ]
  },
  {
   "cell_type": "code",
   "execution_count": null,
   "id": "c71c232a-5070-437d-8abd-d123dd1d3a56",
   "metadata": {
    "tags": []
   },
   "outputs": [],
   "source": [
    "recolor_seed = 10\n",
    "rng = np.random.default_rng(recolor_seed)\n",
    "recolor = dict(zip(M.districts, rng.permutation(M.districts)))\n",
    "gdf = gpd.GeoDataFrame(nodes\n",
    "                       .drop(columns='polygon')\n",
    "                       .join(plans.replace(recolor), how='inner')\n",
    "                       , geometry=geo).reset_index()"
   ]
  },
  {
   "cell_type": "code",
   "execution_count": null,
   "id": "60739d4a-8f48-4dbe-b4d6-52e345fb6e4d",
   "metadata": {
    "tags": []
   },
   "outputs": [],
   "source": [
    "width = 600\n",
    "xlim = [-106.2, -94.0]\n",
    "ylim = [ 25.4 ,  36.6]\n",
    "aspect = (ylim[1] - ylim[0]) / (xlim[1] - xlim[0])\n",
    "height = round(aspect * width)\n",
    "\n",
    "def f(cmap):\n",
    "    fn = str(M.gpickle)\n",
    "    fn = f'{fn[:fn.rfind(\"_\")]}_{M.random_seed}_animation_{cmap}.html'\n",
    "    print(f'cmap={cmap} ... saving animation to {fn}')\n",
    "    fig = gdf.plot_bokeh(\n",
    "        colormap = cmap,\n",
    "        hovertool_string = '@geoid, @county<br>pop=@total_pop<br>density=@density{0.0}<br>land=@aland{0.0}<br>pp=@polsby_popper{0.0}',\n",
    "        fill_alpha = 0.5,\n",
    "        line_alpha = 0.05,\n",
    "        return_html = True,\n",
    "        show_figure = True,\n",
    "        slider = list(repl.values()),\n",
    "        slider_name = \"PLAN\",\n",
    "        show_colorbar = False,\n",
    "        xlim = xlim,\n",
    "        ylim = ylim,\n",
    "        figsize = (width, height),\n",
    "    )\n",
    "    with open(fn, 'w') as file:\n",
    "        file.write(fig)\n",
    "    return fig\n",
    "\n",
    "f('Paired')\n",
    "\n",
    "# for cmap in ['Accent', 'Blues', 'Bokeh', 'BrBG', 'BuGn', 'BuPu', 'Category10', 'Category20', 'Category20b', 'Category20c',\n",
    "#              'Cividis', 'Colorblind', 'Dark2', 'GnBu', 'Greens', 'Greys', 'Inferno', 'Magma', 'OrRd', 'Oranges', 'PRGn',\n",
    "#              'Paired', 'Pastel1', 'Pastel2', 'PiYG', 'Plasma', 'PuBu', 'PuBuGn', 'PuOr', 'PuRd', 'Purples', 'RdBu', 'RdGy',\n",
    "#              'RdPu', 'RdYlBu', 'RdYlGn', 'Reds', 'Set1', 'Set2', 'Set3', 'Spectral', 'Turbo', 'Viridis', 'YlGn', 'YlGnBu',\n",
    "#              'YlOrBr', 'YlOrRd']:\n",
    "\n",
    "#     f(cmap)"
   ]
  },
  {
   "cell_type": "code",
   "execution_count": null,
   "id": "78def39e-9399-4507-9a37-cc850c35452d",
   "metadata": {},
   "outputs": [],
   "source": [
    "# P.sort_values('seats', ascending=False).to_csv('/home/jupyter/hi.csv')\n",
    "# P[P['seats']>0.1].sort_values().to_csv('/home/jupyter/hi.csv')\n",
    "A = P['seats']\n",
    "B = A[A>0.1].sort_values(ascending=False)\n",
    "B.to_frame()\n",
    "# .to_csv('/home/jupyter/hi.csv')"
   ]
  },
  {
   "cell_type": "code",
   "execution_count": null,
   "id": "7200f0d4-82a0-42eb-a912-5d9a6f104207",
   "metadata": {},
   "outputs": [],
   "source": [
    "P = pd.DataFrame({x:d for x, d in M.adj.nodes(data=True) if x in M.counties}).T[['seats']]\n",
    "S = P.copy()\n",
    "for c in range(11):\n",
    "    S[f'contract_{c}'] = S['seats'] < c /10\n",
    "S = S.drop(columns='seats')\n",
    "Q = pd.DataFrame()\n",
    "Q['not contracted'] = (~S).sum (axis=0)\n",
    "Q['contracted'] = S.sum (axis=0)\n",
    "Q['contracted_pct']   = np.round(S.mean(axis=0) * 100).astype(int)\n",
    "\n",
    "# Q = P.sum(axis=0).to_frame()\n",
    "# Q['pct']=\n",
    "Q\n",
    "# P.mean(axis=0)*100\n",
    "# P"
   ]
  },
  {
   "cell_type": "code",
   "execution_count": null,
   "id": "53f4d2ba-f34f-4451-a8ab-0289f9c21c3a",
   "metadata": {},
   "outputs": [],
   "source": [
    "county_pop = {x:d for x, d in M.adj.nodes(data='seats') if x in M.counties}\n",
    "P = list(county_pop.values())\n",
    "x = np.linspace(0,1,11)\n",
    "np.less.outer(P, x).shape\n",
    "# {pop:(county_pop.values()<pop).sum()*100 for pop in "
   ]
  },
  {
   "cell_type": "code",
   "execution_count": null,
   "id": "6c6ee379-5830-45cb-ac47-0cdb2561dacf",
   "metadata": {},
   "outputs": [],
   "source": [
    "[d for x, d in M.adj.nodes(data='seats') if x in M.counties]np.sort([d for x, d in M.adj.nodes(data='seats') if x in M.counties])\n",
    "np.histogram([d for x, d in M.adj.nodes(data='seats') if x in M.counties], np.linspace(0,1,11))"
   ]
  },
  {
   "cell_type": "code",
   "execution_count": null,
   "id": "f5a9d448-4231-41fa-a7ae-bbd323855d67",
   "metadata": {},
   "outputs": [],
   "source": [
    "from statsmodels.distributions.empirical_distribution import ECDF\n",
    "# pd.DataFrame({x:d for x, d in M.adj.nodes(data=True) if x in M.counties}).T['seats'].cumsum()\n",
    "([d for x, d in M.adj.nodes(data='seats') if x in M.counties])"
   ]
  },
  {
   "cell_type": "code",
   "execution_count": null,
   "id": "381496dd-a378-40a5-906b-15a266202d84",
   "metadata": {},
   "outputs": [],
   "source": [
    "e.y"
   ]
  }
 ],
 "metadata": {
  "kernelspec": {
   "display_name": "Python 3 (ipykernel)",
   "language": "python",
   "name": "python3"
  },
  "language_info": {
   "codemirror_mode": {
    "name": "ipython",
    "version": 3
   },
   "file_extension": ".py",
   "mimetype": "text/x-python",
   "name": "python",
   "nbconvert_exporter": "python",
   "pygments_lexer": "ipython3",
   "version": "3.7.10"
  }
 },
 "nbformat": 4,
 "nbformat_minor": 5
}
