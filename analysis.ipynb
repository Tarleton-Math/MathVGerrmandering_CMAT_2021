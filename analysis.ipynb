{
 "cells": [
  {
   "cell_type": "code",
   "execution_count": 1,
   "id": "a70733e1-3589-460e-a7d4-d2213a4d5029",
   "metadata": {},
   "outputs": [
    {
     "name": "stdout",
     "output_type": "stream",
     "text": [
      "/home/jupyter/MathVGerrmandering_CMAT_2021\n",
      "getting states\n",
      "Get crosswalks  ... using existing table ... success!\n",
      "Get assignments ... using existing table ... success!\n",
      "Get shapes      ... using existing table ... success!\n",
      "Get census      ... using existing table ... success!\n",
      "Get elections   ... using existing table ... success!\n",
      "Get countries   ... using existing table ... success!\n",
      "Get proposals   ... using existing table ... success!\n",
      "Get joined      ... using existing table ... success!\n",
      "Get tabblock    ... using existing table ... success!\n",
      "Get bg          ... using existing table ... success!\n",
      "Get tract       ... using existing table ... success!\n",
      "Get cntyvtd     ... using existing table ... success!\n",
      "Get cnty        ... using existing table ... success!\n",
      "Get all         ... using existing table ... success!\n",
      "Get proposal    ... using existing table ... success!\n",
      "Get nodes       ... using existing table ... success!\n",
      "Get districts   ... using existing table ... success!\n",
      "Get graph       ... processing ... using existing graph ... success!\n"
     ]
    }
   ],
   "source": [
    "%load_ext autoreload\n",
    "%autoreload\n",
    "%cd /home/jupyter/MathVGerrmandering_CMAT_2021/\n",
    "from src.mcmc import *\n",
    "level    = 'cntyvtd'\n",
    "proposal = 'plans2168'  # for 2010 enacted, use 'planc2100' for US congress, 'plans2100' for TX Senate, or 'planh2100' for TX House\n",
    "contract = 'proposal'\n",
    "M = MCMC(level=level, proposal=proposal, contract=contract, max_steps = 0)\n",
    "tbls = {x: M.tbls['hash'].replace('hash', f'final_{x}') for x in ['stats', 'plan', 'hashes', 'county', 'district', 'summary']}"
   ]
  },
  {
   "cell_type": "code",
   "execution_count": 2,
   "id": "ca5c8af4-6d4c-41de-802b-95e72868173f",
   "metadata": {},
   "outputs": [
    {
     "data": {
      "text/plain": [
       "325495"
      ]
     },
     "execution_count": 2,
     "metadata": {},
     "output_type": "execute_result"
    }
   ],
   "source": [
    "q = f\"select count(*) from (select distinct random_seed, plan from {tbls['stats']})\"\n",
    "ensemble_size = run_query(q).iloc[0][0]\n",
    "ensemble_size"
   ]
  },
  {
   "cell_type": "code",
   "execution_count": 4,
   "id": "206ad830-045a-4bfa-9a7f-c61c5cc39b2a",
   "metadata": {},
   "outputs": [
    {
     "data": {
      "text/plain": [
       "325495"
      ]
     },
     "execution_count": 4,
     "metadata": {},
     "output_type": "execute_result"
    }
   ],
   "source": [
    "q = f\"select count(*) from (select hash_plan plan from {tbls['hashes']})\"\n",
    "ensemble_size = run_query(q).iloc[0][0]\n",
    "ensemble_size"
   ]
  },
  {
   "cell_type": "code",
   "execution_count": 4,
   "id": "f0fe065e-9323-42e3-a6d2-d25896f10a2f",
   "metadata": {},
   "outputs": [
    {
     "data": {
      "text/html": [
       "<div>\n",
       "<style scoped>\n",
       "    .dataframe tbody tr th:only-of-type {\n",
       "        vertical-align: middle;\n",
       "    }\n",
       "\n",
       "    .dataframe tbody tr th {\n",
       "        vertical-align: top;\n",
       "    }\n",
       "\n",
       "    .dataframe thead th {\n",
       "        text-align: right;\n",
       "    }\n",
       "</style>\n",
       "<table border=\"1\" class=\"dataframe\">\n",
       "  <thead>\n",
       "    <tr style=\"text-align: right;\">\n",
       "      <th></th>\n",
       "      <th>random_seed</th>\n",
       "      <th>plan</th>\n",
       "      <th>hash_plan</th>\n",
       "    </tr>\n",
       "  </thead>\n",
       "  <tbody>\n",
       "    <tr>\n",
       "      <th>0</th>\n",
       "      <td>1005</td>\n",
       "      <td>0</td>\n",
       "      <td>-3671201977612316089</td>\n",
       "    </tr>\n",
       "  </tbody>\n",
       "</table>\n",
       "</div>"
      ],
      "text/plain": [
       "   random_seed  plan            hash_plan\n",
       "0         1005     0 -3671201977612316089"
      ]
     },
     "execution_count": 4,
     "metadata": {},
     "output_type": "execute_result"
    }
   ],
   "source": [
    "q = f\"select  from {tbls['hashes']} where plan=0\"\n",
    "run_query(q)"
   ]
  },
  {
   "cell_type": "code",
   "execution_count": null,
   "id": "53bc8f29-493b-4b72-b421-24dce903f07d",
   "metadata": {},
   "outputs": [],
   "source": [
    "q = f\"select random_seed, plan from {tbls['stats']} where plan=0\"\n",
    "run_query(q)"
   ]
  },
  {
   "cell_type": "code",
   "execution_count": null,
   "id": "0f4095c8-cb55-4dd5-b900-e305661f0833",
   "metadata": {},
   "outputs": [
    {
     "name": "stdout",
     "output_type": "stream",
     "text": [
      "seed 1000 failed\n",
      "seed 1001 failed\n",
      "seed 1002 failed\n",
      "seed 1003 failed\n",
      "seed 1004 failed\n",
      "seed 1005 shows -3671201977612316089\n",
      "seed 1006 shows -3671201977612316089\n",
      "seed 1007 shows -3671201977612316089\n",
      "seed 1008 shows -3671201977612316089\n",
      "seed 1009 shows -3671201977612316089\n",
      "seed 1010 shows -3671201977612316089\n",
      "seed 1011 shows -3671201977612316089\n",
      "seed 1012 shows -3671201977612316089\n",
      "seed 1013 shows -3671201977612316089\n",
      "seed 1014 shows -3671201977612316089\n",
      "seed 1015 shows -3671201977612316089\n",
      "seed 1016 shows -3671201977612316089\n",
      "seed 1017 shows -3671201977612316089\n",
      "seed 1018 shows -3671201977612316089\n",
      "seed 1019 shows -3671201977612316089\n",
      "seed 1020 shows -3671201977612316089\n",
      "seed 1021 shows -3671201977612316089\n",
      "seed 1022 shows -3671201977612316089\n",
      "seed 1023 shows -3671201977612316089\n",
      "seed 1024 shows -3671201977612316089\n",
      "seed 1025 shows -3671201977612316089\n",
      "seed 1026 shows -3671201977612316089\n",
      "seed 1027 shows -3671201977612316089\n",
      "seed 1028 shows -3671201977612316089\n",
      "seed 1029 shows -3671201977612316089\n",
      "seed 1030 shows -3671201977612316089\n",
      "seed 1031 shows -3671201977612316089\n",
      "seed 1032 shows -3671201977612316089\n",
      "seed 1033 shows -3671201977612316089\n",
      "seed 1034 shows -3671201977612316089\n",
      "seed 1035 shows -3671201977612316089\n",
      "seed 1036 shows -3671201977612316089\n",
      "seed 1037 failed\n",
      "seed 1038 shows -3671201977612316089\n",
      "seed 1039 shows -3671201977612316089\n",
      "seed 1040 failed\n",
      "seed 1041 failed\n",
      "seed 1042 failed\n",
      "seed 1043 failed\n"
     ]
    }
   ],
   "source": [
    "for seed in range(1000, 1080):\n",
    "    q = f\"SELECT A.hash FROM `cmat-315920.TX_2020_sldu_plans2168.cntyvtd_proposal_{seed}_summary` as A where plan=0\"\n",
    "    try:\n",
    "        w = run_query(q).iloc[0][0]\n",
    "        print(f'seed {seed} shows {w}')\n",
    "    except:\n",
    "        print(f'seed {seed} failed')"
   ]
  }
 ],
 "metadata": {
  "kernelspec": {
   "display_name": "Python 3 (ipykernel)",
   "language": "python",
   "name": "python3"
  },
  "language_info": {
   "codemirror_mode": {
    "name": "ipython",
    "version": 3
   },
   "file_extension": ".py",
   "mimetype": "text/x-python",
   "name": "python",
   "nbconvert_exporter": "python",
   "pygments_lexer": "ipython3",
   "version": "3.7.10"
  }
 },
 "nbformat": 4,
 "nbformat_minor": 5
}
