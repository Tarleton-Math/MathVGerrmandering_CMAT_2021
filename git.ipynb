{
 "cells": [
  {
   "cell_type": "code",
   "execution_count": 5,
   "id": "unique-decline",
   "metadata": {},
   "outputs": [
    {
     "name": "stdout",
     "output_type": "stream",
     "text": [
      "# github.com:22 SSH-2.0-babeld-4cec2db4\n",
      "# github.com:22 SSH-2.0-babeld-4cec2db4\n",
      "# github.com:22 SSH-2.0-babeld-4cec2db4\n"
     ]
    }
   ],
   "source": [
    "your_username = \"Tarleton-Math\"\n",
    "your_email = \"scook@tarleton.edu\"\n",
    "\n",
    "repo_name = \"MathVGerrmandering_CMAT_2021\"\n",
    "your_repo_ssh = f\"git@github.com:{your_username}/{repo_name}.git\"\n",
    "# root = \"/home/jupyter\"\n",
    "# ! ssh-keyscan github.com >> ~/.ssh/known_hosts\n",
    "# ! eval \"$(ssh-agent -s)\"\n",
    "# ! ssh-add ~/.ssh/id_ed25519"
   ]
  },
  {
   "cell_type": "code",
   "execution_count": 3,
   "id": "becoming-thickness",
   "metadata": {},
   "outputs": [
    {
     "name": "stdout",
     "output_type": "stream",
     "text": [
      "/home/jupyter\n",
      "Cloning into 'Cooks_repo'...\n",
      "remote: Enumerating objects: 117, done.\u001b[K\n",
      "remote: Counting objects: 100% (117/117), done.\u001b[K\n",
      "remote: Compressing objects: 100% (80/80), done.\u001b[K\n",
      "remote: Total 117 (delta 61), reused 78 (delta 31), pack-reused 0\u001b[K\n",
      "Receiving objects: 100% (117/117), 4.51 MiB | 12.03 MiB/s, done.\n",
      "Resolving deltas: 100% (61/61), done.\n"
     ]
    }
   ],
   "source": [
    "# clone Cook's repo - deletes everying and pulls new copy\n",
    "# do this frequently to get updated code from me\n",
    "\n",
    "%cd {root}\n",
    "! rm -rf Cooks_repo\n",
    "! git clone https://github.com/Tarleton-Math/MathVGerrmandering_CMAT_2021.git Cooks_repo"
   ]
  },
  {
   "cell_type": "code",
   "execution_count": 4,
   "id": "rapid-treasurer",
   "metadata": {},
   "outputs": [
    {
     "name": "stdout",
     "output_type": "stream",
     "text": [
      "/home/jupyter\n",
      "Cloning into 'MathVGerrmandering_CMAT_2021'...\n",
      "Warning: Permanently added the RSA host key for IP address '140.82.112.4' to the list of known hosts.\n",
      "remote: Enumerating objects: 110, done.\u001b[K\n",
      "remote: Counting objects: 100% (110/110), done.\u001b[K\n",
      "remote: Compressing objects: 100% (75/75), done.\u001b[K\n",
      "remote: Total 110 (delta 57), reused 73 (delta 29), pack-reused 0\u001b[K\n",
      "Receiving objects: 100% (110/110), 4.51 MiB | 11.35 MiB/s, done.\n",
      "Resolving deltas: 100% (57/57), done.\n"
     ]
    }
   ],
   "source": [
    "# clone your repo - deletes everying and pulls new copy\n",
    "# DONT DO THIS UNLESS YOU ARE SURE - deletes all your changes that have not been pushed to remote\n",
    "\n",
    "# %cd {root}\n",
    "# ! rm -rf {repo_name}\n",
    "# ! git clone {your_repo_ssh}"
   ]
  },
  {
   "cell_type": "code",
   "execution_count": 12,
   "id": "instrumental-kingdom",
   "metadata": {},
   "outputs": [
    {
     "name": "stdout",
     "output_type": "stream",
     "text": [
      "/home/jupyter/MathVGerrmandering_CMAT_2021\n",
      "Already up to date.\n"
     ]
    }
   ],
   "source": [
    "# pull your repo\n",
    "# Do this frequently to keep local and remote in synch\n",
    "%cd {root}/{repo_name}\n",
    "! git pull"
   ]
  },
  {
   "cell_type": "code",
   "execution_count": 6,
   "id": "assigned-footage",
   "metadata": {},
   "outputs": [
    {
     "name": "stdout",
     "output_type": "stream",
     "text": [
      "/home/jupyter/MathVGerrmandering_CMAT_2021\n",
      "[main 2980ca9] commiting\n",
      " 2 files changed, 90 insertions(+), 33 deletions(-)\n",
      "Warning: Permanently added the RSA host key for IP address '140.82.114.4' to the list of known hosts.\n",
      "Already up to date.\n",
      "Warning: Permanently added the RSA host key for IP address '140.82.113.3' to the list of known hosts.\n",
      "Counting objects: 4, done.\n",
      "Delta compression using up to 2 threads.\n",
      "Compressing objects: 100% (4/4), done.\n",
      "Writing objects: 100% (4/4), 1.43 KiB | 1.43 MiB/s, done.\n",
      "Total 4 (delta 3), reused 0 (delta 0)\n",
      "remote: Resolving deltas: 100% (3/3), completed with 3 local objects.\u001b[K\n",
      "To github.com:Tarleton-Math/MathVGerrmandering_CMAT_2021.git\n",
      "   61da94e..2980ca9  main -> main\n"
     ]
    }
   ],
   "source": [
    "# push your repo\n",
    "# Do this frequently to keep local and remote in synch\n",
    "%cd {root}/{repo_name}\n",
    "! git config user.email {your_email}\n",
    "! git config user.nameemail {your_username}\n",
    "! git add *\n",
    "! git commit -a -m \"commiting\"\n",
    "! git pull\n",
    "! git push"
   ]
  }
 ],
 "metadata": {
  "kernelspec": {
   "display_name": "Python 3",
   "language": "python",
   "name": "python3"
  },
  "language_info": {
   "codemirror_mode": {
    "name": "ipython",
    "version": 3
   },
   "file_extension": ".py",
   "mimetype": "text/x-python",
   "name": "python",
   "nbconvert_exporter": "python",
   "pygments_lexer": "ipython3",
   "version": "3.7.10"
  }
 },
 "nbformat": 4,
 "nbformat_minor": 5
}
