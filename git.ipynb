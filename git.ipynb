{
 "cells": [
  {
   "cell_type": "code",
   "execution_count": 1,
   "id": "alpine-supplement",
   "metadata": {},
   "outputs": [
    {
     "name": "stdout",
     "output_type": "stream",
     "text": [
      "/home/jupyter\n",
      "# github.com:22 SSH-2.0-babeld-4cec2db4\n",
      "# github.com:22 SSH-2.0-babeld-4cec2db4\n",
      "# github.com:22 SSH-2.0-babeld-4cec2db4\n",
      "Agent pid 2839\n",
      "Identity added: /root/.ssh/id_ed25519 (scook@tarleton.edu)\n"
     ]
    }
   ],
   "source": [
    "your_username = \"Tarleton-Math\"\n",
    "your_email = \"scook@tarleton.edu\"\n",
    "\n",
    "repo_name = \"MathVGerrmandering_CMAT_2021\"\n",
    "your_repo_ssh = f\"git@github.com:{your_username}/{repo_name}.git\"\n",
    "root = \"/home/jupyter\"\n",
    "%cd {root}\n",
    "! rm -rf ~/.ssh\n",
    "! mkdir ~/.ssh\n",
    "# ! cp id_ed25519.pub ~/.ssh\n",
    "! cp id_ed25519 ~/.ssh\n",
    "! ssh-keyscan github.com >> ~/.ssh/known_hosts\n",
    "! eval \"$(ssh-agent -s)\" ssh-add ~/.ssh/id_ed25519\n",
    "\n",
    "def hard_pull(url, dir):\n",
    "    %cd {root}\n",
    "    ! git clone {url} {dir}\n",
    "    %cd {dir}\n",
    "    ! git fetch\n",
    "    ! git reset --hard\n",
    "    ! git merge"
   ]
  },
  {
   "cell_type": "code",
   "execution_count": 3,
   "id": "painful-aviation",
   "metadata": {},
   "outputs": [
    {
     "name": "stdout",
     "output_type": "stream",
     "text": [
      "/home/jupyter\n",
      "fatal: destination path 'Cooks_repo' already exists and is not an empty directory.\n",
      "/home/jupyter/Cooks_repo\n",
      "HEAD is now at d76f8eb commiting\n",
      "Already up to date.\n"
     ]
    }
   ],
   "source": [
    "# clone Cook's repo - deletes everying and pulls new copy\n",
    "# do this frequently to get updated code from me\n",
    "hard_pull('https://github.com/Tarleton-Math/MathVGerrmandering_CMAT_2021.git', 'Cooks_repo')\n",
    "\n",
    "\n",
    "# clone your repo - deletes everying and pulls new copy\n",
    "# DONT DO THIS UNLESS YOU ARE SURE - deletes all your changes that have not been pushed to remote\n",
    "hard_pull(your_repo_ssh, repo_name)"
   ]
  },
  {
   "cell_type": "code",
   "execution_count": 10,
   "id": "stone-liberal",
   "metadata": {},
   "outputs": [
    {
     "name": "stdout",
     "output_type": "stream",
     "text": [
      "/home/jupyter/MathVGerrmandering_CMAT_2021\n",
      "Already up to date.\n"
     ]
    }
   ],
   "source": [
    "# pull your repo\n",
    "# Do this frequently to keep local and remote in synch\n",
    "%cd {root}/{repo_name}\n",
    "! git pull"
   ]
  },
  {
   "cell_type": "code",
   "execution_count": 13,
   "id": "designed-fairy",
   "metadata": {},
   "outputs": [
    {
     "name": "stdout",
     "output_type": "stream",
     "text": [
      "/home/jupyter/MathVGerrmandering_CMAT_2021\n",
      "[main d76f8eb] commiting\n",
      " 1 file changed, 42 insertions(+), 36 deletions(-)\n",
      "Already up to date.\n",
      "Counting objects: 3, done.\n",
      "Delta compression using up to 2 threads.\n",
      "Compressing objects: 100% (3/3), done.\n",
      "Writing objects: 100% (3/3), 815 bytes | 815.00 KiB/s, done.\n",
      "Total 3 (delta 2), reused 0 (delta 0)\n",
      "remote: Resolving deltas: 100% (2/2), completed with 2 local objects.\u001b[K\n",
      "To github.com:Tarleton-Math/MathVGerrmandering_CMAT_2021.git\n",
      "   1955e59..d76f8eb  main -> main\n"
     ]
    }
   ],
   "source": [
    "# push your repo\n",
    "# Do this frequently to keep local and remote in synch\n",
    "%cd {root}/{repo_name}\n",
    "! git config user.email {your_email}\n",
    "! git config user.nameemail {your_username}\n",
    "! git add *\n",
    "! git commit -a -m \"commiting\"\n",
    "! git pull\n",
    "! git push"
   ]
  }
 ],
 "metadata": {
  "kernelspec": {
   "display_name": "Python 3",
   "language": "python",
   "name": "python3"
  },
  "language_info": {
   "codemirror_mode": {
    "name": "ipython",
    "version": 3
   },
   "file_extension": ".py",
   "mimetype": "text/x-python",
   "name": "python",
   "nbconvert_exporter": "python",
   "pygments_lexer": "ipython3",
   "version": "3.7.10"
  }
 },
 "nbformat": 4,
 "nbformat_minor": 5
}
