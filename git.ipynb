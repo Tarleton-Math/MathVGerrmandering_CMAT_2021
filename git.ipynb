{
 "cells": [
  {
   "cell_type": "code",
   "execution_count": 8,
   "id": "nutritional-mechanics",
   "metadata": {},
   "outputs": [
    {
     "name": "stdout",
     "output_type": "stream",
     "text": [
      "/home/jupyter\n",
      "mkdir: cannot create directory ‘/root/.ssh’: File exists\n",
      "# github.com:22 SSH-2.0-babeld-4cec2db4\n",
      "# github.com:22 SSH-2.0-babeld-4cec2db4\n",
      "# github.com:22 SSH-2.0-babeld-4cec2db4\n",
      "Agent pid 435\n",
      "Identity added: /root/.ssh/id_ed25519 (scook@tarleton.edu)\n"
     ]
    }
   ],
   "source": [
    "your_username = \"Tarleton-Math\"\n",
    "your_email = \"scook@tarleton.edu\"\n",
    "\n",
    "repo_name = \"MathVGerrmandering_CMAT_2021\"\n",
    "your_repo_ssh = f\"git@github.com:{your_username}/{repo_name}.git\"\n",
    "root = \"/home/jupyter\"\n",
    "%cd {root}\n",
    "! mkdir ~/.ssh\n",
    "# ! cp id_ed25519.pub ~/.ssh\n",
    "! cp id_ed25519 ~/.ssh\n",
    "! ssh-keyscan github.com >> ~/.ssh/known_hosts\n",
    "! eval \"$(ssh-agent -s)\" ssh-add ~/.ssh/id_ed25519"
   ]
  },
  {
   "cell_type": "code",
   "execution_count": 5,
   "id": "backed-being",
   "metadata": {},
   "outputs": [
    {
     "name": "stdout",
     "output_type": "stream",
     "text": [
      "/home/jupyter\n",
      "Cloning into 'Cooks_repo'...\n",
      "remote: Enumerating objects: 124, done.\u001b[K\n",
      "remote: Counting objects: 100% (124/124), done.\u001b[K\n",
      "remote: Compressing objects: 100% (84/84), done.\u001b[K\n",
      "remote: Total 124 (delta 66), reused 83 (delta 34), pack-reused 0\u001b[K\n",
      "Receiving objects: 100% (124/124), 4.51 MiB | 13.55 MiB/s, done.\n",
      "Resolving deltas: 100% (66/66), done.\n"
     ]
    }
   ],
   "source": [
    "# clone Cook's repo - deletes everying and pulls new copy\n",
    "# do this frequently to get updated code from me\n",
    "\n",
    "%cd {root}\n",
    "! rm -rf Cooks_repo\n",
    "! git clone https://github.com/Tarleton-Math/MathVGerrmandering_CMAT_2021.git Cooks_repo"
   ]
  },
  {
   "cell_type": "code",
   "execution_count": 9,
   "id": "neural-lover",
   "metadata": {},
   "outputs": [
    {
     "name": "stdout",
     "output_type": "stream",
     "text": [
      "/home/jupyter\n",
      "Cloning into 'MathVGerrmandering_CMAT_2021'...\n",
      "Warning: Permanently added the RSA host key for IP address '140.82.113.3' to the list of known hosts.\n",
      "remote: Enumerating objects: 124, done.\u001b[K\n",
      "remote: Counting objects: 100% (124/124), done.\u001b[K\n",
      "remote: Compressing objects: 100% (84/84), done.\u001b[K\n",
      "remote: Total 124 (delta 66), reused 83 (delta 34), pack-reused 0\u001b[K\n",
      "Receiving objects: 100% (124/124), 4.51 MiB | 11.16 MiB/s, done.\n",
      "Resolving deltas: 100% (66/66), done.\n"
     ]
    }
   ],
   "source": [
    "# clone your repo - deletes everying and pulls new copy\n",
    "# DONT DO THIS UNLESS YOU ARE SURE - deletes all your changes that have not been pushed to remote\n",
    "\n",
    "# %cd {root}\n",
    "# ! rm -rf {repo_name}\n",
    "# ! git clone {your_repo_ssh}"
   ]
  },
  {
   "cell_type": "code",
   "execution_count": 10,
   "id": "serious-jefferson",
   "metadata": {},
   "outputs": [
    {
     "name": "stdout",
     "output_type": "stream",
     "text": [
      "/home/jupyter/MathVGerrmandering_CMAT_2021\n",
      "Already up to date.\n"
     ]
    }
   ],
   "source": [
    "# pull your repo\n",
    "# Do this frequently to keep local and remote in synch\n",
    "%cd {root}/{repo_name}\n",
    "! git pull"
   ]
  },
  {
   "cell_type": "code",
   "execution_count": 12,
   "id": "painful-identity",
   "metadata": {},
   "outputs": [
    {
     "name": "stdout",
     "output_type": "stream",
     "text": [
      "/home/jupyter/MathVGerrmandering_CMAT_2021\n",
      "[main 1955e59] commiting\n",
      " 2 files changed, 2 insertions(+), 2 deletions(-)\n",
      "Warning: Permanently added the RSA host key for IP address '140.82.114.4' to the list of known hosts.\n",
      "Already up to date.\n",
      "Counting objects: 4, done.\n",
      "Delta compression using up to 2 threads.\n",
      "Compressing objects: 100% (3/3), done.\n",
      "Writing objects: 100% (4/4), 373 bytes | 373.00 KiB/s, done.\n",
      "Total 4 (delta 2), reused 1 (delta 0)\n",
      "remote: Resolving deltas: 100% (2/2), completed with 2 local objects.\u001b[K\n",
      "To github.com:Tarleton-Math/MathVGerrmandering_CMAT_2021.git\n",
      "   b76058f..1955e59  main -> main\n"
     ]
    }
   ],
   "source": [
    "# push your repo\n",
    "# Do this frequently to keep local and remote in synch\n",
    "%cd {root}/{repo_name}\n",
    "! git config user.email {your_email}\n",
    "! git config user.nameemail {your_username}\n",
    "! git add *\n",
    "! git commit -a -m \"commiting\"\n",
    "! git pull\n",
    "! git push"
   ]
  }
 ],
 "metadata": {
  "kernelspec": {
   "display_name": "Python 3",
   "language": "python",
   "name": "python3"
  },
  "language_info": {
   "codemirror_mode": {
    "name": "ipython",
    "version": 3
   },
   "file_extension": ".py",
   "mimetype": "text/x-python",
   "name": "python",
   "nbconvert_exporter": "python",
   "pygments_lexer": "ipython3",
   "version": "3.7.10"
  }
 },
 "nbformat": 4,
 "nbformat_minor": 5
}
