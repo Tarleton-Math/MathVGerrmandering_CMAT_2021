{
 "cells": [
  {
   "cell_type": "code",
   "execution_count": 5,
   "id": "applicable-wings",
   "metadata": {},
   "outputs": [
    {
     "name": "stdout",
     "output_type": "stream",
     "text": [
      "# github.com:22 SSH-2.0-babeld-4cec2db4\n",
      "# github.com:22 SSH-2.0-babeld-4cec2db4\n",
      "# github.com:22 SSH-2.0-babeld-4cec2db4\n"
     ]
    }
   ],
   "source": [
    "your_username = \"Tarleton-Math\"\n",
    "your_email = \"scook@tarleton.edu\"\n",
    "\n",
    "repo_name = \"MathVGerrmandering_CMAT_2021\"\n",
    "your_repo_ssh = f\"git@github.com:{your_username}/{repo_name}.git\"\n",
    "root = \"/home/jupyter\"\n",
    "! ssh-keyscan github.com >> ~/.ssh/known_hosts\n",
    "# ! eval \"$(ssh-agent -s)\"\n",
    "# ! ssh-add ~/.ssh/id_ed25519"
   ]
  },
  {
   "cell_type": "code",
   "execution_count": 3,
   "id": "internal-banner",
   "metadata": {},
   "outputs": [
    {
     "name": "stdout",
     "output_type": "stream",
     "text": [
      "/home/jupyter\n",
      "Cloning into 'Cooks_repo'...\n",
      "remote: Enumerating objects: 117, done.\u001b[K\n",
      "remote: Counting objects: 100% (117/117), done.\u001b[K\n",
      "remote: Compressing objects: 100% (80/80), done.\u001b[K\n",
      "remote: Total 117 (delta 61), reused 78 (delta 31), pack-reused 0\u001b[K\n",
      "Receiving objects: 100% (117/117), 4.51 MiB | 12.03 MiB/s, done.\n",
      "Resolving deltas: 100% (61/61), done.\n"
     ]
    }
   ],
   "source": [
    "# clone Cook's repo - deletes everying and pulls new copy\n",
    "# do this frequently to get updated code from me\n",
    "\n",
    "%cd {root}\n",
    "! rm -rf Cooks_repo\n",
    "! git clone https://github.com/Tarleton-Math/MathVGerrmandering_CMAT_2021.git Cooks_repo"
   ]
  },
  {
   "cell_type": "code",
   "execution_count": 4,
   "id": "specified-indiana",
   "metadata": {},
   "outputs": [
    {
     "name": "stdout",
     "output_type": "stream",
     "text": [
      "/home/jupyter\n",
      "Cloning into 'MathVGerrmandering_CMAT_2021'...\n",
      "Warning: Permanently added the RSA host key for IP address '140.82.112.4' to the list of known hosts.\n",
      "remote: Enumerating objects: 110, done.\u001b[K\n",
      "remote: Counting objects: 100% (110/110), done.\u001b[K\n",
      "remote: Compressing objects: 100% (75/75), done.\u001b[K\n",
      "remote: Total 110 (delta 57), reused 73 (delta 29), pack-reused 0\u001b[K\n",
      "Receiving objects: 100% (110/110), 4.51 MiB | 11.35 MiB/s, done.\n",
      "Resolving deltas: 100% (57/57), done.\n"
     ]
    }
   ],
   "source": [
    "# clone your repo - deletes everying and pulls new copy\n",
    "# DONT DO THIS UNLESS YOU ARE SURE - deletes all your changes that have not been pushed to remote\n",
    "\n",
    "# %cd {root}\n",
    "# ! rm -rf {repo_name}\n",
    "# ! git clone {your_repo_ssh}"
   ]
  },
  {
   "cell_type": "code",
   "execution_count": 12,
   "id": "economic-salon",
   "metadata": {},
   "outputs": [
    {
     "name": "stdout",
     "output_type": "stream",
     "text": [
      "/home/jupyter/MathVGerrmandering_CMAT_2021\n",
      "Already up to date.\n"
     ]
    }
   ],
   "source": [
    "# pull your repo\n",
    "# Do this frequently to keep local and remote in synch\n",
    "%cd {root}/{repo_name}\n",
    "! git pull"
   ]
  },
  {
   "cell_type": "code",
   "execution_count": 2,
   "id": "dirty-tennis",
   "metadata": {},
   "outputs": [
    {
     "name": "stdout",
     "output_type": "stream",
     "text": [
      "/home/jupyter/MathVGerrmandering_CMAT_2021\n",
      "[main 61da94e] commiting\n",
      " 4 files changed, 14 insertions(+), 451 deletions(-)\n",
      " delete mode 100644 git.md\n",
      "Already up to date.\n",
      "Counting objects: 5, done.\n",
      "Delta compression using up to 2 threads.\n",
      "Compressing objects: 100% (4/4), done.\n",
      "Writing objects: 100% (5/5), 768 bytes | 768.00 KiB/s, done.\n",
      "Total 5 (delta 2), reused 1 (delta 0)\n",
      "remote: Resolving deltas: 100% (2/2), completed with 2 local objects.\u001b[K\n",
      "To github.com:Tarleton-Math/MathVGerrmandering_CMAT_2021.git\n",
      "   7740c63..61da94e  main -> main\n"
     ]
    }
   ],
   "source": [
    "# push your repo\n",
    "# Do this frequently to keep local and remote in synch\n",
    "%cd {root}/{repo_name}\n",
    "! git config user.email {your_email}\n",
    "! git config user.nameemail {your_username}\n",
    "! git add *\n",
    "! git commit -a -m \"commiting\"\n",
    "! git pull\n",
    "! git push"
   ]
  }
 ],
 "metadata": {
  "kernelspec": {
   "display_name": "Python 3",
   "language": "python",
   "name": "python3"
  },
  "language_info": {
   "codemirror_mode": {
    "name": "ipython",
    "version": 3
   },
   "file_extension": ".py",
   "mimetype": "text/x-python",
   "name": "python",
   "nbconvert_exporter": "python",
   "pygments_lexer": "ipython3",
   "version": "3.7.10"
  }
 },
 "nbformat": 4,
 "nbformat_minor": 5
}
