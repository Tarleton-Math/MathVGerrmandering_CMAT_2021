{
 "cells": [
  {
   "cell_type": "code",
   "execution_count": 25,
   "id": "intellectual-router",
   "metadata": {},
   "outputs": [],
   "source": [
    "your_username = \"Tarleton-Math\"\n",
    "your_email = \"scook@tarleton.edu\"\n",
    "\n",
    "repo_name = \"MathVGerrmandering_CMAT_2021\"\n",
    "your_repo_ssh = f\"git@github.com:{your_username}/{repo_name}.git\"\n",
    "root = \"/home/jupyter\""
   ]
  },
  {
   "cell_type": "code",
   "execution_count": 20,
   "id": "bronze-contrast",
   "metadata": {},
   "outputs": [
    {
     "name": "stdout",
     "output_type": "stream",
     "text": [
      "/home/jupyter\n",
      "Cloning into 'Cooks_repo'...\n",
      "remote: Enumerating objects: 107, done.\u001b[K\n",
      "remote: Counting objects: 100% (107/107), done.\u001b[K\n",
      "remote: Compressing objects: 100% (72/72), done.\u001b[K\n",
      "remote: Total 107 (delta 56), reused 71 (delta 29), pack-reused 0\u001b[K\n",
      "Receiving objects: 100% (107/107), 4.51 MiB | 14.21 MiB/s, done.\n",
      "Resolving deltas: 100% (56/56), done.\n"
     ]
    }
   ],
   "source": [
    "# get Cook's repo - deletes everying in Cooks_repo and pull new copy\n",
    "%cd {root}\n",
    "! rm -rf Cooks_repo\n",
    "! git clone https://github.com/Tarleton-Math/MathVGerrmandering_CMAT_2021.git Cooks_repo"
   ]
  },
  {
   "cell_type": "code",
   "execution_count": null,
   "id": "alpine-cologne",
   "metadata": {},
   "outputs": [],
   "source": [
    "# inital clone of your repo\n",
    "%cd {root}\n",
    "! git clone {your_repo_ssh}"
   ]
  },
  {
   "cell_type": "code",
   "execution_count": 24,
   "id": "willing-inclusion",
   "metadata": {},
   "outputs": [
    {
     "name": "stdout",
     "output_type": "stream",
     "text": [
      "/home/jupyter/MathVGerrmandering_CMAT_2021\n",
      "Warning: Permanently added the RSA host key for IP address '140.82.114.4' to the list of known hosts.\n",
      "Already up to date.\n"
     ]
    }
   ],
   "source": [
    "# pull your repo\n",
    "%cd {root}/{repo_name}\n",
    "! git pull"
   ]
  },
  {
   "cell_type": "code",
   "execution_count": null,
   "id": "modular-saturn",
   "metadata": {},
   "outputs": [],
   "source": [
    "# push your repo\n",
    "%cd {root}/{repo_name}\n",
    "! git add *\n",
    "! git commit -a -m \"commiting\"\n",
    "! git pull\n",
    "! git push"
   ]
  }
 ],
 "metadata": {
  "kernelspec": {
   "display_name": "Python 3",
   "language": "python",
   "name": "python3"
  },
  "language_info": {
   "codemirror_mode": {
    "name": "ipython",
    "version": 3
   },
   "file_extension": ".py",
   "mimetype": "text/x-python",
   "name": "python",
   "nbconvert_exporter": "python",
   "pygments_lexer": "ipython3",
   "version": "3.7.10"
  }
 },
 "nbformat": 4,
 "nbformat_minor": 5
}
