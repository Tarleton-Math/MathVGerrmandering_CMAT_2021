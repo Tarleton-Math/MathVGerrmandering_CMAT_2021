{
 "cells": [
  {
   "cell_type": "code",
   "execution_count": null,
   "id": "competent-breakfast",
   "metadata": {},
   "outputs": [],
   "source": [
    "your_username = \"Tarleton-Math\"\n",
    "your_email = \"scook@tarleton.edu\"\n",
    "\n",
    "repo_name = \"MathVGerrmandering_CMAT_2021\"\n",
    "your_repo_ssh = f\"git@github.com:{your_username}/{repo_name}.git\"\n",
    "root = \"/home/jupyter\"\n",
    "%cd {root}\n",
    "! rm -rf ~/.ssh\n",
    "! mkdir ~/.ssh\n",
    "# ! cp id_ed25519.pub ~/.ssh\n",
    "! cp id_ed25519 ~/.ssh\n",
    "! ssh-keyscan github.com >> ~/.ssh/known_hosts\n",
    "! eval \"$(ssh-agent -s)\" ssh-add ~/.ssh/id_ed25519\n",
    "\n",
    "def hard_pull(url, dir):\n",
    "    %cd {root}\n",
    "    ! rm -rf {dir}\n",
    "    ! git clone {url} {dir}\n",
    "    %cd {dir}\n",
    "    ! git fetch\n",
    "    ! git reset --hard\n",
    "    ! git merge"
   ]
  },
  {
   "cell_type": "code",
   "execution_count": null,
   "id": "serious-necessity",
   "metadata": {},
   "outputs": [],
   "source": [
    "# clone Cook's repo - deletes everying and pulls new copy\n",
    "# do this frequently to get updated code from me\n",
    "\n",
    "hard_pull('https://github.com/Tarleton-Math/MathVGerrmandering_CMAT_2021.git', 'Cooks_repo')\n",
    "\n",
    "# clone your repo - deletes everying and pulls new copy\n",
    "# DONT DO THIS UNLESS YOU ARE SURE - deletes all your changes that have not been pushed to remote\n",
    "\n",
    "# hard_pull(your_repo_ssh, repo_name)"
   ]
  },
  {
   "cell_type": "code",
   "execution_count": null,
   "id": "norman-acoustic",
   "metadata": {},
   "outputs": [],
   "source": [
    "# push your repo\n",
    "# Do this frequently to keep local and remote in synch\n",
    "%cd {root}/{repo_name}\n",
    "! git config user.email {your_email}\n",
    "! git config user.name {your_username}\n",
    "! git add *\n",
    "! git commit -a -m \"commiting\"\n",
    "! git pull\n",
    "! git push"
   ]
  },
  {
   "cell_type": "code",
   "execution_count": null,
   "id": "rough-anxiety",
   "metadata": {},
   "outputs": [],
   "source": [
    "# pull your repo\n",
    "# Do this frequently to keep local and remote in synch\n",
    "%cd {root}/{repo_name}\n",
    "! git pull"
   ]
  }
 ],
 "metadata": {
  "kernelspec": {
   "display_name": "Python 3",
   "language": "python",
   "name": "python3"
  },
  "language_info": {
   "codemirror_mode": {
    "name": "ipython",
    "version": 3
   },
   "file_extension": ".py",
   "mimetype": "text/x-python",
   "name": "python",
   "nbconvert_exporter": "python",
   "pygments_lexer": "ipython3",
   "version": "3.7.10"
  }
 },
 "nbformat": 4,
 "nbformat_minor": 5
}
